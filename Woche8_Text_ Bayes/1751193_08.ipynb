{
 "cells": [
  {
   "cell_type": "markdown",
   "metadata": {},
   "source": [
    "## 第16讲 作业"
   ]
  },
  {
   "cell_type": "markdown",
   "metadata": {},
   "source": [
    "### 题 1 —— 调整停用词表\n",
    "\n",
    "\n",
    "- 察看课件中第5个分类器 `clf_5` 在训练结束后得到的特征名称 `feature_names`，会找到以下的词\n",
    "    - 13-year-old、14-year-old、...\n",
    "    - 0x[a-f0-9]+\n",
    "    - 1024x1024、1024x1024x8、1024x512、...\n",
    "    - 12-point、12-step、12-story\n",
    "    - 等等\n",
    "\n",
    "\n",
    "- 这些变异单词（如\"year-old\"、\"-step\"、\"-story\"、\"...and\"等）可能也是可以放入停用词表的，试\n",
    "    - 找一些\n",
    "    - 放入停用词表中\n",
    "    - 进行分类识别分析"
   ]
  },
  {
   "cell_type": "code",
   "execution_count": 1,
   "metadata": {},
   "outputs": [],
   "source": [
    "import IPython\n",
    "import sklearn as sk\n",
    "import numpy as np\n",
    "from sklearn.model_selection import cross_val_score, KFold\n",
    "from scipy.stats import sem# 导入计算标准误差函数 sem"
   ]
  },
  {
   "cell_type": "markdown",
   "metadata": {},
   "source": [
    "### 定义一个函数 用于提取停用词\n",
    "筛选条件如下：\n",
    "* 单词长度大于1\n",
    "* 单词拼写正确\n",
    "* 不在原停用词表中"
   ]
  },
  {
   "cell_type": "code",
   "execution_count": 2,
   "metadata": {},
   "outputs": [],
   "source": [
    "from nltk.corpus import wordnet\n",
    "import re \n",
    "import enchant #拼写检查\n",
    "def Words_Filter(word_list):\n",
    "    stop_words = get_stop_words()\n",
    "    Dict = enchant.Dict(\"en_En\") \n",
    "    output=[]\n",
    "    for i in range(len(word_list)):\n",
    "        res=re.findall(r'[a-zA-Z\\-]+[a-z]', word_list[i])\n",
    "        length=len(res)\n",
    "        if length > 0:\n",
    "            for j in range(length):\n",
    "                if Dict.check(res[j]) and not res[j] in output and len(res[j])>1 and not res[j] in stop_words: \n",
    "                    output.append(res[j])\n",
    "    return output\n",
    "#####################################\n",
    "# 原课件中从txt文件中读取停用词的函数\n",
    "def get_stop_words(address='stopwords_en.txt'):\n",
    "    result = set()\n",
    "    for line in open(address, 'r').readlines():\n",
    "        result.add(line.strip())\n",
    "    return result"
   ]
  },
  {
   "cell_type": "markdown",
   "metadata": {},
   "source": [
    "### 获取 20-新闻组"
   ]
  },
  {
   "cell_type": "code",
   "execution_count": 3,
   "metadata": {},
   "outputs": [],
   "source": [
    "import sklearn.datasets as ds\n",
    "news = ds.fetch_20newsgroups(subset='all')\n",
    "SPLIT_PERC = 0.75\n",
    "split_size = int(len(news.data)*SPLIT_PERC)\n",
    "X_train = news.data[:split_size]# 样本数据 —— 训练集\n",
    "X_test = news.data[split_size:]# 样本数据 ——测试集\n",
    "y_train = news.target[:split_size]# 目标数据 —— 训练集\n",
    "y_test = news.target[split_size:]# 目标数据 —— 测试集"
   ]
  },
  {
   "cell_type": "code",
   "execution_count": 4,
   "metadata": {},
   "outputs": [],
   "source": [
    "from sklearn.feature_extraction.text import CountVectorizer, HashingVectorizer, TfidfVectorizer\n",
    "from sklearn.naive_bayes import MultinomialNB# 导入 MultinomialNB 类\n",
    "from sklearn.pipeline import Pipeline\n",
    "from sklearn import metrics\n",
    "# 定义交叉验证评价函数\n",
    "def evaluate_cross_validation(clf, X, y, K):\n",
    "    # 创建 K-折 交叉验证迭代器（5折）\n",
    "    #cv = KFold(len(y), K, shuffle=True, random_state=0)\n",
    "    cv = KFold(K, shuffle=True, random_state=0)\n",
    "    # 返回得分\n",
    "    scores = cross_val_score(clf, X, y, cv=cv)\n",
    "    print (scores)\n",
    "    print ((\"平均得分: {0:.3f} (+/-{1:.3f})\").format(\n",
    "        np.mean(scores), sem(scores)))\n",
    "stop_words = get_stop_words()\n",
    "clf_5 = Pipeline([\n",
    "    ('vect', TfidfVectorizer(\n",
    "                stop_words=stop_words,\n",
    "                token_pattern=r\"\\b[a-z0-9_\\-\\.]+[a-z][a-z0-9_\\-\\.]+\\b\",         \n",
    "    )),\n",
    "    ('clf', MultinomialNB(alpha=0.01)),\n",
    "])"
   ]
  },
  {
   "cell_type": "markdown",
   "metadata": {},
   "source": [
    "### 原始分类器clf_5得分"
   ]
  },
  {
   "cell_type": "code",
   "execution_count": 5,
   "metadata": {},
   "outputs": [
    {
     "name": "stdout",
     "output_type": "stream",
     "text": [
      "[0.9204244  0.91960732 0.91828071 0.92677103 0.91854603]\n",
      "平均得分: 0.921 (+/-0.002)\n"
     ]
    }
   ],
   "source": [
    "evaluate_cross_validation(clf_5, news.data, news.target, 5)"
   ]
  },
  {
   "cell_type": "code",
   "execution_count": 6,
   "metadata": {},
   "outputs": [],
   "source": [
    "clf_5.fit(X_train, y_train)\n",
    "y_pred = clf_5.predict(X_test)"
   ]
  },
  {
   "cell_type": "code",
   "execution_count": 7,
   "metadata": {},
   "outputs": [
    {
     "name": "stdout",
     "output_type": "stream",
     "text": [
      "原有停用词 318 个；\n",
      "共新增 42617 个停用词。\n"
     ]
    }
   ],
   "source": [
    "feature_names=clf_5.named_steps['vect'].get_feature_names()\n",
    "new_list=Words_Filter(feature_names)\n",
    "print('原有停用词',len(stop_words),'个；')\n",
    "print('共新增',len(new_list),'个停用词。')"
   ]
  },
  {
   "cell_type": "markdown",
   "metadata": {},
   "source": [
    "### 将新加入的停用词写入txt文件中"
   ]
  },
  {
   "cell_type": "code",
   "execution_count": 8,
   "metadata": {},
   "outputs": [],
   "source": [
    "with open('stopwords_en_add.txt', 'w') as file:\n",
    "    for i in range(len(new_list)):\n",
    "        s = str(new_list[i].replace('[', '')).replace(']', '')\n",
    "        s = s.replace(\"'\", '').replace(\",\", '') + '\\n'\n",
    "        file.write(s)"
   ]
  },
  {
   "cell_type": "code",
   "execution_count": 9,
   "metadata": {},
   "outputs": [],
   "source": [
    "stop_words = get_stop_words()\n",
    "stop_words_new=stop_words.copy()\n",
    "for line in open('stopwords_en_add.txt', 'r').readlines():\n",
    "        stop_words_new.add(line.strip())"
   ]
  },
  {
   "cell_type": "code",
   "execution_count": 10,
   "metadata": {},
   "outputs": [
    {
     "name": "stderr",
     "output_type": "stream",
     "text": [
      "C:\\Users\\solit\\Anaconda3\\lib\\site-packages\\sklearn\\feature_extraction\\text.py:391: UserWarning: Your stop_words may be inconsistent with your preprocessing. Tokenizing the stop words generated tokens ['a-week', 'billion-bacteria', 'bit-or-less', 'bit-per-pixel', 'bullet-sized', 'hog-announce', 'interest-request', 'square-foot', 'talk-typ', 'the-max', 'x--or'] not in stop_words.\n",
      "  'stop_words.' % sorted(inconsistent))\n",
      "C:\\Users\\solit\\Anaconda3\\lib\\site-packages\\sklearn\\feature_extraction\\text.py:391: UserWarning: Your stop_words may be inconsistent with your preprocessing. Tokenizing the stop words generated tokens ['a-week', 'billion-bacteria', 'bit-or-less', 'bit-per-pixel', 'bullet-sized', 'hog-announce', 'interest-request', 'square-foot', 'talk-typ', 'the-max', 'x--or'] not in stop_words.\n",
      "  'stop_words.' % sorted(inconsistent))\n",
      "C:\\Users\\solit\\Anaconda3\\lib\\site-packages\\sklearn\\feature_extraction\\text.py:391: UserWarning: Your stop_words may be inconsistent with your preprocessing. Tokenizing the stop words generated tokens ['a-week', 'billion-bacteria', 'bit-or-less', 'bit-per-pixel', 'bullet-sized', 'hog-announce', 'interest-request', 'square-foot', 'talk-typ', 'the-max', 'x--or'] not in stop_words.\n",
      "  'stop_words.' % sorted(inconsistent))\n",
      "C:\\Users\\solit\\Anaconda3\\lib\\site-packages\\sklearn\\feature_extraction\\text.py:391: UserWarning: Your stop_words may be inconsistent with your preprocessing. Tokenizing the stop words generated tokens ['a-week', 'billion-bacteria', 'bit-or-less', 'bit-per-pixel', 'bullet-sized', 'hog-announce', 'interest-request', 'square-foot', 'talk-typ', 'the-max', 'x--or'] not in stop_words.\n",
      "  'stop_words.' % sorted(inconsistent))\n",
      "C:\\Users\\solit\\Anaconda3\\lib\\site-packages\\sklearn\\feature_extraction\\text.py:391: UserWarning: Your stop_words may be inconsistent with your preprocessing. Tokenizing the stop words generated tokens ['a-week', 'billion-bacteria', 'bit-or-less', 'bit-per-pixel', 'bullet-sized', 'hog-announce', 'interest-request', 'square-foot', 'talk-typ', 'the-max', 'x--or'] not in stop_words.\n",
      "  'stop_words.' % sorted(inconsistent))\n"
     ]
    },
    {
     "name": "stdout",
     "output_type": "stream",
     "text": [
      "[0.86286472 0.86893075 0.86813478 0.86627753 0.86521624]\n",
      "平均得分: 0.866 (+/-0.001)\n"
     ]
    }
   ],
   "source": [
    "clf_6_1 = Pipeline([\n",
    "    ('vect', TfidfVectorizer(\n",
    "                stop_words=stop_words_new,\n",
    "                token_pattern=r\"\\b[a-z0-9_\\-\\.]+[a-z][a-z0-9_\\-\\.]+\\b\",         \n",
    "    )),\n",
    "    ('clf', MultinomialNB(alpha=0.01)),\n",
    "])\n",
    "evaluate_cross_validation(clf_6_1, news.data, news.target, 5)"
   ]
  },
  {
   "cell_type": "markdown",
   "metadata": {},
   "source": [
    "### 结果分析\n",
    "* 得分较之前更低，表明停用词选取不当;\n",
    "\n",
    "#### 观察提取的新停用词所得到的txt文件，分析原因如下：\n",
    "* 所选的停用词过多，其中很大一部分是用于判断文本类型的，而如果加入停用词中，势必会削弱分类器的判断能力，因为停用词即意味着不采用这些词作为判断依据。\n",
    "\n",
    "### 改进方法：\n",
    "* 选取前856个明显的非实义词作为新停用词"
   ]
  },
  {
   "cell_type": "code",
   "execution_count": 26,
   "metadata": {},
   "outputs": [
    {
     "name": "stdout",
     "output_type": "stream",
     "text": [
      "新加入 856 作为停用词。\n"
     ]
    }
   ],
   "source": [
    "stop_words = get_stop_words()\n",
    "stop_words_new=stop_words.copy()\n",
    "file=open ('stopwords_en_add.txt', 'r') \n",
    "for line in file.readlines()[0:856]:#选取前856个明显的非实义词作为新停用词\n",
    "    stop_words_new.add(line.strip())\n",
    "print(\"新加入\",len(stop_words_new)-len(stop_words),\"个单词作为停用词。\")\n",
    "#for line in open('stop_words_1000.txt', 'r').readlines():\n",
    "#        stop_words_new.add(line.strip())"
   ]
  },
  {
   "cell_type": "code",
   "execution_count": 27,
   "metadata": {},
   "outputs": [
    {
     "name": "stderr",
     "output_type": "stream",
     "text": [
      "C:\\Users\\solit\\Anaconda3\\lib\\site-packages\\sklearn\\feature_extraction\\text.py:391: UserWarning: Your stop_words may be inconsistent with your preprocessing. Tokenizing the stop words generated tokens ['a-week', 'acre', 'arm', 'att', 'band', 'bands', 'banger', 'based', 'beam', 'bedroom', 'billion-bacteria', 'binaries', 'bit-or-less', 'bit-per-pixel', 'bullet-sized', 'buried', 'button', 'buttons', 'cancellation', 'cancer', 'capitals', 'channel', 'char', 'character', 'chip', 'colour', 'column', 'compatible', 'cover', 'crash', 'crinkled', 'cylinder', 'cylinders', 'dbl', 'defects', 'degrees', 'devils', 'digit', 'digital', 'dimensional', 'disc', 'disk', 'dram', 'early', 'element', 'fastest', 'flames', 'foot', 'footer', 'gallon', 'game', 'gate', 'gauge', 'gigabyte', 'goal', 'headed', 'hit', 'hitter', 'hog-announce', 'hole', 'hour', 'hours', 'info', 'interlacing', 'islanders', 'issue', 'jets', 'key', 'kilogram', 'layer', 'legged', 'letter', 'line', 'loss', 'macs', 'man', 'maple', 'maxwell', 'meter', 'micron', 'mile', 'millisecond', 'minute', 'month-old', 'nanosecond', 'net', 'newton', 'odd', 'pack', 'page', 'pages', 'paper', 'patch', 'penguins', 'picture', 'piece', 'pkg', 'plane', 'planes', 'pole', 'port', 'ports', 'pound', 'present', 'processor', 'psi', 'red', 'removing', 'restricted', 'round', 'run', 'satellite', 'screen', 'sector', 'segment', 'sheet', 'shipping', 'sized', 'slice', 'slide', 'slight', 'slot', 'small', 'sorry', 'speaker', 'speeds', 'spine', 'sport', 'square-foot', 'stage', 'star', 'step', 'stick', 'story', 'straight', 'stroke', 'strokes', 'strong', 'style', 'talk-typ', 'tech', 'the-max', 'tier', 'time', 'tiny', 'ton', 'track', 'trainer', 'vectors', 'vertex', 'way', 'week-long', 'weight', 'wheelers', 'wire', 'x--or', 'year-old'] not in stop_words.\n",
      "  'stop_words.' % sorted(inconsistent))\n",
      "C:\\Users\\solit\\Anaconda3\\lib\\site-packages\\sklearn\\feature_extraction\\text.py:391: UserWarning: Your stop_words may be inconsistent with your preprocessing. Tokenizing the stop words generated tokens ['a-week', 'acre', 'arm', 'att', 'band', 'bands', 'banger', 'based', 'beam', 'bedroom', 'billion-bacteria', 'binaries', 'bit-or-less', 'bit-per-pixel', 'bullet-sized', 'buried', 'button', 'buttons', 'cancellation', 'cancer', 'capitals', 'channel', 'char', 'character', 'chip', 'colour', 'column', 'compatible', 'cover', 'crash', 'crinkled', 'cylinder', 'cylinders', 'dbl', 'defects', 'degrees', 'devils', 'digit', 'digital', 'dimensional', 'disc', 'disk', 'dram', 'early', 'element', 'fastest', 'flames', 'foot', 'footer', 'gallon', 'game', 'gate', 'gauge', 'gigabyte', 'goal', 'headed', 'hit', 'hitter', 'hog-announce', 'hole', 'hour', 'hours', 'info', 'interlacing', 'islanders', 'issue', 'jets', 'key', 'kilogram', 'layer', 'legged', 'letter', 'line', 'loss', 'macs', 'man', 'maple', 'maxwell', 'meter', 'micron', 'mile', 'millisecond', 'minute', 'month-old', 'nanosecond', 'net', 'newton', 'odd', 'pack', 'page', 'pages', 'paper', 'patch', 'penguins', 'picture', 'piece', 'pkg', 'plane', 'planes', 'pole', 'port', 'ports', 'pound', 'present', 'processor', 'psi', 'red', 'removing', 'restricted', 'round', 'run', 'satellite', 'screen', 'sector', 'segment', 'sheet', 'shipping', 'sized', 'slice', 'slide', 'slight', 'slot', 'small', 'sorry', 'speaker', 'speeds', 'spine', 'sport', 'square-foot', 'stage', 'star', 'step', 'stick', 'story', 'straight', 'stroke', 'strokes', 'strong', 'style', 'talk-typ', 'tech', 'the-max', 'tier', 'time', 'tiny', 'ton', 'track', 'trainer', 'vectors', 'vertex', 'way', 'week-long', 'weight', 'wheelers', 'wire', 'x--or', 'year-old'] not in stop_words.\n",
      "  'stop_words.' % sorted(inconsistent))\n",
      "C:\\Users\\solit\\Anaconda3\\lib\\site-packages\\sklearn\\feature_extraction\\text.py:391: UserWarning: Your stop_words may be inconsistent with your preprocessing. Tokenizing the stop words generated tokens ['a-week', 'acre', 'arm', 'att', 'band', 'bands', 'banger', 'based', 'beam', 'bedroom', 'billion-bacteria', 'binaries', 'bit-or-less', 'bit-per-pixel', 'bullet-sized', 'buried', 'button', 'buttons', 'cancellation', 'cancer', 'capitals', 'channel', 'char', 'character', 'chip', 'colour', 'column', 'compatible', 'cover', 'crash', 'crinkled', 'cylinder', 'cylinders', 'dbl', 'defects', 'degrees', 'devils', 'digit', 'digital', 'dimensional', 'disc', 'disk', 'dram', 'early', 'element', 'fastest', 'flames', 'foot', 'footer', 'gallon', 'game', 'gate', 'gauge', 'gigabyte', 'goal', 'headed', 'hit', 'hitter', 'hog-announce', 'hole', 'hour', 'hours', 'info', 'interlacing', 'islanders', 'issue', 'jets', 'key', 'kilogram', 'layer', 'legged', 'letter', 'line', 'loss', 'macs', 'man', 'maple', 'maxwell', 'meter', 'micron', 'mile', 'millisecond', 'minute', 'month-old', 'nanosecond', 'net', 'newton', 'odd', 'pack', 'page', 'pages', 'paper', 'patch', 'penguins', 'picture', 'piece', 'pkg', 'plane', 'planes', 'pole', 'port', 'ports', 'pound', 'present', 'processor', 'psi', 'red', 'removing', 'restricted', 'round', 'run', 'satellite', 'screen', 'sector', 'segment', 'sheet', 'shipping', 'sized', 'slice', 'slide', 'slight', 'slot', 'small', 'sorry', 'speaker', 'speeds', 'spine', 'sport', 'square-foot', 'stage', 'star', 'step', 'stick', 'story', 'straight', 'stroke', 'strokes', 'strong', 'style', 'talk-typ', 'tech', 'the-max', 'tier', 'time', 'tiny', 'ton', 'track', 'trainer', 'vectors', 'vertex', 'way', 'week-long', 'weight', 'wheelers', 'wire', 'x--or', 'year-old'] not in stop_words.\n",
      "  'stop_words.' % sorted(inconsistent))\n",
      "C:\\Users\\solit\\Anaconda3\\lib\\site-packages\\sklearn\\feature_extraction\\text.py:391: UserWarning: Your stop_words may be inconsistent with your preprocessing. Tokenizing the stop words generated tokens ['a-week', 'acre', 'arm', 'att', 'band', 'bands', 'banger', 'based', 'beam', 'bedroom', 'billion-bacteria', 'binaries', 'bit-or-less', 'bit-per-pixel', 'bullet-sized', 'buried', 'button', 'buttons', 'cancellation', 'cancer', 'capitals', 'channel', 'char', 'character', 'chip', 'colour', 'column', 'compatible', 'cover', 'crash', 'crinkled', 'cylinder', 'cylinders', 'dbl', 'defects', 'degrees', 'devils', 'digit', 'digital', 'dimensional', 'disc', 'disk', 'dram', 'early', 'element', 'fastest', 'flames', 'foot', 'footer', 'gallon', 'game', 'gate', 'gauge', 'gigabyte', 'goal', 'headed', 'hit', 'hitter', 'hog-announce', 'hole', 'hour', 'hours', 'info', 'interlacing', 'islanders', 'issue', 'jets', 'key', 'kilogram', 'layer', 'legged', 'letter', 'line', 'loss', 'macs', 'man', 'maple', 'maxwell', 'meter', 'micron', 'mile', 'millisecond', 'minute', 'month-old', 'nanosecond', 'net', 'newton', 'odd', 'pack', 'page', 'pages', 'paper', 'patch', 'penguins', 'picture', 'piece', 'pkg', 'plane', 'planes', 'pole', 'port', 'ports', 'pound', 'present', 'processor', 'psi', 'red', 'removing', 'restricted', 'round', 'run', 'satellite', 'screen', 'sector', 'segment', 'sheet', 'shipping', 'sized', 'slice', 'slide', 'slight', 'slot', 'small', 'sorry', 'speaker', 'speeds', 'spine', 'sport', 'square-foot', 'stage', 'star', 'step', 'stick', 'story', 'straight', 'stroke', 'strokes', 'strong', 'style', 'talk-typ', 'tech', 'the-max', 'tier', 'time', 'tiny', 'ton', 'track', 'trainer', 'vectors', 'vertex', 'way', 'week-long', 'weight', 'wheelers', 'wire', 'x--or', 'year-old'] not in stop_words.\n",
      "  'stop_words.' % sorted(inconsistent))\n",
      "C:\\Users\\solit\\Anaconda3\\lib\\site-packages\\sklearn\\feature_extraction\\text.py:391: UserWarning: Your stop_words may be inconsistent with your preprocessing. Tokenizing the stop words generated tokens ['a-week', 'acre', 'arm', 'att', 'band', 'bands', 'banger', 'based', 'beam', 'bedroom', 'billion-bacteria', 'binaries', 'bit-or-less', 'bit-per-pixel', 'bullet-sized', 'buried', 'button', 'buttons', 'cancellation', 'cancer', 'capitals', 'channel', 'char', 'character', 'chip', 'colour', 'column', 'compatible', 'cover', 'crash', 'crinkled', 'cylinder', 'cylinders', 'dbl', 'defects', 'degrees', 'devils', 'digit', 'digital', 'dimensional', 'disc', 'disk', 'dram', 'early', 'element', 'fastest', 'flames', 'foot', 'footer', 'gallon', 'game', 'gate', 'gauge', 'gigabyte', 'goal', 'headed', 'hit', 'hitter', 'hog-announce', 'hole', 'hour', 'hours', 'info', 'interlacing', 'islanders', 'issue', 'jets', 'key', 'kilogram', 'layer', 'legged', 'letter', 'line', 'loss', 'macs', 'man', 'maple', 'maxwell', 'meter', 'micron', 'mile', 'millisecond', 'minute', 'month-old', 'nanosecond', 'net', 'newton', 'odd', 'pack', 'page', 'pages', 'paper', 'patch', 'penguins', 'picture', 'piece', 'pkg', 'plane', 'planes', 'pole', 'port', 'ports', 'pound', 'present', 'processor', 'psi', 'red', 'removing', 'restricted', 'round', 'run', 'satellite', 'screen', 'sector', 'segment', 'sheet', 'shipping', 'sized', 'slice', 'slide', 'slight', 'slot', 'small', 'sorry', 'speaker', 'speeds', 'spine', 'sport', 'square-foot', 'stage', 'star', 'step', 'stick', 'story', 'straight', 'stroke', 'strokes', 'strong', 'style', 'talk-typ', 'tech', 'the-max', 'tier', 'time', 'tiny', 'ton', 'track', 'trainer', 'vectors', 'vertex', 'way', 'week-long', 'weight', 'wheelers', 'wire', 'x--or', 'year-old'] not in stop_words.\n",
      "  'stop_words.' % sorted(inconsistent))\n"
     ]
    },
    {
     "name": "stdout",
     "output_type": "stream",
     "text": [
      "[0.91777188 0.9169541  0.91668878 0.92544441 0.91668878]\n",
      "平均得分: 0.919 (+/-0.002)\n"
     ]
    }
   ],
   "source": [
    "clf_6_2 = Pipeline([\n",
    "    ('vect', TfidfVectorizer(\n",
    "                stop_words=stop_words_new,\n",
    "                token_pattern=r\"\\b[a-z0-9_\\-\\.]+[a-z][a-z0-9_\\-\\.]+\\b\",         \n",
    "    )),\n",
    "    ('clf', MultinomialNB(alpha=0.01)),\n",
    "])\n",
    "evaluate_cross_validation(clf_6_2, news.data, news.target, 5)"
   ]
  },
  {
   "cell_type": "markdown",
   "metadata": {},
   "source": [
    "### 结果分析：\n",
    "* 得分比原始得分略低，但好于之前的clf6_1\n",
    "* 说明依旧有一些停用词其实是原本作为重要的判断依据的，将他们加入停用词中，会降低得分\n",
    "\n",
    "### 改进方法：\n",
    "* 由于1. feature_name 中的特征词过于庞大，多大约14万；2.本身停用词和直接用于判断的词的定义较为模糊 所以难以筛选出较合适的停用词\n",
    "* 所以决定试试在网上用一个更为庞大的停用词库，该库不针对本数据集。"
   ]
  },
  {
   "cell_type": "code",
   "execution_count": 30,
   "metadata": {},
   "outputs": [
    {
     "name": "stdout",
     "output_type": "stream",
     "text": [
      "从网上下载的新停用词库包含 666 个停用词。\n"
     ]
    }
   ],
   "source": [
    "stop_words_long={'soon', 'wasnt', 'thereupon', 'hardly', 'herself', 'getting', 'means', 'against', 'nonetheless', 'per', 'recently', 'take', 'last', 'so', 'often', \"shouldn't\", 'during', 'around', 'therere', 'outside', 'selves', 'sent', 'whim', 'sec', 'significantly', 'same', 'end', 'whos', 'that', 'could', 'obtained', 'over', 'moreover', 'enough', 'five', 'g', 'through', 'particular', 'latterly', 'toward', 'willing', 'hid', 'and', 'both', 'm', 'biol', 'stop', 'act', 'thus', 'abst', 'thou', 'otherwise', 'id', 'anyone', 'somewhat', 'whereafter', 'self', 'theyre', 'y', \"who'll\", 'besides', 'j', 'whenever', 'important', 'nowhere', 'youd', 'about', 'within', 'thank', 'u', 'them', 'seemed', 'theres', 'affects', \"i've\", 'nearly', \"didn't\", 'if', 'regardless', 'without', 'her', 'inc', 'itd', 'miss', 'but', 'gave', 'this', 'an', 'ever', 'www', 'co', 'respectively', 'apparently', 'say', 'herein', 'tries', 'various', 'though', 'needs', 'specified', 'ts', 'yes', 'vs', 'anyways', 'she', 'awfully', 'nor', 'might', 'particularly', 'relatively', 'along', 'anyway', 'ord', 'beforehand', 'therein', 'due', 'regarding', 'old', 'couldnt', 'whatever', 'inward', 'que', 'let', 'present', 'need', 'amongst', 'show', 'unless', 'they', 'hereupon', 'know', 'sup', 'edu', 'unlike', 'thoughh', 'however', 'has', 'b', 'hers', 'invention', 'nay', 'readily', \"there'll\", 'below', 'taken', 'viz', 'twice', 'became', 'into', 'also', 'says', 'adj', 'each', 'rd', 'somebody', 'lately', 'possible', 'elsewhere', 'giving', 'him', 'sometimes', 'whether', 'especially', 'which', 'ourselves', 'beginnings', 'e', 'than', 'because', 'arise', 'whence', 'whereupon', \"you'll\", 'happens', 'similarly', 'between', 'pp', 'seven', 'almost', 'accordance', 'unfortunately', 'certain', 'whod', 'w', 'something', 'suggest', 'by', 'sorry', \"you've\", 'later', 'somethan', 'gone', 'pages', 'ed', \"can't\", 'way', 'further', 'me', 'when', 'of', \"they'll\", 'got', 'importance', 'obviously', 'myself', 'anybody', 'related', 'resulted', 'on', 'merely', 'mostly', 'contain', 'give', 'necessary', 'ought', 'latter', 'past', 'un', 'noone', 'formerly', 'beside', 'research', 'sub', 'given', 'home', 'whereas', 'z', 'wouldnt', 'theyd', 'causes', \"'ve\", 'wed', 't', 'do', 'thereto', 'obtain', 'line', 'together', 'ending', 'usefully', 'makes', 'yourselves', 'meanwhile', 'is', 'although', 'million', 'in', 'shows', 'according', 'up', 'use', 'liked', 'your', 'no', 'beyond', 'available', 'what', 'et', 'another', 'very', 'whither', 'eight', 'behind', 'affecting', 'either', 'hi', \"i'll\", 'known', 'ask', 'as', 'he', 'plus', 'then', 'being', 'among', 'km', 'actually', 'provides', 'saying', 'doing', 'followed', 'make', 'truly', 'upon', 'page', 'whoever', 'refs', 'oh', 'etc', 'other', 'containing', 'results', 'others', 'largely', 'am', 'necessarily', 'hence', 'look', 'few', 'a', 'there', 'mrs', 'those', 'p', 'towards', 'vol', 'thru', 'im', 'thereafter', 'namely', 'quite', 'first', 'his', 'tends', 'n', 'shed', 'really', 'aside', 'index', 'youre', 'ah', 'f', 'did', 'world', 'thereof', 'words', 'lets', 'back', 'tell', 'two', 'we', 'meantime', 'com', 'six', \"don't\", 'for', 'contains', 'every', 'must', 'none', 'specify', 'thered', \"we've\", 'too', 'immediately', 'here', 'specifying', 'werent', 'showns', 'downwards', 'throughout', 'ml', 'former', 'near', 'name', 'came', 'should', 'who', 'announce', 'their', 'wont', 'anyhow', 'its', \"haven't\", 'immediate', 'uses', 'are', 'ok', 'ours', 'fix', 'predominantly', 'everything', 'itself', 'throug', 'aren', 'my', 'useful', \"hasn't\", 'added', 'heres', 'run', 'arent', 'down', 'thereby', 'poorly', 'any', 'na', 'the', 'always', 'wheres', 'til', 'certainly', 'come', 'affected', 'information', 'ref', 'specifically', 'hundred', 'anywhere', 'follows', 'still', 'whomever', 'previously', 'welcome', 'above', 'tried', 're', 'mr', 'okay', 'thats', 'everybody', 'mug', 'thanks', 'while', 'even', 'many', 'somewhere', 'eighty', 'ones', 'far', 'able', 'section', 'except', 'vols', 'l', 'alone', 'ran', 'taking', 'fifth', 'where', 'these', 'auth', \"they've\", 'get', 'eg', 'et-al', 'yet', 'across', 'different', 'primarily', 'becomes', 'strongly', 'th', \"that've\", 'v', 'h', 'our', 'much', 'themselves', 'whom', 'took', 'new', 'potentially', 'likely', 'ex', 'several', 'less', 's', 'since', 'nobody', 'resulting', 'noted', 'similar', 'not', 'seeming', 'to', 'neither', 'off', 'out', 'maybe', 'may', 'furthermore', 'sufficiently', 'wants', 'approximately', \"we'll\", 'kept', 'himself', 'showed', 'had', 'whats', 'slightly', 'again', 'lest', 'knows', 'why', 'goes', 'least', 'afterwards', 'theirs', 'beginning', 'want', 'four', 'accordingly', 'following', 'more', 'some', 'saw', 'becoming', 'part', 'try', 'ie', 'made', 'anything', 'kg', 'ups', 'anymore', 'qv', 'until', 'briefly', \"it'll\", 'yours', 'cause', 'used', 'nine', 'one', 'thence', 'were', 'just', 'found', 'unlikely', 'gets', 'see', 'somehow', 'begin', 'own', 'widely', 'shes', 'yourself', 'go', 'have', 'mean', 'now', 'from', 'keep\\tkeeps', 'wish', 'or', 'someone', 'looking', 'everyone', 'howbeit', 'rather', \"what'll\", 'become', 'normally', 'once', 'only', 'usefulness', 'be', 'said', 'hereby', 'usually', 'substantially', 'would', 'significant', \"there've\", 'wherever', 'probably', 'can', 'comes', 'it', 'seem', \"'ll\", 'o', 'how', 'been', 'k', 'possibly', 'shown', 'seems', 'next', 'hes', 'ninety', 'omitted', 'us', 'cannot', 'wherein', 'perhaps', 'you', 'everywhere', 'with', 'ltd', 'already', 'nothing', 'c', 'recent', 'hed', 'value', \"doesn't\", 'ff', 'overall', 'successfully', 'believe', 'nevertheless', 'having', 'never', 'thanx', 'most', 'owing', 'under', 'x', 'before', 'went', 'nd', 'think', 'all', 'was', 'onto', 'asking', 'at', 'thousand', 'seen', 'trying', 'quickly', 'mainly', \"that'll\", 'mg', 'whole', 'therefore', 'such', 'unto', 'brief', 'using', 'seeing', 'gotten', 'q', 'r', 'whose', 'after', 'little', 'non', \"isn't\", 'instead', 'done', 'shall', 'looks', 'else', 'hither', 'proud', 'hereafter', 'd', 'i', 'sometime', 'placed', 'zero', 'indeed', 'nos', 'regards', 'via', 'date', 'ca', 'like', 'sure', 'please', 'effect', 'away', 'begins', 'gives', 'promptly', 'forth', 'put', 'tip', 'whereby', 'right', 'does', \"she'll\"}\n",
    "print(\"从网上下载的新停用词库包含\",len(stop_words_long),\"个停用词。\")"
   ]
  },
  {
   "cell_type": "code",
   "execution_count": 31,
   "metadata": {},
   "outputs": [
    {
     "name": "stderr",
     "output_type": "stream",
     "text": [
      "C:\\Users\\solit\\Anaconda3\\lib\\site-packages\\sklearn\\feature_extraction\\text.py:391: UserWarning: Your stop_words may be inconsistent with your preprocessing. Tokenizing the stop words generated tokens ['didn', 'doesn', 'don', 'hasn', 'haven', 'isn', 'keep', 'keeps', 'shouldn'] not in stop_words.\n",
      "  'stop_words.' % sorted(inconsistent))\n",
      "C:\\Users\\solit\\Anaconda3\\lib\\site-packages\\sklearn\\feature_extraction\\text.py:391: UserWarning: Your stop_words may be inconsistent with your preprocessing. Tokenizing the stop words generated tokens ['didn', 'doesn', 'don', 'hasn', 'haven', 'isn', 'keep', 'keeps', 'shouldn'] not in stop_words.\n",
      "  'stop_words.' % sorted(inconsistent))\n",
      "C:\\Users\\solit\\Anaconda3\\lib\\site-packages\\sklearn\\feature_extraction\\text.py:391: UserWarning: Your stop_words may be inconsistent with your preprocessing. Tokenizing the stop words generated tokens ['didn', 'doesn', 'don', 'hasn', 'haven', 'isn', 'keep', 'keeps', 'shouldn'] not in stop_words.\n",
      "  'stop_words.' % sorted(inconsistent))\n",
      "C:\\Users\\solit\\Anaconda3\\lib\\site-packages\\sklearn\\feature_extraction\\text.py:391: UserWarning: Your stop_words may be inconsistent with your preprocessing. Tokenizing the stop words generated tokens ['didn', 'doesn', 'don', 'hasn', 'haven', 'isn', 'keep', 'keeps', 'shouldn'] not in stop_words.\n",
      "  'stop_words.' % sorted(inconsistent))\n",
      "C:\\Users\\solit\\Anaconda3\\lib\\site-packages\\sklearn\\feature_extraction\\text.py:391: UserWarning: Your stop_words may be inconsistent with your preprocessing. Tokenizing the stop words generated tokens ['didn', 'doesn', 'don', 'hasn', 'haven', 'isn', 'keep', 'keeps', 'shouldn'] not in stop_words.\n",
      "  'stop_words.' % sorted(inconsistent))\n"
     ]
    },
    {
     "name": "stdout",
     "output_type": "stream",
     "text": [
      "[0.92175066 0.92013797 0.91960732 0.92517909 0.91960732]\n",
      "平均得分: 0.921 (+/-0.001)\n"
     ]
    }
   ],
   "source": [
    "clf_6_3 = Pipeline([\n",
    "    ('vect', TfidfVectorizer(\n",
    "                stop_words=stop_words_long,\n",
    "                token_pattern=r\"\\b[a-z0-9_\\-\\.]+[a-z][a-z0-9_\\-\\.]+\\b\",         \n",
    "    )),\n",
    "    ('clf', MultinomialNB(alpha=0.01)),\n",
    "])\n",
    "evaluate_cross_validation(clf_6_3, news.data, news.target, 5)"
   ]
  },
  {
   "cell_type": "code",
   "execution_count": 36,
   "metadata": {},
   "outputs": [
    {
     "name": "stdout",
     "output_type": "stream",
     "text": [
      "clf_5的测试精度：\n",
      "训练集精度： 0.9969576906749682\n",
      "测试集精度： 0.9178692699490663 \n",
      "\n",
      "clf_6_3的测试精度：\n",
      "训练集精度： 0.9971699448139238\n",
      "测试集精度： 0.9199915110356537 \n",
      "\n"
     ]
    }
   ],
   "source": [
    "def Train_and_evaluate(clf, X_train, X_test, y_train, y_test):\n",
    "    clf.fit(X_train, y_train)\n",
    "    print (\"训练集精度：\",clf.score(X_train, y_train))\n",
    "    print (\"测试集精度：\",clf.score(X_test, y_test),'\\n')\n",
    "print(\"clf_5的测试精度：\")\n",
    "Train_and_evaluate(clf_5, X_train, X_test, y_train, y_test)\n",
    "print(\"clf_6_3的测试精度：\")\n",
    "Train_and_evaluate(clf_6_3, X_train, X_test, y_train, y_test)"
   ]
  },
  {
   "cell_type": "markdown",
   "metadata": {},
   "source": [
    "### 结果分析：\n",
    "* 较原始的得分略有进步；\n",
    "* 由于该停用词库针对所有文本，并不针对本数据集，所以优势并不明显"
   ]
  },
  {
   "cell_type": "markdown",
   "metadata": {},
   "source": [
    "### 采用NLTK的stopwords包效果也不理想"
   ]
  },
  {
   "cell_type": "code",
   "execution_count": 37,
   "metadata": {},
   "outputs": [
    {
     "name": "stderr",
     "output_type": "stream",
     "text": [
      "[nltk_data] Downloading package stopwords to\n",
      "[nltk_data]     C:\\Users\\solit\\AppData\\Roaming\\nltk_data...\n",
      "[nltk_data]   Unzipping corpora\\stopwords.zip.\n"
     ]
    },
    {
     "data": {
      "text/plain": [
       "True"
      ]
     },
     "execution_count": 37,
     "metadata": {},
     "output_type": "execute_result"
    }
   ],
   "source": [
    "import nltk; nltk.download('stopwords')"
   ]
  },
  {
   "cell_type": "code",
   "execution_count": 38,
   "metadata": {},
   "outputs": [
    {
     "name": "stdout",
     "output_type": "stream",
     "text": [
      "[0.9198939  0.919342   0.91748474 0.9265057  0.91881136]\n",
      "平均得分: 0.920 (+/-0.002)\n"
     ]
    }
   ],
   "source": [
    "# NLTK Stop words\n",
    "from nltk.corpus import stopwords\n",
    "stop_words_nltk = stopwords.words('english')\n",
    "stop_words_nltk.extend(['from', 'subject', 're', 'use'])\n",
    "clf_6_4 = Pipeline([\n",
    "    ('vect', TfidfVectorizer(\n",
    "                stop_words=stop_words_nltk,\n",
    "                token_pattern=r\"\\b[a-z0-9_\\-\\.]+[a-z][a-z0-9_\\-\\.]+\\b\",         \n",
    "    )),\n",
    "    ('clf', MultinomialNB(alpha=0.01)),\n",
    "])\n",
    "evaluate_cross_validation(clf_6_4, news.data, news.target, 5)"
   ]
  },
  {
   "cell_type": "markdown",
   "metadata": {},
   "source": [
    "### 题 2 —— 采用 `CountVectorizer` 分类器进行调参分析\n",
    "\n",
    "\n",
    "- 复习课件中对文本特征提取工具对象 `TfidfVectorizer()` 进行的调参\n",
    "\n",
    "\n",
    "- 采用 `CountVectorizer()` 对象，并调整参数，尝试改进分类器\n",
    "    - 第一次调参\n",
    "        - token_pattern=r\"\\\\b[a-z0-9_\\\\-\\\\.]+[a-z][a-z0-9_\\\\-\\\\.]+\\\\b\"\n",
    "    - 第二次调参\n",
    "        - token_pattern=r\"\\\\b[a-z0-9_\\\\-\\\\.]+[a-z][a-z0-9_\\\\-\\\\.]+\\\\b\"\n",
    "        - stop_words —— 取自文件 'data/stopwords_en.txt'\n",
    "\n",
    "\n",
    "- 要求\n",
    "    - 分类器对象采用管线生成\n",
    "    - 进行交叉验证评价\n",
    "    - 最后采用得分最高的分类器，对训练集和测试集进行验证\n",
    "    - 输出分类测试报告"
   ]
  },
  {
   "cell_type": "code",
   "execution_count": 32,
   "metadata": {},
   "outputs": [],
   "source": [
    "def train_and_evaluate(clf, X_train, X_test, y_train, y_test):\n",
    "    clf.fit(X_train, y_train)\n",
    "    print (\"训练集精度 Accuracy：\")\n",
    "    print (clf.score(X_train, y_train))\n",
    "    print (\"测试集精度 Accuracy：\")\n",
    "    print (clf.score(X_test, y_test))\n",
    "    y_pred = clf.predict(X_test)\n",
    "    print (\"分类测试报告：\")\n",
    "    print (metrics.classification_report(y_test, y_pred))\n",
    "    print (\"混淆矩阵：\")\n",
    "    print (metrics.confusion_matrix(y_test, y_pred))"
   ]
  },
  {
   "cell_type": "markdown",
   "metadata": {},
   "source": [
    "### 第一次调参\n",
    "* token_pattern=r\"\\\\b[a-z0-9_\\\\-\\\\.]+[a-z][a-z0-9_\\\\-\\\\.]+\\\\b\""
   ]
  },
  {
   "cell_type": "code",
   "execution_count": 77,
   "metadata": {},
   "outputs": [
    {
     "name": "stdout",
     "output_type": "stream",
     "text": [
      "[0.88222812 0.87795171 0.8694614  0.88113558 0.85911382]\n",
      "平均得分: 0.874 (+/-0.004)\n"
     ]
    }
   ],
   "source": [
    "clf_7 = Pipeline([\n",
    "    ('vect', CountVectorizer(token_pattern=r\"\\b[a-z0-9_\\-\\.]+[a-z][a-z0-9_\\-\\.]+\\b\")),\n",
    "    ('clf', MultinomialNB()),  #光滑化处理\n",
    "])\n",
    "evaluate_cross_validation(clf_7, news.data, news.target, 5)"
   ]
  },
  {
   "cell_type": "markdown",
   "metadata": {},
   "source": [
    "### 第二次调参\n",
    "* token_pattern=r\"\\\\b[a-z0-9_\\\\-\\\\.]+[a-z][a-z0-9_\\\\-\\\\.]+\\\\b\"\n",
    "* stop_words —— 取自文件 'data/stopwords_en.txt'"
   ]
  },
  {
   "cell_type": "code",
   "execution_count": 79,
   "metadata": {},
   "outputs": [
    {
     "name": "stdout",
     "output_type": "stream",
     "text": [
      "[0.89681698 0.89493234 0.88829928 0.8991775  0.88166622]\n",
      "平均得分: 0.892 (+/-0.003)\n"
     ]
    }
   ],
   "source": [
    "stop_words = get_stop_words()\n",
    "clf_8 = Pipeline([\n",
    "    ('vect', CountVectorizer(\n",
    "                             stop_words=stop_words,\n",
    "                             token_pattern=r\"\\b[a-z0-9_\\-\\.]+[a-z][a-z0-9_\\-\\.]+\\b\"\n",
    "    )),\n",
    "    ('clf', MultinomialNB()),  #光滑化处理\n",
    "])\n",
    "evaluate_cross_validation(clf_8, news.data, news.target, 5)"
   ]
  },
  {
   "cell_type": "markdown",
   "metadata": {},
   "source": [
    "### 对训练集和测试集进行验证\n",
    "### 同时输出分类测试报告"
   ]
  },
  {
   "cell_type": "code",
   "execution_count": 80,
   "metadata": {},
   "outputs": [
    {
     "name": "stdout",
     "output_type": "stream",
     "text": [
      "训练集精度 Accuracy：\n",
      "0.9707089288241121\n",
      "测试集精度 Accuracy：\n",
      "0.890704584040747\n",
      "分类测试报告：\n",
      "              precision    recall  f1-score   support\n",
      "\n",
      "           0       0.91      0.87      0.89       216\n",
      "           1       0.70      0.89      0.78       246\n",
      "           2       0.97      0.61      0.75       274\n",
      "           3       0.73      0.89      0.80       235\n",
      "           4       0.89      0.91      0.90       231\n",
      "           5       0.86      0.91      0.89       225\n",
      "           6       0.90      0.74      0.81       248\n",
      "           7       0.92      0.91      0.91       275\n",
      "           8       0.96      0.96      0.96       226\n",
      "           9       0.97      0.96      0.96       250\n",
      "          10       0.98      0.99      0.99       257\n",
      "          11       0.90      0.98      0.94       261\n",
      "          12       0.91      0.88      0.90       216\n",
      "          13       0.96      0.94      0.95       257\n",
      "          14       0.92      0.95      0.93       246\n",
      "          15       0.84      0.94      0.89       234\n",
      "          16       0.84      0.96      0.90       218\n",
      "          17       0.93      0.99      0.96       236\n",
      "          18       0.88      0.85      0.87       213\n",
      "          19       0.94      0.61      0.74       148\n",
      "\n",
      "    accuracy                           0.89      4712\n",
      "   macro avg       0.90      0.89      0.89      4712\n",
      "weighted avg       0.90      0.89      0.89      4712\n",
      "\n",
      "混淆矩阵：\n",
      "[[188   0   0   0   0   1   0   0   1   0   0   0   0   1   0  16   1   3\n",
      "    1   4]\n",
      " [  0 218   1   6   1   7   1   0   0   1   0   5   1   1   1   0   0   1\n",
      "    2   0]\n",
      " [  1  28 166  44   3  21   0   1   0   1   0   4   0   0   3   0   1   0\n",
      "    1   0]\n",
      " [  0   9   1 208   7   2   4   0   0   0   0   1   1   0   2   0   0   0\n",
      "    0   0]\n",
      " [  0   6   1   4 211   0   4   0   0   0   0   1   3   0   1   0   0   0\n",
      "    0   0]\n",
      " [  0  15   0   0   1 205   0   0   0   1   0   0   0   0   1   0   0   1\n",
      "    1   0]\n",
      " [  0   8   0  15   7   0 184  15   1   1   1   2   5   2   1   0   3   2\n",
      "    1   0]\n",
      " [  0   2   0   1   0   1   5 249   3   1   0   2   4   1   0   0   3   0\n",
      "    3   0]\n",
      " [  0   1   0   1   0   0   3   1 217   0   0   1   0   0   1   0   1   0\n",
      "    0   0]\n",
      " [  0   2   0   0   0   0   0   0   1 239   3   0   1   1   0   1   1   0\n",
      "    1   0]\n",
      " [  0   1   0   0   0   0   0   0   0   0 255   0   1   0   0   0   0   0\n",
      "    0   0]\n",
      " [  0   2   0   0   0   0   0   0   0   0   0 257   0   0   0   0   1   0\n",
      "    1   0]\n",
      " [  0   6   0   4   6   0   1   1   0   1   0   1 191   0   4   0   0   0\n",
      "    1   0]\n",
      " [  1   2   0   0   0   0   0   1   1   0   0   1   1 241   4   1   2   1\n",
      "    1   0]\n",
      " [  1   7   0   0   0   0   1   0   0   0   0   1   0   1 233   0   1   0\n",
      "    1   0]\n",
      " [  1   3   1   1   0   0   0   1   0   0   0   1   0   1   1 221   2   1\n",
      "    0   0]\n",
      " [  0   0   1   0   0   0   1   0   1   0   0   3   0   0   0   0 209   1\n",
      "    2   0]\n",
      " [  0   1   0   0   0   0   0   0   0   0   0   1   0   0   0   0   0 233\n",
      "    1   0]\n",
      " [  2   0   0   0   0   0   1   1   0   0   0   3   0   0   1   1  14   6\n",
      "  182   2]\n",
      " [ 13   0   0   0   0   1   0   0   0   1   0   0   1   1   0  24   9   1\n",
      "    7  90]]\n"
     ]
    }
   ],
   "source": [
    "train_and_evaluate(clf_8, X_train, X_test, y_train, y_test)"
   ]
  },
  {
   "cell_type": "markdown",
   "metadata": {},
   "source": [
    "### 思考题 （不用提交）\n",
    "\n",
    "\n",
    "- 调研（限于 Python）中文文本分类识别的工具、模块、案例"
   ]
  },
  {
   "cell_type": "markdown",
   "metadata": {},
   "source": [
    "### 翻转课堂（自学）\n",
    "\n",
    "\n",
    "- Pipeline\n",
    "- 正则表达式(Regular Expression)"
   ]
  }
 ],
 "metadata": {
  "kernelspec": {
   "display_name": "Python 3",
   "language": "python",
   "name": "python3"
  },
  "language_info": {
   "codemirror_mode": {
    "name": "ipython",
    "version": 3
   },
   "file_extension": ".py",
   "mimetype": "text/x-python",
   "name": "python",
   "nbconvert_exporter": "python",
   "pygments_lexer": "ipython3",
   "version": "3.7.4"
  }
 },
 "nbformat": 4,
 "nbformat_minor": 2
}
