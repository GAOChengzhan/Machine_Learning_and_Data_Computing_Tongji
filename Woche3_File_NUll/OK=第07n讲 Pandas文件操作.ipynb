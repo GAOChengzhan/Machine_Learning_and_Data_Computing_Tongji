{
 "cells": [
  {
   "cell_type": "markdown",
   "metadata": {},
   "source": [
    "# 第7讲 Pandas 文件操作\n",
    "\n",
    "- EXCEL 文件\n",
    "- CSV 文件\n",
    "- TXT 文件"
   ]
  },
  {
   "cell_type": "code",
   "execution_count": 1,
   "metadata": {},
   "outputs": [],
   "source": [
    "import numpy as np\n",
    "import pandas as pd"
   ]
  },
  {
   "cell_type": "markdown",
   "metadata": {},
   "source": [
    "#### <center>pandas可以读取的对象</center>"
   ]
  },
  {
   "cell_type": "markdown",
   "metadata": {},
   "source": [
    "<table class=\"colwidths-given table\">\n",
    "<colgroup>\n",
    "<col style=\"width: 12%\">\n",
    "<col style=\"width: 40%\">\n",
    "<col style=\"width: 24%\">\n",
    "<col style=\"width: 24%\">\n",
    "</colgroup>\n",
    "<thead>\n",
    "<tr class=\"row-odd\"><th class=\"head\"><p>Format Type</p></th>\n",
    "<th class=\"head\"><p>Data Description</p></th>\n",
    "<th class=\"head\"><p>Reader</p></th>\n",
    "<th class=\"head\"><p>Writer</p></th>\n",
    "</tr>\n",
    "</thead>\n",
    "<tbody>\n",
    "<tr class=\"row-even\"><td><p>text</p></td>\n",
    "<td><p><a class=\"reference external\" href=\"https://en.wikipedia.org/wiki/Comma-separated_values\">CSV</a></p></td>\n",
    "<td><p><a class=\"reference internal\" href=\"#io-read-csv-table\"><span class=\"std std-ref\">read_csv</span></a></p></td>\n",
    "<td><p><a class=\"reference internal\" href=\"#io-store-in-csv\"><span class=\"std std-ref\">to_csv</span></a></p></td>\n",
    "</tr>\n",
    "<tr class=\"row-odd\"><td><p>text</p></td>\n",
    "<td><p>Fixed-Width Text File</p></td>\n",
    "<td><p><a class=\"reference internal\" href=\"#io-fwf-reader\"><span class=\"std std-ref\">read_fwf</span></a></p></td>\n",
    "<td></td>\n",
    "</tr>\n",
    "<tr class=\"row-even\"><td><p>text</p></td>\n",
    "<td><p><a class=\"reference external\" href=\"https://www.json.org/\">JSON</a></p></td>\n",
    "<td><p><a class=\"reference internal\" href=\"#io-json-reader\"><span class=\"std std-ref\">read_json</span></a></p></td>\n",
    "<td><p><a class=\"reference internal\" href=\"#io-json-writer\"><span class=\"std std-ref\">to_json</span></a></p></td>\n",
    "</tr>\n",
    "<tr class=\"row-odd\"><td><p>text</p></td>\n",
    "<td><p><a class=\"reference external\" href=\"https://en.wikipedia.org/wiki/HTML\">HTML</a></p></td>\n",
    "<td><p><a class=\"reference internal\" href=\"#io-read-html\"><span class=\"std std-ref\">read_html</span></a></p></td>\n",
    "<td><p><a class=\"reference internal\" href=\"#io-html\"><span class=\"std std-ref\">to_html</span></a></p></td>\n",
    "</tr>\n",
    "<tr class=\"row-even\"><td><p>text</p></td>\n",
    "<td><p>Local clipboard</p></td>\n",
    "<td><p><a class=\"reference internal\" href=\"#io-clipboard\"><span class=\"std std-ref\">read_clipboard</span></a></p></td>\n",
    "<td><p><a class=\"reference internal\" href=\"#io-clipboard\"><span class=\"std std-ref\">to_clipboard</span></a></p></td>\n",
    "</tr>\n",
    "<tr class=\"row-odd\"><td><p>binary</p></td>\n",
    "<td><p><a class=\"reference external\" href=\"https://en.wikipedia.org/wiki/Microsoft_Excel\">MS Excel</a></p></td>\n",
    "<td><p><a class=\"reference internal\" href=\"#io-excel-reader\"><span class=\"std std-ref\">read_excel</span></a></p></td>\n",
    "<td><p><a class=\"reference internal\" href=\"#io-excel-writer\"><span class=\"std std-ref\">to_excel</span></a></p></td>\n",
    "</tr>\n",
    "<tr class=\"row-even\"><td><p>binary</p></td>\n",
    "<td><p><a class=\"reference external\" href=\"http://www.opendocumentformat.org\">OpenDocument</a></p></td>\n",
    "<td><p><a class=\"reference internal\" href=\"#io-ods\"><span class=\"std std-ref\">read_excel</span></a></p></td>\n",
    "<td></td>\n",
    "</tr>\n",
    "<tr class=\"row-odd\"><td><p>binary</p></td>\n",
    "<td><p><a class=\"reference external\" href=\"https://support.hdfgroup.org/HDF5/whatishdf5.html\">HDF5 Format</a></p></td>\n",
    "<td><p><a class=\"reference internal\" href=\"#io-hdf5\"><span class=\"std std-ref\">read_hdf</span></a></p></td>\n",
    "<td><p><a class=\"reference internal\" href=\"#io-hdf5\"><span class=\"std std-ref\">to_hdf</span></a></p></td>\n",
    "</tr>\n",
    "<tr class=\"row-even\"><td><p>binary</p></td>\n",
    "<td><p><a class=\"reference external\" href=\"https://github.com/wesm/feather\">Feather Format</a></p></td>\n",
    "<td><p><a class=\"reference internal\" href=\"#io-feather\"><span class=\"std std-ref\">read_feather</span></a></p></td>\n",
    "<td><p><a class=\"reference internal\" href=\"#io-feather\"><span class=\"std std-ref\">to_feather</span></a></p></td>\n",
    "</tr>\n",
    "<tr class=\"row-odd\"><td><p>binary</p></td>\n",
    "<td><p><a class=\"reference external\" href=\"https://parquet.apache.org/\">Parquet Format</a></p></td>\n",
    "<td><p><a class=\"reference internal\" href=\"#io-parquet\"><span class=\"std std-ref\">read_parquet</span></a></p></td>\n",
    "<td><p><a class=\"reference internal\" href=\"#io-parquet\"><span class=\"std std-ref\">to_parquet</span></a></p></td>\n",
    "</tr>\n",
    "<tr class=\"row-even\"><td><p>binary</p></td>\n",
    "<td><p><a class=\"reference external\" href=\"https://orc.apache.org/\">ORC Format</a></p></td>\n",
    "<td><p><a class=\"reference internal\" href=\"#io-orc\"><span class=\"std std-ref\">read_orc</span></a></p></td>\n",
    "<td></td>\n",
    "</tr>\n",
    "<tr class=\"row-odd\"><td><p>binary</p></td>\n",
    "<td><p><a class=\"reference external\" href=\"https://msgpack.org/index.html\">Msgpack</a></p></td>\n",
    "<td><p><a class=\"reference internal\" href=\"#io-msgpack\"><span class=\"std std-ref\">read_msgpack</span></a></p></td>\n",
    "<td><p><a class=\"reference internal\" href=\"#io-msgpack\"><span class=\"std std-ref\">to_msgpack</span></a></p></td>\n",
    "</tr>\n",
    "<tr class=\"row-even\"><td><p>binary</p></td>\n",
    "<td><p><a class=\"reference external\" href=\"https://en.wikipedia.org/wiki/Stata\">Stata</a></p></td>\n",
    "<td><p><a class=\"reference internal\" href=\"#io-stata-reader\"><span class=\"std std-ref\">read_stata</span></a></p></td>\n",
    "<td><p><a class=\"reference internal\" href=\"#io-stata-writer\"><span class=\"std std-ref\">to_stata</span></a></p></td>\n",
    "</tr>\n",
    "<tr class=\"row-odd\"><td><p>binary</p></td>\n",
    "<td><p><a class=\"reference external\" href=\"https://en.wikipedia.org/wiki/SAS_(software)\">SAS</a></p></td>\n",
    "<td><p><a class=\"reference internal\" href=\"#io-sas-reader\"><span class=\"std std-ref\">read_sas</span></a></p></td>\n",
    "<td></td>\n",
    "</tr>\n",
    "<tr class=\"row-even\"><td><p>binary</p></td>\n",
    "<td><p><a class=\"reference external\" href=\"https://en.wikipedia.org/wiki/SPSS\">SPSS</a></p></td>\n",
    "<td><p><a class=\"reference internal\" href=\"#io-spss-reader\"><span class=\"std std-ref\">read_spss</span></a></p></td>\n",
    "<td></td>\n",
    "</tr>\n",
    "<tr class=\"row-odd\"><td><p>binary</p></td>\n",
    "<td><p><a class=\"reference external\" href=\"https://docs.python.org/3/library/pickle.html\">Python Pickle Format</a></p></td>\n",
    "<td><p><a class=\"reference internal\" href=\"#io-pickle\"><span class=\"std std-ref\">read_pickle</span></a></p></td>\n",
    "<td><p><a class=\"reference internal\" href=\"#io-pickle\"><span class=\"std std-ref\">to_pickle</span></a></p></td>\n",
    "</tr>\n",
    "<tr class=\"row-even\"><td><p>SQL</p></td>\n",
    "<td><p><a class=\"reference external\" href=\"https://en.wikipedia.org/wiki/SQL\">SQL</a></p></td>\n",
    "<td><p><a class=\"reference internal\" href=\"#io-sql\"><span class=\"std std-ref\">read_sql</span></a></p></td>\n",
    "<td><p><a class=\"reference internal\" href=\"#io-sql\"><span class=\"std std-ref\">to_sql</span></a></p></td>\n",
    "</tr>\n",
    "<tr class=\"row-odd\"><td><p>SQL</p></td>\n",
    "<td><p><a class=\"reference external\" href=\"https://en.wikipedia.org/wiki/BigQuery\">Google BigQuery</a></p></td>\n",
    "<td><p><a class=\"reference internal\" href=\"#io-bigquery\"><span class=\"std std-ref\">read_gbq</span></a></p></td>\n",
    "<td><p><a class=\"reference internal\" href=\"#io-bigquery\"><span class=\"std std-ref\">to_gbq</span></a></p></td>\n",
    "</tr>\n",
    "</tbody>\n",
    "</table>"
   ]
  },
  {
   "cell_type": "markdown",
   "metadata": {},
   "source": [
    "## 7.1 EXCEL 文件操作\n",
    "\n",
    "- 读 Excel 文件\n",
    "- 写 Excel 文件"
   ]
  },
  {
   "cell_type": "markdown",
   "metadata": {},
   "source": [
    "### 7.1.1 创建 DataFrame 对象"
   ]
  },
  {
   "cell_type": "code",
   "execution_count": 2,
   "metadata": {},
   "outputs": [
    {
     "data": {
      "text/html": [
       "<div>\n",
       "<style scoped>\n",
       "    .dataframe tbody tr th:only-of-type {\n",
       "        vertical-align: middle;\n",
       "    }\n",
       "\n",
       "    .dataframe tbody tr th {\n",
       "        vertical-align: top;\n",
       "    }\n",
       "\n",
       "    .dataframe thead th {\n",
       "        text-align: right;\n",
       "    }\n",
       "</style>\n",
       "<table border=\"1\" class=\"dataframe\">\n",
       "  <thead>\n",
       "    <tr style=\"text-align: right;\">\n",
       "      <th></th>\n",
       "      <th>忠诚</th>\n",
       "      <th>智慧</th>\n",
       "      <th>勇敢</th>\n",
       "      <th>法术</th>\n",
       "      <th>生命</th>\n",
       "    </tr>\n",
       "  </thead>\n",
       "  <tbody>\n",
       "    <tr>\n",
       "      <td>宋江</td>\n",
       "      <td>90</td>\n",
       "      <td>91</td>\n",
       "      <td>97</td>\n",
       "      <td>95</td>\n",
       "      <td>95</td>\n",
       "    </tr>\n",
       "    <tr>\n",
       "      <td>卢俊义</td>\n",
       "      <td>91</td>\n",
       "      <td>98</td>\n",
       "      <td>99</td>\n",
       "      <td>92</td>\n",
       "      <td>98</td>\n",
       "    </tr>\n",
       "    <tr>\n",
       "      <td>吴用</td>\n",
       "      <td>95</td>\n",
       "      <td>98</td>\n",
       "      <td>92</td>\n",
       "      <td>99</td>\n",
       "      <td>99</td>\n",
       "    </tr>\n",
       "    <tr>\n",
       "      <td>公孙胜</td>\n",
       "      <td>92</td>\n",
       "      <td>93</td>\n",
       "      <td>97</td>\n",
       "      <td>94</td>\n",
       "      <td>95</td>\n",
       "    </tr>\n",
       "    <tr>\n",
       "      <td>关胜</td>\n",
       "      <td>91</td>\n",
       "      <td>93</td>\n",
       "      <td>97</td>\n",
       "      <td>94</td>\n",
       "      <td>95</td>\n",
       "    </tr>\n",
       "    <tr>\n",
       "      <td>林冲</td>\n",
       "      <td>96</td>\n",
       "      <td>94</td>\n",
       "      <td>99</td>\n",
       "      <td>94</td>\n",
       "      <td>99</td>\n",
       "    </tr>\n",
       "    <tr>\n",
       "      <td>秦明</td>\n",
       "      <td>94</td>\n",
       "      <td>96</td>\n",
       "      <td>95</td>\n",
       "      <td>99</td>\n",
       "      <td>90</td>\n",
       "    </tr>\n",
       "    <tr>\n",
       "      <td>呼延灼</td>\n",
       "      <td>92</td>\n",
       "      <td>99</td>\n",
       "      <td>92</td>\n",
       "      <td>93</td>\n",
       "      <td>95</td>\n",
       "    </tr>\n",
       "  </tbody>\n",
       "</table>\n",
       "</div>"
      ],
      "text/plain": [
       "     忠诚  智慧  勇敢  法术  生命\n",
       "宋江   90  91  97  95  95\n",
       "卢俊义  91  98  99  92  98\n",
       "吴用   95  98  92  99  99\n",
       "公孙胜  92  93  97  94  95\n",
       "关胜   91  93  97  94  95\n",
       "林冲   96  94  99  94  99\n",
       "秦明   94  96  95  99  90\n",
       "呼延灼  92  99  92  93  95"
      ]
     },
     "execution_count": 2,
     "metadata": {},
     "output_type": "execute_result"
    }
   ],
   "source": [
    "names     = [\"宋江\",\"卢俊义\",\"吴用\",\"公孙胜\",\"关胜\",\"林冲\",\"秦明\",\"呼延灼\"]\n",
    "features  = [\"忠诚\",\"智慧\",\"勇敢\",\"法术\",\"生命\"]\n",
    "\n",
    "heroes_df = pd.DataFrame(np.random.randint(90,100,(8,5)), index=names, columns=features)\n",
    "heroes_df"
   ]
  },
  {
   "cell_type": "code",
   "execution_count": 4,
   "metadata": {},
   "outputs": [
    {
     "data": {
      "text/html": [
       "<div>\n",
       "<style scoped>\n",
       "    .dataframe tbody tr th:only-of-type {\n",
       "        vertical-align: middle;\n",
       "    }\n",
       "\n",
       "    .dataframe tbody tr th {\n",
       "        vertical-align: top;\n",
       "    }\n",
       "\n",
       "    .dataframe thead th {\n",
       "        text-align: right;\n",
       "    }\n",
       "</style>\n",
       "<table border=\"1\" class=\"dataframe\">\n",
       "  <thead>\n",
       "    <tr style=\"text-align: right;\">\n",
       "      <th></th>\n",
       "      <th>忠诚</th>\n",
       "      <th>智慧</th>\n",
       "      <th>勇敢</th>\n",
       "      <th>法术</th>\n",
       "      <th>生命</th>\n",
       "    </tr>\n",
       "  </thead>\n",
       "  <tbody>\n",
       "    <tr>\n",
       "      <td>宋江</td>\n",
       "      <td>90</td>\n",
       "      <td>91</td>\n",
       "      <td>NaN</td>\n",
       "      <td>95</td>\n",
       "      <td>95</td>\n",
       "    </tr>\n",
       "    <tr>\n",
       "      <td>卢俊义</td>\n",
       "      <td>91</td>\n",
       "      <td>98</td>\n",
       "      <td>95.93234</td>\n",
       "      <td>92</td>\n",
       "      <td>98</td>\n",
       "    </tr>\n",
       "    <tr>\n",
       "      <td>吴用</td>\n",
       "      <td>95</td>\n",
       "      <td>98</td>\n",
       "      <td>92.00000</td>\n",
       "      <td>99</td>\n",
       "      <td>99</td>\n",
       "    </tr>\n",
       "    <tr>\n",
       "      <td>公孙胜</td>\n",
       "      <td>92</td>\n",
       "      <td>93</td>\n",
       "      <td>97.00000</td>\n",
       "      <td>94</td>\n",
       "      <td>95</td>\n",
       "    </tr>\n",
       "    <tr>\n",
       "      <td>关胜</td>\n",
       "      <td>91</td>\n",
       "      <td>93</td>\n",
       "      <td>97.00000</td>\n",
       "      <td>94</td>\n",
       "      <td>95</td>\n",
       "    </tr>\n",
       "    <tr>\n",
       "      <td>林冲</td>\n",
       "      <td>96</td>\n",
       "      <td>94</td>\n",
       "      <td>99.00000</td>\n",
       "      <td>94</td>\n",
       "      <td>99</td>\n",
       "    </tr>\n",
       "    <tr>\n",
       "      <td>秦明</td>\n",
       "      <td>94</td>\n",
       "      <td>96</td>\n",
       "      <td>95.00000</td>\n",
       "      <td>99</td>\n",
       "      <td>90</td>\n",
       "    </tr>\n",
       "    <tr>\n",
       "      <td>呼延灼</td>\n",
       "      <td>92</td>\n",
       "      <td>99</td>\n",
       "      <td>92.00000</td>\n",
       "      <td>93</td>\n",
       "      <td>95</td>\n",
       "    </tr>\n",
       "  </tbody>\n",
       "</table>\n",
       "</div>"
      ],
      "text/plain": [
       "     忠诚  智慧        勇敢  法术  生命\n",
       "宋江   90  91       NaN  95  95\n",
       "卢俊义  91  98  95.93234  92  98\n",
       "吴用   95  98  92.00000  99  99\n",
       "公孙胜  92  93  97.00000  94  95\n",
       "关胜   91  93  97.00000  94  95\n",
       "林冲   96  94  99.00000  94  99\n",
       "秦明   94  96  95.00000  99  90\n",
       "呼延灼  92  99  92.00000  93  95"
      ]
     },
     "execution_count": 4,
     "metadata": {},
     "output_type": "execute_result"
    }
   ],
   "source": [
    "heroes_df.loc['宋江','勇敢'] = np.nan\n",
    "heroes_df.loc['卢俊义','勇敢'] = 95.93234\n",
    "heroes_df"
   ]
  },
  {
   "cell_type": "markdown",
   "metadata": {},
   "source": [
    "### 7.1.2 写 xlsx 文件\n",
    "\n",
    "- 语法\n",
    "```python\n",
    ">>> df.to_excel(excel_writer, sheet_name='Sheet1', na_rep='', float_format=None, columns=None, header=True, index=True, index_label=None, startrow=0, startcol=0, engine=None, merge_cells=True, encoding=None, inf_rep='inf', verbose=True, freeze_panes=None)\n",
    "```\n",
    "\n",
    "\n",
    "- 参数\n",
    "    - excel_writer —— 字符串、ExcelWriter对象、文件路径等\n",
    "    - sheet_name —— 字符串，缺省为 \"sheet1\"，将包含DataFrame的表的名称。\n",
    "    - na_rep : 字符串,默认‘ ’，缺失数据表示方式。\n",
    "    - float_format : 字符串,默认None，格式化浮点数的字符串\n",
    "    - columns —— 列标记，要编写的列\n",
    "    - encoding —— 编码\n",
    "    - header : 布尔或字符串列表，默认为Ture。写出列名。如果给定字符串列表，则假定它是列名称的别名。\n",
    "    - index :布尔,默认的Ture。写行名（索引）\n",
    "    - index_label : 字符串或序列，默认为None。；如果需要，可以使用索引列的列标签。如果没有给出，标题和索引为true，则使用索引名称。如果数据文件使用多索引，则需使用序列。\n",
    "    - startrow : 左上角的单元格行来转储数据框\n",
    "    - startcol : 左上角的单元格列转储数据帧\n",
    "    - engine : 字符串,默认没有；使用写引擎 - 您也可以通过选项io.excel.xlsx.writer，io.excel.xls.writer和io.excel.xlsm.writer进行设置。\n",
    "    - merge_cells : 布尔,默认为Ture；编码生成的excel文件。 只有xlwt需要，其他编写者本地支持unicode。\n",
    "    - inf_rep : 字符串,默认“正”，无穷大的表示(在Excel中不存在无穷大的本地表示)\n",
    "    - freeze_panes : 整数的元组(长度2)，默认为None。指定要冻结的基于1的最底部行和最右边的列\n"
   ]
  },
  {
   "cell_type": "markdown",
   "metadata": {},
   "source": [
    "<img src = 'images\\ch07\\ch07-01.PNG' width = 500>"
   ]
  },
  {
   "cell_type": "code",
   "execution_count": 9,
   "metadata": {},
   "outputs": [
    {
     "data": {
      "text/html": [
       "<div>\n",
       "<style scoped>\n",
       "    .dataframe tbody tr th:only-of-type {\n",
       "        vertical-align: middle;\n",
       "    }\n",
       "\n",
       "    .dataframe tbody tr th {\n",
       "        vertical-align: top;\n",
       "    }\n",
       "\n",
       "    .dataframe thead th {\n",
       "        text-align: right;\n",
       "    }\n",
       "</style>\n",
       "<table border=\"1\" class=\"dataframe\">\n",
       "  <thead>\n",
       "    <tr style=\"text-align: right;\">\n",
       "      <th></th>\n",
       "      <th>忠诚</th>\n",
       "      <th>智慧</th>\n",
       "      <th>勇敢</th>\n",
       "      <th>法术</th>\n",
       "      <th>生命</th>\n",
       "    </tr>\n",
       "  </thead>\n",
       "  <tbody>\n",
       "    <tr>\n",
       "      <td>宋江</td>\n",
       "      <td>90</td>\n",
       "      <td>91</td>\n",
       "      <td>NaN</td>\n",
       "      <td>95</td>\n",
       "      <td>95</td>\n",
       "    </tr>\n",
       "    <tr>\n",
       "      <td>卢俊义</td>\n",
       "      <td>91</td>\n",
       "      <td>98</td>\n",
       "      <td>95.93234</td>\n",
       "      <td>92</td>\n",
       "      <td>98</td>\n",
       "    </tr>\n",
       "    <tr>\n",
       "      <td>吴用</td>\n",
       "      <td>95</td>\n",
       "      <td>98</td>\n",
       "      <td>92.00000</td>\n",
       "      <td>99</td>\n",
       "      <td>99</td>\n",
       "    </tr>\n",
       "    <tr>\n",
       "      <td>公孙胜</td>\n",
       "      <td>92</td>\n",
       "      <td>93</td>\n",
       "      <td>97.00000</td>\n",
       "      <td>94</td>\n",
       "      <td>95</td>\n",
       "    </tr>\n",
       "    <tr>\n",
       "      <td>关胜</td>\n",
       "      <td>91</td>\n",
       "      <td>93</td>\n",
       "      <td>97.00000</td>\n",
       "      <td>94</td>\n",
       "      <td>95</td>\n",
       "    </tr>\n",
       "    <tr>\n",
       "      <td>林冲</td>\n",
       "      <td>96</td>\n",
       "      <td>94</td>\n",
       "      <td>99.00000</td>\n",
       "      <td>94</td>\n",
       "      <td>99</td>\n",
       "    </tr>\n",
       "    <tr>\n",
       "      <td>秦明</td>\n",
       "      <td>94</td>\n",
       "      <td>96</td>\n",
       "      <td>95.00000</td>\n",
       "      <td>99</td>\n",
       "      <td>90</td>\n",
       "    </tr>\n",
       "    <tr>\n",
       "      <td>呼延灼</td>\n",
       "      <td>92</td>\n",
       "      <td>99</td>\n",
       "      <td>92.00000</td>\n",
       "      <td>93</td>\n",
       "      <td>95</td>\n",
       "    </tr>\n",
       "  </tbody>\n",
       "</table>\n",
       "</div>"
      ],
      "text/plain": [
       "     忠诚  智慧        勇敢  法术  生命\n",
       "宋江   90  91       NaN  95  95\n",
       "卢俊义  91  98  95.93234  92  98\n",
       "吴用   95  98  92.00000  99  99\n",
       "公孙胜  92  93  97.00000  94  95\n",
       "关胜   91  93  97.00000  94  95\n",
       "林冲   96  94  99.00000  94  99\n",
       "秦明   94  96  95.00000  99  90\n",
       "呼延灼  92  99  92.00000  93  95"
      ]
     },
     "execution_count": 9,
     "metadata": {},
     "output_type": "execute_result"
    }
   ],
   "source": [
    "heroes_df.to_excel(r\"data\\梁山好汉榜01.xlsx\",na_rep='*')  # 也可以是 xls 文件\n",
    "heroes_df"
   ]
  },
  {
   "cell_type": "code",
   "execution_count": 10,
   "metadata": {},
   "outputs": [],
   "source": [
    "heroes_df.to_excel(\"data\\梁山好汉榜02.xlsx\",sheet_name='游戏人物',) #控制sheet name"
   ]
  },
  {
   "cell_type": "code",
   "execution_count": 11,
   "metadata": {},
   "outputs": [],
   "source": [
    "heroes_df.to_excel(\"data\\梁山好汉榜03.xlsx\",float_format='%6.2f')  # 控制小数格式"
   ]
  },
  {
   "cell_type": "code",
   "execution_count": 12,
   "metadata": {},
   "outputs": [],
   "source": [
    "heroes_df.to_excel(\"data\\梁山好汉榜04.xlsx\",startrow = 3, startcol = 5)  # 控制起始存储位置"
   ]
  },
  {
   "cell_type": "code",
   "execution_count": 13,
   "metadata": {},
   "outputs": [],
   "source": [
    "heroes_df.to_excel(\"data\\梁山好汉榜05.xlsx\",index = False)  # 控制起始存储位置  #不输出index"
   ]
  },
  {
   "cell_type": "code",
   "execution_count": 14,
   "metadata": {},
   "outputs": [],
   "source": [
    "heroes_df.to_excel(\"data\\梁山好汉榜06.xlsx\",index_label = [\"姓名\"])  # 左上角第一个空格"
   ]
  },
  {
   "cell_type": "code",
   "execution_count": 15,
   "metadata": {},
   "outputs": [],
   "source": [
    "heroes_df.to_excel(\"data\\梁山好汉榜07.xlsx\",index_label = [\"姓名\"], freeze_panes=(1,1))  # 左上角第一个空格:冻结位置"
   ]
  },
  {
   "cell_type": "code",
   "execution_count": 16,
   "metadata": {},
   "outputs": [
    {
     "data": {
      "text/html": [
       "<div>\n",
       "<style scoped>\n",
       "    .dataframe tbody tr th:only-of-type {\n",
       "        vertical-align: middle;\n",
       "    }\n",
       "\n",
       "    .dataframe tbody tr th {\n",
       "        vertical-align: top;\n",
       "    }\n",
       "\n",
       "    .dataframe thead th {\n",
       "        text-align: right;\n",
       "    }\n",
       "</style>\n",
       "<table border=\"1\" class=\"dataframe\">\n",
       "  <thead>\n",
       "    <tr style=\"text-align: right;\">\n",
       "      <th></th>\n",
       "      <th>A</th>\n",
       "      <th>B</th>\n",
       "      <th>C</th>\n",
       "      <th>D</th>\n",
       "      <th>E</th>\n",
       "    </tr>\n",
       "  </thead>\n",
       "  <tbody>\n",
       "    <tr>\n",
       "      <td>a</td>\n",
       "      <td>89.03</td>\n",
       "      <td>91.83</td>\n",
       "      <td>97.79</td>\n",
       "      <td>77.21</td>\n",
       "      <td>44.52</td>\n",
       "    </tr>\n",
       "    <tr>\n",
       "      <td>b</td>\n",
       "      <td>99.09</td>\n",
       "      <td>NaN</td>\n",
       "      <td>30.09</td>\n",
       "      <td>3.10</td>\n",
       "      <td>76.63</td>\n",
       "    </tr>\n",
       "    <tr>\n",
       "      <td>c</td>\n",
       "      <td>38.43</td>\n",
       "      <td>NaN</td>\n",
       "      <td>79.41</td>\n",
       "      <td>32.98</td>\n",
       "      <td>61.99</td>\n",
       "    </tr>\n",
       "    <tr>\n",
       "      <td>d</td>\n",
       "      <td>24.85</td>\n",
       "      <td>NaN</td>\n",
       "      <td>81.08</td>\n",
       "      <td>77.32</td>\n",
       "      <td>36.54</td>\n",
       "    </tr>\n",
       "    <tr>\n",
       "      <td>e</td>\n",
       "      <td>78.10</td>\n",
       "      <td>NaN</td>\n",
       "      <td>84.18</td>\n",
       "      <td>19.40</td>\n",
       "      <td>73.40</td>\n",
       "    </tr>\n",
       "    <tr>\n",
       "      <td>f</td>\n",
       "      <td>42.82</td>\n",
       "      <td>24.90</td>\n",
       "      <td>2.32</td>\n",
       "      <td>66.21</td>\n",
       "      <td>53.68</td>\n",
       "    </tr>\n",
       "    <tr>\n",
       "      <td>g</td>\n",
       "      <td>43.62</td>\n",
       "      <td>10.79</td>\n",
       "      <td>14.84</td>\n",
       "      <td>20.41</td>\n",
       "      <td>63.80</td>\n",
       "    </tr>\n",
       "    <tr>\n",
       "      <td>h</td>\n",
       "      <td>5.80</td>\n",
       "      <td>14.16</td>\n",
       "      <td>55.73</td>\n",
       "      <td>96.63</td>\n",
       "      <td>52.52</td>\n",
       "    </tr>\n",
       "  </tbody>\n",
       "</table>\n",
       "</div>"
      ],
      "text/plain": [
       "       A      B      C      D      E\n",
       "a  89.03  91.83  97.79  77.21  44.52\n",
       "b  99.09    NaN  30.09   3.10  76.63\n",
       "c  38.43    NaN  79.41  32.98  61.99\n",
       "d  24.85    NaN  81.08  77.32  36.54\n",
       "e  78.10    NaN  84.18  19.40  73.40\n",
       "f  42.82  24.90   2.32  66.21  53.68\n",
       "g  43.62  10.79  14.84  20.41  63.80\n",
       "h   5.80  14.16  55.73  96.63  52.52"
      ]
     },
     "execution_count": 16,
     "metadata": {},
     "output_type": "execute_result"
    }
   ],
   "source": [
    "data_df = pd.DataFrame(np.random.randint(50,10000,(8,5))/100, columns = ['A','B','C','D','E'], index = list('abcdefgh'))\n",
    "data_df.iloc[1:5,1] = np.nan\n",
    "data_df"
   ]
  },
  {
   "cell_type": "markdown",
   "metadata": {},
   "source": [
    "#### 例1.1  如果na数据用 \"N/A\" 显示；冻结（1,1）； 保留小数点2位； sheet名字指定"
   ]
  },
  {
   "cell_type": "code",
   "execution_count": 17,
   "metadata": {},
   "outputs": [],
   "source": [
    "data_df.to_excel(\"data\\data_df.xlsx\", na_rep = 'N/A', freeze_panes=(1,1), float_format='%6.2f', sheet_name='data_df')"
   ]
  },
  {
   "cell_type": "code",
   "execution_count": 18,
   "metadata": {},
   "outputs": [],
   "source": [
    "data_df.to_excel?"
   ]
  },
  {
   "cell_type": "markdown",
   "metadata": {},
   "source": [
    "### 7.1.3 读 xlsx 文件\n",
    "\n",
    "- 语法\n",
    "```python\n",
    "    >>> pd.read_excel(io, sheet_name=0, header=0, names=None, index_col=None, usecols=None, squeeze=False, dtype=None,\n",
    "                engine=None, converters=None, true_values=None, false_values=None, skiprows=None, nrows=None,\n",
    "                na_values=None, parse_dates=False, date_parser=None, thousands=None, comment=None, skipfooter=0,\n",
    "                convert_float=True, **kwds)\n",
    "```\n",
    "\n",
    "\n",
    "- 参数\n",
    "    - io —— 字符串、路径、URL等\n",
    "    - sheet_name\n",
    "    - header —— 用着列标签"
   ]
  },
  {
   "cell_type": "code",
   "execution_count": 19,
   "metadata": {},
   "outputs": [
    {
     "name": "stdout",
     "output_type": "stream",
     "text": [
      "变量不存在，无法输出\n"
     ]
    }
   ],
   "source": [
    "# 先删除\n",
    "try:\n",
    "    del heroes_df    \n",
    "except NameError:\n",
    "    print(\"变量不存在，无法删除\")\n",
    "try:\n",
    "    heroes_df\n",
    "except NameError:\n",
    "    print(\"变量不存在，无法输出\")    "
   ]
  },
  {
   "cell_type": "code",
   "execution_count": 22,
   "metadata": {},
   "outputs": [
    {
     "data": {
      "text/html": [
       "<div>\n",
       "<style scoped>\n",
       "    .dataframe tbody tr th:only-of-type {\n",
       "        vertical-align: middle;\n",
       "    }\n",
       "\n",
       "    .dataframe tbody tr th {\n",
       "        vertical-align: top;\n",
       "    }\n",
       "\n",
       "    .dataframe thead th {\n",
       "        text-align: right;\n",
       "    }\n",
       "</style>\n",
       "<table border=\"1\" class=\"dataframe\">\n",
       "  <thead>\n",
       "    <tr style=\"text-align: right;\">\n",
       "      <th></th>\n",
       "      <th>Unnamed: 0</th>\n",
       "      <th>忠诚</th>\n",
       "      <th>智慧</th>\n",
       "      <th>勇敢</th>\n",
       "      <th>法术</th>\n",
       "      <th>生命</th>\n",
       "    </tr>\n",
       "  </thead>\n",
       "  <tbody>\n",
       "    <tr>\n",
       "      <td>0</td>\n",
       "      <td>宋江</td>\n",
       "      <td>90</td>\n",
       "      <td>99</td>\n",
       "      <td>*</td>\n",
       "      <td>98</td>\n",
       "      <td>90</td>\n",
       "    </tr>\n",
       "    <tr>\n",
       "      <td>1</td>\n",
       "      <td>卢俊义</td>\n",
       "      <td>99</td>\n",
       "      <td>95</td>\n",
       "      <td>95.9323</td>\n",
       "      <td>94</td>\n",
       "      <td>91</td>\n",
       "    </tr>\n",
       "    <tr>\n",
       "      <td>2</td>\n",
       "      <td>吴用</td>\n",
       "      <td>91</td>\n",
       "      <td>91</td>\n",
       "      <td>96</td>\n",
       "      <td>97</td>\n",
       "      <td>96</td>\n",
       "    </tr>\n",
       "    <tr>\n",
       "      <td>3</td>\n",
       "      <td>公孙胜</td>\n",
       "      <td>96</td>\n",
       "      <td>92</td>\n",
       "      <td>98</td>\n",
       "      <td>95</td>\n",
       "      <td>92</td>\n",
       "    </tr>\n",
       "    <tr>\n",
       "      <td>4</td>\n",
       "      <td>关胜</td>\n",
       "      <td>92</td>\n",
       "      <td>92</td>\n",
       "      <td>93</td>\n",
       "      <td>93</td>\n",
       "      <td>98</td>\n",
       "    </tr>\n",
       "    <tr>\n",
       "      <td>5</td>\n",
       "      <td>林冲</td>\n",
       "      <td>95</td>\n",
       "      <td>95</td>\n",
       "      <td>93</td>\n",
       "      <td>94</td>\n",
       "      <td>98</td>\n",
       "    </tr>\n",
       "    <tr>\n",
       "      <td>6</td>\n",
       "      <td>秦明</td>\n",
       "      <td>94</td>\n",
       "      <td>92</td>\n",
       "      <td>94</td>\n",
       "      <td>95</td>\n",
       "      <td>99</td>\n",
       "    </tr>\n",
       "    <tr>\n",
       "      <td>7</td>\n",
       "      <td>呼延灼</td>\n",
       "      <td>91</td>\n",
       "      <td>98</td>\n",
       "      <td>92</td>\n",
       "      <td>97</td>\n",
       "      <td>93</td>\n",
       "    </tr>\n",
       "  </tbody>\n",
       "</table>\n",
       "</div>"
      ],
      "text/plain": [
       "  Unnamed: 0  忠诚  智慧       勇敢  法术  生命\n",
       "0         宋江  90  99        *  98  90\n",
       "1        卢俊义  99  95  95.9323  94  91\n",
       "2         吴用  91  91       96  97  96\n",
       "3        公孙胜  96  92       98  95  92\n",
       "4         关胜  92  92       93  93  98\n",
       "5         林冲  95  95       93  94  98\n",
       "6         秦明  94  92       94  95  99\n",
       "7        呼延灼  91  98       92  97  93"
      ]
     },
     "execution_count": 22,
     "metadata": {},
     "output_type": "execute_result"
    }
   ],
   "source": [
    "heroes_df = pd.read_excel(\"data/梁山好汉榜.xlsx\")\n",
    "heroes_df"
   ]
  },
  {
   "cell_type": "code",
   "execution_count": null,
   "metadata": {},
   "outputs": [],
   "source": [
    "#先看这个文档"
   ]
  },
  {
   "cell_type": "code",
   "execution_count": null,
   "metadata": {},
   "outputs": [],
   "source": [
    "!data\\character.xlsx"
   ]
  },
  {
   "cell_type": "code",
   "execution_count": 25,
   "metadata": {},
   "outputs": [],
   "source": [
    "IO = 'data\\character.xlsx'  #定义一个文件名称"
   ]
  },
  {
   "cell_type": "code",
   "execution_count": 26,
   "metadata": {},
   "outputs": [],
   "source": [
    "sheet = pd.read_excel(io=IO) "
   ]
  },
  {
   "cell_type": "code",
   "execution_count": 27,
   "metadata": {},
   "outputs": [
    {
     "data": {
      "text/html": [
       "<div>\n",
       "<style scoped>\n",
       "    .dataframe tbody tr th:only-of-type {\n",
       "        vertical-align: middle;\n",
       "    }\n",
       "\n",
       "    .dataframe tbody tr th {\n",
       "        vertical-align: top;\n",
       "    }\n",
       "\n",
       "    .dataframe thead th {\n",
       "        text-align: right;\n",
       "    }\n",
       "</style>\n",
       "<table border=\"1\" class=\"dataframe\">\n",
       "  <thead>\n",
       "    <tr style=\"text-align: right;\">\n",
       "      <th></th>\n",
       "      <th>姓名</th>\n",
       "      <th>年龄</th>\n",
       "      <th>出生日期</th>\n",
       "      <th>爱好</th>\n",
       "      <th>关系</th>\n",
       "    </tr>\n",
       "  </thead>\n",
       "  <tbody>\n",
       "    <tr>\n",
       "      <td>0</td>\n",
       "      <td>张三</td>\n",
       "      <td>23</td>\n",
       "      <td>1990-12-15 00:00:00</td>\n",
       "      <td>游戏</td>\n",
       "      <td>兄弟</td>\n",
       "    </tr>\n",
       "    <tr>\n",
       "      <td>1</td>\n",
       "      <td>张四</td>\n",
       "      <td>19</td>\n",
       "      <td>1992-10-13 00:00:00</td>\n",
       "      <td>电影</td>\n",
       "      <td>NaN</td>\n",
       "    </tr>\n",
       "    <tr>\n",
       "      <td>2</td>\n",
       "      <td>小明</td>\n",
       "      <td>12</td>\n",
       "      <td>2008-03-18 00:00:00</td>\n",
       "      <td>看书</td>\n",
       "      <td>同学</td>\n",
       "    </tr>\n",
       "    <tr>\n",
       "      <td>3</td>\n",
       "      <td>小红</td>\n",
       "      <td>12</td>\n",
       "      <td>2008-02-14 00:00:00</td>\n",
       "      <td>电影</td>\n",
       "      <td>NaN</td>\n",
       "    </tr>\n",
       "    <tr>\n",
       "      <td>4</td>\n",
       "      <td>小芳</td>\n",
       "      <td>12</td>\n",
       "      <td>2007-12-19 00:00:00</td>\n",
       "      <td>钢琴</td>\n",
       "      <td>NaN</td>\n",
       "    </tr>\n",
       "    <tr>\n",
       "      <td>5</td>\n",
       "      <td>赵匡胤</td>\n",
       "      <td>850</td>\n",
       "      <td>1159/05/08</td>\n",
       "      <td>武术</td>\n",
       "      <td>历史人物</td>\n",
       "    </tr>\n",
       "  </tbody>\n",
       "</table>\n",
       "</div>"
      ],
      "text/plain": [
       "    姓名   年龄                 出生日期  爱好    关系\n",
       "0   张三   23  1990-12-15 00:00:00  游戏    兄弟\n",
       "1   张四   19  1992-10-13 00:00:00  电影   NaN\n",
       "2   小明   12  2008-03-18 00:00:00  看书    同学\n",
       "3   小红   12  2008-02-14 00:00:00  电影   NaN\n",
       "4   小芳   12  2007-12-19 00:00:00  钢琴   NaN\n",
       "5  赵匡胤  850           1159/05/08  武术  历史人物"
      ]
     },
     "execution_count": 27,
     "metadata": {},
     "output_type": "execute_result"
    }
   ],
   "source": [
    "sheet"
   ]
  },
  {
   "cell_type": "markdown",
   "metadata": {},
   "source": [
    "- sheetname：默认是sheetname为0，\n",
    "    - 返回多表使用sheetname=[0,1]，\n",
    "    - 若sheetname=None是返回全表 。\n",
    "    - 注意：int/string返回的是dataframe，而none和list返回的是dict of dataframe。"
   ]
  },
  {
   "cell_type": "code",
   "execution_count": 28,
   "metadata": {},
   "outputs": [
    {
     "data": {
      "text/plain": [
       "OrderedDict([(0,     姓名   年龄                 出生日期  爱好    关系\n",
       "              0   张三   23  1990-12-15 00:00:00  游戏    兄弟\n",
       "              1   张四   19  1992-10-13 00:00:00  电影   NaN\n",
       "              2   小明   12  2008-03-18 00:00:00  看书    同学\n",
       "              3   小红   12  2008-02-14 00:00:00  电影   NaN\n",
       "              4   小芳   12  2007-12-19 00:00:00  钢琴   NaN\n",
       "              5  赵匡胤  850           1159/05/08  武术  历史人物), (1,    3  2  1  学生\n",
       "              0  6  5  4  讲师\n",
       "              1  9  8  7  教授)])"
      ]
     },
     "execution_count": 28,
     "metadata": {},
     "output_type": "execute_result"
    }
   ],
   "source": [
    "sheet = pd.read_excel(IO,sheet_name= [0,1])\n",
    "#sheet = pd.read_excel(IO,sheet_name= None)\n",
    "sheet"
   ]
  },
  {
   "cell_type": "markdown",
   "metadata": {},
   "source": [
    "- 参数为None时，返回全部的表格，是一个表格的字典；\n",
    "- 当参数为list = [0，1，2，3]此类时，返回的多表格同样是字典"
   ]
  },
  {
   "cell_type": "code",
   "execution_count": 29,
   "metadata": {},
   "outputs": [
    {
     "data": {
      "text/plain": [
       "array([['张三', 23, datetime.datetime(1990, 12, 15, 0, 0), '游戏', '兄弟'],\n",
       "       ['张四', 19, datetime.datetime(1992, 10, 13, 0, 0), '电影', nan],\n",
       "       ['小明', 12, datetime.datetime(2008, 3, 18, 0, 0), '看书', '同学'],\n",
       "       ['小红', 12, datetime.datetime(2008, 2, 14, 0, 0), '电影', nan],\n",
       "       ['小芳', 12, datetime.datetime(2007, 12, 19, 0, 0), '钢琴', nan],\n",
       "       ['赵匡胤', 850, '1159/05/08', '武术', '历史人物']], dtype=object)"
      ]
     },
     "execution_count": 29,
     "metadata": {},
     "output_type": "execute_result"
    }
   ],
   "source": [
    "sheet[0].values"
   ]
  },
  {
   "cell_type": "code",
   "execution_count": 30,
   "metadata": {},
   "outputs": [
    {
     "data": {
      "text/html": [
       "<div>\n",
       "<style scoped>\n",
       "    .dataframe tbody tr th:only-of-type {\n",
       "        vertical-align: middle;\n",
       "    }\n",
       "\n",
       "    .dataframe tbody tr th {\n",
       "        vertical-align: top;\n",
       "    }\n",
       "\n",
       "    .dataframe thead th {\n",
       "        text-align: right;\n",
       "    }\n",
       "</style>\n",
       "<table border=\"1\" class=\"dataframe\">\n",
       "  <thead>\n",
       "    <tr style=\"text-align: right;\">\n",
       "      <th></th>\n",
       "      <th>3</th>\n",
       "      <th>2</th>\n",
       "      <th>1</th>\n",
       "      <th>学生</th>\n",
       "    </tr>\n",
       "  </thead>\n",
       "  <tbody>\n",
       "    <tr>\n",
       "      <td>0</td>\n",
       "      <td>6</td>\n",
       "      <td>5</td>\n",
       "      <td>4</td>\n",
       "      <td>讲师</td>\n",
       "    </tr>\n",
       "    <tr>\n",
       "      <td>1</td>\n",
       "      <td>9</td>\n",
       "      <td>8</td>\n",
       "      <td>7</td>\n",
       "      <td>教授</td>\n",
       "    </tr>\n",
       "  </tbody>\n",
       "</table>\n",
       "</div>"
      ],
      "text/plain": [
       "   3  2  1  学生\n",
       "0  6  5  4  讲师\n",
       "1  9  8  7  教授"
      ]
     },
     "execution_count": 30,
     "metadata": {},
     "output_type": "execute_result"
    }
   ],
   "source": [
    "sheet[1]"
   ]
  },
  {
   "cell_type": "code",
   "execution_count": 31,
   "metadata": {},
   "outputs": [
    {
     "data": {
      "text/html": [
       "<div>\n",
       "<style scoped>\n",
       "    .dataframe tbody tr th:only-of-type {\n",
       "        vertical-align: middle;\n",
       "    }\n",
       "\n",
       "    .dataframe tbody tr th {\n",
       "        vertical-align: top;\n",
       "    }\n",
       "\n",
       "    .dataframe thead th {\n",
       "        text-align: right;\n",
       "    }\n",
       "</style>\n",
       "<table border=\"1\" class=\"dataframe\">\n",
       "  <thead>\n",
       "    <tr style=\"text-align: right;\">\n",
       "      <th></th>\n",
       "      <th>3</th>\n",
       "      <th>2</th>\n",
       "      <th>1</th>\n",
       "      <th>学生</th>\n",
       "    </tr>\n",
       "  </thead>\n",
       "  <tbody>\n",
       "    <tr>\n",
       "      <td>0</td>\n",
       "      <td>6</td>\n",
       "      <td>5</td>\n",
       "      <td>4</td>\n",
       "      <td>讲师</td>\n",
       "    </tr>\n",
       "    <tr>\n",
       "      <td>1</td>\n",
       "      <td>9</td>\n",
       "      <td>8</td>\n",
       "      <td>7</td>\n",
       "      <td>教授</td>\n",
       "    </tr>\n",
       "  </tbody>\n",
       "</table>\n",
       "</div>"
      ],
      "text/plain": [
       "   3  2  1  学生\n",
       "0  6  5  4  讲师\n",
       "1  9  8  7  教授"
      ]
     },
     "execution_count": 31,
     "metadata": {},
     "output_type": "execute_result"
    }
   ],
   "source": [
    "#同样可以根据表头名称或者表的位置读取该表的数据\n",
    "#通过表名\n",
    "sheet = pd.read_excel(IO,sheet_name= 'Sheet2') #仅仅读入第二个\n",
    "#sheet = pd.read_excel(IO,sheet_name= 1) #效果同上\n",
    "\n",
    "sheet"
   ]
  },
  {
   "cell_type": "markdown",
   "metadata": {},
   "source": [
    "- header ：指定作为列名的行，默认0，即取第一行，数据为列名行以下的数据；若数据不含列名，则设定 header = None；"
   ]
  },
  {
   "cell_type": "code",
   "execution_count": 32,
   "metadata": {},
   "outputs": [
    {
     "data": {
      "text/html": [
       "<div>\n",
       "<style scoped>\n",
       "    .dataframe tbody tr th:only-of-type {\n",
       "        vertical-align: middle;\n",
       "    }\n",
       "\n",
       "    .dataframe tbody tr th {\n",
       "        vertical-align: top;\n",
       "    }\n",
       "\n",
       "    .dataframe thead th {\n",
       "        text-align: right;\n",
       "    }\n",
       "</style>\n",
       "<table border=\"1\" class=\"dataframe\">\n",
       "  <thead>\n",
       "    <tr style=\"text-align: right;\">\n",
       "      <th></th>\n",
       "      <th>0</th>\n",
       "      <th>1</th>\n",
       "      <th>2</th>\n",
       "      <th>3</th>\n",
       "    </tr>\n",
       "  </thead>\n",
       "  <tbody>\n",
       "    <tr>\n",
       "      <td>0</td>\n",
       "      <td>3</td>\n",
       "      <td>2</td>\n",
       "      <td>1</td>\n",
       "      <td>学生</td>\n",
       "    </tr>\n",
       "    <tr>\n",
       "      <td>1</td>\n",
       "      <td>6</td>\n",
       "      <td>5</td>\n",
       "      <td>4</td>\n",
       "      <td>讲师</td>\n",
       "    </tr>\n",
       "    <tr>\n",
       "      <td>2</td>\n",
       "      <td>9</td>\n",
       "      <td>8</td>\n",
       "      <td>7</td>\n",
       "      <td>教授</td>\n",
       "    </tr>\n",
       "  </tbody>\n",
       "</table>\n",
       "</div>"
      ],
      "text/plain": [
       "   0  1  2   3\n",
       "0  3  2  1  学生\n",
       "1  6  5  4  讲师\n",
       "2  9  8  7  教授"
      ]
     },
     "execution_count": 32,
     "metadata": {},
     "output_type": "execute_result"
    }
   ],
   "source": [
    "sheet = pd.read_excel(IO,sheet_name= 1,header = None) #默认第一行数据作为列名\n",
    "sheet"
   ]
  },
  {
   "cell_type": "code",
   "execution_count": 33,
   "metadata": {},
   "outputs": [
    {
     "data": {
      "text/html": [
       "<div>\n",
       "<style scoped>\n",
       "    .dataframe tbody tr th:only-of-type {\n",
       "        vertical-align: middle;\n",
       "    }\n",
       "\n",
       "    .dataframe tbody tr th {\n",
       "        vertical-align: top;\n",
       "    }\n",
       "\n",
       "    .dataframe thead th {\n",
       "        text-align: right;\n",
       "    }\n",
       "</style>\n",
       "<table border=\"1\" class=\"dataframe\">\n",
       "  <thead>\n",
       "    <tr style=\"text-align: right;\">\n",
       "      <th></th>\n",
       "      <th>3</th>\n",
       "      <th>2</th>\n",
       "      <th>1</th>\n",
       "      <th>学生</th>\n",
       "    </tr>\n",
       "  </thead>\n",
       "  <tbody>\n",
       "    <tr>\n",
       "      <td>0</td>\n",
       "      <td>6</td>\n",
       "      <td>5</td>\n",
       "      <td>4</td>\n",
       "      <td>讲师</td>\n",
       "    </tr>\n",
       "    <tr>\n",
       "      <td>1</td>\n",
       "      <td>9</td>\n",
       "      <td>8</td>\n",
       "      <td>7</td>\n",
       "      <td>教授</td>\n",
       "    </tr>\n",
       "  </tbody>\n",
       "</table>\n",
       "</div>"
      ],
      "text/plain": [
       "   3  2  1  学生\n",
       "0  6  5  4  讲师\n",
       "1  9  8  7  教授"
      ]
     },
     "execution_count": 33,
     "metadata": {},
     "output_type": "execute_result"
    }
   ],
   "source": [
    "sheet = pd.read_excel(IO,sheet_name= 1,header = 0) #默认第一行数据作为列名\n",
    "sheet"
   ]
  },
  {
   "cell_type": "markdown",
   "metadata": {},
   "source": [
    "- skiprows：省略指定行数的数据\n",
    "- skipfooter：省略从尾部数的行数据"
   ]
  },
  {
   "cell_type": "code",
   "execution_count": 34,
   "metadata": {},
   "outputs": [
    {
     "data": {
      "text/html": [
       "<div>\n",
       "<style scoped>\n",
       "    .dataframe tbody tr th:only-of-type {\n",
       "        vertical-align: middle;\n",
       "    }\n",
       "\n",
       "    .dataframe tbody tr th {\n",
       "        vertical-align: top;\n",
       "    }\n",
       "\n",
       "    .dataframe thead th {\n",
       "        text-align: right;\n",
       "    }\n",
       "</style>\n",
       "<table border=\"1\" class=\"dataframe\">\n",
       "  <thead>\n",
       "    <tr style=\"text-align: right;\">\n",
       "      <th></th>\n",
       "      <th>0</th>\n",
       "      <th>1</th>\n",
       "      <th>2</th>\n",
       "      <th>3</th>\n",
       "    </tr>\n",
       "  </thead>\n",
       "  <tbody>\n",
       "    <tr>\n",
       "      <td>0</td>\n",
       "      <td>6</td>\n",
       "      <td>5</td>\n",
       "      <td>4</td>\n",
       "      <td>讲师</td>\n",
       "    </tr>\n",
       "    <tr>\n",
       "      <td>1</td>\n",
       "      <td>9</td>\n",
       "      <td>8</td>\n",
       "      <td>7</td>\n",
       "      <td>教授</td>\n",
       "    </tr>\n",
       "  </tbody>\n",
       "</table>\n",
       "</div>"
      ],
      "text/plain": [
       "   0  1  2   3\n",
       "0  6  5  4  讲师\n",
       "1  9  8  7  教授"
      ]
     },
     "execution_count": 34,
     "metadata": {},
     "output_type": "execute_result"
    }
   ],
   "source": [
    "sheet = pd.read_excel(IO,sheet_name= 1,header = None,skiprows= 1)\n",
    "#略去1行的数据，自上而下的开始略去数据的行\n",
    "sheet"
   ]
  },
  {
   "cell_type": "code",
   "execution_count": 35,
   "metadata": {},
   "outputs": [
    {
     "data": {
      "text/html": [
       "<div>\n",
       "<style scoped>\n",
       "    .dataframe tbody tr th:only-of-type {\n",
       "        vertical-align: middle;\n",
       "    }\n",
       "\n",
       "    .dataframe tbody tr th {\n",
       "        vertical-align: top;\n",
       "    }\n",
       "\n",
       "    .dataframe thead th {\n",
       "        text-align: right;\n",
       "    }\n",
       "</style>\n",
       "<table border=\"1\" class=\"dataframe\">\n",
       "  <thead>\n",
       "    <tr style=\"text-align: right;\">\n",
       "      <th></th>\n",
       "      <th>0</th>\n",
       "      <th>1</th>\n",
       "      <th>2</th>\n",
       "      <th>3</th>\n",
       "    </tr>\n",
       "  </thead>\n",
       "  <tbody>\n",
       "    <tr>\n",
       "      <td>0</td>\n",
       "      <td>3</td>\n",
       "      <td>2</td>\n",
       "      <td>1</td>\n",
       "      <td>学生</td>\n",
       "    </tr>\n",
       "    <tr>\n",
       "      <td>1</td>\n",
       "      <td>6</td>\n",
       "      <td>5</td>\n",
       "      <td>4</td>\n",
       "      <td>讲师</td>\n",
       "    </tr>\n",
       "  </tbody>\n",
       "</table>\n",
       "</div>"
      ],
      "text/plain": [
       "   0  1  2   3\n",
       "0  3  2  1  学生\n",
       "1  6  5  4  讲师"
      ]
     },
     "execution_count": 35,
     "metadata": {},
     "output_type": "execute_result"
    }
   ],
   "source": [
    "sheet = pd.read_excel(IO,sheet_name= 1,header = None,skipfooter= 1)\n",
    "#略去1行的数据，自上而下的开始略去数据的行\n",
    "sheet"
   ]
  },
  {
   "cell_type": "markdown",
   "metadata": {},
   "source": [
    "- index_col ：指定列为索引列，也可以使用 u’string’"
   ]
  },
  {
   "cell_type": "code",
   "execution_count": 36,
   "metadata": {},
   "outputs": [
    {
     "data": {
      "text/html": [
       "<div>\n",
       "<style scoped>\n",
       "    .dataframe tbody tr th:only-of-type {\n",
       "        vertical-align: middle;\n",
       "    }\n",
       "\n",
       "    .dataframe tbody tr th {\n",
       "        vertical-align: top;\n",
       "    }\n",
       "\n",
       "    .dataframe thead th {\n",
       "        text-align: right;\n",
       "    }\n",
       "</style>\n",
       "<table border=\"1\" class=\"dataframe\">\n",
       "  <thead>\n",
       "    <tr style=\"text-align: right;\">\n",
       "      <th></th>\n",
       "      <th>0</th>\n",
       "      <th>1</th>\n",
       "      <th>2</th>\n",
       "    </tr>\n",
       "    <tr>\n",
       "      <th>3</th>\n",
       "      <th></th>\n",
       "      <th></th>\n",
       "      <th></th>\n",
       "    </tr>\n",
       "  </thead>\n",
       "  <tbody>\n",
       "    <tr>\n",
       "      <td>学生</td>\n",
       "      <td>3</td>\n",
       "      <td>2</td>\n",
       "      <td>1</td>\n",
       "    </tr>\n",
       "    <tr>\n",
       "      <td>讲师</td>\n",
       "      <td>6</td>\n",
       "      <td>5</td>\n",
       "      <td>4</td>\n",
       "    </tr>\n",
       "    <tr>\n",
       "      <td>教授</td>\n",
       "      <td>9</td>\n",
       "      <td>8</td>\n",
       "      <td>7</td>\n",
       "    </tr>\n",
       "  </tbody>\n",
       "</table>\n",
       "</div>"
      ],
      "text/plain": [
       "    0  1  2\n",
       "3          \n",
       "学生  3  2  1\n",
       "讲师  6  5  4\n",
       "教授  9  8  7"
      ]
     },
     "execution_count": 36,
     "metadata": {},
     "output_type": "execute_result"
    }
   ],
   "source": [
    "#指定第二列的数据作为行索引\n",
    "sheet = pd.read_excel(IO,sheet_name= 1,header = None,skipfooter= 0,index_col=3)\n",
    "sheet"
   ]
  },
  {
   "cell_type": "markdown",
   "metadata": {},
   "source": [
    "- names：指定列的名字，传入一个list数据"
   ]
  },
  {
   "cell_type": "code",
   "execution_count": 37,
   "metadata": {},
   "outputs": [
    {
     "data": {
      "text/html": [
       "<div>\n",
       "<style scoped>\n",
       "    .dataframe tbody tr th:only-of-type {\n",
       "        vertical-align: middle;\n",
       "    }\n",
       "\n",
       "    .dataframe tbody tr th {\n",
       "        vertical-align: top;\n",
       "    }\n",
       "\n",
       "    .dataframe thead th {\n",
       "        text-align: right;\n",
       "    }\n",
       "</style>\n",
       "<table border=\"1\" class=\"dataframe\">\n",
       "  <thead>\n",
       "    <tr style=\"text-align: right;\">\n",
       "      <th></th>\n",
       "      <th>a</th>\n",
       "      <th>b</th>\n",
       "      <th>c</th>\n",
       "    </tr>\n",
       "  </thead>\n",
       "  <tbody>\n",
       "    <tr>\n",
       "      <td>学生</td>\n",
       "      <td>3</td>\n",
       "      <td>2</td>\n",
       "      <td>1</td>\n",
       "    </tr>\n",
       "    <tr>\n",
       "      <td>讲师</td>\n",
       "      <td>6</td>\n",
       "      <td>5</td>\n",
       "      <td>4</td>\n",
       "    </tr>\n",
       "    <tr>\n",
       "      <td>教授</td>\n",
       "      <td>9</td>\n",
       "      <td>8</td>\n",
       "      <td>7</td>\n",
       "    </tr>\n",
       "  </tbody>\n",
       "</table>\n",
       "</div>"
      ],
      "text/plain": [
       "    a  b  c\n",
       "学生  3  2  1\n",
       "讲师  6  5  4\n",
       "教授  9  8  7"
      ]
     },
     "execution_count": 37,
     "metadata": {},
     "output_type": "execute_result"
    }
   ],
   "source": [
    "sheet = pd.read_excel(IO,sheet_name= 1,header = None,skipfooter= 0,index_col=3,names=['a','b','c'])\n",
    "sheet"
   ]
  },
  {
   "cell_type": "markdown",
   "metadata": {},
   "source": [
    "### 7.1.4 写对象 / 类 —— ExcelWriter\n",
    "\n",
    "- 语法\n",
    "\n",
    "```python\n",
    ">>> pd.ExcelWriter(path, engine=None, **kwargs)\n",
    "```\n",
    "\n",
    "\n",
    "- 参数\n",
    "\n",
    "    - path 指向 xls 或 xlsx 文件的路径\n",
    "    - engine 字符串，写引擎（略）\n",
    "    - kwds 关键字参数（date_format、datetime_format 等，略）\n",
    "    \n",
    "\n",
    "- 良好习惯 —— 使用 `with`"
   ]
  },
  {
   "cell_type": "code",
   "execution_count": 38,
   "metadata": {},
   "outputs": [],
   "source": [
    "with pd.ExcelWriter('data\\梁山好汉榜-多表.xlsx') as writer:\n",
    "    heroes_df[[\"忠诚\",\"智慧\",\"勇敢\"]].to_excel(writer, sheet_name='忠智勇')\n",
    "    heroes_df[[\"法术\",\"生命\"]].to_excel(writer, sheet_name='术数')"
   ]
  },
  {
   "cell_type": "markdown",
   "metadata": {},
   "source": [
    "### 7.1.5 读对象/类 —— ExcelFile\n",
    "\n",
    "- 语法\n",
    "\n",
    "```python\n",
    ">>> pd.ExcelFile(io, **kwds)\n",
    "```\n",
    "\n",
    "\n",
    "- 参数\n",
    "\n",
    "    - io 字符串、路径对象、类文件对象\n",
    "    - kwds 关键字参数（略）"
   ]
  },
  {
   "cell_type": "code",
   "execution_count": 39,
   "metadata": {},
   "outputs": [
    {
     "name": "stdout",
     "output_type": "stream",
     "text": [
      "heroes_df对象已经被删除\n"
     ]
    }
   ],
   "source": [
    "try:\n",
    "    del heroes_df\n",
    "    heroes_df\n",
    "except NameError:\n",
    "    print(\"{0}对象已经被删除\".format(\"heroes_df\"))"
   ]
  },
  {
   "cell_type": "code",
   "execution_count": 40,
   "metadata": {},
   "outputs": [
    {
     "data": {
      "text/html": [
       "<div>\n",
       "<style scoped>\n",
       "    .dataframe tbody tr th:only-of-type {\n",
       "        vertical-align: middle;\n",
       "    }\n",
       "\n",
       "    .dataframe tbody tr th {\n",
       "        vertical-align: top;\n",
       "    }\n",
       "\n",
       "    .dataframe thead th {\n",
       "        text-align: right;\n",
       "    }\n",
       "</style>\n",
       "<table border=\"1\" class=\"dataframe\">\n",
       "  <thead>\n",
       "    <tr style=\"text-align: right;\">\n",
       "      <th></th>\n",
       "      <th>Unnamed: 0</th>\n",
       "      <th>忠诚</th>\n",
       "      <th>智慧</th>\n",
       "      <th>勇敢</th>\n",
       "    </tr>\n",
       "  </thead>\n",
       "  <tbody>\n",
       "    <tr>\n",
       "      <td>0</td>\n",
       "      <td>0</td>\n",
       "      <td>90</td>\n",
       "      <td>99</td>\n",
       "      <td>*</td>\n",
       "    </tr>\n",
       "    <tr>\n",
       "      <td>1</td>\n",
       "      <td>1</td>\n",
       "      <td>99</td>\n",
       "      <td>95</td>\n",
       "      <td>95.9323</td>\n",
       "    </tr>\n",
       "    <tr>\n",
       "      <td>2</td>\n",
       "      <td>2</td>\n",
       "      <td>91</td>\n",
       "      <td>91</td>\n",
       "      <td>96</td>\n",
       "    </tr>\n",
       "    <tr>\n",
       "      <td>3</td>\n",
       "      <td>3</td>\n",
       "      <td>96</td>\n",
       "      <td>92</td>\n",
       "      <td>98</td>\n",
       "    </tr>\n",
       "    <tr>\n",
       "      <td>4</td>\n",
       "      <td>4</td>\n",
       "      <td>92</td>\n",
       "      <td>92</td>\n",
       "      <td>93</td>\n",
       "    </tr>\n",
       "    <tr>\n",
       "      <td>5</td>\n",
       "      <td>5</td>\n",
       "      <td>95</td>\n",
       "      <td>95</td>\n",
       "      <td>93</td>\n",
       "    </tr>\n",
       "    <tr>\n",
       "      <td>6</td>\n",
       "      <td>6</td>\n",
       "      <td>94</td>\n",
       "      <td>92</td>\n",
       "      <td>94</td>\n",
       "    </tr>\n",
       "    <tr>\n",
       "      <td>7</td>\n",
       "      <td>7</td>\n",
       "      <td>91</td>\n",
       "      <td>98</td>\n",
       "      <td>92</td>\n",
       "    </tr>\n",
       "  </tbody>\n",
       "</table>\n",
       "</div>"
      ],
      "text/plain": [
       "   Unnamed: 0  忠诚  智慧       勇敢\n",
       "0           0  90  99        *\n",
       "1           1  99  95  95.9323\n",
       "2           2  91  91       96\n",
       "3           3  96  92       98\n",
       "4           4  92  92       93\n",
       "5           5  95  95       93\n",
       "6           6  94  92       94\n",
       "7           7  91  98       92"
      ]
     },
     "execution_count": 40,
     "metadata": {},
     "output_type": "execute_result"
    }
   ],
   "source": [
    "xlsx = pd.ExcelFile('data\\梁山好汉榜-多表.xlsx') # 文件必须存在\n",
    "heroes_df = pd.read_excel(xlsx)\n",
    "heroes_df"
   ]
  },
  {
   "cell_type": "code",
   "execution_count": 41,
   "metadata": {},
   "outputs": [
    {
     "data": {
      "text/html": [
       "<div>\n",
       "<style scoped>\n",
       "    .dataframe tbody tr th:only-of-type {\n",
       "        vertical-align: middle;\n",
       "    }\n",
       "\n",
       "    .dataframe tbody tr th {\n",
       "        vertical-align: top;\n",
       "    }\n",
       "\n",
       "    .dataframe thead th {\n",
       "        text-align: right;\n",
       "    }\n",
       "</style>\n",
       "<table border=\"1\" class=\"dataframe\">\n",
       "  <thead>\n",
       "    <tr style=\"text-align: right;\">\n",
       "      <th></th>\n",
       "      <th>Unnamed: 0</th>\n",
       "      <th>忠诚</th>\n",
       "      <th>智慧</th>\n",
       "      <th>勇敢</th>\n",
       "      <th>法术</th>\n",
       "      <th>生命</th>\n",
       "    </tr>\n",
       "  </thead>\n",
       "  <tbody>\n",
       "    <tr>\n",
       "      <td>0</td>\n",
       "      <td>宋江</td>\n",
       "      <td>90</td>\n",
       "      <td>99</td>\n",
       "      <td>*</td>\n",
       "      <td>98</td>\n",
       "      <td>90</td>\n",
       "    </tr>\n",
       "    <tr>\n",
       "      <td>1</td>\n",
       "      <td>卢俊义</td>\n",
       "      <td>99</td>\n",
       "      <td>95</td>\n",
       "      <td>95.9323</td>\n",
       "      <td>94</td>\n",
       "      <td>91</td>\n",
       "    </tr>\n",
       "    <tr>\n",
       "      <td>2</td>\n",
       "      <td>吴用</td>\n",
       "      <td>91</td>\n",
       "      <td>91</td>\n",
       "      <td>96</td>\n",
       "      <td>97</td>\n",
       "      <td>96</td>\n",
       "    </tr>\n",
       "    <tr>\n",
       "      <td>3</td>\n",
       "      <td>公孙胜</td>\n",
       "      <td>96</td>\n",
       "      <td>92</td>\n",
       "      <td>98</td>\n",
       "      <td>95</td>\n",
       "      <td>92</td>\n",
       "    </tr>\n",
       "    <tr>\n",
       "      <td>4</td>\n",
       "      <td>关胜</td>\n",
       "      <td>92</td>\n",
       "      <td>92</td>\n",
       "      <td>93</td>\n",
       "      <td>93</td>\n",
       "      <td>98</td>\n",
       "    </tr>\n",
       "    <tr>\n",
       "      <td>5</td>\n",
       "      <td>林冲</td>\n",
       "      <td>95</td>\n",
       "      <td>95</td>\n",
       "      <td>93</td>\n",
       "      <td>94</td>\n",
       "      <td>98</td>\n",
       "    </tr>\n",
       "    <tr>\n",
       "      <td>6</td>\n",
       "      <td>秦明</td>\n",
       "      <td>94</td>\n",
       "      <td>92</td>\n",
       "      <td>94</td>\n",
       "      <td>95</td>\n",
       "      <td>99</td>\n",
       "    </tr>\n",
       "    <tr>\n",
       "      <td>7</td>\n",
       "      <td>呼延灼</td>\n",
       "      <td>91</td>\n",
       "      <td>98</td>\n",
       "      <td>92</td>\n",
       "      <td>97</td>\n",
       "      <td>93</td>\n",
       "    </tr>\n",
       "  </tbody>\n",
       "</table>\n",
       "</div>"
      ],
      "text/plain": [
       "  Unnamed: 0  忠诚  智慧       勇敢  法术  生命\n",
       "0         宋江  90  99        *  98  90\n",
       "1        卢俊义  99  95  95.9323  94  91\n",
       "2         吴用  91  91       96  97  96\n",
       "3        公孙胜  96  92       98  95  92\n",
       "4         关胜  92  92       93  93  98\n",
       "5         林冲  95  95       93  94  98\n",
       "6         秦明  94  92       94  95  99\n",
       "7        呼延灼  91  98       92  97  93"
      ]
     },
     "execution_count": 41,
     "metadata": {},
     "output_type": "execute_result"
    }
   ],
   "source": [
    "heroes_df = pd.read_excel(\"data\\梁山好汉榜.xlsx\")\n",
    "heroes_df"
   ]
  },
  {
   "cell_type": "code",
   "execution_count": 42,
   "metadata": {},
   "outputs": [
    {
     "data": {
      "text/html": [
       "<div>\n",
       "<style scoped>\n",
       "    .dataframe tbody tr th:only-of-type {\n",
       "        vertical-align: middle;\n",
       "    }\n",
       "\n",
       "    .dataframe tbody tr th {\n",
       "        vertical-align: top;\n",
       "    }\n",
       "\n",
       "    .dataframe thead th {\n",
       "        text-align: right;\n",
       "    }\n",
       "</style>\n",
       "<table border=\"1\" class=\"dataframe\">\n",
       "  <thead>\n",
       "    <tr style=\"text-align: right;\">\n",
       "      <th></th>\n",
       "      <th>Unnamed: 0</th>\n",
       "      <th>忠诚</th>\n",
       "      <th>智慧</th>\n",
       "      <th>勇敢</th>\n",
       "      <th>Unnamed: 0</th>\n",
       "      <th>法术</th>\n",
       "      <th>生命</th>\n",
       "    </tr>\n",
       "  </thead>\n",
       "  <tbody>\n",
       "    <tr>\n",
       "      <td>0</td>\n",
       "      <td>0</td>\n",
       "      <td>90</td>\n",
       "      <td>99</td>\n",
       "      <td>*</td>\n",
       "      <td>0</td>\n",
       "      <td>98</td>\n",
       "      <td>90</td>\n",
       "    </tr>\n",
       "    <tr>\n",
       "      <td>1</td>\n",
       "      <td>1</td>\n",
       "      <td>99</td>\n",
       "      <td>95</td>\n",
       "      <td>95.9323</td>\n",
       "      <td>1</td>\n",
       "      <td>94</td>\n",
       "      <td>91</td>\n",
       "    </tr>\n",
       "    <tr>\n",
       "      <td>2</td>\n",
       "      <td>2</td>\n",
       "      <td>91</td>\n",
       "      <td>91</td>\n",
       "      <td>96</td>\n",
       "      <td>2</td>\n",
       "      <td>97</td>\n",
       "      <td>96</td>\n",
       "    </tr>\n",
       "    <tr>\n",
       "      <td>3</td>\n",
       "      <td>3</td>\n",
       "      <td>96</td>\n",
       "      <td>92</td>\n",
       "      <td>98</td>\n",
       "      <td>3</td>\n",
       "      <td>95</td>\n",
       "      <td>92</td>\n",
       "    </tr>\n",
       "    <tr>\n",
       "      <td>4</td>\n",
       "      <td>4</td>\n",
       "      <td>92</td>\n",
       "      <td>92</td>\n",
       "      <td>93</td>\n",
       "      <td>4</td>\n",
       "      <td>93</td>\n",
       "      <td>98</td>\n",
       "    </tr>\n",
       "    <tr>\n",
       "      <td>5</td>\n",
       "      <td>5</td>\n",
       "      <td>95</td>\n",
       "      <td>95</td>\n",
       "      <td>93</td>\n",
       "      <td>5</td>\n",
       "      <td>94</td>\n",
       "      <td>98</td>\n",
       "    </tr>\n",
       "    <tr>\n",
       "      <td>6</td>\n",
       "      <td>6</td>\n",
       "      <td>94</td>\n",
       "      <td>92</td>\n",
       "      <td>94</td>\n",
       "      <td>6</td>\n",
       "      <td>95</td>\n",
       "      <td>99</td>\n",
       "    </tr>\n",
       "    <tr>\n",
       "      <td>7</td>\n",
       "      <td>7</td>\n",
       "      <td>91</td>\n",
       "      <td>98</td>\n",
       "      <td>92</td>\n",
       "      <td>7</td>\n",
       "      <td>97</td>\n",
       "      <td>93</td>\n",
       "    </tr>\n",
       "  </tbody>\n",
       "</table>\n",
       "</div>"
      ],
      "text/plain": [
       "   Unnamed: 0  忠诚  智慧       勇敢  Unnamed: 0  法术  生命\n",
       "0           0  90  99        *           0  98  90\n",
       "1           1  99  95  95.9323           1  94  91\n",
       "2           2  91  91       96           2  97  96\n",
       "3           3  96  92       98           3  95  92\n",
       "4           4  92  92       93           4  93  98\n",
       "5           5  95  95       93           5  94  98\n",
       "6           6  94  92       94           6  95  99\n",
       "7           7  91  98       92           7  97  93"
      ]
     },
     "execution_count": 42,
     "metadata": {},
     "output_type": "execute_result"
    }
   ],
   "source": [
    "with pd.ExcelFile('data\\梁山好汉榜-多表.xlsx') as xls:\n",
    "    df1 = pd.read_excel(xls, sheet_name='忠智勇')\n",
    "    df2 = pd.read_excel(xls, sheet_name='术数')\n",
    "\n",
    "df_heros = pd.concat([df1,df2],axis=1)\n",
    "df_heros\n",
    "#pd.read_excel?"
   ]
  },
  {
   "cell_type": "markdown",
   "metadata": {},
   "source": [
    "- 试一试写入excel的几个参数"
   ]
  },
  {
   "cell_type": "code",
   "execution_count": 43,
   "metadata": {},
   "outputs": [
    {
     "data": {
      "text/html": [
       "<div>\n",
       "<style scoped>\n",
       "    .dataframe tbody tr th:only-of-type {\n",
       "        vertical-align: middle;\n",
       "    }\n",
       "\n",
       "    .dataframe tbody tr th {\n",
       "        vertical-align: top;\n",
       "    }\n",
       "\n",
       "    .dataframe thead th {\n",
       "        text-align: right;\n",
       "    }\n",
       "</style>\n",
       "<table border=\"1\" class=\"dataframe\">\n",
       "  <thead>\n",
       "    <tr style=\"text-align: right;\">\n",
       "      <th></th>\n",
       "      <th>A</th>\n",
       "      <th>B</th>\n",
       "      <th>C</th>\n",
       "      <th>D</th>\n",
       "      <th>E</th>\n",
       "    </tr>\n",
       "  </thead>\n",
       "  <tbody>\n",
       "    <tr>\n",
       "      <td>a</td>\n",
       "      <td>89.03</td>\n",
       "      <td>91.83</td>\n",
       "      <td>97.79</td>\n",
       "      <td>77.21</td>\n",
       "      <td>44.52</td>\n",
       "    </tr>\n",
       "    <tr>\n",
       "      <td>b</td>\n",
       "      <td>99.09</td>\n",
       "      <td>NaN</td>\n",
       "      <td>30.09</td>\n",
       "      <td>3.10</td>\n",
       "      <td>76.63</td>\n",
       "    </tr>\n",
       "    <tr>\n",
       "      <td>c</td>\n",
       "      <td>38.43</td>\n",
       "      <td>NaN</td>\n",
       "      <td>79.41</td>\n",
       "      <td>32.98</td>\n",
       "      <td>61.99</td>\n",
       "    </tr>\n",
       "    <tr>\n",
       "      <td>d</td>\n",
       "      <td>24.85</td>\n",
       "      <td>NaN</td>\n",
       "      <td>81.08</td>\n",
       "      <td>77.32</td>\n",
       "      <td>36.54</td>\n",
       "    </tr>\n",
       "    <tr>\n",
       "      <td>e</td>\n",
       "      <td>78.10</td>\n",
       "      <td>NaN</td>\n",
       "      <td>84.18</td>\n",
       "      <td>19.40</td>\n",
       "      <td>73.40</td>\n",
       "    </tr>\n",
       "    <tr>\n",
       "      <td>f</td>\n",
       "      <td>42.82</td>\n",
       "      <td>24.90</td>\n",
       "      <td>2.32</td>\n",
       "      <td>66.21</td>\n",
       "      <td>53.68</td>\n",
       "    </tr>\n",
       "    <tr>\n",
       "      <td>g</td>\n",
       "      <td>43.62</td>\n",
       "      <td>10.79</td>\n",
       "      <td>14.84</td>\n",
       "      <td>20.41</td>\n",
       "      <td>63.80</td>\n",
       "    </tr>\n",
       "    <tr>\n",
       "      <td>h</td>\n",
       "      <td>5.80</td>\n",
       "      <td>14.16</td>\n",
       "      <td>55.73</td>\n",
       "      <td>96.63</td>\n",
       "      <td>52.52</td>\n",
       "    </tr>\n",
       "  </tbody>\n",
       "</table>\n",
       "</div>"
      ],
      "text/plain": [
       "       A      B      C      D      E\n",
       "a  89.03  91.83  97.79  77.21  44.52\n",
       "b  99.09    NaN  30.09   3.10  76.63\n",
       "c  38.43    NaN  79.41  32.98  61.99\n",
       "d  24.85    NaN  81.08  77.32  36.54\n",
       "e  78.10    NaN  84.18  19.40  73.40\n",
       "f  42.82  24.90   2.32  66.21  53.68\n",
       "g  43.62  10.79  14.84  20.41  63.80\n",
       "h   5.80  14.16  55.73  96.63  52.52"
      ]
     },
     "execution_count": 43,
     "metadata": {},
     "output_type": "execute_result"
    }
   ],
   "source": [
    "data_df  #再看看数据"
   ]
  },
  {
   "cell_type": "code",
   "execution_count": 44,
   "metadata": {},
   "outputs": [],
   "source": [
    "writer = pd.ExcelWriter(\"data\\data.xlsx\")\n",
    "data_df.to_excel(writer, sheet_name='数据1')\n",
    "data_df.to_excel(writer, sheet_name='数据2', na_rep='NULL', float_format=\"%.1f\") \n",
    "data_df.to_excel(writer, sheet_name='数据3', columns=[\"D\", \"C\", \"A\"] )\n",
    "data_df.to_excel(writer, sheet_name='数据4', header = [\"AA\", \"BB\", \"CC\", \"DD\", \"EE\"])\n",
    "data_df.to_excel(writer, sheet_name='数据5', index = False)\n",
    "data_df.to_excel(writer, sheet_name='数据6', index_label = [\"索引\"])\n",
    "data_df.to_excel(writer, sheet_name='数据7', startrow = 2)\n",
    "data_df.to_excel(writer, sheet_name='数据8', startcol = 2)\n",
    "data_df.to_excel(writer, sheet_name='数据9', startrow = 2, startcol = 2)\n",
    "##其他的大家自己区尝试\n",
    "writer.save()"
   ]
  },
  {
   "cell_type": "markdown",
   "metadata": {},
   "source": [
    "- 试一试读入excel的几个参数"
   ]
  },
  {
   "cell_type": "code",
   "execution_count": 45,
   "metadata": {},
   "outputs": [],
   "source": [
    "pd.read_excel?"
   ]
  },
  {
   "cell_type": "code",
   "execution_count": null,
   "metadata": {},
   "outputs": [],
   "source": [
    "with pd.ExcelFile('data\\\\data.xlsx') as reader:\n",
    "    data1_df = pd.read_excel(reader)\n",
    "    #data1_df = pd.read_excel(reader, sheet_name='数据2')\n",
    "    #data1_df = pd.read_excel(reader, sheet_name='数据3', index_col=None, header=None)  #\n",
    "    #data1_df = pd.read_excel(reader, sheet_name='数据7', skiprows = [1])\n",
    "    #data1_df = pd.read_excel(reader, sheet_name='数据7', skiprows = [1], index_col = [0])\n",
    "    #data1_df = pd.read_excel(reader, sheet_name='数据7', header=[1])\n",
    "    #data1_df = pd.read_excel(reader, sheet_name='数据9',  header=[2])#, skipfooter=3)  #忽略后面三行\n",
    "    #data1_df = pd.read_excel(reader, sheet_name='数据2', names=[\"AA\",\"BB\",\"CC\",\"DE\",\"FE\"])# 读入后列标题名字修改\n",
    "    #大家可以自己去尝试\n",
    "\n",
    "data1_df"
   ]
  },
  {
   "cell_type": "markdown",
   "metadata": {},
   "source": [
    "## 7.2 CSV 文件简介\n",
    "\n",
    "\n",
    "- CSV 文件介绍\n",
    "    - 逗号分隔值(Comma-Separated Values)文件\n",
    "    - 纯文本，使用某个字符集，比如ASCII、Unicode、EBCDIC或GB2312 等\n",
    "    - 类表格、类数据库\n",
    "    - 由记录组成（典型的是每行一条记录）\n",
    "    - 每条记录被分隔符分隔为字段（典型分隔符有逗号、分号或制表符；有时分隔符可以包括可选的空格）\n",
    "    - 每条记录都有同样的字段序列\n",
    "\n",
    "\n",
    "- CSV 文件的常规打开方式\n",
    "    - 文本编辑器：记事本、写字板、notepad++、vi、vim、emacs、ultra-editor...\n",
    "    - EXCEL 软件\n",
    "    - 等"
   ]
  },
  {
   "cell_type": "markdown",
   "metadata": {},
   "source": [
    "## 7.3 CSV 文件（文本文件）操作\n",
    "\n",
    "- 写 CSV 文件\n",
    "- 读 CSV 文件"
   ]
  },
  {
   "cell_type": "markdown",
   "metadata": {},
   "source": [
    "### 7.3.1 写 CSV 文件\n",
    "\n",
    "- 命令语法\n",
    "\n",
    "    ```python\n",
    "    >>> df = pd.to_csv(path_or_buf=None, sep=',', na_rep='', float_format=None, columns=None, header=True, index=True,\n",
    "                 index_label=None, mode='w', encoding=None, compression=None, quoting=None, quotechar='\"',\n",
    "                 line_terminator='\\n', chunksize=None, tupleize_cols=None, date_format=None, doublequote=True,\n",
    "                 escapechar=None, decimal='.')\n",
    "    ```\n",
    "    \n",
    "    \n",
    "- 参数说明\n",
    "    - path_or_buf —— 字符串或文件句柄、缺省为 None\n",
    "    - sep —— 分隔符，缺省为逗号\n",
    "    - encoding —— 汉字编码，选 \"utf_8_sig\"\n",
    "    - 其它 —— 略\n",
    "    \n",
    "    \n",
    "- 功能 —— 写 csv 文件"
   ]
  },
  {
   "cell_type": "code",
   "execution_count": null,
   "metadata": {},
   "outputs": [],
   "source": [
    "# 先制造一个 `csv` 文件\n",
    "heroes_df.to_csv(\"data\\heroes_table1.csv\", encoding=\"utf_8_sig\")\n",
    "#heroes_df.to_csv(\"data\\heroes_table2.csv\", encoding = \"utf-8\") # 汉字乱码 #用excel打开\n",
    "#heroes_df.to_csv(\"data\\heroes_table3.csv\")"
   ]
  },
  {
   "cell_type": "markdown",
   "metadata": {},
   "source": [
    "### 7.3.2 读 CSV 文件\n",
    "\n",
    "- 命令语法\n",
    "\n",
    "    ```python\n",
    "    >>> df = pd.read_csv(filepath_or_buffer, sep=',', delimiter=None, header='infer', names=None, index_col=None, usecols=None, \n",
    "                         squeeze=False, prefix=None, mangle_dupe_cols=True, dtype=None, engine=None, converters=None, \n",
    "                         true_values=None, false_values=None, skipinitialspace=False, skiprows=None, nrows=None, \n",
    "                         na_values=None, keep_default_na=True, na_filter=True, verbose=False, skip_blank_lines=True, \n",
    "                         parse_dates=False, infer_datetime_format=False, keep_date_col=False, date_parser=None, \n",
    "                         dayfirst=False, iterator=False, chunksize=None, compression='infer', thousands=None, decimal=b'.', \n",
    "                         lineterminator=None, quotechar='\"', quoting=0, escapechar=None, comment=None, encoding=None, \n",
    "                         dialect=None, tupleize_cols=None, error_bad_lines=True, warn_bad_lines=True, skipfooter=0, \n",
    "                         doublequote=True, delim_whitespace=False, low_memory=True, memory_map=False, float_precision=None)\n",
    "    ```\n",
    "    \n",
    "    \n",
    "- 参数说明\n",
    "    - filepath_or_buffer —— 文件名（句柄）、StringIO、URL\n",
    "    - sep —— 分隔符，缺省为逗号\n",
    "    - delimiter —— 定界符，备选分隔符（如果指定该参数，则sep参数失效）\n",
    "    - names —— 拟采用列的名称数组\n",
    "    - 其它 —— 略\n",
    "    \n",
    "    \n",
    "- 注意\n",
    "    - 扩展名可以采用 `txt`\n",
    "    - 文件名路径包含中文名可能报错"
   ]
  },
  {
   "cell_type": "code",
   "execution_count": null,
   "metadata": {},
   "outputs": [],
   "source": [
    "heroes_df_from_csv = pd.read_csv(\"data\\heroes_table.csv\")\n",
    "heroes_df_from_csv"
   ]
  },
  {
   "cell_type": "code",
   "execution_count": null,
   "metadata": {},
   "outputs": [],
   "source": [
    "heroes_df_from_csv = pd.read_csv(\"data\\heroes_table.csv\",index_col=0)\n",
    "heroes_df_from_csv"
   ]
  },
  {
   "cell_type": "markdown",
   "metadata": {},
   "source": [
    "### 7.3.3 字符串 IO 对象 —— `StringIO`"
   ]
  },
  {
   "cell_type": "markdown",
   "metadata": {},
   "source": [
    "- 很多时候，数据读写不一定是文件，也可以在内存中读写。\n",
    "- StringIO顾名思义就是在内存中读写str。\n",
    "- 要把str写入StringIO，我们需要先创建一个StringIO，然后，像文件一样写入即可.\n",
    "-  \n",
    "- BytesIO操作的只能是str，如果要操作二进制数据，就需要使用BytesIO。\n",
    "- BytesIO实现了在内存中读写bytes，我们创建一个BytesIO，然后写入一些bytes"
   ]
  },
  {
   "cell_type": "code",
   "execution_count": null,
   "metadata": {},
   "outputs": [],
   "source": [
    "from io import StringIO\n",
    "# from pandas.compat import StringIO, BytesIO #早期StringIO在pandas模块下"
   ]
  },
  {
   "cell_type": "markdown",
   "metadata": {},
   "source": [
    "#### (1) 类 `csv` 字符串"
   ]
  },
  {
   "cell_type": "code",
   "execution_count": null,
   "metadata": {},
   "outputs": [],
   "source": [
    "data1 = 'col1,col2,col3\\na,b,1\\na,b,2\\nc,d,3'\n",
    "data1"
   ]
  },
  {
   "cell_type": "code",
   "execution_count": null,
   "metadata": {},
   "outputs": [],
   "source": [
    "pd.read_csv(StringIO(data1))"
   ]
  },
  {
   "cell_type": "markdown",
   "metadata": {},
   "source": [
    "#### (2) 良好的格式"
   ]
  },
  {
   "cell_type": "code",
   "execution_count": null,
   "metadata": {},
   "outputs": [],
   "source": [
    "data2 = ('col1,col2,col3\\n'\n",
    "         'a,b,1\\n'\n",
    "         'a,b,2\\n'\n",
    "         'c,d,3')\n",
    "data2"
   ]
  },
  {
   "cell_type": "code",
   "execution_count": null,
   "metadata": {},
   "outputs": [],
   "source": [
    "pd.read_csv(StringIO(data2))"
   ]
  },
  {
   "cell_type": "markdown",
   "metadata": {},
   "source": [
    "#### (3) 列筛选"
   ]
  },
  {
   "cell_type": "code",
   "execution_count": null,
   "metadata": {},
   "outputs": [],
   "source": [
    "pd.read_csv(StringIO(data1), usecols = ['col1', 'col3'])\n",
    "# pd.read_csv(StringIO(data1), usecols =lambda x: x.upper() in ['COL1', 'COL3'])"
   ]
  },
  {
   "cell_type": "markdown",
   "metadata": {},
   "source": [
    "## 7.4 Html中的表格文件\n"
   ]
  },
  {
   "cell_type": "code",
   "execution_count": null,
   "metadata": {},
   "outputs": [],
   "source": [
    "url = 'http://app.finance.ifeng.com/list/stock.php?t=ha'"
   ]
  },
  {
   "cell_type": "code",
   "execution_count": null,
   "metadata": {},
   "outputs": [],
   "source": [
    "from io import StringIO, BytesIO\n",
    "import pandas as pd"
   ]
  },
  {
   "cell_type": "code",
   "execution_count": null,
   "metadata": {},
   "outputs": [],
   "source": [
    "dfs = pd.read_html(url)"
   ]
  },
  {
   "cell_type": "code",
   "execution_count": null,
   "metadata": {},
   "outputs": [],
   "source": [
    "dfs[0]"
   ]
  },
  {
   "cell_type": "markdown",
   "metadata": {},
   "source": [
    "## 7.5 Json文件读取"
   ]
  },
  {
   "cell_type": "markdown",
   "metadata": {},
   "source": [
    "### 7.5.1 什么是Jason文件"
   ]
  },
  {
   "cell_type": "markdown",
   "metadata": {},
   "source": [
    "#### JSON(JavaScript Object Notation) 是一种轻量级的数据交换格式。 易于人阅读和编写。"
   ]
  },
  {
   "cell_type": "markdown",
   "metadata": {},
   "source": [
    "- JSON建构于两种结构，一是“名称/值”对的集合（A collection of name/value pairs）。\n",
    "    - 不同的语言中，它被理解为对象（object），纪录（record），结构（struct），字典（dictionary），哈希表（hash table），有键列表（keyed list），或者关联数组 （associative array）。\n",
    "- 二是值的有序列表（An ordered list of values）。在大部分语言中，它被理解为数组（array）。"
   ]
  },
  {
   "cell_type": "markdown",
   "metadata": {},
   "source": [
    "### 7.5.2 Jason文件读取"
   ]
  },
  {
   "cell_type": "code",
   "execution_count": null,
   "metadata": {},
   "outputs": [],
   "source": [
    "# 可更换为自己的字符串\n",
    "\n",
    "json_str = \"\"\"\n",
    "[{\"ttery\":\"min\",\"issue\":\"20130801-3391\",\"code\":\"8,4,5,2,9\",\"code1\":\"297734529\",\"code2\":null,\"time\":1013395466000},\n",
    "{\"ttery\":\"min\",\"issue\":\"20130801-3390\",\"code\":\"7,8,2,1,2\",\"code1\":\"298058212\",\"code2\":null,\"time\":1013395406000},\n",
    "{\"ttery\":\"min\",\"issue\":\"20130801-3389\",\"code\":\"5,9,1,2,9\",\"code1\":\"298329129\",\"code2\":null,\"time\":1013395346000},\n",
    "{\"ttery\":\"min\",\"issue\":\"20130801-3388\",\"code\":\"3,8,7,3,3\",\"code1\":\"298588733\",\"code2\":null,\"time\":1013395286000},\n",
    "{\"ttery\":\"min\",\"issue\":\"20130801-3387\",\"code\":\"0,8,5,2,7\",\"code1\":\"298818527\",\"code2\":null,\"time\":1013395226000}]\n",
    "\"\"\""
   ]
  },
  {
   "cell_type": "code",
   "execution_count": null,
   "metadata": {},
   "outputs": [],
   "source": [
    "dfs = pd.read_json(json_str)\n",
    "dfs"
   ]
  },
  {
   "cell_type": "markdown",
   "metadata": {},
   "source": [
    "### 7.5.3 Jason文件存放"
   ]
  },
  {
   "cell_type": "markdown",
   "metadata": {},
   "source": [
    "#### 存为xlsx格式"
   ]
  },
  {
   "cell_type": "code",
   "execution_count": null,
   "metadata": {},
   "outputs": [],
   "source": [
    "dfs.to_excel(\"data\\json_str.xlsx\", index=False)"
   ]
  },
  {
   "cell_type": "markdown",
   "metadata": {},
   "source": [
    "#### 存为json格式\n",
    "\n",
    "- json格式可用文本类文件打开，如`记事本`、`Notepad++`、`UltraEdit`等\n",
    "- json在线可视化工具：http://www.esjson.com/jsonviewer.html"
   ]
  },
  {
   "cell_type": "code",
   "execution_count": null,
   "metadata": {},
   "outputs": [],
   "source": [
    "dfs.to_json(\"data\\json_str.json\")"
   ]
  },
  {
   "cell_type": "markdown",
   "metadata": {},
   "source": [
    "### 7.5.3 Jason文件读取"
   ]
  },
  {
   "cell_type": "code",
   "execution_count": 3,
   "metadata": {},
   "outputs": [
    {
     "ename": "ValueError",
     "evalue": "Expected object or value",
     "output_type": "error",
     "traceback": [
      "\u001b[1;31m---------------------------------------------------------------------------\u001b[0m",
      "\u001b[1;31mValueError\u001b[0m                                Traceback (most recent call last)",
      "\u001b[1;32m<ipython-input-3-e6945267c53a>\u001b[0m in \u001b[0;36m<module>\u001b[1;34m\u001b[0m\n\u001b[1;32m----> 1\u001b[1;33m \u001b[0mdfs02\u001b[0m \u001b[1;33m=\u001b[0m \u001b[0mpd\u001b[0m\u001b[1;33m.\u001b[0m\u001b[0mread_json\u001b[0m\u001b[1;33m(\u001b[0m\u001b[1;34m\"data\\json_str.json\"\u001b[0m\u001b[1;33m)\u001b[0m\u001b[1;33m\u001b[0m\u001b[1;33m\u001b[0m\u001b[0m\n\u001b[0m\u001b[0;32m      2\u001b[0m \u001b[0mdfs02\u001b[0m\u001b[1;33m\u001b[0m\u001b[1;33m\u001b[0m\u001b[0m\n",
      "\u001b[1;32m~\\Anaconda3\\lib\\site-packages\\pandas\\io\\json\\_json.py\u001b[0m in \u001b[0;36mread_json\u001b[1;34m(path_or_buf, orient, typ, dtype, convert_axes, convert_dates, keep_default_dates, numpy, precise_float, date_unit, encoding, lines, chunksize, compression)\u001b[0m\n\u001b[0;32m    590\u001b[0m         \u001b[1;32mreturn\u001b[0m \u001b[0mjson_reader\u001b[0m\u001b[1;33m\u001b[0m\u001b[1;33m\u001b[0m\u001b[0m\n\u001b[0;32m    591\u001b[0m \u001b[1;33m\u001b[0m\u001b[0m\n\u001b[1;32m--> 592\u001b[1;33m     \u001b[0mresult\u001b[0m \u001b[1;33m=\u001b[0m \u001b[0mjson_reader\u001b[0m\u001b[1;33m.\u001b[0m\u001b[0mread\u001b[0m\u001b[1;33m(\u001b[0m\u001b[1;33m)\u001b[0m\u001b[1;33m\u001b[0m\u001b[1;33m\u001b[0m\u001b[0m\n\u001b[0m\u001b[0;32m    593\u001b[0m     \u001b[1;32mif\u001b[0m \u001b[0mshould_close\u001b[0m\u001b[1;33m:\u001b[0m\u001b[1;33m\u001b[0m\u001b[1;33m\u001b[0m\u001b[0m\n\u001b[0;32m    594\u001b[0m         \u001b[1;32mtry\u001b[0m\u001b[1;33m:\u001b[0m\u001b[1;33m\u001b[0m\u001b[1;33m\u001b[0m\u001b[0m\n",
      "\u001b[1;32m~\\Anaconda3\\lib\\site-packages\\pandas\\io\\json\\_json.py\u001b[0m in \u001b[0;36mread\u001b[1;34m(self)\u001b[0m\n\u001b[0;32m    715\u001b[0m             \u001b[0mobj\u001b[0m \u001b[1;33m=\u001b[0m \u001b[0mself\u001b[0m\u001b[1;33m.\u001b[0m\u001b[0m_get_object_parser\u001b[0m\u001b[1;33m(\u001b[0m\u001b[0mself\u001b[0m\u001b[1;33m.\u001b[0m\u001b[0m_combine_lines\u001b[0m\u001b[1;33m(\u001b[0m\u001b[0mdata\u001b[0m\u001b[1;33m.\u001b[0m\u001b[0msplit\u001b[0m\u001b[1;33m(\u001b[0m\u001b[1;34m\"\\n\"\u001b[0m\u001b[1;33m)\u001b[0m\u001b[1;33m)\u001b[0m\u001b[1;33m)\u001b[0m\u001b[1;33m\u001b[0m\u001b[1;33m\u001b[0m\u001b[0m\n\u001b[0;32m    716\u001b[0m         \u001b[1;32melse\u001b[0m\u001b[1;33m:\u001b[0m\u001b[1;33m\u001b[0m\u001b[1;33m\u001b[0m\u001b[0m\n\u001b[1;32m--> 717\u001b[1;33m             \u001b[0mobj\u001b[0m \u001b[1;33m=\u001b[0m \u001b[0mself\u001b[0m\u001b[1;33m.\u001b[0m\u001b[0m_get_object_parser\u001b[0m\u001b[1;33m(\u001b[0m\u001b[0mself\u001b[0m\u001b[1;33m.\u001b[0m\u001b[0mdata\u001b[0m\u001b[1;33m)\u001b[0m\u001b[1;33m\u001b[0m\u001b[1;33m\u001b[0m\u001b[0m\n\u001b[0m\u001b[0;32m    718\u001b[0m         \u001b[0mself\u001b[0m\u001b[1;33m.\u001b[0m\u001b[0mclose\u001b[0m\u001b[1;33m(\u001b[0m\u001b[1;33m)\u001b[0m\u001b[1;33m\u001b[0m\u001b[1;33m\u001b[0m\u001b[0m\n\u001b[0;32m    719\u001b[0m         \u001b[1;32mreturn\u001b[0m \u001b[0mobj\u001b[0m\u001b[1;33m\u001b[0m\u001b[1;33m\u001b[0m\u001b[0m\n",
      "\u001b[1;32m~\\Anaconda3\\lib\\site-packages\\pandas\\io\\json\\_json.py\u001b[0m in \u001b[0;36m_get_object_parser\u001b[1;34m(self, json)\u001b[0m\n\u001b[0;32m    737\u001b[0m         \u001b[0mobj\u001b[0m \u001b[1;33m=\u001b[0m \u001b[1;32mNone\u001b[0m\u001b[1;33m\u001b[0m\u001b[1;33m\u001b[0m\u001b[0m\n\u001b[0;32m    738\u001b[0m         \u001b[1;32mif\u001b[0m \u001b[0mtyp\u001b[0m \u001b[1;33m==\u001b[0m \u001b[1;34m\"frame\"\u001b[0m\u001b[1;33m:\u001b[0m\u001b[1;33m\u001b[0m\u001b[1;33m\u001b[0m\u001b[0m\n\u001b[1;32m--> 739\u001b[1;33m             \u001b[0mobj\u001b[0m \u001b[1;33m=\u001b[0m \u001b[0mFrameParser\u001b[0m\u001b[1;33m(\u001b[0m\u001b[0mjson\u001b[0m\u001b[1;33m,\u001b[0m \u001b[1;33m**\u001b[0m\u001b[0mkwargs\u001b[0m\u001b[1;33m)\u001b[0m\u001b[1;33m.\u001b[0m\u001b[0mparse\u001b[0m\u001b[1;33m(\u001b[0m\u001b[1;33m)\u001b[0m\u001b[1;33m\u001b[0m\u001b[1;33m\u001b[0m\u001b[0m\n\u001b[0m\u001b[0;32m    740\u001b[0m \u001b[1;33m\u001b[0m\u001b[0m\n\u001b[0;32m    741\u001b[0m         \u001b[1;32mif\u001b[0m \u001b[0mtyp\u001b[0m \u001b[1;33m==\u001b[0m \u001b[1;34m\"series\"\u001b[0m \u001b[1;32mor\u001b[0m \u001b[0mobj\u001b[0m \u001b[1;32mis\u001b[0m \u001b[1;32mNone\u001b[0m\u001b[1;33m:\u001b[0m\u001b[1;33m\u001b[0m\u001b[1;33m\u001b[0m\u001b[0m\n",
      "\u001b[1;32m~\\Anaconda3\\lib\\site-packages\\pandas\\io\\json\\_json.py\u001b[0m in \u001b[0;36mparse\u001b[1;34m(self)\u001b[0m\n\u001b[0;32m    847\u001b[0m \u001b[1;33m\u001b[0m\u001b[0m\n\u001b[0;32m    848\u001b[0m         \u001b[1;32melse\u001b[0m\u001b[1;33m:\u001b[0m\u001b[1;33m\u001b[0m\u001b[1;33m\u001b[0m\u001b[0m\n\u001b[1;32m--> 849\u001b[1;33m             \u001b[0mself\u001b[0m\u001b[1;33m.\u001b[0m\u001b[0m_parse_no_numpy\u001b[0m\u001b[1;33m(\u001b[0m\u001b[1;33m)\u001b[0m\u001b[1;33m\u001b[0m\u001b[1;33m\u001b[0m\u001b[0m\n\u001b[0m\u001b[0;32m    850\u001b[0m \u001b[1;33m\u001b[0m\u001b[0m\n\u001b[0;32m    851\u001b[0m         \u001b[1;32mif\u001b[0m \u001b[0mself\u001b[0m\u001b[1;33m.\u001b[0m\u001b[0mobj\u001b[0m \u001b[1;32mis\u001b[0m \u001b[1;32mNone\u001b[0m\u001b[1;33m:\u001b[0m\u001b[1;33m\u001b[0m\u001b[1;33m\u001b[0m\u001b[0m\n",
      "\u001b[1;32m~\\Anaconda3\\lib\\site-packages\\pandas\\io\\json\\_json.py\u001b[0m in \u001b[0;36m_parse_no_numpy\u001b[1;34m(self)\u001b[0m\n\u001b[0;32m   1091\u001b[0m         \u001b[1;32mif\u001b[0m \u001b[0morient\u001b[0m \u001b[1;33m==\u001b[0m \u001b[1;34m\"columns\"\u001b[0m\u001b[1;33m:\u001b[0m\u001b[1;33m\u001b[0m\u001b[1;33m\u001b[0m\u001b[0m\n\u001b[0;32m   1092\u001b[0m             self.obj = DataFrame(\n\u001b[1;32m-> 1093\u001b[1;33m                 \u001b[0mloads\u001b[0m\u001b[1;33m(\u001b[0m\u001b[0mjson\u001b[0m\u001b[1;33m,\u001b[0m \u001b[0mprecise_float\u001b[0m\u001b[1;33m=\u001b[0m\u001b[0mself\u001b[0m\u001b[1;33m.\u001b[0m\u001b[0mprecise_float\u001b[0m\u001b[1;33m)\u001b[0m\u001b[1;33m,\u001b[0m \u001b[0mdtype\u001b[0m\u001b[1;33m=\u001b[0m\u001b[1;32mNone\u001b[0m\u001b[1;33m\u001b[0m\u001b[1;33m\u001b[0m\u001b[0m\n\u001b[0m\u001b[0;32m   1094\u001b[0m             )\n\u001b[0;32m   1095\u001b[0m         \u001b[1;32melif\u001b[0m \u001b[0morient\u001b[0m \u001b[1;33m==\u001b[0m \u001b[1;34m\"split\"\u001b[0m\u001b[1;33m:\u001b[0m\u001b[1;33m\u001b[0m\u001b[1;33m\u001b[0m\u001b[0m\n",
      "\u001b[1;31mValueError\u001b[0m: Expected object or value"
     ]
    }
   ],
   "source": [
    "dfs02 = pd.read_json(\"data\\json_str.json\")\n",
    "dfs02"
   ]
  },
  {
   "cell_type": "markdown",
   "metadata": {},
   "source": [
    "## 7.6 应用示例 —— 纽约市 车辆碰撞数据\n",
    "\n",
    "- 数据来源：纽约开放交通数据\n",
    "- 时间范围：2015年1月 —— 2017年2月"
   ]
  },
  {
   "cell_type": "markdown",
   "metadata": {},
   "source": [
    "### 7.6.1 查看文件位置\n",
    "\n",
    "- Windows 环境 —— dir 命令\n",
    "- Linux 环境 —— ls 命令"
   ]
  },
  {
   "cell_type": "code",
   "execution_count": null,
   "metadata": {},
   "outputs": [],
   "source": [
    "!dir data\\vehicle-collisions.csv"
   ]
  },
  {
   "cell_type": "markdown",
   "metadata": {},
   "source": [
    "### 7.6.2 读入 CSV 文件"
   ]
  },
  {
   "cell_type": "code",
   "execution_count": null,
   "metadata": {},
   "outputs": [],
   "source": [
    "vehicle_collisions_df = pd.read_csv('data/vehicle-collisions.csv')\n",
    "vehicle_collisions_df.dtypes"
   ]
  },
  {
   "cell_type": "markdown",
   "metadata": {},
   "source": [
    "### 7.6.3 处理读入的数据 —— 观察首尾"
   ]
  },
  {
   "cell_type": "code",
   "execution_count": null,
   "metadata": {},
   "outputs": [],
   "source": [
    "vehicle_collisions_df.head(5)"
   ]
  },
  {
   "cell_type": "code",
   "execution_count": null,
   "metadata": {},
   "outputs": [],
   "source": [
    "vehicle_collisions_df.tail(5)"
   ]
  },
  {
   "cell_type": "markdown",
   "metadata": {},
   "source": [
    "### 7.6.4 读属性信息 —— index、columns、values"
   ]
  },
  {
   "cell_type": "code",
   "execution_count": null,
   "metadata": {},
   "outputs": [],
   "source": [
    "vehicle_collisions_df.index"
   ]
  },
  {
   "cell_type": "code",
   "execution_count": null,
   "metadata": {},
   "outputs": [],
   "source": [
    "vehicle_collisions_df.columns"
   ]
  },
  {
   "cell_type": "code",
   "execution_count": null,
   "metadata": {},
   "outputs": [],
   "source": [
    "vehicle_collisions_df.values[0:3]  #取三行数据看一看"
   ]
  },
  {
   "cell_type": "markdown",
   "metadata": {},
   "source": [
    "### 7.6.5 查看撞车日期"
   ]
  },
  {
   "cell_type": "code",
   "execution_count": null,
   "metadata": {},
   "outputs": [],
   "source": [
    "vehicle_collisions_df['DATE']"
   ]
  },
  {
   "cell_type": "markdown",
   "metadata": {},
   "source": [
    "### 7.6.6 修改 datetime 类型函数\n",
    "\n",
    "- 语法\n",
    "\n",
    "```python\n",
    ">>> pd.to_datetime(arg, errors='raise', dayfirst=False, yearfirst=False, utc=None, box=True, format=None, exact=True, unit=None, infer_datetime_format=False, origin='unix', cache=False)\n",
    "```\n",
    "\n",
    "\n",
    "- 作用 —— 转换成时间戳（timestamp）\n",
    "\n",
    "\n",
    "- 参数\n",
    "    - arg —— integer、float、string、datetime、list、tuple、1-d array、Series、DataFrame等\n",
    "    - 其它 ——略\n",
    "    \n",
    "    \n",
    "- 返回 依赖输入\n",
    "    - list-like: DatetimeIndex\n",
    "    - Series: Series of datetime64 dtype\n",
    "    - scalar: Timestamp"
   ]
  },
  {
   "cell_type": "code",
   "execution_count": null,
   "metadata": {},
   "outputs": [],
   "source": [
    "pd.to_datetime?"
   ]
  },
  {
   "cell_type": "code",
   "execution_count": null,
   "metadata": {},
   "outputs": [],
   "source": [
    "vehicle_collisions_df['DATE'] = pd.to_datetime(vehicle_collisions_df['DATE'])\n",
    "vehicle_collisions_df['DATE']"
   ]
  },
  {
   "cell_type": "markdown",
   "metadata": {},
   "source": [
    "### 7.6.7 新生成一列 'DAY_OF_WEEK'\n",
    "\n",
    "\n",
    "- vehicle_collisions_df['DATE'] 为时间戳序列\n",
    "- 时间戳的成员 dt 为 DatetimeProperty 类型，包括\n",
    "    - year、month、day\n",
    "    - hour、minute、second\n",
    "    - dayofweek、weekday_name\n",
    "    - 等"
   ]
  },
  {
   "cell_type": "code",
   "execution_count": null,
   "metadata": {},
   "outputs": [],
   "source": [
    "vehicle_collisions_df.loc[0:4,'DATE'].dt.weekday"
   ]
  },
  {
   "cell_type": "code",
   "execution_count": null,
   "metadata": {},
   "outputs": [],
   "source": [
    "vehicle_collisions_df.loc[0:4,'DATE'].dt.dayofweek"
   ]
  },
  {
   "cell_type": "code",
   "execution_count": null,
   "metadata": {},
   "outputs": [],
   "source": [
    "vehicle_collisions_df['DAY_OF_WEEK'] = vehicle_collisions_df['DATE'].dt.dayofweek\n",
    "vehicle_collisions_df['DAY_OF_WEEK']"
   ]
  },
  {
   "cell_type": "markdown",
   "metadata": {},
   "source": [
    "### 7.6.8 统计 每日 撞车 次数\n",
    "\n",
    "- 使用数据分组函数 groupby\n",
    "\n",
    "\n",
    "- 语法\n",
    "```python\n",
    ">>> DataFrame.groupby(by=None, axis=0, level=None, as_index=True, sort=True, group_keys=True, squeeze=False, observed=False, **kwargs)\n",
    "```\n",
    "\n",
    "\n",
    "- 功能 —— 分组操作"
   ]
  },
  {
   "cell_type": "code",
   "execution_count": null,
   "metadata": {},
   "outputs": [],
   "source": [
    "date_count = vehicle_collisions_df.groupby('DATE').DATE.count() # 按 \"DATE\" 列进行分组，按 DATE 属性计数，返回序列\n",
    "\n",
    "values = date_count.values # 序列值\n",
    "dates = date_count.index   # 序列索引"
   ]
  },
  {
   "cell_type": "code",
   "execution_count": null,
   "metadata": {},
   "outputs": [],
   "source": [
    "# 每日 撞车 计数\n",
    "date_count"
   ]
  },
  {
   "cell_type": "code",
   "execution_count": null,
   "metadata": {},
   "outputs": [],
   "source": [
    "# 基本统计分析\n",
    "date_count.describe()"
   ]
  },
  {
   "cell_type": "markdown",
   "metadata": {},
   "source": [
    "### 7.6.9 每日 撞车 次数 分布图"
   ]
  },
  {
   "cell_type": "code",
   "execution_count": null,
   "metadata": {},
   "outputs": [],
   "source": [
    "import matplotlib.pyplot as plt"
   ]
  },
  {
   "cell_type": "code",
   "execution_count": null,
   "metadata": {},
   "outputs": [],
   "source": [
    "plt.bar(dates, values)\n",
    "plt.title('Amount of Collisions')\n",
    "plt.xticks(rotation='vertical')\n",
    "plt.show()"
   ]
  },
  {
   "cell_type": "markdown",
   "metadata": {},
   "source": [
    "### 7.6.10 查看前 3 个月"
   ]
  },
  {
   "cell_type": "code",
   "execution_count": null,
   "metadata": {},
   "outputs": [],
   "source": [
    "plt.bar(dates[:120], values[:120])\n",
    "plt.title('Amount of Collisions')\n",
    "plt.xticks(rotation='vertical')\n",
    "plt.show()"
   ]
  },
  {
   "cell_type": "markdown",
   "metadata": {},
   "source": [
    "### 7.6.11 2015年2月的统计分布"
   ]
  },
  {
   "cell_type": "code",
   "execution_count": null,
   "metadata": {},
   "outputs": [],
   "source": [
    "plt.bar(dates[(dates.year==2015) & (dates.month==2)], values[(dates.year==2015) & (dates.month==2)])\n",
    "plt.title('Amount of Collisions in Feb 2015')\n",
    "plt.xticks(rotation='vertical')\n",
    "plt.show()"
   ]
  },
  {
   "cell_type": "markdown",
   "metadata": {},
   "source": [
    "### 7.6.12 统计 每月 撞车 次数"
   ]
  },
  {
   "cell_type": "code",
   "execution_count": null,
   "metadata": {},
   "outputs": [],
   "source": [
    "# 新增一列 'YEAR_MONTH'\n",
    "vehicle_collisions_df['YEAR_MONTH'] = [\"%d\"%(date.year) + '-' + \"%02d\"%(date.month) for date in vehicle_collisions_df['DATE']]\n",
    "# "
   ]
  },
  {
   "cell_type": "code",
   "execution_count": null,
   "metadata": {},
   "outputs": [],
   "source": [
    "# 按月统计撞车次数\n",
    "month_count = vehicle_collisions_df.groupby('YEAR_MONTH').YEAR_MONTH.count()\n",
    "month_count"
   ]
  },
  {
   "cell_type": "code",
   "execution_count": null,
   "metadata": {},
   "outputs": [],
   "source": [
    "# 每月撞车数 统计分析\n",
    "print(month_count.describe())"
   ]
  },
  {
   "cell_type": "markdown",
   "metadata": {},
   "source": [
    "### 7.6.13 绘 每月 撞车次数 分布图"
   ]
  },
  {
   "cell_type": "code",
   "execution_count": null,
   "metadata": {},
   "outputs": [],
   "source": [
    "plt.bar(month_count.index, month_count.values)\n",
    "plt.title('Amount of Collisions per month')\n",
    "plt.xticks(rotation='vertical')\n",
    "plt.show()"
   ]
  },
  {
   "cell_type": "markdown",
   "metadata": {},
   "source": [
    "### 7.6.14 统计 每周日 撞车 次数"
   ]
  },
  {
   "cell_type": "code",
   "execution_count": null,
   "metadata": {},
   "outputs": [],
   "source": [
    "# 按每周各天统计撞车次数\n",
    "day_of_week_count = vehicle_collisions_df.groupby('DAY_OF_WEEK').DAY_OF_WEEK.count()\n",
    "\n",
    "# 每周 各天 撞车数 统计分析\n",
    "day_of_week_count"
   ]
  },
  {
   "cell_type": "code",
   "execution_count": null,
   "metadata": {},
   "outputs": [],
   "source": [
    "print(day_of_week_count.describe())"
   ]
  },
  {
   "cell_type": "markdown",
   "metadata": {},
   "source": [
    "### 7.6.15 绘 每周日 撞车次数 分布图"
   ]
  },
  {
   "cell_type": "code",
   "execution_count": null,
   "metadata": {},
   "outputs": [],
   "source": [
    "day_of_week_str = ['MONDAY', 'TUESDAY', 'WEDNESDAY', 'THURSDAY', 'FRIDAY', 'SATDAY', 'SUNDAY']\n",
    "plt.bar(day_of_week_count.index, day_of_week_count.values)\n",
    "plt.title('Amount of Collisions per week day')\n",
    "plt.xticks(rotation='vertical')\n",
    "plt.show()"
   ]
  },
  {
   "cell_type": "markdown",
   "metadata": {},
   "source": [
    "### 7.6.16 更多的操作（略）\n",
    "\n",
    "- 结合地图模块的可视化\n",
    "- 特征分析、提取等"
   ]
  },
  {
   "cell_type": "markdown",
   "metadata": {},
   "source": [
    "## 7.7 应用示例 —— 纽约市 车辆碰撞数据\n",
    "\n",
    "#### 某地风速数据"
   ]
  },
  {
   "cell_type": "code",
   "execution_count": null,
   "metadata": {},
   "outputs": [],
   "source": [
    "# windspeed.xlsx 尝试读取某地风速资料"
   ]
  },
  {
   "cell_type": "code",
   "execution_count": null,
   "metadata": {},
   "outputs": [],
   "source": [
    "windspeed = pd.read_excel(\"data\\windspeed.xlsx\",header=None, \\\n",
    "                          names = [\"year\",\"month\",\"day\",\"Uday\",\"Umean\",\"Umeandir\",\"Umax\",\"Umaxdir\"])\n",
    "windspeed"
   ]
  },
  {
   "cell_type": "code",
   "execution_count": null,
   "metadata": {},
   "outputs": [],
   "source": [
    "windspeed.describe()"
   ]
  },
  {
   "cell_type": "code",
   "execution_count": null,
   "metadata": {},
   "outputs": [],
   "source": [
    "import matplotlib.pyplot as mpl"
   ]
  },
  {
   "cell_type": "code",
   "execution_count": null,
   "metadata": {},
   "outputs": [],
   "source": [
    "windspeed[\"Uday\"].hist()"
   ]
  },
  {
   "cell_type": "markdown",
   "metadata": {},
   "source": [
    "### 结束"
   ]
  }
 ],
 "metadata": {
  "kernelspec": {
   "display_name": "Python 3 (ipykernel)",
   "language": "python",
   "name": "python3"
  },
  "language_info": {
   "codemirror_mode": {
    "name": "ipython",
    "version": 3
   },
   "file_extension": ".py",
   "mimetype": "text/x-python",
   "name": "python",
   "nbconvert_exporter": "python",
   "pygments_lexer": "ipython3",
   "version": "3.9.7"
  }
 },
 "nbformat": 4,
 "nbformat_minor": 2
}
