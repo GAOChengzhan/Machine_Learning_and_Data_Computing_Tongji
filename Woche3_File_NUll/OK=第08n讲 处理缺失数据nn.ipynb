{
 "cells": [
  {
   "cell_type": "markdown",
   "metadata": {},
   "source": [
    "# 第8讲 处理缺失数据 —— Missing Data\n",
    "\n",
    "- 适用对象\n",
    "    - Series\n",
    "    - DataFrame\n",
    "\n",
    "\n",
    "- 三种方法\n",
    "    - 删除行、或删除列\n",
    "    - 填充\n",
    "    - 生成布尔掩码\n",
    "    \n",
    "    \n",
    "- 案例"
   ]
  },
  {
   "cell_type": "code",
   "execution_count": 17,
   "metadata": {},
   "outputs": [],
   "source": [
    "import numpy as np\n",
    "import pandas as pd"
   ]
  },
  {
   "cell_type": "markdown",
   "metadata": {},
   "source": [
    "## 8.1 处理序列\n",
    "- dropna()删除了缺失数据的新序列\n",
    "- fillna()填充\n",
    "- isna()判断"
   ]
  },
  {
   "cell_type": "markdown",
   "metadata": {},
   "source": [
    "### 8.1.1 删除序列中的缺失数据\n",
    "\n",
    "\n",
    "- 语法\n",
    "```python\n",
    ">>> s.dropna(axis=0, inplace=False, **kwargs)\n",
    "```\n",
    "\n",
    "\n",
    "- 功能 —— 返回删除了缺失数据的新序列\n",
    "\n",
    "\n",
    "- 参数\n",
    "    - axis —— 0 或 'index'，缺省 0 （疑惑，不知设计者什么意图？）\n",
    "    - inplace —— 是否原地(True or False)？ 缺省否(False)"
   ]
  },
  {
   "cell_type": "markdown",
   "metadata": {},
   "source": [
    "### 例 1 简单序列示范"
   ]
  },
  {
   "cell_type": "code",
   "execution_count": 18,
   "metadata": {},
   "outputs": [
    {
     "data": {
      "text/plain": [
       "ele_0      1\n",
       "ele_1    NaN\n",
       "ele_2      5\n",
       "ele_3    NaN\n",
       "ele_4       \n",
       "ele_5      4\n",
       "dtype: object"
      ]
     },
     "execution_count": 18,
     "metadata": {},
     "output_type": "execute_result"
    }
   ],
   "source": [
    "s = pd.Series([1,np.nan,5,np.nan,'',4], index=[\"ele_\"+str(i) for i in range(6)])\n",
    "s"
   ]
  },
  {
   "cell_type": "code",
   "execution_count": 19,
   "metadata": {},
   "outputs": [
    {
     "data": {
      "text/plain": [
       "ele_0      1\n",
       "ele_1    NaN\n",
       "ele_2      5\n",
       "ele_3    NaN\n",
       "ele_4       \n",
       "ele_5      4\n",
       "dtype: object"
      ]
     },
     "execution_count": 19,
     "metadata": {},
     "output_type": "execute_result"
    }
   ],
   "source": [
    "s1 = s.copy()\n",
    "s1"
   ]
  },
  {
   "cell_type": "code",
   "execution_count": 20,
   "metadata": {},
   "outputs": [
    {
     "data": {
      "text/plain": [
       "ele_0    1\n",
       "ele_2    5\n",
       "ele_4     \n",
       "ele_5    4\n",
       "dtype: object"
      ]
     },
     "execution_count": 20,
     "metadata": {},
     "output_type": "execute_result"
    }
   ],
   "source": [
    "s1.dropna()"
   ]
  },
  {
   "cell_type": "markdown",
   "metadata": {},
   "source": [
    "### 注意\n",
    "- 空字符不是NA数据\n",
    "- ``None`` is considered an NA value."
   ]
  },
  {
   "cell_type": "code",
   "execution_count": 21,
   "metadata": {},
   "outputs": [
    {
     "data": {
      "text/plain": [
       "ele_0       1\n",
       "ele_1     NaN\n",
       "ele_2    None\n",
       "ele_3     NaN\n",
       "ele_4        \n",
       "ele_5       4\n",
       "dtype: object"
      ]
     },
     "execution_count": 21,
     "metadata": {},
     "output_type": "execute_result"
    }
   ],
   "source": [
    "# 试一下NA数据\n",
    "s1['ele_2'] = None\n",
    "s1"
   ]
  },
  {
   "cell_type": "code",
   "execution_count": 22,
   "metadata": {},
   "outputs": [
    {
     "data": {
      "text/plain": [
       "ele_0    1\n",
       "ele_4     \n",
       "ele_5    4\n",
       "dtype: object"
      ]
     },
     "execution_count": 22,
     "metadata": {},
     "output_type": "execute_result"
    }
   ],
   "source": [
    "s1.dropna()"
   ]
  },
  {
   "cell_type": "code",
   "execution_count": 23,
   "metadata": {},
   "outputs": [
    {
     "data": {
      "text/plain": [
       "ele_0       1\n",
       "ele_1     NaN\n",
       "ele_2    None\n",
       "ele_3     NaN\n",
       "ele_4        \n",
       "ele_5       4\n",
       "dtype: object"
      ]
     },
     "execution_count": 23,
     "metadata": {},
     "output_type": "execute_result"
    }
   ],
   "source": [
    "# 弄清楚原地删除的含义\n",
    "s1"
   ]
  },
  {
   "cell_type": "code",
   "execution_count": 24,
   "metadata": {},
   "outputs": [
    {
     "data": {
      "text/plain": [
       "ele_0    1\n",
       "ele_4     \n",
       "ele_5    4\n",
       "dtype: object"
      ]
     },
     "execution_count": 24,
     "metadata": {},
     "output_type": "execute_result"
    }
   ],
   "source": [
    "# 原地删除改变了原序列对象\n",
    "s1.dropna(inplace=True)\n",
    "s1"
   ]
  },
  {
   "cell_type": "markdown",
   "metadata": {},
   "source": [
    "### 8.1.2 填充序列中的缺失数据\n",
    "\n",
    "\n",
    "- 语法\n",
    "```python\n",
    ">>> s.fillna(value=None, method=None, axis=None, inplace=False, limit=None, downcast=None, **kwargs)\n",
    "```\n",
    "\n",
    "\n",
    "- 功能 —— 填充序列中的缺失数据\n",
    "\n",
    "\n",
    "- 参数\n",
    "    - value —— 标量、字典、序列或数据帧\n",
    "    - inplace —— 逻辑值，缺省值False\n",
    "    - method参数的取值 ： {‘pad’, ‘ffill’,‘backfill’, ‘bfill’, None}, default None\n",
    "        - pad/ffill：用前一个非缺失值去填充该缺失值\n",
    "        - backfill/bfill：用下一个非缺失值填充该缺失值\n",
    "        - None：指定一个值去替换缺失值（缺省默认这种方式）\n",
    "    - 其它 —— 略\n",
    "    \n"
   ]
  },
  {
   "cell_type": "markdown",
   "metadata": {},
   "source": [
    "### 例 2 序列填充示范"
   ]
  },
  {
   "cell_type": "code",
   "execution_count": 25,
   "metadata": {},
   "outputs": [
    {
     "data": {
      "text/plain": [
       "ele_0      1\n",
       "ele_1    NaN\n",
       "ele_2      5\n",
       "ele_3    NaN\n",
       "ele_4       \n",
       "ele_5      4\n",
       "dtype: object"
      ]
     },
     "execution_count": 25,
     "metadata": {},
     "output_type": "execute_result"
    }
   ],
   "source": [
    "s1 = s.copy()\n",
    "s1"
   ]
  },
  {
   "cell_type": "code",
   "execution_count": 26,
   "metadata": {},
   "outputs": [
    {
     "data": {
      "text/plain": [
       "ele_0    1\n",
       "ele_1    0\n",
       "ele_2    5\n",
       "ele_3    0\n",
       "ele_4     \n",
       "ele_5    4\n",
       "dtype: object"
      ]
     },
     "execution_count": 26,
     "metadata": {},
     "output_type": "execute_result"
    }
   ],
   "source": [
    "s1.fillna(0,inplace=False)"
   ]
  },
  {
   "cell_type": "code",
   "execution_count": 27,
   "metadata": {},
   "outputs": [
    {
     "data": {
      "text/plain": [
       "ele_0      1\n",
       "ele_1    NaN\n",
       "ele_2      5\n",
       "ele_3    NaN\n",
       "ele_4       \n",
       "ele_5      4\n",
       "dtype: object"
      ]
     },
     "execution_count": 27,
     "metadata": {},
     "output_type": "execute_result"
    }
   ],
   "source": [
    "s1"
   ]
  },
  {
   "cell_type": "code",
   "execution_count": 28,
   "metadata": {},
   "outputs": [
    {
     "data": {
      "text/plain": [
       "ele_0    1\n",
       "ele_1    0\n",
       "ele_2    5\n",
       "ele_3    0\n",
       "ele_4     \n",
       "ele_5    4\n",
       "dtype: object"
      ]
     },
     "execution_count": 28,
     "metadata": {},
     "output_type": "execute_result"
    }
   ],
   "source": [
    "s1.fillna(0,inplace=True)\n",
    "s1"
   ]
  },
  {
   "cell_type": "code",
   "execution_count": 29,
   "metadata": {},
   "outputs": [
    {
     "data": {
      "text/plain": [
       "ele_0      1\n",
       "ele_1      0\n",
       "ele_2      5\n",
       "ele_3      0\n",
       "ele_4    NaN\n",
       "ele_5      4\n",
       "dtype: object"
      ]
     },
     "execution_count": 29,
     "metadata": {},
     "output_type": "execute_result"
    }
   ],
   "source": [
    "s1[s1 == ''] = np.nan\n",
    "s1"
   ]
  },
  {
   "cell_type": "code",
   "execution_count": 30,
   "metadata": {},
   "outputs": [
    {
     "data": {
      "text/plain": [
       "ele_0    1\n",
       "ele_1    0\n",
       "ele_2    5\n",
       "ele_3    0\n",
       "ele_4    0\n",
       "ele_5    4\n",
       "dtype: int64"
      ]
     },
     "execution_count": 30,
     "metadata": {},
     "output_type": "execute_result"
    }
   ],
   "source": [
    "s1.fillna(0,inplace=True)\n",
    "s1"
   ]
  },
  {
   "cell_type": "markdown",
   "metadata": {},
   "source": [
    "### 8.1.3 生成布尔掩码序列\n",
    "\n",
    "\n",
    "- 语法\n",
    "```python\n",
    ">>> pd.isna(obj)\n",
    "```\n",
    "\n",
    "\n",
    "- 功能 —— 判断序列中是否是缺失数据\n",
    "\n",
    "\n",
    "- 参数\n",
    "    - obj —— 对象\n",
    "\n",
    "\n",
    "\n",
    "- 返回 —— 布尔掩码对象"
   ]
  },
  {
   "cell_type": "markdown",
   "metadata": {},
   "source": [
    "### 例 3 布尔掩码序列"
   ]
  },
  {
   "cell_type": "code",
   "execution_count": 31,
   "metadata": {},
   "outputs": [
    {
     "name": "stdout",
     "output_type": "stream",
     "text": [
      "ele_0      1\n",
      "ele_1    NaN\n",
      "ele_2      5\n",
      "ele_3    NaN\n",
      "ele_4       \n",
      "ele_5      4\n",
      "dtype: object\n"
     ]
    },
    {
     "data": {
      "text/plain": [
       "ele_0    False\n",
       "ele_1     True\n",
       "ele_2    False\n",
       "ele_3     True\n",
       "ele_4    False\n",
       "ele_5    False\n",
       "dtype: bool"
      ]
     },
     "execution_count": 31,
     "metadata": {},
     "output_type": "execute_result"
    }
   ],
   "source": [
    "s1=s.copy()\n",
    "print(s1)\n",
    "pd.isna(s1) #注意空字符的结果"
   ]
  },
  {
   "cell_type": "markdown",
   "metadata": {},
   "source": [
    "## 8.2 处理数据帧"
   ]
  },
  {
   "cell_type": "markdown",
   "metadata": {},
   "source": [
    "### 8.2.1 数据帧准备\n",
    "\n",
    "- 生成 8 行 4 列的数据帧，每个元素均为标准正态随机数\n",
    "- 逻辑运算生成若干 nan —— 造成数据缺失"
   ]
  },
  {
   "cell_type": "code",
   "execution_count": 41,
   "metadata": {
    "scrolled": true
   },
   "outputs": [
    {
     "data": {
      "text/html": [
       "<div>\n",
       "<style scoped>\n",
       "    .dataframe tbody tr th:only-of-type {\n",
       "        vertical-align: middle;\n",
       "    }\n",
       "\n",
       "    .dataframe tbody tr th {\n",
       "        vertical-align: top;\n",
       "    }\n",
       "\n",
       "    .dataframe thead th {\n",
       "        text-align: right;\n",
       "    }\n",
       "</style>\n",
       "<table border=\"1\" class=\"dataframe\">\n",
       "  <thead>\n",
       "    <tr style=\"text-align: right;\">\n",
       "      <th></th>\n",
       "      <th>col_0</th>\n",
       "      <th>col_1</th>\n",
       "      <th>col_2</th>\n",
       "      <th>col_3</th>\n",
       "    </tr>\n",
       "  </thead>\n",
       "  <tbody>\n",
       "    <tr>\n",
       "      <td>row_0</td>\n",
       "      <td>-0.038932</td>\n",
       "      <td>0.835136</td>\n",
       "      <td>0.222113</td>\n",
       "      <td>-0.064213</td>\n",
       "    </tr>\n",
       "    <tr>\n",
       "      <td>row_1</td>\n",
       "      <td>-1.069436</td>\n",
       "      <td>0.813927</td>\n",
       "      <td>0.232342</td>\n",
       "      <td>-1.194896</td>\n",
       "    </tr>\n",
       "    <tr>\n",
       "      <td>row_2</td>\n",
       "      <td>-1.176683</td>\n",
       "      <td>1.847923</td>\n",
       "      <td>-0.445393</td>\n",
       "      <td>2.017945</td>\n",
       "    </tr>\n",
       "    <tr>\n",
       "      <td>row_3</td>\n",
       "      <td>-1.038741</td>\n",
       "      <td>1.223539</td>\n",
       "      <td>-0.182500</td>\n",
       "      <td>0.127883</td>\n",
       "    </tr>\n",
       "    <tr>\n",
       "      <td>row_4</td>\n",
       "      <td>0.190133</td>\n",
       "      <td>0.364272</td>\n",
       "      <td>0.119896</td>\n",
       "      <td>1.034623</td>\n",
       "    </tr>\n",
       "    <tr>\n",
       "      <td>row_5</td>\n",
       "      <td>0.194475</td>\n",
       "      <td>-0.549022</td>\n",
       "      <td>2.352596</td>\n",
       "      <td>-0.539197</td>\n",
       "    </tr>\n",
       "    <tr>\n",
       "      <td>row_6</td>\n",
       "      <td>0.293628</td>\n",
       "      <td>0.697685</td>\n",
       "      <td>0.416665</td>\n",
       "      <td>1.692829</td>\n",
       "    </tr>\n",
       "    <tr>\n",
       "      <td>row_7</td>\n",
       "      <td>1.379358</td>\n",
       "      <td>-0.486623</td>\n",
       "      <td>2.565387</td>\n",
       "      <td>-1.541165</td>\n",
       "    </tr>\n",
       "  </tbody>\n",
       "</table>\n",
       "</div>"
      ],
      "text/plain": [
       "          col_0     col_1     col_2     col_3\n",
       "row_0 -0.038932  0.835136  0.222113 -0.064213\n",
       "row_1 -1.069436  0.813927  0.232342 -1.194896\n",
       "row_2 -1.176683  1.847923 -0.445393  2.017945\n",
       "row_3 -1.038741  1.223539 -0.182500  0.127883\n",
       "row_4  0.190133  0.364272  0.119896  1.034623\n",
       "row_5  0.194475 -0.549022  2.352596 -0.539197\n",
       "row_6  0.293628  0.697685  0.416665  1.692829\n",
       "row_7  1.379358 -0.486623  2.565387 -1.541165"
      ]
     },
     "execution_count": 41,
     "metadata": {},
     "output_type": "execute_result"
    }
   ],
   "source": [
    "df = pd.DataFrame(np.random.randn(8,4), index=[\"row_\"+str(i) for i in range(8)], columns=[\"col_\"+str(j) for j in range(4)])\n",
    "df"
   ]
  },
  {
   "cell_type": "code",
   "execution_count": 42,
   "metadata": {},
   "outputs": [
    {
     "data": {
      "text/html": [
       "<div>\n",
       "<style scoped>\n",
       "    .dataframe tbody tr th:only-of-type {\n",
       "        vertical-align: middle;\n",
       "    }\n",
       "\n",
       "    .dataframe tbody tr th {\n",
       "        vertical-align: top;\n",
       "    }\n",
       "\n",
       "    .dataframe thead th {\n",
       "        text-align: right;\n",
       "    }\n",
       "</style>\n",
       "<table border=\"1\" class=\"dataframe\">\n",
       "  <thead>\n",
       "    <tr style=\"text-align: right;\">\n",
       "      <th></th>\n",
       "      <th>col_0</th>\n",
       "      <th>col_1</th>\n",
       "      <th>col_2</th>\n",
       "      <th>col_3</th>\n",
       "    </tr>\n",
       "  </thead>\n",
       "  <tbody>\n",
       "    <tr>\n",
       "      <td>row_0</td>\n",
       "      <td>True</td>\n",
       "      <td>True</td>\n",
       "      <td>True</td>\n",
       "      <td>True</td>\n",
       "    </tr>\n",
       "    <tr>\n",
       "      <td>row_1</td>\n",
       "      <td>True</td>\n",
       "      <td>True</td>\n",
       "      <td>True</td>\n",
       "      <td>True</td>\n",
       "    </tr>\n",
       "    <tr>\n",
       "      <td>row_2</td>\n",
       "      <td>True</td>\n",
       "      <td>False</td>\n",
       "      <td>True</td>\n",
       "      <td>False</td>\n",
       "    </tr>\n",
       "    <tr>\n",
       "      <td>row_3</td>\n",
       "      <td>True</td>\n",
       "      <td>False</td>\n",
       "      <td>True</td>\n",
       "      <td>True</td>\n",
       "    </tr>\n",
       "    <tr>\n",
       "      <td>row_4</td>\n",
       "      <td>True</td>\n",
       "      <td>True</td>\n",
       "      <td>True</td>\n",
       "      <td>False</td>\n",
       "    </tr>\n",
       "    <tr>\n",
       "      <td>row_5</td>\n",
       "      <td>True</td>\n",
       "      <td>True</td>\n",
       "      <td>False</td>\n",
       "      <td>True</td>\n",
       "    </tr>\n",
       "    <tr>\n",
       "      <td>row_6</td>\n",
       "      <td>True</td>\n",
       "      <td>True</td>\n",
       "      <td>True</td>\n",
       "      <td>False</td>\n",
       "    </tr>\n",
       "    <tr>\n",
       "      <td>row_7</td>\n",
       "      <td>False</td>\n",
       "      <td>True</td>\n",
       "      <td>False</td>\n",
       "      <td>True</td>\n",
       "    </tr>\n",
       "  </tbody>\n",
       "</table>\n",
       "</div>"
      ],
      "text/plain": [
       "       col_0  col_1  col_2  col_3\n",
       "row_0   True   True   True   True\n",
       "row_1   True   True   True   True\n",
       "row_2   True  False   True  False\n",
       "row_3   True  False   True   True\n",
       "row_4   True   True   True  False\n",
       "row_5   True   True  False   True\n",
       "row_6   True   True   True  False\n",
       "row_7  False   True  False   True"
      ]
     },
     "execution_count": 42,
     "metadata": {},
     "output_type": "execute_result"
    }
   ],
   "source": [
    "df<1"
   ]
  },
  {
   "cell_type": "code",
   "execution_count": 43,
   "metadata": {},
   "outputs": [
    {
     "data": {
      "text/html": [
       "<div>\n",
       "<style scoped>\n",
       "    .dataframe tbody tr th:only-of-type {\n",
       "        vertical-align: middle;\n",
       "    }\n",
       "\n",
       "    .dataframe tbody tr th {\n",
       "        vertical-align: top;\n",
       "    }\n",
       "\n",
       "    .dataframe thead th {\n",
       "        text-align: right;\n",
       "    }\n",
       "</style>\n",
       "<table border=\"1\" class=\"dataframe\">\n",
       "  <thead>\n",
       "    <tr style=\"text-align: right;\">\n",
       "      <th></th>\n",
       "      <th>col_0</th>\n",
       "      <th>col_1</th>\n",
       "      <th>col_2</th>\n",
       "      <th>col_3</th>\n",
       "    </tr>\n",
       "  </thead>\n",
       "  <tbody>\n",
       "    <tr>\n",
       "      <td>row_0</td>\n",
       "      <td>-0.038932</td>\n",
       "      <td>0.835136</td>\n",
       "      <td>0.222113</td>\n",
       "      <td>-0.064213</td>\n",
       "    </tr>\n",
       "    <tr>\n",
       "      <td>row_1</td>\n",
       "      <td>-1.069436</td>\n",
       "      <td>0.813927</td>\n",
       "      <td>0.232342</td>\n",
       "      <td>-1.194896</td>\n",
       "    </tr>\n",
       "    <tr>\n",
       "      <td>row_2</td>\n",
       "      <td>-1.176683</td>\n",
       "      <td>NaN</td>\n",
       "      <td>-0.445393</td>\n",
       "      <td>NaN</td>\n",
       "    </tr>\n",
       "    <tr>\n",
       "      <td>row_3</td>\n",
       "      <td>-1.038741</td>\n",
       "      <td>NaN</td>\n",
       "      <td>-0.182500</td>\n",
       "      <td>0.127883</td>\n",
       "    </tr>\n",
       "    <tr>\n",
       "      <td>row_4</td>\n",
       "      <td>0.190133</td>\n",
       "      <td>0.364272</td>\n",
       "      <td>0.119896</td>\n",
       "      <td>NaN</td>\n",
       "    </tr>\n",
       "    <tr>\n",
       "      <td>row_5</td>\n",
       "      <td>0.194475</td>\n",
       "      <td>-0.549022</td>\n",
       "      <td>NaN</td>\n",
       "      <td>-0.539197</td>\n",
       "    </tr>\n",
       "    <tr>\n",
       "      <td>row_6</td>\n",
       "      <td>0.293628</td>\n",
       "      <td>0.697685</td>\n",
       "      <td>0.416665</td>\n",
       "      <td>NaN</td>\n",
       "    </tr>\n",
       "    <tr>\n",
       "      <td>row_7</td>\n",
       "      <td>NaN</td>\n",
       "      <td>-0.486623</td>\n",
       "      <td>NaN</td>\n",
       "      <td>-1.541165</td>\n",
       "    </tr>\n",
       "  </tbody>\n",
       "</table>\n",
       "</div>"
      ],
      "text/plain": [
       "          col_0     col_1     col_2     col_3\n",
       "row_0 -0.038932  0.835136  0.222113 -0.064213\n",
       "row_1 -1.069436  0.813927  0.232342 -1.194896\n",
       "row_2 -1.176683       NaN -0.445393       NaN\n",
       "row_3 -1.038741       NaN -0.182500  0.127883\n",
       "row_4  0.190133  0.364272  0.119896       NaN\n",
       "row_5  0.194475 -0.549022       NaN -0.539197\n",
       "row_6  0.293628  0.697685  0.416665       NaN\n",
       "row_7       NaN -0.486623       NaN -1.541165"
      ]
     },
     "execution_count": 43,
     "metadata": {},
     "output_type": "execute_result"
    }
   ],
   "source": [
    "df = df[df<1]  #df<1 的含义\n",
    "df"
   ]
  },
  {
   "cell_type": "code",
   "execution_count": 44,
   "metadata": {},
   "outputs": [
    {
     "data": {
      "text/plain": [
       "row_0    False\n",
       "row_1    False\n",
       "row_2     True\n",
       "row_3    False\n",
       "row_4     True\n",
       "row_5    False\n",
       "row_6     True\n",
       "row_7    False\n",
       "Name: col_3, dtype: bool"
      ]
     },
     "execution_count": 44,
     "metadata": {},
     "output_type": "execute_result"
    }
   ],
   "source": [
    "df['col_3'].isnull() #输出"
   ]
  },
  {
   "cell_type": "code",
   "execution_count": 45,
   "metadata": {
    "scrolled": true
   },
   "outputs": [
    {
     "data": {
      "text/plain": [
       "row_0    False\n",
       "row_1    False\n",
       "row_2     True\n",
       "row_3    False\n",
       "row_4     True\n",
       "row_5    False\n",
       "row_6     True\n",
       "row_7    False\n",
       "Name: col_3, dtype: bool"
      ]
     },
     "execution_count": 45,
     "metadata": {},
     "output_type": "execute_result"
    }
   ],
   "source": [
    "df['col_3'].isna() #输出,两个功能一样，类似于别名"
   ]
  },
  {
   "cell_type": "code",
   "execution_count": 47,
   "metadata": {},
   "outputs": [
    {
     "data": {
      "text/html": [
       "<div>\n",
       "<style scoped>\n",
       "    .dataframe tbody tr th:only-of-type {\n",
       "        vertical-align: middle;\n",
       "    }\n",
       "\n",
       "    .dataframe tbody tr th {\n",
       "        vertical-align: top;\n",
       "    }\n",
       "\n",
       "    .dataframe thead th {\n",
       "        text-align: right;\n",
       "    }\n",
       "</style>\n",
       "<table border=\"1\" class=\"dataframe\">\n",
       "  <thead>\n",
       "    <tr style=\"text-align: right;\">\n",
       "      <th></th>\n",
       "      <th>col_0</th>\n",
       "      <th>col_1</th>\n",
       "      <th>col_2</th>\n",
       "      <th>col_3</th>\n",
       "    </tr>\n",
       "  </thead>\n",
       "  <tbody>\n",
       "    <tr>\n",
       "      <td>row_2</td>\n",
       "      <td>-1.176683</td>\n",
       "      <td>NaN</td>\n",
       "      <td>-0.445393</td>\n",
       "      <td>NaN</td>\n",
       "    </tr>\n",
       "    <tr>\n",
       "      <td>row_4</td>\n",
       "      <td>0.190133</td>\n",
       "      <td>0.364272</td>\n",
       "      <td>0.119896</td>\n",
       "      <td>NaN</td>\n",
       "    </tr>\n",
       "    <tr>\n",
       "      <td>row_6</td>\n",
       "      <td>0.293628</td>\n",
       "      <td>0.697685</td>\n",
       "      <td>0.416665</td>\n",
       "      <td>NaN</td>\n",
       "    </tr>\n",
       "  </tbody>\n",
       "</table>\n",
       "</div>"
      ],
      "text/plain": [
       "          col_0     col_1     col_2  col_3\n",
       "row_2 -1.176683       NaN -0.445393    NaN\n",
       "row_4  0.190133  0.364272  0.119896    NaN\n",
       "row_6  0.293628  0.697685  0.416665    NaN"
      ]
     },
     "execution_count": 47,
     "metadata": {},
     "output_type": "execute_result"
    }
   ],
   "source": [
    "df[df['col_3'].isna()] # 输出带有NaN数据的所有行"
   ]
  },
  {
   "cell_type": "markdown",
   "metadata": {},
   "source": [
    "### 8.2.2 删除数据帧中的缺失数据所在行或列\n",
    "\n",
    "- 语法\n",
    "\n",
    "```python\n",
    ">>> df.dropna(axis=0, how='any', thresh=None, subset=None, inplace=False)\n",
    "```\n",
    "\n",
    "\n",
    "- 功能\n",
    "    - 删除缺失数据\n",
    "    \n",
    "\n",
    "- 参数\n",
    "    - axis —— 确认删除行或列（0：删除行，1：删除列，缺省值 0）\n",
    "    - how —— 确定删除行或列的删除条件，'any'（缺省）表示只要有`nan`就删, 'all'表示必须全部是`nan`才删\n",
    "    - inplace —— True 原地操作，False（缺省）否"
   ]
  },
  {
   "cell_type": "markdown",
   "metadata": {},
   "source": [
    "### 例 4 删除数据帧中的缺失数据"
   ]
  },
  {
   "cell_type": "code",
   "execution_count": 22,
   "metadata": {},
   "outputs": [
    {
     "data": {
      "text/html": [
       "<div>\n",
       "<style scoped>\n",
       "    .dataframe tbody tr th:only-of-type {\n",
       "        vertical-align: middle;\n",
       "    }\n",
       "\n",
       "    .dataframe tbody tr th {\n",
       "        vertical-align: top;\n",
       "    }\n",
       "\n",
       "    .dataframe thead th {\n",
       "        text-align: right;\n",
       "    }\n",
       "</style>\n",
       "<table border=\"1\" class=\"dataframe\">\n",
       "  <thead>\n",
       "    <tr style=\"text-align: right;\">\n",
       "      <th></th>\n",
       "      <th>col_0</th>\n",
       "      <th>col_1</th>\n",
       "      <th>col_2</th>\n",
       "      <th>col_3</th>\n",
       "    </tr>\n",
       "  </thead>\n",
       "  <tbody>\n",
       "    <tr>\n",
       "      <td>row_0</td>\n",
       "      <td>NaN</td>\n",
       "      <td>0.057983</td>\n",
       "      <td>-0.653226</td>\n",
       "      <td>0.657156</td>\n",
       "    </tr>\n",
       "    <tr>\n",
       "      <td>row_1</td>\n",
       "      <td>-0.190881</td>\n",
       "      <td>0.042234</td>\n",
       "      <td>0.174893</td>\n",
       "      <td>NaN</td>\n",
       "    </tr>\n",
       "    <tr>\n",
       "      <td>row_2</td>\n",
       "      <td>-0.800396</td>\n",
       "      <td>0.456030</td>\n",
       "      <td>0.009470</td>\n",
       "      <td>0.231710</td>\n",
       "    </tr>\n",
       "    <tr>\n",
       "      <td>row_3</td>\n",
       "      <td>-0.077944</td>\n",
       "      <td>0.371548</td>\n",
       "      <td>-1.468723</td>\n",
       "      <td>NaN</td>\n",
       "    </tr>\n",
       "    <tr>\n",
       "      <td>row_4</td>\n",
       "      <td>-0.616139</td>\n",
       "      <td>-0.982639</td>\n",
       "      <td>-0.874004</td>\n",
       "      <td>-0.987928</td>\n",
       "    </tr>\n",
       "    <tr>\n",
       "      <td>row_5</td>\n",
       "      <td>-0.242264</td>\n",
       "      <td>-0.301705</td>\n",
       "      <td>0.304039</td>\n",
       "      <td>NaN</td>\n",
       "    </tr>\n",
       "    <tr>\n",
       "      <td>row_6</td>\n",
       "      <td>-0.360311</td>\n",
       "      <td>-0.320357</td>\n",
       "      <td>-1.899372</td>\n",
       "      <td>-1.576909</td>\n",
       "    </tr>\n",
       "    <tr>\n",
       "      <td>row_7</td>\n",
       "      <td>0.920260</td>\n",
       "      <td>-0.486401</td>\n",
       "      <td>-1.091463</td>\n",
       "      <td>0.619901</td>\n",
       "    </tr>\n",
       "  </tbody>\n",
       "</table>\n",
       "</div>"
      ],
      "text/plain": [
       "          col_0     col_1     col_2     col_3\n",
       "row_0       NaN  0.057983 -0.653226  0.657156\n",
       "row_1 -0.190881  0.042234  0.174893       NaN\n",
       "row_2 -0.800396  0.456030  0.009470  0.231710\n",
       "row_3 -0.077944  0.371548 -1.468723       NaN\n",
       "row_4 -0.616139 -0.982639 -0.874004 -0.987928\n",
       "row_5 -0.242264 -0.301705  0.304039       NaN\n",
       "row_6 -0.360311 -0.320357 -1.899372 -1.576909\n",
       "row_7  0.920260 -0.486401 -1.091463  0.619901"
      ]
     },
     "execution_count": 22,
     "metadata": {},
     "output_type": "execute_result"
    }
   ],
   "source": [
    "df1 = df.copy()\n",
    "df1"
   ]
  },
  {
   "cell_type": "code",
   "execution_count": 23,
   "metadata": {},
   "outputs": [
    {
     "data": {
      "text/html": [
       "<div>\n",
       "<style scoped>\n",
       "    .dataframe tbody tr th:only-of-type {\n",
       "        vertical-align: middle;\n",
       "    }\n",
       "\n",
       "    .dataframe tbody tr th {\n",
       "        vertical-align: top;\n",
       "    }\n",
       "\n",
       "    .dataframe thead th {\n",
       "        text-align: right;\n",
       "    }\n",
       "</style>\n",
       "<table border=\"1\" class=\"dataframe\">\n",
       "  <thead>\n",
       "    <tr style=\"text-align: right;\">\n",
       "      <th></th>\n",
       "      <th>col_0</th>\n",
       "      <th>col_1</th>\n",
       "      <th>col_2</th>\n",
       "      <th>col_3</th>\n",
       "    </tr>\n",
       "  </thead>\n",
       "  <tbody>\n",
       "    <tr>\n",
       "      <td>row_2</td>\n",
       "      <td>-0.800396</td>\n",
       "      <td>0.456030</td>\n",
       "      <td>0.009470</td>\n",
       "      <td>0.231710</td>\n",
       "    </tr>\n",
       "    <tr>\n",
       "      <td>row_4</td>\n",
       "      <td>-0.616139</td>\n",
       "      <td>-0.982639</td>\n",
       "      <td>-0.874004</td>\n",
       "      <td>-0.987928</td>\n",
       "    </tr>\n",
       "    <tr>\n",
       "      <td>row_6</td>\n",
       "      <td>-0.360311</td>\n",
       "      <td>-0.320357</td>\n",
       "      <td>-1.899372</td>\n",
       "      <td>-1.576909</td>\n",
       "    </tr>\n",
       "    <tr>\n",
       "      <td>row_7</td>\n",
       "      <td>0.920260</td>\n",
       "      <td>-0.486401</td>\n",
       "      <td>-1.091463</td>\n",
       "      <td>0.619901</td>\n",
       "    </tr>\n",
       "  </tbody>\n",
       "</table>\n",
       "</div>"
      ],
      "text/plain": [
       "          col_0     col_1     col_2     col_3\n",
       "row_2 -0.800396  0.456030  0.009470  0.231710\n",
       "row_4 -0.616139 -0.982639 -0.874004 -0.987928\n",
       "row_6 -0.360311 -0.320357 -1.899372 -1.576909\n",
       "row_7  0.920260 -0.486401 -1.091463  0.619901"
      ]
     },
     "execution_count": 23,
     "metadata": {},
     "output_type": "execute_result"
    }
   ],
   "source": [
    "# 不影响 df1\n",
    "df1 = df.copy()\n",
    "df1.dropna(how=\"any\") # inplace=False， how='any'表示只要有NaN就舍弃"
   ]
  },
  {
   "cell_type": "code",
   "execution_count": 24,
   "metadata": {},
   "outputs": [
    {
     "data": {
      "text/html": [
       "<div>\n",
       "<style scoped>\n",
       "    .dataframe tbody tr th:only-of-type {\n",
       "        vertical-align: middle;\n",
       "    }\n",
       "\n",
       "    .dataframe tbody tr th {\n",
       "        vertical-align: top;\n",
       "    }\n",
       "\n",
       "    .dataframe thead th {\n",
       "        text-align: right;\n",
       "    }\n",
       "</style>\n",
       "<table border=\"1\" class=\"dataframe\">\n",
       "  <thead>\n",
       "    <tr style=\"text-align: right;\">\n",
       "      <th></th>\n",
       "      <th>col_0</th>\n",
       "      <th>col_1</th>\n",
       "      <th>col_2</th>\n",
       "      <th>col_3</th>\n",
       "    </tr>\n",
       "  </thead>\n",
       "  <tbody>\n",
       "    <tr>\n",
       "      <td>row_0</td>\n",
       "      <td>NaN</td>\n",
       "      <td>0.057983</td>\n",
       "      <td>-0.653226</td>\n",
       "      <td>0.657156</td>\n",
       "    </tr>\n",
       "    <tr>\n",
       "      <td>row_1</td>\n",
       "      <td>-0.190881</td>\n",
       "      <td>0.042234</td>\n",
       "      <td>0.174893</td>\n",
       "      <td>NaN</td>\n",
       "    </tr>\n",
       "    <tr>\n",
       "      <td>row_2</td>\n",
       "      <td>-0.800396</td>\n",
       "      <td>0.456030</td>\n",
       "      <td>0.009470</td>\n",
       "      <td>0.231710</td>\n",
       "    </tr>\n",
       "    <tr>\n",
       "      <td>row_3</td>\n",
       "      <td>-0.077944</td>\n",
       "      <td>0.371548</td>\n",
       "      <td>-1.468723</td>\n",
       "      <td>NaN</td>\n",
       "    </tr>\n",
       "    <tr>\n",
       "      <td>row_4</td>\n",
       "      <td>-0.616139</td>\n",
       "      <td>-0.982639</td>\n",
       "      <td>-0.874004</td>\n",
       "      <td>-0.987928</td>\n",
       "    </tr>\n",
       "    <tr>\n",
       "      <td>row_5</td>\n",
       "      <td>-0.242264</td>\n",
       "      <td>-0.301705</td>\n",
       "      <td>0.304039</td>\n",
       "      <td>NaN</td>\n",
       "    </tr>\n",
       "    <tr>\n",
       "      <td>row_6</td>\n",
       "      <td>-0.360311</td>\n",
       "      <td>-0.320357</td>\n",
       "      <td>-1.899372</td>\n",
       "      <td>-1.576909</td>\n",
       "    </tr>\n",
       "    <tr>\n",
       "      <td>row_7</td>\n",
       "      <td>0.920260</td>\n",
       "      <td>-0.486401</td>\n",
       "      <td>-1.091463</td>\n",
       "      <td>0.619901</td>\n",
       "    </tr>\n",
       "  </tbody>\n",
       "</table>\n",
       "</div>"
      ],
      "text/plain": [
       "          col_0     col_1     col_2     col_3\n",
       "row_0       NaN  0.057983 -0.653226  0.657156\n",
       "row_1 -0.190881  0.042234  0.174893       NaN\n",
       "row_2 -0.800396  0.456030  0.009470  0.231710\n",
       "row_3 -0.077944  0.371548 -1.468723       NaN\n",
       "row_4 -0.616139 -0.982639 -0.874004 -0.987928\n",
       "row_5 -0.242264 -0.301705  0.304039       NaN\n",
       "row_6 -0.360311 -0.320357 -1.899372 -1.576909\n",
       "row_7  0.920260 -0.486401 -1.091463  0.619901"
      ]
     },
     "execution_count": 24,
     "metadata": {},
     "output_type": "execute_result"
    }
   ],
   "source": [
    "df1"
   ]
  },
  {
   "cell_type": "code",
   "execution_count": 25,
   "metadata": {},
   "outputs": [
    {
     "data": {
      "text/html": [
       "<div>\n",
       "<style scoped>\n",
       "    .dataframe tbody tr th:only-of-type {\n",
       "        vertical-align: middle;\n",
       "    }\n",
       "\n",
       "    .dataframe tbody tr th {\n",
       "        vertical-align: top;\n",
       "    }\n",
       "\n",
       "    .dataframe thead th {\n",
       "        text-align: right;\n",
       "    }\n",
       "</style>\n",
       "<table border=\"1\" class=\"dataframe\">\n",
       "  <thead>\n",
       "    <tr style=\"text-align: right;\">\n",
       "      <th></th>\n",
       "      <th>col_0</th>\n",
       "      <th>col_1</th>\n",
       "      <th>col_2</th>\n",
       "      <th>col_3</th>\n",
       "    </tr>\n",
       "  </thead>\n",
       "  <tbody>\n",
       "    <tr>\n",
       "      <td>row_2</td>\n",
       "      <td>-0.800396</td>\n",
       "      <td>0.456030</td>\n",
       "      <td>0.009470</td>\n",
       "      <td>0.231710</td>\n",
       "    </tr>\n",
       "    <tr>\n",
       "      <td>row_4</td>\n",
       "      <td>-0.616139</td>\n",
       "      <td>-0.982639</td>\n",
       "      <td>-0.874004</td>\n",
       "      <td>-0.987928</td>\n",
       "    </tr>\n",
       "    <tr>\n",
       "      <td>row_6</td>\n",
       "      <td>-0.360311</td>\n",
       "      <td>-0.320357</td>\n",
       "      <td>-1.899372</td>\n",
       "      <td>-1.576909</td>\n",
       "    </tr>\n",
       "    <tr>\n",
       "      <td>row_7</td>\n",
       "      <td>0.920260</td>\n",
       "      <td>-0.486401</td>\n",
       "      <td>-1.091463</td>\n",
       "      <td>0.619901</td>\n",
       "    </tr>\n",
       "  </tbody>\n",
       "</table>\n",
       "</div>"
      ],
      "text/plain": [
       "          col_0     col_1     col_2     col_3\n",
       "row_2 -0.800396  0.456030  0.009470  0.231710\n",
       "row_4 -0.616139 -0.982639 -0.874004 -0.987928\n",
       "row_6 -0.360311 -0.320357 -1.899372 -1.576909\n",
       "row_7  0.920260 -0.486401 -1.091463  0.619901"
      ]
     },
     "execution_count": 25,
     "metadata": {},
     "output_type": "execute_result"
    }
   ],
   "source": [
    "# 原地操作，影响df1\n",
    "df1 = df.copy()\n",
    "df1.dropna(how=\"any\", inplace=True)\n",
    "df1"
   ]
  },
  {
   "cell_type": "code",
   "execution_count": 26,
   "metadata": {},
   "outputs": [
    {
     "data": {
      "text/html": [
       "<div>\n",
       "<style scoped>\n",
       "    .dataframe tbody tr th:only-of-type {\n",
       "        vertical-align: middle;\n",
       "    }\n",
       "\n",
       "    .dataframe tbody tr th {\n",
       "        vertical-align: top;\n",
       "    }\n",
       "\n",
       "    .dataframe thead th {\n",
       "        text-align: right;\n",
       "    }\n",
       "</style>\n",
       "<table border=\"1\" class=\"dataframe\">\n",
       "  <thead>\n",
       "    <tr style=\"text-align: right;\">\n",
       "      <th></th>\n",
       "      <th>col_0</th>\n",
       "      <th>col_1</th>\n",
       "      <th>col_2</th>\n",
       "      <th>col_3</th>\n",
       "    </tr>\n",
       "  </thead>\n",
       "  <tbody>\n",
       "    <tr>\n",
       "      <td>row_0</td>\n",
       "      <td>NaN</td>\n",
       "      <td>NaN</td>\n",
       "      <td>NaN</td>\n",
       "      <td>NaN</td>\n",
       "    </tr>\n",
       "    <tr>\n",
       "      <td>row_1</td>\n",
       "      <td>NaN</td>\n",
       "      <td>NaN</td>\n",
       "      <td>NaN</td>\n",
       "      <td>NaN</td>\n",
       "    </tr>\n",
       "    <tr>\n",
       "      <td>row_2</td>\n",
       "      <td>NaN</td>\n",
       "      <td>NaN</td>\n",
       "      <td>NaN</td>\n",
       "      <td>NaN</td>\n",
       "    </tr>\n",
       "    <tr>\n",
       "      <td>row_3</td>\n",
       "      <td>NaN</td>\n",
       "      <td>NaN</td>\n",
       "      <td>-1.468723</td>\n",
       "      <td>NaN</td>\n",
       "    </tr>\n",
       "    <tr>\n",
       "      <td>row_4</td>\n",
       "      <td>NaN</td>\n",
       "      <td>NaN</td>\n",
       "      <td>NaN</td>\n",
       "      <td>NaN</td>\n",
       "    </tr>\n",
       "    <tr>\n",
       "      <td>row_5</td>\n",
       "      <td>NaN</td>\n",
       "      <td>NaN</td>\n",
       "      <td>NaN</td>\n",
       "      <td>NaN</td>\n",
       "    </tr>\n",
       "    <tr>\n",
       "      <td>row_6</td>\n",
       "      <td>NaN</td>\n",
       "      <td>NaN</td>\n",
       "      <td>-1.899372</td>\n",
       "      <td>-1.576909</td>\n",
       "    </tr>\n",
       "    <tr>\n",
       "      <td>row_7</td>\n",
       "      <td>NaN</td>\n",
       "      <td>NaN</td>\n",
       "      <td>-1.091463</td>\n",
       "      <td>NaN</td>\n",
       "    </tr>\n",
       "  </tbody>\n",
       "</table>\n",
       "</div>"
      ],
      "text/plain": [
       "       col_0  col_1     col_2     col_3\n",
       "row_0    NaN    NaN       NaN       NaN\n",
       "row_1    NaN    NaN       NaN       NaN\n",
       "row_2    NaN    NaN       NaN       NaN\n",
       "row_3    NaN    NaN -1.468723       NaN\n",
       "row_4    NaN    NaN       NaN       NaN\n",
       "row_5    NaN    NaN       NaN       NaN\n",
       "row_6    NaN    NaN -1.899372 -1.576909\n",
       "row_7    NaN    NaN -1.091463       NaN"
      ]
     },
     "execution_count": 26,
     "metadata": {},
     "output_type": "execute_result"
    }
   ],
   "source": [
    "df1 = df.copy()\n",
    "df1 = df[df<-1.0]\n",
    "df1"
   ]
  },
  {
   "cell_type": "code",
   "execution_count": 27,
   "metadata": {},
   "outputs": [
    {
     "data": {
      "text/html": [
       "<div>\n",
       "<style scoped>\n",
       "    .dataframe tbody tr th:only-of-type {\n",
       "        vertical-align: middle;\n",
       "    }\n",
       "\n",
       "    .dataframe tbody tr th {\n",
       "        vertical-align: top;\n",
       "    }\n",
       "\n",
       "    .dataframe thead th {\n",
       "        text-align: right;\n",
       "    }\n",
       "</style>\n",
       "<table border=\"1\" class=\"dataframe\">\n",
       "  <thead>\n",
       "    <tr style=\"text-align: right;\">\n",
       "      <th></th>\n",
       "      <th>col_0</th>\n",
       "      <th>col_1</th>\n",
       "      <th>col_2</th>\n",
       "      <th>col_3</th>\n",
       "    </tr>\n",
       "  </thead>\n",
       "  <tbody>\n",
       "    <tr>\n",
       "      <td>row_3</td>\n",
       "      <td>NaN</td>\n",
       "      <td>NaN</td>\n",
       "      <td>-1.468723</td>\n",
       "      <td>NaN</td>\n",
       "    </tr>\n",
       "    <tr>\n",
       "      <td>row_6</td>\n",
       "      <td>NaN</td>\n",
       "      <td>NaN</td>\n",
       "      <td>-1.899372</td>\n",
       "      <td>-1.576909</td>\n",
       "    </tr>\n",
       "    <tr>\n",
       "      <td>row_7</td>\n",
       "      <td>NaN</td>\n",
       "      <td>NaN</td>\n",
       "      <td>-1.091463</td>\n",
       "      <td>NaN</td>\n",
       "    </tr>\n",
       "  </tbody>\n",
       "</table>\n",
       "</div>"
      ],
      "text/plain": [
       "       col_0  col_1     col_2     col_3\n",
       "row_3    NaN    NaN -1.468723       NaN\n",
       "row_6    NaN    NaN -1.899372 -1.576909\n",
       "row_7    NaN    NaN -1.091463       NaN"
      ]
     },
     "execution_count": 27,
     "metadata": {},
     "output_type": "execute_result"
    }
   ],
   "source": [
    "df1.dropna(how=\"all\")  #表示全部是NaN才舍弃"
   ]
  },
  {
   "cell_type": "markdown",
   "metadata": {},
   "source": [
    "### 8.2.3 填充数据帧中的缺失数据\n",
    "\n",
    "- 语法\n",
    "\n",
    "```python\n",
    ">>> df1.fillna(value=None, method=None, axis=None, inplace=False, limit=None, downcast=None, **kwargs)\n",
    "```\n",
    "\n",
    "\n",
    "- 功能\n",
    "    - 用特定方法填充\n",
    "    \n",
    "    \n",
    "- 参数\n",
    "    - value —— 标量、字典、序列或数据帧\n",
    "    - inplace —— 逻辑值，缺省值False\n",
    "    - 其它 —— 略"
   ]
  },
  {
   "cell_type": "code",
   "execution_count": 117,
   "metadata": {},
   "outputs": [
    {
     "name": "stdout",
     "output_type": "stream",
     "text": [
      "Object `df1.fillna` not found.\n"
     ]
    }
   ],
   "source": [
    "df1.fillna?"
   ]
  },
  {
   "cell_type": "markdown",
   "metadata": {},
   "source": [
    "### 例 5 填充数据帧中的缺失数据示范"
   ]
  },
  {
   "cell_type": "code",
   "execution_count": 29,
   "metadata": {},
   "outputs": [
    {
     "data": {
      "text/html": [
       "<div>\n",
       "<style scoped>\n",
       "    .dataframe tbody tr th:only-of-type {\n",
       "        vertical-align: middle;\n",
       "    }\n",
       "\n",
       "    .dataframe tbody tr th {\n",
       "        vertical-align: top;\n",
       "    }\n",
       "\n",
       "    .dataframe thead th {\n",
       "        text-align: right;\n",
       "    }\n",
       "</style>\n",
       "<table border=\"1\" class=\"dataframe\">\n",
       "  <thead>\n",
       "    <tr style=\"text-align: right;\">\n",
       "      <th></th>\n",
       "      <th>col_0</th>\n",
       "      <th>col_1</th>\n",
       "      <th>col_2</th>\n",
       "      <th>col_3</th>\n",
       "    </tr>\n",
       "  </thead>\n",
       "  <tbody>\n",
       "    <tr>\n",
       "      <td>row_0</td>\n",
       "      <td>111.000000</td>\n",
       "      <td>0.057983</td>\n",
       "      <td>-0.653226</td>\n",
       "      <td>0.657156</td>\n",
       "    </tr>\n",
       "    <tr>\n",
       "      <td>row_1</td>\n",
       "      <td>-0.190881</td>\n",
       "      <td>0.042234</td>\n",
       "      <td>0.174893</td>\n",
       "      <td>111.000000</td>\n",
       "    </tr>\n",
       "    <tr>\n",
       "      <td>row_2</td>\n",
       "      <td>-0.800396</td>\n",
       "      <td>0.456030</td>\n",
       "      <td>0.009470</td>\n",
       "      <td>0.231710</td>\n",
       "    </tr>\n",
       "    <tr>\n",
       "      <td>row_3</td>\n",
       "      <td>-0.077944</td>\n",
       "      <td>0.371548</td>\n",
       "      <td>-1.468723</td>\n",
       "      <td>111.000000</td>\n",
       "    </tr>\n",
       "    <tr>\n",
       "      <td>row_4</td>\n",
       "      <td>-0.616139</td>\n",
       "      <td>-0.982639</td>\n",
       "      <td>-0.874004</td>\n",
       "      <td>-0.987928</td>\n",
       "    </tr>\n",
       "    <tr>\n",
       "      <td>row_5</td>\n",
       "      <td>-0.242264</td>\n",
       "      <td>-0.301705</td>\n",
       "      <td>0.304039</td>\n",
       "      <td>111.000000</td>\n",
       "    </tr>\n",
       "    <tr>\n",
       "      <td>row_6</td>\n",
       "      <td>-0.360311</td>\n",
       "      <td>-0.320357</td>\n",
       "      <td>-1.899372</td>\n",
       "      <td>-1.576909</td>\n",
       "    </tr>\n",
       "    <tr>\n",
       "      <td>row_7</td>\n",
       "      <td>0.920260</td>\n",
       "      <td>-0.486401</td>\n",
       "      <td>-1.091463</td>\n",
       "      <td>0.619901</td>\n",
       "    </tr>\n",
       "  </tbody>\n",
       "</table>\n",
       "</div>"
      ],
      "text/plain": [
       "            col_0     col_1     col_2       col_3\n",
       "row_0  111.000000  0.057983 -0.653226    0.657156\n",
       "row_1   -0.190881  0.042234  0.174893  111.000000\n",
       "row_2   -0.800396  0.456030  0.009470    0.231710\n",
       "row_3   -0.077944  0.371548 -1.468723  111.000000\n",
       "row_4   -0.616139 -0.982639 -0.874004   -0.987928\n",
       "row_5   -0.242264 -0.301705  0.304039  111.000000\n",
       "row_6   -0.360311 -0.320357 -1.899372   -1.576909\n",
       "row_7    0.920260 -0.486401 -1.091463    0.619901"
      ]
     },
     "execution_count": 29,
     "metadata": {},
     "output_type": "execute_result"
    }
   ],
   "source": [
    "df1 = df.copy()\n",
    "df1.fillna(value=111)"
   ]
  },
  {
   "cell_type": "markdown",
   "metadata": {},
   "source": [
    "### 例 5 不同列填充不同数据"
   ]
  },
  {
   "cell_type": "code",
   "execution_count": 30,
   "metadata": {},
   "outputs": [
    {
     "data": {
      "text/html": [
       "<div>\n",
       "<style scoped>\n",
       "    .dataframe tbody tr th:only-of-type {\n",
       "        vertical-align: middle;\n",
       "    }\n",
       "\n",
       "    .dataframe tbody tr th {\n",
       "        vertical-align: top;\n",
       "    }\n",
       "\n",
       "    .dataframe thead th {\n",
       "        text-align: right;\n",
       "    }\n",
       "</style>\n",
       "<table border=\"1\" class=\"dataframe\">\n",
       "  <thead>\n",
       "    <tr style=\"text-align: right;\">\n",
       "      <th></th>\n",
       "      <th>col_0</th>\n",
       "      <th>col_1</th>\n",
       "      <th>col_2</th>\n",
       "      <th>col_3</th>\n",
       "    </tr>\n",
       "  </thead>\n",
       "  <tbody>\n",
       "    <tr>\n",
       "      <td>row_0</td>\n",
       "      <td>NaN</td>\n",
       "      <td>NaN</td>\n",
       "      <td>-0.653226</td>\n",
       "      <td>NaN</td>\n",
       "    </tr>\n",
       "    <tr>\n",
       "      <td>row_1</td>\n",
       "      <td>-0.190881</td>\n",
       "      <td>NaN</td>\n",
       "      <td>NaN</td>\n",
       "      <td>NaN</td>\n",
       "    </tr>\n",
       "    <tr>\n",
       "      <td>row_2</td>\n",
       "      <td>-0.800396</td>\n",
       "      <td>NaN</td>\n",
       "      <td>NaN</td>\n",
       "      <td>NaN</td>\n",
       "    </tr>\n",
       "    <tr>\n",
       "      <td>row_3</td>\n",
       "      <td>-0.077944</td>\n",
       "      <td>NaN</td>\n",
       "      <td>-1.468723</td>\n",
       "      <td>NaN</td>\n",
       "    </tr>\n",
       "    <tr>\n",
       "      <td>row_4</td>\n",
       "      <td>-0.616139</td>\n",
       "      <td>-0.982639</td>\n",
       "      <td>-0.874004</td>\n",
       "      <td>-0.987928</td>\n",
       "    </tr>\n",
       "    <tr>\n",
       "      <td>row_5</td>\n",
       "      <td>-0.242264</td>\n",
       "      <td>-0.301705</td>\n",
       "      <td>NaN</td>\n",
       "      <td>NaN</td>\n",
       "    </tr>\n",
       "    <tr>\n",
       "      <td>row_6</td>\n",
       "      <td>-0.360311</td>\n",
       "      <td>-0.320357</td>\n",
       "      <td>-1.899372</td>\n",
       "      <td>-1.576909</td>\n",
       "    </tr>\n",
       "    <tr>\n",
       "      <td>row_7</td>\n",
       "      <td>NaN</td>\n",
       "      <td>-0.486401</td>\n",
       "      <td>-1.091463</td>\n",
       "      <td>NaN</td>\n",
       "    </tr>\n",
       "  </tbody>\n",
       "</table>\n",
       "</div>"
      ],
      "text/plain": [
       "          col_0     col_1     col_2     col_3\n",
       "row_0       NaN       NaN -0.653226       NaN\n",
       "row_1 -0.190881       NaN       NaN       NaN\n",
       "row_2 -0.800396       NaN       NaN       NaN\n",
       "row_3 -0.077944       NaN -1.468723       NaN\n",
       "row_4 -0.616139 -0.982639 -0.874004 -0.987928\n",
       "row_5 -0.242264 -0.301705       NaN       NaN\n",
       "row_6 -0.360311 -0.320357 -1.899372 -1.576909\n",
       "row_7       NaN -0.486401 -1.091463       NaN"
      ]
     },
     "execution_count": 30,
     "metadata": {},
     "output_type": "execute_result"
    }
   ],
   "source": [
    "df1 = df.copy()\n",
    "df1 = df[df<0.0]\n",
    "df1"
   ]
  },
  {
   "cell_type": "code",
   "execution_count": 31,
   "metadata": {},
   "outputs": [
    {
     "data": {
      "text/html": [
       "<div>\n",
       "<style scoped>\n",
       "    .dataframe tbody tr th:only-of-type {\n",
       "        vertical-align: middle;\n",
       "    }\n",
       "\n",
       "    .dataframe tbody tr th {\n",
       "        vertical-align: top;\n",
       "    }\n",
       "\n",
       "    .dataframe thead th {\n",
       "        text-align: right;\n",
       "    }\n",
       "</style>\n",
       "<table border=\"1\" class=\"dataframe\">\n",
       "  <thead>\n",
       "    <tr style=\"text-align: right;\">\n",
       "      <th></th>\n",
       "      <th>col_0</th>\n",
       "      <th>col_1</th>\n",
       "      <th>col_2</th>\n",
       "      <th>col_3</th>\n",
       "    </tr>\n",
       "  </thead>\n",
       "  <tbody>\n",
       "    <tr>\n",
       "      <td>row_0</td>\n",
       "      <td>111.000000</td>\n",
       "      <td>222.000000</td>\n",
       "      <td>-0.653226</td>\n",
       "      <td>444.000000</td>\n",
       "    </tr>\n",
       "    <tr>\n",
       "      <td>row_1</td>\n",
       "      <td>-0.190881</td>\n",
       "      <td>222.000000</td>\n",
       "      <td>333.000000</td>\n",
       "      <td>444.000000</td>\n",
       "    </tr>\n",
       "    <tr>\n",
       "      <td>row_2</td>\n",
       "      <td>-0.800396</td>\n",
       "      <td>222.000000</td>\n",
       "      <td>333.000000</td>\n",
       "      <td>444.000000</td>\n",
       "    </tr>\n",
       "    <tr>\n",
       "      <td>row_3</td>\n",
       "      <td>-0.077944</td>\n",
       "      <td>222.000000</td>\n",
       "      <td>-1.468723</td>\n",
       "      <td>444.000000</td>\n",
       "    </tr>\n",
       "    <tr>\n",
       "      <td>row_4</td>\n",
       "      <td>-0.616139</td>\n",
       "      <td>-0.982639</td>\n",
       "      <td>-0.874004</td>\n",
       "      <td>-0.987928</td>\n",
       "    </tr>\n",
       "    <tr>\n",
       "      <td>row_5</td>\n",
       "      <td>-0.242264</td>\n",
       "      <td>-0.301705</td>\n",
       "      <td>333.000000</td>\n",
       "      <td>444.000000</td>\n",
       "    </tr>\n",
       "    <tr>\n",
       "      <td>row_6</td>\n",
       "      <td>-0.360311</td>\n",
       "      <td>-0.320357</td>\n",
       "      <td>-1.899372</td>\n",
       "      <td>-1.576909</td>\n",
       "    </tr>\n",
       "    <tr>\n",
       "      <td>row_7</td>\n",
       "      <td>111.000000</td>\n",
       "      <td>-0.486401</td>\n",
       "      <td>-1.091463</td>\n",
       "      <td>444.000000</td>\n",
       "    </tr>\n",
       "  </tbody>\n",
       "</table>\n",
       "</div>"
      ],
      "text/plain": [
       "            col_0       col_1       col_2       col_3\n",
       "row_0  111.000000  222.000000   -0.653226  444.000000\n",
       "row_1   -0.190881  222.000000  333.000000  444.000000\n",
       "row_2   -0.800396  222.000000  333.000000  444.000000\n",
       "row_3   -0.077944  222.000000   -1.468723  444.000000\n",
       "row_4   -0.616139   -0.982639   -0.874004   -0.987928\n",
       "row_5   -0.242264   -0.301705  333.000000  444.000000\n",
       "row_6   -0.360311   -0.320357   -1.899372   -1.576909\n",
       "row_7  111.000000   -0.486401   -1.091463  444.000000"
      ]
     },
     "execution_count": 31,
     "metadata": {},
     "output_type": "execute_result"
    }
   ],
   "source": [
    "# 每一列填充不同的数\n",
    "df1.fillna({'col_0':111,'col_1':222,'col_2':333,'col_3':444})\n"
   ]
  },
  {
   "cell_type": "code",
   "execution_count": 32,
   "metadata": {},
   "outputs": [
    {
     "data": {
      "text/html": [
       "<div>\n",
       "<style scoped>\n",
       "    .dataframe tbody tr th:only-of-type {\n",
       "        vertical-align: middle;\n",
       "    }\n",
       "\n",
       "    .dataframe tbody tr th {\n",
       "        vertical-align: top;\n",
       "    }\n",
       "\n",
       "    .dataframe thead th {\n",
       "        text-align: right;\n",
       "    }\n",
       "</style>\n",
       "<table border=\"1\" class=\"dataframe\">\n",
       "  <thead>\n",
       "    <tr style=\"text-align: right;\">\n",
       "      <th></th>\n",
       "      <th>col_0</th>\n",
       "      <th>col_1</th>\n",
       "      <th>col_2</th>\n",
       "      <th>col_3</th>\n",
       "    </tr>\n",
       "  </thead>\n",
       "  <tbody>\n",
       "    <tr>\n",
       "      <td>row_0</td>\n",
       "      <td>NaN</td>\n",
       "      <td>NaN</td>\n",
       "      <td>-0.653226</td>\n",
       "      <td>NaN</td>\n",
       "    </tr>\n",
       "    <tr>\n",
       "      <td>row_1</td>\n",
       "      <td>-0.190881</td>\n",
       "      <td>NaN</td>\n",
       "      <td>NaN</td>\n",
       "      <td>NaN</td>\n",
       "    </tr>\n",
       "    <tr>\n",
       "      <td>row_2</td>\n",
       "      <td>-0.800396</td>\n",
       "      <td>NaN</td>\n",
       "      <td>NaN</td>\n",
       "      <td>NaN</td>\n",
       "    </tr>\n",
       "    <tr>\n",
       "      <td>row_3</td>\n",
       "      <td>-0.077944</td>\n",
       "      <td>NaN</td>\n",
       "      <td>-1.468723</td>\n",
       "      <td>NaN</td>\n",
       "    </tr>\n",
       "    <tr>\n",
       "      <td>row_4</td>\n",
       "      <td>-0.616139</td>\n",
       "      <td>-0.982639</td>\n",
       "      <td>-0.874004</td>\n",
       "      <td>-0.987928</td>\n",
       "    </tr>\n",
       "    <tr>\n",
       "      <td>row_5</td>\n",
       "      <td>-0.242264</td>\n",
       "      <td>-0.301705</td>\n",
       "      <td>NaN</td>\n",
       "      <td>NaN</td>\n",
       "    </tr>\n",
       "    <tr>\n",
       "      <td>row_6</td>\n",
       "      <td>-0.360311</td>\n",
       "      <td>-0.320357</td>\n",
       "      <td>-1.899372</td>\n",
       "      <td>-1.576909</td>\n",
       "    </tr>\n",
       "    <tr>\n",
       "      <td>row_7</td>\n",
       "      <td>NaN</td>\n",
       "      <td>-0.486401</td>\n",
       "      <td>-1.091463</td>\n",
       "      <td>NaN</td>\n",
       "    </tr>\n",
       "  </tbody>\n",
       "</table>\n",
       "</div>"
      ],
      "text/plain": [
       "          col_0     col_1     col_2     col_3\n",
       "row_0       NaN       NaN -0.653226       NaN\n",
       "row_1 -0.190881       NaN       NaN       NaN\n",
       "row_2 -0.800396       NaN       NaN       NaN\n",
       "row_3 -0.077944       NaN -1.468723       NaN\n",
       "row_4 -0.616139 -0.982639 -0.874004 -0.987928\n",
       "row_5 -0.242264 -0.301705       NaN       NaN\n",
       "row_6 -0.360311 -0.320357 -1.899372 -1.576909\n",
       "row_7       NaN -0.486401 -1.091463       NaN"
      ]
     },
     "execution_count": 32,
     "metadata": {},
     "output_type": "execute_result"
    }
   ],
   "source": [
    "df1"
   ]
  },
  {
   "cell_type": "code",
   "execution_count": 33,
   "metadata": {},
   "outputs": [
    {
     "data": {
      "text/html": [
       "<div>\n",
       "<style scoped>\n",
       "    .dataframe tbody tr th:only-of-type {\n",
       "        vertical-align: middle;\n",
       "    }\n",
       "\n",
       "    .dataframe tbody tr th {\n",
       "        vertical-align: top;\n",
       "    }\n",
       "\n",
       "    .dataframe thead th {\n",
       "        text-align: right;\n",
       "    }\n",
       "</style>\n",
       "<table border=\"1\" class=\"dataframe\">\n",
       "  <thead>\n",
       "    <tr style=\"text-align: right;\">\n",
       "      <th></th>\n",
       "      <th>col_0</th>\n",
       "      <th>col_1</th>\n",
       "      <th>col_2</th>\n",
       "      <th>col_3</th>\n",
       "    </tr>\n",
       "  </thead>\n",
       "  <tbody>\n",
       "    <tr>\n",
       "      <td>row_0</td>\n",
       "      <td>NaN</td>\n",
       "      <td>NaN</td>\n",
       "      <td>-0.653226</td>\n",
       "      <td>NaN</td>\n",
       "    </tr>\n",
       "    <tr>\n",
       "      <td>row_1</td>\n",
       "      <td>-0.190881</td>\n",
       "      <td>NaN</td>\n",
       "      <td>-0.653226</td>\n",
       "      <td>NaN</td>\n",
       "    </tr>\n",
       "    <tr>\n",
       "      <td>row_2</td>\n",
       "      <td>-0.800396</td>\n",
       "      <td>NaN</td>\n",
       "      <td>-0.653226</td>\n",
       "      <td>NaN</td>\n",
       "    </tr>\n",
       "    <tr>\n",
       "      <td>row_3</td>\n",
       "      <td>-0.077944</td>\n",
       "      <td>NaN</td>\n",
       "      <td>-1.468723</td>\n",
       "      <td>NaN</td>\n",
       "    </tr>\n",
       "    <tr>\n",
       "      <td>row_4</td>\n",
       "      <td>-0.616139</td>\n",
       "      <td>-0.982639</td>\n",
       "      <td>-0.874004</td>\n",
       "      <td>-0.987928</td>\n",
       "    </tr>\n",
       "    <tr>\n",
       "      <td>row_5</td>\n",
       "      <td>-0.242264</td>\n",
       "      <td>-0.301705</td>\n",
       "      <td>-0.874004</td>\n",
       "      <td>-0.987928</td>\n",
       "    </tr>\n",
       "    <tr>\n",
       "      <td>row_6</td>\n",
       "      <td>-0.360311</td>\n",
       "      <td>-0.320357</td>\n",
       "      <td>-1.899372</td>\n",
       "      <td>-1.576909</td>\n",
       "    </tr>\n",
       "    <tr>\n",
       "      <td>row_7</td>\n",
       "      <td>-0.360311</td>\n",
       "      <td>-0.486401</td>\n",
       "      <td>-1.091463</td>\n",
       "      <td>-1.576909</td>\n",
       "    </tr>\n",
       "  </tbody>\n",
       "</table>\n",
       "</div>"
      ],
      "text/plain": [
       "          col_0     col_1     col_2     col_3\n",
       "row_0       NaN       NaN -0.653226       NaN\n",
       "row_1 -0.190881       NaN -0.653226       NaN\n",
       "row_2 -0.800396       NaN -0.653226       NaN\n",
       "row_3 -0.077944       NaN -1.468723       NaN\n",
       "row_4 -0.616139 -0.982639 -0.874004 -0.987928\n",
       "row_5 -0.242264 -0.301705 -0.874004 -0.987928\n",
       "row_6 -0.360311 -0.320357 -1.899372 -1.576909\n",
       "row_7 -0.360311 -0.486401 -1.091463 -1.576909"
      ]
     },
     "execution_count": 33,
     "metadata": {},
     "output_type": "execute_result"
    }
   ],
   "source": [
    "# 向前或者向后填充\n",
    "df1.fillna(method=\"ffill\")"
   ]
  },
  {
   "cell_type": "code",
   "execution_count": 34,
   "metadata": {},
   "outputs": [
    {
     "data": {
      "text/html": [
       "<div>\n",
       "<style scoped>\n",
       "    .dataframe tbody tr th:only-of-type {\n",
       "        vertical-align: middle;\n",
       "    }\n",
       "\n",
       "    .dataframe tbody tr th {\n",
       "        vertical-align: top;\n",
       "    }\n",
       "\n",
       "    .dataframe thead th {\n",
       "        text-align: right;\n",
       "    }\n",
       "</style>\n",
       "<table border=\"1\" class=\"dataframe\">\n",
       "  <thead>\n",
       "    <tr style=\"text-align: right;\">\n",
       "      <th></th>\n",
       "      <th>col_0</th>\n",
       "      <th>col_1</th>\n",
       "      <th>col_2</th>\n",
       "      <th>col_3</th>\n",
       "    </tr>\n",
       "  </thead>\n",
       "  <tbody>\n",
       "    <tr>\n",
       "      <td>row_0</td>\n",
       "      <td>-0.190881</td>\n",
       "      <td>-0.982639</td>\n",
       "      <td>-0.653226</td>\n",
       "      <td>-0.987928</td>\n",
       "    </tr>\n",
       "    <tr>\n",
       "      <td>row_1</td>\n",
       "      <td>-0.190881</td>\n",
       "      <td>-0.982639</td>\n",
       "      <td>-1.468723</td>\n",
       "      <td>-0.987928</td>\n",
       "    </tr>\n",
       "    <tr>\n",
       "      <td>row_2</td>\n",
       "      <td>-0.800396</td>\n",
       "      <td>-0.982639</td>\n",
       "      <td>-1.468723</td>\n",
       "      <td>-0.987928</td>\n",
       "    </tr>\n",
       "    <tr>\n",
       "      <td>row_3</td>\n",
       "      <td>-0.077944</td>\n",
       "      <td>-0.982639</td>\n",
       "      <td>-1.468723</td>\n",
       "      <td>-0.987928</td>\n",
       "    </tr>\n",
       "    <tr>\n",
       "      <td>row_4</td>\n",
       "      <td>-0.616139</td>\n",
       "      <td>-0.982639</td>\n",
       "      <td>-0.874004</td>\n",
       "      <td>-0.987928</td>\n",
       "    </tr>\n",
       "    <tr>\n",
       "      <td>row_5</td>\n",
       "      <td>-0.242264</td>\n",
       "      <td>-0.301705</td>\n",
       "      <td>-1.899372</td>\n",
       "      <td>-1.576909</td>\n",
       "    </tr>\n",
       "    <tr>\n",
       "      <td>row_6</td>\n",
       "      <td>-0.360311</td>\n",
       "      <td>-0.320357</td>\n",
       "      <td>-1.899372</td>\n",
       "      <td>-1.576909</td>\n",
       "    </tr>\n",
       "    <tr>\n",
       "      <td>row_7</td>\n",
       "      <td>NaN</td>\n",
       "      <td>-0.486401</td>\n",
       "      <td>-1.091463</td>\n",
       "      <td>NaN</td>\n",
       "    </tr>\n",
       "  </tbody>\n",
       "</table>\n",
       "</div>"
      ],
      "text/plain": [
       "          col_0     col_1     col_2     col_3\n",
       "row_0 -0.190881 -0.982639 -0.653226 -0.987928\n",
       "row_1 -0.190881 -0.982639 -1.468723 -0.987928\n",
       "row_2 -0.800396 -0.982639 -1.468723 -0.987928\n",
       "row_3 -0.077944 -0.982639 -1.468723 -0.987928\n",
       "row_4 -0.616139 -0.982639 -0.874004 -0.987928\n",
       "row_5 -0.242264 -0.301705 -1.899372 -1.576909\n",
       "row_6 -0.360311 -0.320357 -1.899372 -1.576909\n",
       "row_7       NaN -0.486401 -1.091463       NaN"
      ]
     },
     "execution_count": 34,
     "metadata": {},
     "output_type": "execute_result"
    }
   ],
   "source": [
    "df1.fillna(method=\"bfill\")"
   ]
  },
  {
   "cell_type": "code",
   "execution_count": 35,
   "metadata": {},
   "outputs": [
    {
     "data": {
      "text/html": [
       "<div>\n",
       "<style scoped>\n",
       "    .dataframe tbody tr th:only-of-type {\n",
       "        vertical-align: middle;\n",
       "    }\n",
       "\n",
       "    .dataframe tbody tr th {\n",
       "        vertical-align: top;\n",
       "    }\n",
       "\n",
       "    .dataframe thead th {\n",
       "        text-align: right;\n",
       "    }\n",
       "</style>\n",
       "<table border=\"1\" class=\"dataframe\">\n",
       "  <thead>\n",
       "    <tr style=\"text-align: right;\">\n",
       "      <th></th>\n",
       "      <th>col_0</th>\n",
       "      <th>col_1</th>\n",
       "      <th>col_2</th>\n",
       "      <th>col_3</th>\n",
       "    </tr>\n",
       "  </thead>\n",
       "  <tbody>\n",
       "    <tr>\n",
       "      <td>row_0</td>\n",
       "      <td>-0.381323</td>\n",
       "      <td>-0.522775</td>\n",
       "      <td>-0.653226</td>\n",
       "      <td>-1.282418</td>\n",
       "    </tr>\n",
       "    <tr>\n",
       "      <td>row_1</td>\n",
       "      <td>-0.190881</td>\n",
       "      <td>-0.522775</td>\n",
       "      <td>-1.197358</td>\n",
       "      <td>-1.282418</td>\n",
       "    </tr>\n",
       "    <tr>\n",
       "      <td>row_2</td>\n",
       "      <td>-0.800396</td>\n",
       "      <td>-0.522775</td>\n",
       "      <td>-1.197358</td>\n",
       "      <td>-1.282418</td>\n",
       "    </tr>\n",
       "    <tr>\n",
       "      <td>row_3</td>\n",
       "      <td>-0.077944</td>\n",
       "      <td>-0.522775</td>\n",
       "      <td>-1.468723</td>\n",
       "      <td>-1.282418</td>\n",
       "    </tr>\n",
       "    <tr>\n",
       "      <td>row_4</td>\n",
       "      <td>-0.616139</td>\n",
       "      <td>-0.982639</td>\n",
       "      <td>-0.874004</td>\n",
       "      <td>-0.987928</td>\n",
       "    </tr>\n",
       "    <tr>\n",
       "      <td>row_5</td>\n",
       "      <td>-0.242264</td>\n",
       "      <td>-0.301705</td>\n",
       "      <td>-1.197358</td>\n",
       "      <td>-1.282418</td>\n",
       "    </tr>\n",
       "    <tr>\n",
       "      <td>row_6</td>\n",
       "      <td>-0.360311</td>\n",
       "      <td>-0.320357</td>\n",
       "      <td>-1.899372</td>\n",
       "      <td>-1.576909</td>\n",
       "    </tr>\n",
       "    <tr>\n",
       "      <td>row_7</td>\n",
       "      <td>-0.381323</td>\n",
       "      <td>-0.486401</td>\n",
       "      <td>-1.091463</td>\n",
       "      <td>-1.282418</td>\n",
       "    </tr>\n",
       "  </tbody>\n",
       "</table>\n",
       "</div>"
      ],
      "text/plain": [
       "          col_0     col_1     col_2     col_3\n",
       "row_0 -0.381323 -0.522775 -0.653226 -1.282418\n",
       "row_1 -0.190881 -0.522775 -1.197358 -1.282418\n",
       "row_2 -0.800396 -0.522775 -1.197358 -1.282418\n",
       "row_3 -0.077944 -0.522775 -1.468723 -1.282418\n",
       "row_4 -0.616139 -0.982639 -0.874004 -0.987928\n",
       "row_5 -0.242264 -0.301705 -1.197358 -1.282418\n",
       "row_6 -0.360311 -0.320357 -1.899372 -1.576909\n",
       "row_7 -0.381323 -0.486401 -1.091463 -1.282418"
      ]
     },
     "execution_count": 35,
     "metadata": {},
     "output_type": "execute_result"
    }
   ],
   "source": [
    "# 平均值填充  \n",
    "df1.fillna(df1.mean())"
   ]
  },
  {
   "cell_type": "markdown",
   "metadata": {},
   "source": [
    "### 8.2.4 根据是否 nan 生成布尔掩码数据帧\n",
    "\n",
    "\n",
    "- 语法\n",
    "    - 和序列相同（略）"
   ]
  },
  {
   "cell_type": "code",
   "execution_count": 36,
   "metadata": {},
   "outputs": [
    {
     "data": {
      "text/html": [
       "<div>\n",
       "<style scoped>\n",
       "    .dataframe tbody tr th:only-of-type {\n",
       "        vertical-align: middle;\n",
       "    }\n",
       "\n",
       "    .dataframe tbody tr th {\n",
       "        vertical-align: top;\n",
       "    }\n",
       "\n",
       "    .dataframe thead th {\n",
       "        text-align: right;\n",
       "    }\n",
       "</style>\n",
       "<table border=\"1\" class=\"dataframe\">\n",
       "  <thead>\n",
       "    <tr style=\"text-align: right;\">\n",
       "      <th></th>\n",
       "      <th>col_0</th>\n",
       "      <th>col_1</th>\n",
       "      <th>col_2</th>\n",
       "      <th>col_3</th>\n",
       "    </tr>\n",
       "  </thead>\n",
       "  <tbody>\n",
       "    <tr>\n",
       "      <td>row_0</td>\n",
       "      <td>True</td>\n",
       "      <td>False</td>\n",
       "      <td>False</td>\n",
       "      <td>False</td>\n",
       "    </tr>\n",
       "    <tr>\n",
       "      <td>row_1</td>\n",
       "      <td>False</td>\n",
       "      <td>False</td>\n",
       "      <td>False</td>\n",
       "      <td>True</td>\n",
       "    </tr>\n",
       "    <tr>\n",
       "      <td>row_2</td>\n",
       "      <td>False</td>\n",
       "      <td>False</td>\n",
       "      <td>False</td>\n",
       "      <td>False</td>\n",
       "    </tr>\n",
       "    <tr>\n",
       "      <td>row_3</td>\n",
       "      <td>False</td>\n",
       "      <td>False</td>\n",
       "      <td>False</td>\n",
       "      <td>True</td>\n",
       "    </tr>\n",
       "    <tr>\n",
       "      <td>row_4</td>\n",
       "      <td>False</td>\n",
       "      <td>False</td>\n",
       "      <td>False</td>\n",
       "      <td>False</td>\n",
       "    </tr>\n",
       "    <tr>\n",
       "      <td>row_5</td>\n",
       "      <td>False</td>\n",
       "      <td>False</td>\n",
       "      <td>False</td>\n",
       "      <td>True</td>\n",
       "    </tr>\n",
       "    <tr>\n",
       "      <td>row_6</td>\n",
       "      <td>False</td>\n",
       "      <td>False</td>\n",
       "      <td>False</td>\n",
       "      <td>False</td>\n",
       "    </tr>\n",
       "    <tr>\n",
       "      <td>row_7</td>\n",
       "      <td>False</td>\n",
       "      <td>False</td>\n",
       "      <td>False</td>\n",
       "      <td>False</td>\n",
       "    </tr>\n",
       "  </tbody>\n",
       "</table>\n",
       "</div>"
      ],
      "text/plain": [
       "       col_0  col_1  col_2  col_3\n",
       "row_0   True  False  False  False\n",
       "row_1  False  False  False   True\n",
       "row_2  False  False  False  False\n",
       "row_3  False  False  False   True\n",
       "row_4  False  False  False  False\n",
       "row_5  False  False  False   True\n",
       "row_6  False  False  False  False\n",
       "row_7  False  False  False  False"
      ]
     },
     "execution_count": 36,
     "metadata": {},
     "output_type": "execute_result"
    }
   ],
   "source": [
    "df1 = df.copy()\n",
    "pd.isna(df1)"
   ]
  },
  {
   "cell_type": "markdown",
   "metadata": {},
   "source": [
    "## 8.3 实例讲解：处理缺失的风速数据"
   ]
  },
  {
   "cell_type": "markdown",
   "metadata": {},
   "source": [
    "### 8.3.1 读入风速数据文件"
   ]
  },
  {
   "cell_type": "code",
   "execution_count": 37,
   "metadata": {},
   "outputs": [
    {
     "name": "stderr",
     "output_type": "stream",
     "text": [
      "系统找不到指定的路径。\n"
     ]
    }
   ],
   "source": [
    "! data\\windspeed.xlsx"
   ]
  },
  {
   "cell_type": "code",
   "execution_count": 49,
   "metadata": {
    "scrolled": false
   },
   "outputs": [
    {
     "data": {
      "text/html": [
       "<div>\n",
       "<style scoped>\n",
       "    .dataframe tbody tr th:only-of-type {\n",
       "        vertical-align: middle;\n",
       "    }\n",
       "\n",
       "    .dataframe tbody tr th {\n",
       "        vertical-align: top;\n",
       "    }\n",
       "\n",
       "    .dataframe thead th {\n",
       "        text-align: right;\n",
       "    }\n",
       "</style>\n",
       "<table border=\"1\" class=\"dataframe\">\n",
       "  <thead>\n",
       "    <tr style=\"text-align: right;\">\n",
       "      <th></th>\n",
       "      <th>year</th>\n",
       "      <th>month</th>\n",
       "      <th>day</th>\n",
       "      <th>Uday</th>\n",
       "      <th>Umean</th>\n",
       "      <th>Umeandir</th>\n",
       "      <th>Umax</th>\n",
       "      <th>Umaxdir</th>\n",
       "    </tr>\n",
       "  </thead>\n",
       "  <tbody>\n",
       "    <tr>\n",
       "      <td>0</td>\n",
       "      <td>1953</td>\n",
       "      <td>1</td>\n",
       "      <td>1</td>\n",
       "      <td>163.0</td>\n",
       "      <td>NaN</td>\n",
       "      <td>NaN</td>\n",
       "      <td>NaN</td>\n",
       "      <td>NaN</td>\n",
       "    </tr>\n",
       "    <tr>\n",
       "      <td>1</td>\n",
       "      <td>1953</td>\n",
       "      <td>1</td>\n",
       "      <td>2</td>\n",
       "      <td>137.0</td>\n",
       "      <td>NaN</td>\n",
       "      <td>NaN</td>\n",
       "      <td>NaN</td>\n",
       "      <td>NaN</td>\n",
       "    </tr>\n",
       "    <tr>\n",
       "      <td>2</td>\n",
       "      <td>1953</td>\n",
       "      <td>1</td>\n",
       "      <td>3</td>\n",
       "      <td>150.0</td>\n",
       "      <td>NaN</td>\n",
       "      <td>NaN</td>\n",
       "      <td>NaN</td>\n",
       "      <td>NaN</td>\n",
       "    </tr>\n",
       "    <tr>\n",
       "      <td>3</td>\n",
       "      <td>1953</td>\n",
       "      <td>1</td>\n",
       "      <td>4</td>\n",
       "      <td>103.0</td>\n",
       "      <td>NaN</td>\n",
       "      <td>NaN</td>\n",
       "      <td>NaN</td>\n",
       "      <td>NaN</td>\n",
       "    </tr>\n",
       "    <tr>\n",
       "      <td>4</td>\n",
       "      <td>1953</td>\n",
       "      <td>1</td>\n",
       "      <td>5</td>\n",
       "      <td>80.0</td>\n",
       "      <td>NaN</td>\n",
       "      <td>NaN</td>\n",
       "      <td>NaN</td>\n",
       "      <td>NaN</td>\n",
       "    </tr>\n",
       "    <tr>\n",
       "      <td>...</td>\n",
       "      <td>...</td>\n",
       "      <td>...</td>\n",
       "      <td>...</td>\n",
       "      <td>...</td>\n",
       "      <td>...</td>\n",
       "      <td>...</td>\n",
       "      <td>...</td>\n",
       "      <td>...</td>\n",
       "    </tr>\n",
       "    <tr>\n",
       "      <td>22974</td>\n",
       "      <td>2015</td>\n",
       "      <td>11</td>\n",
       "      <td>26</td>\n",
       "      <td>36.0</td>\n",
       "      <td>53.0</td>\n",
       "      <td>2.0</td>\n",
       "      <td>104.0</td>\n",
       "      <td>1.0</td>\n",
       "    </tr>\n",
       "    <tr>\n",
       "      <td>22975</td>\n",
       "      <td>2015</td>\n",
       "      <td>11</td>\n",
       "      <td>27</td>\n",
       "      <td>47.0</td>\n",
       "      <td>63.0</td>\n",
       "      <td>1.0</td>\n",
       "      <td>126.0</td>\n",
       "      <td>3.0</td>\n",
       "    </tr>\n",
       "    <tr>\n",
       "      <td>22976</td>\n",
       "      <td>2015</td>\n",
       "      <td>11</td>\n",
       "      <td>28</td>\n",
       "      <td>53.0</td>\n",
       "      <td>65.0</td>\n",
       "      <td>1.0</td>\n",
       "      <td>121.0</td>\n",
       "      <td>1.0</td>\n",
       "    </tr>\n",
       "    <tr>\n",
       "      <td>22977</td>\n",
       "      <td>2015</td>\n",
       "      <td>11</td>\n",
       "      <td>29</td>\n",
       "      <td>24.0</td>\n",
       "      <td>52.0</td>\n",
       "      <td>1.0</td>\n",
       "      <td>99.0</td>\n",
       "      <td>1.0</td>\n",
       "    </tr>\n",
       "    <tr>\n",
       "      <td>22978</td>\n",
       "      <td>2015</td>\n",
       "      <td>11</td>\n",
       "      <td>30</td>\n",
       "      <td>40.0</td>\n",
       "      <td>54.0</td>\n",
       "      <td>2.0</td>\n",
       "      <td>105.0</td>\n",
       "      <td>16.0</td>\n",
       "    </tr>\n",
       "  </tbody>\n",
       "</table>\n",
       "<p>22979 rows × 8 columns</p>\n",
       "</div>"
      ],
      "text/plain": [
       "       year  month  day   Uday  Umean  Umeandir   Umax  Umaxdir\n",
       "0      1953      1    1  163.0    NaN       NaN    NaN      NaN\n",
       "1      1953      1    2  137.0    NaN       NaN    NaN      NaN\n",
       "2      1953      1    3  150.0    NaN       NaN    NaN      NaN\n",
       "3      1953      1    4  103.0    NaN       NaN    NaN      NaN\n",
       "4      1953      1    5   80.0    NaN       NaN    NaN      NaN\n",
       "...     ...    ...  ...    ...    ...       ...    ...      ...\n",
       "22974  2015     11   26   36.0   53.0       2.0  104.0      1.0\n",
       "22975  2015     11   27   47.0   63.0       1.0  126.0      3.0\n",
       "22976  2015     11   28   53.0   65.0       1.0  121.0      1.0\n",
       "22977  2015     11   29   24.0   52.0       1.0   99.0      1.0\n",
       "22978  2015     11   30   40.0   54.0       2.0  105.0     16.0\n",
       "\n",
       "[22979 rows x 8 columns]"
      ]
     },
     "execution_count": 49,
     "metadata": {},
     "output_type": "execute_result"
    }
   ],
   "source": [
    "windspeed = pd.read_excel(r\"windspeed.xlsx\",header=None, \\\n",
    "                          names = [\"year\",\"month\",\"day\",\"Uday\",\"Umean\",\"Umeandir\",\"Umax\",\"Umaxdir\"])\n",
    "windspeed"
   ]
  },
  {
   "cell_type": "markdown",
   "metadata": {},
   "source": [
    "### 8.3.2 数据预览和预处理"
   ]
  },
  {
   "cell_type": "markdown",
   "metadata": {},
   "source": [
    "- 1.风速单位调整：m/s"
   ]
  },
  {
   "cell_type": "code",
   "execution_count": 50,
   "metadata": {},
   "outputs": [],
   "source": [
    "windspeed['Uday'] /= 10"
   ]
  },
  {
   "cell_type": "code",
   "execution_count": 51,
   "metadata": {},
   "outputs": [],
   "source": [
    "windspeed['Umean'] /= 10\n",
    "windspeed['Umax'] /= 10"
   ]
  },
  {
   "cell_type": "markdown",
   "metadata": {},
   "source": [
    "- 2.画图：前 5 年的日风速数据"
   ]
  },
  {
   "cell_type": "code",
   "execution_count": 53,
   "metadata": {
    "scrolled": false
   },
   "outputs": [
    {
     "data": {
      "text/plain": [
       "<matplotlib.axes._subplots.AxesSubplot at 0x17c7eb4b488>"
      ]
     },
     "execution_count": 53,
     "metadata": {},
     "output_type": "execute_result"
    },
    {
     "data": {
      "image/png": "[encoded data removed]",
      "text/plain": [
       "<Figure size 432x288 with 1 Axes>"
      ]
     },
     "metadata": {
      "needs_background": "light"
     },
     "output_type": "display_data"
    }
   ],
   "source": [
    "windspeed['Uday'][0:365*5].plot()"
   ]
  },
  {
   "cell_type": "markdown",
   "metadata": {},
   "source": [
    "- 3.描述：整体的数据分布"
   ]
  },
  {
   "cell_type": "code",
   "execution_count": 54,
   "metadata": {
    "scrolled": true
   },
   "outputs": [
    {
     "data": {
      "text/html": [
       "<div>\n",
       "<style scoped>\n",
       "    .dataframe tbody tr th:only-of-type {\n",
       "        vertical-align: middle;\n",
       "    }\n",
       "\n",
       "    .dataframe tbody tr th {\n",
       "        vertical-align: top;\n",
       "    }\n",
       "\n",
       "    .dataframe thead th {\n",
       "        text-align: right;\n",
       "    }\n",
       "</style>\n",
       "<table border=\"1\" class=\"dataframe\">\n",
       "  <thead>\n",
       "    <tr style=\"text-align: right;\">\n",
       "      <th></th>\n",
       "      <th>year</th>\n",
       "      <th>month</th>\n",
       "      <th>day</th>\n",
       "      <th>Uday</th>\n",
       "      <th>Umean</th>\n",
       "      <th>Umeandir</th>\n",
       "      <th>Umax</th>\n",
       "      <th>Umaxdir</th>\n",
       "    </tr>\n",
       "  </thead>\n",
       "  <tbody>\n",
       "    <tr>\n",
       "      <td>count</td>\n",
       "      <td>22979.000000</td>\n",
       "      <td>22979.000000</td>\n",
       "      <td>22979.000000</td>\n",
       "      <td>22975.000000</td>\n",
       "      <td>16300.000000</td>\n",
       "      <td>16292.000000</td>\n",
       "      <td>4716.000000</td>\n",
       "      <td>4714.000000</td>\n",
       "    </tr>\n",
       "    <tr>\n",
       "      <td>mean</td>\n",
       "      <td>1983.958179</td>\n",
       "      <td>6.515688</td>\n",
       "      <td>15.728839</td>\n",
       "      <td>5.493536</td>\n",
       "      <td>7.815816</td>\n",
       "      <td>4.752087</td>\n",
       "      <td>10.692706</td>\n",
       "      <td>5.016971</td>\n",
       "    </tr>\n",
       "    <tr>\n",
       "      <td>std</td>\n",
       "      <td>18.160617</td>\n",
       "      <td>3.445187</td>\n",
       "      <td>8.799899</td>\n",
       "      <td>2.907025</td>\n",
       "      <td>2.731974</td>\n",
       "      <td>3.736352</td>\n",
       "      <td>3.233473</td>\n",
       "      <td>4.108197</td>\n",
       "    </tr>\n",
       "    <tr>\n",
       "      <td>min</td>\n",
       "      <td>1953.000000</td>\n",
       "      <td>1.000000</td>\n",
       "      <td>1.000000</td>\n",
       "      <td>0.000000</td>\n",
       "      <td>1.800000</td>\n",
       "      <td>1.000000</td>\n",
       "      <td>3.400000</td>\n",
       "      <td>1.000000</td>\n",
       "    </tr>\n",
       "    <tr>\n",
       "      <td>25%</td>\n",
       "      <td>1968.000000</td>\n",
       "      <td>4.000000</td>\n",
       "      <td>8.000000</td>\n",
       "      <td>3.300000</td>\n",
       "      <td>5.900000</td>\n",
       "      <td>2.000000</td>\n",
       "      <td>8.400000</td>\n",
       "      <td>2.000000</td>\n",
       "    </tr>\n",
       "    <tr>\n",
       "      <td>50%</td>\n",
       "      <td>1984.000000</td>\n",
       "      <td>7.000000</td>\n",
       "      <td>16.000000</td>\n",
       "      <td>5.000000</td>\n",
       "      <td>7.300000</td>\n",
       "      <td>3.000000</td>\n",
       "      <td>10.600000</td>\n",
       "      <td>3.000000</td>\n",
       "    </tr>\n",
       "    <tr>\n",
       "      <td>75%</td>\n",
       "      <td>2000.000000</td>\n",
       "      <td>10.000000</td>\n",
       "      <td>23.000000</td>\n",
       "      <td>7.000000</td>\n",
       "      <td>9.300000</td>\n",
       "      <td>8.000000</td>\n",
       "      <td>12.800000</td>\n",
       "      <td>9.000000</td>\n",
       "    </tr>\n",
       "    <tr>\n",
       "      <td>max</td>\n",
       "      <td>2015.000000</td>\n",
       "      <td>12.000000</td>\n",
       "      <td>31.000000</td>\n",
       "      <td>24.500000</td>\n",
       "      <td>29.000000</td>\n",
       "      <td>16.000000</td>\n",
       "      <td>36.300000</td>\n",
       "      <td>16.000000</td>\n",
       "    </tr>\n",
       "  </tbody>\n",
       "</table>\n",
       "</div>"
      ],
      "text/plain": [
       "               year         month           day          Uday         Umean  \\\n",
       "count  22979.000000  22979.000000  22979.000000  22975.000000  16300.000000   \n",
       "mean    1983.958179      6.515688     15.728839      5.493536      7.815816   \n",
       "std       18.160617      3.445187      8.799899      2.907025      2.731974   \n",
       "min     1953.000000      1.000000      1.000000      0.000000      1.800000   \n",
       "25%     1968.000000      4.000000      8.000000      3.300000      5.900000   \n",
       "50%     1984.000000      7.000000     16.000000      5.000000      7.300000   \n",
       "75%     2000.000000     10.000000     23.000000      7.000000      9.300000   \n",
       "max     2015.000000     12.000000     31.000000     24.500000     29.000000   \n",
       "\n",
       "           Umeandir         Umax      Umaxdir  \n",
       "count  16292.000000  4716.000000  4714.000000  \n",
       "mean       4.752087    10.692706     5.016971  \n",
       "std        3.736352     3.233473     4.108197  \n",
       "min        1.000000     3.400000     1.000000  \n",
       "25%        2.000000     8.400000     2.000000  \n",
       "50%        3.000000    10.600000     3.000000  \n",
       "75%        8.000000    12.800000     9.000000  \n",
       "max       16.000000    36.300000    16.000000  "
      ]
     },
     "execution_count": 54,
     "metadata": {},
     "output_type": "execute_result"
    }
   ],
   "source": [
    "windspeed.describe()"
   ]
  },
  {
   "cell_type": "markdown",
   "metadata": {},
   "source": [
    "### 8.3.3 缺失数据处理"
   ]
  },
  {
   "cell_type": "markdown",
   "metadata": {},
   "source": [
    "#### 方法一：删除含有 NaN 的缺失行"
   ]
  },
  {
   "cell_type": "code",
   "execution_count": 55,
   "metadata": {},
   "outputs": [],
   "source": [
    "windspeed1 = windspeed.dropna(how='any')"
   ]
  },
  {
   "cell_type": "code",
   "execution_count": 56,
   "metadata": {},
   "outputs": [
    {
     "data": {
      "text/html": [
       "<div>\n",
       "<style scoped>\n",
       "    .dataframe tbody tr th:only-of-type {\n",
       "        vertical-align: middle;\n",
       "    }\n",
       "\n",
       "    .dataframe tbody tr th {\n",
       "        vertical-align: top;\n",
       "    }\n",
       "\n",
       "    .dataframe thead th {\n",
       "        text-align: right;\n",
       "    }\n",
       "</style>\n",
       "<table border=\"1\" class=\"dataframe\">\n",
       "  <thead>\n",
       "    <tr style=\"text-align: right;\">\n",
       "      <th></th>\n",
       "      <th>year</th>\n",
       "      <th>month</th>\n",
       "      <th>day</th>\n",
       "      <th>Uday</th>\n",
       "      <th>Umean</th>\n",
       "      <th>Umeandir</th>\n",
       "      <th>Umax</th>\n",
       "      <th>Umaxdir</th>\n",
       "    </tr>\n",
       "  </thead>\n",
       "  <tbody>\n",
       "    <tr>\n",
       "      <td>18262</td>\n",
       "      <td>2003</td>\n",
       "      <td>1</td>\n",
       "      <td>1</td>\n",
       "      <td>5.5</td>\n",
       "      <td>7.0</td>\n",
       "      <td>4.0</td>\n",
       "      <td>15.9</td>\n",
       "      <td>4.0</td>\n",
       "    </tr>\n",
       "    <tr>\n",
       "      <td>18263</td>\n",
       "      <td>2003</td>\n",
       "      <td>1</td>\n",
       "      <td>2</td>\n",
       "      <td>4.8</td>\n",
       "      <td>7.2</td>\n",
       "      <td>3.0</td>\n",
       "      <td>13.8</td>\n",
       "      <td>4.0</td>\n",
       "    </tr>\n",
       "    <tr>\n",
       "      <td>18264</td>\n",
       "      <td>2003</td>\n",
       "      <td>1</td>\n",
       "      <td>3</td>\n",
       "      <td>2.5</td>\n",
       "      <td>6.0</td>\n",
       "      <td>3.0</td>\n",
       "      <td>11.4</td>\n",
       "      <td>4.0</td>\n",
       "    </tr>\n",
       "    <tr>\n",
       "      <td>18265</td>\n",
       "      <td>2003</td>\n",
       "      <td>1</td>\n",
       "      <td>4</td>\n",
       "      <td>4.5</td>\n",
       "      <td>6.6</td>\n",
       "      <td>3.0</td>\n",
       "      <td>15.1</td>\n",
       "      <td>4.0</td>\n",
       "    </tr>\n",
       "    <tr>\n",
       "      <td>18266</td>\n",
       "      <td>2003</td>\n",
       "      <td>1</td>\n",
       "      <td>5</td>\n",
       "      <td>5.3</td>\n",
       "      <td>6.7</td>\n",
       "      <td>4.0</td>\n",
       "      <td>14.4</td>\n",
       "      <td>3.0</td>\n",
       "    </tr>\n",
       "    <tr>\n",
       "      <td>...</td>\n",
       "      <td>...</td>\n",
       "      <td>...</td>\n",
       "      <td>...</td>\n",
       "      <td>...</td>\n",
       "      <td>...</td>\n",
       "      <td>...</td>\n",
       "      <td>...</td>\n",
       "      <td>...</td>\n",
       "    </tr>\n",
       "    <tr>\n",
       "      <td>22974</td>\n",
       "      <td>2015</td>\n",
       "      <td>11</td>\n",
       "      <td>26</td>\n",
       "      <td>3.6</td>\n",
       "      <td>5.3</td>\n",
       "      <td>2.0</td>\n",
       "      <td>10.4</td>\n",
       "      <td>1.0</td>\n",
       "    </tr>\n",
       "    <tr>\n",
       "      <td>22975</td>\n",
       "      <td>2015</td>\n",
       "      <td>11</td>\n",
       "      <td>27</td>\n",
       "      <td>4.7</td>\n",
       "      <td>6.3</td>\n",
       "      <td>1.0</td>\n",
       "      <td>12.6</td>\n",
       "      <td>3.0</td>\n",
       "    </tr>\n",
       "    <tr>\n",
       "      <td>22976</td>\n",
       "      <td>2015</td>\n",
       "      <td>11</td>\n",
       "      <td>28</td>\n",
       "      <td>5.3</td>\n",
       "      <td>6.5</td>\n",
       "      <td>1.0</td>\n",
       "      <td>12.1</td>\n",
       "      <td>1.0</td>\n",
       "    </tr>\n",
       "    <tr>\n",
       "      <td>22977</td>\n",
       "      <td>2015</td>\n",
       "      <td>11</td>\n",
       "      <td>29</td>\n",
       "      <td>2.4</td>\n",
       "      <td>5.2</td>\n",
       "      <td>1.0</td>\n",
       "      <td>9.9</td>\n",
       "      <td>1.0</td>\n",
       "    </tr>\n",
       "    <tr>\n",
       "      <td>22978</td>\n",
       "      <td>2015</td>\n",
       "      <td>11</td>\n",
       "      <td>30</td>\n",
       "      <td>4.0</td>\n",
       "      <td>5.4</td>\n",
       "      <td>2.0</td>\n",
       "      <td>10.5</td>\n",
       "      <td>16.0</td>\n",
       "    </tr>\n",
       "  </tbody>\n",
       "</table>\n",
       "<p>4713 rows × 8 columns</p>\n",
       "</div>"
      ],
      "text/plain": [
       "       year  month  day  Uday  Umean  Umeandir  Umax  Umaxdir\n",
       "18262  2003      1    1   5.5    7.0       4.0  15.9      4.0\n",
       "18263  2003      1    2   4.8    7.2       3.0  13.8      4.0\n",
       "18264  2003      1    3   2.5    6.0       3.0  11.4      4.0\n",
       "18265  2003      1    4   4.5    6.6       3.0  15.1      4.0\n",
       "18266  2003      1    5   5.3    6.7       4.0  14.4      3.0\n",
       "...     ...    ...  ...   ...    ...       ...   ...      ...\n",
       "22974  2015     11   26   3.6    5.3       2.0  10.4      1.0\n",
       "22975  2015     11   27   4.7    6.3       1.0  12.6      3.0\n",
       "22976  2015     11   28   5.3    6.5       1.0  12.1      1.0\n",
       "22977  2015     11   29   2.4    5.2       1.0   9.9      1.0\n",
       "22978  2015     11   30   4.0    5.4       2.0  10.5     16.0\n",
       "\n",
       "[4713 rows x 8 columns]"
      ]
     },
     "execution_count": 56,
     "metadata": {},
     "output_type": "execute_result"
    }
   ],
   "source": [
    "windspeed1"
   ]
  },
  {
   "cell_type": "code",
   "execution_count": 57,
   "metadata": {},
   "outputs": [
    {
     "data": {
      "text/html": [
       "<div>\n",
       "<style scoped>\n",
       "    .dataframe tbody tr th:only-of-type {\n",
       "        vertical-align: middle;\n",
       "    }\n",
       "\n",
       "    .dataframe tbody tr th {\n",
       "        vertical-align: top;\n",
       "    }\n",
       "\n",
       "    .dataframe thead th {\n",
       "        text-align: right;\n",
       "    }\n",
       "</style>\n",
       "<table border=\"1\" class=\"dataframe\">\n",
       "  <thead>\n",
       "    <tr style=\"text-align: right;\">\n",
       "      <th></th>\n",
       "      <th>year</th>\n",
       "      <th>month</th>\n",
       "      <th>day</th>\n",
       "      <th>Uday</th>\n",
       "      <th>Umean</th>\n",
       "      <th>Umeandir</th>\n",
       "      <th>Umax</th>\n",
       "      <th>Umaxdir</th>\n",
       "    </tr>\n",
       "  </thead>\n",
       "  <tbody>\n",
       "    <tr>\n",
       "      <td>count</td>\n",
       "      <td>4713.000000</td>\n",
       "      <td>4713.000000</td>\n",
       "      <td>4713.000000</td>\n",
       "      <td>4713.000000</td>\n",
       "      <td>4713.000000</td>\n",
       "      <td>4713.000000</td>\n",
       "      <td>4713.000000</td>\n",
       "      <td>4713.000000</td>\n",
       "    </tr>\n",
       "    <tr>\n",
       "      <td>mean</td>\n",
       "      <td>2008.958625</td>\n",
       "      <td>6.487588</td>\n",
       "      <td>15.726713</td>\n",
       "      <td>3.699809</td>\n",
       "      <td>6.120178</td>\n",
       "      <td>4.892213</td>\n",
       "      <td>10.692213</td>\n",
       "      <td>5.017823</td>\n",
       "    </tr>\n",
       "    <tr>\n",
       "      <td>std</td>\n",
       "      <td>3.721266</td>\n",
       "      <td>3.430969</td>\n",
       "      <td>8.803409</td>\n",
       "      <td>1.401875</td>\n",
       "      <td>1.584701</td>\n",
       "      <td>3.848336</td>\n",
       "      <td>3.233745</td>\n",
       "      <td>4.108216</td>\n",
       "    </tr>\n",
       "    <tr>\n",
       "      <td>min</td>\n",
       "      <td>2003.000000</td>\n",
       "      <td>1.000000</td>\n",
       "      <td>1.000000</td>\n",
       "      <td>0.000000</td>\n",
       "      <td>1.800000</td>\n",
       "      <td>1.000000</td>\n",
       "      <td>3.400000</td>\n",
       "      <td>1.000000</td>\n",
       "    </tr>\n",
       "    <tr>\n",
       "      <td>25%</td>\n",
       "      <td>2006.000000</td>\n",
       "      <td>4.000000</td>\n",
       "      <td>8.000000</td>\n",
       "      <td>2.600000</td>\n",
       "      <td>5.000000</td>\n",
       "      <td>2.000000</td>\n",
       "      <td>8.400000</td>\n",
       "      <td>2.000000</td>\n",
       "    </tr>\n",
       "    <tr>\n",
       "      <td>50%</td>\n",
       "      <td>2009.000000</td>\n",
       "      <td>7.000000</td>\n",
       "      <td>16.000000</td>\n",
       "      <td>3.600000</td>\n",
       "      <td>6.100000</td>\n",
       "      <td>3.000000</td>\n",
       "      <td>10.600000</td>\n",
       "      <td>3.000000</td>\n",
       "    </tr>\n",
       "    <tr>\n",
       "      <td>75%</td>\n",
       "      <td>2012.000000</td>\n",
       "      <td>9.000000</td>\n",
       "      <td>23.000000</td>\n",
       "      <td>4.600000</td>\n",
       "      <td>7.100000</td>\n",
       "      <td>8.000000</td>\n",
       "      <td>12.800000</td>\n",
       "      <td>9.000000</td>\n",
       "    </tr>\n",
       "    <tr>\n",
       "      <td>max</td>\n",
       "      <td>2015.000000</td>\n",
       "      <td>12.000000</td>\n",
       "      <td>31.000000</td>\n",
       "      <td>12.600000</td>\n",
       "      <td>17.200000</td>\n",
       "      <td>16.000000</td>\n",
       "      <td>36.300000</td>\n",
       "      <td>16.000000</td>\n",
       "    </tr>\n",
       "  </tbody>\n",
       "</table>\n",
       "</div>"
      ],
      "text/plain": [
       "              year        month          day         Uday        Umean  \\\n",
       "count  4713.000000  4713.000000  4713.000000  4713.000000  4713.000000   \n",
       "mean   2008.958625     6.487588    15.726713     3.699809     6.120178   \n",
       "std       3.721266     3.430969     8.803409     1.401875     1.584701   \n",
       "min    2003.000000     1.000000     1.000000     0.000000     1.800000   \n",
       "25%    2006.000000     4.000000     8.000000     2.600000     5.000000   \n",
       "50%    2009.000000     7.000000    16.000000     3.600000     6.100000   \n",
       "75%    2012.000000     9.000000    23.000000     4.600000     7.100000   \n",
       "max    2015.000000    12.000000    31.000000    12.600000    17.200000   \n",
       "\n",
       "          Umeandir         Umax      Umaxdir  \n",
       "count  4713.000000  4713.000000  4713.000000  \n",
       "mean      4.892213    10.692213     5.017823  \n",
       "std       3.848336     3.233745     4.108216  \n",
       "min       1.000000     3.400000     1.000000  \n",
       "25%       2.000000     8.400000     2.000000  \n",
       "50%       3.000000    10.600000     3.000000  \n",
       "75%       8.000000    12.800000     9.000000  \n",
       "max      16.000000    36.300000    16.000000  "
      ]
     },
     "execution_count": 57,
     "metadata": {},
     "output_type": "execute_result"
    }
   ],
   "source": [
    "windspeed1.describe()"
   ]
  },
  {
   "cell_type": "code",
   "execution_count": 58,
   "metadata": {},
   "outputs": [
    {
     "data": {
      "text/html": [
       "<div>\n",
       "<style scoped>\n",
       "    .dataframe tbody tr th:only-of-type {\n",
       "        vertical-align: middle;\n",
       "    }\n",
       "\n",
       "    .dataframe tbody tr th {\n",
       "        vertical-align: top;\n",
       "    }\n",
       "\n",
       "    .dataframe thead th {\n",
       "        text-align: right;\n",
       "    }\n",
       "</style>\n",
       "<table border=\"1\" class=\"dataframe\">\n",
       "  <thead>\n",
       "    <tr style=\"text-align: right;\">\n",
       "      <th></th>\n",
       "      <th>year</th>\n",
       "      <th>month</th>\n",
       "      <th>day</th>\n",
       "      <th>Uday</th>\n",
       "      <th>Umean</th>\n",
       "      <th>Umeandir</th>\n",
       "      <th>Umax</th>\n",
       "      <th>Umaxdir</th>\n",
       "    </tr>\n",
       "  </thead>\n",
       "  <tbody>\n",
       "  </tbody>\n",
       "</table>\n",
       "</div>"
      ],
      "text/plain": [
       "Empty DataFrame\n",
       "Columns: [year, month, day, Uday, Umean, Umeandir, Umax, Umaxdir]\n",
       "Index: []"
      ]
     },
     "execution_count": 58,
     "metadata": {},
     "output_type": "execute_result"
    }
   ],
   "source": [
    "windspeed1[windspeed1['year'] == 2002]"
   ]
  },
  {
   "cell_type": "markdown",
   "metadata": {},
   "source": [
    "- 可以看到\n",
    "    - `year` 列的最小值为 `2003`，从`1953`年到`2002`年的数据均被删除，说明绝大多数的行都具有缺失值"
   ]
  },
  {
   "cell_type": "code",
   "execution_count": 59,
   "metadata": {
    "scrolled": true
   },
   "outputs": [
    {
     "data": {
      "text/plain": [
       "array([[<matplotlib.axes._subplots.AxesSubplot object at 0x0000017C7EB81B08>]],\n",
       "      dtype=object)"
      ]
     },
     "execution_count": 59,
     "metadata": {},
     "output_type": "execute_result"
    },
    {
     "data": {
      "image/png": "[encoded data removed]",
      "text/plain": [
       "<Figure size 432x288 with 1 Axes>"
      ]
     },
     "metadata": {
      "needs_background": "light"
     },
     "output_type": "display_data"
    }
   ],
   "source": [
    "windspeed1[['Uday']].hist()"
   ]
  },
  {
   "cell_type": "code",
   "execution_count": 60,
   "metadata": {},
   "outputs": [
    {
     "data": {
      "text/html": [
       "<div>\n",
       "<style scoped>\n",
       "    .dataframe tbody tr th:only-of-type {\n",
       "        vertical-align: middle;\n",
       "    }\n",
       "\n",
       "    .dataframe tbody tr th {\n",
       "        vertical-align: top;\n",
       "    }\n",
       "\n",
       "    .dataframe thead th {\n",
       "        text-align: right;\n",
       "    }\n",
       "</style>\n",
       "<table border=\"1\" class=\"dataframe\">\n",
       "  <thead>\n",
       "    <tr style=\"text-align: right;\">\n",
       "      <th></th>\n",
       "      <th>Uday</th>\n",
       "      <th>Umean</th>\n",
       "    </tr>\n",
       "  </thead>\n",
       "  <tbody>\n",
       "    <tr>\n",
       "      <td>18262</td>\n",
       "      <td>5.5</td>\n",
       "      <td>7.0</td>\n",
       "    </tr>\n",
       "    <tr>\n",
       "      <td>18263</td>\n",
       "      <td>4.8</td>\n",
       "      <td>7.2</td>\n",
       "    </tr>\n",
       "    <tr>\n",
       "      <td>18264</td>\n",
       "      <td>2.5</td>\n",
       "      <td>6.0</td>\n",
       "    </tr>\n",
       "    <tr>\n",
       "      <td>18265</td>\n",
       "      <td>4.5</td>\n",
       "      <td>6.6</td>\n",
       "    </tr>\n",
       "    <tr>\n",
       "      <td>18266</td>\n",
       "      <td>5.3</td>\n",
       "      <td>6.7</td>\n",
       "    </tr>\n",
       "    <tr>\n",
       "      <td>...</td>\n",
       "      <td>...</td>\n",
       "      <td>...</td>\n",
       "    </tr>\n",
       "    <tr>\n",
       "      <td>22974</td>\n",
       "      <td>3.6</td>\n",
       "      <td>5.3</td>\n",
       "    </tr>\n",
       "    <tr>\n",
       "      <td>22975</td>\n",
       "      <td>4.7</td>\n",
       "      <td>6.3</td>\n",
       "    </tr>\n",
       "    <tr>\n",
       "      <td>22976</td>\n",
       "      <td>5.3</td>\n",
       "      <td>6.5</td>\n",
       "    </tr>\n",
       "    <tr>\n",
       "      <td>22977</td>\n",
       "      <td>2.4</td>\n",
       "      <td>5.2</td>\n",
       "    </tr>\n",
       "    <tr>\n",
       "      <td>22978</td>\n",
       "      <td>4.0</td>\n",
       "      <td>5.4</td>\n",
       "    </tr>\n",
       "  </tbody>\n",
       "</table>\n",
       "<p>4713 rows × 2 columns</p>\n",
       "</div>"
      ],
      "text/plain": [
       "       Uday  Umean\n",
       "18262   5.5    7.0\n",
       "18263   4.8    7.2\n",
       "18264   2.5    6.0\n",
       "18265   4.5    6.6\n",
       "18266   5.3    6.7\n",
       "...     ...    ...\n",
       "22974   3.6    5.3\n",
       "22975   4.7    6.3\n",
       "22976   5.3    6.5\n",
       "22977   2.4    5.2\n",
       "22978   4.0    5.4\n",
       "\n",
       "[4713 rows x 2 columns]"
      ]
     },
     "execution_count": 60,
     "metadata": {},
     "output_type": "execute_result"
    }
   ],
   "source": [
    "windspeed1[['Uday','Umean']]"
   ]
  },
  {
   "cell_type": "markdown",
   "metadata": {},
   "source": [
    "### 8.3.4 数据关系规律"
   ]
  },
  {
   "cell_type": "markdown",
   "metadata": {},
   "source": [
    "- 可以看到 **`Uday`** 列没有缺失，考虑使用 **`Uday`** 列和缺失列的关系，进行缺失值的填补"
   ]
  },
  {
   "cell_type": "code",
   "execution_count": 54,
   "metadata": {},
   "outputs": [
    {
     "data": {
      "image/png": "[encoded data removed]",
      "text/plain": [
       "<Figure size 432x288 with 1 Axes>"
      ]
     },
     "metadata": {
      "needs_background": "light"
     },
     "output_type": "display_data"
    }
   ],
   "source": [
    "import matplotlib.pyplot as plt\n",
    "\n",
    "plt.plot(windspeed1[['Uday','Umean']])#,windspeed1['Umean']);\n",
    "#,windspeed1['Umean'], linewidth=5)  \n",
    "plt.title(\"wind speed\", fontsize=18)  # 指定标题，并设置标题字体大小\n",
    "plt.xlabel(\"number\", fontsize=14)  # 指定X坐标轴的标签，并设置标签字体大小\n",
    "plt.ylabel(\"wind speed(m/s)\", fontsize=14)  # 指定Y坐标轴的标签，并设置标签字体大小\n",
    "plt.tick_params(axis='both', labelsize=14)  # 参数axis值为both，代表要设置横纵的刻度标记，标记大小为14\n",
    "plt.show()"
   ]
  },
  {
   "cell_type": "markdown",
   "metadata": {},
   "source": [
    "- `Uday` 和 `Umean` 的关系"
   ]
  },
  {
   "cell_type": "code",
   "execution_count": 55,
   "metadata": {},
   "outputs": [
    {
     "data": {
      "text/plain": [
       "[<matplotlib.lines.Line2D at 0x279e72aa448>]"
      ]
     },
     "execution_count": 55,
     "metadata": {},
     "output_type": "execute_result"
    },
    {
     "data": {
      "image/png": "[encoded data removed]",
      "text/plain": [
       "<Figure size 432x288 with 1 Axes>"
      ]
     },
     "metadata": {
      "needs_background": "light"
     },
     "output_type": "display_data"
    }
   ],
   "source": [
    "plt.plot(windspeed1['Uday'], windspeed1['Umean'], '.') # 风速相关性"
   ]
  },
  {
   "cell_type": "markdown",
   "metadata": {},
   "source": [
    "- `Uday` 和 `Umax` 的关系"
   ]
  },
  {
   "cell_type": "code",
   "execution_count": 56,
   "metadata": {
    "scrolled": false
   },
   "outputs": [
    {
     "data": {
      "text/plain": [
       "[<matplotlib.lines.Line2D at 0x279e723b4c8>]"
      ]
     },
     "execution_count": 56,
     "metadata": {},
     "output_type": "execute_result"
    },
    {
     "data": {
      "image/png": "[encoded data removed]",
      "text/plain": [
       "<Figure size 432x288 with 1 Axes>"
      ]
     },
     "metadata": {
      "needs_background": "light"
     },
     "output_type": "display_data"
    }
   ],
   "source": [
    "plt.plot(windspeed1['Uday'],windspeed1['Umax'],'.') # 风速相关性"
   ]
  },
  {
   "cell_type": "markdown",
   "metadata": {},
   "source": [
    "- `Umean` 和 `Umax` 的关系"
   ]
  },
  {
   "cell_type": "code",
   "execution_count": 57,
   "metadata": {
    "scrolled": true
   },
   "outputs": [
    {
     "data": {
      "text/plain": [
       "[<matplotlib.lines.Line2D at 0x279e737ac48>]"
      ]
     },
     "execution_count": 57,
     "metadata": {},
     "output_type": "execute_result"
    },
    {
     "data": {
      "image/png": "[encoded data removed]",
      "text/plain": [
       "<Figure size 432x288 with 1 Axes>"
      ]
     },
     "metadata": {
      "needs_background": "light"
     },
     "output_type": "display_data"
    }
   ],
   "source": [
    "plt.plot(windspeed1['Umean'],windspeed1['Umax'],'*') # 风速相关性"
   ]
  },
  {
   "cell_type": "markdown",
   "metadata": {},
   "source": [
    "### 8.3.5 缺失数据处理"
   ]
  },
  {
   "cell_type": "markdown",
   "metadata": {},
   "source": [
    "#### 方法一：根据数据列的关系规律，进行缺失数据插补"
   ]
  },
  {
   "cell_type": "code",
   "execution_count": 61,
   "metadata": {
    "scrolled": true
   },
   "outputs": [
    {
     "data": {
      "text/plain": [
       "1.7394011397985654"
      ]
     },
     "execution_count": 61,
     "metadata": {},
     "output_type": "execute_result"
    }
   ],
   "source": [
    "# 如果某个数据缺失，可不可以根据这个规律进行插值；\n",
    "windspeed1 = windspeed\n",
    "kmax2mean = (windspeed1['Umax']/windspeed1['Umean']).mean()\n",
    "kmax2mean"
   ]
  },
  {
   "cell_type": "code",
   "execution_count": 62,
   "metadata": {},
   "outputs": [
    {
     "data": {
      "text/plain": [
       "inf"
      ]
     },
     "execution_count": 62,
     "metadata": {},
     "output_type": "execute_result"
    }
   ],
   "source": [
    "kmax2day = (windspeed1['Umax']/windspeed1['Uday']).mean()\n",
    "kmax2day"
   ]
  },
  {
   "cell_type": "code",
   "execution_count": 63,
   "metadata": {},
   "outputs": [
    {
     "data": {
      "text/html": [
       "<div>\n",
       "<style scoped>\n",
       "    .dataframe tbody tr th:only-of-type {\n",
       "        vertical-align: middle;\n",
       "    }\n",
       "\n",
       "    .dataframe tbody tr th {\n",
       "        vertical-align: top;\n",
       "    }\n",
       "\n",
       "    .dataframe thead th {\n",
       "        text-align: right;\n",
       "    }\n",
       "</style>\n",
       "<table border=\"1\" class=\"dataframe\">\n",
       "  <thead>\n",
       "    <tr style=\"text-align: right;\">\n",
       "      <th></th>\n",
       "      <th>year</th>\n",
       "      <th>month</th>\n",
       "      <th>day</th>\n",
       "      <th>Uday</th>\n",
       "      <th>Umean</th>\n",
       "      <th>Umeandir</th>\n",
       "      <th>Umax</th>\n",
       "      <th>Umaxdir</th>\n",
       "    </tr>\n",
       "  </thead>\n",
       "  <tbody>\n",
       "    <tr>\n",
       "      <td>0</td>\n",
       "      <td>1953</td>\n",
       "      <td>1</td>\n",
       "      <td>1</td>\n",
       "      <td>16.3</td>\n",
       "      <td>NaN</td>\n",
       "      <td>NaN</td>\n",
       "      <td>NaN</td>\n",
       "      <td>NaN</td>\n",
       "    </tr>\n",
       "    <tr>\n",
       "      <td>1</td>\n",
       "      <td>1953</td>\n",
       "      <td>1</td>\n",
       "      <td>2</td>\n",
       "      <td>13.7</td>\n",
       "      <td>NaN</td>\n",
       "      <td>NaN</td>\n",
       "      <td>NaN</td>\n",
       "      <td>NaN</td>\n",
       "    </tr>\n",
       "    <tr>\n",
       "      <td>2</td>\n",
       "      <td>1953</td>\n",
       "      <td>1</td>\n",
       "      <td>3</td>\n",
       "      <td>15.0</td>\n",
       "      <td>NaN</td>\n",
       "      <td>NaN</td>\n",
       "      <td>NaN</td>\n",
       "      <td>NaN</td>\n",
       "    </tr>\n",
       "    <tr>\n",
       "      <td>3</td>\n",
       "      <td>1953</td>\n",
       "      <td>1</td>\n",
       "      <td>4</td>\n",
       "      <td>10.3</td>\n",
       "      <td>NaN</td>\n",
       "      <td>NaN</td>\n",
       "      <td>NaN</td>\n",
       "      <td>NaN</td>\n",
       "    </tr>\n",
       "    <tr>\n",
       "      <td>4</td>\n",
       "      <td>1953</td>\n",
       "      <td>1</td>\n",
       "      <td>5</td>\n",
       "      <td>8.0</td>\n",
       "      <td>NaN</td>\n",
       "      <td>NaN</td>\n",
       "      <td>NaN</td>\n",
       "      <td>NaN</td>\n",
       "    </tr>\n",
       "    <tr>\n",
       "      <td>...</td>\n",
       "      <td>...</td>\n",
       "      <td>...</td>\n",
       "      <td>...</td>\n",
       "      <td>...</td>\n",
       "      <td>...</td>\n",
       "      <td>...</td>\n",
       "      <td>...</td>\n",
       "      <td>...</td>\n",
       "    </tr>\n",
       "    <tr>\n",
       "      <td>22974</td>\n",
       "      <td>2015</td>\n",
       "      <td>11</td>\n",
       "      <td>26</td>\n",
       "      <td>3.6</td>\n",
       "      <td>5.3</td>\n",
       "      <td>2.0</td>\n",
       "      <td>10.4</td>\n",
       "      <td>1.0</td>\n",
       "    </tr>\n",
       "    <tr>\n",
       "      <td>22975</td>\n",
       "      <td>2015</td>\n",
       "      <td>11</td>\n",
       "      <td>27</td>\n",
       "      <td>4.7</td>\n",
       "      <td>6.3</td>\n",
       "      <td>1.0</td>\n",
       "      <td>12.6</td>\n",
       "      <td>3.0</td>\n",
       "    </tr>\n",
       "    <tr>\n",
       "      <td>22976</td>\n",
       "      <td>2015</td>\n",
       "      <td>11</td>\n",
       "      <td>28</td>\n",
       "      <td>5.3</td>\n",
       "      <td>6.5</td>\n",
       "      <td>1.0</td>\n",
       "      <td>12.1</td>\n",
       "      <td>1.0</td>\n",
       "    </tr>\n",
       "    <tr>\n",
       "      <td>22977</td>\n",
       "      <td>2015</td>\n",
       "      <td>11</td>\n",
       "      <td>29</td>\n",
       "      <td>2.4</td>\n",
       "      <td>5.2</td>\n",
       "      <td>1.0</td>\n",
       "      <td>9.9</td>\n",
       "      <td>1.0</td>\n",
       "    </tr>\n",
       "    <tr>\n",
       "      <td>22978</td>\n",
       "      <td>2015</td>\n",
       "      <td>11</td>\n",
       "      <td>30</td>\n",
       "      <td>4.0</td>\n",
       "      <td>5.4</td>\n",
       "      <td>2.0</td>\n",
       "      <td>10.5</td>\n",
       "      <td>16.0</td>\n",
       "    </tr>\n",
       "  </tbody>\n",
       "</table>\n",
       "<p>22979 rows × 8 columns</p>\n",
       "</div>"
      ],
      "text/plain": [
       "       year  month  day  Uday  Umean  Umeandir  Umax  Umaxdir\n",
       "0      1953      1    1  16.3    NaN       NaN   NaN      NaN\n",
       "1      1953      1    2  13.7    NaN       NaN   NaN      NaN\n",
       "2      1953      1    3  15.0    NaN       NaN   NaN      NaN\n",
       "3      1953      1    4  10.3    NaN       NaN   NaN      NaN\n",
       "4      1953      1    5   8.0    NaN       NaN   NaN      NaN\n",
       "...     ...    ...  ...   ...    ...       ...   ...      ...\n",
       "22974  2015     11   26   3.6    5.3       2.0  10.4      1.0\n",
       "22975  2015     11   27   4.7    6.3       1.0  12.6      3.0\n",
       "22976  2015     11   28   5.3    6.5       1.0  12.1      1.0\n",
       "22977  2015     11   29   2.4    5.2       1.0   9.9      1.0\n",
       "22978  2015     11   30   4.0    5.4       2.0  10.5     16.0\n",
       "\n",
       "[22979 rows x 8 columns]"
      ]
     },
     "execution_count": 63,
     "metadata": {},
     "output_type": "execute_result"
    }
   ],
   "source": [
    "windspeed1"
   ]
  },
  {
   "cell_type": "markdown",
   "metadata": {},
   "source": [
    "- 注意到出现了无穷大的现象\n",
    "    - 可能有除零错误"
   ]
  },
  {
   "cell_type": "markdown",
   "metadata": {},
   "source": [
    "- `Umax` 和 `Uday`"
   ]
  },
  {
   "cell_type": "code",
   "execution_count": 64,
   "metadata": {},
   "outputs": [
    {
     "data": {
      "text/plain": [
       "count    4715.000000\n",
       "mean             inf\n",
       "std              NaN\n",
       "min         1.625000\n",
       "25%         2.534884\n",
       "50%         2.904762\n",
       "75%         3.416667\n",
       "max              inf\n",
       "dtype: float64"
      ]
     },
     "execution_count": 64,
     "metadata": {},
     "output_type": "execute_result"
    }
   ],
   "source": [
    "kmax2day = windspeed1['Umax']/windspeed1['Uday']\n",
    "kmax2day.describe()"
   ]
  },
  {
   "cell_type": "code",
   "execution_count": 65,
   "metadata": {},
   "outputs": [
    {
     "data": {
      "text/plain": [
       "count    4714.000000\n",
       "mean        3.073604\n",
       "std         0.852619\n",
       "min         1.625000\n",
       "25%         2.534884\n",
       "50%         2.904762\n",
       "75%         3.416667\n",
       "max        14.600000\n",
       "dtype: float64"
      ]
     },
     "execution_count": 65,
     "metadata": {},
     "output_type": "execute_result"
    }
   ],
   "source": [
    "# 无穷大替换成“数据缺失”\n",
    "kmax2day.replace(-np.inf, np.nan, inplace=True) \n",
    "kmax2day.replace(np.inf, np.nan, inplace=True) \n",
    "kmax2day.dropna()\n",
    "kmax2day.describe()"
   ]
  },
  {
   "cell_type": "code",
   "execution_count": 66,
   "metadata": {},
   "outputs": [
    {
     "data": {
      "text/plain": [
       "3.073604492899418"
      ]
     },
     "execution_count": 66,
     "metadata": {},
     "output_type": "execute_result"
    }
   ],
   "source": [
    "kmax2day = kmax2day.mean()\n",
    "kmax2day"
   ]
  },
  {
   "cell_type": "markdown",
   "metadata": {},
   "source": [
    "- `Umean` 和 `Uday`"
   ]
  },
  {
   "cell_type": "code",
   "execution_count": 67,
   "metadata": {},
   "outputs": [
    {
     "data": {
      "text/plain": [
       "0             NaN\n",
       "1             NaN\n",
       "2             NaN\n",
       "3             NaN\n",
       "4             NaN\n",
       "           ...   \n",
       "22974    1.472222\n",
       "22975    1.340426\n",
       "22976    1.226415\n",
       "22977    2.166667\n",
       "22978    1.350000\n",
       "Length: 22979, dtype: float64"
      ]
     },
     "execution_count": 67,
     "metadata": {},
     "output_type": "execute_result"
    }
   ],
   "source": [
    "# 同样的\n",
    "kmean2day = windspeed1['Umean']/windspeed1['Uday']\n",
    "kmean2day"
   ]
  },
  {
   "cell_type": "code",
   "execution_count": 68,
   "metadata": {},
   "outputs": [
    {
     "data": {
      "text/plain": [
       "count    1.629800e+04\n",
       "mean              inf\n",
       "std               NaN\n",
       "min      1.000000e+00\n",
       "25%      1.445783e+00\n",
       "50%      1.636364e+00\n",
       "75%      1.945455e+00\n",
       "max               inf\n",
       "dtype: float64"
      ]
     },
     "execution_count": 68,
     "metadata": {},
     "output_type": "execute_result"
    }
   ],
   "source": [
    "kmean2day.describe()"
   ]
  },
  {
   "cell_type": "code",
   "execution_count": 69,
   "metadata": {},
   "outputs": [
    {
     "data": {
      "text/plain": [
       "count    16294.000000\n",
       "mean         1.785037\n",
       "std          0.597672\n",
       "min          1.000000\n",
       "25%          1.445783\n",
       "50%          1.634921\n",
       "75%          1.945455\n",
       "max         16.666667\n",
       "dtype: float64"
      ]
     },
     "execution_count": 69,
     "metadata": {},
     "output_type": "execute_result"
    }
   ],
   "source": [
    "kmean2day.replace(-np.inf,np.nan,inplace=True) \n",
    "kmean2day.replace(np.inf,np.nan,inplace=True) \n",
    "kmean2day.dropna()\n",
    "kmean2day.describe()"
   ]
  },
  {
   "cell_type": "code",
   "execution_count": 70,
   "metadata": {},
   "outputs": [
    {
     "data": {
      "text/plain": [
       "1.7850368220903596"
      ]
     },
     "execution_count": 70,
     "metadata": {},
     "output_type": "execute_result"
    }
   ],
   "source": [
    "kmean2day = kmean2day.mean()\n",
    "kmean2day"
   ]
  },
  {
   "cell_type": "code",
   "execution_count": 71,
   "metadata": {},
   "outputs": [
    {
     "data": {
      "text/html": [
       "<div>\n",
       "<style scoped>\n",
       "    .dataframe tbody tr th:only-of-type {\n",
       "        vertical-align: middle;\n",
       "    }\n",
       "\n",
       "    .dataframe tbody tr th {\n",
       "        vertical-align: top;\n",
       "    }\n",
       "\n",
       "    .dataframe thead th {\n",
       "        text-align: right;\n",
       "    }\n",
       "</style>\n",
       "<table border=\"1\" class=\"dataframe\">\n",
       "  <thead>\n",
       "    <tr style=\"text-align: right;\">\n",
       "      <th></th>\n",
       "      <th>year</th>\n",
       "      <th>month</th>\n",
       "      <th>day</th>\n",
       "      <th>Uday</th>\n",
       "      <th>Umean</th>\n",
       "      <th>Umeandir</th>\n",
       "      <th>Umax</th>\n",
       "      <th>Umaxdir</th>\n",
       "    </tr>\n",
       "  </thead>\n",
       "  <tbody>\n",
       "    <tr>\n",
       "      <td>count</td>\n",
       "      <td>22979.000000</td>\n",
       "      <td>22979.000000</td>\n",
       "      <td>22979.000000</td>\n",
       "      <td>22975.000000</td>\n",
       "      <td>16300.000000</td>\n",
       "      <td>16292.000000</td>\n",
       "      <td>4716.000000</td>\n",
       "      <td>4714.000000</td>\n",
       "    </tr>\n",
       "    <tr>\n",
       "      <td>mean</td>\n",
       "      <td>1983.958179</td>\n",
       "      <td>6.515688</td>\n",
       "      <td>15.728839</td>\n",
       "      <td>5.493536</td>\n",
       "      <td>7.815816</td>\n",
       "      <td>4.752087</td>\n",
       "      <td>10.692706</td>\n",
       "      <td>5.016971</td>\n",
       "    </tr>\n",
       "    <tr>\n",
       "      <td>std</td>\n",
       "      <td>18.160617</td>\n",
       "      <td>3.445187</td>\n",
       "      <td>8.799899</td>\n",
       "      <td>2.907025</td>\n",
       "      <td>2.731974</td>\n",
       "      <td>3.736352</td>\n",
       "      <td>3.233473</td>\n",
       "      <td>4.108197</td>\n",
       "    </tr>\n",
       "    <tr>\n",
       "      <td>min</td>\n",
       "      <td>1953.000000</td>\n",
       "      <td>1.000000</td>\n",
       "      <td>1.000000</td>\n",
       "      <td>0.000000</td>\n",
       "      <td>1.800000</td>\n",
       "      <td>1.000000</td>\n",
       "      <td>3.400000</td>\n",
       "      <td>1.000000</td>\n",
       "    </tr>\n",
       "    <tr>\n",
       "      <td>25%</td>\n",
       "      <td>1968.000000</td>\n",
       "      <td>4.000000</td>\n",
       "      <td>8.000000</td>\n",
       "      <td>3.300000</td>\n",
       "      <td>5.900000</td>\n",
       "      <td>2.000000</td>\n",
       "      <td>8.400000</td>\n",
       "      <td>2.000000</td>\n",
       "    </tr>\n",
       "    <tr>\n",
       "      <td>50%</td>\n",
       "      <td>1984.000000</td>\n",
       "      <td>7.000000</td>\n",
       "      <td>16.000000</td>\n",
       "      <td>5.000000</td>\n",
       "      <td>7.300000</td>\n",
       "      <td>3.000000</td>\n",
       "      <td>10.600000</td>\n",
       "      <td>3.000000</td>\n",
       "    </tr>\n",
       "    <tr>\n",
       "      <td>75%</td>\n",
       "      <td>2000.000000</td>\n",
       "      <td>10.000000</td>\n",
       "      <td>23.000000</td>\n",
       "      <td>7.000000</td>\n",
       "      <td>9.300000</td>\n",
       "      <td>8.000000</td>\n",
       "      <td>12.800000</td>\n",
       "      <td>9.000000</td>\n",
       "    </tr>\n",
       "    <tr>\n",
       "      <td>max</td>\n",
       "      <td>2015.000000</td>\n",
       "      <td>12.000000</td>\n",
       "      <td>31.000000</td>\n",
       "      <td>24.500000</td>\n",
       "      <td>29.000000</td>\n",
       "      <td>16.000000</td>\n",
       "      <td>36.300000</td>\n",
       "      <td>16.000000</td>\n",
       "    </tr>\n",
       "  </tbody>\n",
       "</table>\n",
       "</div>"
      ],
      "text/plain": [
       "               year         month           day          Uday         Umean  \\\n",
       "count  22979.000000  22979.000000  22979.000000  22975.000000  16300.000000   \n",
       "mean    1983.958179      6.515688     15.728839      5.493536      7.815816   \n",
       "std       18.160617      3.445187      8.799899      2.907025      2.731974   \n",
       "min     1953.000000      1.000000      1.000000      0.000000      1.800000   \n",
       "25%     1968.000000      4.000000      8.000000      3.300000      5.900000   \n",
       "50%     1984.000000      7.000000     16.000000      5.000000      7.300000   \n",
       "75%     2000.000000     10.000000     23.000000      7.000000      9.300000   \n",
       "max     2015.000000     12.000000     31.000000     24.500000     29.000000   \n",
       "\n",
       "           Umeandir         Umax      Umaxdir  \n",
       "count  16292.000000  4716.000000  4714.000000  \n",
       "mean       4.752087    10.692706     5.016971  \n",
       "std        3.736352     3.233473     4.108197  \n",
       "min        1.000000     3.400000     1.000000  \n",
       "25%        2.000000     8.400000     2.000000  \n",
       "50%        3.000000    10.600000     3.000000  \n",
       "75%        8.000000    12.800000     9.000000  \n",
       "max       16.000000    36.300000    16.000000  "
      ]
     },
     "execution_count": 71,
     "metadata": {},
     "output_type": "execute_result"
    }
   ],
   "source": [
    "## 最后进行缺失数据的插补\n",
    "windspeed1.describe()"
   ]
  },
  {
   "cell_type": "markdown",
   "metadata": {},
   "source": [
    "#### 缺失数据的插补"
   ]
  },
  {
   "cell_type": "markdown",
   "metadata": {},
   "source": [
    "#### 1.填补前"
   ]
  },
  {
   "cell_type": "code",
   "execution_count": 72,
   "metadata": {},
   "outputs": [
    {
     "data": {
      "text/html": [
       "<div>\n",
       "<style scoped>\n",
       "    .dataframe tbody tr th:only-of-type {\n",
       "        vertical-align: middle;\n",
       "    }\n",
       "\n",
       "    .dataframe tbody tr th {\n",
       "        vertical-align: top;\n",
       "    }\n",
       "\n",
       "    .dataframe thead th {\n",
       "        text-align: right;\n",
       "    }\n",
       "</style>\n",
       "<table border=\"1\" class=\"dataframe\">\n",
       "  <thead>\n",
       "    <tr style=\"text-align: right;\">\n",
       "      <th></th>\n",
       "      <th>year</th>\n",
       "      <th>month</th>\n",
       "      <th>day</th>\n",
       "      <th>Uday</th>\n",
       "      <th>Umean</th>\n",
       "      <th>Umeandir</th>\n",
       "      <th>Umax</th>\n",
       "      <th>Umaxdir</th>\n",
       "    </tr>\n",
       "  </thead>\n",
       "  <tbody>\n",
       "    <tr>\n",
       "      <td>0</td>\n",
       "      <td>1953</td>\n",
       "      <td>1</td>\n",
       "      <td>1</td>\n",
       "      <td>16.3</td>\n",
       "      <td>NaN</td>\n",
       "      <td>NaN</td>\n",
       "      <td>NaN</td>\n",
       "      <td>NaN</td>\n",
       "    </tr>\n",
       "    <tr>\n",
       "      <td>1</td>\n",
       "      <td>1953</td>\n",
       "      <td>1</td>\n",
       "      <td>2</td>\n",
       "      <td>13.7</td>\n",
       "      <td>NaN</td>\n",
       "      <td>NaN</td>\n",
       "      <td>NaN</td>\n",
       "      <td>NaN</td>\n",
       "    </tr>\n",
       "    <tr>\n",
       "      <td>2</td>\n",
       "      <td>1953</td>\n",
       "      <td>1</td>\n",
       "      <td>3</td>\n",
       "      <td>15.0</td>\n",
       "      <td>NaN</td>\n",
       "      <td>NaN</td>\n",
       "      <td>NaN</td>\n",
       "      <td>NaN</td>\n",
       "    </tr>\n",
       "    <tr>\n",
       "      <td>3</td>\n",
       "      <td>1953</td>\n",
       "      <td>1</td>\n",
       "      <td>4</td>\n",
       "      <td>10.3</td>\n",
       "      <td>NaN</td>\n",
       "      <td>NaN</td>\n",
       "      <td>NaN</td>\n",
       "      <td>NaN</td>\n",
       "    </tr>\n",
       "    <tr>\n",
       "      <td>4</td>\n",
       "      <td>1953</td>\n",
       "      <td>1</td>\n",
       "      <td>5</td>\n",
       "      <td>8.0</td>\n",
       "      <td>NaN</td>\n",
       "      <td>NaN</td>\n",
       "      <td>NaN</td>\n",
       "      <td>NaN</td>\n",
       "    </tr>\n",
       "    <tr>\n",
       "      <td>...</td>\n",
       "      <td>...</td>\n",
       "      <td>...</td>\n",
       "      <td>...</td>\n",
       "      <td>...</td>\n",
       "      <td>...</td>\n",
       "      <td>...</td>\n",
       "      <td>...</td>\n",
       "      <td>...</td>\n",
       "    </tr>\n",
       "    <tr>\n",
       "      <td>22974</td>\n",
       "      <td>2015</td>\n",
       "      <td>11</td>\n",
       "      <td>26</td>\n",
       "      <td>3.6</td>\n",
       "      <td>5.3</td>\n",
       "      <td>2.0</td>\n",
       "      <td>10.4</td>\n",
       "      <td>1.0</td>\n",
       "    </tr>\n",
       "    <tr>\n",
       "      <td>22975</td>\n",
       "      <td>2015</td>\n",
       "      <td>11</td>\n",
       "      <td>27</td>\n",
       "      <td>4.7</td>\n",
       "      <td>6.3</td>\n",
       "      <td>1.0</td>\n",
       "      <td>12.6</td>\n",
       "      <td>3.0</td>\n",
       "    </tr>\n",
       "    <tr>\n",
       "      <td>22976</td>\n",
       "      <td>2015</td>\n",
       "      <td>11</td>\n",
       "      <td>28</td>\n",
       "      <td>5.3</td>\n",
       "      <td>6.5</td>\n",
       "      <td>1.0</td>\n",
       "      <td>12.1</td>\n",
       "      <td>1.0</td>\n",
       "    </tr>\n",
       "    <tr>\n",
       "      <td>22977</td>\n",
       "      <td>2015</td>\n",
       "      <td>11</td>\n",
       "      <td>29</td>\n",
       "      <td>2.4</td>\n",
       "      <td>5.2</td>\n",
       "      <td>1.0</td>\n",
       "      <td>9.9</td>\n",
       "      <td>1.0</td>\n",
       "    </tr>\n",
       "    <tr>\n",
       "      <td>22978</td>\n",
       "      <td>2015</td>\n",
       "      <td>11</td>\n",
       "      <td>30</td>\n",
       "      <td>4.0</td>\n",
       "      <td>5.4</td>\n",
       "      <td>2.0</td>\n",
       "      <td>10.5</td>\n",
       "      <td>16.0</td>\n",
       "    </tr>\n",
       "  </tbody>\n",
       "</table>\n",
       "<p>22979 rows × 8 columns</p>\n",
       "</div>"
      ],
      "text/plain": [
       "       year  month  day  Uday  Umean  Umeandir  Umax  Umaxdir\n",
       "0      1953      1    1  16.3    NaN       NaN   NaN      NaN\n",
       "1      1953      1    2  13.7    NaN       NaN   NaN      NaN\n",
       "2      1953      1    3  15.0    NaN       NaN   NaN      NaN\n",
       "3      1953      1    4  10.3    NaN       NaN   NaN      NaN\n",
       "4      1953      1    5   8.0    NaN       NaN   NaN      NaN\n",
       "...     ...    ...  ...   ...    ...       ...   ...      ...\n",
       "22974  2015     11   26   3.6    5.3       2.0  10.4      1.0\n",
       "22975  2015     11   27   4.7    6.3       1.0  12.6      3.0\n",
       "22976  2015     11   28   5.3    6.5       1.0  12.1      1.0\n",
       "22977  2015     11   29   2.4    5.2       1.0   9.9      1.0\n",
       "22978  2015     11   30   4.0    5.4       2.0  10.5     16.0\n",
       "\n",
       "[22979 rows x 8 columns]"
      ]
     },
     "execution_count": 72,
     "metadata": {},
     "output_type": "execute_result"
    }
   ],
   "source": [
    "windspeed1"
   ]
  },
  {
   "cell_type": "markdown",
   "metadata": {},
   "source": [
    "#### 2.填充 Umean 列"
   ]
  },
  {
   "cell_type": "code",
   "execution_count": 73,
   "metadata": {},
   "outputs": [
    {
     "name": "stderr",
     "output_type": "stream",
     "text": [
      "C:\\Users\\solit\\Anaconda3\\lib\\site-packages\\ipykernel_launcher.py:4: SettingWithCopyWarning: \n",
      "A value is trying to be set on a copy of a slice from a DataFrame\n",
      "\n",
      "See the caveats in the documentation: http://pandas.pydata.org/pandas-docs/stable/user_guide/indexing.html#returning-a-view-versus-a-copy\n",
      "  after removing the cwd from sys.path.\n"
     ]
    }
   ],
   "source": [
    "Uday = windspeed1['Uday']\n",
    "Uday = Uday[windspeed1['Umean'].isna()]\n",
    "\n",
    "windspeed1['Umean'][windspeed1['Umean'].isna()] = Uday * kmean2day"
   ]
  },
  {
   "cell_type": "code",
   "execution_count": 74,
   "metadata": {},
   "outputs": [
    {
     "name": "stderr",
     "output_type": "stream",
     "text": [
      "C:\\Users\\solit\\Anaconda3\\lib\\site-packages\\ipykernel_launcher.py:4: SettingWithCopyWarning: \n",
      "A value is trying to be set on a copy of a slice from a DataFrame\n",
      "\n",
      "See the caveats in the documentation: http://pandas.pydata.org/pandas-docs/stable/user_guide/indexing.html#returning-a-view-versus-a-copy\n",
      "  after removing the cwd from sys.path.\n"
     ]
    }
   ],
   "source": [
    "Uday = windspeed1['Uday']\n",
    "Uday = Uday[windspeed1['Umean'].isna()]\n",
    "\n",
    "windspeed1['Umean'][windspeed1['Umean'].isna()] = Uday * kmean2day"
   ]
  },
  {
   "cell_type": "markdown",
   "metadata": {},
   "source": [
    "- 由于直接对 DataFrame 的切片进行赋值操作(相当于 inplace 操作)，因此会有 Warning"
   ]
  },
  {
   "cell_type": "markdown",
   "metadata": {},
   "source": [
    "#### 3.填充 Umax 列"
   ]
  },
  {
   "cell_type": "code",
   "execution_count": 75,
   "metadata": {},
   "outputs": [
    {
     "name": "stderr",
     "output_type": "stream",
     "text": [
      "C:\\Users\\solit\\Anaconda3\\lib\\site-packages\\ipykernel_launcher.py:4: SettingWithCopyWarning: \n",
      "A value is trying to be set on a copy of a slice from a DataFrame\n",
      "\n",
      "See the caveats in the documentation: http://pandas.pydata.org/pandas-docs/stable/user_guide/indexing.html#returning-a-view-versus-a-copy\n",
      "  after removing the cwd from sys.path.\n"
     ]
    }
   ],
   "source": [
    "Uday = windspeed1['Uday']\n",
    "Uday = Uday[windspeed1['Umax'].isna()]\n",
    "\n",
    "windspeed1['Umax'][windspeed1['Umax'].isna()] = Uday * kmax2day"
   ]
  },
  {
   "cell_type": "markdown",
   "metadata": {},
   "source": [
    "#### 4.填补后"
   ]
  },
  {
   "cell_type": "code",
   "execution_count": 76,
   "metadata": {},
   "outputs": [
    {
     "data": {
      "text/html": [
       "<div>\n",
       "<style scoped>\n",
       "    .dataframe tbody tr th:only-of-type {\n",
       "        vertical-align: middle;\n",
       "    }\n",
       "\n",
       "    .dataframe tbody tr th {\n",
       "        vertical-align: top;\n",
       "    }\n",
       "\n",
       "    .dataframe thead th {\n",
       "        text-align: right;\n",
       "    }\n",
       "</style>\n",
       "<table border=\"1\" class=\"dataframe\">\n",
       "  <thead>\n",
       "    <tr style=\"text-align: right;\">\n",
       "      <th></th>\n",
       "      <th>year</th>\n",
       "      <th>month</th>\n",
       "      <th>day</th>\n",
       "      <th>Uday</th>\n",
       "      <th>Umean</th>\n",
       "      <th>Umeandir</th>\n",
       "      <th>Umax</th>\n",
       "      <th>Umaxdir</th>\n",
       "    </tr>\n",
       "  </thead>\n",
       "  <tbody>\n",
       "    <tr>\n",
       "      <td>0</td>\n",
       "      <td>1953</td>\n",
       "      <td>1</td>\n",
       "      <td>1</td>\n",
       "      <td>16.3</td>\n",
       "      <td>29.096100</td>\n",
       "      <td>NaN</td>\n",
       "      <td>50.099753</td>\n",
       "      <td>NaN</td>\n",
       "    </tr>\n",
       "    <tr>\n",
       "      <td>1</td>\n",
       "      <td>1953</td>\n",
       "      <td>1</td>\n",
       "      <td>2</td>\n",
       "      <td>13.7</td>\n",
       "      <td>24.455004</td>\n",
       "      <td>NaN</td>\n",
       "      <td>42.108382</td>\n",
       "      <td>NaN</td>\n",
       "    </tr>\n",
       "    <tr>\n",
       "      <td>2</td>\n",
       "      <td>1953</td>\n",
       "      <td>1</td>\n",
       "      <td>3</td>\n",
       "      <td>15.0</td>\n",
       "      <td>26.775552</td>\n",
       "      <td>NaN</td>\n",
       "      <td>46.104067</td>\n",
       "      <td>NaN</td>\n",
       "    </tr>\n",
       "    <tr>\n",
       "      <td>3</td>\n",
       "      <td>1953</td>\n",
       "      <td>1</td>\n",
       "      <td>4</td>\n",
       "      <td>10.3</td>\n",
       "      <td>18.385879</td>\n",
       "      <td>NaN</td>\n",
       "      <td>31.658126</td>\n",
       "      <td>NaN</td>\n",
       "    </tr>\n",
       "    <tr>\n",
       "      <td>4</td>\n",
       "      <td>1953</td>\n",
       "      <td>1</td>\n",
       "      <td>5</td>\n",
       "      <td>8.0</td>\n",
       "      <td>14.280295</td>\n",
       "      <td>NaN</td>\n",
       "      <td>24.588836</td>\n",
       "      <td>NaN</td>\n",
       "    </tr>\n",
       "    <tr>\n",
       "      <td>...</td>\n",
       "      <td>...</td>\n",
       "      <td>...</td>\n",
       "      <td>...</td>\n",
       "      <td>...</td>\n",
       "      <td>...</td>\n",
       "      <td>...</td>\n",
       "      <td>...</td>\n",
       "      <td>...</td>\n",
       "    </tr>\n",
       "    <tr>\n",
       "      <td>22974</td>\n",
       "      <td>2015</td>\n",
       "      <td>11</td>\n",
       "      <td>26</td>\n",
       "      <td>3.6</td>\n",
       "      <td>5.300000</td>\n",
       "      <td>2.0</td>\n",
       "      <td>10.400000</td>\n",
       "      <td>1.0</td>\n",
       "    </tr>\n",
       "    <tr>\n",
       "      <td>22975</td>\n",
       "      <td>2015</td>\n",
       "      <td>11</td>\n",
       "      <td>27</td>\n",
       "      <td>4.7</td>\n",
       "      <td>6.300000</td>\n",
       "      <td>1.0</td>\n",
       "      <td>12.600000</td>\n",
       "      <td>3.0</td>\n",
       "    </tr>\n",
       "    <tr>\n",
       "      <td>22976</td>\n",
       "      <td>2015</td>\n",
       "      <td>11</td>\n",
       "      <td>28</td>\n",
       "      <td>5.3</td>\n",
       "      <td>6.500000</td>\n",
       "      <td>1.0</td>\n",
       "      <td>12.100000</td>\n",
       "      <td>1.0</td>\n",
       "    </tr>\n",
       "    <tr>\n",
       "      <td>22977</td>\n",
       "      <td>2015</td>\n",
       "      <td>11</td>\n",
       "      <td>29</td>\n",
       "      <td>2.4</td>\n",
       "      <td>5.200000</td>\n",
       "      <td>1.0</td>\n",
       "      <td>9.900000</td>\n",
       "      <td>1.0</td>\n",
       "    </tr>\n",
       "    <tr>\n",
       "      <td>22978</td>\n",
       "      <td>2015</td>\n",
       "      <td>11</td>\n",
       "      <td>30</td>\n",
       "      <td>4.0</td>\n",
       "      <td>5.400000</td>\n",
       "      <td>2.0</td>\n",
       "      <td>10.500000</td>\n",
       "      <td>16.0</td>\n",
       "    </tr>\n",
       "  </tbody>\n",
       "</table>\n",
       "<p>22979 rows × 8 columns</p>\n",
       "</div>"
      ],
      "text/plain": [
       "       year  month  day  Uday      Umean  Umeandir       Umax  Umaxdir\n",
       "0      1953      1    1  16.3  29.096100       NaN  50.099753      NaN\n",
       "1      1953      1    2  13.7  24.455004       NaN  42.108382      NaN\n",
       "2      1953      1    3  15.0  26.775552       NaN  46.104067      NaN\n",
       "3      1953      1    4  10.3  18.385879       NaN  31.658126      NaN\n",
       "4      1953      1    5   8.0  14.280295       NaN  24.588836      NaN\n",
       "...     ...    ...  ...   ...        ...       ...        ...      ...\n",
       "22974  2015     11   26   3.6   5.300000       2.0  10.400000      1.0\n",
       "22975  2015     11   27   4.7   6.300000       1.0  12.600000      3.0\n",
       "22976  2015     11   28   5.3   6.500000       1.0  12.100000      1.0\n",
       "22977  2015     11   29   2.4   5.200000       1.0   9.900000      1.0\n",
       "22978  2015     11   30   4.0   5.400000       2.0  10.500000     16.0\n",
       "\n",
       "[22979 rows x 8 columns]"
      ]
     },
     "execution_count": 76,
     "metadata": {},
     "output_type": "execute_result"
    }
   ],
   "source": [
    "windspeed1"
   ]
  },
  {
   "cell_type": "markdown",
   "metadata": {},
   "source": [
    "#### 5.前后对比：1954年风速"
   ]
  },
  {
   "cell_type": "markdown",
   "metadata": {},
   "source": [
    "- 填充前的1954"
   ]
  },
  {
   "cell_type": "code",
   "execution_count": 77,
   "metadata": {},
   "outputs": [
    {
     "data": {
      "text/html": [
       "<div>\n",
       "<style scoped>\n",
       "    .dataframe tbody tr th:only-of-type {\n",
       "        vertical-align: middle;\n",
       "    }\n",
       "\n",
       "    .dataframe tbody tr th {\n",
       "        vertical-align: top;\n",
       "    }\n",
       "\n",
       "    .dataframe thead th {\n",
       "        text-align: right;\n",
       "    }\n",
       "</style>\n",
       "<table border=\"1\" class=\"dataframe\">\n",
       "  <thead>\n",
       "    <tr style=\"text-align: right;\">\n",
       "      <th></th>\n",
       "      <th>year</th>\n",
       "      <th>month</th>\n",
       "      <th>day</th>\n",
       "      <th>Uday</th>\n",
       "      <th>Umean</th>\n",
       "      <th>Umeandir</th>\n",
       "      <th>Umax</th>\n",
       "      <th>Umaxdir</th>\n",
       "    </tr>\n",
       "  </thead>\n",
       "  <tbody>\n",
       "    <tr>\n",
       "      <td>365</td>\n",
       "      <td>1954</td>\n",
       "      <td>1</td>\n",
       "      <td>1</td>\n",
       "      <td>9.8</td>\n",
       "      <td>17.493361</td>\n",
       "      <td>NaN</td>\n",
       "      <td>30.121324</td>\n",
       "      <td>NaN</td>\n",
       "    </tr>\n",
       "    <tr>\n",
       "      <td>366</td>\n",
       "      <td>1954</td>\n",
       "      <td>1</td>\n",
       "      <td>2</td>\n",
       "      <td>6.8</td>\n",
       "      <td>12.138250</td>\n",
       "      <td>NaN</td>\n",
       "      <td>20.900511</td>\n",
       "      <td>NaN</td>\n",
       "    </tr>\n",
       "    <tr>\n",
       "      <td>367</td>\n",
       "      <td>1954</td>\n",
       "      <td>1</td>\n",
       "      <td>3</td>\n",
       "      <td>4.0</td>\n",
       "      <td>7.140147</td>\n",
       "      <td>NaN</td>\n",
       "      <td>12.294418</td>\n",
       "      <td>NaN</td>\n",
       "    </tr>\n",
       "    <tr>\n",
       "      <td>368</td>\n",
       "      <td>1954</td>\n",
       "      <td>1</td>\n",
       "      <td>4</td>\n",
       "      <td>4.5</td>\n",
       "      <td>8.032666</td>\n",
       "      <td>NaN</td>\n",
       "      <td>13.831220</td>\n",
       "      <td>NaN</td>\n",
       "    </tr>\n",
       "    <tr>\n",
       "      <td>369</td>\n",
       "      <td>1954</td>\n",
       "      <td>1</td>\n",
       "      <td>5</td>\n",
       "      <td>8.8</td>\n",
       "      <td>15.708324</td>\n",
       "      <td>NaN</td>\n",
       "      <td>27.047720</td>\n",
       "      <td>NaN</td>\n",
       "    </tr>\n",
       "    <tr>\n",
       "      <td>...</td>\n",
       "      <td>...</td>\n",
       "      <td>...</td>\n",
       "      <td>...</td>\n",
       "      <td>...</td>\n",
       "      <td>...</td>\n",
       "      <td>...</td>\n",
       "      <td>...</td>\n",
       "      <td>...</td>\n",
       "    </tr>\n",
       "    <tr>\n",
       "      <td>725</td>\n",
       "      <td>1954</td>\n",
       "      <td>12</td>\n",
       "      <td>27</td>\n",
       "      <td>16.0</td>\n",
       "      <td>28.560589</td>\n",
       "      <td>NaN</td>\n",
       "      <td>49.177672</td>\n",
       "      <td>NaN</td>\n",
       "    </tr>\n",
       "    <tr>\n",
       "      <td>726</td>\n",
       "      <td>1954</td>\n",
       "      <td>12</td>\n",
       "      <td>28</td>\n",
       "      <td>12.0</td>\n",
       "      <td>21.420442</td>\n",
       "      <td>NaN</td>\n",
       "      <td>36.883254</td>\n",
       "      <td>NaN</td>\n",
       "    </tr>\n",
       "    <tr>\n",
       "      <td>727</td>\n",
       "      <td>1954</td>\n",
       "      <td>12</td>\n",
       "      <td>29</td>\n",
       "      <td>13.0</td>\n",
       "      <td>23.205479</td>\n",
       "      <td>NaN</td>\n",
       "      <td>39.956858</td>\n",
       "      <td>NaN</td>\n",
       "    </tr>\n",
       "    <tr>\n",
       "      <td>728</td>\n",
       "      <td>1954</td>\n",
       "      <td>12</td>\n",
       "      <td>30</td>\n",
       "      <td>15.0</td>\n",
       "      <td>26.775552</td>\n",
       "      <td>NaN</td>\n",
       "      <td>46.104067</td>\n",
       "      <td>NaN</td>\n",
       "    </tr>\n",
       "    <tr>\n",
       "      <td>729</td>\n",
       "      <td>1954</td>\n",
       "      <td>12</td>\n",
       "      <td>31</td>\n",
       "      <td>15.5</td>\n",
       "      <td>27.668071</td>\n",
       "      <td>NaN</td>\n",
       "      <td>47.640870</td>\n",
       "      <td>NaN</td>\n",
       "    </tr>\n",
       "  </tbody>\n",
       "</table>\n",
       "<p>365 rows × 8 columns</p>\n",
       "</div>"
      ],
      "text/plain": [
       "     year  month  day  Uday      Umean  Umeandir       Umax  Umaxdir\n",
       "365  1954      1    1   9.8  17.493361       NaN  30.121324      NaN\n",
       "366  1954      1    2   6.8  12.138250       NaN  20.900511      NaN\n",
       "367  1954      1    3   4.0   7.140147       NaN  12.294418      NaN\n",
       "368  1954      1    4   4.5   8.032666       NaN  13.831220      NaN\n",
       "369  1954      1    5   8.8  15.708324       NaN  27.047720      NaN\n",
       "..    ...    ...  ...   ...        ...       ...        ...      ...\n",
       "725  1954     12   27  16.0  28.560589       NaN  49.177672      NaN\n",
       "726  1954     12   28  12.0  21.420442       NaN  36.883254      NaN\n",
       "727  1954     12   29  13.0  23.205479       NaN  39.956858      NaN\n",
       "728  1954     12   30  15.0  26.775552       NaN  46.104067      NaN\n",
       "729  1954     12   31  15.5  27.668071       NaN  47.640870      NaN\n",
       "\n",
       "[365 rows x 8 columns]"
      ]
     },
     "execution_count": 77,
     "metadata": {},
     "output_type": "execute_result"
    }
   ],
   "source": [
    "wind1954raw = windspeed[windspeed['year'] == 1954]  #重新读取一下\n",
    "wind1954raw"
   ]
  },
  {
   "cell_type": "markdown",
   "metadata": {},
   "source": [
    "- 填充后的1954"
   ]
  },
  {
   "cell_type": "code",
   "execution_count": 78,
   "metadata": {
    "scrolled": false
   },
   "outputs": [
    {
     "data": {
      "text/html": [
       "<div>\n",
       "<style scoped>\n",
       "    .dataframe tbody tr th:only-of-type {\n",
       "        vertical-align: middle;\n",
       "    }\n",
       "\n",
       "    .dataframe tbody tr th {\n",
       "        vertical-align: top;\n",
       "    }\n",
       "\n",
       "    .dataframe thead th {\n",
       "        text-align: right;\n",
       "    }\n",
       "</style>\n",
       "<table border=\"1\" class=\"dataframe\">\n",
       "  <thead>\n",
       "    <tr style=\"text-align: right;\">\n",
       "      <th></th>\n",
       "      <th>year</th>\n",
       "      <th>month</th>\n",
       "      <th>day</th>\n",
       "      <th>Uday</th>\n",
       "      <th>Umean</th>\n",
       "      <th>Umeandir</th>\n",
       "      <th>Umax</th>\n",
       "      <th>Umaxdir</th>\n",
       "    </tr>\n",
       "  </thead>\n",
       "  <tbody>\n",
       "    <tr>\n",
       "      <td>365</td>\n",
       "      <td>1954</td>\n",
       "      <td>1</td>\n",
       "      <td>1</td>\n",
       "      <td>9.8</td>\n",
       "      <td>17.493361</td>\n",
       "      <td>NaN</td>\n",
       "      <td>30.121324</td>\n",
       "      <td>NaN</td>\n",
       "    </tr>\n",
       "    <tr>\n",
       "      <td>366</td>\n",
       "      <td>1954</td>\n",
       "      <td>1</td>\n",
       "      <td>2</td>\n",
       "      <td>6.8</td>\n",
       "      <td>12.138250</td>\n",
       "      <td>NaN</td>\n",
       "      <td>20.900511</td>\n",
       "      <td>NaN</td>\n",
       "    </tr>\n",
       "    <tr>\n",
       "      <td>367</td>\n",
       "      <td>1954</td>\n",
       "      <td>1</td>\n",
       "      <td>3</td>\n",
       "      <td>4.0</td>\n",
       "      <td>7.140147</td>\n",
       "      <td>NaN</td>\n",
       "      <td>12.294418</td>\n",
       "      <td>NaN</td>\n",
       "    </tr>\n",
       "    <tr>\n",
       "      <td>368</td>\n",
       "      <td>1954</td>\n",
       "      <td>1</td>\n",
       "      <td>4</td>\n",
       "      <td>4.5</td>\n",
       "      <td>8.032666</td>\n",
       "      <td>NaN</td>\n",
       "      <td>13.831220</td>\n",
       "      <td>NaN</td>\n",
       "    </tr>\n",
       "    <tr>\n",
       "      <td>369</td>\n",
       "      <td>1954</td>\n",
       "      <td>1</td>\n",
       "      <td>5</td>\n",
       "      <td>8.8</td>\n",
       "      <td>15.708324</td>\n",
       "      <td>NaN</td>\n",
       "      <td>27.047720</td>\n",
       "      <td>NaN</td>\n",
       "    </tr>\n",
       "    <tr>\n",
       "      <td>...</td>\n",
       "      <td>...</td>\n",
       "      <td>...</td>\n",
       "      <td>...</td>\n",
       "      <td>...</td>\n",
       "      <td>...</td>\n",
       "      <td>...</td>\n",
       "      <td>...</td>\n",
       "      <td>...</td>\n",
       "    </tr>\n",
       "    <tr>\n",
       "      <td>725</td>\n",
       "      <td>1954</td>\n",
       "      <td>12</td>\n",
       "      <td>27</td>\n",
       "      <td>16.0</td>\n",
       "      <td>28.560589</td>\n",
       "      <td>NaN</td>\n",
       "      <td>49.177672</td>\n",
       "      <td>NaN</td>\n",
       "    </tr>\n",
       "    <tr>\n",
       "      <td>726</td>\n",
       "      <td>1954</td>\n",
       "      <td>12</td>\n",
       "      <td>28</td>\n",
       "      <td>12.0</td>\n",
       "      <td>21.420442</td>\n",
       "      <td>NaN</td>\n",
       "      <td>36.883254</td>\n",
       "      <td>NaN</td>\n",
       "    </tr>\n",
       "    <tr>\n",
       "      <td>727</td>\n",
       "      <td>1954</td>\n",
       "      <td>12</td>\n",
       "      <td>29</td>\n",
       "      <td>13.0</td>\n",
       "      <td>23.205479</td>\n",
       "      <td>NaN</td>\n",
       "      <td>39.956858</td>\n",
       "      <td>NaN</td>\n",
       "    </tr>\n",
       "    <tr>\n",
       "      <td>728</td>\n",
       "      <td>1954</td>\n",
       "      <td>12</td>\n",
       "      <td>30</td>\n",
       "      <td>15.0</td>\n",
       "      <td>26.775552</td>\n",
       "      <td>NaN</td>\n",
       "      <td>46.104067</td>\n",
       "      <td>NaN</td>\n",
       "    </tr>\n",
       "    <tr>\n",
       "      <td>729</td>\n",
       "      <td>1954</td>\n",
       "      <td>12</td>\n",
       "      <td>31</td>\n",
       "      <td>15.5</td>\n",
       "      <td>27.668071</td>\n",
       "      <td>NaN</td>\n",
       "      <td>47.640870</td>\n",
       "      <td>NaN</td>\n",
       "    </tr>\n",
       "  </tbody>\n",
       "</table>\n",
       "<p>365 rows × 8 columns</p>\n",
       "</div>"
      ],
      "text/plain": [
       "     year  month  day  Uday      Umean  Umeandir       Umax  Umaxdir\n",
       "365  1954      1    1   9.8  17.493361       NaN  30.121324      NaN\n",
       "366  1954      1    2   6.8  12.138250       NaN  20.900511      NaN\n",
       "367  1954      1    3   4.0   7.140147       NaN  12.294418      NaN\n",
       "368  1954      1    4   4.5   8.032666       NaN  13.831220      NaN\n",
       "369  1954      1    5   8.8  15.708324       NaN  27.047720      NaN\n",
       "..    ...    ...  ...   ...        ...       ...        ...      ...\n",
       "725  1954     12   27  16.0  28.560589       NaN  49.177672      NaN\n",
       "726  1954     12   28  12.0  21.420442       NaN  36.883254      NaN\n",
       "727  1954     12   29  13.0  23.205479       NaN  39.956858      NaN\n",
       "728  1954     12   30  15.0  26.775552       NaN  46.104067      NaN\n",
       "729  1954     12   31  15.5  27.668071       NaN  47.640870      NaN\n",
       "\n",
       "[365 rows x 8 columns]"
      ]
     },
     "execution_count": 78,
     "metadata": {},
     "output_type": "execute_result"
    }
   ],
   "source": [
    "wind1954 = windspeed1[windspeed1['year'] == 1954]\n",
    "wind1954"
   ]
  },
  {
   "cell_type": "markdown",
   "metadata": {},
   "source": [
    "#### 6.绘图：1954年风速"
   ]
  },
  {
   "cell_type": "code",
   "execution_count": 79,
   "metadata": {
    "scrolled": false
   },
   "outputs": [
    {
     "data": {
      "image/png": "[encoded data removed]",
      "text/plain": [
       "<Figure size 576x432 with 1 Axes>"
      ]
     },
     "metadata": {
      "needs_background": "light"
     },
     "output_type": "display_data"
    }
   ],
   "source": [
    "import matplotlib.pyplot as plt\n",
    "\n",
    "plt.figure(figsize=(8, 6))\n",
    "plt.plot(wind1954[['Uday','Umean']])#,windspeed1['Umean']);\n",
    "#,windspeed1['Umean'], linewidth=5)  \n",
    "plt.title(\"wind speed 1954\", fontsize=24)  # 指定标题，并设置标题字体大小\n",
    "plt.xlabel(\"number\", fontsize=14)  # 指定X坐标轴的标签，并设置标签字体大小\n",
    "plt.ylabel(\"wind speed(m/s)\", fontsize=14)  # 指定Y坐标轴的标签，并设置标签字体大小\n",
    "plt.tick_params(axis='both', labelsize=14)  # 参数axis值为both，代表要设置横纵的刻度标记，标记大小为14\n",
    "plt.legend(['Uday', 'Umean'])\n",
    "plt.show()"
   ]
  },
  {
   "cell_type": "code",
   "execution_count": 80,
   "metadata": {},
   "outputs": [
    {
     "data": {
      "image/png": "[encoded data removed]",
      "text/plain": [
       "<Figure size 576x432 with 1 Axes>"
      ]
     },
     "metadata": {
      "needs_background": "light"
     },
     "output_type": "display_data"
    }
   ],
   "source": [
    "import matplotlib.pyplot as plt\n",
    "\n",
    "plt.figure(figsize=(8, 6))\n",
    "plt.plot(wind1954[['Uday','Umax']])#,windspeed1['Umean']);\n",
    "#,windspeed1['Umean'], linewidth=5)  \n",
    "plt.title(\"wind speed 1954\", fontsize=24)  # 指定标题，并设置标题字体大小\n",
    "plt.xlabel(\"number\", fontsize=14)  # 指定X坐标轴的标签，并设置标签字体大小\n",
    "plt.ylabel(\"wind speed(m/s)\", fontsize=14)  # 指定Y坐标轴的标签，并设置标签字体大小\n",
    "plt.tick_params(axis='both', labelsize=14)  # 参数axis值为both，代表要设置横纵的刻度标记，标记大小为14\n",
    "plt.legend(['Uday', 'Umax'])\n",
    "plt.show()"
   ]
  },
  {
   "cell_type": "code",
   "execution_count": null,
   "metadata": {},
   "outputs": [],
   "source": []
  },
  {
   "cell_type": "markdown",
   "metadata": {},
   "source": [
    "## 8.4 思考：如何处理噪声数据？"
   ]
  },
  {
   "cell_type": "code",
   "execution_count": 81,
   "metadata": {},
   "outputs": [
    {
     "data": {
      "text/html": [
       "<div>\n",
       "<style scoped>\n",
       "    .dataframe tbody tr th:only-of-type {\n",
       "        vertical-align: middle;\n",
       "    }\n",
       "\n",
       "    .dataframe tbody tr th {\n",
       "        vertical-align: top;\n",
       "    }\n",
       "\n",
       "    .dataframe thead th {\n",
       "        text-align: right;\n",
       "    }\n",
       "</style>\n",
       "<table border=\"1\" class=\"dataframe\">\n",
       "  <thead>\n",
       "    <tr style=\"text-align: right;\">\n",
       "      <th></th>\n",
       "      <th>time</th>\n",
       "      <th>data</th>\n",
       "    </tr>\n",
       "  </thead>\n",
       "  <tbody>\n",
       "    <tr>\n",
       "      <td>0</td>\n",
       "      <td>0.00</td>\n",
       "      <td>0.000000</td>\n",
       "    </tr>\n",
       "    <tr>\n",
       "      <td>1</td>\n",
       "      <td>0.01</td>\n",
       "      <td>0.014000</td>\n",
       "    </tr>\n",
       "    <tr>\n",
       "      <td>2</td>\n",
       "      <td>0.02</td>\n",
       "      <td>0.027999</td>\n",
       "    </tr>\n",
       "    <tr>\n",
       "      <td>3</td>\n",
       "      <td>0.03</td>\n",
       "      <td>0.041995</td>\n",
       "    </tr>\n",
       "    <tr>\n",
       "      <td>4</td>\n",
       "      <td>0.04</td>\n",
       "      <td>0.055989</td>\n",
       "    </tr>\n",
       "    <tr>\n",
       "      <td>...</td>\n",
       "      <td>...</td>\n",
       "      <td>...</td>\n",
       "    </tr>\n",
       "    <tr>\n",
       "      <td>2994</td>\n",
       "      <td>29.94</td>\n",
       "      <td>-1.552172</td>\n",
       "    </tr>\n",
       "    <tr>\n",
       "      <td>2995</td>\n",
       "      <td>29.95</td>\n",
       "      <td>-1.547848</td>\n",
       "    </tr>\n",
       "    <tr>\n",
       "      <td>2996</td>\n",
       "      <td>29.96</td>\n",
       "      <td>-1.543415</td>\n",
       "    </tr>\n",
       "    <tr>\n",
       "      <td>2997</td>\n",
       "      <td>29.97</td>\n",
       "      <td>-1.538874</td>\n",
       "    </tr>\n",
       "    <tr>\n",
       "      <td>2998</td>\n",
       "      <td>29.98</td>\n",
       "      <td>-1.534225</td>\n",
       "    </tr>\n",
       "  </tbody>\n",
       "</table>\n",
       "<p>2999 rows × 2 columns</p>\n",
       "</div>"
      ],
      "text/plain": [
       "       time      data\n",
       "0      0.00  0.000000\n",
       "1      0.01  0.014000\n",
       "2      0.02  0.027999\n",
       "3      0.03  0.041995\n",
       "4      0.04  0.055989\n",
       "...     ...       ...\n",
       "2994  29.94 -1.552172\n",
       "2995  29.95 -1.547848\n",
       "2996  29.96 -1.543415\n",
       "2997  29.97 -1.538874\n",
       "2998  29.98 -1.534225\n",
       "\n",
       "[2999 rows x 2 columns]"
      ]
     },
     "execution_count": 81,
     "metadata": {},
     "output_type": "execute_result"
    }
   ],
   "source": [
    "xlsx = pd.ExcelFile('时间序列.xlsx') # 文件必须存在\n",
    "timedata = pd.read_excel(xlsx, index_col=None, header=None, names=[\"time\",\"data\"])\n",
    "timedata"
   ]
  },
  {
   "cell_type": "code",
   "execution_count": 82,
   "metadata": {},
   "outputs": [
    {
     "data": {
      "text/plain": [
       "[<matplotlib.lines.Line2D at 0x17c7fe34288>]"
      ]
     },
     "execution_count": 82,
     "metadata": {},
     "output_type": "execute_result"
    },
    {
     "data": {
      "image/png": "[encoded data removed]",
      "text/plain": [
       "<Figure size 432x288 with 1 Axes>"
      ]
     },
     "metadata": {
      "needs_background": "light"
     },
     "output_type": "display_data"
    }
   ],
   "source": [
    "plt.plot(timedata['time'],timedata['data'])"
   ]
  },
  {
   "cell_type": "code",
   "execution_count": 83,
   "metadata": {},
   "outputs": [
    {
     "data": {
      "text/plain": [
       "(-3, 3)"
      ]
     },
     "execution_count": 83,
     "metadata": {},
     "output_type": "execute_result"
    },
    {
     "data": {
      "image/png": "[encoded data removed]",
      "text/plain": [
       "<Figure size 432x288 with 1 Axes>"
      ]
     },
     "metadata": {
      "needs_background": "light"
     },
     "output_type": "display_data"
    }
   ],
   "source": [
    "#放大看\n",
    "plt.plot(timedata['time'],timedata['data'])\n",
    "plt.ylim([-3,3]) "
   ]
  },
  {
   "cell_type": "markdown",
   "metadata": {},
   "source": [
    "### 8.4.1 寻找异常点"
   ]
  },
  {
   "cell_type": "code",
   "execution_count": 84,
   "metadata": {},
   "outputs": [
    {
     "data": {
      "text/html": [
       "<div>\n",
       "<style scoped>\n",
       "    .dataframe tbody tr th:only-of-type {\n",
       "        vertical-align: middle;\n",
       "    }\n",
       "\n",
       "    .dataframe tbody tr th {\n",
       "        vertical-align: top;\n",
       "    }\n",
       "\n",
       "    .dataframe thead th {\n",
       "        text-align: right;\n",
       "    }\n",
       "</style>\n",
       "<table border=\"1\" class=\"dataframe\">\n",
       "  <thead>\n",
       "    <tr style=\"text-align: right;\">\n",
       "      <th></th>\n",
       "      <th>time</th>\n",
       "      <th>data</th>\n",
       "    </tr>\n",
       "  </thead>\n",
       "  <tbody>\n",
       "    <tr>\n",
       "      <td>count</td>\n",
       "      <td>2999.000000</td>\n",
       "      <td>2999.000000</td>\n",
       "    </tr>\n",
       "    <tr>\n",
       "      <td>mean</td>\n",
       "      <td>14.990000</td>\n",
       "      <td>0.032165</td>\n",
       "    </tr>\n",
       "    <tr>\n",
       "      <td>std</td>\n",
       "      <td>8.658811</td>\n",
       "      <td>1.123785</td>\n",
       "    </tr>\n",
       "    <tr>\n",
       "      <td>min</td>\n",
       "      <td>0.000000</td>\n",
       "      <td>-20.500000</td>\n",
       "    </tr>\n",
       "    <tr>\n",
       "      <td>25%</td>\n",
       "      <td>7.495000</td>\n",
       "      <td>-0.639794</td>\n",
       "    </tr>\n",
       "    <tr>\n",
       "      <td>50%</td>\n",
       "      <td>14.990000</td>\n",
       "      <td>0.034682</td>\n",
       "    </tr>\n",
       "    <tr>\n",
       "      <td>75%</td>\n",
       "      <td>22.485000</td>\n",
       "      <td>0.789026</td>\n",
       "    </tr>\n",
       "    <tr>\n",
       "      <td>max</td>\n",
       "      <td>29.980000</td>\n",
       "      <td>10.590000</td>\n",
       "    </tr>\n",
       "  </tbody>\n",
       "</table>\n",
       "</div>"
      ],
      "text/plain": [
       "              time         data\n",
       "count  2999.000000  2999.000000\n",
       "mean     14.990000     0.032165\n",
       "std       8.658811     1.123785\n",
       "min       0.000000   -20.500000\n",
       "25%       7.495000    -0.639794\n",
       "50%      14.990000     0.034682\n",
       "75%      22.485000     0.789026\n",
       "max      29.980000    10.590000"
      ]
     },
     "execution_count": 84,
     "metadata": {},
     "output_type": "execute_result"
    }
   ],
   "source": [
    "timedata.describe()  "
   ]
  },
  {
   "cell_type": "code",
   "execution_count": 85,
   "metadata": {},
   "outputs": [],
   "source": [
    "# 有没有办法可以处理这些数据呢？"
   ]
  },
  {
   "cell_type": "code",
   "execution_count": 86,
   "metadata": {},
   "outputs": [],
   "source": [
    "# 方法1，利用统计信息找不正常的点"
   ]
  },
  {
   "cell_type": "code",
   "execution_count": 87,
   "metadata": {},
   "outputs": [
    {
     "data": {
      "text/plain": [
       "(10.59, -20.5)"
      ]
     },
     "execution_count": 87,
     "metadata": {},
     "output_type": "execute_result"
    }
   ],
   "source": [
    "max1, min1  = timedata['data'].max(), timedata['data'].min()\n",
    "max1, min1"
   ]
  },
  {
   "cell_type": "code",
   "execution_count": 88,
   "metadata": {},
   "outputs": [
    {
     "data": {
      "text/plain": [
       "<matplotlib.axes._subplots.AxesSubplot at 0x17c7fec3a48>"
      ]
     },
     "execution_count": 88,
     "metadata": {},
     "output_type": "execute_result"
    },
    {
     "data": {
      "image/png": "[encoded data removed]",
      "text/plain": [
       "<Figure size 864x432 with 1 Axes>"
      ]
     },
     "metadata": {
      "needs_background": "light"
     },
     "output_type": "display_data"
    }
   ],
   "source": [
    "timedata['data'].hist(figsize=(12,6),bins=30)"
   ]
  },
  {
   "cell_type": "code",
   "execution_count": 89,
   "metadata": {},
   "outputs": [],
   "source": [
    "# 取3倍方差？"
   ]
  },
  {
   "cell_type": "code",
   "execution_count": 90,
   "metadata": {},
   "outputs": [],
   "source": [
    "import seaborn as sns \n",
    "# statistical data visualization http://seaborn.pydata.org/"
   ]
  },
  {
   "cell_type": "markdown",
   "metadata": {},
   "source": [
    "####  箱形图是一种基于中位数，四分位数和异常值可视化数据分布的标准方法。\n",
    "- 示例图。\n",
    "<img src = \"images\\ch08\\ch08-01.png\" width = 1000>"
   ]
  },
  {
   "cell_type": "code",
   "execution_count": 91,
   "metadata": {},
   "outputs": [
    {
     "data": {
      "image/png": "[encoded data removed]",
      "text/plain": [
       "<Figure size 432x288 with 1 Axes>"
      ]
     },
     "metadata": {
      "needs_background": "light"
     },
     "output_type": "display_data"
    }
   ],
   "source": [
    "sns.boxplot(x=timedata['data'], color='lime')\n",
    "plt.xlabel('No. of Actors Featured in Poster',fontsize=14)\n",
    "plt.show()"
   ]
  },
  {
   "cell_type": "markdown",
   "metadata": {},
   "source": [
    "<img src = \"images\\ch08\\ch08-02.png\" width = 500>"
   ]
  },
  {
   "cell_type": "code",
   "execution_count": 92,
   "metadata": {},
   "outputs": [],
   "source": [
    "timedata1 = timedata.copy()"
   ]
  },
  {
   "cell_type": "code",
   "execution_count": 93,
   "metadata": {},
   "outputs": [
    {
     "data": {
      "text/html": [
       "<div>\n",
       "<style scoped>\n",
       "    .dataframe tbody tr th:only-of-type {\n",
       "        vertical-align: middle;\n",
       "    }\n",
       "\n",
       "    .dataframe tbody tr th {\n",
       "        vertical-align: top;\n",
       "    }\n",
       "\n",
       "    .dataframe thead th {\n",
       "        text-align: right;\n",
       "    }\n",
       "</style>\n",
       "<table border=\"1\" class=\"dataframe\">\n",
       "  <thead>\n",
       "    <tr style=\"text-align: right;\">\n",
       "      <th></th>\n",
       "      <th>time</th>\n",
       "      <th>data</th>\n",
       "    </tr>\n",
       "  </thead>\n",
       "  <tbody>\n",
       "    <tr>\n",
       "      <td>count</td>\n",
       "      <td>2999.000000</td>\n",
       "      <td>2999.000000</td>\n",
       "    </tr>\n",
       "    <tr>\n",
       "      <td>mean</td>\n",
       "      <td>14.990000</td>\n",
       "      <td>0.032165</td>\n",
       "    </tr>\n",
       "    <tr>\n",
       "      <td>std</td>\n",
       "      <td>8.658811</td>\n",
       "      <td>1.123785</td>\n",
       "    </tr>\n",
       "    <tr>\n",
       "      <td>min</td>\n",
       "      <td>0.000000</td>\n",
       "      <td>-20.500000</td>\n",
       "    </tr>\n",
       "    <tr>\n",
       "      <td>25%</td>\n",
       "      <td>7.495000</td>\n",
       "      <td>-0.639794</td>\n",
       "    </tr>\n",
       "    <tr>\n",
       "      <td>50%</td>\n",
       "      <td>14.990000</td>\n",
       "      <td>0.034682</td>\n",
       "    </tr>\n",
       "    <tr>\n",
       "      <td>75%</td>\n",
       "      <td>22.485000</td>\n",
       "      <td>0.789026</td>\n",
       "    </tr>\n",
       "    <tr>\n",
       "      <td>max</td>\n",
       "      <td>29.980000</td>\n",
       "      <td>10.590000</td>\n",
       "    </tr>\n",
       "  </tbody>\n",
       "</table>\n",
       "</div>"
      ],
      "text/plain": [
       "              time         data\n",
       "count  2999.000000  2999.000000\n",
       "mean     14.990000     0.032165\n",
       "std       8.658811     1.123785\n",
       "min       0.000000   -20.500000\n",
       "25%       7.495000    -0.639794\n",
       "50%      14.990000     0.034682\n",
       "75%      22.485000     0.789026\n",
       "max      29.980000    10.590000"
      ]
     },
     "execution_count": 93,
     "metadata": {},
     "output_type": "execute_result"
    }
   ],
   "source": [
    "timedata1.describe()"
   ]
  },
  {
   "cell_type": "code",
   "execution_count": 94,
   "metadata": {},
   "outputs": [
    {
     "data": {
      "text/plain": [
       "(3.4035210893940415, -3.339190280835512)"
      ]
     },
     "execution_count": 94,
     "metadata": {},
     "output_type": "execute_result"
    }
   ],
   "source": [
    "limit_up, limit_bottom = timedata1['data'].mean() + timedata1['data'].std()*3, timedata1['data'].mean() - timedata1['data'].std() * 3\n",
    "limit_up, limit_bottom "
   ]
  },
  {
   "cell_type": "code",
   "execution_count": 95,
   "metadata": {},
   "outputs": [
    {
     "data": {
      "text/html": [
       "<div>\n",
       "<style scoped>\n",
       "    .dataframe tbody tr th:only-of-type {\n",
       "        vertical-align: middle;\n",
       "    }\n",
       "\n",
       "    .dataframe tbody tr th {\n",
       "        vertical-align: top;\n",
       "    }\n",
       "\n",
       "    .dataframe thead th {\n",
       "        text-align: right;\n",
       "    }\n",
       "</style>\n",
       "<table border=\"1\" class=\"dataframe\">\n",
       "  <thead>\n",
       "    <tr style=\"text-align: right;\">\n",
       "      <th></th>\n",
       "      <th>time</th>\n",
       "      <th>data</th>\n",
       "    </tr>\n",
       "  </thead>\n",
       "  <tbody>\n",
       "    <tr>\n",
       "      <td>count</td>\n",
       "      <td>2995.000000</td>\n",
       "      <td>2995.000000</td>\n",
       "    </tr>\n",
       "    <tr>\n",
       "      <td>mean</td>\n",
       "      <td>14.997025</td>\n",
       "      <td>0.042372</td>\n",
       "    </tr>\n",
       "    <tr>\n",
       "      <td>std</td>\n",
       "      <td>8.657407</td>\n",
       "      <td>0.999572</td>\n",
       "    </tr>\n",
       "    <tr>\n",
       "      <td>min</td>\n",
       "      <td>0.000000</td>\n",
       "      <td>-1.957684</td>\n",
       "    </tr>\n",
       "    <tr>\n",
       "      <td>25%</td>\n",
       "      <td>7.505000</td>\n",
       "      <td>-0.635508</td>\n",
       "    </tr>\n",
       "    <tr>\n",
       "      <td>50%</td>\n",
       "      <td>15.000000</td>\n",
       "      <td>0.034748</td>\n",
       "    </tr>\n",
       "    <tr>\n",
       "      <td>75%</td>\n",
       "      <td>22.495000</td>\n",
       "      <td>0.789026</td>\n",
       "    </tr>\n",
       "    <tr>\n",
       "      <td>max</td>\n",
       "      <td>29.980000</td>\n",
       "      <td>1.957683</td>\n",
       "    </tr>\n",
       "  </tbody>\n",
       "</table>\n",
       "</div>"
      ],
      "text/plain": [
       "              time         data\n",
       "count  2995.000000  2995.000000\n",
       "mean     14.997025     0.042372\n",
       "std       8.657407     0.999572\n",
       "min       0.000000    -1.957684\n",
       "25%       7.505000    -0.635508\n",
       "50%      15.000000     0.034748\n",
       "75%      22.495000     0.789026\n",
       "max      29.980000     1.957683"
      ]
     },
     "execution_count": 95,
     "metadata": {},
     "output_type": "execute_result"
    }
   ],
   "source": [
    "timedata1[np.bitwise_and(timedata1['data'] > limit_bottom,timedata1['data'] < limit_up)].describe()  #统计一下符合的数据\n"
   ]
  },
  {
   "cell_type": "code",
   "execution_count": 96,
   "metadata": {},
   "outputs": [
    {
     "data": {
      "text/plain": [
       "0       False\n",
       "1       False\n",
       "2       False\n",
       "3       False\n",
       "4       False\n",
       "        ...  \n",
       "2994    False\n",
       "2995    False\n",
       "2996    False\n",
       "2997    False\n",
       "2998    False\n",
       "Name: data, Length: 2999, dtype: bool"
      ]
     },
     "execution_count": 96,
     "metadata": {},
     "output_type": "execute_result"
    }
   ],
   "source": [
    "condition = np.bitwise_or(timedata1['data'] < limit_bottom,timedata1['data'] > limit_up)\n",
    "condition"
   ]
  },
  {
   "cell_type": "markdown",
   "metadata": {},
   "source": [
    "### 8.4.2 平均值填充"
   ]
  },
  {
   "cell_type": "code",
   "execution_count": 97,
   "metadata": {},
   "outputs": [
    {
     "data": {
      "text/html": [
       "<div>\n",
       "<style scoped>\n",
       "    .dataframe tbody tr th:only-of-type {\n",
       "        vertical-align: middle;\n",
       "    }\n",
       "\n",
       "    .dataframe tbody tr th {\n",
       "        vertical-align: top;\n",
       "    }\n",
       "\n",
       "    .dataframe thead th {\n",
       "        text-align: right;\n",
       "    }\n",
       "</style>\n",
       "<table border=\"1\" class=\"dataframe\">\n",
       "  <thead>\n",
       "    <tr style=\"text-align: right;\">\n",
       "      <th></th>\n",
       "      <th>time</th>\n",
       "      <th>data</th>\n",
       "    </tr>\n",
       "  </thead>\n",
       "  <tbody>\n",
       "    <tr>\n",
       "      <td>count</td>\n",
       "      <td>2999.000000</td>\n",
       "      <td>2999.000000</td>\n",
       "    </tr>\n",
       "    <tr>\n",
       "      <td>mean</td>\n",
       "      <td>14.990000</td>\n",
       "      <td>0.042358</td>\n",
       "    </tr>\n",
       "    <tr>\n",
       "      <td>std</td>\n",
       "      <td>8.658811</td>\n",
       "      <td>0.998905</td>\n",
       "    </tr>\n",
       "    <tr>\n",
       "      <td>min</td>\n",
       "      <td>0.000000</td>\n",
       "      <td>-1.957684</td>\n",
       "    </tr>\n",
       "    <tr>\n",
       "      <td>25%</td>\n",
       "      <td>7.495000</td>\n",
       "      <td>-0.633428</td>\n",
       "    </tr>\n",
       "    <tr>\n",
       "      <td>50%</td>\n",
       "      <td>14.990000</td>\n",
       "      <td>0.034418</td>\n",
       "    </tr>\n",
       "    <tr>\n",
       "      <td>75%</td>\n",
       "      <td>22.485000</td>\n",
       "      <td>0.787112</td>\n",
       "    </tr>\n",
       "    <tr>\n",
       "      <td>max</td>\n",
       "      <td>29.980000</td>\n",
       "      <td>1.957683</td>\n",
       "    </tr>\n",
       "  </tbody>\n",
       "</table>\n",
       "</div>"
      ],
      "text/plain": [
       "              time         data\n",
       "count  2999.000000  2999.000000\n",
       "mean     14.990000     0.042358\n",
       "std       8.658811     0.998905\n",
       "min       0.000000    -1.957684\n",
       "25%       7.495000    -0.633428\n",
       "50%      14.990000     0.034418\n",
       "75%      22.485000     0.787112\n",
       "max      29.980000     1.957683"
      ]
     },
     "execution_count": 97,
     "metadata": {},
     "output_type": "execute_result"
    }
   ],
   "source": [
    "timedata1['data'][condition] = timedata1['data'].mean()\n",
    "timedata1.describe()"
   ]
  },
  {
   "cell_type": "code",
   "execution_count": 98,
   "metadata": {},
   "outputs": [],
   "source": [
    "timedata1['data'][condition] = timedata1['data'].mean()"
   ]
  },
  {
   "cell_type": "code",
   "execution_count": 99,
   "metadata": {},
   "outputs": [
    {
     "data": {
      "text/html": [
       "<div>\n",
       "<style scoped>\n",
       "    .dataframe tbody tr th:only-of-type {\n",
       "        vertical-align: middle;\n",
       "    }\n",
       "\n",
       "    .dataframe tbody tr th {\n",
       "        vertical-align: top;\n",
       "    }\n",
       "\n",
       "    .dataframe thead th {\n",
       "        text-align: right;\n",
       "    }\n",
       "</style>\n",
       "<table border=\"1\" class=\"dataframe\">\n",
       "  <thead>\n",
       "    <tr style=\"text-align: right;\">\n",
       "      <th></th>\n",
       "      <th>time</th>\n",
       "      <th>data</th>\n",
       "    </tr>\n",
       "  </thead>\n",
       "  <tbody>\n",
       "    <tr>\n",
       "      <td>20</td>\n",
       "      <td>0.20</td>\n",
       "      <td>0.042358</td>\n",
       "    </tr>\n",
       "    <tr>\n",
       "      <td>547</td>\n",
       "      <td>5.47</td>\n",
       "      <td>0.042358</td>\n",
       "    </tr>\n",
       "    <tr>\n",
       "      <td>1125</td>\n",
       "      <td>11.25</td>\n",
       "      <td>0.042358</td>\n",
       "    </tr>\n",
       "    <tr>\n",
       "      <td>2200</td>\n",
       "      <td>22.00</td>\n",
       "      <td>0.042358</td>\n",
       "    </tr>\n",
       "  </tbody>\n",
       "</table>\n",
       "</div>"
      ],
      "text/plain": [
       "       time      data\n",
       "20     0.20  0.042358\n",
       "547    5.47  0.042358\n",
       "1125  11.25  0.042358\n",
       "2200  22.00  0.042358"
      ]
     },
     "execution_count": 99,
     "metadata": {},
     "output_type": "execute_result"
    }
   ],
   "source": [
    "timedata1[condition]"
   ]
  },
  {
   "cell_type": "code",
   "execution_count": 100,
   "metadata": {},
   "outputs": [
    {
     "data": {
      "text/plain": [
       "<matplotlib.axes._subplots.AxesSubplot at 0x17c00846ac8>"
      ]
     },
     "execution_count": 100,
     "metadata": {},
     "output_type": "execute_result"
    },
    {
     "data": {
      "image/png": "[encoded data removed]",
      "text/plain": [
       "<Figure size 432x288 with 1 Axes>"
      ]
     },
     "metadata": {
      "needs_background": "light"
     },
     "output_type": "display_data"
    }
   ],
   "source": [
    "timedata1['data'].plot() # 太难受了"
   ]
  },
  {
   "cell_type": "markdown",
   "metadata": {},
   "source": [
    "### 8.4.3 前后数据填充"
   ]
  },
  {
   "cell_type": "code",
   "execution_count": 101,
   "metadata": {},
   "outputs": [
    {
     "data": {
      "text/html": [
       "<div>\n",
       "<style scoped>\n",
       "    .dataframe tbody tr th:only-of-type {\n",
       "        vertical-align: middle;\n",
       "    }\n",
       "\n",
       "    .dataframe tbody tr th {\n",
       "        vertical-align: top;\n",
       "    }\n",
       "\n",
       "    .dataframe thead th {\n",
       "        text-align: right;\n",
       "    }\n",
       "</style>\n",
       "<table border=\"1\" class=\"dataframe\">\n",
       "  <thead>\n",
       "    <tr style=\"text-align: right;\">\n",
       "      <th></th>\n",
       "      <th>time</th>\n",
       "      <th>data</th>\n",
       "    </tr>\n",
       "  </thead>\n",
       "  <tbody>\n",
       "    <tr>\n",
       "      <td>20</td>\n",
       "      <td>0.20</td>\n",
       "      <td>NaN</td>\n",
       "    </tr>\n",
       "    <tr>\n",
       "      <td>547</td>\n",
       "      <td>5.47</td>\n",
       "      <td>NaN</td>\n",
       "    </tr>\n",
       "    <tr>\n",
       "      <td>1125</td>\n",
       "      <td>11.25</td>\n",
       "      <td>NaN</td>\n",
       "    </tr>\n",
       "    <tr>\n",
       "      <td>2200</td>\n",
       "      <td>22.00</td>\n",
       "      <td>NaN</td>\n",
       "    </tr>\n",
       "  </tbody>\n",
       "</table>\n",
       "</div>"
      ],
      "text/plain": [
       "       time  data\n",
       "20     0.20   NaN\n",
       "547    5.47   NaN\n",
       "1125  11.25   NaN\n",
       "2200  22.00   NaN"
      ]
     },
     "execution_count": 101,
     "metadata": {},
     "output_type": "execute_result"
    }
   ],
   "source": [
    "timedata1['data'][condition] = np.nan\n",
    "timedata1[condition]"
   ]
  },
  {
   "cell_type": "code",
   "execution_count": 102,
   "metadata": {},
   "outputs": [
    {
     "data": {
      "text/plain": [
       "<matplotlib.axes._subplots.AxesSubplot at 0x17c008a1448>"
      ]
     },
     "execution_count": 102,
     "metadata": {},
     "output_type": "execute_result"
    },
    {
     "data": {
      "image/png": "[encoded data removed]",
      "text/plain": [
       "<Figure size 432x288 with 1 Axes>"
      ]
     },
     "metadata": {
      "needs_background": "light"
     },
     "output_type": "display_data"
    }
   ],
   "source": [
    "timedata1.fillna(method= 'pad')\n",
    "timedata1['data'].plot() # 这个方法比较优秀"
   ]
  },
  {
   "cell_type": "markdown",
   "metadata": {},
   "source": [
    "### 8.4.4 滤波方法"
   ]
  },
  {
   "cell_type": "code",
   "execution_count": 103,
   "metadata": {},
   "outputs": [],
   "source": [
    "# 如果噪点比较多呢？"
   ]
  },
  {
   "cell_type": "code",
   "execution_count": 104,
   "metadata": {},
   "outputs": [],
   "source": [
    "from scipy import signal\n",
    "\n",
    "timedata3 = timedata.copy()"
   ]
  },
  {
   "cell_type": "code",
   "execution_count": 105,
   "metadata": {},
   "outputs": [],
   "source": [
    "b, a = signal.butter(8, 0.01, 'lowpass') \n",
    "filtedData = signal.filtfilt(b, a, timedata3['data'] )\n"
   ]
  },
  {
   "cell_type": "code",
   "execution_count": 106,
   "metadata": {},
   "outputs": [
    {
     "name": "stdout",
     "output_type": "stream",
     "text": [
      "Help on function butter in module scipy.signal.filter_design:\n",
      "\n",
      "butter(N, Wn, btype='low', analog=False, output='ba', fs=None)\n",
      "    Butterworth digital and analog filter design.\n",
      "    \n",
      "    Design an Nth-order digital or analog Butterworth filter and return\n",
      "    the filter coefficients.\n",
      "    \n",
      "    Parameters\n",
      "    ----------\n",
      "    N : int\n",
      "        The order of the filter.\n",
      "    Wn : array_like\n",
      "        A scalar or length-2 sequence giving the critical frequencies.\n",
      "        For a Butterworth filter, this is the point at which the gain\n",
      "        drops to 1/sqrt(2) that of the passband (the \"-3 dB point\").\n",
      "    \n",
      "        For digital filters, `Wn` are in the same units as `fs`.  By default,\n",
      "        `fs` is 2 half-cycles/sample, so these are normalized from 0 to 1,\n",
      "        where 1 is the Nyquist frequency.  (`Wn` is thus in\n",
      "        half-cycles / sample.)\n",
      "    \n",
      "        For analog filters, `Wn` is an angular frequency (e.g. rad/s).\n",
      "    btype : {'lowpass', 'highpass', 'bandpass', 'bandstop'}, optional\n",
      "        The type of filter.  Default is 'lowpass'.\n",
      "    analog : bool, optional\n",
      "        When True, return an analog filter, otherwise a digital filter is\n",
      "        returned.\n",
      "    output : {'ba', 'zpk', 'sos'}, optional\n",
      "        Type of output:  numerator/denominator ('ba'), pole-zero ('zpk'), or\n",
      "        second-order sections ('sos'). Default is 'ba'.\n",
      "    fs : float, optional\n",
      "        The sampling frequency of the digital system.\n",
      "    \n",
      "        .. versionadded:: 1.2.0\n",
      "    \n",
      "    Returns\n",
      "    -------\n",
      "    b, a : ndarray, ndarray\n",
      "        Numerator (`b`) and denominator (`a`) polynomials of the IIR filter.\n",
      "        Only returned if ``output='ba'``.\n",
      "    z, p, k : ndarray, ndarray, float\n",
      "        Zeros, poles, and system gain of the IIR filter transfer\n",
      "        function.  Only returned if ``output='zpk'``.\n",
      "    sos : ndarray\n",
      "        Second-order sections representation of the IIR filter.\n",
      "        Only returned if ``output=='sos'``.\n",
      "    \n",
      "    See Also\n",
      "    --------\n",
      "    buttord, buttap\n",
      "    \n",
      "    Notes\n",
      "    -----\n",
      "    The Butterworth filter has maximally flat frequency response in the\n",
      "    passband.\n",
      "    \n",
      "    The ``'sos'`` output parameter was added in 0.16.0.\n",
      "    \n",
      "    Examples\n",
      "    --------\n",
      "    Design an analog filter and plot its frequency response, showing the\n",
      "    critical points:\n",
      "    \n",
      "    >>> from scipy import signal\n",
      "    >>> import matplotlib.pyplot as plt\n",
      "    \n",
      "    >>> b, a = signal.butter(4, 100, 'low', analog=True)\n",
      "    >>> w, h = signal.freqs(b, a)\n",
      "    >>> plt.semilogx(w, 20 * np.log10(abs(h)))\n",
      "    >>> plt.title('Butterworth filter frequency response')\n",
      "    >>> plt.xlabel('Frequency [radians / second]')\n",
      "    >>> plt.ylabel('Amplitude [dB]')\n",
      "    >>> plt.margins(0, 0.1)\n",
      "    >>> plt.grid(which='both', axis='both')\n",
      "    >>> plt.axvline(100, color='green') # cutoff frequency\n",
      "    >>> plt.show()\n",
      "    \n",
      "    Generate a signal made up of 10 Hz and 20 Hz, sampled at 1 kHz\n",
      "    \n",
      "    >>> t = np.linspace(0, 1, 1000, False)  # 1 second\n",
      "    >>> sig = np.sin(2*np.pi*10*t) + np.sin(2*np.pi*20*t)\n",
      "    >>> fig, (ax1, ax2) = plt.subplots(2, 1, sharex=True)\n",
      "    >>> ax1.plot(t, sig)\n",
      "    >>> ax1.set_title('10 Hz and 20 Hz sinusoids')\n",
      "    >>> ax1.axis([0, 1, -2, 2])\n",
      "    \n",
      "    Design a digital high-pass filter at 15 Hz to remove the 10 Hz tone, and\n",
      "    apply it to the signal.  (It's recommended to use second-order sections\n",
      "    format when filtering, to avoid numerical error with transfer function\n",
      "    (``ba``) format):\n",
      "    \n",
      "    >>> sos = signal.butter(10, 15, 'hp', fs=1000, output='sos')\n",
      "    >>> filtered = signal.sosfilt(sos, sig)\n",
      "    >>> ax2.plot(t, filtered)\n",
      "    >>> ax2.set_title('After 15 Hz high-pass filter')\n",
      "    >>> ax2.axis([0, 1, -2, 2])\n",
      "    >>> ax2.set_xlabel('Time [seconds]')\n",
      "    >>> plt.tight_layout()\n",
      "    >>> plt.show()\n",
      "\n"
     ]
    }
   ],
   "source": [
    "help(signal.butter)"
   ]
  },
  {
   "cell_type": "code",
   "execution_count": 107,
   "metadata": {},
   "outputs": [
    {
     "data": {
      "text/plain": [
       "(-2, 2)"
      ]
     },
     "execution_count": 107,
     "metadata": {},
     "output_type": "execute_result"
    },
    {
     "data": {
      "image/png": "[encoded data removed]",
      "text/plain": [
       "<Figure size 432x288 with 1 Axes>"
      ]
     },
     "metadata": {
      "needs_background": "light"
     },
     "output_type": "display_data"
    }
   ],
   "source": [
    "plt.plot(timedata['time'],filtedData,timedata['time'],timedata3['data'])\n",
    "plt.ylim([-2,2])"
   ]
  },
  {
   "cell_type": "markdown",
   "metadata": {},
   "source": [
    "### 8.4.5 缺失时间点"
   ]
  },
  {
   "cell_type": "code",
   "execution_count": 108,
   "metadata": {},
   "outputs": [
    {
     "data": {
      "text/html": [
       "<div>\n",
       "<style scoped>\n",
       "    .dataframe tbody tr th:only-of-type {\n",
       "        vertical-align: middle;\n",
       "    }\n",
       "\n",
       "    .dataframe tbody tr th {\n",
       "        vertical-align: top;\n",
       "    }\n",
       "\n",
       "    .dataframe thead th {\n",
       "        text-align: right;\n",
       "    }\n",
       "</style>\n",
       "<table border=\"1\" class=\"dataframe\">\n",
       "  <thead>\n",
       "    <tr style=\"text-align: right;\">\n",
       "      <th></th>\n",
       "      <th>time</th>\n",
       "      <th>data</th>\n",
       "    </tr>\n",
       "  </thead>\n",
       "  <tbody>\n",
       "    <tr>\n",
       "      <td>0</td>\n",
       "      <td>0.00</td>\n",
       "      <td>0.000000</td>\n",
       "    </tr>\n",
       "    <tr>\n",
       "      <td>1</td>\n",
       "      <td>0.01</td>\n",
       "      <td>0.014000</td>\n",
       "    </tr>\n",
       "    <tr>\n",
       "      <td>2</td>\n",
       "      <td>0.02</td>\n",
       "      <td>0.027999</td>\n",
       "    </tr>\n",
       "    <tr>\n",
       "      <td>3</td>\n",
       "      <td>0.03</td>\n",
       "      <td>0.041995</td>\n",
       "    </tr>\n",
       "    <tr>\n",
       "      <td>4</td>\n",
       "      <td>0.04</td>\n",
       "      <td>0.055989</td>\n",
       "    </tr>\n",
       "    <tr>\n",
       "      <td>...</td>\n",
       "      <td>...</td>\n",
       "      <td>...</td>\n",
       "    </tr>\n",
       "    <tr>\n",
       "      <td>2994</td>\n",
       "      <td>29.94</td>\n",
       "      <td>-1.552172</td>\n",
       "    </tr>\n",
       "    <tr>\n",
       "      <td>2995</td>\n",
       "      <td>29.95</td>\n",
       "      <td>-1.547848</td>\n",
       "    </tr>\n",
       "    <tr>\n",
       "      <td>2996</td>\n",
       "      <td>29.96</td>\n",
       "      <td>-1.543415</td>\n",
       "    </tr>\n",
       "    <tr>\n",
       "      <td>2997</td>\n",
       "      <td>29.97</td>\n",
       "      <td>-1.538874</td>\n",
       "    </tr>\n",
       "    <tr>\n",
       "      <td>2998</td>\n",
       "      <td>29.98</td>\n",
       "      <td>-1.534225</td>\n",
       "    </tr>\n",
       "  </tbody>\n",
       "</table>\n",
       "<p>2999 rows × 2 columns</p>\n",
       "</div>"
      ],
      "text/plain": [
       "       time      data\n",
       "0      0.00  0.000000\n",
       "1      0.01  0.014000\n",
       "2      0.02  0.027999\n",
       "3      0.03  0.041995\n",
       "4      0.04  0.055989\n",
       "...     ...       ...\n",
       "2994  29.94 -1.552172\n",
       "2995  29.95 -1.547848\n",
       "2996  29.96 -1.543415\n",
       "2997  29.97 -1.538874\n",
       "2998  29.98 -1.534225\n",
       "\n",
       "[2999 rows x 2 columns]"
      ]
     },
     "execution_count": 108,
     "metadata": {},
     "output_type": "execute_result"
    }
   ],
   "source": [
    "timedata = pd.read_excel('时间序列.xlsx', index_col=None, header=None, names=['time', 'data'])\n",
    "timedata"
   ]
  },
  {
   "cell_type": "code",
   "execution_count": 109,
   "metadata": {},
   "outputs": [],
   "source": [
    "import random\n",
    "deleIndex = random.sample(range(1, len(timedata)), 50)"
   ]
  },
  {
   "cell_type": "code",
   "execution_count": 110,
   "metadata": {},
   "outputs": [
    {
     "data": {
      "text/html": [
       "<div>\n",
       "<style scoped>\n",
       "    .dataframe tbody tr th:only-of-type {\n",
       "        vertical-align: middle;\n",
       "    }\n",
       "\n",
       "    .dataframe tbody tr th {\n",
       "        vertical-align: top;\n",
       "    }\n",
       "\n",
       "    .dataframe thead th {\n",
       "        text-align: right;\n",
       "    }\n",
       "</style>\n",
       "<table border=\"1\" class=\"dataframe\">\n",
       "  <thead>\n",
       "    <tr style=\"text-align: right;\">\n",
       "      <th></th>\n",
       "      <th>time</th>\n",
       "      <th>data</th>\n",
       "    </tr>\n",
       "  </thead>\n",
       "  <tbody>\n",
       "    <tr>\n",
       "      <td>count</td>\n",
       "      <td>2949.000000</td>\n",
       "      <td>2949.000000</td>\n",
       "    </tr>\n",
       "    <tr>\n",
       "      <td>mean</td>\n",
       "      <td>15.022815</td>\n",
       "      <td>0.030712</td>\n",
       "    </tr>\n",
       "    <tr>\n",
       "      <td>std</td>\n",
       "      <td>8.645867</td>\n",
       "      <td>1.125303</td>\n",
       "    </tr>\n",
       "    <tr>\n",
       "      <td>min</td>\n",
       "      <td>0.000000</td>\n",
       "      <td>-20.500000</td>\n",
       "    </tr>\n",
       "    <tr>\n",
       "      <td>25%</td>\n",
       "      <td>7.540000</td>\n",
       "      <td>-0.641623</td>\n",
       "    </tr>\n",
       "    <tr>\n",
       "      <td>50%</td>\n",
       "      <td>15.040000</td>\n",
       "      <td>0.033082</td>\n",
       "    </tr>\n",
       "    <tr>\n",
       "      <td>75%</td>\n",
       "      <td>22.500000</td>\n",
       "      <td>0.786168</td>\n",
       "    </tr>\n",
       "    <tr>\n",
       "      <td>max</td>\n",
       "      <td>29.980000</td>\n",
       "      <td>10.590000</td>\n",
       "    </tr>\n",
       "  </tbody>\n",
       "</table>\n",
       "</div>"
      ],
      "text/plain": [
       "              time         data\n",
       "count  2949.000000  2949.000000\n",
       "mean     15.022815     0.030712\n",
       "std       8.645867     1.125303\n",
       "min       0.000000   -20.500000\n",
       "25%       7.540000    -0.641623\n",
       "50%      15.040000     0.033082\n",
       "75%      22.500000     0.786168\n",
       "max      29.980000    10.590000"
      ]
     },
     "execution_count": 110,
     "metadata": {},
     "output_type": "execute_result"
    }
   ],
   "source": [
    "timedata5 = timedata.drop(index=deleIndex)\n",
    "timedata5.describe()"
   ]
  },
  {
   "cell_type": "code",
   "execution_count": 111,
   "metadata": {},
   "outputs": [],
   "source": [
    "# 这些位置的点故意删掉，形成缺失数据\n",
    "deleTimes = set(np.arange(0, 2998+1, 1)) - set(np.array(timedata5['time']*100+0.01).astype(int))  # 注：+0.01 考虑浮点转整型的精度损失"
   ]
  },
  {
   "cell_type": "code",
   "execution_count": 112,
   "metadata": {},
   "outputs": [
    {
     "data": {
      "text/plain": [
       "array([14.11,  8.07, 17.94,  0.08, 27.7 , 17.  , 27.43, 10.11, 24.58,\n",
       "        1.79, 29.88, 26.57,  3.07, 22.55, 19.56,  4.51, 25.75, 19.12,\n",
       "        0.13, 11.04, 12.16,  5.5 , 19.96, 10.43, 14.38,  1.48,  8.09,\n",
       "       18.48,  7.94, 22.94,  3.55,  4.99, 29.84,  9.6 , 19.59,  8.21,\n",
       "        4.05, 20.87,  0.74, 29.8 ,  4.31, 13.71,  4.56, 17.83, 23.04,\n",
       "        5.87,  6.14,  2.24,  1.02, 10.42])"
      ]
     },
     "execution_count": 112,
     "metadata": {},
     "output_type": "execute_result"
    }
   ],
   "source": [
    "deleTimes = np.array(list(deleIndex)) / 100\n",
    "deleTimes"
   ]
  },
  {
   "cell_type": "code",
   "execution_count": 113,
   "metadata": {},
   "outputs": [
    {
     "data": {
      "text/html": [
       "<div>\n",
       "<style scoped>\n",
       "    .dataframe tbody tr th:only-of-type {\n",
       "        vertical-align: middle;\n",
       "    }\n",
       "\n",
       "    .dataframe tbody tr th {\n",
       "        vertical-align: top;\n",
       "    }\n",
       "\n",
       "    .dataframe thead th {\n",
       "        text-align: right;\n",
       "    }\n",
       "</style>\n",
       "<table border=\"1\" class=\"dataframe\">\n",
       "  <thead>\n",
       "    <tr style=\"text-align: right;\">\n",
       "      <th></th>\n",
       "      <th>time</th>\n",
       "    </tr>\n",
       "  </thead>\n",
       "  <tbody>\n",
       "    <tr>\n",
       "      <td>0</td>\n",
       "      <td>14.11</td>\n",
       "    </tr>\n",
       "    <tr>\n",
       "      <td>1</td>\n",
       "      <td>8.07</td>\n",
       "    </tr>\n",
       "    <tr>\n",
       "      <td>2</td>\n",
       "      <td>17.94</td>\n",
       "    </tr>\n",
       "    <tr>\n",
       "      <td>3</td>\n",
       "      <td>0.08</td>\n",
       "    </tr>\n",
       "    <tr>\n",
       "      <td>4</td>\n",
       "      <td>27.70</td>\n",
       "    </tr>\n",
       "    <tr>\n",
       "      <td>5</td>\n",
       "      <td>17.00</td>\n",
       "    </tr>\n",
       "    <tr>\n",
       "      <td>6</td>\n",
       "      <td>27.43</td>\n",
       "    </tr>\n",
       "    <tr>\n",
       "      <td>7</td>\n",
       "      <td>10.11</td>\n",
       "    </tr>\n",
       "    <tr>\n",
       "      <td>8</td>\n",
       "      <td>24.58</td>\n",
       "    </tr>\n",
       "    <tr>\n",
       "      <td>9</td>\n",
       "      <td>1.79</td>\n",
       "    </tr>\n",
       "    <tr>\n",
       "      <td>10</td>\n",
       "      <td>29.88</td>\n",
       "    </tr>\n",
       "    <tr>\n",
       "      <td>11</td>\n",
       "      <td>26.57</td>\n",
       "    </tr>\n",
       "    <tr>\n",
       "      <td>12</td>\n",
       "      <td>3.07</td>\n",
       "    </tr>\n",
       "    <tr>\n",
       "      <td>13</td>\n",
       "      <td>22.55</td>\n",
       "    </tr>\n",
       "    <tr>\n",
       "      <td>14</td>\n",
       "      <td>19.56</td>\n",
       "    </tr>\n",
       "    <tr>\n",
       "      <td>15</td>\n",
       "      <td>4.51</td>\n",
       "    </tr>\n",
       "    <tr>\n",
       "      <td>16</td>\n",
       "      <td>25.75</td>\n",
       "    </tr>\n",
       "    <tr>\n",
       "      <td>17</td>\n",
       "      <td>19.12</td>\n",
       "    </tr>\n",
       "    <tr>\n",
       "      <td>18</td>\n",
       "      <td>0.13</td>\n",
       "    </tr>\n",
       "    <tr>\n",
       "      <td>19</td>\n",
       "      <td>11.04</td>\n",
       "    </tr>\n",
       "    <tr>\n",
       "      <td>20</td>\n",
       "      <td>12.16</td>\n",
       "    </tr>\n",
       "    <tr>\n",
       "      <td>21</td>\n",
       "      <td>5.50</td>\n",
       "    </tr>\n",
       "    <tr>\n",
       "      <td>22</td>\n",
       "      <td>19.96</td>\n",
       "    </tr>\n",
       "    <tr>\n",
       "      <td>23</td>\n",
       "      <td>10.43</td>\n",
       "    </tr>\n",
       "    <tr>\n",
       "      <td>24</td>\n",
       "      <td>14.38</td>\n",
       "    </tr>\n",
       "    <tr>\n",
       "      <td>25</td>\n",
       "      <td>1.48</td>\n",
       "    </tr>\n",
       "    <tr>\n",
       "      <td>26</td>\n",
       "      <td>8.09</td>\n",
       "    </tr>\n",
       "    <tr>\n",
       "      <td>27</td>\n",
       "      <td>18.48</td>\n",
       "    </tr>\n",
       "    <tr>\n",
       "      <td>28</td>\n",
       "      <td>7.94</td>\n",
       "    </tr>\n",
       "    <tr>\n",
       "      <td>29</td>\n",
       "      <td>22.94</td>\n",
       "    </tr>\n",
       "    <tr>\n",
       "      <td>30</td>\n",
       "      <td>3.55</td>\n",
       "    </tr>\n",
       "    <tr>\n",
       "      <td>31</td>\n",
       "      <td>4.99</td>\n",
       "    </tr>\n",
       "    <tr>\n",
       "      <td>32</td>\n",
       "      <td>29.84</td>\n",
       "    </tr>\n",
       "    <tr>\n",
       "      <td>33</td>\n",
       "      <td>9.60</td>\n",
       "    </tr>\n",
       "    <tr>\n",
       "      <td>34</td>\n",
       "      <td>19.59</td>\n",
       "    </tr>\n",
       "    <tr>\n",
       "      <td>35</td>\n",
       "      <td>8.21</td>\n",
       "    </tr>\n",
       "    <tr>\n",
       "      <td>36</td>\n",
       "      <td>4.05</td>\n",
       "    </tr>\n",
       "    <tr>\n",
       "      <td>37</td>\n",
       "      <td>20.87</td>\n",
       "    </tr>\n",
       "    <tr>\n",
       "      <td>38</td>\n",
       "      <td>0.74</td>\n",
       "    </tr>\n",
       "    <tr>\n",
       "      <td>39</td>\n",
       "      <td>29.80</td>\n",
       "    </tr>\n",
       "    <tr>\n",
       "      <td>40</td>\n",
       "      <td>4.31</td>\n",
       "    </tr>\n",
       "    <tr>\n",
       "      <td>41</td>\n",
       "      <td>13.71</td>\n",
       "    </tr>\n",
       "    <tr>\n",
       "      <td>42</td>\n",
       "      <td>4.56</td>\n",
       "    </tr>\n",
       "    <tr>\n",
       "      <td>43</td>\n",
       "      <td>17.83</td>\n",
       "    </tr>\n",
       "    <tr>\n",
       "      <td>44</td>\n",
       "      <td>23.04</td>\n",
       "    </tr>\n",
       "    <tr>\n",
       "      <td>45</td>\n",
       "      <td>5.87</td>\n",
       "    </tr>\n",
       "    <tr>\n",
       "      <td>46</td>\n",
       "      <td>6.14</td>\n",
       "    </tr>\n",
       "    <tr>\n",
       "      <td>47</td>\n",
       "      <td>2.24</td>\n",
       "    </tr>\n",
       "    <tr>\n",
       "      <td>48</td>\n",
       "      <td>1.02</td>\n",
       "    </tr>\n",
       "    <tr>\n",
       "      <td>49</td>\n",
       "      <td>10.42</td>\n",
       "    </tr>\n",
       "  </tbody>\n",
       "</table>\n",
       "</div>"
      ],
      "text/plain": [
       "     time\n",
       "0   14.11\n",
       "1    8.07\n",
       "2   17.94\n",
       "3    0.08\n",
       "4   27.70\n",
       "5   17.00\n",
       "6   27.43\n",
       "7   10.11\n",
       "8   24.58\n",
       "9    1.79\n",
       "10  29.88\n",
       "11  26.57\n",
       "12   3.07\n",
       "13  22.55\n",
       "14  19.56\n",
       "15   4.51\n",
       "16  25.75\n",
       "17  19.12\n",
       "18   0.13\n",
       "19  11.04\n",
       "20  12.16\n",
       "21   5.50\n",
       "22  19.96\n",
       "23  10.43\n",
       "24  14.38\n",
       "25   1.48\n",
       "26   8.09\n",
       "27  18.48\n",
       "28   7.94\n",
       "29  22.94\n",
       "30   3.55\n",
       "31   4.99\n",
       "32  29.84\n",
       "33   9.60\n",
       "34  19.59\n",
       "35   8.21\n",
       "36   4.05\n",
       "37  20.87\n",
       "38   0.74\n",
       "39  29.80\n",
       "40   4.31\n",
       "41  13.71\n",
       "42   4.56\n",
       "43  17.83\n",
       "44  23.04\n",
       "45   5.87\n",
       "46   6.14\n",
       "47   2.24\n",
       "48   1.02\n",
       "49  10.42"
      ]
     },
     "execution_count": 113,
     "metadata": {},
     "output_type": "execute_result"
    }
   ],
   "source": [
    "missingData = pd.DataFrame(data={'time': deleTimes})\n",
    "missingData"
   ]
  },
  {
   "cell_type": "code",
   "execution_count": 114,
   "metadata": {},
   "outputs": [
    {
     "data": {
      "text/html": [
       "<div>\n",
       "<style scoped>\n",
       "    .dataframe tbody tr th:only-of-type {\n",
       "        vertical-align: middle;\n",
       "    }\n",
       "\n",
       "    .dataframe tbody tr th {\n",
       "        vertical-align: top;\n",
       "    }\n",
       "\n",
       "    .dataframe thead th {\n",
       "        text-align: right;\n",
       "    }\n",
       "</style>\n",
       "<table border=\"1\" class=\"dataframe\">\n",
       "  <thead>\n",
       "    <tr style=\"text-align: right;\">\n",
       "      <th></th>\n",
       "      <th>data</th>\n",
       "      <th>time</th>\n",
       "    </tr>\n",
       "  </thead>\n",
       "  <tbody>\n",
       "    <tr>\n",
       "      <td>0</td>\n",
       "      <td>0.000000</td>\n",
       "      <td>0.00</td>\n",
       "    </tr>\n",
       "    <tr>\n",
       "      <td>1</td>\n",
       "      <td>0.014000</td>\n",
       "      <td>0.01</td>\n",
       "    </tr>\n",
       "    <tr>\n",
       "      <td>2</td>\n",
       "      <td>0.027999</td>\n",
       "      <td>0.02</td>\n",
       "    </tr>\n",
       "    <tr>\n",
       "      <td>3</td>\n",
       "      <td>0.041995</td>\n",
       "      <td>0.03</td>\n",
       "    </tr>\n",
       "    <tr>\n",
       "      <td>4</td>\n",
       "      <td>0.055989</td>\n",
       "      <td>0.04</td>\n",
       "    </tr>\n",
       "    <tr>\n",
       "      <td>...</td>\n",
       "      <td>...</td>\n",
       "      <td>...</td>\n",
       "    </tr>\n",
       "    <tr>\n",
       "      <td>2944</td>\n",
       "      <td>-1.552172</td>\n",
       "      <td>29.94</td>\n",
       "    </tr>\n",
       "    <tr>\n",
       "      <td>2945</td>\n",
       "      <td>-1.547848</td>\n",
       "      <td>29.95</td>\n",
       "    </tr>\n",
       "    <tr>\n",
       "      <td>2946</td>\n",
       "      <td>-1.543415</td>\n",
       "      <td>29.96</td>\n",
       "    </tr>\n",
       "    <tr>\n",
       "      <td>2947</td>\n",
       "      <td>-1.538874</td>\n",
       "      <td>29.97</td>\n",
       "    </tr>\n",
       "    <tr>\n",
       "      <td>2948</td>\n",
       "      <td>-1.534225</td>\n",
       "      <td>29.98</td>\n",
       "    </tr>\n",
       "  </tbody>\n",
       "</table>\n",
       "<p>2999 rows × 2 columns</p>\n",
       "</div>"
      ],
      "text/plain": [
       "          data   time\n",
       "0     0.000000   0.00\n",
       "1     0.014000   0.01\n",
       "2     0.027999   0.02\n",
       "3     0.041995   0.03\n",
       "4     0.055989   0.04\n",
       "...        ...    ...\n",
       "2944 -1.552172  29.94\n",
       "2945 -1.547848  29.95\n",
       "2946 -1.543415  29.96\n",
       "2947 -1.538874  29.97\n",
       "2948 -1.534225  29.98\n",
       "\n",
       "[2999 rows x 2 columns]"
      ]
     },
     "execution_count": 114,
     "metadata": {},
     "output_type": "execute_result"
    }
   ],
   "source": [
    "timeComple = timedata5.append(missingData, ignore_index=True, sort=True).sort_values('time')\n",
    "timeComple"
   ]
  },
  {
   "cell_type": "code",
   "execution_count": 115,
   "metadata": {},
   "outputs": [
    {
     "data": {
      "text/html": [
       "<div>\n",
       "<style scoped>\n",
       "    .dataframe tbody tr th:only-of-type {\n",
       "        vertical-align: middle;\n",
       "    }\n",
       "\n",
       "    .dataframe tbody tr th {\n",
       "        vertical-align: top;\n",
       "    }\n",
       "\n",
       "    .dataframe thead th {\n",
       "        text-align: right;\n",
       "    }\n",
       "</style>\n",
       "<table border=\"1\" class=\"dataframe\">\n",
       "  <thead>\n",
       "    <tr style=\"text-align: right;\">\n",
       "      <th></th>\n",
       "      <th>data</th>\n",
       "      <th>time</th>\n",
       "    </tr>\n",
       "  </thead>\n",
       "  <tbody>\n",
       "    <tr>\n",
       "      <td>2952</td>\n",
       "      <td>NaN</td>\n",
       "      <td>0.08</td>\n",
       "    </tr>\n",
       "    <tr>\n",
       "      <td>2967</td>\n",
       "      <td>NaN</td>\n",
       "      <td>0.13</td>\n",
       "    </tr>\n",
       "    <tr>\n",
       "      <td>2987</td>\n",
       "      <td>NaN</td>\n",
       "      <td>0.74</td>\n",
       "    </tr>\n",
       "    <tr>\n",
       "      <td>2997</td>\n",
       "      <td>NaN</td>\n",
       "      <td>1.02</td>\n",
       "    </tr>\n",
       "    <tr>\n",
       "      <td>2974</td>\n",
       "      <td>NaN</td>\n",
       "      <td>1.48</td>\n",
       "    </tr>\n",
       "    <tr>\n",
       "      <td>2958</td>\n",
       "      <td>NaN</td>\n",
       "      <td>1.79</td>\n",
       "    </tr>\n",
       "    <tr>\n",
       "      <td>2996</td>\n",
       "      <td>NaN</td>\n",
       "      <td>2.24</td>\n",
       "    </tr>\n",
       "    <tr>\n",
       "      <td>2961</td>\n",
       "      <td>NaN</td>\n",
       "      <td>3.07</td>\n",
       "    </tr>\n",
       "    <tr>\n",
       "      <td>2979</td>\n",
       "      <td>NaN</td>\n",
       "      <td>3.55</td>\n",
       "    </tr>\n",
       "    <tr>\n",
       "      <td>2985</td>\n",
       "      <td>NaN</td>\n",
       "      <td>4.05</td>\n",
       "    </tr>\n",
       "    <tr>\n",
       "      <td>2989</td>\n",
       "      <td>NaN</td>\n",
       "      <td>4.31</td>\n",
       "    </tr>\n",
       "    <tr>\n",
       "      <td>2964</td>\n",
       "      <td>NaN</td>\n",
       "      <td>4.51</td>\n",
       "    </tr>\n",
       "    <tr>\n",
       "      <td>2991</td>\n",
       "      <td>NaN</td>\n",
       "      <td>4.56</td>\n",
       "    </tr>\n",
       "    <tr>\n",
       "      <td>2980</td>\n",
       "      <td>NaN</td>\n",
       "      <td>4.99</td>\n",
       "    </tr>\n",
       "    <tr>\n",
       "      <td>2970</td>\n",
       "      <td>NaN</td>\n",
       "      <td>5.50</td>\n",
       "    </tr>\n",
       "    <tr>\n",
       "      <td>2994</td>\n",
       "      <td>NaN</td>\n",
       "      <td>5.87</td>\n",
       "    </tr>\n",
       "    <tr>\n",
       "      <td>2995</td>\n",
       "      <td>NaN</td>\n",
       "      <td>6.14</td>\n",
       "    </tr>\n",
       "    <tr>\n",
       "      <td>2977</td>\n",
       "      <td>NaN</td>\n",
       "      <td>7.94</td>\n",
       "    </tr>\n",
       "    <tr>\n",
       "      <td>2950</td>\n",
       "      <td>NaN</td>\n",
       "      <td>8.07</td>\n",
       "    </tr>\n",
       "    <tr>\n",
       "      <td>2975</td>\n",
       "      <td>NaN</td>\n",
       "      <td>8.09</td>\n",
       "    </tr>\n",
       "    <tr>\n",
       "      <td>2984</td>\n",
       "      <td>NaN</td>\n",
       "      <td>8.21</td>\n",
       "    </tr>\n",
       "    <tr>\n",
       "      <td>2982</td>\n",
       "      <td>NaN</td>\n",
       "      <td>9.60</td>\n",
       "    </tr>\n",
       "    <tr>\n",
       "      <td>2956</td>\n",
       "      <td>NaN</td>\n",
       "      <td>10.11</td>\n",
       "    </tr>\n",
       "    <tr>\n",
       "      <td>2998</td>\n",
       "      <td>NaN</td>\n",
       "      <td>10.42</td>\n",
       "    </tr>\n",
       "    <tr>\n",
       "      <td>2972</td>\n",
       "      <td>NaN</td>\n",
       "      <td>10.43</td>\n",
       "    </tr>\n",
       "    <tr>\n",
       "      <td>2968</td>\n",
       "      <td>NaN</td>\n",
       "      <td>11.04</td>\n",
       "    </tr>\n",
       "    <tr>\n",
       "      <td>2969</td>\n",
       "      <td>NaN</td>\n",
       "      <td>12.16</td>\n",
       "    </tr>\n",
       "    <tr>\n",
       "      <td>2990</td>\n",
       "      <td>NaN</td>\n",
       "      <td>13.71</td>\n",
       "    </tr>\n",
       "    <tr>\n",
       "      <td>2949</td>\n",
       "      <td>NaN</td>\n",
       "      <td>14.11</td>\n",
       "    </tr>\n",
       "    <tr>\n",
       "      <td>2973</td>\n",
       "      <td>NaN</td>\n",
       "      <td>14.38</td>\n",
       "    </tr>\n",
       "    <tr>\n",
       "      <td>2954</td>\n",
       "      <td>NaN</td>\n",
       "      <td>17.00</td>\n",
       "    </tr>\n",
       "    <tr>\n",
       "      <td>2992</td>\n",
       "      <td>NaN</td>\n",
       "      <td>17.83</td>\n",
       "    </tr>\n",
       "    <tr>\n",
       "      <td>2951</td>\n",
       "      <td>NaN</td>\n",
       "      <td>17.94</td>\n",
       "    </tr>\n",
       "    <tr>\n",
       "      <td>2976</td>\n",
       "      <td>NaN</td>\n",
       "      <td>18.48</td>\n",
       "    </tr>\n",
       "    <tr>\n",
       "      <td>2966</td>\n",
       "      <td>NaN</td>\n",
       "      <td>19.12</td>\n",
       "    </tr>\n",
       "    <tr>\n",
       "      <td>2963</td>\n",
       "      <td>NaN</td>\n",
       "      <td>19.56</td>\n",
       "    </tr>\n",
       "    <tr>\n",
       "      <td>2983</td>\n",
       "      <td>NaN</td>\n",
       "      <td>19.59</td>\n",
       "    </tr>\n",
       "    <tr>\n",
       "      <td>2971</td>\n",
       "      <td>NaN</td>\n",
       "      <td>19.96</td>\n",
       "    </tr>\n",
       "    <tr>\n",
       "      <td>2986</td>\n",
       "      <td>NaN</td>\n",
       "      <td>20.87</td>\n",
       "    </tr>\n",
       "    <tr>\n",
       "      <td>2962</td>\n",
       "      <td>NaN</td>\n",
       "      <td>22.55</td>\n",
       "    </tr>\n",
       "    <tr>\n",
       "      <td>2978</td>\n",
       "      <td>NaN</td>\n",
       "      <td>22.94</td>\n",
       "    </tr>\n",
       "    <tr>\n",
       "      <td>2993</td>\n",
       "      <td>NaN</td>\n",
       "      <td>23.04</td>\n",
       "    </tr>\n",
       "    <tr>\n",
       "      <td>2957</td>\n",
       "      <td>NaN</td>\n",
       "      <td>24.58</td>\n",
       "    </tr>\n",
       "    <tr>\n",
       "      <td>2965</td>\n",
       "      <td>NaN</td>\n",
       "      <td>25.75</td>\n",
       "    </tr>\n",
       "    <tr>\n",
       "      <td>2960</td>\n",
       "      <td>NaN</td>\n",
       "      <td>26.57</td>\n",
       "    </tr>\n",
       "    <tr>\n",
       "      <td>2955</td>\n",
       "      <td>NaN</td>\n",
       "      <td>27.43</td>\n",
       "    </tr>\n",
       "    <tr>\n",
       "      <td>2953</td>\n",
       "      <td>NaN</td>\n",
       "      <td>27.70</td>\n",
       "    </tr>\n",
       "    <tr>\n",
       "      <td>2988</td>\n",
       "      <td>NaN</td>\n",
       "      <td>29.80</td>\n",
       "    </tr>\n",
       "    <tr>\n",
       "      <td>2981</td>\n",
       "      <td>NaN</td>\n",
       "      <td>29.84</td>\n",
       "    </tr>\n",
       "    <tr>\n",
       "      <td>2959</td>\n",
       "      <td>NaN</td>\n",
       "      <td>29.88</td>\n",
       "    </tr>\n",
       "  </tbody>\n",
       "</table>\n",
       "</div>"
      ],
      "text/plain": [
       "      data   time\n",
       "2952   NaN   0.08\n",
       "2967   NaN   0.13\n",
       "2987   NaN   0.74\n",
       "2997   NaN   1.02\n",
       "2974   NaN   1.48\n",
       "2958   NaN   1.79\n",
       "2996   NaN   2.24\n",
       "2961   NaN   3.07\n",
       "2979   NaN   3.55\n",
       "2985   NaN   4.05\n",
       "2989   NaN   4.31\n",
       "2964   NaN   4.51\n",
       "2991   NaN   4.56\n",
       "2980   NaN   4.99\n",
       "2970   NaN   5.50\n",
       "2994   NaN   5.87\n",
       "2995   NaN   6.14\n",
       "2977   NaN   7.94\n",
       "2950   NaN   8.07\n",
       "2975   NaN   8.09\n",
       "2984   NaN   8.21\n",
       "2982   NaN   9.60\n",
       "2956   NaN  10.11\n",
       "2998   NaN  10.42\n",
       "2972   NaN  10.43\n",
       "2968   NaN  11.04\n",
       "2969   NaN  12.16\n",
       "2990   NaN  13.71\n",
       "2949   NaN  14.11\n",
       "2973   NaN  14.38\n",
       "2954   NaN  17.00\n",
       "2992   NaN  17.83\n",
       "2951   NaN  17.94\n",
       "2976   NaN  18.48\n",
       "2966   NaN  19.12\n",
       "2963   NaN  19.56\n",
       "2983   NaN  19.59\n",
       "2971   NaN  19.96\n",
       "2986   NaN  20.87\n",
       "2962   NaN  22.55\n",
       "2978   NaN  22.94\n",
       "2993   NaN  23.04\n",
       "2957   NaN  24.58\n",
       "2965   NaN  25.75\n",
       "2960   NaN  26.57\n",
       "2955   NaN  27.43\n",
       "2953   NaN  27.70\n",
       "2988   NaN  29.80\n",
       "2981   NaN  29.84\n",
       "2959   NaN  29.88"
      ]
     },
     "execution_count": 115,
     "metadata": {},
     "output_type": "execute_result"
    }
   ],
   "source": [
    "timeComple[timeComple['time'].isin(deleTimes)]"
   ]
  },
  {
   "cell_type": "code",
   "execution_count": 116,
   "metadata": {},
   "outputs": [],
   "source": [
    "## 大家可以尝试填充这些点\n"
   ]
  }
 ],
 "metadata": {
  "kernelspec": {
   "display_name": "Python 3 (ipykernel)",
   "language": "python",
   "name": "python3"
  },
  "language_info": {
   "codemirror_mode": {
    "name": "ipython",
    "version": 3
   },
   "file_extension": ".py",
   "mimetype": "text/x-python",
   "name": "python",
   "nbconvert_exporter": "python",
   "pygments_lexer": "ipython3",
   "version": "3.9.7"
  },
  "toc": {
   "base_numbering": 1,
   "nav_menu": {},
   "number_sections": false,
   "sideBar": true,
   "skip_h1_title": false,
   "title_cell": "Table of Contents",
   "title_sidebar": "Contents",
   "toc_cell": false,
   "toc_position": {
    "height": "calc(100% - 180px)",
    "left": "10px",
    "top": "150px",
    "width": "324px"
   },
   "toc_section_display": true,
   "toc_window_display": true
  }
 },
 "nbformat": 4,
 "nbformat_minor": 2
}
