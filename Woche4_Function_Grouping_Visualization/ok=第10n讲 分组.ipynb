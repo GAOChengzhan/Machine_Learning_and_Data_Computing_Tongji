{
 "cells": [
  {
   "cell_type": "markdown",
   "metadata": {},
   "source": [
    "# 第10讲 分组（Grouping）\n",
    "\n",
    "- 规则\n",
    "    - 依某种准则，分割数据成若干组\n",
    "    - 对各组独立作用以函数\n",
    "    - 结果重组得到新的数据结构"
   ]
  },
  {
   "cell_type": "code",
   "execution_count": null,
   "metadata": {},
   "outputs": [],
   "source": [
    "import numpy as np\n",
    "import pandas as pd"
   ]
  },
  {
   "cell_type": "markdown",
   "metadata": {},
   "source": [
    "## 10.1 创建一个 GroupBy 对象\n",
    "\n",
    "- 语法\n",
    "\n",
    "```python\n",
    ">>> grouped = obj.groupby(by=None, axis=0, level=None, as_index=True, sort=True, group_keys=True, squeeze=False, observed=False, **kwargs)\n",
    "```\n",
    "\n",
    "\n",
    "- 功能\n",
    "    - 重组数据\n",
    "    \n",
    "    \n",
    "    \n",
    "- 参数\n",
    "    - by —— 映射、函数、标签或标签列表\n",
    "    - axis —— 指定操作方向\n",
    "    - 其它（略）"
   ]
  },
  {
   "cell_type": "markdown",
   "metadata": {},
   "source": [
    "GoupBy的操作模式由三个阶段组成：\n",
    "\n",
    "- 分组：将数据集分成多个组  \n",
    "- 用函数处理：用函数处理每一个组  \n",
    "- 合并：把不同组得到的结果合并起来  \n",
    "- 第一阶段，也就是分组阶段，根据给定标准，把Series或DataFrame等数据结构中的数据分成不同的组，分组标准常与索引或某一列具体的元素相关。  \n",
    "- 第二阶段也称为“用函数处理”，使用函数处理或者执行由函数定义的计算，为每组数组生成单一的值。  \n",
    "- 第三阶段为合并，把来自每一组的结果汇集到一起，合并成一个新对象。 \n",
    "\n",
    "<img src=\"images\\ch10\\groupby.png\" width=600>"
   ]
  },
  {
   "cell_type": "markdown",
   "metadata": {},
   "source": [
    "### 例1 创建简单成绩表 —— 数据帧"
   ]
  },
  {
   "cell_type": "code",
   "execution_count": null,
   "metadata": {},
   "outputs": [],
   "source": [
    "df = pd.DataFrame({ '姓名' : ['张龙', '赵虎', '张龙', '赵虎','张龙', '赵虎', '张龙', '张龙'],\n",
    "                    '科目' : ['语文', '语文', '数学', '数学','英语', '英语', '理化', '生物'],\n",
    "                    '期终' : np.random.randint(80,99,8),\n",
    "                    '平时' : np.random.randint(80,99,8)})"
   ]
  },
  {
   "cell_type": "code",
   "execution_count": null,
   "metadata": {},
   "outputs": [],
   "source": [
    "df"
   ]
  },
  {
   "cell_type": "code",
   "execution_count": null,
   "metadata": {},
   "outputs": [],
   "source": [
    "#df.groupby?"
   ]
  },
  {
   "cell_type": "markdown",
   "metadata": {},
   "source": [
    "## 10.2 认识 groupby 对象的动作"
   ]
  },
  {
   "cell_type": "code",
   "execution_count": null,
   "metadata": {},
   "outputs": [],
   "source": [
    "grouped = df.groupby('姓名') # groupby 对象\n",
    "type(grouped)"
   ]
  },
  {
   "cell_type": "code",
   "execution_count": null,
   "metadata": {},
   "outputs": [],
   "source": [
    "# 看看可以有哪些动作？\n",
    "dir(grouped)"
   ]
  },
  {
   "cell_type": "markdown",
   "metadata": {},
   "source": [
    "- 分组操作\n",
    "    - 计算总分 —— `sum()`\n",
    "    - 统计分析 —— `describe()`\n",
    "    - 列出组 —— `groups`"
   ]
  },
  {
   "cell_type": "code",
   "execution_count": null,
   "metadata": {},
   "outputs": [],
   "source": [
    "df.groupby('姓名').sum()"
   ]
  },
  {
   "cell_type": "code",
   "execution_count": null,
   "metadata": {},
   "outputs": [],
   "source": [
    "df.groupby('姓名').describe()"
   ]
  },
  {
   "cell_type": "code",
   "execution_count": null,
   "metadata": {},
   "outputs": [],
   "source": [
    "df.groupby('科目').groups"
   ]
  },
  {
   "cell_type": "markdown",
   "metadata": {},
   "source": [
    "## 10.3 多层次分组"
   ]
  },
  {
   "cell_type": "code",
   "execution_count": null,
   "metadata": {},
   "outputs": [],
   "source": [
    "df.groupby(['姓名','科目']).sum()"
   ]
  },
  {
   "cell_type": "code",
   "execution_count": null,
   "metadata": {},
   "outputs": [],
   "source": [
    "df.groupby(['科目','姓名']).sum()"
   ]
  },
  {
   "cell_type": "markdown",
   "metadata": {},
   "source": [
    "## 10.4 更细致的划分"
   ]
  },
  {
   "cell_type": "code",
   "execution_count": null,
   "metadata": {},
   "outputs": [],
   "source": [
    "df.groupby('姓名').get_group('张龙')"
   ]
  },
  {
   "cell_type": "code",
   "execution_count": null,
   "metadata": {},
   "outputs": [],
   "source": [
    "df.groupby('科目').get_group('语文')"
   ]
  },
  {
   "cell_type": "code",
   "execution_count": null,
   "metadata": {},
   "outputs": [],
   "source": [
    "df['期终'].groupby(df['姓名']).sum()"
   ]
  },
  {
   "cell_type": "code",
   "execution_count": null,
   "metadata": {},
   "outputs": [],
   "source": [
    "grouped.mean()"
   ]
  },
  {
   "cell_type": "markdown",
   "metadata": {},
   "source": [
    "### 例10.1 "
   ]
  },
  {
   "cell_type": "code",
   "execution_count": null,
   "metadata": {},
   "outputs": [],
   "source": [
    "class_student = pd.read_excel(r\"data\\ch9-namelist.xlsx\")\n",
    "class_student[['随机分数1','随机分数2']]=class_student[['随机分数1','随机分数2']].astype('int')\n",
    "class_student"
   ]
  },
  {
   "cell_type": "code",
   "execution_count": null,
   "metadata": {},
   "outputs": [],
   "source": [
    "# 按照男女生，计算两次平均成绩"
   ]
  },
  {
   "cell_type": "code",
   "execution_count": null,
   "metadata": {},
   "outputs": [],
   "source": [
    "class_student.groupby('性别').get_group('男')"
   ]
  },
  {
   "cell_type": "code",
   "execution_count": null,
   "metadata": {},
   "outputs": [],
   "source": [
    "a = class_student.groupby('性别').get_group('女')[['随机分数1','随机分数2']].mean()\n",
    "b = class_student.groupby('性别').get_group('男')[['随机分数1','随机分数2']].mean()\n",
    "type(a)"
   ]
  },
  {
   "cell_type": "code",
   "execution_count": null,
   "metadata": {},
   "outputs": [],
   "source": [
    "a"
   ]
  },
  {
   "cell_type": "code",
   "execution_count": null,
   "metadata": {},
   "outputs": [],
   "source": [
    "b"
   ]
  },
  {
   "cell_type": "code",
   "execution_count": null,
   "metadata": {},
   "outputs": [],
   "source": [
    "df = pd.DataFrame({'女生平均值':a,'男生平均值':b})\n",
    "df"
   ]
  },
  {
   "cell_type": "code",
   "execution_count": null,
   "metadata": {},
   "outputs": [],
   "source": [
    "grouped_ab = class_student.groupby(['学院','性别','年级'])\n",
    "grouped_ab.mean()[['随机分数1','随机分数2']]"
   ]
  },
  {
   "cell_type": "code",
   "execution_count": null,
   "metadata": {},
   "outputs": [],
   "source": []
  },
  {
   "cell_type": "code",
   "execution_count": null,
   "metadata": {},
   "outputs": [],
   "source": []
  },
  {
   "cell_type": "markdown",
   "metadata": {},
   "source": [
    "### 第10讲 结束"
   ]
  },
  {
   "cell_type": "code",
   "execution_count": null,
   "metadata": {},
   "outputs": [],
   "source": [
    "import pandas as pd\n",
    "df = pd.DataFrame({'key1':list('ababa'),\n",
    "  'key2': ['one','two','one','two','one'],\n",
    "  'data1': np.random.randn(5),\n",
    "  'data2': np.random.randn(5)})\n",
    "print(df)"
   ]
  },
  {
   "cell_type": "code",
   "execution_count": null,
   "metadata": {},
   "outputs": [],
   "source": [
    "#将df['data1']按照分组键为df['key1']进行分组\n",
    "grouped=df['data1'].groupby(df['key1'])\n",
    "print(grouped.mean())"
   ]
  },
  {
   "cell_type": "code",
   "execution_count": null,
   "metadata": {},
   "outputs": [],
   "source": [
    "states=np.array(['Ohio','California','California','Ohio','Ohio'])\n",
    "years=np.array([2005,2005,2006,2005,2006])\n",
    "#states第一层索引，years第二层分层索引\n",
    "print(df['data1'].groupby([states,years]).mean())"
   ]
  },
  {
   "cell_type": "code",
   "execution_count": null,
   "metadata": {},
   "outputs": [],
   "source": [
    "#df根据‘key1'分组，然后对df剩余数值型的数据运算\n",
    "df.groupby('key1').mean()\n",
    "#可以看出没有key2列，因为df[‘key2']不是数值数据，所以被从结果中移除。默认情况下，所有数值列都会被聚合，虽然有时可能被过滤为一个子集。"
   ]
  },
  {
   "cell_type": "code",
   "execution_count": null,
   "metadata": {},
   "outputs": [],
   "source": [
    "### 对分组进行迭代\n",
    "for name, group in df.groupby('key1'):\n",
    "    print (name,group)"
   ]
  },
  {
   "cell_type": "code",
   "execution_count": null,
   "metadata": {},
   "outputs": [],
   "source": [
    "piece=dict(list(df.groupby('key1')))  #变成字典\n",
    "piece"
   ]
  },
  {
   "cell_type": "code",
   "execution_count": null,
   "metadata": {},
   "outputs": [],
   "source": [
    "#对字典取值\n",
    "value = piece['a']\n",
    "print(type(value))\n",
    "value"
   ]
  },
  {
   "cell_type": "markdown",
   "metadata": {},
   "source": [
    "#### groupby默认是在axis=0上进行分组的，通过设置也可以在其他任何轴上进行分组"
   ]
  },
  {
   "cell_type": "code",
   "execution_count": null,
   "metadata": {},
   "outputs": [],
   "source": [
    "grouped=df.groupby(df.dtypes, axis=1)\n",
    "value = dict(list(grouped))\n",
    "print(value)"
   ]
  },
  {
   "cell_type": "markdown",
   "metadata": {},
   "source": [
    "#### 对于大数据，很多情况是只需要对部分列进行聚合"
   ]
  },
  {
   "cell_type": "code",
   "execution_count": null,
   "metadata": {},
   "outputs": [],
   "source": [
    "#对df进行'key1'，'key2'的两次分组，然后取data2的数据，对两次细分的分组数据取均值\n",
    "value = df.groupby(['key1','key2'])[['data2']].mean()\n",
    "value "
   ]
  },
  {
   "cell_type": "code",
   "execution_count": null,
   "metadata": {},
   "outputs": [],
   "source": []
  }
 ],
 "metadata": {
  "kernelspec": {
   "display_name": "Python 3",
   "language": "python",
   "name": "python3"
  },
  "language_info": {
   "codemirror_mode": {
    "name": "ipython",
    "version": 3
   },
   "file_extension": ".py",
   "mimetype": "text/x-python",
   "name": "python",
   "nbconvert_exporter": "python",
   "pygments_lexer": "ipython3",
   "version": "3.8.5"
  }
 },
 "nbformat": 4,
 "nbformat_minor": 2
}
