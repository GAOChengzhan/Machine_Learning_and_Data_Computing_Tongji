{
 "cells": [
  {
   "cell_type": "markdown",
   "metadata": {},
   "source": [
    "## 题 2"
   ]
  },
  {
   "cell_type": "markdown",
   "metadata": {},
   "source": [
    "#### 一、 导入模块"
   ]
  },
  {
   "cell_type": "code",
   "execution_count": 1,
   "metadata": {},
   "outputs": [],
   "source": [
    "import numpy as np\n",
    "import matplotlib.pyplot as plt\n",
    "\n",
    "from sklearn import cluster\n",
    "from sklearn.metrics import adjusted_rand_score"
   ]
  },
  {
   "cell_type": "markdown",
   "metadata": {},
   "source": [
    "#### 二、 数据集 —— 平面上多点的坐标"
   ]
  },
  {
   "cell_type": "code",
   "execution_count": 2,
   "metadata": {},
   "outputs": [],
   "source": [
    "data=np.array([\n",
    "    [-3, -3],\n",
    "    [ 3, -3],\n",
    "    [ 3,  3],\n",
    "    [-3,  3],\n",
    "    [-2, -3],\n",
    "    [ 3,  1],\n",
    "    [ 1,  3],\n",
    "    [-3, -2]\n",
    "])"
   ]
  },
  {
   "cell_type": "markdown",
   "metadata": {},
   "source": [
    "#### 三、 散点图"
   ]
  },
  {
   "cell_type": "code",
   "execution_count": 3,
   "metadata": {},
   "outputs": [
    {
     "data": {
      "text/plain": [
       "Text(0, 0.5, 'y')"
      ]
     },
     "execution_count": 3,
     "metadata": {},
     "output_type": "execute_result"
    },
    {
     "data": {
      "image/png": "[encoded data removed]",
      "text/plain": [
       "<Figure size 432x288 with 1 Axes>"
      ]
     },
     "metadata": {
      "needs_background": "light"
     },
     "output_type": "display_data"
    }
   ],
   "source": [
    "plt.scatter(data[[0,1,2,3,4,6],0], data[[0,1,2,3,4,6],1], s=50, c='red')\n",
    "plt.scatter(data[[5,7],0], data[[5,7],1], s=100, c='blue')\n",
    "plt.xlabel(\"x\")\n",
    "plt.ylabel(\"y\")"
   ]
  },
  {
   "cell_type": "markdown",
   "metadata": {},
   "source": [
    "#### 四、 K-平均聚类分析\n",
    "\n",
    "\n",
    "- 聚类数 2\n",
    "    - 参数 `n_clusters=2`\n",
    "- 初始聚类中心取图中 2 个蓝色点\n",
    "    - 参数 `init=np.array([[-3,-2],[3, 1]])`"
   ]
  },
  {
   "cell_type": "code",
   "execution_count": 4,
   "metadata": {},
   "outputs": [],
   "source": [
    "kmeans_1 = cluster.KMeans(n_clusters=2, init=np.array([[-3,-2],[3, 1]]), n_init=1)"
   ]
  },
  {
   "cell_type": "markdown",
   "metadata": {},
   "source": [
    "#### 五、 以下请你完成\n",
    "\n",
    "\n",
    "1. 对数组 data 进行聚类分析"
   ]
  },
  {
   "cell_type": "code",
   "execution_count": 5,
   "metadata": {},
   "outputs": [
    {
     "data": {
      "text/plain": [
       "KMeans(init=array([[-3, -2],\n",
       "       [ 3,  1]]), n_clusters=2, n_init=1)"
      ]
     },
     "execution_count": 5,
     "metadata": {},
     "output_type": "execute_result"
    }
   ],
   "source": [
    "## 对数组 data 进行聚类分析代码\n",
    "kmeans_1.fit(data)"
   ]
  },
  {
   "cell_type": "markdown",
   "metadata": {},
   "source": [
    "2. 查看 kmeans_1 对象的属性，指出并提取\n",
    "    - 聚类标记数组\n",
    "    - 聚类中心数组"
   ]
  },
  {
   "cell_type": "code",
   "execution_count": 7,
   "metadata": {},
   "outputs": [
    {
     "data": {
      "text/plain": [
       "['__class__',\n",
       " '__delattr__',\n",
       " '__dict__',\n",
       " '__dir__',\n",
       " '__doc__',\n",
       " '__eq__',\n",
       " '__format__',\n",
       " '__ge__',\n",
       " '__getattribute__',\n",
       " '__getstate__',\n",
       " '__gt__',\n",
       " '__hash__',\n",
       " '__init__',\n",
       " '__init_subclass__',\n",
       " '__le__',\n",
       " '__lt__',\n",
       " '__module__',\n",
       " '__ne__',\n",
       " '__new__',\n",
       " '__reduce__',\n",
       " '__reduce_ex__',\n",
       " '__repr__',\n",
       " '__setattr__',\n",
       " '__setstate__',\n",
       " '__sizeof__',\n",
       " '__str__',\n",
       " '__subclasshook__',\n",
       " '__weakref__',\n",
       " '_algorithm',\n",
       " '_check_mkl_vcomp',\n",
       " '_check_n_features',\n",
       " '_check_params',\n",
       " '_check_test_data',\n",
       " '_estimator_type',\n",
       " '_get_param_names',\n",
       " '_get_tags',\n",
       " '_init_centroids',\n",
       " '_more_tags',\n",
       " '_n_init',\n",
       " '_n_threads',\n",
       " '_repr_html_',\n",
       " '_repr_html_inner',\n",
       " '_repr_mimebundle_',\n",
       " '_tol',\n",
       " '_transform',\n",
       " '_validate_center_shape',\n",
       " '_validate_data',\n",
       " 'algorithm',\n",
       " 'cluster_centers_',\n",
       " 'copy_x',\n",
       " 'fit',\n",
       " 'fit_predict',\n",
       " 'fit_transform',\n",
       " 'get_params',\n",
       " 'inertia_',\n",
       " 'init',\n",
       " 'labels_',\n",
       " 'max_iter',\n",
       " 'n_clusters',\n",
       " 'n_features_in_',\n",
       " 'n_init',\n",
       " 'n_iter_',\n",
       " 'n_jobs',\n",
       " 'precompute_distances',\n",
       " 'predict',\n",
       " 'random_state',\n",
       " 'score',\n",
       " 'set_params',\n",
       " 'tol',\n",
       " 'transform',\n",
       " 'verbose']"
      ]
     },
     "execution_count": 7,
     "metadata": {},
     "output_type": "execute_result"
    }
   ],
   "source": [
    "## 查看 kmeans_1 对象的属性\n",
    "dir(kmeans_1)"
   ]
  },
  {
   "cell_type": "code",
   "execution_count": 8,
   "metadata": {},
   "outputs": [
    {
     "data": {
      "text/plain": [
       "array([0, 1, 1, 0, 0, 1, 1, 0])"
      ]
     },
     "execution_count": 8,
     "metadata": {},
     "output_type": "execute_result"
    }
   ],
   "source": [
    "## 提取有用信息 —— 聚类标记数组\n",
    "\n",
    "kmeans_1.labels_"
   ]
  },
  {
   "cell_type": "code",
   "execution_count": 6,
   "metadata": {},
   "outputs": [
    {
     "data": {
      "text/plain": [
       "array([[-2.75, -1.25],\n",
       "       [ 2.5 ,  1.  ]])"
      ]
     },
     "execution_count": 6,
     "metadata": {},
     "output_type": "execute_result"
    }
   ],
   "source": [
    "## 提取有用信息 —— 聚类中心数组\n",
    "\n",
    "kmeans_1.cluster_centers_"
   ]
  },
  {
   "cell_type": "markdown",
   "metadata": {},
   "source": [
    "3. 画出聚类结果散点图\n",
    "    - 用红蓝色的小圆点标记区分聚类\n",
    "    - 用黑色圆点标记聚类中心"
   ]
  },
  {
   "cell_type": "code",
   "execution_count": 39,
   "metadata": {},
   "outputs": [
    {
     "data": {
      "image/png": "[encoded data removed]",
      "text/plain": [
       "<Figure size 432x288 with 1 Axes>"
      ]
     },
     "metadata": {
      "needs_background": "light"
     },
     "output_type": "display_data"
    }
   ],
   "source": [
    "## 画出聚类结果散点图\n",
    "from collections import OrderedDict\n",
    "import matplotlib.pyplot as plt\n",
    "color_list=['#DC143C','#00F8FF']\n",
    "label_list=['cluster1','cluster2']\n",
    "def scatter_cluster(kmeans):\n",
    "    for i in range(len(kmeans.labels_)):\n",
    "        plt.scatter(data[i][0], \n",
    "                    data[i][1],\n",
    "                    color=color_list[kmeans.labels_[i]],\n",
    "                    label=label_list[kmeans.labels_[i]])\n",
    "    for j in range(len(kmeans.cluster_centers_)):\n",
    "        plt.scatter(kmeans.cluster_centers_[j][0], \n",
    "                    kmeans.cluster_centers_[j][1],\n",
    "                   marker='o',s=50,linewidths=3,\n",
    "                   color='black',label='cluster_centers')\n",
    "    plt.xlabel('x')\n",
    "    plt.ylabel('y')\n",
    "    handles, labels = plt.gca().get_legend_handles_labels()\n",
    "    by_label = OrderedDict(zip(labels, handles))\n",
    "    plt.legend(by_label.values(), by_label.keys(),loc=8)\n",
    "    plt.title('Scatter Figure')\n",
    "scatter_cluster(kmeans_1)"
   ]
  },
  {
   "cell_type": "markdown",
   "metadata": {},
   "source": [
    "4. 预测类别\n",
    "    - 根据聚类结果，预测坐标为 (0,0)、(0,-1) 和 (0,1) 的三个点的类别"
   ]
  },
  {
   "cell_type": "code",
   "execution_count": 14,
   "metadata": {},
   "outputs": [
    {
     "data": {
      "text/plain": [
       "array([1, 0, 1])"
      ]
     },
     "execution_count": 14,
     "metadata": {},
     "output_type": "execute_result"
    }
   ],
   "source": [
    "## 预测类别\n",
    "data_pred=np.array([\n",
    "    [0, 0],\n",
    "    [0,-1],\n",
    "    [0, 1]\n",
    "])\n",
    "pred = kmeans_1.predict(data_pred)\n",
    "pred"
   ]
  },
  {
   "cell_type": "code",
   "execution_count": 28,
   "metadata": {},
   "outputs": [
    {
     "data": {
      "image/png": "[encoded data removed]",
      "text/plain": [
       "<Figure size 432x288 with 1 Axes>"
      ]
     },
     "metadata": {
      "needs_background": "light"
     },
     "output_type": "display_data"
    }
   ],
   "source": [
    "color_list=['#DC143C','#00F8FF']\n",
    "color_list2=['red','royalblue']\n",
    "label_list=['cluster1','cluster2']\n",
    "label_list2=['cluster1(pred)','cluster2(pred)']\n",
    "for i in range(len(kmeans_1.labels_)):\n",
    "    plt.scatter(data[i][0], \n",
    "                data[i][1],\n",
    "                color=color_list[kmeans_1.labels_[i]],\n",
    "               label=label_list[kmeans_1.labels_[i]])\n",
    "for k in range(len(pred)):\n",
    "    plt.scatter(data_pred[k][0], \n",
    "                data_pred[k][1],\n",
    "                color=color_list2[pred[k]],\n",
    "               label=label_list2[pred[k]])\n",
    "for j in range(len(kmeans_1.cluster_centers_)):\n",
    "    plt.scatter(kmeans_1.cluster_centers_[j][0], \n",
    "                kmeans_1.cluster_centers_[j][1],\n",
    "               marker='o',s=50,linewidths=3,\n",
    "               color='black',label='cluster_centers')\n",
    "plt.xlabel('x')\n",
    "plt.ylabel('y')\n",
    "handles, labels = plt.gca().get_legend_handles_labels()\n",
    "by_label = OrderedDict(zip(labels, handles))\n",
    "plt.legend(by_label.values(), by_label.keys())\n",
    "plt.title('Scatter Figure');"
   ]
  },
  {
   "cell_type": "markdown",
   "metadata": {},
   "source": [
    "5. 修改初始聚类中心，取为 init=np.array([[-2,-3],[1, 3]])，再\n",
    "    - 完成聚类分析\n",
    "    - 提取聚类标记数组 `labels_2`\n",
    "    - 计算两次聚类标记数组的 `Adjusted Rand Index`"
   ]
  },
  {
   "cell_type": "code",
   "execution_count": 29,
   "metadata": {},
   "outputs": [
    {
     "data": {
      "text/plain": [
       "KMeans(init=array([[-2, -3],\n",
       "       [ 1,  3]]), n_clusters=2, n_init=1)"
      ]
     },
     "execution_count": 29,
     "metadata": {},
     "output_type": "execute_result"
    }
   ],
   "source": [
    "## 修改初始聚类中心，再分析\n",
    "kmeans_2 = cluster.KMeans(n_clusters=2,  init=np.array([[-2,-3],[1, 3]]), n_init=1)\n",
    "kmeans_2.fit(data)"
   ]
  },
  {
   "cell_type": "code",
   "execution_count": 31,
   "metadata": {},
   "outputs": [
    {
     "data": {
      "text/plain": [
       "array([0, 0, 1, 1, 0, 1, 1, 0])"
      ]
     },
     "execution_count": 31,
     "metadata": {},
     "output_type": "execute_result"
    }
   ],
   "source": [
    "## 提取聚类标记数组\n",
    "labels_2=kmeans_2.labels_\n",
    "labels_2"
   ]
  },
  {
   "cell_type": "code",
   "execution_count": 34,
   "metadata": {},
   "outputs": [
    {
     "data": {
      "text/plain": [
       "array([0, 1, 1, 0, 0, 1, 1, 0])"
      ]
     },
     "execution_count": 34,
     "metadata": {},
     "output_type": "execute_result"
    }
   ],
   "source": [
    "labels_1=kmeans_1.labels_\n",
    "labels_1"
   ]
  },
  {
   "cell_type": "code",
   "execution_count": 35,
   "metadata": {},
   "outputs": [
    {
     "data": {
      "text/plain": [
       "0.125"
      ]
     },
     "execution_count": 35,
     "metadata": {},
     "output_type": "execute_result"
    }
   ],
   "source": [
    "## 计算 Adjusted Rand Index\n",
    "from sklearn.metrics import adjusted_rand_score\n",
    "adjusted_rand_score(labels_1, labels_2)"
   ]
  },
  {
   "cell_type": "markdown",
   "metadata": {},
   "source": [
    "- 共有两个分类标记不同\n",
    "- 可见初始聚类中心的设置对于分类是有影响的"
   ]
  },
  {
   "cell_type": "markdown",
   "metadata": {},
   "source": [
    "#### 观察一下两种不同的分类"
   ]
  },
  {
   "cell_type": "code",
   "execution_count": 50,
   "metadata": {},
   "outputs": [
    {
     "data": {
      "image/png": "[encoded data removed]",
      "text/plain": [
       "<Figure size 720x360 with 2 Axes>"
      ]
     },
     "metadata": {
      "needs_background": "light"
     },
     "output_type": "display_data"
    }
   ],
   "source": [
    "fig, axes = plt.subplots(1,2)\n",
    "fig.set_size_inches(10,5)\n",
    "plt.subplot(121)\n",
    "scatter_cluster(kmeans_1)\n",
    "plt.subplot(122)\n",
    "scatter_cluster(kmeans_2)"
   ]
  },
  {
   "cell_type": "markdown",
   "metadata": {},
   "source": [
    "#### 题目结束"
   ]
  }
 ],
 "metadata": {
  "kernelspec": {
   "display_name": "Python 3",
   "language": "python",
   "name": "python3"
  },
  "language_info": {
   "codemirror_mode": {
    "name": "ipython",
    "version": 3
   },
   "file_extension": ".py",
   "mimetype": "text/x-python",
   "name": "python",
   "nbconvert_exporter": "python",
   "pygments_lexer": "ipython3",
   "version": "3.7.4"
  }
 },
 "nbformat": 4,
 "nbformat_minor": 2
}
