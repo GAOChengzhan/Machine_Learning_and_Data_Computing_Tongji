{
 "cells": [
  {
   "cell_type": "markdown",
   "metadata": {},
   "source": [
    "# 第2讲 若干术语、数据源、数据采集"
   ]
  },
  {
   "cell_type": "markdown",
   "metadata": {},
   "source": [
    "## 2.1 若干术语\n",
    "\n",
    "- 主要参考 [Sebastian Raschka 模式识别](https://github.com/rasbt/pattern_classification) \n",
    "\n",
    "    - 机器学习\n",
    "    - 大数据\n",
    "    - 数据挖掘\n",
    "    - 维度魔咒\n",
    "    - 降维\n",
    "\n",
    "- 参考[维基百科](https://en.wikipedia.org/wiki/Exploratory_data_analysis)\n",
    "    - 探索性数据分析"
   ]
  },
  {
   "cell_type": "markdown",
   "metadata": {},
   "source": [
    "### 2.1.1 机器学习 —— Machine Learning\n",
    "\n",
    "\n",
    "- 一句话的定义\n",
    "    - 从数据中发现并学习行为模式的算法集成\n",
    "    - 原文 —— A set of algorithmic instructions for discovering and learning patterns from data \n",
    "\n",
    "\n",
    "- 例如\n",
    "    - 为一模式识别任务训练识别器（猫狗分类、垃圾信息分类）\n",
    "    - 等等"
   ]
  },
  {
   "cell_type": "markdown",
   "metadata": {},
   "source": [
    "### 2.1.2 大数据 —— Big Data\n",
    "\n",
    "\n",
    "- 关于定义\n",
    "    - 存在许多不同的、甚至相互矛盾的解释定义\n",
    "\n",
    "\n",
    "- 大数据定义 —— 目前普遍认为大数据具有以下特点\n",
    "    - 不能被常规的计算平台处理，因其\n",
    "        - 巨大的体量\n",
    "        - 高的复杂度\n",
    "    - 分析处理还受限于\n",
    "        - 存贮空间\n",
    "        - 处理能力\n",
    "        - 数据结构"
   ]
  },
  {
   "cell_type": "markdown",
   "metadata": {},
   "source": [
    "- 大数据样例\n",
    "  - 社交媒体：facebook，微信，抖音。。。。\n",
    "  - 经济数据：股票，期货，基金等。。。。\n",
    "    - 纽约证券交易所每天产生大约1TB的新交易数据。\n",
    "  - 工程方面数据：\n",
    "    - 一台喷气发动机可以在30分钟的飞行时间内产生超过10TB数据。\n",
    "    - 每天有数千架次的航班，产生的数据量高达数PB\n",
    "  - 等等"
   ]
  },
  {
   "cell_type": "markdown",
   "metadata": {},
   "source": [
    "- 大数据的类型：\n",
    "    - 结构化\n",
    "    <center>结构化数据样例</center>\n",
    "<img src='images\\ch02\\01.jpg' width = 600>\n",
    "    - 非结构化：任何形式或结构未知的数据都被归类为非结构化数据。\n",
    "       - 非结构化数据的一个典型例子是包含简单文本文件、图像、视频等组合的异构数据源。\n",
    "       - 如：https://www.baidu.com/s?wd=机器学习+大数据\n",
    "    - 半结构化：半结构化数据可以包含两种形式的数据。\n",
    "      - 如：\n",
    "     - 或者：\n",
    "     <img src='images\\ch02\\02.jpg' width=400>\n",
    "     \n",
    "```python\n",
    "<rec><name>Prashant Rao</name><sex>Male</sex><age>35</age></rec>\n",
    "<rec><name>Seema R.</name><sex>Female</sex><age>41</age></rec>\n",
    "<rec><name>Satish Mane</name><sex>Male</sex><age>29</age></rec>\n",
    "<rec><name>Subrato Roy</name><sex>Male</sex><age>26</age></rec>\n",
    "<rec><name>Jeremiah J.</name><sex>Male</sex><age>35</age></rec>\n",
    "```"
   ]
  },
  {
   "cell_type": "markdown",
   "metadata": {},
   "source": [
    "### 2.1.3 数据挖掘 —— Data Mining\n",
    "\n",
    "- 它与机器学习和模式识别关系密切\n",
    " \n",
    "\n",
    "- 普遍易对数据挖掘产生误解，认为\n",
    "    - 数据挖掘就是采集数据\n",
    "    - 挖矿 —— 如同捡黄金，遍地都是\n",
    "\n",
    "\n",
    "- 数据挖掘的核心内涵在于，从数据（可能是海量）中\n",
    "    - 提取出有用的信息\n",
    "    - 发现模式\n",
    "    - 给出推理预测\n",
    "\n",
    "\n",
    "- 常见技术\n",
    "    - 预测模型\n",
    "    - 聚类分析\n",
    "    - 相关法则\n",
    "    - 异常检测"
   ]
  },
  {
   "cell_type": "markdown",
   "metadata": {},
   "source": [
    " <center><font size=5>数据挖掘、机器学期与大数据的关系 </font></center>\n",
    " <img src='images\\ch02\\03.jpg' width=400>"
   ]
  },
  {
   "cell_type": "markdown",
   "metadata": {},
   "source": [
    "### 2.1.4 维度魔咒  —— Curse of Dimensionality\n",
    "\n",
    "\n",
    "- 当训练样本数达到一定级别后，分析数据时出现的一些现象\n",
    "    - 错误率增加\n",
    "    - 参数估计失真\n",
    "    - 数据（次生特征，或特征组合）爆炸\n",
    "    - 等\n",
    "\n",
    "\n",
    "- 低维度时不会发生的现象"
   ]
  },
  {
   "cell_type": "markdown",
   "metadata": {},
   "source": [
    "### 2.1.5 降维 —— Dimensionality reduction\n",
    "\n",
    "- 机器学习的数据预处理步骤，为了避免\n",
    "    - 维度魔咒（curse of dimensionality）\n",
    "    - 过度拟合（overfitting）\n",
    "\n",
    "\n",
    "- 降维类似于特征选择（feature selection）\n",
    "    - 不是简单抽取子集 —— 从特征集合中\n",
    "    - 而是创建新特征子空间 —— 通过投影变换等方式"
   ]
  },
  {
   "cell_type": "markdown",
   "metadata": {},
   "source": [
    "### 2.1.6 探索性数据分析 —— EDA, Exploratory Data Analysis\n",
    "\n",
    "\n",
    "- 分析数据的必经之路 —— 发现哪些数据可提供超出常规的发现和认识\n",
    "    - 总结出主要特征\n",
    "    - 通常采用可视化方法\n",
    "    - 可以采用统计方法模型\n",
    "    - 可进行推理分析\n",
    "    - 等\n",
    "\n",
    "\n",
    "- 不同于 IDA（initial data analysis）\n",
    "    - IDA 的视野偏窄，限于验证假设、参数模拟\n",
    "    - EDA 更宽广"
   ]
  },
  {
   "cell_type": "markdown",
   "metadata": {},
   "source": [
    "## 2.2 大数据、数据源、采集"
   ]
  },
  {
   "cell_type": "markdown",
   "metadata": {},
   "source": [
    "### 2.2.1 国际开放数据仓库\n",
    "\n",
    "- [Kaggle](https://www.kaggle.com/) —— 开放数据、国际竞赛引领者\n",
    "- [UCI MLR](http://archive.ics.uci.edu/ml/) —— UC Irvine 机器学习仓库\n",
    "- [谷歌开放数据](http://www.google.com/publicdata/directory)\n",
    "- [亚马逊开放数据](http://aws.amazon.com/datasets)\n",
    "- [联合国开放数据](http://data.un.org/) —— 关于健康、环境、能源等\n",
    "- [美国政府开放数据](http://www.data.gov/)—— 美国政府提供\n",
    "- 等等"
   ]
  },
  {
   "cell_type": "markdown",
   "metadata": {},
   "source": [
    "### 2.2.2 国内开放数据仓库\n",
    "\n",
    "- [贵州省政府数据开放平台](http://data.guizhou.gov.cn/)\n",
    "- [天池](https://tianchi.aliyun.com/home/)\n",
    "- [DC竞赛](http://www.dcjingsai.com/)\n",
    "- 等等"
   ]
  },
  {
   "cell_type": "markdown",
   "metadata": {},
   "source": [
    "### 第2讲 结束"
   ]
  }
 ],
 "metadata": {
  "kernelspec": {
   "display_name": "Python 3",
   "language": "python",
   "name": "python3"
  },
  "language_info": {
   "codemirror_mode": {
    "name": "ipython",
    "version": 3
   },
   "file_extension": ".py",
   "mimetype": "text/x-python",
   "name": "python",
   "nbconvert_exporter": "python",
   "pygments_lexer": "ipython3",
   "version": "3.8.5"
  }
 },
 "nbformat": 4,
 "nbformat_minor": 2
}
