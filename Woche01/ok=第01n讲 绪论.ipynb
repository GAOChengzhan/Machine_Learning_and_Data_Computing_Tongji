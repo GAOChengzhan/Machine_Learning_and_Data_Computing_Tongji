{
 "cells": [
  {
   "cell_type": "markdown",
   "metadata": {},
   "source": [
    "# 机器学习与大数据计算\n",
    "\n",
    "## 主讲教师\n",
    "\n",
    "- 程纬 副教授  土木工程学院 chengwei@tongji.edu.cn\n",
    "- 马如进 副教授  土木工程学院  rjma@tongji.edu.cn"
   ]
  },
  {
   "cell_type": "markdown",
   "metadata": {},
   "source": [
    "# 第1讲 绪论\n",
    "\n",
    "\n",
    "## 1.1 基本设计\n",
    "\n",
    "### 1.1.1 课程简介\n",
    "\n",
    "- 课程类型 —— 通识类选修课程\n",
    "- 授课对象 —— 理工科(非计算机)专业学生\n",
    "- 年级层次 —— 大二年级及以上\n",
    "\n",
    "\n",
    "### 1.1.2 预期效果\n",
    "\n",
    "通过本课程的学习，学生将\n",
    "\n",
    "- 理解机器学习的工作流程\n",
    "- 掌握相关的概念、技术和技能\n",
    "    - 数据收集\n",
    "    - 数据预处理\n",
    "    - 模型构建\n",
    "    - 训练测试\n",
    "    - 评价优化\n",
    "    - 特征处理（分类、提取和选择）\n",
    "    - 主成份分析\n",
    "    - 数据可视化\n",
    "    - 大数据实战分析\n",
    "- 学会使用 Scikit-Learn、Pandas 等程序包"
   ]
  },
  {
   "cell_type": "markdown",
   "metadata": {},
   "source": [
    "## 1.2 机器学习的定义 —— 几种常见定义\n",
    "\n",
    "- 定义1 —— 机器学习是一门人工智能的科学，该领域的主要研究对象是人工智能，特别是如何在经验学习中改善具体算法的性能。\n",
    "- 定义2 —— 机器学习是对能通过经验自动改进的计算机算法的研究。\n",
    "- 定义3 —— 机器学习是用数据或以往的经验，以此优化计算机程序的性能标准。\n",
    "- 定义4 —— 机器学习教计算机执行人和动物与生俱来的活动：从经验中学习。\n",
    "  - 机器学习算法使用计算方法直接从数据中“学习”信息，而不依赖于预定方程模型。  \n",
    "  - 当可用于学习的样本数量增加时，这些算法可自适应提高性能。"
   ]
  },
  {
   "cell_type": "markdown",
   "metadata": {},
   "source": [
    "## 1.3 机器学习的发展历史与现状"
   ]
  },
  {
   "cell_type": "markdown",
   "metadata": {},
   "source": [
    "### 1.3.1 机器学习发展阶段\n"
   ]
  },
  {
   "cell_type": "markdown",
   "metadata": {},
   "source": [
    "　　（1）基础奠定的热烈时期: 20世纪50年代初到60年代中叶\n",
    "\n",
    "　　（2）停滞不前的冷静时期: 20世纪60年代中叶到70年代末\n",
    "\n",
    "　　（3）重拾希望的复兴时期: 20世纪70年代末到80年代中叶\n",
    "\n",
    "　　（4）现代机器学习的成型时期: 20世纪90年初到21世纪初\n",
    "\n",
    "　　（5）大放光芒的蓬勃发展时期: 21世纪初至今"
   ]
  },
  {
   "cell_type": "markdown",
   "metadata": {},
   "source": [
    "### 1.3.2 机器学习发展史重要人物\n"
   ]
  },
  {
   "cell_type": "markdown",
   "metadata": {},
   "source": [
    "<img src='images\\ch01\\renwu.png'>"
   ]
  },
  {
   "cell_type": "markdown",
   "metadata": {},
   "source": [
    "#### （1）唐纳德·赫布（1904-1985）是加拿大著名生理心理学家"
   ]
  },
  {
   "cell_type": "markdown",
   "metadata": {},
   "source": [
    "- Hebb于1949年基于神经心理学的学习机制开启机器学习的第一步，此后被称为Hebb学习规则。\n",
    "<img src='images\\ch01\\01.png' width=300>\n",
    "- hebb是一种无监督学习规则。Hebb的理论认为在同一时间被激发的神经元间的联系会被强化。比如，铃声响时一个神经元被激发，在同一时间食物的出现会激发附近的另一个神经元，那么这两个神经元间的联系就会强化，从而记住这两个事物之间存在着联系。相反，如果两个神经元总是不能同步激发，那么它们间的联系将会越来越弱。"
   ]
  },
  {
   "cell_type": "markdown",
   "metadata": {},
   "source": [
    "#### （2）阿兰·图灵"
   ]
  },
  {
   "cell_type": "markdown",
   "metadata": {},
   "source": [
    "- 1950年，阿兰·图灵创造了图灵测试来判定计算机是否智能。\n",
    "- 图灵测试认为，如果一台机器能够与人类展开对话（通过电传设备）而不能被辨别出其机器身份，那么称这台机器具有智能。\n",
    "- 这一简化使得图灵能够令人信服地说明“思考的机器”是可能的。"
   ]
  },
  {
   "cell_type": "markdown",
   "metadata": {},
   "source": [
    "#### （3）赫伯特·西蒙"
   ]
  },
  {
   "cell_type": "markdown",
   "metadata": {},
   "source": [
    "- 赫伯特·西蒙对学习给出比较准确的定义：\n",
    "  - 学习表示系统中的自适应变化，该变化能使系统比上一次更有效地完成同一群体所执行的同样任务。"
   ]
  },
  {
   "cell_type": "markdown",
   "metadata": {},
   "source": [
    "#### （4）阿瑟·塞缪尔"
   ]
  },
  {
   "cell_type": "markdown",
   "metadata": {},
   "source": [
    "- 1952年，IBM 的 Arthur Samuel（被誉为“机器学习之父”）在《Some Studies in Machine Learning Using the Game of Checkers》的论文中，定义并解释了一个新词——机器学习（Machine Learning，ML）。\n",
    "- 将机器学习非正式定义为”在不直接针对问题进行编程的情况下，赋予计算机学习能力的一个研究领域”。\n",
    "- 他还设计了一款可以学习的西洋跳棋程序。它能通过观察棋子的走位来构建新的模型，并用其提高自己的下棋技巧。\n",
    "- Samuel 和这个程序进行多场对弈后发现，随着时间的推移程序的棋艺变得越来越好。"
   ]
  },
  {
   "cell_type": "markdown",
   "metadata": {},
   "source": [
    "#### （5）罗森·布纳特"
   ]
  },
  {
   "cell_type": "markdown",
   "metadata": {},
   "source": [
    "- 1957年，罗森·布纳特（Rosenblatt）发明了感知机（或称感知器，Perceptron），是神经网络的雏形，同时也是支持向量机的基础，在当时引起了不小的轰动。\n",
    "- 感知机是二类分类的线性分类模型，其输入为实例的特征向量，输出为实例的类别，取+1和-1二值。感知机对应于输入空间（特征空间）中将实例划分为正负两类的分离超平面，属于判别模型。感知机学习旨在求出将训练数据进行线性划分的分离超平面。\n",
    "<img src='images\\ch01\\02.png'>"
   ]
  },
  {
   "cell_type": "markdown",
   "metadata": {},
   "source": [
    "#### （6）马文·明斯基（人工智能之父）\n",
    "- 人工智能领域先驱，麻省理工学院人工智能实验室联合创始人。美国工程院和美国科学院院士\n"
   ]
  },
  {
   "cell_type": "markdown",
   "metadata": {},
   "source": [
    "- 1969年，马文·明斯基（Minskey）将感知机推到最高顶峰。\n",
    "- 他提出了著名的XOR问题和感知机数据线性不可分的情形，论证了感知器在类似XOR问题的线性不可分数据的无力，以至于其后十年被称为“冷静时期”，给感知机画上了一个逗号，以洪荒之力将如火如荼将的ML暂时封印了起来，Rosenblatt（罗森·布纳特）在这之后两年郁郁而终与此也不无关系。\n",
    "<img src='images\\ch01\\05.png'>"
   ]
  },
  {
   "cell_type": "markdown",
   "metadata": {},
   "source": [
    "#### （7）杰弗里·辛顿"
   ]
  },
  {
   "cell_type": "markdown",
   "metadata": {},
   "source": [
    "- 2006年，Hinton（辛顿）和他的学生在《Nature》上发表了一篇文章，提出的深度置信网络（Deep Belief Network，DBN）开启了深度学习新纪元。\n",
    "<img src='images\\ch01\\16.png'>"
   ]
  },
  {
   "cell_type": "markdown",
   "metadata": {},
   "source": [
    "#### （8） Yann Lecun，中文名燕乐存"
   ]
  },
  {
   "cell_type": "markdown",
   "metadata": {},
   "source": [
    "- Facebook人工智能实验室主任，NYU数据科学中心创始人，计算机科学、神经科学、电子电气科学教授。\n",
    "- 卷积神经网络之父，并且担任Facebook人工智能实验室的负责人，他还是纽约大学的终身教授\n",
    "- 燕乐存早在上世纪 80 年代就开始研究神经网络的相关技术，并且做出了远超过其他科学家的开创性贡献，也是把多层神经网络推进到深度学习概念的第一人。"
   ]
  },
  {
   "cell_type": "markdown",
   "metadata": {},
   "source": [
    " ### 1.3.3 机器学习应用领域\n",
    "- 机器学习中比较活跃的四大应用领域：\n",
    "\n",
    "　　　　（1）数据挖掘，发现数据之间的关系\n",
    "\n",
    "　　　　（2）计算机视觉，像人一样看懂世界\n",
    "\n",
    "　　　　（3）自然语言处理，像人一样看懂文字\n",
    "\n",
    "　　　　（4）机器人决策，像人一样具有决策能力"
   ]
  },
  {
   "cell_type": "markdown",
   "metadata": {},
   "source": [
    "## 1.4 机器学习的分类\n",
    "（按照是否在人的监督下进行训练分类）\n",
    "\n",
    "- 监督学习\n",
    "\n",
    "    - 任务流程：给定数据集，训练预测函数，对于新未知数据，预测出结果\n",
    "    - 数据要求：包括输入（亦称特征）和输出（亦称目标）\n",
    "    - 目标数据：目标是由人标注\n",
    "    - 问题分类：统计分类、回归分析\n",
    "    - 数  据  集：训练集 + 测试集\n",
    "\n",
    "\n",
    "- 无监督学习\n",
    "\n",
    "    - 特别之处：不同于监督学习，无监督学习没有人为标注的目标数据\n",
    "    - 常见算法：聚类、生成对抗网络（GAN）等\n",
    "    \n",
    "\n",
    "- 半监督学习 —— 介于监督学习与无监督学习之间\n",
    "\n",
    "\n",
    "- 增强学习\n",
    "    - 行为调整：为了达成目标，随着环境的变动，逐步调整机器学习\n",
    "    - 评估反馈：每一个行为之后的指标（正向或负向）\n",
    "    "
   ]
  },
  {
   "cell_type": "markdown",
   "metadata": {},
   "source": [
    "## 1.5 机器学习算法 （略）\n",
    "\n",
    "### 1.5.1 构造间隔理论分布：聚类分析和模式识别\n",
    "\n",
    "- 人工神经网络\n",
    "- 决策树\n",
    "- 感知器\n",
    "- 支持向量机\n",
    "- 集成学习AdaBoost\n",
    "- 降维与度量学习\n",
    "- 聚类\n",
    "- 贝叶斯分类器\n",
    "\n",
    "\n",
    "### 1.5.2 构造条件概率：回归分析和统计分类\n",
    "\n",
    "- 高斯过程回归\n",
    "- 线性判别分析\n",
    "- 最近邻居法\n",
    "- 径向基函数核\n",
    "\n",
    "\n",
    "### 1.5.3 通过再生模型构造概率密度函数\n",
    "\n",
    "- 最大期望算法\n",
    "- 概率图模型：包括贝叶斯网和Markov随机场\n",
    "- Generative Topographic Mapping\n",
    "\n",
    "### 1.5.4 近似推断技术：\n",
    "\n",
    "- 马尔可夫链\n",
    "- 蒙特卡罗方法\n",
    "- 变分法\n",
    "\n",
    "### 1.5.5 最优化方法\n",
    "\n",
    "- 大多数以上方法，直接或者间接使用最优化算法"
   ]
  },
  {
   "cell_type": "markdown",
   "metadata": {},
   "source": [
    "## 1.6 前期课程准备\n",
    "\n",
    "### 1.6.1 必备\n",
    "\n",
    "- 高等数学\n",
    "- 线性代数\n",
    "- 概率统计\n",
    "- Python 语言 <font face=\"黑体\" color=red size=6>[这里敲黑板！！！]</font> \n",
    "    - 基本编程\n",
    "    - Numpy 模块\n",
    "    - Scipy 模块\n",
    "    - Matplotlib 模块\n",
    "    - 我们认为同学们已经掌握以上部分知识了！\n",
    "    \n",
    "\n",
    "\n",
    "### 1.6.2 可选 —— 虽非必要，但有益\n",
    "\n",
    "- 数值分析（或计算方法）\n",
    "- 矩阵代数\n",
    "- 逼近论\n",
    "- 数据处理"
   ]
  },
  {
   "cell_type": "markdown",
   "metadata": {},
   "source": [
    "## 1.7 学习注意事项\n",
    "\n",
    "- 火热之中，保持冷静\n",
    "    - 不求急进，在于积累\n",
    "    - 工具繁多，精习一二\n",
    "    - 热点遍布，避免迷失\n",
    "    \n",
    "    \n",
    "- 知识海洋，注意取舍\n",
    "    - 时效性\n",
    "    - 实用性\n",
    "    - 大数据\n",
    "\n",
    "\n",
    "- 持之以恒，看准方向\n",
    "    - 方向把握最为重要！！！\n",
    "    - 不是简单的与时俱进、不忘初心、执着坚守、或不见异思迁...\n",
    "\n",
    "\n",
    "- 其它......"
   ]
  },
  {
   "cell_type": "markdown",
   "metadata": {},
   "source": [
    "## 1.8 教学计划\n",
    "\n",
    "### 1.8.1 分若干部分\n",
    "\n",
    "- 绪论\n",
    "- 数据源与数据采集\n",
    "- Pandas 模块\n",
    "- Scikit-Learn 模块\n",
    "- 数据特征分析 —— 特征工程、数据特征挖掘、特征提取等\n",
    "- 案例介绍\n",
    "- 考试\n",
    "\n",
    "### 1.8.2 本课程侧重点\n",
    "\n",
    "- 重于应用、实现\n",
    "- 不专门讲算法理论\n",
    "\n",
    "### 1.8.3 教学模式 —— 复合模式（互动、合作、翻转...）\n",
    "\n",
    "- 基于网络平台 Moodle\n",
    "    - 访问 [10.10.201.129/moodle](10.10.201.129/moodle)\n",
    "- 课上和课下结合\n",
    "    - 双机同步跟随\n",
    "\n",
    "\n",
    "### 1.8.4 教材与参考资料\n",
    "\n",
    "- 以课件为主\n",
    "- 在线帮助文档\n",
    "    - 《Scikit-Learn Tutorials》，http://scikit-learn.org/stable/tutorial/index.html (最新版)\n",
    "    - 《Scikit-Learn User Guide》，http://scikit-learn.org/stable/user_guide.html (最新版)\n",
    "    - 《Pandas Documentation》，http://pandas.pydata.org/pandas-docs/stable/documentation.html (最新版)\n",
    "- 参考\n",
    "    - 《Pandas Cookbook》，官网教材(Release 0.25.1)，http://pandas.pydata.org/pandas-docs/stable/cookbook.html\n",
    "    \n",
    "    \n",
    "- 数据源\n",
    "    - Kaggle、ucmi、天池等"
   ]
  },
  {
   "cell_type": "markdown",
   "metadata": {},
   "source": [
    "## 1.9 评分模式\n",
    "- 出勤　　　　　10%\n",
    "- 平时作业　　　20%\n",
    "- 大作业　　　　30%\n",
    "- 期末考试　　　40%"
   ]
  },
  {
   "cell_type": "markdown",
   "metadata": {},
   "source": [
    "## 第1讲 结束"
   ]
  }
 ],
 "metadata": {
  "celltoolbar": "Raw Cell Format",
  "kernelspec": {
   "display_name": "Python 3 (ipykernel)",
   "language": "python",
   "name": "python3"
  },
  "language_info": {
   "codemirror_mode": {
    "name": "ipython",
    "version": 3
   },
   "file_extension": ".py",
   "mimetype": "text/x-python",
   "name": "python",
   "nbconvert_exporter": "python",
   "pygments_lexer": "ipython3",
   "version": "3.7.4"
  }
 },
 "nbformat": 4,
 "nbformat_minor": 2
}
