{
 "cells": [
  {
   "cell_type": "markdown",
   "metadata": {},
   "source": [
    "# 案例分析(4) —— VTI 股价预测(LSTM)"
   ]
  },
  {
   "cell_type": "markdown",
   "metadata": {},
   "source": [
    "# 1、股价预测 —— LSTM"
   ]
  },
  {
   "cell_type": "markdown",
   "metadata": {},
   "source": [
    "## 1.1 LSTM"
   ]
  },
  {
   "cell_type": "markdown",
   "metadata": {},
   "source": [
    "- Long Short-Term Memory 长短期记忆网络\n",
    "- 是一种循环神经网络（RNN）\n",
    "- 适合于处理和预测时间序列中间隔和延迟相对较长的重要事件"
   ]
  },
  {
   "cell_type": "markdown",
   "metadata": {},
   "source": [
    "## 1.2 目标"
   ]
  },
  {
   "cell_type": "markdown",
   "metadata": {},
   "source": [
    "- 使用长短期记忆（LSTM）预测下一天的股票价格\n",
    "- 根据前 N 天的价格，预测 N+1 天的价格\n",
    "- 数据集分成三份\n",
    "    - train (60%)\n",
    "    - dev (20%)\n",
    "    - test (20%)"
   ]
  },
  {
   "cell_type": "markdown",
   "metadata": {},
   "source": [
    "## 1.3 依赖库"
   ]
  },
  {
   "cell_type": "markdown",
   "metadata": {},
   "source": [
    "#### (1) TensorFlow"
   ]
  },
  {
   "cell_type": "markdown",
   "metadata": {},
   "source": [
    "- [官网](https://tensorflow.google.cn/)\n",
    "- 基于数据流编程（dataflow programming）的符号数学系统\n",
    "- 被广泛应用于各类机器学习（machine learning）算法的编程实现\n",
    "- 在机器学习、深度学习领域有广泛应用\n",
    "- 安装\n",
    "    - 有 GPU / 有独立显卡\n",
    "        - pip install tensorflow-gpu\n",
    "    - 没有 GPU / 没有独立显卡 / 只有集成显卡\n",
    "        - pip install tensorflow"
   ]
  },
  {
   "cell_type": "markdown",
   "metadata": {},
   "source": [
    "#### (2) Keras"
   ]
  },
  {
   "cell_type": "markdown",
   "metadata": {},
   "source": [
    "- 基于 Theano 和 TensorFlow 的深度学习库\n",
    "- 高层神经网络 API\n",
    "- 为支持快速实验而生，能够把你的 idea 迅速转换为结果\n",
    "- 安装\n",
    "    - pip install keras"
   ]
  },
  {
   "cell_type": "markdown",
   "metadata": {},
   "source": [
    "#### (3) GraphViz"
   ]
  },
  {
   "cell_type": "markdown",
   "metadata": {},
   "source": [
    "- 神经网络可视化\n",
    "- 安装\n",
    "    - ① pip install graphviz\n",
    "    - ② 下载 [GraphViz 安装包](https://www.graphviz.org/download/)\n",
    "        - 安装在除 C 盘外的其他盘（防止因为 Python 权限不够，不能调用）\n",
    "        - 添加到环境变量（比如：右击“这台电脑”- 属性 - 高级系统设置 - 环境变量 - 点击系统变量中的 Path - 编辑 - 添加 \"D:\\softwares\\Graphiz\\bin\"）\n",
    "    - ③ pip install pydotplus\n",
    "    - ④ 找到 Anaconda 的 keras 模块安装位置\n",
    "        - 我的是 C:\\Users\\Degg\\Anaconda3\\Lib\\site-packages\\keras\\utils\n",
    "        - 用文本编辑器打开 vis_utils.py\n",
    "        - 把里面的 pydot 都改成 pydotplus"
   ]
  },
  {
   "cell_type": "markdown",
   "metadata": {},
   "source": [
    "## 1.4 导入模块"
   ]
  },
  {
   "cell_type": "code",
   "execution_count": 3,
   "metadata": {},
   "outputs": [
    {
     "name": "stderr",
     "output_type": "stream",
     "text": [
      "Using TensorFlow backend.\n"
     ]
    }
   ],
   "source": [
    "%matplotlib inline\n",
    "\n",
    "import math\n",
    "import matplotlib\n",
    "import numpy as np\n",
    "import pandas as pd\n",
    "import seaborn as sns\n",
    "import time\n",
    "\n",
    "from datetime import date\n",
    "from matplotlib import pyplot as plt\n",
    "from matplotlib import style\n",
    "from numpy.random import seed\n",
    "from pylab import rcParams\n",
    "from sklearn.metrics import mean_squared_error\n",
    "from tqdm import tqdm_notebook\n",
    "from sklearn.preprocessing import StandardScaler\n",
    "from IPython.display import SVG\n",
    "from tensorflow import set_random_seed\n",
    "from keras.models import Sequential\n",
    "from keras.layers import Dense, Dropout, LSTM\n",
    "from keras.utils import plot_model\n",
    "from keras.utils.vis_utils import model_to_dot"
   ]
  },
  {
   "cell_type": "code",
   "execution_count": null,
   "metadata": {},
   "outputs": [],
   "source": [
    "# 出现No module named 'numpy.core._multiarray_umath'。这是在使用Tensorflow时出现的错误。\n",
    "# numpy是一个基础的数组计算包，Tensorflow、 tensorboard、Keras-Preprocessing、h5py、pandas等一系列常用的第三方库都需要numpy的支持。\n",
    "# 这里提示numpy.core._multiarray_umath failed to import和numpy.core.umath failed to import ，\n",
    "# 得知无法正常import tensorflow 的原因是numpy库的引用出了问题。应该是numpy版本和当前Tensorflow版本兼容性问题。\n",
    "# 解决方法：\n",
    "# 方法一：\n",
    "# pip install --user --upgrade numpy   #将numpy更新到最新版本\n",
    "# pip install numpy==1.16  #这个好用！！"
   ]
  },
  {
   "cell_type": "markdown",
   "metadata": {},
   "source": [
    "## 1.5 设置参数"
   ]
  },
  {
   "cell_type": "code",
   "execution_count": 4,
   "metadata": {},
   "outputs": [],
   "source": [
    "#### Input params ##################\n",
    "stk_path = \"./VTI.csv\"\n",
    "test_size = 0.2                # 交叉验证集 (cross-validation set) 占总数据集 (dataset) 的比例\n",
    "cv_size = 0.2                  # 测试集 (test set) 占总数据集的比例\n",
    "\n",
    "N = 9                          # 对于第 t 天，以滞后 t-1, t-2, ..., t-N 作为特征\n",
    "                               # 初始值，后续会调参（tuning）\n",
    "lstm_units = 50                # LSTM 初始参数：单元个数\n",
    "dropout_prob = 1               # LSTM 初始参数：dropout（随机失活），用于解决深度神经网络中的过拟合或梯度消失问题\n",
    "optimizer = 'adam'             # LSTM 初始参数：Adam —— 优化器的一种\n",
    "epochs = 1                     # LSTM 初始参数：训练的轮次\n",
    "batch_size = 1                 # LSTM 初始参数：每次训练的样本个数\n",
    "\n",
    "model_seed = 100\n",
    "\n",
    "fontsize = 14\n",
    "ticklabelsize = 14\n",
    "####################################\n",
    "\n",
    "# 设置随机种子，从而确保每次得到相同的结果\n",
    "seed(101)\n",
    "set_random_seed(model_seed)"
   ]
  },
  {
   "cell_type": "markdown",
   "metadata": {},
   "source": [
    "## 1.6 通用函数"
   ]
  },
  {
   "cell_type": "markdown",
   "metadata": {},
   "source": [
    "#### (1) 计算平均绝对百分比误差"
   ]
  },
  {
   "cell_type": "code",
   "execution_count": 5,
   "metadata": {},
   "outputs": [],
   "source": [
    "def get_mape(y_true, y_pred): \n",
    "    \"\"\"\n",
    "    Compute mean absolute percentage error (MAPE)\n",
    "    \"\"\"\n",
    "    y_true, y_pred = np.array(y_true), np.array(y_pred)\n",
    "    return np.mean(np.abs((y_true - y_pred) / y_true)) * 100"
   ]
  },
  {
   "cell_type": "markdown",
   "metadata": {},
   "source": [
    "#### (2) 建立数据集"
   ]
  },
  {
   "cell_type": "code",
   "execution_count": 7,
   "metadata": {},
   "outputs": [],
   "source": [
    "def get_x_y(data, N, offset):\n",
    "    \"\"\"\n",
    "    把数据分成 x（特征）和 y（目标）\n",
    "    \"\"\"\n",
    "    x, y = [], []\n",
    "    for i in range(offset, len(data)):\n",
    "        x.append(data[i-N:i])\n",
    "        y.append(data[i])\n",
    "    x = np.array(x)\n",
    "    y = np.array(y)\n",
    "    \n",
    "    return x, y"
   ]
  },
  {
   "cell_type": "markdown",
   "metadata": {},
   "source": [
    "#### (3) 特征归一化"
   ]
  },
  {
   "cell_type": "code",
   "execution_count": 8,
   "metadata": {},
   "outputs": [],
   "source": [
    "def get_x_scaled_y(data, N, offset):\n",
    "    \"\"\"\n",
    "    把数据分成 x（特征）和 y（目标）\n",
    "    把 x 进行归一化，即均值为 0，标准差为 1\n",
    "    不对 y 进行归一化\n",
    "    输入：\n",
    "        data     : pandas 序列\n",
    "        N        : N 组数据\n",
    "        offset   : 序列从 offset 之后的值 开始作为目标\n",
    "    输出：\n",
    "        x_scaled : 归一化后的特征 x\n",
    "        y        : 未归一化的目标值\n",
    "        mu_list  : 存储均值的列表，与 x_scaled 和 y 长度相同\n",
    "        std_list : 存储标准差的列表，与 x_scaled 和 y 长度相同\n",
    "    \"\"\"\n",
    "    x_scaled, y, mu_list, std_list = [], [], [], []\n",
    "    for i in range(offset, len(data)):\n",
    "        mu_list.append(np.mean(data[i-N:i]))\n",
    "        std_list.append(np.std(data[i-N:i]))\n",
    "        x_scaled.append((data[i-N:i] - mu_list[i-offset])/std_list[i-offset])\n",
    "        y.append(data[i])\n",
    "    x_scaled = np.array(x_scaled)\n",
    "    y = np.array(y)\n",
    "    \n",
    "    return x_scaled, y, mu_list, std_list"
   ]
  },
  {
   "cell_type": "markdown",
   "metadata": {},
   "source": [
    "#### (4) 训练 · 预测 · 评估模型"
   ]
  },
  {
   "cell_type": "code",
   "execution_count": 9,
   "metadata": {},
   "outputs": [],
   "source": [
    "def train_pred_eval_model(x_train_scaled,\n",
    "                          y_train_scaled,\n",
    "                          x_cv_scaled,\n",
    "                          y_cv,\n",
    "                          mu_cv_list,\n",
    "                          std_cv_list,\n",
    "                          lstm_units=50,\n",
    "                          dropout_prob=0.5,\n",
    "                          optimizer='adam',\n",
    "                          epochs=1,\n",
    "                          batch_size=1):\n",
    "    '''\n",
    "    功能：\n",
    "        训练模型，进行预测，缩放回原始，评估模型\n",
    "        使用 LSTM\n",
    "        返回 RMSE，MAPE 和 预测值\n",
    "    输入：\n",
    "        x_train_scaled  : e.g. x_train_scaled.shape=(451, 9, 1). 我们使用过去 9 个值来预测下一个值\n",
    "        y_train_scaled  : e.g. y_train_scaled.shape=(451, 1)\n",
    "        x_cv_scaled     : 验证集，用于做预测\n",
    "        y_cv            : 验证集，实际值\n",
    "        mu_cv_list      : 存储均值的列表，与 x_scaled 和 y 长度相同\n",
    "        std_cv_list     : 存储标准差的列表，与 x_scaled 和 y 长度相同\n",
    "        lstm_units      : LSTM 参数\n",
    "        dropout_prob    : LSTM 参数\n",
    "        optimizer       : LSTM 参数\n",
    "        epochs          : LSTM 参数\n",
    "        batch_size      : LSTM 参数\n",
    "    Outputs\n",
    "        rmse            : root mean square error\n",
    "        mape            : mean absolute percentage error\n",
    "        y_cv_pred       : predictions\n",
    "    '''\n",
    "    # 创建 LSTM 网络\n",
    "    model = Sequential()\n",
    "    model.add(LSTM(units=lstm_units, return_sequences=True, input_shape=(x_train_scaled.shape[1],1)))\n",
    "    model.add(Dropout(dropout_prob))  # 添加 dropout，概率为 0.5\n",
    "    model.add(LSTM(units=lstm_units))\n",
    "    model.add(Dropout(dropout_prob))  # 添加 dropout，概率为 0.5\n",
    "    model.add(Dense(1))\n",
    "\n",
    "    # 训练 LSTM 网络\n",
    "    model.compile(loss='mean_squared_error', optimizer=optimizer)\n",
    "    model.fit(x_train_scaled, y_train_scaled, epochs=epochs, batch_size=batch_size, verbose=0)\n",
    "    \n",
    "    # 预测\n",
    "    y_cv_pred_scaled = model.predict(x_cv_scaled)\n",
    "    y_cv_pred = (y_cv_pred_scaled * np.array(std_cv_list).reshape(-1,1)) + np.array(mu_cv_list).reshape(-1,1)\n",
    "    \n",
    "    # 计算 RMSE 和 MAPE\n",
    "    rmse = math.sqrt(mean_squared_error(y_cv, y_cv_pred))\n",
    "    mape = get_mape(y_cv, y_cv_pred)\n",
    "    \n",
    "    return rmse, mape, y_cv_pred"
   ]
  },
  {
   "cell_type": "markdown",
   "metadata": {},
   "source": [
    "## 1.7 导入数据"
   ]
  },
  {
   "cell_type": "markdown",
   "metadata": {},
   "source": [
    "#### (1) 导入并简单处理"
   ]
  },
  {
   "cell_type": "code",
   "execution_count": 10,
   "metadata": {},
   "outputs": [
    {
     "data": {
      "text/html": [
       "<div>\n",
       "<style scoped>\n",
       "    .dataframe tbody tr th:only-of-type {\n",
       "        vertical-align: middle;\n",
       "    }\n",
       "\n",
       "    .dataframe tbody tr th {\n",
       "        vertical-align: top;\n",
       "    }\n",
       "\n",
       "    .dataframe thead th {\n",
       "        text-align: right;\n",
       "    }\n",
       "</style>\n",
       "<table border=\"1\" class=\"dataframe\">\n",
       "  <thead>\n",
       "    <tr style=\"text-align: right;\">\n",
       "      <th></th>\n",
       "      <th>date</th>\n",
       "      <th>high</th>\n",
       "      <th>low</th>\n",
       "      <th>open</th>\n",
       "      <th>close</th>\n",
       "      <th>volume</th>\n",
       "      <th>adj_close</th>\n",
       "      <th>month</th>\n",
       "    </tr>\n",
       "  </thead>\n",
       "  <tbody>\n",
       "    <tr>\n",
       "      <th>0</th>\n",
       "      <td>2015-11-24</td>\n",
       "      <td>107.589996</td>\n",
       "      <td>106.309998</td>\n",
       "      <td>106.570000</td>\n",
       "      <td>107.389999</td>\n",
       "      <td>2032600.0</td>\n",
       "      <td>100.287285</td>\n",
       "      <td>11</td>\n",
       "    </tr>\n",
       "    <tr>\n",
       "      <th>1</th>\n",
       "      <td>2015-11-25</td>\n",
       "      <td>107.660004</td>\n",
       "      <td>107.250000</td>\n",
       "      <td>107.510002</td>\n",
       "      <td>107.470001</td>\n",
       "      <td>1820300.0</td>\n",
       "      <td>100.361992</td>\n",
       "      <td>11</td>\n",
       "    </tr>\n",
       "    <tr>\n",
       "      <th>2</th>\n",
       "      <td>2015-11-27</td>\n",
       "      <td>107.760002</td>\n",
       "      <td>107.220001</td>\n",
       "      <td>107.589996</td>\n",
       "      <td>107.629997</td>\n",
       "      <td>552400.0</td>\n",
       "      <td>100.511406</td>\n",
       "      <td>11</td>\n",
       "    </tr>\n",
       "    <tr>\n",
       "      <th>3</th>\n",
       "      <td>2015-11-30</td>\n",
       "      <td>107.849998</td>\n",
       "      <td>107.110001</td>\n",
       "      <td>107.779999</td>\n",
       "      <td>107.169998</td>\n",
       "      <td>3618100.0</td>\n",
       "      <td>100.081833</td>\n",
       "      <td>11</td>\n",
       "    </tr>\n",
       "    <tr>\n",
       "      <th>4</th>\n",
       "      <td>2015-12-01</td>\n",
       "      <td>108.209999</td>\n",
       "      <td>107.370003</td>\n",
       "      <td>107.589996</td>\n",
       "      <td>108.180000</td>\n",
       "      <td>2443600.0</td>\n",
       "      <td>101.025032</td>\n",
       "      <td>12</td>\n",
       "    </tr>\n",
       "  </tbody>\n",
       "</table>\n",
       "</div>"
      ],
      "text/plain": [
       "        date        high         low        open       close     volume  \\\n",
       "0 2015-11-24  107.589996  106.309998  106.570000  107.389999  2032600.0   \n",
       "1 2015-11-25  107.660004  107.250000  107.510002  107.470001  1820300.0   \n",
       "2 2015-11-27  107.760002  107.220001  107.589996  107.629997   552400.0   \n",
       "3 2015-11-30  107.849998  107.110001  107.779999  107.169998  3618100.0   \n",
       "4 2015-12-01  108.209999  107.370003  107.589996  108.180000  2443600.0   \n",
       "\n",
       "    adj_close  month  \n",
       "0  100.287285     11  \n",
       "1  100.361992     11  \n",
       "2  100.511406     11  \n",
       "3  100.081833     11  \n",
       "4  101.025032     12  "
      ]
     },
     "execution_count": 10,
     "metadata": {},
     "output_type": "execute_result"
    }
   ],
   "source": [
    "df = pd.read_csv(stk_path, sep = \",\")\n",
    "\n",
    "# 把第一列的 Date 转换成 datetime 对象\n",
    "df.loc[:, 'Date'] = pd.to_datetime(df['Date'],format='%Y-%m-%d')\n",
    "\n",
    "# 把所有列名转成小写，并把空格替换成下划线  比如 Date -> date , Adj Close -> adj_close\n",
    "df.columns = [str(x).lower().replace(' ', '_') for x in df.columns]\n",
    "\n",
    "# 加一列：月份列\n",
    "df['month'] = df['date'].dt.month\n",
    "\n",
    "# 根据 datetime 进行升序排序，原地排序\n",
    "df.sort_values(by='date', inplace=True, ascending=True)\n",
    "\n",
    "df.head()"
   ]
  },
  {
   "cell_type": "markdown",
   "metadata": {},
   "source": [
    "#### (2) 绘制adjusted close随时间变化曲线"
   ]
  },
  {
   "cell_type": "code",
   "execution_count": 11,
   "metadata": {},
   "outputs": [],
   "source": [
    "style.use('ggplot')"
   ]
  },
  {
   "cell_type": "code",
   "execution_count": 12,
   "metadata": {},
   "outputs": [
    {
     "data": {
      "text/plain": [
       "Text(0,0.5,'USD')"
      ]
     },
     "execution_count": 12,
     "metadata": {},
     "output_type": "execute_result"
    },
    {
     "data": {
      "image/png": "[encoded data removed]",
      "text/plain": [
       "<Figure size 720x576 with 1 Axes>"
      ]
     },
     "metadata": {},
     "output_type": "display_data"
    }
   ],
   "source": [
    "# Plot adjusted close over time\n",
    "rcParams['figure.figsize'] = 10, 8 # width 10, height 8\n",
    "\n",
    "ax = df.plot(x='date', y='adj_close', style='b-', grid=True)\n",
    "ax.set_xlabel(\"date\")\n",
    "ax.set_ylabel(\"USD\")"
   ]
  },
  {
   "cell_type": "markdown",
   "metadata": {},
   "source": [
    "## 1.8 将数据集分成训练集、验证集、测试集"
   ]
  },
  {
   "cell_type": "markdown",
   "metadata": {},
   "source": [
    "#### (1) 获取各个集的大小"
   ]
  },
  {
   "cell_type": "code",
   "execution_count": 13,
   "metadata": {},
   "outputs": [
    {
     "name": "stdout",
     "output_type": "stream",
     "text": [
      "num_train = 454\n",
      "num_cv = 151\n",
      "num_test = 151\n"
     ]
    }
   ],
   "source": [
    "# Get sizes of each of the datasets\n",
    "\n",
    "num_cv = int(cv_size*len(df))\n",
    "num_test = int(test_size*len(df))\n",
    "num_train = len(df) - num_cv - num_test\n",
    "\n",
    "print(\"num_train = \" + str(num_train))\n",
    "print(\"num_cv = \" + str(num_cv))\n",
    "print(\"num_test = \" + str(num_test))"
   ]
  },
  {
   "cell_type": "markdown",
   "metadata": {},
   "source": [
    "#### (2) 数据集的分割\n",
    "- 时间序列\n",
    "- 只需要日期和收盘价"
   ]
  },
  {
   "cell_type": "code",
   "execution_count": 14,
   "metadata": {
    "scrolled": true
   },
   "outputs": [
    {
     "name": "stdout",
     "output_type": "stream",
     "text": [
      "train.shape = (454, 2)\n",
      "cv.shape = (151, 2)\n",
      "train_cv.shape = (605, 2)\n",
      "test.shape = (151, 2)\n"
     ]
    }
   ],
   "source": [
    "# Split into train, cv, and test\n",
    "train = df[:num_train][['date', 'adj_close']]\n",
    "cv = df[num_train:num_train+num_cv][['date', 'adj_close']]\n",
    "train_cv = df[:num_train+num_cv][['date', 'adj_close']]\n",
    "test = df[num_train+num_cv:][['date', 'adj_close']]\n",
    "\n",
    "print(\"train.shape = \" + str(train.shape))\n",
    "print(\"cv.shape = \" + str(cv.shape))\n",
    "print(\"train_cv.shape = \" + str(train_cv.shape))\n",
    "print(\"test.shape = \" + str(test.shape))"
   ]
  },
  {
   "cell_type": "markdown",
   "metadata": {},
   "source": [
    "#### (3) 训练集"
   ]
  },
  {
   "cell_type": "code",
   "execution_count": 15,
   "metadata": {},
   "outputs": [
    {
     "name": "stdout",
     "output_type": "stream",
     "text": [
      "scaler.mean_ = [107.85530771]\n",
      "scaler.var_ = [93.00280891]\n",
      "x_train_scaled.shape = (445, 9, 1)\n",
      "y_train_scaled.shape = (445, 1)\n"
     ]
    }
   ],
   "source": [
    "# Converting dataset into x_train and y_train\n",
    "# Here we only scale the train dataset, and not the entire dataset to prevent information leak\n",
    "scaler = StandardScaler()\n",
    "train_scaled = scaler.fit_transform(np.array(train['adj_close']).reshape(-1,1))\n",
    "print(\"scaler.mean_ = \" + str(scaler.mean_))\n",
    "print(\"scaler.var_ = \" + str(scaler.var_))\n",
    "\n",
    "# Split into x and y\n",
    "x_train_scaled, y_train_scaled = get_x_y(train_scaled, N, N)\n",
    "print(\"x_train_scaled.shape = \" + str(x_train_scaled.shape)) # (446, 9, 1)\n",
    "print(\"y_train_scaled.shape = \" + str(y_train_scaled.shape)) # (446, 1)"
   ]
  },
  {
   "cell_type": "markdown",
   "metadata": {},
   "source": [
    "#### (4) 验证集"
   ]
  },
  {
   "cell_type": "code",
   "execution_count": 16,
   "metadata": {},
   "outputs": [
    {
     "name": "stdout",
     "output_type": "stream",
     "text": [
      "x_cv_scaled.shape = (151, 9, 1)\n",
      "y_cv.shape = (151, 1)\n",
      "len(mu_cv_list) = 151\n",
      "len(std_cv_list) = 151\n"
     ]
    }
   ],
   "source": [
    "# Scale the cv dataset\n",
    "# Split into x and y\n",
    "x_cv_scaled, y_cv, mu_cv_list, std_cv_list = get_x_scaled_y(np.array(train_cv['adj_close']).reshape(-1,1), N, num_train)\n",
    "print(\"x_cv_scaled.shape = \" + str(x_cv_scaled.shape))\n",
    "print(\"y_cv.shape = \" + str(y_cv.shape))\n",
    "print(\"len(mu_cv_list) = \" + str(len(mu_cv_list)))\n",
    "print(\"len(std_cv_list) = \" + str(len(std_cv_list)))"
   ]
  },
  {
   "cell_type": "markdown",
   "metadata": {},
   "source": [
    "#### (5) 训练+验证集"
   ]
  },
  {
   "cell_type": "code",
   "execution_count": 17,
   "metadata": {},
   "outputs": [
    {
     "name": "stdout",
     "output_type": "stream",
     "text": [
      "scaler_final.mean_ = [114.0696099]\n",
      "scaler_final.var_ = [191.42353549]\n"
     ]
    }
   ],
   "source": [
    "# Here we scale the train_cv set, for the final model\n",
    "scaler_final = StandardScaler()\n",
    "train_cv_scaled_final = scaler_final.fit_transform(np.array(train_cv['adj_close']).reshape(-1,1))\n",
    "print(\"scaler_final.mean_ = \" + str(scaler_final.mean_))\n",
    "print(\"scaler_final.var_ = \" + str(scaler_final.var_))\n",
    "\n",
    "# # Scale the test dataset\n",
    "# x_test_scaled, y_test, mu_test_list, std_test_list = get_x_scaled_y(np.array(df['adj_close']).reshape(-1,1), N, num_train+num_cv)\n",
    "# print(\"x_test_scaled.shape = \" + str(x_test_scaled.shape))\n",
    "# print(\"y_test.shape = \" + str(y_test.shape))\n",
    "# print(\"len(mu_test_list) = \" + str(len(mu_test_list)))\n",
    "# print(\"len(std_test_list) = \" + str(len(std_test_list)))"
   ]
  },
  {
   "cell_type": "markdown",
   "metadata": {},
   "source": [
    "## 1.9 训练 LSTM 网络"
   ]
  },
  {
   "cell_type": "markdown",
   "metadata": {},
   "source": [
    "#### (1) 搭建网络"
   ]
  },
  {
   "cell_type": "code",
   "execution_count": 18,
   "metadata": {},
   "outputs": [
    {
     "name": "stdout",
     "output_type": "stream",
     "text": [
      "WARNING:tensorflow:From C:\\Users\\rjma\\Anaconda3\\lib\\site-packages\\tensorflow\\python\\framework\\op_def_library.py:263: colocate_with (from tensorflow.python.framework.ops) is deprecated and will be removed in a future version.\n",
      "Instructions for updating:\n",
      "Colocations handled automatically by placer.\n",
      "WARNING:tensorflow:From C:\\Users\\rjma\\Anaconda3\\lib\\site-packages\\tensorflow\\python\\ops\\math_ops.py:3066: to_int32 (from tensorflow.python.ops.math_ops) is deprecated and will be removed in a future version.\n",
      "Instructions for updating:\n",
      "Use tf.cast instead.\n",
      "Epoch 1/1\n",
      " - 8s - loss: 0.0609\n"
     ]
    },
    {
     "data": {
      "text/plain": [
       "<keras.callbacks.History at 0x172d08a6390>"
      ]
     },
     "execution_count": 18,
     "metadata": {},
     "output_type": "execute_result"
    }
   ],
   "source": [
    "# Create the LSTM network\n",
    "model = Sequential()\n",
    "model.add(LSTM(units=lstm_units, return_sequences=True, input_shape=(x_train_scaled.shape[1],1)))\n",
    "model.add(Dropout(dropout_prob))  # Add dropout with a probability of 0.5\n",
    "model.add(LSTM(units=lstm_units))\n",
    "model.add(Dropout(dropout_prob))  # Add dropout with a probability of 0.5\n",
    "model.add(Dense(1))\n",
    "\n",
    "model.compile(loss='mean_squared_error', optimizer=optimizer)\n",
    "model.fit(x_train_scaled, y_train_scaled, epochs=epochs, batch_size=batch_size, verbose=2)"
   ]
  },
  {
   "cell_type": "markdown",
   "metadata": {},
   "source": [
    "#### (2) 打印模型 summary"
   ]
  },
  {
   "cell_type": "code",
   "execution_count": 19,
   "metadata": {},
   "outputs": [
    {
     "name": "stdout",
     "output_type": "stream",
     "text": [
      "_________________________________________________________________\n",
      "Layer (type)                 Output Shape              Param #   \n",
      "=================================================================\n",
      "lstm_1 (LSTM)                (None, 9, 50)             10400     \n",
      "_________________________________________________________________\n",
      "dropout_1 (Dropout)          (None, 9, 50)             0         \n",
      "_________________________________________________________________\n",
      "lstm_2 (LSTM)                (None, 50)                20200     \n",
      "_________________________________________________________________\n",
      "dropout_2 (Dropout)          (None, 50)                0         \n",
      "_________________________________________________________________\n",
      "dense_1 (Dense)              (None, 1)                 51        \n",
      "=================================================================\n",
      "Total params: 30,651\n",
      "Trainable params: 30,651\n",
      "Non-trainable params: 0\n",
      "_________________________________________________________________\n"
     ]
    }
   ],
   "source": [
    "# Print model summary\n",
    "model.summary()"
   ]
  },
  {
   "cell_type": "markdown",
   "metadata": {},
   "source": [
    "#### (3) 模型结构可视化显示，并输出到文件"
   ]
  },
  {
   "cell_type": "code",
   "execution_count": 20,
   "metadata": {},
   "outputs": [
    {
     "data": {
      "image/svg+xml": [
       "<svg height=\"410pt\" viewBox=\"0.00 0.00 138.00 410.00\" width=\"138pt\" xmlns=\"http://www.w3.org/2000/svg\" xmlns:xlink=\"http://www.w3.org/1999/xlink\">\n",
       "<g class=\"graph\" id=\"graph0\" transform=\"scale(1 1) rotate(0) translate(4 406)\">\n",
       "<title>G</title>\n",
       "<polygon fill=\"white\" points=\"-4,4 -4,-406 134,-406 134,4 -4,4\" stroke=\"none\"/>\n",
       "<!-- 1592632434872 -->\n",
       "<g class=\"node\" id=\"node1\"><title>1592632434872</title>\n",
       "<polygon fill=\"none\" points=\"16,-292.5 16,-328.5 114,-328.5 114,-292.5 16,-292.5\" stroke=\"black\"/>\n",
       "<text font-family=\"Times New Roman,serif\" font-size=\"14.00\" text-anchor=\"middle\" x=\"65\" y=\"-306.8\">lstm_1: LSTM</text>\n",
       "</g>\n",
       "<!-- 1592632435320 -->\n",
       "<g class=\"node\" id=\"node2\"><title>1592632435320</title>\n",
       "<polygon fill=\"none\" points=\"0,-219.5 0,-255.5 130,-255.5 130,-219.5 0,-219.5\" stroke=\"black\"/>\n",
       "<text font-family=\"Times New Roman,serif\" font-size=\"14.00\" text-anchor=\"middle\" x=\"65\" y=\"-233.8\">dropout_1: Dropout</text>\n",
       "</g>\n",
       "<!-- 1592632434872&#45;&gt;1592632435320 -->\n",
       "<g class=\"edge\" id=\"edge2\"><title>1592632434872-&gt;1592632435320</title>\n",
       "<path d=\"M65,-292.313C65,-284.289 65,-274.547 65,-265.569\" fill=\"none\" stroke=\"black\"/>\n",
       "<polygon fill=\"black\" points=\"68.5001,-265.529 65,-255.529 61.5001,-265.529 68.5001,-265.529\" stroke=\"black\"/>\n",
       "</g>\n",
       "<!-- 1592632437448 -->\n",
       "<g class=\"node\" id=\"node3\"><title>1592632437448</title>\n",
       "<polygon fill=\"none\" points=\"16,-146.5 16,-182.5 114,-182.5 114,-146.5 16,-146.5\" stroke=\"black\"/>\n",
       "<text font-family=\"Times New Roman,serif\" font-size=\"14.00\" text-anchor=\"middle\" x=\"65\" y=\"-160.8\">lstm_2: LSTM</text>\n",
       "</g>\n",
       "<!-- 1592632435320&#45;&gt;1592632437448 -->\n",
       "<g class=\"edge\" id=\"edge3\"><title>1592632435320-&gt;1592632437448</title>\n",
       "<path d=\"M65,-219.313C65,-211.289 65,-201.547 65,-192.569\" fill=\"none\" stroke=\"black\"/>\n",
       "<polygon fill=\"black\" points=\"68.5001,-192.529 65,-182.529 61.5001,-192.529 68.5001,-192.529\" stroke=\"black\"/>\n",
       "</g>\n",
       "<!-- 1592632222888 -->\n",
       "<g class=\"node\" id=\"node4\"><title>1592632222888</title>\n",
       "<polygon fill=\"none\" points=\"0,-73.5 0,-109.5 130,-109.5 130,-73.5 0,-73.5\" stroke=\"black\"/>\n",
       "<text font-family=\"Times New Roman,serif\" font-size=\"14.00\" text-anchor=\"middle\" x=\"65\" y=\"-87.8\">dropout_2: Dropout</text>\n",
       "</g>\n",
       "<!-- 1592632437448&#45;&gt;1592632222888 -->\n",
       "<g class=\"edge\" id=\"edge4\"><title>1592632437448-&gt;1592632222888</title>\n",
       "<path d=\"M65,-146.313C65,-138.289 65,-128.547 65,-119.569\" fill=\"none\" stroke=\"black\"/>\n",
       "<polygon fill=\"black\" points=\"68.5001,-119.529 65,-109.529 61.5001,-119.529 68.5001,-119.529\" stroke=\"black\"/>\n",
       "</g>\n",
       "<!-- 1592631680976 -->\n",
       "<g class=\"node\" id=\"node5\"><title>1592631680976</title>\n",
       "<polygon fill=\"none\" points=\"13,-0.5 13,-36.5 117,-36.5 117,-0.5 13,-0.5\" stroke=\"black\"/>\n",
       "<text font-family=\"Times New Roman,serif\" font-size=\"14.00\" text-anchor=\"middle\" x=\"65\" y=\"-14.8\">dense_1: Dense</text>\n",
       "</g>\n",
       "<!-- 1592632222888&#45;&gt;1592631680976 -->\n",
       "<g class=\"edge\" id=\"edge5\"><title>1592632222888-&gt;1592631680976</title>\n",
       "<path d=\"M65,-73.3129C65,-65.2895 65,-55.5475 65,-46.5691\" fill=\"none\" stroke=\"black\"/>\n",
       "<polygon fill=\"black\" points=\"68.5001,-46.5288 65,-36.5288 61.5001,-46.5289 68.5001,-46.5288\" stroke=\"black\"/>\n",
       "</g>\n",
       "<!-- 1592632436496 -->\n",
       "<g class=\"node\" id=\"node6\"><title>1592632436496</title>\n",
       "<polygon fill=\"none\" points=\"13,-365.5 13,-401.5 117,-401.5 117,-365.5 13,-365.5\" stroke=\"black\"/>\n",
       "<text font-family=\"Times New Roman,serif\" font-size=\"14.00\" text-anchor=\"middle\" x=\"65\" y=\"-379.8\">1592632436496</text>\n",
       "</g>\n",
       "<!-- 1592632436496&#45;&gt;1592632434872 -->\n",
       "<g class=\"edge\" id=\"edge1\"><title>1592632436496-&gt;1592632434872</title>\n",
       "<path d=\"M65,-365.313C65,-357.289 65,-347.547 65,-338.569\" fill=\"none\" stroke=\"black\"/>\n",
       "<polygon fill=\"black\" points=\"68.5001,-338.529 65,-328.529 61.5001,-338.529 68.5001,-338.529\" stroke=\"black\"/>\n",
       "</g>\n",
       "</g>\n",
       "</svg>"
      ],
      "text/plain": [
       "<IPython.core.display.SVG object>"
      ]
     },
     "execution_count": 20,
     "metadata": {},
     "output_type": "execute_result"
    }
   ],
   "source": [
    "plot_model(model, to_file='model_lstm.png')\n",
    "SVG(model_to_dot(model).create(prog='dot', format='svg'))"
   ]
  },
  {
   "cell_type": "markdown",
   "metadata": {},
   "source": [
    "## 1.10 在验证集上预测"
   ]
  },
  {
   "cell_type": "markdown",
   "metadata": {},
   "source": [
    "#### (1) 作预测"
   ]
  },
  {
   "cell_type": "code",
   "execution_count": 21,
   "metadata": {},
   "outputs": [
    {
     "name": "stdout",
     "output_type": "stream",
     "text": [
      "y_cv_pred.shape = (151, 1)\n"
     ]
    }
   ],
   "source": [
    "# Do prediction\n",
    "y_cv_pred_scaled = model.predict(x_cv_scaled)\n",
    "y_cv_pred = (y_cv_pred_scaled * np.array(std_cv_list).reshape(-1,1)) + np.array(mu_cv_list).reshape(-1,1)\n",
    "print(\"y_cv_pred.shape = \" + str(y_cv_pred.shape))"
   ]
  },
  {
   "cell_type": "markdown",
   "metadata": {},
   "source": [
    "#### (2) 计算 RMSE"
   ]
  },
  {
   "cell_type": "markdown",
   "metadata": {},
   "source": [
    "- RMSE before tuning: 调参之前的 RMSE"
   ]
  },
  {
   "cell_type": "code",
   "execution_count": 22,
   "metadata": {},
   "outputs": [
    {
     "name": "stdout",
     "output_type": "stream",
     "text": [
      "RMSE = 2.193\n"
     ]
    }
   ],
   "source": [
    "# Calculate RMSE\n",
    "rmse_bef_tuning = math.sqrt(mean_squared_error(y_cv, y_cv_pred))\n",
    "print(\"RMSE = %0.3f\" % rmse_bef_tuning)"
   ]
  },
  {
   "cell_type": "markdown",
   "metadata": {},
   "source": [
    "#### (3) 计算 MAPE"
   ]
  },
  {
   "cell_type": "markdown",
   "metadata": {},
   "source": [
    "- MAPE percent before tuning: 调参之前的 MAPE"
   ]
  },
  {
   "cell_type": "code",
   "execution_count": 23,
   "metadata": {},
   "outputs": [
    {
     "name": "stdout",
     "output_type": "stream",
     "text": [
      "MAPE = 1.141%\n"
     ]
    }
   ],
   "source": [
    "# Calculate MAPE\n",
    "mape_pct_bef_tuning = get_mape(y_cv, y_cv_pred)\n",
    "print(\"MAPE = %0.3f%%\" % mape_pct_bef_tuning)"
   ]
  },
  {
   "cell_type": "markdown",
   "metadata": {},
   "source": [
    "#### (4) 绘图"
   ]
  },
  {
   "cell_type": "code",
   "execution_count": 24,
   "metadata": {},
   "outputs": [
    {
     "data": {
      "text/plain": [
       "Text(0,0.5,'USD')"
      ]
     },
     "execution_count": 24,
     "metadata": {},
     "output_type": "execute_result"
    },
    {
     "data": {
      "image/png": "[encoded data removed]",
      "text/plain": [
       "<Figure size 720x576 with 1 Axes>"
      ]
     },
     "metadata": {},
     "output_type": "display_data"
    }
   ],
   "source": [
    "# Plot adjusted close over time\n",
    "rcParams['figure.figsize'] = 10, 8 # width 10, height 8\n",
    "\n",
    "pred_df = pd.DataFrame({'y_cv_pred': y_cv_pred.reshape(-1),   # reshape(-1)  把维度从 (151, 1) 调成 (151, )\n",
    "                        'y_cv': y_cv.reshape(-1),\n",
    "                        'date': cv['date']})\n",
    "\n",
    "ax = train.plot(x='date', y='adj_close', style='b-', grid=True)\n",
    "ax = cv.plot(x='date', y='adj_close', style='y-', grid=True, ax=ax)\n",
    "ax = test.plot(x='date', y='adj_close', style='g-', grid=True, ax=ax)\n",
    "ax = pred_df.plot(x='date', y='y_cv_pred', style='r-', grid=True, ax=ax)\n",
    "ax.legend(['train', 'dev', 'test', 'dev_pred'])\n",
    "ax.set_xlabel(\"date\")\n",
    "ax.set_ylabel(\"USD\")"
   ]
  },
  {
   "cell_type": "markdown",
   "metadata": {},
   "source": [
    "## 1.11 调参：N (用于特征的天数)\n",
    "\n",
    "- Tuning N (no. of days to use as features)"
   ]
  },
  {
   "cell_type": "markdown",
   "metadata": {},
   "source": [
    "#### (1) 参数名及调节范围"
   ]
  },
  {
   "cell_type": "code",
   "execution_count": 25,
   "metadata": {},
   "outputs": [],
   "source": [
    "param_label = 'N'\n",
    "param_list = range(3, 40)"
   ]
  },
  {
   "cell_type": "markdown",
   "metadata": {},
   "source": [
    "#### (2) 调参过程"
   ]
  },
  {
   "cell_type": "markdown",
   "metadata": {},
   "source": [
    "- 对 N 的每个取值均训练模型，计算误差\n",
    "    - for 循环\n",
    "        - tqdm_notebook  可以显示循环的进度条\n",
    "        - 其他参数仍采用初始值\n",
    "    - 放到 DataFrame 中最后做评判\n",
    "- 用 time.time() 方法计算总耗时"
   ]
  },
  {
   "cell_type": "code",
   "execution_count": 26,
   "metadata": {
    "scrolled": false
   },
   "outputs": [
    {
     "data": {
      "application/vnd.jupyter.widget-view+json": {
       "model_id": "43f502c560a04d42b7651455a309350e",
       "version_major": 2,
       "version_minor": 0
      },
      "text/plain": [
       "HBox(children=(IntProgress(value=0, max=37), HTML(value='')))"
      ]
     },
     "metadata": {},
     "output_type": "display_data"
    },
    {
     "name": "stdout",
     "output_type": "stream",
     "text": [
      "\n",
      "Minutes taken = 21.944574276606243\n"
     ]
    },
    {
     "data": {
      "text/html": [
       "<div>\n",
       "<style scoped>\n",
       "    .dataframe tbody tr th:only-of-type {\n",
       "        vertical-align: middle;\n",
       "    }\n",
       "\n",
       "    .dataframe tbody tr th {\n",
       "        vertical-align: top;\n",
       "    }\n",
       "\n",
       "    .dataframe thead th {\n",
       "        text-align: right;\n",
       "    }\n",
       "</style>\n",
       "<table border=\"1\" class=\"dataframe\">\n",
       "  <thead>\n",
       "    <tr style=\"text-align: right;\">\n",
       "      <th></th>\n",
       "      <th>N</th>\n",
       "      <th>rmse</th>\n",
       "      <th>mape_pct</th>\n",
       "    </tr>\n",
       "  </thead>\n",
       "  <tbody>\n",
       "    <tr>\n",
       "      <th>0</th>\n",
       "      <td>3</td>\n",
       "      <td>1.564962</td>\n",
       "      <td>0.801336</td>\n",
       "    </tr>\n",
       "    <tr>\n",
       "      <th>1</th>\n",
       "      <td>4</td>\n",
       "      <td>1.723903</td>\n",
       "      <td>0.904151</td>\n",
       "    </tr>\n",
       "    <tr>\n",
       "      <th>2</th>\n",
       "      <td>5</td>\n",
       "      <td>1.924790</td>\n",
       "      <td>0.997140</td>\n",
       "    </tr>\n",
       "    <tr>\n",
       "      <th>3</th>\n",
       "      <td>6</td>\n",
       "      <td>1.975940</td>\n",
       "      <td>1.011391</td>\n",
       "    </tr>\n",
       "    <tr>\n",
       "      <th>4</th>\n",
       "      <td>7</td>\n",
       "      <td>2.077949</td>\n",
       "      <td>1.070619</td>\n",
       "    </tr>\n",
       "    <tr>\n",
       "      <th>5</th>\n",
       "      <td>8</td>\n",
       "      <td>2.062424</td>\n",
       "      <td>1.083095</td>\n",
       "    </tr>\n",
       "    <tr>\n",
       "      <th>6</th>\n",
       "      <td>9</td>\n",
       "      <td>2.170790</td>\n",
       "      <td>1.132971</td>\n",
       "    </tr>\n",
       "    <tr>\n",
       "      <th>7</th>\n",
       "      <td>10</td>\n",
       "      <td>2.188010</td>\n",
       "      <td>1.146563</td>\n",
       "    </tr>\n",
       "    <tr>\n",
       "      <th>8</th>\n",
       "      <td>11</td>\n",
       "      <td>2.203432</td>\n",
       "      <td>1.174737</td>\n",
       "    </tr>\n",
       "    <tr>\n",
       "      <th>9</th>\n",
       "      <td>12</td>\n",
       "      <td>2.207881</td>\n",
       "      <td>1.156050</td>\n",
       "    </tr>\n",
       "    <tr>\n",
       "      <th>10</th>\n",
       "      <td>13</td>\n",
       "      <td>2.110058</td>\n",
       "      <td>1.112135</td>\n",
       "    </tr>\n",
       "    <tr>\n",
       "      <th>11</th>\n",
       "      <td>14</td>\n",
       "      <td>2.140193</td>\n",
       "      <td>1.138562</td>\n",
       "    </tr>\n",
       "    <tr>\n",
       "      <th>12</th>\n",
       "      <td>15</td>\n",
       "      <td>2.238437</td>\n",
       "      <td>1.204752</td>\n",
       "    </tr>\n",
       "    <tr>\n",
       "      <th>13</th>\n",
       "      <td>16</td>\n",
       "      <td>2.209043</td>\n",
       "      <td>1.173825</td>\n",
       "    </tr>\n",
       "    <tr>\n",
       "      <th>14</th>\n",
       "      <td>17</td>\n",
       "      <td>2.127091</td>\n",
       "      <td>1.143565</td>\n",
       "    </tr>\n",
       "    <tr>\n",
       "      <th>15</th>\n",
       "      <td>18</td>\n",
       "      <td>2.137735</td>\n",
       "      <td>1.136846</td>\n",
       "    </tr>\n",
       "    <tr>\n",
       "      <th>16</th>\n",
       "      <td>19</td>\n",
       "      <td>2.126700</td>\n",
       "      <td>1.143218</td>\n",
       "    </tr>\n",
       "    <tr>\n",
       "      <th>17</th>\n",
       "      <td>20</td>\n",
       "      <td>2.203441</td>\n",
       "      <td>1.234012</td>\n",
       "    </tr>\n",
       "    <tr>\n",
       "      <th>18</th>\n",
       "      <td>21</td>\n",
       "      <td>2.179965</td>\n",
       "      <td>1.139895</td>\n",
       "    </tr>\n",
       "    <tr>\n",
       "      <th>19</th>\n",
       "      <td>22</td>\n",
       "      <td>2.258210</td>\n",
       "      <td>1.222818</td>\n",
       "    </tr>\n",
       "    <tr>\n",
       "      <th>20</th>\n",
       "      <td>23</td>\n",
       "      <td>2.130452</td>\n",
       "      <td>1.131857</td>\n",
       "    </tr>\n",
       "    <tr>\n",
       "      <th>21</th>\n",
       "      <td>24</td>\n",
       "      <td>2.226652</td>\n",
       "      <td>1.195686</td>\n",
       "    </tr>\n",
       "    <tr>\n",
       "      <th>22</th>\n",
       "      <td>25</td>\n",
       "      <td>2.237009</td>\n",
       "      <td>1.197181</td>\n",
       "    </tr>\n",
       "    <tr>\n",
       "      <th>23</th>\n",
       "      <td>26</td>\n",
       "      <td>2.263615</td>\n",
       "      <td>1.207492</td>\n",
       "    </tr>\n",
       "    <tr>\n",
       "      <th>24</th>\n",
       "      <td>27</td>\n",
       "      <td>2.197150</td>\n",
       "      <td>1.138813</td>\n",
       "    </tr>\n",
       "    <tr>\n",
       "      <th>25</th>\n",
       "      <td>28</td>\n",
       "      <td>2.294007</td>\n",
       "      <td>1.130687</td>\n",
       "    </tr>\n",
       "    <tr>\n",
       "      <th>26</th>\n",
       "      <td>29</td>\n",
       "      <td>2.176568</td>\n",
       "      <td>1.184870</td>\n",
       "    </tr>\n",
       "    <tr>\n",
       "      <th>27</th>\n",
       "      <td>30</td>\n",
       "      <td>2.155021</td>\n",
       "      <td>1.151673</td>\n",
       "    </tr>\n",
       "    <tr>\n",
       "      <th>28</th>\n",
       "      <td>31</td>\n",
       "      <td>2.269407</td>\n",
       "      <td>1.229558</td>\n",
       "    </tr>\n",
       "    <tr>\n",
       "      <th>29</th>\n",
       "      <td>32</td>\n",
       "      <td>2.252822</td>\n",
       "      <td>1.208956</td>\n",
       "    </tr>\n",
       "    <tr>\n",
       "      <th>30</th>\n",
       "      <td>33</td>\n",
       "      <td>2.230197</td>\n",
       "      <td>1.224683</td>\n",
       "    </tr>\n",
       "    <tr>\n",
       "      <th>31</th>\n",
       "      <td>34</td>\n",
       "      <td>2.290506</td>\n",
       "      <td>1.195423</td>\n",
       "    </tr>\n",
       "    <tr>\n",
       "      <th>32</th>\n",
       "      <td>35</td>\n",
       "      <td>2.264795</td>\n",
       "      <td>1.212717</td>\n",
       "    </tr>\n",
       "    <tr>\n",
       "      <th>33</th>\n",
       "      <td>36</td>\n",
       "      <td>2.239034</td>\n",
       "      <td>1.163586</td>\n",
       "    </tr>\n",
       "    <tr>\n",
       "      <th>34</th>\n",
       "      <td>37</td>\n",
       "      <td>2.235409</td>\n",
       "      <td>1.223878</td>\n",
       "    </tr>\n",
       "    <tr>\n",
       "      <th>35</th>\n",
       "      <td>38</td>\n",
       "      <td>2.252570</td>\n",
       "      <td>1.231000</td>\n",
       "    </tr>\n",
       "    <tr>\n",
       "      <th>36</th>\n",
       "      <td>39</td>\n",
       "      <td>2.293798</td>\n",
       "      <td>1.290984</td>\n",
       "    </tr>\n",
       "  </tbody>\n",
       "</table>\n",
       "</div>"
      ],
      "text/plain": [
       "     N      rmse  mape_pct\n",
       "0    3  1.564962  0.801336\n",
       "1    4  1.723903  0.904151\n",
       "2    5  1.924790  0.997140\n",
       "3    6  1.975940  1.011391\n",
       "4    7  2.077949  1.070619\n",
       "5    8  2.062424  1.083095\n",
       "6    9  2.170790  1.132971\n",
       "7   10  2.188010  1.146563\n",
       "8   11  2.203432  1.174737\n",
       "9   12  2.207881  1.156050\n",
       "10  13  2.110058  1.112135\n",
       "11  14  2.140193  1.138562\n",
       "12  15  2.238437  1.204752\n",
       "13  16  2.209043  1.173825\n",
       "14  17  2.127091  1.143565\n",
       "15  18  2.137735  1.136846\n",
       "16  19  2.126700  1.143218\n",
       "17  20  2.203441  1.234012\n",
       "18  21  2.179965  1.139895\n",
       "19  22  2.258210  1.222818\n",
       "20  23  2.130452  1.131857\n",
       "21  24  2.226652  1.195686\n",
       "22  25  2.237009  1.197181\n",
       "23  26  2.263615  1.207492\n",
       "24  27  2.197150  1.138813\n",
       "25  28  2.294007  1.130687\n",
       "26  29  2.176568  1.184870\n",
       "27  30  2.155021  1.151673\n",
       "28  31  2.269407  1.229558\n",
       "29  32  2.252822  1.208956\n",
       "30  33  2.230197  1.224683\n",
       "31  34  2.290506  1.195423\n",
       "32  35  2.264795  1.212717\n",
       "33  36  2.239034  1.163586\n",
       "34  37  2.235409  1.223878\n",
       "35  38  2.252570  1.231000\n",
       "36  39  2.293798  1.290984"
      ]
     },
     "execution_count": 26,
     "metadata": {},
     "output_type": "execute_result"
    }
   ],
   "source": [
    "error_rate = {param_label: [], 'rmse': [], 'mape_pct': []}\n",
    "tic = time.time()\n",
    "for param in tqdm_notebook(param_list):\n",
    "    \n",
    "    # Split train into x and y\n",
    "    x_train_scaled, y_train_scaled = get_x_y(train_scaled, param, param)\n",
    "\n",
    "    # Split cv into x and y\n",
    "    x_cv_scaled, y_cv, mu_cv_list, std_cv_list = get_x_scaled_y(np.array(train_cv['adj_close']).reshape(-1,1), param, num_train)\n",
    "    \n",
    "    # Train, predict and eval model\n",
    "    rmse, mape, _ = train_pred_eval_model(x_train_scaled,\n",
    "                                          y_train_scaled,\n",
    "                                          x_cv_scaled,\n",
    "                                          y_cv,\n",
    "                                          mu_cv_list,\n",
    "                                          std_cv_list,\n",
    "                                          lstm_units=lstm_units,\n",
    "                                          dropout_prob=dropout_prob,\n",
    "                                          optimizer=optimizer,\n",
    "                                          epochs=epochs,\n",
    "                                          batch_size=batch_size)\n",
    "    \n",
    "    # Collect results\n",
    "    error_rate[param_label].append(param)\n",
    "    error_rate['rmse'].append(rmse)\n",
    "    error_rate['mape_pct'].append(mape)\n",
    "    \n",
    "error_rate = pd.DataFrame(error_rate)\n",
    "toc = time.time()\n",
    "print(\"Minutes taken = \" + str((toc-tic)/60.0))\n",
    "error_rate   \n",
    "#用了15min-21min。god！！！！！"
   ]
  },
  {
   "cell_type": "markdown",
   "metadata": {},
   "source": [
    "#### (3) 画误差曲线"
   ]
  },
  {
   "cell_type": "code",
   "execution_count": 27,
   "metadata": {},
   "outputs": [
    {
     "data": {
      "text/plain": [
       "Text(0,0.5,'RMSE/MAPE(%)')"
      ]
     },
     "execution_count": 27,
     "metadata": {},
     "output_type": "execute_result"
    },
    {
     "data": {
      "image/png": "[encoded data removed]",
      "text/plain": [
       "<Figure size 720x576 with 1 Axes>"
      ]
     },
     "metadata": {},
     "output_type": "display_data"
    }
   ],
   "source": [
    "# Plot RMSE \n",
    "rcParams['figure.figsize'] = 10, 8 # width 10, height 8\n",
    "\n",
    "ax = error_rate.plot(x='N', y='rmse', style='bx-', grid=True)\n",
    "ax = error_rate.plot(x='N', y='mape_pct', style='rx-', grid=True, ax=ax)\n",
    "ax.set_xlabel(\"N\")\n",
    "ax.set_ylabel(\"RMSE/MAPE(%)\")"
   ]
  },
  {
   "cell_type": "markdown",
   "metadata": {},
   "source": [
    "<img src=\"images/1001.png\">"
   ]
  },
  {
   "cell_type": "markdown",
   "metadata": {},
   "source": [
    "#### (4) 获取参数的最佳值"
   ]
  },
  {
   "cell_type": "code",
   "execution_count": 28,
   "metadata": {},
   "outputs": [
    {
     "name": "stdout",
     "output_type": "stream",
     "text": [
      "min RMSE = 1.565\n",
      "min MAPE = 0.801%\n",
      "optimum N = 3\n"
     ]
    }
   ],
   "source": [
    "# Get optimum value for param\n",
    "temp = error_rate[error_rate['rmse'] == error_rate['rmse'].min()]\n",
    "N_opt = temp['N'].values[0]\n",
    "\n",
    "print(\"min RMSE = %0.3f\" % error_rate['rmse'].min())\n",
    "print(\"min MAPE = %0.3f%%\" % error_rate['mape_pct'].min())\n",
    "print(\"optimum \" + param_label + \" = \" + str(N_opt))"
   ]
  },
  {
   "cell_type": "markdown",
   "metadata": {},
   "source": [
    "## 1.12 调参：epochs 和 batch_size\n",
    "- Tuning model - epochs and batch_size"
   ]
  },
  {
   "cell_type": "markdown",
   "metadata": {},
   "source": [
    "- 采用上步得到的 N_opt = 3\n",
    "- epochs: 训练的轮次\n",
    "- batch_size: 每次训练的样本个数"
   ]
  },
  {
   "cell_type": "markdown",
   "metadata": {},
   "source": [
    "#### (1) 调参过程"
   ]
  },
  {
   "cell_type": "code",
   "execution_count": 32,
   "metadata": {},
   "outputs": [
    {
     "data": {
      "application/vnd.jupyter.widget-view+json": {
       "model_id": "025c96cd8ca54f6e8cde15d3e9d0c8ff",
       "version_major": 2,
       "version_minor": 0
      },
      "text/plain": [
       "HBox(children=(IntProgress(value=0, max=6), HTML(value='')))"
      ]
     },
     "metadata": {},
     "output_type": "display_data"
    },
    {
     "data": {
      "application/vnd.jupyter.widget-view+json": {
       "model_id": "6877d9a67e1348738afa1b0537c19a2c",
       "version_major": 2,
       "version_minor": 0
      },
      "text/plain": [
       "HBox(children=(IntProgress(value=0, max=5), HTML(value='')))"
      ]
     },
     "metadata": {},
     "output_type": "display_data"
    },
    {
     "data": {
      "application/vnd.jupyter.widget-view+json": {
       "model_id": "960ea961fb084eb0a0707a40c6ad6039",
       "version_major": 2,
       "version_minor": 0
      },
      "text/plain": [
       "HBox(children=(IntProgress(value=0, max=5), HTML(value='')))"
      ]
     },
     "metadata": {},
     "output_type": "display_data"
    },
    {
     "data": {
      "application/vnd.jupyter.widget-view+json": {
       "model_id": "e64f3c9403b94365898e67a264fe0f27",
       "version_major": 2,
       "version_minor": 0
      },
      "text/plain": [
       "HBox(children=(IntProgress(value=0, max=5), HTML(value='')))"
      ]
     },
     "metadata": {},
     "output_type": "display_data"
    },
    {
     "data": {
      "application/vnd.jupyter.widget-view+json": {
       "model_id": "28c21a9e0c614f77a768943e9030c965",
       "version_major": 2,
       "version_minor": 0
      },
      "text/plain": [
       "HBox(children=(IntProgress(value=0, max=5), HTML(value='')))"
      ]
     },
     "metadata": {},
     "output_type": "display_data"
    },
    {
     "data": {
      "application/vnd.jupyter.widget-view+json": {
       "model_id": "7f233bf6710b4278bcc1c9d198fc252a",
       "version_major": 2,
       "version_minor": 0
      },
      "text/plain": [
       "HBox(children=(IntProgress(value=0, max=5), HTML(value='')))"
      ]
     },
     "metadata": {},
     "output_type": "display_data"
    },
    {
     "data": {
      "application/vnd.jupyter.widget-view+json": {
       "model_id": "05fb20a863ad4860985cb53f7d62d0e2",
       "version_major": 2,
       "version_minor": 0
      },
      "text/plain": [
       "HBox(children=(IntProgress(value=0, max=5), HTML(value='')))"
      ]
     },
     "metadata": {},
     "output_type": "display_data"
    },
    {
     "name": "stdout",
     "output_type": "stream",
     "text": [
      "\n",
      "Minutes taken = 34.427841782569885\n"
     ]
    },
    {
     "data": {
      "text/html": [
       "<div>\n",
       "<style scoped>\n",
       "    .dataframe tbody tr th:only-of-type {\n",
       "        vertical-align: middle;\n",
       "    }\n",
       "\n",
       "    .dataframe tbody tr th {\n",
       "        vertical-align: top;\n",
       "    }\n",
       "\n",
       "    .dataframe thead th {\n",
       "        text-align: right;\n",
       "    }\n",
       "</style>\n",
       "<table border=\"1\" class=\"dataframe\">\n",
       "  <thead>\n",
       "    <tr style=\"text-align: right;\">\n",
       "      <th></th>\n",
       "      <th>epochs</th>\n",
       "      <th>batch_size</th>\n",
       "      <th>rmse</th>\n",
       "      <th>mape_pct</th>\n",
       "    </tr>\n",
       "  </thead>\n",
       "  <tbody>\n",
       "    <tr>\n",
       "      <th>0</th>\n",
       "      <td>1</td>\n",
       "      <td>8</td>\n",
       "      <td>1.590597</td>\n",
       "      <td>0.814574</td>\n",
       "    </tr>\n",
       "    <tr>\n",
       "      <th>1</th>\n",
       "      <td>1</td>\n",
       "      <td>16</td>\n",
       "      <td>1.467380</td>\n",
       "      <td>0.742603</td>\n",
       "    </tr>\n",
       "    <tr>\n",
       "      <th>2</th>\n",
       "      <td>1</td>\n",
       "      <td>32</td>\n",
       "      <td>1.414628</td>\n",
       "      <td>0.713196</td>\n",
       "    </tr>\n",
       "    <tr>\n",
       "      <th>3</th>\n",
       "      <td>1</td>\n",
       "      <td>64</td>\n",
       "      <td>1.400080</td>\n",
       "      <td>0.707323</td>\n",
       "    </tr>\n",
       "    <tr>\n",
       "      <th>4</th>\n",
       "      <td>1</td>\n",
       "      <td>128</td>\n",
       "      <td>1.391447</td>\n",
       "      <td>0.702278</td>\n",
       "    </tr>\n",
       "    <tr>\n",
       "      <th>5</th>\n",
       "      <td>10</td>\n",
       "      <td>8</td>\n",
       "      <td>1.546856</td>\n",
       "      <td>0.788774</td>\n",
       "    </tr>\n",
       "    <tr>\n",
       "      <th>6</th>\n",
       "      <td>10</td>\n",
       "      <td>16</td>\n",
       "      <td>1.556902</td>\n",
       "      <td>0.792922</td>\n",
       "    </tr>\n",
       "    <tr>\n",
       "      <th>7</th>\n",
       "      <td>10</td>\n",
       "      <td>32</td>\n",
       "      <td>1.575920</td>\n",
       "      <td>0.804873</td>\n",
       "    </tr>\n",
       "    <tr>\n",
       "      <th>8</th>\n",
       "      <td>10</td>\n",
       "      <td>64</td>\n",
       "      <td>1.574628</td>\n",
       "      <td>0.803502</td>\n",
       "    </tr>\n",
       "    <tr>\n",
       "      <th>9</th>\n",
       "      <td>10</td>\n",
       "      <td>128</td>\n",
       "      <td>1.593253</td>\n",
       "      <td>0.816068</td>\n",
       "    </tr>\n",
       "    <tr>\n",
       "      <th>10</th>\n",
       "      <td>20</td>\n",
       "      <td>8</td>\n",
       "      <td>1.500312</td>\n",
       "      <td>0.759425</td>\n",
       "    </tr>\n",
       "    <tr>\n",
       "      <th>11</th>\n",
       "      <td>20</td>\n",
       "      <td>16</td>\n",
       "      <td>1.532818</td>\n",
       "      <td>0.779280</td>\n",
       "    </tr>\n",
       "    <tr>\n",
       "      <th>12</th>\n",
       "      <td>20</td>\n",
       "      <td>32</td>\n",
       "      <td>1.562087</td>\n",
       "      <td>0.796779</td>\n",
       "    </tr>\n",
       "    <tr>\n",
       "      <th>13</th>\n",
       "      <td>20</td>\n",
       "      <td>64</td>\n",
       "      <td>1.590711</td>\n",
       "      <td>0.815253</td>\n",
       "    </tr>\n",
       "    <tr>\n",
       "      <th>14</th>\n",
       "      <td>20</td>\n",
       "      <td>128</td>\n",
       "      <td>1.572036</td>\n",
       "      <td>0.802317</td>\n",
       "    </tr>\n",
       "    <tr>\n",
       "      <th>15</th>\n",
       "      <td>30</td>\n",
       "      <td>8</td>\n",
       "      <td>1.451434</td>\n",
       "      <td>0.731788</td>\n",
       "    </tr>\n",
       "    <tr>\n",
       "      <th>16</th>\n",
       "      <td>30</td>\n",
       "      <td>16</td>\n",
       "      <td>1.508302</td>\n",
       "      <td>0.765344</td>\n",
       "    </tr>\n",
       "    <tr>\n",
       "      <th>17</th>\n",
       "      <td>30</td>\n",
       "      <td>32</td>\n",
       "      <td>1.532021</td>\n",
       "      <td>0.781737</td>\n",
       "    </tr>\n",
       "    <tr>\n",
       "      <th>18</th>\n",
       "      <td>30</td>\n",
       "      <td>64</td>\n",
       "      <td>1.553272</td>\n",
       "      <td>0.792815</td>\n",
       "    </tr>\n",
       "    <tr>\n",
       "      <th>19</th>\n",
       "      <td>30</td>\n",
       "      <td>128</td>\n",
       "      <td>1.584884</td>\n",
       "      <td>0.809481</td>\n",
       "    </tr>\n",
       "    <tr>\n",
       "      <th>20</th>\n",
       "      <td>40</td>\n",
       "      <td>8</td>\n",
       "      <td>1.374460</td>\n",
       "      <td>0.688158</td>\n",
       "    </tr>\n",
       "    <tr>\n",
       "      <th>21</th>\n",
       "      <td>40</td>\n",
       "      <td>16</td>\n",
       "      <td>1.474699</td>\n",
       "      <td>0.744396</td>\n",
       "    </tr>\n",
       "    <tr>\n",
       "      <th>22</th>\n",
       "      <td>40</td>\n",
       "      <td>32</td>\n",
       "      <td>1.511953</td>\n",
       "      <td>0.766838</td>\n",
       "    </tr>\n",
       "    <tr>\n",
       "      <th>23</th>\n",
       "      <td>40</td>\n",
       "      <td>64</td>\n",
       "      <td>1.547394</td>\n",
       "      <td>0.787041</td>\n",
       "    </tr>\n",
       "    <tr>\n",
       "      <th>24</th>\n",
       "      <td>40</td>\n",
       "      <td>128</td>\n",
       "      <td>1.551332</td>\n",
       "      <td>0.790432</td>\n",
       "    </tr>\n",
       "    <tr>\n",
       "      <th>25</th>\n",
       "      <td>50</td>\n",
       "      <td>8</td>\n",
       "      <td>1.336439</td>\n",
       "      <td>0.665951</td>\n",
       "    </tr>\n",
       "    <tr>\n",
       "      <th>26</th>\n",
       "      <td>50</td>\n",
       "      <td>16</td>\n",
       "      <td>1.451994</td>\n",
       "      <td>0.732525</td>\n",
       "    </tr>\n",
       "    <tr>\n",
       "      <th>27</th>\n",
       "      <td>50</td>\n",
       "      <td>32</td>\n",
       "      <td>1.527124</td>\n",
       "      <td>0.778233</td>\n",
       "    </tr>\n",
       "    <tr>\n",
       "      <th>28</th>\n",
       "      <td>50</td>\n",
       "      <td>64</td>\n",
       "      <td>1.540271</td>\n",
       "      <td>0.787198</td>\n",
       "    </tr>\n",
       "    <tr>\n",
       "      <th>29</th>\n",
       "      <td>50</td>\n",
       "      <td>128</td>\n",
       "      <td>1.551195</td>\n",
       "      <td>0.791428</td>\n",
       "    </tr>\n",
       "  </tbody>\n",
       "</table>\n",
       "</div>"
      ],
      "text/plain": [
       "    epochs  batch_size      rmse  mape_pct\n",
       "0        1           8  1.590597  0.814574\n",
       "1        1          16  1.467380  0.742603\n",
       "2        1          32  1.414628  0.713196\n",
       "3        1          64  1.400080  0.707323\n",
       "4        1         128  1.391447  0.702278\n",
       "5       10           8  1.546856  0.788774\n",
       "6       10          16  1.556902  0.792922\n",
       "7       10          32  1.575920  0.804873\n",
       "8       10          64  1.574628  0.803502\n",
       "9       10         128  1.593253  0.816068\n",
       "10      20           8  1.500312  0.759425\n",
       "11      20          16  1.532818  0.779280\n",
       "12      20          32  1.562087  0.796779\n",
       "13      20          64  1.590711  0.815253\n",
       "14      20         128  1.572036  0.802317\n",
       "15      30           8  1.451434  0.731788\n",
       "16      30          16  1.508302  0.765344\n",
       "17      30          32  1.532021  0.781737\n",
       "18      30          64  1.553272  0.792815\n",
       "19      30         128  1.584884  0.809481\n",
       "20      40           8  1.374460  0.688158\n",
       "21      40          16  1.474699  0.744396\n",
       "22      40          32  1.511953  0.766838\n",
       "23      40          64  1.547394  0.787041\n",
       "24      40         128  1.551332  0.790432\n",
       "25      50           8  1.336439  0.665951\n",
       "26      50          16  1.451994  0.732525\n",
       "27      50          32  1.527124  0.778233\n",
       "28      50          64  1.540271  0.787198\n",
       "29      50         128  1.551195  0.791428"
      ]
     },
     "execution_count": 32,
     "metadata": {},
     "output_type": "execute_result"
    }
   ],
   "source": [
    "param_label = 'epochs'\n",
    "param_list = [1, 10, 20, 30, 40, 50]\n",
    "\n",
    "param2_label = 'batch_size'\n",
    "param2_list = [8, 16, 32, 64, 128]\n",
    "\n",
    "# Split train into x and y\n",
    "x_train_scaled, y_train_scaled = get_x_y(train_scaled, N_opt, N_opt)\n",
    "\n",
    "# Split cv into x and y\n",
    "x_cv_scaled, y_cv, mu_cv_list, std_cv_list = get_x_scaled_y(np.array(train_cv['adj_close']).reshape(-1,1), N_opt, num_train)\n",
    "\n",
    "error_rate = {param_label: [], param2_label: [], 'rmse': [], 'mape_pct': []}\n",
    "tic = time.time()\n",
    "\n",
    "for param in tqdm_notebook(param_list):\n",
    "    for param2 in tqdm_notebook(param2_list):\n",
    "        # Train, predict and eval model\n",
    "        rmse, mape, _ = train_pred_eval_model(x_train_scaled,\n",
    "                                              y_train_scaled,\n",
    "                                              x_cv_scaled,\n",
    "                                              y_cv,\n",
    "                                              mu_cv_list,\n",
    "                                              std_cv_list,\n",
    "                                              lstm_units=lstm_units,\n",
    "                                              dropout_prob=dropout_prob,\n",
    "                                              optimizer=optimizer,\n",
    "                                              epochs=param,\n",
    "                                              batch_size=param2)\n",
    "        # Collect results\n",
    "        error_rate[param_label].append(param)\n",
    "        error_rate[param2_label].append(param2)\n",
    "        error_rate['rmse'].append(rmse)\n",
    "        error_rate['mape_pct'].append(mape)\n",
    "    \n",
    "error_rate = pd.DataFrame(error_rate)\n",
    "toc = time.time()\n",
    "print(\"Minutes taken = \" + str((toc-tic)/60.0))\n",
    "error_rate   \n",
    "# 预计时间：34分钟，god！！！"
   ]
  },
  {
   "cell_type": "markdown",
   "metadata": {},
   "source": [
    "#### (2) 画误差曲线"
   ]
  },
  {
   "cell_type": "code",
   "execution_count": 33,
   "metadata": {},
   "outputs": [
    {
     "data": {
      "text/plain": [
       "<matplotlib.legend.Legend at 0x1739edcec88>"
      ]
     },
     "execution_count": 33,
     "metadata": {},
     "output_type": "execute_result"
    },
    {
     "data": {
      "image/png": "[encoded data removed]",
      "text/plain": [
       "<Figure size 720x576 with 1 Axes>"
      ]
     },
     "metadata": {},
     "output_type": "display_data"
    }
   ],
   "source": [
    "# Plot performance versus params\n",
    "rcParams['figure.figsize'] = 10, 8  # width 10, height 8\n",
    "temp = error_rate[error_rate[param2_label]==param2_list[0]]\n",
    "ax = temp.plot(x=param_label, y='rmse', style='bs-', grid=True)\n",
    "legend_list = [param2_label + '_' + str(param2_list[0])]\n",
    "\n",
    "color_list = ['r', 'g', 'k', 'y', 'm', 'c', '0.75']\n",
    "for i in range(1,len(param2_list)):\n",
    "    temp = error_rate[error_rate[param2_label]==param2_list[i]]\n",
    "    ax = temp.plot(x=param_label, y='rmse', color=color_list[i%len(color_list)], marker='s', grid=True, ax=ax)\n",
    "    legend_list.append(param2_label + '_' + str(param2_list[i]))\n",
    "\n",
    "ax.set_xlabel(param_label)\n",
    "ax.set_ylabel(\"RMSE\")\n",
    "matplotlib.rcParams.update({'font.size': 14})\n",
    "plt.legend(legend_list, loc='center left', bbox_to_anchor=(1.0, 0.5)) # positions legend outside figure"
   ]
  },
  {
   "cell_type": "markdown",
   "metadata": {},
   "source": [
    "<img src=\"images/1002.png\">"
   ]
  },
  {
   "cell_type": "markdown",
   "metadata": {},
   "source": [
    "#### (3) 获取参数的最佳值"
   ]
  },
  {
   "cell_type": "code",
   "execution_count": 34,
   "metadata": {},
   "outputs": [
    {
     "name": "stdout",
     "output_type": "stream",
     "text": [
      "min RMSE = 1.336\n",
      "min MAPE = 0.666%\n",
      "optimum epochs = 50\n",
      "optimum batch_size = 8\n"
     ]
    }
   ],
   "source": [
    "# Get optimum value for param and param2\n",
    "temp = error_rate[error_rate['rmse'] == error_rate['rmse'].min()]\n",
    "epochs_opt = temp[param_label].values[0]\n",
    "batch_size_opt = temp[param2_label].values[0]\n",
    "\n",
    "print(\"min RMSE = %0.3f\" % error_rate['rmse'].min())\n",
    "print(\"min MAPE = %0.3f%%\" % error_rate['mape_pct'].min())\n",
    "print(\"optimum \" + param_label + \" = \" + str(epochs_opt))\n",
    "print(\"optimum \" + param2_label + \" = \" + str(batch_size_opt))"
   ]
  },
  {
   "cell_type": "markdown",
   "metadata": {},
   "source": [
    "## 1.13 调参：LSTM 单元数 和 随机失活概率\n",
    "\n",
    "\n",
    "- Tuning model - LSTM units and dropout prob"
   ]
  },
  {
   "cell_type": "markdown",
   "metadata": {},
   "source": [
    "#### (1) 调参过程"
   ]
  },
  {
   "cell_type": "code",
   "execution_count": 35,
   "metadata": {
    "scrolled": false
   },
   "outputs": [
    {
     "data": {
      "application/vnd.jupyter.widget-view+json": {
       "model_id": "4b03826e64ee48b0b892e1ff13bea1f6",
       "version_major": 2,
       "version_minor": 0
      },
      "text/plain": [
       "HBox(children=(IntProgress(value=0, max=2), HTML(value='')))"
      ]
     },
     "metadata": {},
     "output_type": "display_data"
    },
    {
     "data": {
      "application/vnd.jupyter.widget-view+json": {
       "model_id": "d58379c4ea204566a663871ad8df9510",
       "version_major": 2,
       "version_minor": 0
      },
      "text/plain": [
       "HBox(children=(IntProgress(value=0, max=2), HTML(value='')))"
      ]
     },
     "metadata": {},
     "output_type": "display_data"
    },
    {
     "name": "stdout",
     "output_type": "stream",
     "text": [
      "WARNING:tensorflow:From C:\\Users\\rjma\\Anaconda3\\lib\\site-packages\\keras\\backend\\tensorflow_backend.py:3445: calling dropout (from tensorflow.python.ops.nn_ops) with keep_prob is deprecated and will be removed in a future version.\n",
      "Instructions for updating:\n",
      "Please use `rate` instead of `keep_prob`. Rate should be set to `rate = 1 - keep_prob`.\n"
     ]
    },
    {
     "data": {
      "application/vnd.jupyter.widget-view+json": {
       "model_id": "67391f8c54e645c78741c1b89b2071e8",
       "version_major": 2,
       "version_minor": 0
      },
      "text/plain": [
       "HBox(children=(IntProgress(value=0, max=2), HTML(value='')))"
      ]
     },
     "metadata": {},
     "output_type": "display_data"
    },
    {
     "name": "stdout",
     "output_type": "stream",
     "text": [
      "\n",
      "Minutes taken = 11.499744085470835\n"
     ]
    },
    {
     "data": {
      "text/html": [
       "<div>\n",
       "<style scoped>\n",
       "    .dataframe tbody tr th:only-of-type {\n",
       "        vertical-align: middle;\n",
       "    }\n",
       "\n",
       "    .dataframe tbody tr th {\n",
       "        vertical-align: top;\n",
       "    }\n",
       "\n",
       "    .dataframe thead th {\n",
       "        text-align: right;\n",
       "    }\n",
       "</style>\n",
       "<table border=\"1\" class=\"dataframe\">\n",
       "  <thead>\n",
       "    <tr style=\"text-align: right;\">\n",
       "      <th></th>\n",
       "      <th>lstm_units</th>\n",
       "      <th>dropout_prob</th>\n",
       "      <th>rmse</th>\n",
       "      <th>mape_pct</th>\n",
       "    </tr>\n",
       "  </thead>\n",
       "  <tbody>\n",
       "    <tr>\n",
       "      <th>0</th>\n",
       "      <td>10</td>\n",
       "      <td>0.5</td>\n",
       "      <td>1.540964</td>\n",
       "      <td>0.779882</td>\n",
       "    </tr>\n",
       "    <tr>\n",
       "      <th>1</th>\n",
       "      <td>10</td>\n",
       "      <td>0.8</td>\n",
       "      <td>1.542868</td>\n",
       "      <td>0.780480</td>\n",
       "    </tr>\n",
       "    <tr>\n",
       "      <th>2</th>\n",
       "      <td>50</td>\n",
       "      <td>0.5</td>\n",
       "      <td>1.454066</td>\n",
       "      <td>0.731615</td>\n",
       "    </tr>\n",
       "    <tr>\n",
       "      <th>3</th>\n",
       "      <td>50</td>\n",
       "      <td>0.8</td>\n",
       "      <td>1.517235</td>\n",
       "      <td>0.770733</td>\n",
       "    </tr>\n",
       "  </tbody>\n",
       "</table>\n",
       "</div>"
      ],
      "text/plain": [
       "   lstm_units  dropout_prob      rmse  mape_pct\n",
       "0          10           0.5  1.540964  0.779882\n",
       "1          10           0.8  1.542868  0.780480\n",
       "2          50           0.5  1.454066  0.731615\n",
       "3          50           0.8  1.517235  0.770733"
      ]
     },
     "execution_count": 35,
     "metadata": {},
     "output_type": "execute_result"
    }
   ],
   "source": [
    "param_label = 'lstm_units'\n",
    "#param_list = [10, 50, 64, 128]  #太慢了\n",
    "param_list = [10, 50]  #演示用取2个\n",
    "\n",
    "param2_label = 'dropout_prob'\n",
    "#param2_list = [0.5, 0.6, 0.7, 0.8, 0.9, 1] #太慢了\n",
    "param2_list = [0.5, 0.8] #太慢了\n",
    "\n",
    "error_rate = {param_label: [], param2_label: [], 'rmse': [], 'mape_pct': []}\n",
    "tic = time.time()\n",
    "for param in tqdm_notebook(param_list):\n",
    "    for param2 in tqdm_notebook(param2_list):\n",
    "        # Train, predict and eval model\n",
    "        rmse, mape, _ = train_pred_eval_model(x_train_scaled,\n",
    "                                              y_train_scaled,\n",
    "                                              x_cv_scaled,\n",
    "                                              y_cv,\n",
    "                                              mu_cv_list,\n",
    "                                              std_cv_list,\n",
    "                                              lstm_units=param,\n",
    "                                              dropout_prob=param2,\n",
    "                                              optimizer=optimizer,\n",
    "                                              epochs=epochs_opt,\n",
    "                                              batch_size=batch_size_opt)\n",
    "        # Collect results\n",
    "        error_rate[param_label].append(param)\n",
    "        error_rate[param2_label].append(param2)\n",
    "        error_rate['rmse'].append(rmse)\n",
    "        error_rate['mape_pct'].append(mape)\n",
    "    \n",
    "error_rate = pd.DataFrame(error_rate)\n",
    "toc = time.time()\n",
    "print(\"Minutes taken = \" + str((toc-tic)/60.0))\n",
    "error_rate   \n",
    "# take a long time of about "
   ]
  },
  {
   "cell_type": "markdown",
   "metadata": {},
   "source": [
    "#### (2) 画误差曲线"
   ]
  },
  {
   "cell_type": "code",
   "execution_count": 26,
   "metadata": {},
   "outputs": [
    {
     "data": {
      "text/plain": [
       "<matplotlib.legend.Legend at 0x25c35619cc0>"
      ]
     },
     "execution_count": 26,
     "metadata": {},
     "output_type": "execute_result"
    },
    {
     "data": {
      "image/png": "[encoded data removed]",
      "text/plain": [
       "<Figure size 720x576 with 1 Axes>"
      ]
     },
     "metadata": {},
     "output_type": "display_data"
    }
   ],
   "source": [
    "# Plot performance versus params\n",
    "rcParams['figure.figsize'] = 10, 8 # width 10, height 8\n",
    "temp = error_rate[error_rate[param2_label]==param2_list[0]]\n",
    "ax = temp.plot(x=param_label, y='rmse', style='bs-', grid=True)\n",
    "legend_list = [param2_label + '_' + str(param2_list[0])]\n",
    "\n",
    "color_list = ['r', 'g', 'k', 'y', 'm', 'c', '0.75']\n",
    "for i in range(1,len(param2_list)):\n",
    "    temp = error_rate[error_rate[param2_label]==param2_list[i]]\n",
    "    ax = temp.plot(x=param_label, y='rmse', color=color_list[i%len(color_list)], marker='s', grid=True, ax=ax)\n",
    "    legend_list.append(param2_label + '_' + str(param2_list[i]))\n",
    "\n",
    "ax.set_xlabel(param_label)\n",
    "ax.set_ylabel(\"RMSE\")\n",
    "matplotlib.rcParams.update({'font.size': 14})\n",
    "plt.legend(legend_list, loc='center left', bbox_to_anchor=(1.0, 0.5)) # positions legend outside figure"
   ]
  },
  {
   "cell_type": "markdown",
   "metadata": {},
   "source": [
    "<img src=\"images/1003.png\">"
   ]
  },
  {
   "cell_type": "markdown",
   "metadata": {},
   "source": [
    "#### (3) 获取参数的最佳值"
   ]
  },
  {
   "cell_type": "code",
   "execution_count": 36,
   "metadata": {},
   "outputs": [
    {
     "name": "stdout",
     "output_type": "stream",
     "text": [
      "min RMSE = 1.454\n",
      "min MAPE = 0.732%\n",
      "optimum lstm_units = 50\n",
      "optimum dropout_prob = 0.5\n"
     ]
    }
   ],
   "source": [
    "# Get optimum value for param and param2\n",
    "temp = error_rate[error_rate['rmse'] == error_rate['rmse'].min()]\n",
    "lstm_units_opt = temp[param_label].values[0]\n",
    "dropout_prob_opt = temp[param2_label].values[0]\n",
    "print(\"min RMSE = %0.3f\" % error_rate['rmse'].min())\n",
    "print(\"min MAPE = %0.3f%%\" % error_rate['mape_pct'].min())\n",
    "print(\"optimum \" + param_label + \" = \" + str(lstm_units_opt))\n",
    "print(\"optimum \" + param2_label + \" = \" + str(dropout_prob_opt))"
   ]
  },
  {
   "cell_type": "markdown",
   "metadata": {},
   "source": [
    "## 1.14 调参：优化器\n",
    "- Tuning model - optimizer"
   ]
  },
  {
   "cell_type": "markdown",
   "metadata": {},
   "source": [
    "#### (1) 调参过程"
   ]
  },
  {
   "cell_type": "code",
   "execution_count": 37,
   "metadata": {},
   "outputs": [
    {
     "data": {
      "application/vnd.jupyter.widget-view+json": {
       "model_id": "d405a2a009824777b847587a6ed5879f",
       "version_major": 2,
       "version_minor": 0
      },
      "text/plain": [
       "HBox(children=(IntProgress(value=0, max=7), HTML(value='')))"
      ]
     },
     "metadata": {},
     "output_type": "display_data"
    },
    {
     "name": "stdout",
     "output_type": "stream",
     "text": [
      "\n",
      "Minutes taken = 19.022441160678863\n"
     ]
    },
    {
     "data": {
      "text/html": [
       "<div>\n",
       "<style scoped>\n",
       "    .dataframe tbody tr th:only-of-type {\n",
       "        vertical-align: middle;\n",
       "    }\n",
       "\n",
       "    .dataframe tbody tr th {\n",
       "        vertical-align: top;\n",
       "    }\n",
       "\n",
       "    .dataframe thead th {\n",
       "        text-align: right;\n",
       "    }\n",
       "</style>\n",
       "<table border=\"1\" class=\"dataframe\">\n",
       "  <thead>\n",
       "    <tr style=\"text-align: right;\">\n",
       "      <th></th>\n",
       "      <th>optimizer</th>\n",
       "      <th>rmse</th>\n",
       "      <th>mape_pct</th>\n",
       "    </tr>\n",
       "  </thead>\n",
       "  <tbody>\n",
       "    <tr>\n",
       "      <th>0</th>\n",
       "      <td>adam</td>\n",
       "      <td>1.473421</td>\n",
       "      <td>0.747054</td>\n",
       "    </tr>\n",
       "    <tr>\n",
       "      <th>1</th>\n",
       "      <td>sgd</td>\n",
       "      <td>1.475573</td>\n",
       "      <td>0.744344</td>\n",
       "    </tr>\n",
       "    <tr>\n",
       "      <th>2</th>\n",
       "      <td>rmsprop</td>\n",
       "      <td>1.477367</td>\n",
       "      <td>0.749566</td>\n",
       "    </tr>\n",
       "    <tr>\n",
       "      <th>3</th>\n",
       "      <td>adagrad</td>\n",
       "      <td>1.528305</td>\n",
       "      <td>0.775285</td>\n",
       "    </tr>\n",
       "    <tr>\n",
       "      <th>4</th>\n",
       "      <td>adadelta</td>\n",
       "      <td>1.461144</td>\n",
       "      <td>0.741002</td>\n",
       "    </tr>\n",
       "    <tr>\n",
       "      <th>5</th>\n",
       "      <td>adamax</td>\n",
       "      <td>1.513583</td>\n",
       "      <td>0.770153</td>\n",
       "    </tr>\n",
       "    <tr>\n",
       "      <th>6</th>\n",
       "      <td>nadam</td>\n",
       "      <td>1.421567</td>\n",
       "      <td>0.709065</td>\n",
       "    </tr>\n",
       "  </tbody>\n",
       "</table>\n",
       "</div>"
      ],
      "text/plain": [
       "  optimizer      rmse  mape_pct\n",
       "0      adam  1.473421  0.747054\n",
       "1       sgd  1.475573  0.744344\n",
       "2   rmsprop  1.477367  0.749566\n",
       "3   adagrad  1.528305  0.775285\n",
       "4  adadelta  1.461144  0.741002\n",
       "5    adamax  1.513583  0.770153\n",
       "6     nadam  1.421567  0.709065"
      ]
     },
     "execution_count": 37,
     "metadata": {},
     "output_type": "execute_result"
    }
   ],
   "source": [
    "param_label = 'optimizer'\n",
    "param_list = ['adam', 'sgd', 'rmsprop', 'adagrad', 'adadelta', 'adamax', 'nadam']\n",
    "\n",
    "error_rate = {param_label: [], 'rmse': [], 'mape_pct': []}\n",
    "tic = time.time()\n",
    "for param in tqdm_notebook(param_list):\n",
    "    # Train, predict and eval model\n",
    "    rmse, mape, _ = train_pred_eval_model(x_train_scaled,\n",
    "                                          y_train_scaled,\n",
    "                                          x_cv_scaled,\n",
    "                                          y_cv,\n",
    "                                          mu_cv_list,\n",
    "                                          std_cv_list,\n",
    "                                          lstm_units=lstm_units_opt,\n",
    "                                          dropout_prob=dropout_prob_opt,\n",
    "                                          optimizer=param,\n",
    "                                          epochs=epochs_opt,\n",
    "                                          batch_size=batch_size_opt)\n",
    "    # Collect results\n",
    "    error_rate[param_label].append(param)\n",
    "    error_rate['rmse'].append(rmse)\n",
    "    error_rate['mape_pct'].append(mape)\n",
    "    \n",
    "error_rate = pd.DataFrame(error_rate)\n",
    "toc = time.time()\n",
    "print(\"Minutes taken = \" + str((toc-tic)/60.0))\n",
    "error_rate\n",
    "# 用时19分钟！！！！！！！！！！！！！！！"
   ]
  },
  {
   "cell_type": "markdown",
   "metadata": {},
   "source": [
    "#### (2) 画误差曲线"
   ]
  },
  {
   "cell_type": "code",
   "execution_count": 29,
   "metadata": {},
   "outputs": [
    {
     "data": {
      "text/plain": [
       "Text(0, 0.5, 'RMSE/MAPE(%)')"
      ]
     },
     "execution_count": 29,
     "metadata": {},
     "output_type": "execute_result"
    },
    {
     "data": {
      "image/png": "[encoded data removed]",
      "text/plain": [
       "<Figure size 720x576 with 1 Axes>"
      ]
     },
     "metadata": {},
     "output_type": "display_data"
    }
   ],
   "source": [
    "# Plot RMSE \n",
    "rcParams['figure.figsize'] = 10, 8 # width 10, height 8\n",
    "\n",
    "ax = error_rate.plot(x='optimizer', y='rmse', style='bx-', grid=True)\n",
    "ax = error_rate.plot(x='optimizer', y='mape_pct', style='rx-', grid=True, ax=ax)\n",
    "ax.set_xticklabels(param_list)\n",
    "ax.set_xlabel(\"Optimizer\")\n",
    "ax.set_ylabel(\"RMSE/MAPE(%)\")"
   ]
  },
  {
   "cell_type": "markdown",
   "metadata": {},
   "source": [
    "<img src=\"images/1004.png\">"
   ]
  },
  {
   "cell_type": "markdown",
   "metadata": {},
   "source": [
    "#### (3) 获取参数的最佳值"
   ]
  },
  {
   "cell_type": "code",
   "execution_count": 42,
   "metadata": {},
   "outputs": [
    {
     "name": "stdout",
     "output_type": "stream",
     "text": [
      "min RMSE = 1.422\n",
      "min MAPE = 0.709%\n",
      "optimum optimizer = nadam\n"
     ]
    }
   ],
   "source": [
    "# Get optimum value for param and param2\n",
    "temp = error_rate[error_rate['rmse'] == error_rate['rmse'].min()]\n",
    "optimizer_opt = temp[param_label].values[0]\n",
    "print(\"min RMSE = %0.3f\" % error_rate['rmse'].min())\n",
    "print(\"min MAPE = %0.3f%%\" % error_rate['mape_pct'].min())\n",
    "print(\"optimum \" + param_label + \" = \" + str(optimizer_opt))"
   ]
  },
  {
   "cell_type": "markdown",
   "metadata": {},
   "source": [
    "## 1.15 调试后的参数"
   ]
  },
  {
   "cell_type": "code",
   "execution_count": 43,
   "metadata": {},
   "outputs": [
    {
     "data": {
      "text/html": [
       "<div>\n",
       "<style scoped>\n",
       "    .dataframe tbody tr th:only-of-type {\n",
       "        vertical-align: middle;\n",
       "    }\n",
       "\n",
       "    .dataframe tbody tr th {\n",
       "        vertical-align: top;\n",
       "    }\n",
       "\n",
       "    .dataframe thead th {\n",
       "        text-align: right;\n",
       "    }\n",
       "</style>\n",
       "<table border=\"1\" class=\"dataframe\">\n",
       "  <thead>\n",
       "    <tr style=\"text-align: right;\">\n",
       "      <th></th>\n",
       "      <th>param</th>\n",
       "      <th>original</th>\n",
       "      <th>after_tuning</th>\n",
       "    </tr>\n",
       "  </thead>\n",
       "  <tbody>\n",
       "    <tr>\n",
       "      <th>0</th>\n",
       "      <td>N</td>\n",
       "      <td>9</td>\n",
       "      <td>3</td>\n",
       "    </tr>\n",
       "    <tr>\n",
       "      <th>1</th>\n",
       "      <td>lstm_units</td>\n",
       "      <td>50</td>\n",
       "      <td>50</td>\n",
       "    </tr>\n",
       "    <tr>\n",
       "      <th>2</th>\n",
       "      <td>dropout_prob</td>\n",
       "      <td>1</td>\n",
       "      <td>0.5</td>\n",
       "    </tr>\n",
       "    <tr>\n",
       "      <th>3</th>\n",
       "      <td>optimizer</td>\n",
       "      <td>adam</td>\n",
       "      <td>nadam</td>\n",
       "    </tr>\n",
       "    <tr>\n",
       "      <th>4</th>\n",
       "      <td>epochs</td>\n",
       "      <td>1</td>\n",
       "      <td>50</td>\n",
       "    </tr>\n",
       "    <tr>\n",
       "      <th>5</th>\n",
       "      <td>batch_size</td>\n",
       "      <td>1</td>\n",
       "      <td>8</td>\n",
       "    </tr>\n",
       "    <tr>\n",
       "      <th>6</th>\n",
       "      <td>rmse</td>\n",
       "      <td>2.19317</td>\n",
       "      <td>1.42157</td>\n",
       "    </tr>\n",
       "    <tr>\n",
       "      <th>7</th>\n",
       "      <td>mape_pct</td>\n",
       "      <td>1.14058</td>\n",
       "      <td>0.709065</td>\n",
       "    </tr>\n",
       "  </tbody>\n",
       "</table>\n",
       "</div>"
      ],
      "text/plain": [
       "          param original after_tuning\n",
       "0             N        9            3\n",
       "1    lstm_units       50           50\n",
       "2  dropout_prob        1          0.5\n",
       "3     optimizer     adam        nadam\n",
       "4        epochs        1           50\n",
       "5    batch_size        1            8\n",
       "6          rmse  2.19317      1.42157\n",
       "7      mape_pct  1.14058     0.709065"
      ]
     },
     "execution_count": 43,
     "metadata": {},
     "output_type": "execute_result"
    }
   ],
   "source": [
    "d = {'param': ['N', 'lstm_units', 'dropout_prob', 'optimizer', 'epochs', 'batch_size', 'rmse', 'mape_pct'],\n",
    "     'original': [N, lstm_units, dropout_prob, optimizer, epochs, batch_size, rmse_bef_tuning, mape_pct_bef_tuning],\n",
    "     'after_tuning': [N_opt, lstm_units_opt, dropout_prob_opt, optimizer_opt, epochs_opt, batch_size_opt, error_rate['rmse'].min(), error_rate['mape_pct'].min()]}\n",
    "tuned_params = pd.DataFrame(d)\n",
    "tuned_params"
   ]
  },
  {
   "cell_type": "markdown",
   "metadata": {},
   "source": [
    "## 1.16 最终模型"
   ]
  },
  {
   "cell_type": "markdown",
   "metadata": {},
   "source": [
    "#### (1) 训练"
   ]
  },
  {
   "cell_type": "code",
   "execution_count": 44,
   "metadata": {},
   "outputs": [
    {
     "name": "stdout",
     "output_type": "stream",
     "text": [
      "RMSE on test set = 1.506\n",
      "MAPE on test set = 0.775%\n"
     ]
    }
   ],
   "source": [
    "# Split train_cv into x and y\n",
    "x_train_cv_scaled, y_train_cv_scaled = get_x_y(train_cv_scaled_final, N_opt, N_opt)\n",
    "\n",
    "# Split test into x and y\n",
    "x_test_scaled, y_test, mu_test_list, std_test_list = get_x_scaled_y(np.array(df['adj_close']).reshape(-1,1), N_opt, num_train+num_cv)\n",
    "\n",
    "# Train, predict and eval model\n",
    "rmse, mape, est = train_pred_eval_model(x_train_cv_scaled,\n",
    "                                        y_train_cv_scaled,\n",
    "                                        x_test_scaled,\n",
    "                                        y_test,\n",
    "                                        mu_test_list,\n",
    "                                        std_test_list,\n",
    "                                        lstm_units=lstm_units_opt,\n",
    "                                        dropout_prob=dropout_prob_opt,\n",
    "                                        optimizer=optimizer_opt,\n",
    "                                        epochs=epochs_opt,\n",
    "                                        batch_size=batch_size_opt)\n",
    "\n",
    "# Calculate RMSE\n",
    "print(\"RMSE on test set = %0.3f\" % rmse)\n",
    "\n",
    "# Calculate MAPE\n",
    "print(\"MAPE on test set = %0.3f%%\" % mape)\n",
    "#22:28-?"
   ]
  },
  {
   "cell_type": "markdown",
   "metadata": {},
   "source": [
    "#### (2) 绘制收盘价随时间变化曲线"
   ]
  },
  {
   "cell_type": "code",
   "execution_count": 45,
   "metadata": {},
   "outputs": [
    {
     "data": {
      "text/plain": [
       "Text(0,0.5,'USD')"
      ]
     },
     "execution_count": 45,
     "metadata": {},
     "output_type": "execute_result"
    },
    {
     "data": {
      "image/png": "[encoded data removed]",
      "text/plain": [
       "<Figure size 720x576 with 1 Axes>"
      ]
     },
     "metadata": {},
     "output_type": "display_data"
    }
   ],
   "source": [
    "# Plot adjusted close over time\n",
    "rcParams['figure.figsize'] = 10, 8 # width 10, height 8\n",
    "\n",
    "est_df = pd.DataFrame({'est': est.reshape(-1), \n",
    "                       'date': df[num_train+num_cv:]['date']})\n",
    "\n",
    "ax = train.plot(x='date', y='adj_close', style='b-', grid=True)\n",
    "ax = cv.plot(x='date', y='adj_close', style='y-', grid=True, ax=ax)\n",
    "ax = test.plot(x='date', y='adj_close', style='g-', grid=True, ax=ax)\n",
    "ax = est_df.plot(x='date', y='est', style='r-', grid=True, ax=ax)\n",
    "ax.legend(['train', 'dev', 'test', 'predictions'])\n",
    "ax.set_xlabel(\"date\")\n",
    "ax.set_ylabel(\"USD\")"
   ]
  },
  {
   "cell_type": "markdown",
   "metadata": {},
   "source": [
    "<img src=\"images/1005.png\">"
   ]
  },
  {
   "cell_type": "markdown",
   "metadata": {},
   "source": [
    "#### (3) 放大特定区间"
   ]
  },
  {
   "cell_type": "code",
   "execution_count": 38,
   "metadata": {},
   "outputs": [
    {
     "ename": "NameError",
     "evalue": "name 'est_df' is not defined",
     "output_type": "error",
     "traceback": [
      "\u001b[1;31m---------------------------------------------------------------------------\u001b[0m",
      "\u001b[1;31mNameError\u001b[0m                                 Traceback (most recent call last)",
      "\u001b[1;32m<ipython-input-38-9146141136bb>\u001b[0m in \u001b[0;36m<module>\u001b[1;34m()\u001b[0m\n\u001b[0;32m      4\u001b[0m \u001b[0max\u001b[0m \u001b[1;33m=\u001b[0m \u001b[0mcv\u001b[0m\u001b[1;33m.\u001b[0m\u001b[0mplot\u001b[0m\u001b[1;33m(\u001b[0m\u001b[0mx\u001b[0m\u001b[1;33m=\u001b[0m\u001b[1;34m'date'\u001b[0m\u001b[1;33m,\u001b[0m \u001b[0my\u001b[0m\u001b[1;33m=\u001b[0m\u001b[1;34m'adj_close'\u001b[0m\u001b[1;33m,\u001b[0m \u001b[0mstyle\u001b[0m\u001b[1;33m=\u001b[0m\u001b[1;34m'y-'\u001b[0m\u001b[1;33m,\u001b[0m \u001b[0mgrid\u001b[0m\u001b[1;33m=\u001b[0m\u001b[1;32mTrue\u001b[0m\u001b[1;33m,\u001b[0m \u001b[0max\u001b[0m\u001b[1;33m=\u001b[0m\u001b[0max\u001b[0m\u001b[1;33m)\u001b[0m\u001b[1;33m\u001b[0m\u001b[0m\n\u001b[0;32m      5\u001b[0m \u001b[0max\u001b[0m \u001b[1;33m=\u001b[0m \u001b[0mtest\u001b[0m\u001b[1;33m.\u001b[0m\u001b[0mplot\u001b[0m\u001b[1;33m(\u001b[0m\u001b[0mx\u001b[0m\u001b[1;33m=\u001b[0m\u001b[1;34m'date'\u001b[0m\u001b[1;33m,\u001b[0m \u001b[0my\u001b[0m\u001b[1;33m=\u001b[0m\u001b[1;34m'adj_close'\u001b[0m\u001b[1;33m,\u001b[0m \u001b[0mstyle\u001b[0m\u001b[1;33m=\u001b[0m\u001b[1;34m'g-'\u001b[0m\u001b[1;33m,\u001b[0m \u001b[0mgrid\u001b[0m\u001b[1;33m=\u001b[0m\u001b[1;32mTrue\u001b[0m\u001b[1;33m,\u001b[0m \u001b[0max\u001b[0m\u001b[1;33m=\u001b[0m\u001b[0max\u001b[0m\u001b[1;33m)\u001b[0m\u001b[1;33m\u001b[0m\u001b[0m\n\u001b[1;32m----> 6\u001b[1;33m \u001b[0max\u001b[0m \u001b[1;33m=\u001b[0m \u001b[0mest_df\u001b[0m\u001b[1;33m.\u001b[0m\u001b[0mplot\u001b[0m\u001b[1;33m(\u001b[0m\u001b[0mx\u001b[0m\u001b[1;33m=\u001b[0m\u001b[1;34m'date'\u001b[0m\u001b[1;33m,\u001b[0m \u001b[0my\u001b[0m\u001b[1;33m=\u001b[0m\u001b[1;34m'est'\u001b[0m\u001b[1;33m,\u001b[0m \u001b[0mstyle\u001b[0m\u001b[1;33m=\u001b[0m\u001b[1;34m'r-'\u001b[0m\u001b[1;33m,\u001b[0m \u001b[0mgrid\u001b[0m\u001b[1;33m=\u001b[0m\u001b[1;32mTrue\u001b[0m\u001b[1;33m,\u001b[0m \u001b[0max\u001b[0m\u001b[1;33m=\u001b[0m\u001b[0max\u001b[0m\u001b[1;33m)\u001b[0m\u001b[1;33m\u001b[0m\u001b[0m\n\u001b[0m\u001b[0;32m      7\u001b[0m \u001b[0max\u001b[0m\u001b[1;33m.\u001b[0m\u001b[0mlegend\u001b[0m\u001b[1;33m(\u001b[0m\u001b[1;33m[\u001b[0m\u001b[1;34m'train'\u001b[0m\u001b[1;33m,\u001b[0m \u001b[1;34m'dev'\u001b[0m\u001b[1;33m,\u001b[0m \u001b[1;34m'test'\u001b[0m\u001b[1;33m,\u001b[0m \u001b[1;34m'predictions'\u001b[0m\u001b[1;33m]\u001b[0m\u001b[1;33m)\u001b[0m\u001b[1;33m\u001b[0m\u001b[0m\n\u001b[0;32m      8\u001b[0m \u001b[0max\u001b[0m\u001b[1;33m.\u001b[0m\u001b[0mset_xlabel\u001b[0m\u001b[1;33m(\u001b[0m\u001b[1;34m\"date\"\u001b[0m\u001b[1;33m)\u001b[0m\u001b[1;33m\u001b[0m\u001b[0m\n",
      "\u001b[1;31mNameError\u001b[0m: name 'est_df' is not defined"
     ]
    },
    {
     "data": {
      "image/png": "[encoded data removed]",
      "text/plain": [
       "<Figure size 720x576 with 1 Axes>"
      ]
     },
     "metadata": {},
     "output_type": "display_data"
    }
   ],
   "source": [
    "# Plot adjusted close over time\n",
    "rcParams['figure.figsize'] = 10, 8 # width 10, height 8\n",
    "ax = train.plot(x='date', y='adj_close', style='b-', grid=True)\n",
    "ax = cv.plot(x='date', y='adj_close', style='y-', grid=True, ax=ax)\n",
    "ax = test.plot(x='date', y='adj_close', style='g-', grid=True, ax=ax)\n",
    "ax = est_df.plot(x='date', y='est', style='r-', grid=True, ax=ax)\n",
    "ax.legend(['train', 'dev', 'test', 'predictions'])\n",
    "ax.set_xlabel(\"date\")\n",
    "ax.set_ylabel(\"USD\")\n",
    "ax.set_xlim([date(2018, 4, 1), date(2018, 11, 30)])\n",
    "ax.set_ylim([130, 155])\n",
    "ax.set_title(\"Zoom in to test set\")"
   ]
  },
  {
   "cell_type": "markdown",
   "metadata": {},
   "source": [
    "<img src=\"images/1006.png\">"
   ]
  },
  {
   "cell_type": "markdown",
   "metadata": {},
   "source": [
    "#### (4) 放大测试集部分"
   ]
  },
  {
   "cell_type": "code",
   "execution_count": 39,
   "metadata": {
    "scrolled": false
   },
   "outputs": [
    {
     "data": {
      "text/plain": [
       "(130, 155)"
      ]
     },
     "execution_count": 39,
     "metadata": {},
     "output_type": "execute_result"
    },
    {
     "data": {
      "image/png": "[encoded data removed]",
      "text/plain": [
       "<Figure size 720x576 with 1 Axes>"
      ]
     },
     "metadata": {},
     "output_type": "display_data"
    }
   ],
   "source": [
    "# Plot adjusted close over time, only for test set\n",
    "rcParams['figure.figsize'] = 10, 8 # width 10, height 8\n",
    "matplotlib.rcParams.update({'font.size': 14})\n",
    "\n",
    "ax = test.plot(x='date', y='adj_close', style='gx-', grid=True)\n",
    "ax = est_df.plot(x='date', y='est', style='rx-', grid=True, ax=ax)\n",
    "ax.legend(['test', 'predictions using lstm'], loc='upper left')\n",
    "ax.set_xlabel(\"date\")\n",
    "ax.set_ylabel(\"USD\")\n",
    "ax.set_xlim([date(2018, 4, 23), date(2018, 11, 23)])\n",
    "ax.set_ylim([130, 155])"
   ]
  },
  {
   "cell_type": "markdown",
   "metadata": {},
   "source": [
    "<img src=\"images/1007.png\">"
   ]
  },
  {
   "cell_type": "markdown",
   "metadata": {},
   "source": [
    "#### (5) 保存"
   ]
  },
  {
   "cell_type": "code",
   "execution_count": 40,
   "metadata": {},
   "outputs": [],
   "source": [
    "# Save as csv\n",
    "test_lstm = est_df\n",
    "test_lstm.to_csv(\"./test_lstm.csv\")"
   ]
  },
  {
   "cell_type": "markdown",
   "metadata": {},
   "source": [
    "## 案例分析(4) 结束"
   ]
  }
 ],
 "metadata": {
  "kernelspec": {
   "display_name": "Python 3",
   "language": "python",
   "name": "python3"
  },
  "language_info": {
   "codemirror_mode": {
    "name": "ipython",
    "version": 3
   },
   "file_extension": ".py",
   "mimetype": "text/x-python",
   "name": "python",
   "nbconvert_exporter": "python",
   "pygments_lexer": "ipython3",
   "version": "3.7.0"
  },
  "toc": {
   "nav_menu": {},
   "number_sections": false,
   "sideBar": true,
   "skip_h1_title": false,
   "title_cell": "Table of Contents",
   "title_sidebar": "Contents",
   "toc_cell": false,
   "toc_position": {
    "height": "calc(100% - 180px)",
    "left": "10px",
    "top": "150px",
    "width": "307.2px"
   },
   "toc_section_display": true,
   "toc_window_display": true
  }
 },
 "nbformat": 4,
 "nbformat_minor": 2
}
