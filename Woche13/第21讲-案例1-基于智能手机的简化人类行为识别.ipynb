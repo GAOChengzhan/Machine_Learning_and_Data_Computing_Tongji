{
 "cells": [
  {
   "cell_type": "markdown",
   "metadata": {},
   "source": [
    "# 案例 1 —— 基于智能手机的简化人类行为识别\n",
    "\n",
    "\n",
    "- Simplified Human Activity Recognition w/Smartphone\n",
    "    - [访问 Kaggle 链接(简化版本)](https://www.kaggle.com/mboaglio/simplifiedhuarus/)"
   ]
  },
  {
   "cell_type": "markdown",
   "metadata": {},
   "source": [
    "## 1.1 数据集"
   ]
  },
  {
   "cell_type": "markdown",
   "metadata": {},
   "source": [
    "### 1.1.1 数据集介绍\n",
    "\n",
    "\n",
    "- 出自意大利、西班牙学者（2013年）\n",
    "    - Jorge L. Reyes-Ortiz、Davide Anguita、等\n",
    "\n",
    "\n",
    "- 参考文献\n",
    "    - [Davide Anguita, Alessandro Ghio, Luca Oneto, Xavier Parra, Jorge L. Reyes-Ortiz. Energy Efficient Smartphone-Based Activity Recognition using Fixed-Point Arithmetic. Journal of Universal Computer Science, vol. 19, no. 9 (2013), 1295-1314](https://pdfs.semanticscholar.org/dc70/24840a4ba7ab634517fae53e77695ff5dda9.pdf)\n",
    "    - 本地 pdfs 文件夹"
   ]
  },
  {
   "cell_type": "markdown",
   "metadata": {},
   "source": [
    "- 数据采集装备 —— 智能手机\n",
    "    - 可在腰部穿戴\n",
    "    - 含内置式惯性传感器\n",
    "<img src=\"figures/phone_belt.png\" width=\"500\">\n",
    "\n",
    "\n",
    "- 数据用途\n",
    "    - 记录人类的 30 种日常生活行为 (Activities of Daily Living, ADL) 数据\n",
    "    - 从事基于大数据的人类行为研究"
   ]
  },
  {
   "cell_type": "markdown",
   "metadata": {},
   "source": [
    "- 方案设计\n",
    "    - 召集 30 个年龄介于 19～48 的自愿者进行试验\n",
    "    - 每人腰部穿戴着智能手机(Samsung Galaxy S II)，做 6 种动作\n",
    "        - 坐 —— SITTING\n",
    "        - 立 —— STANDING\n",
    "        - 卧 —— LAYING\n",
    "        - 行 —— WALKING\n",
    "        - 上 —— WALKING_UPSTAIRS\n",
    "        - 下 —— WALKING_DOWNSTAIRS\n",
    "    - 通过嵌入式加速度仪(accelerometer)和陀螺仪(gyroscope)，采集以下信号 (采样频率 50Hz)\n",
    "        - 三轴加速度\n",
    "        - 三轴角速度\n",
    "    - 录制试验视频以便人工标识\n",
    "        - [视频 youtube 链接](http://www.youtube.com/watch?v=XOEN9W05_4A)\n",
    "    - 对数据进行随机拆分\n",
    "        - 70% 的自愿者 用着训练集\n",
    "        - 30% 的自愿者 用着测试集\n",
    "\n",
    "\n",
    "<img src=\"figures/pipeline.png\" width=\"750\">"
   ]
  },
  {
   "cell_type": "markdown",
   "metadata": {},
   "source": [
    "### 1.1.2 问题 —— 基于智能手机采集数据集的人类行为识别\n",
    "\n",
    "\n",
    "- 网络数据源\n",
    "    - [UCI 机器学习数据仓库](https://archive.ics.uci.edu/ml/index.php)\n",
    "        - [https://archive.ics.uci.edu/ml/datasets/human+activity+recognition+using+smartphones](https://archive.ics.uci.edu/ml/datasets/human+activity+recognition+using+smartphones)\n",
    "\n",
    "\n",
    "- 数据下载\n",
    "    - [https://archive.ics.uci.edu/ml/machine-learning-databases/00240/](https://archive.ics.uci.edu/ml/machine-learning-databases/00240/)\n",
    "\n",
    "\n",
    "- 特征信息\n",
    "    - 三轴加速度信号和估计的身体运动加速度\n",
    "    - 三轴角速度\n",
    "\n",
    "\n",
    "- 预处理\n",
    "    - 带有时频域变量的 `特征向量`(特征数：561)\n",
    "    - 行为标识\n",
    "    - 其它处理"
   ]
  },
  {
   "cell_type": "markdown",
   "metadata": {},
   "source": [
    "### 1.1.3 数据后来经过升级 —— 考虑姿态变迁\n",
    "\n",
    "\n",
    "- 访问升级数据\n",
    "    - [http://archive.ics.uci.edu/ml/machine-learning-databases/00341/](http://archive.ics.uci.edu/ml/machine-learning-databases/00341/)\n",
    "\n",
    "\n",
    "<img src=\"figures/posture_change.png\" width=\"600\">\n",
    "\n",
    "- 升级数据包含\n",
    "    - 行为之间的姿态变迁记录\n",
    "    - 未经过预处理的原始信号"
   ]
  },
  {
   "cell_type": "markdown",
   "metadata": {},
   "source": [
    "### 1.1.4 简化问题 —— 基于智能手机采集数据集的<font color=\"red\">简化</font>人类行为识别\n",
    "\n",
    "\n",
    "- 简化目的 —— 介绍机器学习课程的教学工具\n",
    "\n",
    "\n",
    "- 数据下载\n",
    "    - [https://www.kaggle.com/mboaglio/simplifiedhuarus](https://www.kaggle.com/mboaglio/simplifiedhuarus)"
   ]
  },
  {
   "cell_type": "markdown",
   "metadata": {},
   "source": [
    "## 1.2 人类行为识别\n",
    "\n",
    "- 由智能手机传感器数据，请你来识别人的行为模式"
   ]
  },
  {
   "cell_type": "markdown",
   "metadata": {},
   "source": [
    "### 1.2.1 导入模块"
   ]
  },
  {
   "cell_type": "markdown",
   "metadata": {},
   "source": [
    "- ipython\n",
    "- numpy\n",
    "- pandas\n",
    "- matplotlib"
   ]
  },
  {
   "cell_type": "code",
   "execution_count": 1,
   "metadata": {},
   "outputs": [],
   "source": [
    "%matplotlib inline\n",
    "from IPython.display import display\n",
    "\n",
    "import numpy as np\n",
    "import pandas as pd\n",
    "\n",
    "import matplotlib.pyplot as plt "
   ]
  },
  {
   "cell_type": "markdown",
   "metadata": {},
   "source": [
    "### 1.2.2 加载训练数据帧"
   ]
  },
  {
   "cell_type": "code",
   "execution_count": 2,
   "metadata": {},
   "outputs": [
    {
     "data": {
      "text/html": [
       "<div>\n",
       "<style scoped>\n",
       "    .dataframe tbody tr th:only-of-type {\n",
       "        vertical-align: middle;\n",
       "    }\n",
       "\n",
       "    .dataframe tbody tr th {\n",
       "        vertical-align: top;\n",
       "    }\n",
       "\n",
       "    .dataframe thead th {\n",
       "        text-align: right;\n",
       "    }\n",
       "</style>\n",
       "<table border=\"1\" class=\"dataframe\">\n",
       "  <thead>\n",
       "    <tr style=\"text-align: right;\">\n",
       "      <th></th>\n",
       "      <th>rn</th>\n",
       "      <th>activity</th>\n",
       "      <th>tBodyAcc.mean.X</th>\n",
       "      <th>tBodyAcc.mean.Y</th>\n",
       "      <th>tBodyAcc.mean.Z</th>\n",
       "      <th>tBodyAcc.std.X</th>\n",
       "      <th>tBodyAcc.std.Y</th>\n",
       "      <th>tBodyAcc.std.Z</th>\n",
       "      <th>tBodyAcc.mad.X</th>\n",
       "      <th>tBodyAcc.mad.Y</th>\n",
       "      <th>...</th>\n",
       "      <th>fBodyBodyGyroJerkMag.meanFreq</th>\n",
       "      <th>fBodyBodyGyroJerkMag.skewness</th>\n",
       "      <th>fBodyBodyGyroJerkMag.kurtosis</th>\n",
       "      <th>angle.tBodyAccMean.gravity</th>\n",
       "      <th>angle.tBodyAccJerkMean.gravityMean</th>\n",
       "      <th>angle.tBodyGyroMean.gravityMean</th>\n",
       "      <th>angle.tBodyGyroJerkMean.gravityMean</th>\n",
       "      <th>angle.X.gravityMean</th>\n",
       "      <th>angle.Y.gravityMean</th>\n",
       "      <th>angle.Z.gravityMean</th>\n",
       "    </tr>\n",
       "  </thead>\n",
       "  <tbody>\n",
       "    <tr>\n",
       "      <th>0</th>\n",
       "      <td>7</td>\n",
       "      <td>STANDING</td>\n",
       "      <td>0.279</td>\n",
       "      <td>-0.0196</td>\n",
       "      <td>-0.1100</td>\n",
       "      <td>-0.997</td>\n",
       "      <td>-0.967</td>\n",
       "      <td>-0.983</td>\n",
       "      <td>-0.997</td>\n",
       "      <td>-0.966</td>\n",
       "      <td>...</td>\n",
       "      <td>0.146</td>\n",
       "      <td>-0.217</td>\n",
       "      <td>-0.5640</td>\n",
       "      <td>-0.2130</td>\n",
       "      <td>-0.2310</td>\n",
       "      <td>0.0146</td>\n",
       "      <td>-0.190</td>\n",
       "      <td>-0.852</td>\n",
       "      <td>0.182</td>\n",
       "      <td>-0.0430</td>\n",
       "    </tr>\n",
       "    <tr>\n",
       "      <th>1</th>\n",
       "      <td>11</td>\n",
       "      <td>STANDING</td>\n",
       "      <td>0.277</td>\n",
       "      <td>-0.0127</td>\n",
       "      <td>-0.1030</td>\n",
       "      <td>-0.995</td>\n",
       "      <td>-0.973</td>\n",
       "      <td>-0.985</td>\n",
       "      <td>-0.996</td>\n",
       "      <td>-0.974</td>\n",
       "      <td>...</td>\n",
       "      <td>0.121</td>\n",
       "      <td>0.349</td>\n",
       "      <td>0.0577</td>\n",
       "      <td>0.0807</td>\n",
       "      <td>0.5960</td>\n",
       "      <td>-0.4760</td>\n",
       "      <td>0.116</td>\n",
       "      <td>-0.852</td>\n",
       "      <td>0.188</td>\n",
       "      <td>-0.0347</td>\n",
       "    </tr>\n",
       "    <tr>\n",
       "      <th>2</th>\n",
       "      <td>14</td>\n",
       "      <td>STANDING</td>\n",
       "      <td>0.277</td>\n",
       "      <td>-0.0147</td>\n",
       "      <td>-0.1070</td>\n",
       "      <td>-0.999</td>\n",
       "      <td>-0.991</td>\n",
       "      <td>-0.993</td>\n",
       "      <td>-0.999</td>\n",
       "      <td>-0.991</td>\n",
       "      <td>...</td>\n",
       "      <td>0.740</td>\n",
       "      <td>-0.564</td>\n",
       "      <td>-0.7660</td>\n",
       "      <td>0.1060</td>\n",
       "      <td>-0.0903</td>\n",
       "      <td>-0.1320</td>\n",
       "      <td>0.499</td>\n",
       "      <td>-0.850</td>\n",
       "      <td>0.189</td>\n",
       "      <td>-0.0351</td>\n",
       "    </tr>\n",
       "    <tr>\n",
       "      <th>3</th>\n",
       "      <td>15</td>\n",
       "      <td>STANDING</td>\n",
       "      <td>0.298</td>\n",
       "      <td>0.0271</td>\n",
       "      <td>-0.0617</td>\n",
       "      <td>-0.989</td>\n",
       "      <td>-0.817</td>\n",
       "      <td>-0.902</td>\n",
       "      <td>-0.989</td>\n",
       "      <td>-0.794</td>\n",
       "      <td>...</td>\n",
       "      <td>0.131</td>\n",
       "      <td>0.208</td>\n",
       "      <td>-0.0681</td>\n",
       "      <td>0.0623</td>\n",
       "      <td>-0.0587</td>\n",
       "      <td>0.0312</td>\n",
       "      <td>-0.269</td>\n",
       "      <td>-0.731</td>\n",
       "      <td>0.283</td>\n",
       "      <td>0.0364</td>\n",
       "    </tr>\n",
       "    <tr>\n",
       "      <th>4</th>\n",
       "      <td>20</td>\n",
       "      <td>STANDING</td>\n",
       "      <td>0.276</td>\n",
       "      <td>-0.0170</td>\n",
       "      <td>-0.1110</td>\n",
       "      <td>-0.998</td>\n",
       "      <td>-0.991</td>\n",
       "      <td>-0.998</td>\n",
       "      <td>-0.998</td>\n",
       "      <td>-0.989</td>\n",
       "      <td>...</td>\n",
       "      <td>0.667</td>\n",
       "      <td>-0.942</td>\n",
       "      <td>-0.9660</td>\n",
       "      <td>0.2450</td>\n",
       "      <td>0.1030</td>\n",
       "      <td>0.0661</td>\n",
       "      <td>-0.412</td>\n",
       "      <td>-0.761</td>\n",
       "      <td>0.263</td>\n",
       "      <td>0.0296</td>\n",
       "    </tr>\n",
       "  </tbody>\n",
       "</table>\n",
       "<p>5 rows × 563 columns</p>\n",
       "</div>"
      ],
      "text/plain": [
       "   rn  activity  tBodyAcc.mean.X  tBodyAcc.mean.Y  tBodyAcc.mean.Z  \\\n",
       "0   7  STANDING            0.279          -0.0196          -0.1100   \n",
       "1  11  STANDING            0.277          -0.0127          -0.1030   \n",
       "2  14  STANDING            0.277          -0.0147          -0.1070   \n",
       "3  15  STANDING            0.298           0.0271          -0.0617   \n",
       "4  20  STANDING            0.276          -0.0170          -0.1110   \n",
       "\n",
       "   tBodyAcc.std.X  tBodyAcc.std.Y  tBodyAcc.std.Z  tBodyAcc.mad.X  \\\n",
       "0          -0.997          -0.967          -0.983          -0.997   \n",
       "1          -0.995          -0.973          -0.985          -0.996   \n",
       "2          -0.999          -0.991          -0.993          -0.999   \n",
       "3          -0.989          -0.817          -0.902          -0.989   \n",
       "4          -0.998          -0.991          -0.998          -0.998   \n",
       "\n",
       "   tBodyAcc.mad.Y  ...  fBodyBodyGyroJerkMag.meanFreq  \\\n",
       "0          -0.966  ...                          0.146   \n",
       "1          -0.974  ...                          0.121   \n",
       "2          -0.991  ...                          0.740   \n",
       "3          -0.794  ...                          0.131   \n",
       "4          -0.989  ...                          0.667   \n",
       "\n",
       "   fBodyBodyGyroJerkMag.skewness  fBodyBodyGyroJerkMag.kurtosis  \\\n",
       "0                         -0.217                        -0.5640   \n",
       "1                          0.349                         0.0577   \n",
       "2                         -0.564                        -0.7660   \n",
       "3                          0.208                        -0.0681   \n",
       "4                         -0.942                        -0.9660   \n",
       "\n",
       "   angle.tBodyAccMean.gravity  angle.tBodyAccJerkMean.gravityMean  \\\n",
       "0                     -0.2130                             -0.2310   \n",
       "1                      0.0807                              0.5960   \n",
       "2                      0.1060                             -0.0903   \n",
       "3                      0.0623                             -0.0587   \n",
       "4                      0.2450                              0.1030   \n",
       "\n",
       "   angle.tBodyGyroMean.gravityMean  angle.tBodyGyroJerkMean.gravityMean  \\\n",
       "0                           0.0146                               -0.190   \n",
       "1                          -0.4760                                0.116   \n",
       "2                          -0.1320                                0.499   \n",
       "3                           0.0312                               -0.269   \n",
       "4                           0.0661                               -0.412   \n",
       "\n",
       "   angle.X.gravityMean  angle.Y.gravityMean  angle.Z.gravityMean  \n",
       "0               -0.852                0.182              -0.0430  \n",
       "1               -0.852                0.188              -0.0347  \n",
       "2               -0.850                0.189              -0.0351  \n",
       "3               -0.731                0.283               0.0364  \n",
       "4               -0.761                0.263               0.0296  \n",
       "\n",
       "[5 rows x 563 columns]"
      ]
     },
     "execution_count": 2,
     "metadata": {},
     "output_type": "execute_result"
    }
   ],
   "source": [
    "shar_df = pd.read_csv('data/train.csv') \n",
    "shar_df.head()"
   ]
  },
  {
   "cell_type": "markdown",
   "metadata": {},
   "source": [
    "### 1.2.3 观察数据\n",
    "\n",
    "\n",
    "- 发现\n",
    "    - 563 个特征 —— 预处理（信号过滤、统计分析、......）\n",
    "\n",
    "\n",
    "- 描述\n",
    "    - activity —— 行为（坐、立、卧、行、上、下）\n",
    "    - 其它特征\n",
    "\n",
    "\n",
    "- 字节含义\n",
    "    - 首字母 —— t、f\n",
    "    - Body —— 身体\n",
    "    - Gravity —— 重力\n",
    "    - Acc —— 加速度\n",
    "    - Gyro —— 回转仪（角速度？）\n",
    "    - mean、std、max、min、... —— 均值、标准差、最大、最小、...\n",
    "    - X、Y、Z —— 分量方向\n",
    "    - Jerk —— 时间变化率，如 $\\dfrac{d\\mathbf{A}}{dt}$"
   ]
  },
  {
   "cell_type": "code",
   "execution_count": 3,
   "metadata": {},
   "outputs": [
    {
     "data": {
      "text/plain": [
       "Index(['rn', 'activity', 'tBodyAcc.mean.X', 'tBodyAcc.mean.Y',\n",
       "       'tBodyAcc.mean.Z', 'tBodyAcc.std.X', 'tBodyAcc.std.Y', 'tBodyAcc.std.Z',\n",
       "       'tBodyAcc.mad.X', 'tBodyAcc.mad.Y',\n",
       "       ...\n",
       "       'fBodyBodyGyroJerkMag.meanFreq', 'fBodyBodyGyroJerkMag.skewness',\n",
       "       'fBodyBodyGyroJerkMag.kurtosis', 'angle.tBodyAccMean.gravity',\n",
       "       'angle.tBodyAccJerkMean.gravityMean', 'angle.tBodyGyroMean.gravityMean',\n",
       "       'angle.tBodyGyroJerkMean.gravityMean', 'angle.X.gravityMean',\n",
       "       'angle.Y.gravityMean', 'angle.Z.gravityMean'],\n",
       "      dtype='object', length=563)"
      ]
     },
     "execution_count": 3,
     "metadata": {},
     "output_type": "execute_result"
    }
   ],
   "source": [
    "# 列标识\n",
    "shar_df.columns"
   ]
  },
  {
   "cell_type": "code",
   "execution_count": 4,
   "metadata": {},
   "outputs": [
    {
     "data": {
      "text/html": [
       "<div>\n",
       "<style scoped>\n",
       "    .dataframe tbody tr th:only-of-type {\n",
       "        vertical-align: middle;\n",
       "    }\n",
       "\n",
       "    .dataframe tbody tr th {\n",
       "        vertical-align: top;\n",
       "    }\n",
       "\n",
       "    .dataframe thead th {\n",
       "        text-align: right;\n",
       "    }\n",
       "</style>\n",
       "<table border=\"1\" class=\"dataframe\">\n",
       "  <thead>\n",
       "    <tr style=\"text-align: right;\">\n",
       "      <th></th>\n",
       "      <th>rn</th>\n",
       "      <th>activity</th>\n",
       "      <th>tBodyAcc.mean.X</th>\n",
       "      <th>tBodyAcc.mean.Y</th>\n",
       "      <th>tBodyAcc.mean.Z</th>\n",
       "      <th>tBodyAcc.std.X</th>\n",
       "      <th>tBodyAcc.std.Y</th>\n",
       "      <th>tBodyAcc.std.Z</th>\n",
       "      <th>tBodyAcc.mad.X</th>\n",
       "      <th>tBodyAcc.mad.Y</th>\n",
       "      <th>...</th>\n",
       "      <th>fBodyBodyGyroJerkMag.meanFreq</th>\n",
       "      <th>fBodyBodyGyroJerkMag.skewness</th>\n",
       "      <th>fBodyBodyGyroJerkMag.kurtosis</th>\n",
       "      <th>angle.tBodyAccMean.gravity</th>\n",
       "      <th>angle.tBodyAccJerkMean.gravityMean</th>\n",
       "      <th>angle.tBodyGyroMean.gravityMean</th>\n",
       "      <th>angle.tBodyGyroJerkMean.gravityMean</th>\n",
       "      <th>angle.X.gravityMean</th>\n",
       "      <th>angle.Y.gravityMean</th>\n",
       "      <th>angle.Z.gravityMean</th>\n",
       "    </tr>\n",
       "  </thead>\n",
       "  <tbody>\n",
       "    <tr>\n",
       "      <th>3604</th>\n",
       "      <td>10277</td>\n",
       "      <td>WALKING_UPSTAIRS</td>\n",
       "      <td>0.357</td>\n",
       "      <td>-0.04460</td>\n",
       "      <td>-0.1300</td>\n",
       "      <td>-0.3140</td>\n",
       "      <td>-0.0556</td>\n",
       "      <td>-0.173</td>\n",
       "      <td>-0.386</td>\n",
       "      <td>-0.0575</td>\n",
       "      <td>...</td>\n",
       "      <td>0.0168</td>\n",
       "      <td>-0.1630</td>\n",
       "      <td>-0.5930</td>\n",
       "      <td>-0.7110</td>\n",
       "      <td>-0.0612</td>\n",
       "      <td>-0.706</td>\n",
       "      <td>0.0646</td>\n",
       "      <td>-0.660</td>\n",
       "      <td>0.274</td>\n",
       "      <td>0.176</td>\n",
       "    </tr>\n",
       "    <tr>\n",
       "      <th>3605</th>\n",
       "      <td>10278</td>\n",
       "      <td>WALKING_UPSTAIRS</td>\n",
       "      <td>0.344</td>\n",
       "      <td>0.00479</td>\n",
       "      <td>-0.1220</td>\n",
       "      <td>-0.3200</td>\n",
       "      <td>-0.0667</td>\n",
       "      <td>-0.182</td>\n",
       "      <td>-0.380</td>\n",
       "      <td>-0.0710</td>\n",
       "      <td>...</td>\n",
       "      <td>-0.0292</td>\n",
       "      <td>0.1810</td>\n",
       "      <td>-0.2500</td>\n",
       "      <td>-0.4030</td>\n",
       "      <td>-0.7060</td>\n",
       "      <td>0.739</td>\n",
       "      <td>0.8710</td>\n",
       "      <td>-0.653</td>\n",
       "      <td>0.278</td>\n",
       "      <td>0.180</td>\n",
       "    </tr>\n",
       "    <tr>\n",
       "      <th>3606</th>\n",
       "      <td>10279</td>\n",
       "      <td>WALKING_UPSTAIRS</td>\n",
       "      <td>0.284</td>\n",
       "      <td>-0.00796</td>\n",
       "      <td>-0.1190</td>\n",
       "      <td>-0.3090</td>\n",
       "      <td>-0.0804</td>\n",
       "      <td>-0.211</td>\n",
       "      <td>-0.369</td>\n",
       "      <td>-0.0971</td>\n",
       "      <td>...</td>\n",
       "      <td>-0.1100</td>\n",
       "      <td>0.0245</td>\n",
       "      <td>-0.3930</td>\n",
       "      <td>-0.0761</td>\n",
       "      <td>-0.2390</td>\n",
       "      <td>0.960</td>\n",
       "      <td>0.0866</td>\n",
       "      <td>-0.657</td>\n",
       "      <td>0.272</td>\n",
       "      <td>0.183</td>\n",
       "    </tr>\n",
       "    <tr>\n",
       "      <th>3607</th>\n",
       "      <td>10280</td>\n",
       "      <td>WALKING_UPSTAIRS</td>\n",
       "      <td>0.207</td>\n",
       "      <td>0.02460</td>\n",
       "      <td>-0.1040</td>\n",
       "      <td>-0.3650</td>\n",
       "      <td>-0.1690</td>\n",
       "      <td>-0.216</td>\n",
       "      <td>-0.449</td>\n",
       "      <td>-0.1860</td>\n",
       "      <td>...</td>\n",
       "      <td>-0.2140</td>\n",
       "      <td>-0.3520</td>\n",
       "      <td>-0.7340</td>\n",
       "      <td>0.5350</td>\n",
       "      <td>-0.2570</td>\n",
       "      <td>0.927</td>\n",
       "      <td>-0.0843</td>\n",
       "      <td>-0.657</td>\n",
       "      <td>0.267</td>\n",
       "      <td>0.188</td>\n",
       "    </tr>\n",
       "    <tr>\n",
       "      <th>3608</th>\n",
       "      <td>10281</td>\n",
       "      <td>WALKING_DOWNSTAIRS</td>\n",
       "      <td>0.393</td>\n",
       "      <td>-0.01780</td>\n",
       "      <td>-0.0902</td>\n",
       "      <td>-0.0963</td>\n",
       "      <td>-0.1740</td>\n",
       "      <td>-0.257</td>\n",
       "      <td>-0.153</td>\n",
       "      <td>-0.2080</td>\n",
       "      <td>...</td>\n",
       "      <td>0.0894</td>\n",
       "      <td>0.2740</td>\n",
       "      <td>-0.0368</td>\n",
       "      <td>-0.7430</td>\n",
       "      <td>-0.0802</td>\n",
       "      <td>0.927</td>\n",
       "      <td>-0.6520</td>\n",
       "      <td>-0.807</td>\n",
       "      <td>0.190</td>\n",
       "      <td>0.118</td>\n",
       "    </tr>\n",
       "  </tbody>\n",
       "</table>\n",
       "<p>5 rows × 563 columns</p>\n",
       "</div>"
      ],
      "text/plain": [
       "         rn            activity  tBodyAcc.mean.X  tBodyAcc.mean.Y  \\\n",
       "3604  10277    WALKING_UPSTAIRS            0.357         -0.04460   \n",
       "3605  10278    WALKING_UPSTAIRS            0.344          0.00479   \n",
       "3606  10279    WALKING_UPSTAIRS            0.284         -0.00796   \n",
       "3607  10280    WALKING_UPSTAIRS            0.207          0.02460   \n",
       "3608  10281  WALKING_DOWNSTAIRS            0.393         -0.01780   \n",
       "\n",
       "      tBodyAcc.mean.Z  tBodyAcc.std.X  tBodyAcc.std.Y  tBodyAcc.std.Z  \\\n",
       "3604          -0.1300         -0.3140         -0.0556          -0.173   \n",
       "3605          -0.1220         -0.3200         -0.0667          -0.182   \n",
       "3606          -0.1190         -0.3090         -0.0804          -0.211   \n",
       "3607          -0.1040         -0.3650         -0.1690          -0.216   \n",
       "3608          -0.0902         -0.0963         -0.1740          -0.257   \n",
       "\n",
       "      tBodyAcc.mad.X  tBodyAcc.mad.Y  ...  fBodyBodyGyroJerkMag.meanFreq  \\\n",
       "3604          -0.386         -0.0575  ...                         0.0168   \n",
       "3605          -0.380         -0.0710  ...                        -0.0292   \n",
       "3606          -0.369         -0.0971  ...                        -0.1100   \n",
       "3607          -0.449         -0.1860  ...                        -0.2140   \n",
       "3608          -0.153         -0.2080  ...                         0.0894   \n",
       "\n",
       "      fBodyBodyGyroJerkMag.skewness  fBodyBodyGyroJerkMag.kurtosis  \\\n",
       "3604                        -0.1630                        -0.5930   \n",
       "3605                         0.1810                        -0.2500   \n",
       "3606                         0.0245                        -0.3930   \n",
       "3607                        -0.3520                        -0.7340   \n",
       "3608                         0.2740                        -0.0368   \n",
       "\n",
       "      angle.tBodyAccMean.gravity  angle.tBodyAccJerkMean.gravityMean  \\\n",
       "3604                     -0.7110                             -0.0612   \n",
       "3605                     -0.4030                             -0.7060   \n",
       "3606                     -0.0761                             -0.2390   \n",
       "3607                      0.5350                             -0.2570   \n",
       "3608                     -0.7430                             -0.0802   \n",
       "\n",
       "      angle.tBodyGyroMean.gravityMean  angle.tBodyGyroJerkMean.gravityMean  \\\n",
       "3604                           -0.706                               0.0646   \n",
       "3605                            0.739                               0.8710   \n",
       "3606                            0.960                               0.0866   \n",
       "3607                            0.927                              -0.0843   \n",
       "3608                            0.927                              -0.6520   \n",
       "\n",
       "      angle.X.gravityMean  angle.Y.gravityMean  angle.Z.gravityMean  \n",
       "3604               -0.660                0.274                0.176  \n",
       "3605               -0.653                0.278                0.180  \n",
       "3606               -0.657                0.272                0.183  \n",
       "3607               -0.657                0.267                0.188  \n",
       "3608               -0.807                0.190                0.118  \n",
       "\n",
       "[5 rows x 563 columns]"
      ]
     },
     "execution_count": 4,
     "metadata": {},
     "output_type": "execute_result"
    }
   ],
   "source": [
    "shar_df.tail()"
   ]
  },
  {
   "cell_type": "code",
   "execution_count": 5,
   "metadata": {},
   "outputs": [
    {
     "name": "stdout",
     "output_type": "stream",
     "text": [
      "数据帧维度:  (3609, 563)\n"
     ]
    }
   ],
   "source": [
    "print('数据帧维度: ', str(shar_df.shape))"
   ]
  },
  {
   "cell_type": "markdown",
   "metadata": {},
   "source": [
    "### 1.2.4 目标数值化\n",
    "\n",
    "\n",
    "- 目标值 —— activity\n",
    "\n",
    "\n",
    "- 6 种类别 —— 坐、立、卧、行、上、下"
   ]
  },
  {
   "cell_type": "markdown",
   "metadata": {},
   "source": [
    "#### (1) 标签编码器对象"
   ]
  },
  {
   "cell_type": "code",
   "execution_count": 6,
   "metadata": {},
   "outputs": [],
   "source": [
    "from sklearn.preprocessing import LabelEncoder\n",
    "labelEncoder = LabelEncoder()"
   ]
  },
  {
   "cell_type": "markdown",
   "metadata": {},
   "source": [
    "#### (2) 通过行为编码获得目标名称"
   ]
  },
  {
   "cell_type": "code",
   "execution_count": 7,
   "metadata": {},
   "outputs": [
    {
     "name": "stdout",
     "output_type": "stream",
     "text": [
      "行为分类：\n",
      " ['LAYING' 'SITTING' 'STANDING' 'WALKING' 'WALKING_DOWNSTAIRS'\n",
      " 'WALKING_UPSTAIRS']\n"
     ]
    }
   ],
   "source": [
    "target_names = labelEncoder.fit(shar_df[\"activity\"]).classes_\n",
    "print (\"行为分类：\\n\", target_names)"
   ]
  },
  {
   "cell_type": "markdown",
   "metadata": {},
   "source": [
    "#### (3) 目标名称转换成整数"
   ]
  },
  {
   "cell_type": "code",
   "execution_count": 8,
   "metadata": {},
   "outputs": [
    {
     "name": "stdout",
     "output_type": "stream",
     "text": [
      "行为分类整数标识：\n",
      " [0 1 2 3 4 5]\n"
     ]
    }
   ],
   "source": [
    "target_tags = labelEncoder.transform(target_names)\n",
    "print (\"行为分类整数标识：\\n\", target_tags)"
   ]
  },
  {
   "cell_type": "markdown",
   "metadata": {},
   "source": [
    "#### (4) 目标数组 —— 行为编码实现"
   ]
  },
  {
   "cell_type": "code",
   "execution_count": 9,
   "metadata": {},
   "outputs": [
    {
     "data": {
      "text/plain": [
       "0                 STANDING\n",
       "1                 STANDING\n",
       "2                 STANDING\n",
       "3                 STANDING\n",
       "4                 STANDING\n",
       "               ...        \n",
       "3604      WALKING_UPSTAIRS\n",
       "3605      WALKING_UPSTAIRS\n",
       "3606      WALKING_UPSTAIRS\n",
       "3607      WALKING_UPSTAIRS\n",
       "3608    WALKING_DOWNSTAIRS\n",
       "Name: activity, Length: 3609, dtype: object"
      ]
     },
     "execution_count": 9,
     "metadata": {},
     "output_type": "execute_result"
    }
   ],
   "source": [
    "shar_df[\"activity\"]"
   ]
  },
  {
   "cell_type": "code",
   "execution_count": 10,
   "metadata": {},
   "outputs": [
    {
     "data": {
      "text/plain": [
       "array([2, 2, 2, ..., 5, 5, 4])"
      ]
     },
     "execution_count": 10,
     "metadata": {},
     "output_type": "execute_result"
    }
   ],
   "source": [
    "targets = labelEncoder.transform(shar_df[\"activity\"])\n",
    "targets"
   ]
  },
  {
   "cell_type": "markdown",
   "metadata": {},
   "source": [
    "### 1.2.5 为什么数据长成这样？\n",
    "\n",
    "\n",
    "- 原以为数据是下面形式的时程信号 (取自参考文献 4)\n",
    "<img src=\"figures\\walking.jpg\" width=\"600\">"
   ]
  },
  {
   "cell_type": "markdown",
   "metadata": {},
   "source": [
    "- 信号不是时间序列形式的原始信号\n",
    "    - 经过了预处理\n",
    "\n",
    "\n",
    "- 未提供用来标识的视频\n",
    "\n",
    "\n",
    "- 滤波法去除噪声\n",
    "\n",
    "\n",
    "- 总加速度分解 $\\mathbf{A}=\\mathbf{G}+\\mathbf{BA}$\n",
    "    - $\\mathbf{A}$ —— 总加速度\n",
    "    - $\\mathbf{G}$ —— 重力加速度分量\n",
    "    - $\\mathbf{BA}$ —— 身体加速度分量"
   ]
  },
  {
   "cell_type": "markdown",
   "metadata": {},
   "source": [
    "- 采集数据试验 (取自参考文献 1)\n",
    "    - 获取三向加速度信号（运动方向、上下方向、左右方向）\n",
    "    - 程纬老师注：对加速度信号质量持保留意见(所有曲线应该在零线上下往复)\n",
    "<img src=\"figures/walking.png\" width=\"600\">\n",
    "\n",
    "\n",
    "<img src=\"figures/walking_upstairs.png\" width=\"600\">"
   ]
  },
  {
   "cell_type": "markdown",
   "metadata": {},
   "source": [
    "- 频域参数\n",
    "    - 低频界限 $ < 0.3 \\;\\rm{Hz}$\n",
    "    - 频域范围 $ < 20 \\;\\rm{Hz}$\n",
    "    - 采样频率 $50\\;\\rm{Hz}$ 足够\n",
    "\n",
    "\n",
    "- 时域参数\n",
    "    - 正常人行走速度约为 90～130 步/分钟\n",
    "    - 每秒 1.5 步（最少）\n",
    "\n",
    "\n",
    "- 取时间窗 —— 至少覆盖一个运动周期(行走 2 步的时间)\n",
    "    - 上图时间范围为 4 秒\n",
    "    - 大约行走 7 步"
   ]
  },
  {
   "cell_type": "markdown",
   "metadata": {},
   "source": [
    "### 1.2.6 去除无用特征\n",
    "\n",
    "\n",
    "- rn\n",
    "- activity"
   ]
  },
  {
   "cell_type": "code",
   "execution_count": 11,
   "metadata": {},
   "outputs": [
    {
     "data": {
      "text/html": [
       "<div>\n",
       "<style scoped>\n",
       "    .dataframe tbody tr th:only-of-type {\n",
       "        vertical-align: middle;\n",
       "    }\n",
       "\n",
       "    .dataframe tbody tr th {\n",
       "        vertical-align: top;\n",
       "    }\n",
       "\n",
       "    .dataframe thead th {\n",
       "        text-align: right;\n",
       "    }\n",
       "</style>\n",
       "<table border=\"1\" class=\"dataframe\">\n",
       "  <thead>\n",
       "    <tr style=\"text-align: right;\">\n",
       "      <th></th>\n",
       "      <th>tBodyAcc.mean.X</th>\n",
       "      <th>tBodyAcc.mean.Y</th>\n",
       "      <th>tBodyAcc.mean.Z</th>\n",
       "      <th>tBodyAcc.std.X</th>\n",
       "      <th>tBodyAcc.std.Y</th>\n",
       "      <th>tBodyAcc.std.Z</th>\n",
       "      <th>tBodyAcc.mad.X</th>\n",
       "      <th>tBodyAcc.mad.Y</th>\n",
       "      <th>tBodyAcc.mad.Z</th>\n",
       "      <th>tBodyAcc.max.X</th>\n",
       "      <th>...</th>\n",
       "      <th>fBodyBodyGyroJerkMag.meanFreq</th>\n",
       "      <th>fBodyBodyGyroJerkMag.skewness</th>\n",
       "      <th>fBodyBodyGyroJerkMag.kurtosis</th>\n",
       "      <th>angle.tBodyAccMean.gravity</th>\n",
       "      <th>angle.tBodyAccJerkMean.gravityMean</th>\n",
       "      <th>angle.tBodyGyroMean.gravityMean</th>\n",
       "      <th>angle.tBodyGyroJerkMean.gravityMean</th>\n",
       "      <th>angle.X.gravityMean</th>\n",
       "      <th>angle.Y.gravityMean</th>\n",
       "      <th>angle.Z.gravityMean</th>\n",
       "    </tr>\n",
       "  </thead>\n",
       "  <tbody>\n",
       "    <tr>\n",
       "      <th>0</th>\n",
       "      <td>0.279</td>\n",
       "      <td>-0.0196</td>\n",
       "      <td>-0.1100</td>\n",
       "      <td>-0.997</td>\n",
       "      <td>-0.967</td>\n",
       "      <td>-0.983</td>\n",
       "      <td>-0.997</td>\n",
       "      <td>-0.966</td>\n",
       "      <td>-0.983</td>\n",
       "      <td>-0.941</td>\n",
       "      <td>...</td>\n",
       "      <td>0.146</td>\n",
       "      <td>-0.217</td>\n",
       "      <td>-0.5640</td>\n",
       "      <td>-0.2130</td>\n",
       "      <td>-0.2310</td>\n",
       "      <td>0.0146</td>\n",
       "      <td>-0.190</td>\n",
       "      <td>-0.852</td>\n",
       "      <td>0.182</td>\n",
       "      <td>-0.0430</td>\n",
       "    </tr>\n",
       "    <tr>\n",
       "      <th>1</th>\n",
       "      <td>0.277</td>\n",
       "      <td>-0.0127</td>\n",
       "      <td>-0.1030</td>\n",
       "      <td>-0.995</td>\n",
       "      <td>-0.973</td>\n",
       "      <td>-0.985</td>\n",
       "      <td>-0.996</td>\n",
       "      <td>-0.974</td>\n",
       "      <td>-0.985</td>\n",
       "      <td>-0.940</td>\n",
       "      <td>...</td>\n",
       "      <td>0.121</td>\n",
       "      <td>0.349</td>\n",
       "      <td>0.0577</td>\n",
       "      <td>0.0807</td>\n",
       "      <td>0.5960</td>\n",
       "      <td>-0.4760</td>\n",
       "      <td>0.116</td>\n",
       "      <td>-0.852</td>\n",
       "      <td>0.188</td>\n",
       "      <td>-0.0347</td>\n",
       "    </tr>\n",
       "    <tr>\n",
       "      <th>2</th>\n",
       "      <td>0.277</td>\n",
       "      <td>-0.0147</td>\n",
       "      <td>-0.1070</td>\n",
       "      <td>-0.999</td>\n",
       "      <td>-0.991</td>\n",
       "      <td>-0.993</td>\n",
       "      <td>-0.999</td>\n",
       "      <td>-0.991</td>\n",
       "      <td>-0.992</td>\n",
       "      <td>-0.943</td>\n",
       "      <td>...</td>\n",
       "      <td>0.740</td>\n",
       "      <td>-0.564</td>\n",
       "      <td>-0.7660</td>\n",
       "      <td>0.1060</td>\n",
       "      <td>-0.0903</td>\n",
       "      <td>-0.1320</td>\n",
       "      <td>0.499</td>\n",
       "      <td>-0.850</td>\n",
       "      <td>0.189</td>\n",
       "      <td>-0.0351</td>\n",
       "    </tr>\n",
       "    <tr>\n",
       "      <th>3</th>\n",
       "      <td>0.298</td>\n",
       "      <td>0.0271</td>\n",
       "      <td>-0.0617</td>\n",
       "      <td>-0.989</td>\n",
       "      <td>-0.817</td>\n",
       "      <td>-0.902</td>\n",
       "      <td>-0.989</td>\n",
       "      <td>-0.794</td>\n",
       "      <td>-0.888</td>\n",
       "      <td>-0.926</td>\n",
       "      <td>...</td>\n",
       "      <td>0.131</td>\n",
       "      <td>0.208</td>\n",
       "      <td>-0.0681</td>\n",
       "      <td>0.0623</td>\n",
       "      <td>-0.0587</td>\n",
       "      <td>0.0312</td>\n",
       "      <td>-0.269</td>\n",
       "      <td>-0.731</td>\n",
       "      <td>0.283</td>\n",
       "      <td>0.0364</td>\n",
       "    </tr>\n",
       "    <tr>\n",
       "      <th>4</th>\n",
       "      <td>0.276</td>\n",
       "      <td>-0.0170</td>\n",
       "      <td>-0.1110</td>\n",
       "      <td>-0.998</td>\n",
       "      <td>-0.991</td>\n",
       "      <td>-0.998</td>\n",
       "      <td>-0.998</td>\n",
       "      <td>-0.989</td>\n",
       "      <td>-0.997</td>\n",
       "      <td>-0.946</td>\n",
       "      <td>...</td>\n",
       "      <td>0.667</td>\n",
       "      <td>-0.942</td>\n",
       "      <td>-0.9660</td>\n",
       "      <td>0.2450</td>\n",
       "      <td>0.1030</td>\n",
       "      <td>0.0661</td>\n",
       "      <td>-0.412</td>\n",
       "      <td>-0.761</td>\n",
       "      <td>0.263</td>\n",
       "      <td>0.0296</td>\n",
       "    </tr>\n",
       "  </tbody>\n",
       "</table>\n",
       "<p>5 rows × 561 columns</p>\n",
       "</div>"
      ],
      "text/plain": [
       "   tBodyAcc.mean.X  tBodyAcc.mean.Y  tBodyAcc.mean.Z  tBodyAcc.std.X  \\\n",
       "0            0.279          -0.0196          -0.1100          -0.997   \n",
       "1            0.277          -0.0127          -0.1030          -0.995   \n",
       "2            0.277          -0.0147          -0.1070          -0.999   \n",
       "3            0.298           0.0271          -0.0617          -0.989   \n",
       "4            0.276          -0.0170          -0.1110          -0.998   \n",
       "\n",
       "   tBodyAcc.std.Y  tBodyAcc.std.Z  tBodyAcc.mad.X  tBodyAcc.mad.Y  \\\n",
       "0          -0.967          -0.983          -0.997          -0.966   \n",
       "1          -0.973          -0.985          -0.996          -0.974   \n",
       "2          -0.991          -0.993          -0.999          -0.991   \n",
       "3          -0.817          -0.902          -0.989          -0.794   \n",
       "4          -0.991          -0.998          -0.998          -0.989   \n",
       "\n",
       "   tBodyAcc.mad.Z  tBodyAcc.max.X  ...  fBodyBodyGyroJerkMag.meanFreq  \\\n",
       "0          -0.983          -0.941  ...                          0.146   \n",
       "1          -0.985          -0.940  ...                          0.121   \n",
       "2          -0.992          -0.943  ...                          0.740   \n",
       "3          -0.888          -0.926  ...                          0.131   \n",
       "4          -0.997          -0.946  ...                          0.667   \n",
       "\n",
       "   fBodyBodyGyroJerkMag.skewness  fBodyBodyGyroJerkMag.kurtosis  \\\n",
       "0                         -0.217                        -0.5640   \n",
       "1                          0.349                         0.0577   \n",
       "2                         -0.564                        -0.7660   \n",
       "3                          0.208                        -0.0681   \n",
       "4                         -0.942                        -0.9660   \n",
       "\n",
       "   angle.tBodyAccMean.gravity  angle.tBodyAccJerkMean.gravityMean  \\\n",
       "0                     -0.2130                             -0.2310   \n",
       "1                      0.0807                              0.5960   \n",
       "2                      0.1060                             -0.0903   \n",
       "3                      0.0623                             -0.0587   \n",
       "4                      0.2450                              0.1030   \n",
       "\n",
       "   angle.tBodyGyroMean.gravityMean  angle.tBodyGyroJerkMean.gravityMean  \\\n",
       "0                           0.0146                               -0.190   \n",
       "1                          -0.4760                                0.116   \n",
       "2                          -0.1320                                0.499   \n",
       "3                           0.0312                               -0.269   \n",
       "4                           0.0661                               -0.412   \n",
       "\n",
       "   angle.X.gravityMean  angle.Y.gravityMean  angle.Z.gravityMean  \n",
       "0               -0.852                0.182              -0.0430  \n",
       "1               -0.852                0.188              -0.0347  \n",
       "2               -0.850                0.189              -0.0351  \n",
       "3               -0.731                0.283               0.0364  \n",
       "4               -0.761                0.263               0.0296  \n",
       "\n",
       "[5 rows x 561 columns]"
      ]
     },
     "execution_count": 11,
     "metadata": {},
     "output_type": "execute_result"
    }
   ],
   "source": [
    "# 去除无用特征列\n",
    "shar_df = shar_df.drop(['rn', 'activity'], axis = 1)\n",
    "shar_df.head()"
   ]
  },
  {
   "cell_type": "markdown",
   "metadata": {},
   "source": [
    "### 1.2.7 检查丢失值"
   ]
  },
  {
   "cell_type": "markdown",
   "metadata": {},
   "source": [
    "#### (1) 丢失值数据帧"
   ]
  },
  {
   "cell_type": "code",
   "execution_count": 12,
   "metadata": {},
   "outputs": [
    {
     "data": {
      "text/html": [
       "<div>\n",
       "<style scoped>\n",
       "    .dataframe tbody tr th:only-of-type {\n",
       "        vertical-align: middle;\n",
       "    }\n",
       "\n",
       "    .dataframe tbody tr th {\n",
       "        vertical-align: top;\n",
       "    }\n",
       "\n",
       "    .dataframe thead th {\n",
       "        text-align: right;\n",
       "    }\n",
       "</style>\n",
       "<table border=\"1\" class=\"dataframe\">\n",
       "  <thead>\n",
       "    <tr style=\"text-align: right;\">\n",
       "      <th></th>\n",
       "      <th>nanSum</th>\n",
       "    </tr>\n",
       "  </thead>\n",
       "  <tbody>\n",
       "    <tr>\n",
       "      <th>tBodyAcc.mean.X</th>\n",
       "      <td>0</td>\n",
       "    </tr>\n",
       "    <tr>\n",
       "      <th>tBodyAcc.mean.Y</th>\n",
       "      <td>0</td>\n",
       "    </tr>\n",
       "    <tr>\n",
       "      <th>tBodyAcc.mean.Z</th>\n",
       "      <td>0</td>\n",
       "    </tr>\n",
       "    <tr>\n",
       "      <th>tBodyAcc.std.X</th>\n",
       "      <td>0</td>\n",
       "    </tr>\n",
       "    <tr>\n",
       "      <th>tBodyAcc.std.Y</th>\n",
       "      <td>0</td>\n",
       "    </tr>\n",
       "  </tbody>\n",
       "</table>\n",
       "</div>"
      ],
      "text/plain": [
       "                 nanSum\n",
       "tBodyAcc.mean.X       0\n",
       "tBodyAcc.mean.Y       0\n",
       "tBodyAcc.mean.Z       0\n",
       "tBodyAcc.std.X        0\n",
       "tBodyAcc.std.Y        0"
      ]
     },
     "execution_count": 12,
     "metadata": {},
     "output_type": "execute_result"
    }
   ],
   "source": [
    "nan_df = pd.DataFrame(shar_df.isnull().sum())\n",
    "nan_df.columns = ['nanSum']\n",
    "nan_df.head()"
   ]
  },
  {
   "cell_type": "markdown",
   "metadata": {},
   "source": [
    "#### (2) 丢失值数之和"
   ]
  },
  {
   "cell_type": "code",
   "execution_count": 13,
   "metadata": {},
   "outputs": [
    {
     "name": "stdout",
     "output_type": "stream",
     "text": [
      "丢失值数：  nanSum    0\n",
      "dtype: int64\n"
     ]
    }
   ],
   "source": [
    "print('丢失值数： ', nan_df.sum());"
   ]
  },
  {
   "cell_type": "markdown",
   "metadata": {},
   "source": [
    "#### (3) 小结\n",
    "\n",
    "\n",
    "- 无丢失值"
   ]
  },
  {
   "cell_type": "code",
   "execution_count": 14,
   "metadata": {},
   "outputs": [],
   "source": [
    "del nan_df"
   ]
  },
  {
   "cell_type": "markdown",
   "metadata": {},
   "source": [
    "## 1.3 探索性数据分析 —— EDA"
   ]
  },
  {
   "cell_type": "markdown",
   "metadata": {},
   "source": [
    "### 1.3.1 绘制散点图"
   ]
  },
  {
   "cell_type": "markdown",
   "metadata": {},
   "source": [
    "#### (1) 行为标识"
   ]
  },
  {
   "cell_type": "code",
   "execution_count": 15,
   "metadata": {},
   "outputs": [
    {
     "data": {
      "text/plain": [
       "array([0, 1, 2, 3, 4, 5])"
      ]
     },
     "execution_count": 15,
     "metadata": {},
     "output_type": "execute_result"
    }
   ],
   "source": [
    "# 行为编号\n",
    "target_tags"
   ]
  },
  {
   "cell_type": "code",
   "execution_count": 16,
   "metadata": {},
   "outputs": [
    {
     "data": {
      "text/plain": [
       "array(['LAYING', 'SITTING', 'STANDING', 'WALKING', 'WALKING_DOWNSTAIRS',\n",
       "       'WALKING_UPSTAIRS'], dtype=object)"
      ]
     },
     "execution_count": 16,
     "metadata": {},
     "output_type": "execute_result"
    }
   ],
   "source": [
    "# 行为名称\n",
    "target_names"
   ]
  },
  {
   "cell_type": "code",
   "execution_count": 17,
   "metadata": {},
   "outputs": [],
   "source": [
    "# 行为颜色 —— 用于标注\n",
    "colors = ['black', 'blue', 'purple', 'yellow', 'green', 'red']"
   ]
  },
  {
   "cell_type": "markdown",
   "metadata": {},
   "source": [
    "#### (2) 定义绘图函数\n",
    "\n",
    "\n",
    "- 调用语法\n",
    "```python\n",
    ">>> DrawScatter(feature1, feature2, colors=colors,\n",
    "                target_names=target_names,\n",
    "                target_tags=target_tags)\n",
    "```\n",
    "\n",
    "\n",
    "- 功能 —— 绘制两个特征的散点图\n",
    "\n",
    "\n",
    "- 参数\n",
    "    - feature1 —— 特征 1\n",
    "    - feature2 —— 特征 2"
   ]
  },
  {
   "cell_type": "code",
   "execution_count": 18,
   "metadata": {},
   "outputs": [],
   "source": [
    "def DrawScatter(feature1, feature2, colors=colors, target_names=target_names, target_tags=target_tags):\n",
    "    for tag in target_tags:\n",
    "        px = shar_df[feature1][targets == tag]\n",
    "        py = shar_df[feature2][targets == tag]\n",
    "        plt.scatter(px, py, c=colors[tag])\n",
    "\n",
    "    plt.legend(target_names)\n",
    "    plt.xlabel(feature1)\n",
    "    plt.ylabel(feature2)"
   ]
  },
  {
   "cell_type": "markdown",
   "metadata": {},
   "source": [
    "#### (3) 绘图\n",
    "\n",
    "\n",
    "- 双特征\n",
    "    - `tBodyAcc.mean.X` vs `tGravityAcc.mean.X`\n",
    "    - `tBodyAcc.mean.X` vs `tBodyGyro.mean.X`\n",
    "    - `tBodyGyro.mean.X` vs `tGravityAcc.mean.X`"
   ]
  },
  {
   "cell_type": "code",
   "execution_count": 19,
   "metadata": {},
   "outputs": [
    {
     "data": {
      "image/png": "[encoded data removed]",
      "text/plain": [
       "<Figure size 432x288 with 1 Axes>"
      ]
     },
     "metadata": {
      "needs_background": "light"
     },
     "output_type": "display_data"
    }
   ],
   "source": [
    "DrawScatter('tBodyAcc.mean.X', 'tGravityAcc.mean.X')"
   ]
  },
  {
   "cell_type": "code",
   "execution_count": 20,
   "metadata": {},
   "outputs": [
    {
     "data": {
      "image/png": "[encoded data removed]",
      "text/plain": [
       "<Figure size 432x288 with 1 Axes>"
      ]
     },
     "metadata": {
      "needs_background": "light"
     },
     "output_type": "display_data"
    }
   ],
   "source": [
    "DrawScatter('tBodyAcc.mean.X', 'tBodyGyro.mean.X')"
   ]
  },
  {
   "cell_type": "code",
   "execution_count": 21,
   "metadata": {},
   "outputs": [
    {
     "data": {
      "image/png": "[encoded data removed]",
      "text/plain": [
       "<Figure size 432x288 with 1 Axes>"
      ]
     },
     "metadata": {
      "needs_background": "light"
     },
     "output_type": "display_data"
    }
   ],
   "source": [
    "DrawScatter('tBodyGyro.mean.X', 'tGravityAcc.mean.X')"
   ]
  },
  {
   "cell_type": "markdown",
   "metadata": {},
   "source": [
    "#### (4) 直观印象\n",
    "\n",
    "\n",
    "- 有些双特征组合有良好的分类效果\n",
    "- “卧”的行为最好区分"
   ]
  },
  {
   "cell_type": "markdown",
   "metadata": {},
   "source": [
    "### 1.3.2 绘制分布图"
   ]
  },
  {
   "cell_type": "markdown",
   "metadata": {},
   "source": [
    "#### (1) 定义绘图函数"
   ]
  },
  {
   "cell_type": "code",
   "execution_count": 22,
   "metadata": {},
   "outputs": [],
   "source": [
    "def DrawDistributeGraph(feature):\n",
    "    plt.hist(shar_df[feature], histtype='stepfilled', bins=40)\n",
    "    plt.xlabel(feature);"
   ]
  },
  {
   "cell_type": "markdown",
   "metadata": {},
   "source": [
    "#### (2) 绘特征分布图"
   ]
  },
  {
   "cell_type": "code",
   "execution_count": 23,
   "metadata": {},
   "outputs": [
    {
     "data": {
      "image/png": "[encoded data removed]",
      "text/plain": [
       "<Figure size 432x288 with 1 Axes>"
      ]
     },
     "metadata": {
      "needs_background": "light"
     },
     "output_type": "display_data"
    }
   ],
   "source": [
    "DrawDistributeGraph(\"tBodyAcc.mean.X\")"
   ]
  },
  {
   "cell_type": "code",
   "execution_count": 24,
   "metadata": {},
   "outputs": [
    {
     "data": {
      "image/png": "[encoded data removed]",
      "text/plain": [
       "<Figure size 432x288 with 1 Axes>"
      ]
     },
     "metadata": {
      "needs_background": "light"
     },
     "output_type": "display_data"
    }
   ],
   "source": [
    "DrawDistributeGraph(\"tGravityAcc.mean.X\")"
   ]
  },
  {
   "cell_type": "code",
   "execution_count": 25,
   "metadata": {},
   "outputs": [
    {
     "data": {
      "image/png": "[encoded data removed]",
      "text/plain": [
       "<Figure size 432x288 with 1 Axes>"
      ]
     },
     "metadata": {
      "needs_background": "light"
     },
     "output_type": "display_data"
    }
   ],
   "source": [
    "DrawDistributeGraph(\"tBodyGyro.mean.X\")"
   ]
  },
  {
   "cell_type": "markdown",
   "metadata": {},
   "source": [
    "#### (3) 统计计算\n",
    "\n",
    "\n",
    "- 所有特征\n",
    "    - $\\min \\ge -1$\n",
    "    - $\\max \\le 1$"
   ]
  },
  {
   "cell_type": "code",
   "execution_count": 26,
   "metadata": {},
   "outputs": [],
   "source": [
    "shar_df_stat = shar_df.describe()"
   ]
  },
  {
   "cell_type": "code",
   "execution_count": 27,
   "metadata": {
    "scrolled": true
   },
   "outputs": [
    {
     "data": {
      "text/html": [
       "<div>\n",
       "<style scoped>\n",
       "    .dataframe tbody tr th:only-of-type {\n",
       "        vertical-align: middle;\n",
       "    }\n",
       "\n",
       "    .dataframe tbody tr th {\n",
       "        vertical-align: top;\n",
       "    }\n",
       "\n",
       "    .dataframe thead th {\n",
       "        text-align: right;\n",
       "    }\n",
       "</style>\n",
       "<table border=\"1\" class=\"dataframe\">\n",
       "  <thead>\n",
       "    <tr style=\"text-align: right;\">\n",
       "      <th></th>\n",
       "      <th>tBodyAcc.mean.X</th>\n",
       "      <th>tBodyAcc.mean.Y</th>\n",
       "      <th>tBodyAcc.mean.Z</th>\n",
       "      <th>tBodyAcc.std.X</th>\n",
       "      <th>tBodyAcc.std.Y</th>\n",
       "      <th>tBodyAcc.std.Z</th>\n",
       "      <th>tBodyAcc.mad.X</th>\n",
       "      <th>tBodyAcc.mad.Y</th>\n",
       "      <th>tBodyAcc.mad.Z</th>\n",
       "      <th>tBodyAcc.max.X</th>\n",
       "      <th>...</th>\n",
       "      <th>fBodyBodyGyroJerkMag.meanFreq</th>\n",
       "      <th>fBodyBodyGyroJerkMag.skewness</th>\n",
       "      <th>fBodyBodyGyroJerkMag.kurtosis</th>\n",
       "      <th>angle.tBodyAccMean.gravity</th>\n",
       "      <th>angle.tBodyAccJerkMean.gravityMean</th>\n",
       "      <th>angle.tBodyGyroMean.gravityMean</th>\n",
       "      <th>angle.tBodyGyroJerkMean.gravityMean</th>\n",
       "      <th>angle.X.gravityMean</th>\n",
       "      <th>angle.Y.gravityMean</th>\n",
       "      <th>angle.Z.gravityMean</th>\n",
       "    </tr>\n",
       "  </thead>\n",
       "  <tbody>\n",
       "    <tr>\n",
       "      <th>count</th>\n",
       "      <td>3609.000000</td>\n",
       "      <td>3609.000000</td>\n",
       "      <td>3609.000000</td>\n",
       "      <td>3609.000000</td>\n",
       "      <td>3609.000000</td>\n",
       "      <td>3609.000000</td>\n",
       "      <td>3609.000000</td>\n",
       "      <td>3609.000000</td>\n",
       "      <td>3609.000000</td>\n",
       "      <td>3609.000000</td>\n",
       "      <td>...</td>\n",
       "      <td>3609.000000</td>\n",
       "      <td>3609.000000</td>\n",
       "      <td>3609.000000</td>\n",
       "      <td>3609.000000</td>\n",
       "      <td>3609.000000</td>\n",
       "      <td>3609.000000</td>\n",
       "      <td>3609.000000</td>\n",
       "      <td>3609.000000</td>\n",
       "      <td>3609.000000</td>\n",
       "      <td>3609.000000</td>\n",
       "    </tr>\n",
       "    <tr>\n",
       "      <th>mean</th>\n",
       "      <td>0.274544</td>\n",
       "      <td>-0.017415</td>\n",
       "      <td>-0.109195</td>\n",
       "      <td>-0.608457</td>\n",
       "      <td>-0.506265</td>\n",
       "      <td>-0.614482</td>\n",
       "      <td>-0.634634</td>\n",
       "      <td>-0.521660</td>\n",
       "      <td>-0.616047</td>\n",
       "      <td>-0.467034</td>\n",
       "      <td>...</td>\n",
       "      <td>0.128804</td>\n",
       "      <td>-0.300815</td>\n",
       "      <td>-0.619400</td>\n",
       "      <td>0.007561</td>\n",
       "      <td>0.009484</td>\n",
       "      <td>0.029185</td>\n",
       "      <td>-0.010632</td>\n",
       "      <td>-0.496977</td>\n",
       "      <td>0.060040</td>\n",
       "      <td>-0.050202</td>\n",
       "    </tr>\n",
       "    <tr>\n",
       "      <th>std</th>\n",
       "      <td>0.063589</td>\n",
       "      <td>0.042589</td>\n",
       "      <td>0.056218</td>\n",
       "      <td>0.439157</td>\n",
       "      <td>0.501627</td>\n",
       "      <td>0.399514</td>\n",
       "      <td>0.413194</td>\n",
       "      <td>0.485282</td>\n",
       "      <td>0.394932</td>\n",
       "      <td>0.540188</td>\n",
       "      <td>...</td>\n",
       "      <td>0.240278</td>\n",
       "      <td>0.317963</td>\n",
       "      <td>0.308303</td>\n",
       "      <td>0.332249</td>\n",
       "      <td>0.448971</td>\n",
       "      <td>0.613615</td>\n",
       "      <td>0.490830</td>\n",
       "      <td>0.509336</td>\n",
       "      <td>0.311308</td>\n",
       "      <td>0.263935</td>\n",
       "    </tr>\n",
       "    <tr>\n",
       "      <th>min</th>\n",
       "      <td>-0.521000</td>\n",
       "      <td>-1.000000</td>\n",
       "      <td>-0.926000</td>\n",
       "      <td>-1.000000</td>\n",
       "      <td>-0.999000</td>\n",
       "      <td>-1.000000</td>\n",
       "      <td>-1.000000</td>\n",
       "      <td>-0.999000</td>\n",
       "      <td>-1.000000</td>\n",
       "      <td>-1.000000</td>\n",
       "      <td>...</td>\n",
       "      <td>-0.786000</td>\n",
       "      <td>-0.968000</td>\n",
       "      <td>-0.995000</td>\n",
       "      <td>-0.969000</td>\n",
       "      <td>-0.997000</td>\n",
       "      <td>-1.000000</td>\n",
       "      <td>-0.993000</td>\n",
       "      <td>-0.999000</td>\n",
       "      <td>-1.000000</td>\n",
       "      <td>-0.971000</td>\n",
       "    </tr>\n",
       "    <tr>\n",
       "      <th>25%</th>\n",
       "      <td>0.262000</td>\n",
       "      <td>-0.025200</td>\n",
       "      <td>-0.122000</td>\n",
       "      <td>-0.992000</td>\n",
       "      <td>-0.976000</td>\n",
       "      <td>-0.979000</td>\n",
       "      <td>-0.993000</td>\n",
       "      <td>-0.976000</td>\n",
       "      <td>-0.978000</td>\n",
       "      <td>-0.936000</td>\n",
       "      <td>...</td>\n",
       "      <td>-0.015800</td>\n",
       "      <td>-0.533000</td>\n",
       "      <td>-0.836000</td>\n",
       "      <td>-0.118000</td>\n",
       "      <td>-0.281000</td>\n",
       "      <td>-0.478000</td>\n",
       "      <td>-0.398000</td>\n",
       "      <td>-0.816000</td>\n",
       "      <td>-0.015600</td>\n",
       "      <td>-0.122000</td>\n",
       "    </tr>\n",
       "    <tr>\n",
       "      <th>50%</th>\n",
       "      <td>0.277000</td>\n",
       "      <td>-0.017200</td>\n",
       "      <td>-0.109000</td>\n",
       "      <td>-0.939000</td>\n",
       "      <td>-0.812000</td>\n",
       "      <td>-0.844000</td>\n",
       "      <td>-0.946000</td>\n",
       "      <td>-0.816000</td>\n",
       "      <td>-0.837000</td>\n",
       "      <td>-0.877000</td>\n",
       "      <td>...</td>\n",
       "      <td>0.132000</td>\n",
       "      <td>-0.341000</td>\n",
       "      <td>-0.706000</td>\n",
       "      <td>0.007740</td>\n",
       "      <td>0.009830</td>\n",
       "      <td>0.029600</td>\n",
       "      <td>-0.013400</td>\n",
       "      <td>-0.716000</td>\n",
       "      <td>0.183000</td>\n",
       "      <td>-0.005260</td>\n",
       "    </tr>\n",
       "    <tr>\n",
       "      <th>75%</th>\n",
       "      <td>0.287000</td>\n",
       "      <td>-0.011000</td>\n",
       "      <td>-0.098000</td>\n",
       "      <td>-0.254000</td>\n",
       "      <td>-0.051700</td>\n",
       "      <td>-0.283000</td>\n",
       "      <td>-0.306000</td>\n",
       "      <td>-0.084500</td>\n",
       "      <td>-0.288000</td>\n",
       "      <td>-0.018900</td>\n",
       "      <td>...</td>\n",
       "      <td>0.290000</td>\n",
       "      <td>-0.118000</td>\n",
       "      <td>-0.501000</td>\n",
       "      <td>0.142000</td>\n",
       "      <td>0.309000</td>\n",
       "      <td>0.554000</td>\n",
       "      <td>0.374000</td>\n",
       "      <td>-0.522000</td>\n",
       "      <td>0.252000</td>\n",
       "      <td>0.104000</td>\n",
       "    </tr>\n",
       "    <tr>\n",
       "      <th>max</th>\n",
       "      <td>0.693000</td>\n",
       "      <td>1.000000</td>\n",
       "      <td>1.000000</td>\n",
       "      <td>1.000000</td>\n",
       "      <td>0.980000</td>\n",
       "      <td>1.000000</td>\n",
       "      <td>1.000000</td>\n",
       "      <td>0.988000</td>\n",
       "      <td>1.000000</td>\n",
       "      <td>1.000000</td>\n",
       "      <td>...</td>\n",
       "      <td>0.871000</td>\n",
       "      <td>0.990000</td>\n",
       "      <td>0.957000</td>\n",
       "      <td>0.981000</td>\n",
       "      <td>0.997000</td>\n",
       "      <td>0.999000</td>\n",
       "      <td>0.996000</td>\n",
       "      <td>0.977000</td>\n",
       "      <td>1.000000</td>\n",
       "      <td>0.998000</td>\n",
       "    </tr>\n",
       "  </tbody>\n",
       "</table>\n",
       "<p>8 rows × 561 columns</p>\n",
       "</div>"
      ],
      "text/plain": [
       "       tBodyAcc.mean.X  tBodyAcc.mean.Y  tBodyAcc.mean.Z  tBodyAcc.std.X  \\\n",
       "count      3609.000000      3609.000000      3609.000000     3609.000000   \n",
       "mean          0.274544        -0.017415        -0.109195       -0.608457   \n",
       "std           0.063589         0.042589         0.056218        0.439157   \n",
       "min          -0.521000        -1.000000        -0.926000       -1.000000   \n",
       "25%           0.262000        -0.025200        -0.122000       -0.992000   \n",
       "50%           0.277000        -0.017200        -0.109000       -0.939000   \n",
       "75%           0.287000        -0.011000        -0.098000       -0.254000   \n",
       "max           0.693000         1.000000         1.000000        1.000000   \n",
       "\n",
       "       tBodyAcc.std.Y  tBodyAcc.std.Z  tBodyAcc.mad.X  tBodyAcc.mad.Y  \\\n",
       "count     3609.000000     3609.000000     3609.000000     3609.000000   \n",
       "mean        -0.506265       -0.614482       -0.634634       -0.521660   \n",
       "std          0.501627        0.399514        0.413194        0.485282   \n",
       "min         -0.999000       -1.000000       -1.000000       -0.999000   \n",
       "25%         -0.976000       -0.979000       -0.993000       -0.976000   \n",
       "50%         -0.812000       -0.844000       -0.946000       -0.816000   \n",
       "75%         -0.051700       -0.283000       -0.306000       -0.084500   \n",
       "max          0.980000        1.000000        1.000000        0.988000   \n",
       "\n",
       "       tBodyAcc.mad.Z  tBodyAcc.max.X  ...  fBodyBodyGyroJerkMag.meanFreq  \\\n",
       "count     3609.000000     3609.000000  ...                    3609.000000   \n",
       "mean        -0.616047       -0.467034  ...                       0.128804   \n",
       "std          0.394932        0.540188  ...                       0.240278   \n",
       "min         -1.000000       -1.000000  ...                      -0.786000   \n",
       "25%         -0.978000       -0.936000  ...                      -0.015800   \n",
       "50%         -0.837000       -0.877000  ...                       0.132000   \n",
       "75%         -0.288000       -0.018900  ...                       0.290000   \n",
       "max          1.000000        1.000000  ...                       0.871000   \n",
       "\n",
       "       fBodyBodyGyroJerkMag.skewness  fBodyBodyGyroJerkMag.kurtosis  \\\n",
       "count                    3609.000000                    3609.000000   \n",
       "mean                       -0.300815                      -0.619400   \n",
       "std                         0.317963                       0.308303   \n",
       "min                        -0.968000                      -0.995000   \n",
       "25%                        -0.533000                      -0.836000   \n",
       "50%                        -0.341000                      -0.706000   \n",
       "75%                        -0.118000                      -0.501000   \n",
       "max                         0.990000                       0.957000   \n",
       "\n",
       "       angle.tBodyAccMean.gravity  angle.tBodyAccJerkMean.gravityMean  \\\n",
       "count                 3609.000000                         3609.000000   \n",
       "mean                     0.007561                            0.009484   \n",
       "std                      0.332249                            0.448971   \n",
       "min                     -0.969000                           -0.997000   \n",
       "25%                     -0.118000                           -0.281000   \n",
       "50%                      0.007740                            0.009830   \n",
       "75%                      0.142000                            0.309000   \n",
       "max                      0.981000                            0.997000   \n",
       "\n",
       "       angle.tBodyGyroMean.gravityMean  angle.tBodyGyroJerkMean.gravityMean  \\\n",
       "count                      3609.000000                          3609.000000   \n",
       "mean                          0.029185                            -0.010632   \n",
       "std                           0.613615                             0.490830   \n",
       "min                          -1.000000                            -0.993000   \n",
       "25%                          -0.478000                            -0.398000   \n",
       "50%                           0.029600                            -0.013400   \n",
       "75%                           0.554000                             0.374000   \n",
       "max                           0.999000                             0.996000   \n",
       "\n",
       "       angle.X.gravityMean  angle.Y.gravityMean  angle.Z.gravityMean  \n",
       "count          3609.000000          3609.000000          3609.000000  \n",
       "mean             -0.496977             0.060040            -0.050202  \n",
       "std               0.509336             0.311308             0.263935  \n",
       "min              -0.999000            -1.000000            -0.971000  \n",
       "25%              -0.816000            -0.015600            -0.122000  \n",
       "50%              -0.716000             0.183000            -0.005260  \n",
       "75%              -0.522000             0.252000             0.104000  \n",
       "max               0.977000             1.000000             0.998000  \n",
       "\n",
       "[8 rows x 561 columns]"
      ]
     },
     "execution_count": 27,
     "metadata": {},
     "output_type": "execute_result"
    }
   ],
   "source": [
    "shar_df_stat"
   ]
  },
  {
   "cell_type": "code",
   "execution_count": 28,
   "metadata": {},
   "outputs": [
    {
     "data": {
      "text/plain": [
       "<matplotlib.collections.PathCollection at 0x2076b777198>"
      ]
     },
     "execution_count": 28,
     "metadata": {},
     "output_type": "execute_result"
    },
    {
     "data": {
      "image/png": "[encoded data removed]",
      "text/plain": [
       "<Figure size 432x288 with 1 Axes>"
      ]
     },
     "metadata": {
      "needs_background": "light"
     },
     "output_type": "display_data"
    }
   ],
   "source": [
    "plt.scatter(shar_df_stat.loc[\"min\"], shar_df_stat.loc[\"max\"]);"
   ]
  },
  {
   "cell_type": "markdown",
   "metadata": {},
   "source": [
    "#### (4) 思考\n",
    "\n",
    "\n",
    "- tGravityAcc.mean.X 的分布特征不似正态分布\n",
    "- 数据预处理的质量感觉不好"
   ]
  },
  {
   "cell_type": "markdown",
   "metadata": {},
   "source": [
    "### 1.3.3 `EDA` 不只是画散点图或分布图\n",
    "\n",
    "\n",
    "- `EDA` 没有固定程式\n",
    "    - 目的是：试图借此得到对数据本质的认识\n",
    "\n",
    "\n",
    "- `EDA` 可以是任意的数据分析\n",
    "    - 可视化的\n",
    "    - 数值的\n",
    "    - 拓扑的\n",
    "    - 统计的\n",
    "    - 等等\n",
    "\n",
    "\n",
    "- 结合问题进行 `EDA` \n",
    "    - 比如关注身体运动-重力运动的关系\n",
    "    - 等等"
   ]
  },
  {
   "cell_type": "markdown",
   "metadata": {},
   "source": [
    "## 1.4 基于 `SVM` 的分类识别"
   ]
  },
  {
   "cell_type": "markdown",
   "metadata": {},
   "source": [
    "### 1.4.1 创建 `SVC` 对象"
   ]
  },
  {
   "cell_type": "code",
   "execution_count": 29,
   "metadata": {},
   "outputs": [],
   "source": [
    "from sklearn.svm import SVC\n",
    "svc = SVC(kernel='linear')"
   ]
  },
  {
   "cell_type": "markdown",
   "metadata": {},
   "source": [
    "### 1.4.2 拆分数据集"
   ]
  },
  {
   "cell_type": "code",
   "execution_count": 30,
   "metadata": {},
   "outputs": [
    {
     "data": {
      "text/plain": [
       "((2706, 561), (2706,))"
      ]
     },
     "execution_count": 30,
     "metadata": {},
     "output_type": "execute_result"
    }
   ],
   "source": [
    "from sklearn.model_selection import train_test_split\n",
    "X_train, X_test, y_train, y_test = train_test_split(shar_df, targets,\n",
    "                                    test_size=0.25, random_state=0)\n",
    "X_train.shape, y_train.shape"
   ]
  },
  {
   "cell_type": "markdown",
   "metadata": {},
   "source": [
    "### 1.4.3 K-折算法"
   ]
  },
  {
   "cell_type": "markdown",
   "metadata": {},
   "source": [
    "#### (1) 导入 `KFold` 等"
   ]
  },
  {
   "cell_type": "code",
   "execution_count": 31,
   "metadata": {},
   "outputs": [],
   "source": [
    "from sklearn.model_selection import cross_val_score, KFold\n",
    "from scipy.stats import sem"
   ]
  },
  {
   "cell_type": "markdown",
   "metadata": {},
   "source": [
    "#### (2) 训练与评分"
   ]
  },
  {
   "cell_type": "code",
   "execution_count": 32,
   "metadata": {},
   "outputs": [],
   "source": [
    "K = 5\n",
    "cv = KFold(K, shuffle=True, random_state=0)\n",
    "scores = cross_val_score(svc, X_train, y_train, cv=cv)"
   ]
  },
  {
   "cell_type": "code",
   "execution_count": 33,
   "metadata": {},
   "outputs": [
    {
     "name": "stdout",
     "output_type": "stream",
     "text": [
      "[0.97785978 0.97597043 0.98151571 0.97966728 0.97966728]\n",
      "Mean score: 0.979 (+/-0.001)\n"
     ]
    }
   ],
   "source": [
    "print (scores)\n",
    "print ((\"Mean score: {0:.3f} (+/-{1:.3f})\").format(np.mean(scores), sem(scores)))"
   ]
  },
  {
   "cell_type": "markdown",
   "metadata": {},
   "source": [
    "#### (3) 成绩 0.979"
   ]
  },
  {
   "cell_type": "markdown",
   "metadata": {},
   "source": [
    "### 1.4.4 测试评价"
   ]
  },
  {
   "cell_type": "markdown",
   "metadata": {},
   "source": [
    "#### (1) 训练精度"
   ]
  },
  {
   "cell_type": "code",
   "execution_count": 34,
   "metadata": {},
   "outputs": [],
   "source": [
    "from sklearn import metrics"
   ]
  },
  {
   "cell_type": "code",
   "execution_count": 35,
   "metadata": {},
   "outputs": [
    {
     "name": "stdout",
     "output_type": "stream",
     "text": [
      "训练集精度:\n",
      "0.9981522542498152\n"
     ]
    }
   ],
   "source": [
    "svc.fit(X_train, y_train)             # 训练\n",
    "\n",
    "print (\"训练集精度:\")\n",
    "print (svc.score(X_train, y_train))"
   ]
  },
  {
   "cell_type": "markdown",
   "metadata": {},
   "source": [
    "#### (2) 测试精度"
   ]
  },
  {
   "cell_type": "code",
   "execution_count": 36,
   "metadata": {},
   "outputs": [
    {
     "name": "stdout",
     "output_type": "stream",
     "text": [
      "测试集精度:\n",
      "0.9778516057585825\n"
     ]
    }
   ],
   "source": [
    "print (\"测试集精度:\")\n",
    "print (svc.score(X_test, y_test))"
   ]
  },
  {
   "cell_type": "markdown",
   "metadata": {},
   "source": [
    "#### (3) 分类识别报告"
   ]
  },
  {
   "cell_type": "code",
   "execution_count": 37,
   "metadata": {},
   "outputs": [
    {
     "name": "stdout",
     "output_type": "stream",
     "text": [
      "分类识别报告:\n",
      "              precision    recall  f1-score   support\n",
      "\n",
      "           0       1.00      1.00      1.00       169\n",
      "           1       0.95      0.92      0.93       155\n",
      "           2       0.93      0.95      0.94       163\n",
      "           3       1.00      1.00      1.00       132\n",
      "           4       1.00      1.00      1.00       133\n",
      "           5       1.00      1.00      1.00       151\n",
      "\n",
      "    accuracy                           0.98       903\n",
      "   macro avg       0.98      0.98      0.98       903\n",
      "weighted avg       0.98      0.98      0.98       903\n",
      "\n"
     ]
    }
   ],
   "source": [
    "y_pred = svc.predict(X_test)\n",
    "\n",
    "print (\"分类识别报告:\")\n",
    "print (metrics.classification_report(y_test, y_pred))"
   ]
  },
  {
   "cell_type": "markdown",
   "metadata": {},
   "source": [
    "#### (4) 混淆矩阵"
   ]
  },
  {
   "cell_type": "code",
   "execution_count": 38,
   "metadata": {},
   "outputs": [
    {
     "name": "stdout",
     "output_type": "stream",
     "text": [
      "混淆矩阵:\n",
      "[[169   0   0   0   0   0]\n",
      " [  0 143  12   0   0   0]\n",
      " [  0   8 155   0   0   0]\n",
      " [  0   0   0 132   0   0]\n",
      " [  0   0   0   0 133   0]\n",
      " [  0   0   0   0   0 151]]\n"
     ]
    }
   ],
   "source": [
    "print (\"混淆矩阵:\")\n",
    "print (metrics.confusion_matrix(y_test, y_pred))"
   ]
  },
  {
   "cell_type": "code",
   "execution_count": 39,
   "metadata": {},
   "outputs": [
    {
     "name": "stdout",
     "output_type": "stream",
     "text": [
      "o o o o X o o o o o o o o o o o o o o o o o o o o o o o o o o o o o o o o o o o o o o o o o o o o o o o X o X o o o o X \n",
      "\n",
      "o o o o o o o o o o o o o o o o o o o X o o o o o o o o o o o o o o o o o o o o o o o o o o o o X o o o o o o o o o o o \n",
      "\n",
      "o o o o o o o o o o o o o o o o o o o o o o o o o o o o o o o o o o o o o o o o o o o o o o o o o o o o o o o o o o o X \n",
      "\n",
      "o o o o o o o o o o o o o o o o o o o o o o o o o o o o o o o o o o o o o o o o o o o o o o o o o o o o o o o o o o o o \n",
      "\n",
      "o o o o o o o o o o o o o o o o o o o o o o o o o X o o o o o o o o o o o o o o o o o o o o o o o o o o o o o o o o o o \n",
      "\n",
      "o o o o o o X o o o o o o o o o o o o o o o o o o o o o o o o o o o o o o o o o o o o o o o o o o o X X o o o X o o o o \n",
      "\n",
      "o o o o o o o o o o o o o o o o o o o o o o o o o o o o o o o o o o o o o o o o o o o o o o o o o o o o o o o o o o o o \n",
      "\n",
      "o o o o o o o o o o o o o o o o o o o o o o o o o o o o o o o o o o o o o o o X o o o o o o o o o o o o o o o o o o o o \n",
      "\n",
      "o o o o o o o o o o o o o o o o o o o o o o o o o X o o o o o o o o o o o o o o o o o o o o o o o o o o o o o o o o o o \n",
      "\n",
      "o o o o o o o o o o o o o o o o o o o o o o o o o o o o o o o o o o o o o o o o o o o o o o o o o o o o o o o o o o o o \n",
      "\n",
      "o o o o o o o X o o o o o o o o o o o o o o o o o o o o o o o o o o o o o o o o o o o o o o o o o o o o o o o o o o o o \n",
      "\n",
      "o o o o o o o o o o o o o o o o o o o o o o o o o o o o o o o o o o o o o o o o o o o o o o o o o o o o o o o o o o o o \n",
      "\n",
      "o o o o o o o o o o o o o o o o o o o o X o o o o o o o X o o o o o o o o o o o o o o o o o o o o o o o o o o o o o o o \n",
      "\n",
      "o o o o o o o o o X o o o o o o o o o o o o o o o o o o o o o o o o o o o o o o o o o o o o o o o o o o o o o o o o o o \n",
      "\n",
      "o o o o o o o o o o o o o o o o o o o o o o o o o o o o o o o o o X o o o o o o o o o o o o o o o o o o o o o o o o o o \n",
      "\n",
      "o o X "
     ]
    }
   ],
   "source": [
    "row_num = 60\n",
    "for i in range(len(y_pred)):\n",
    "    y_p, y_t = y_pred[i], y_test[i]\n",
    "    if y_p==y_t:\n",
    "        print(\"o \", end=\"\")\n",
    "    else:\n",
    "        print(\"X \", end=\"\")\n",
    "    if (i+1)%row_num==0:print(\"\\n\")"
   ]
  },
  {
   "cell_type": "code",
   "execution_count": 40,
   "metadata": {},
   "outputs": [
    {
     "data": {
      "text/plain": [
       "array(['LAYING', 'SITTING', 'STANDING', 'WALKING', 'WALKING_DOWNSTAIRS',\n",
       "       'WALKING_UPSTAIRS'], dtype=object)"
      ]
     },
     "execution_count": 40,
     "metadata": {},
     "output_type": "execute_result"
    }
   ],
   "source": [
    "target_names"
   ]
  },
  {
   "cell_type": "markdown",
   "metadata": {},
   "source": [
    "#### (5) 小结\n",
    "\n",
    "\n",
    "- 903 个样本\n",
    "    - 正确 883\n",
    "    - 错误 20\n",
    "\n",
    "\n",
    "- SVM 总体不错\n",
    "\n",
    "\n",
    "- 识别错误发生在\n",
    "    - 1、2 混淆 —— 坐、立 难区分\n",
    "    - 可以理解\n",
    "\n",
    "\n",
    "- 进一步思考\n",
    "    - 坐、立都是静止状态\n",
    "    - 卧也是静止状态，为什么能区分呢？\n",
    "    - 可能特征的方向起作用！"
   ]
  },
  {
   "cell_type": "markdown",
   "metadata": {},
   "source": [
    "## 1.5 主成分分析 —— `PCA`"
   ]
  },
  {
   "cell_type": "markdown",
   "metadata": {},
   "source": [
    "### 1.5.1 标准化数据集"
   ]
  },
  {
   "cell_type": "code",
   "execution_count": 41,
   "metadata": {},
   "outputs": [],
   "source": [
    "from sklearn.preprocessing import StandardScaler"
   ]
  },
  {
   "cell_type": "code",
   "execution_count": 42,
   "metadata": {},
   "outputs": [],
   "source": [
    "scaler = StandardScaler()\n",
    "shar_df = scaler.fit_transform(shar_df)"
   ]
  },
  {
   "cell_type": "markdown",
   "metadata": {},
   "source": [
    "### 1.5.2 拆分数据集"
   ]
  },
  {
   "cell_type": "code",
   "execution_count": 43,
   "metadata": {},
   "outputs": [],
   "source": [
    "X_train, X_test, y_train, y_test = train_test_split(shar_df, targets, test_size=0.25, random_state=0)"
   ]
  },
  {
   "cell_type": "markdown",
   "metadata": {},
   "source": [
    "### 1.5.3 导入并创建 `PCA` 对象"
   ]
  },
  {
   "cell_type": "code",
   "execution_count": 44,
   "metadata": {},
   "outputs": [],
   "source": [
    "from sklearn.decomposition import PCA\n",
    "pca_obj = PCA(n_components=6)"
   ]
  },
  {
   "cell_type": "markdown",
   "metadata": {},
   "source": [
    "### 1.5.4 计算主成分并绘 2D 散点图\n",
    "\n",
    "\n",
    "- 只考虑 2 个主成分分量"
   ]
  },
  {
   "cell_type": "code",
   "execution_count": 45,
   "metadata": {},
   "outputs": [],
   "source": [
    "X_pca = pca_obj.fit_transform(X_train)"
   ]
  },
  {
   "cell_type": "code",
   "execution_count": 46,
   "metadata": {},
   "outputs": [
    {
     "data": {
      "text/plain": [
       "(2706, 6)"
      ]
     },
     "execution_count": 46,
     "metadata": {},
     "output_type": "execute_result"
    }
   ],
   "source": [
    "X_pca.shape"
   ]
  },
  {
   "cell_type": "code",
   "execution_count": 47,
   "metadata": {},
   "outputs": [],
   "source": [
    "# 颜色标注\n",
    "colors = ['black', 'blue', 'purple', 'yellow', 'green', 'red']"
   ]
  },
  {
   "cell_type": "code",
   "execution_count": 48,
   "metadata": {},
   "outputs": [],
   "source": [
    "def DrawPCAScatter2D(X_pca, colors=colors, target_tags=target_tags):\n",
    "    for tag in target_tags:\n",
    "        px = X_pca[:, 0][y_train == tag]\n",
    "        py = X_pca[:, 1][y_train == tag]\n",
    "        plt.scatter(px, py, c=colors[tag])\n",
    "\n",
    "    plt.legend(target_names)\n",
    "    plt.xlabel(\"PC-1\")\n",
    "    plt.ylabel(\"PC-2\")"
   ]
  },
  {
   "cell_type": "code",
   "execution_count": 49,
   "metadata": {},
   "outputs": [
    {
     "data": {
      "image/png": "[encoded data removed]",
      "text/plain": [
       "<Figure size 432x288 with 1 Axes>"
      ]
     },
     "metadata": {
      "needs_background": "light"
     },
     "output_type": "display_data"
    }
   ],
   "source": [
    "DrawPCAScatter2D(X_pca)"
   ]
  },
  {
   "cell_type": "markdown",
   "metadata": {},
   "source": [
    "### 1.5.5 绘制 3D 散点图\n",
    "\n",
    "\n",
    "- 考虑 3 个主成分分量"
   ]
  },
  {
   "cell_type": "markdown",
   "metadata": {},
   "source": [
    "#### (1) 导入模块"
   ]
  },
  {
   "cell_type": "code",
   "execution_count": 50,
   "metadata": {},
   "outputs": [],
   "source": [
    "from mpl_toolkits import mplot3d"
   ]
  },
  {
   "cell_type": "markdown",
   "metadata": {},
   "source": [
    "#### (2) 绘制 `3D` 散点图函数"
   ]
  },
  {
   "cell_type": "code",
   "execution_count": 51,
   "metadata": {},
   "outputs": [],
   "source": [
    "def DrawPCAScatter3D(X_pca, colors=colors, target_tags=target_tags):\n",
    "    fig = plt.figure()\n",
    "    ax = plt.axes(projection='3d')\n",
    "    \n",
    "    for tag in target_tags:\n",
    "        px = X_pca[:, 0][y_train == tag]\n",
    "        py = X_pca[:, 1][y_train == tag]\n",
    "        pz = X_pca[:, 2][y_train == tag]\n",
    "        ax.scatter3D(px, py, pz, c=colors[tag])\n",
    "\n",
    "    ax.legend(target_names)\n",
    "    ax.set_xlabel(\"PC-1\")\n",
    "    ax.set_ylabel(\"PC-2\")\n",
    "    ax.set_zlabel(\"PC-3\")"
   ]
  },
  {
   "cell_type": "code",
   "execution_count": 52,
   "metadata": {},
   "outputs": [
    {
     "data": {
      "image/png": "[encoded data removed]",
      "text/plain": [
       "<Figure size 432x288 with 1 Axes>"
      ]
     },
     "metadata": {
      "needs_background": "light"
     },
     "output_type": "display_data"
    }
   ],
   "source": [
    "DrawPCAScatter3D(X_pca)"
   ]
  },
  {
   "cell_type": "markdown",
   "metadata": {},
   "source": [
    "#### (3) `K`-折分析"
   ]
  },
  {
   "cell_type": "code",
   "execution_count": 53,
   "metadata": {},
   "outputs": [],
   "source": [
    "K = 5\n",
    "scores = cross_val_score(svc, X_pca, y_train, cv=cv)"
   ]
  },
  {
   "cell_type": "code",
   "execution_count": 54,
   "metadata": {},
   "outputs": [
    {
     "name": "stdout",
     "output_type": "stream",
     "text": [
      "[0.87269373 0.82809612 0.82809612 0.8207024  0.83548983]\n",
      "Mean score: 0.837 (+/-0.009)\n"
     ]
    }
   ],
   "source": [
    "print (scores)\n",
    "print ((\"Mean score: {0:.3f} (+/-{1:.3f})\").format(np.mean(scores), sem(scores)))"
   ]
  },
  {
   "cell_type": "markdown",
   "metadata": {},
   "source": [
    "#### (4) 效果不如 `SVM`\n",
    "\n",
    "\n",
    "- `SVM` 算法采用了全部的 561 个特征\n",
    "- `PCA` 算法只用了 6 个主成分"
   ]
  },
  {
   "cell_type": "code",
   "execution_count": 55,
   "metadata": {},
   "outputs": [
    {
     "name": "stdout",
     "output_type": "stream",
     "text": [
      "[280.3454831   36.04347043  15.64669633  13.15587166  10.47985514\n",
      "   8.98773584]\n",
      "[0.50497301 0.06492339 0.02818365 0.02369705 0.01887687 0.01618918]\n"
     ]
    }
   ],
   "source": [
    "print(pca_obj.explained_variance_)\n",
    "print(pca_obj.explained_variance_ratio_)"
   ]
  },
  {
   "cell_type": "code",
   "execution_count": 56,
   "metadata": {},
   "outputs": [
    {
     "data": {
      "image/png": "[encoded data removed]",
      "text/plain": [
       "<Figure size 576x288 with 1 Axes>"
      ]
     },
     "metadata": {
      "needs_background": "light"
     },
     "output_type": "display_data"
    }
   ],
   "source": [
    "plt.figure(figsize=(8,4))\n",
    "plt.bar(range(pca_obj.n_components_), pca_obj.explained_variance_)\n",
    "\n",
    "plt.xlabel('PCA-tag')\n",
    "plt.ylabel('Variance')\n",
    "plt.show()"
   ]
  },
  {
   "cell_type": "markdown",
   "metadata": {},
   "source": [
    "#### (5)  分析\n",
    "\n",
    "\n",
    "- PCA-1 占比 约 50%\n",
    "- 以后的方差分布较广\n",
    "\n",
    "\n",
    "- 说明\n",
    "    - 少量主成分不一定得到较好的分析结果\n",
    "    - 数据预处理，仍然不理想"
   ]
  },
  {
   "cell_type": "markdown",
   "metadata": {},
   "source": [
    "#### (6) 考虑更多的主成分\n",
    "\n",
    "\n",
    "- 特征数 561\n",
    "- 主成分 240"
   ]
  },
  {
   "cell_type": "code",
   "execution_count": 57,
   "metadata": {},
   "outputs": [],
   "source": [
    "pca_obj_240 = PCA(n_components=240)"
   ]
  },
  {
   "cell_type": "code",
   "execution_count": 58,
   "metadata": {},
   "outputs": [],
   "source": [
    "X_pca = pca_obj_240.fit_transform(X_train)"
   ]
  },
  {
   "cell_type": "code",
   "execution_count": 59,
   "metadata": {},
   "outputs": [],
   "source": [
    "K = 5\n",
    "scores = cross_val_score(svc, X_pca, y_train, cv=cv)"
   ]
  },
  {
   "cell_type": "code",
   "execution_count": 60,
   "metadata": {},
   "outputs": [
    {
     "name": "stdout",
     "output_type": "stream",
     "text": [
      "[0.96863469 0.96857671 0.97227357 0.97227357 0.96118299]\n",
      "Mean score: 0.969 (+/-0.002)\n"
     ]
    }
   ],
   "source": [
    "print (scores)\n",
    "print ((\"Mean score: {0:.3f} (+/-{1:.3f})\").format(np.mean(scores), sem(scores)))"
   ]
  },
  {
   "cell_type": "markdown",
   "metadata": {},
   "source": [
    "#### (7) 主成分数 不到一半 特征数\n",
    "\n",
    "\n",
    "- 平均得分接近全部特征所做的 PCA"
   ]
  },
  {
   "cell_type": "markdown",
   "metadata": {},
   "source": [
    "#### (8) 测试精度"
   ]
  },
  {
   "cell_type": "code",
   "execution_count": 61,
   "metadata": {},
   "outputs": [
    {
     "name": "stdout",
     "output_type": "stream",
     "text": [
      "测试集精度:\n",
      "0.9102990033222591\n"
     ]
    }
   ],
   "source": [
    "print (\"测试集精度:\")\n",
    "print (svc.score(X_test, y_test))"
   ]
  },
  {
   "cell_type": "markdown",
   "metadata": {},
   "source": [
    "#### (9) 分类识别报告"
   ]
  },
  {
   "cell_type": "code",
   "execution_count": 62,
   "metadata": {},
   "outputs": [
    {
     "name": "stdout",
     "output_type": "stream",
     "text": [
      "分类识别报告:\n",
      "              precision    recall  f1-score   support\n",
      "\n",
      "           0       0.84      1.00      0.91       169\n",
      "           1       0.94      0.75      0.84       155\n",
      "           2       0.95      0.90      0.92       163\n",
      "           3       0.97      0.95      0.96       132\n",
      "           4       0.84      1.00      0.91       133\n",
      "           5       0.96      0.87      0.91       151\n",
      "\n",
      "    accuracy                           0.91       903\n",
      "   macro avg       0.92      0.91      0.91       903\n",
      "weighted avg       0.92      0.91      0.91       903\n",
      "\n"
     ]
    }
   ],
   "source": [
    "y_pred = svc.predict(X_test)\n",
    "\n",
    "print (\"分类识别报告:\")\n",
    "print (metrics.classification_report(y_test, y_pred))"
   ]
  },
  {
   "cell_type": "markdown",
   "metadata": {},
   "source": [
    "#### (10) 混淆矩阵"
   ]
  },
  {
   "cell_type": "code",
   "execution_count": 63,
   "metadata": {},
   "outputs": [
    {
     "name": "stdout",
     "output_type": "stream",
     "text": [
      "混淆矩阵:\n",
      "[[169   0   0   0   0   0]\n",
      " [ 28 117   7   1   0   2]\n",
      " [  4   7 146   1   1   4]\n",
      " [  0   0   0 126   6   0]\n",
      " [  0   0   0   0 133   0]\n",
      " [  0   0   0   2  18 131]]\n"
     ]
    }
   ],
   "source": [
    "print (\"混淆矩阵:\")\n",
    "print (metrics.confusion_matrix(y_test, y_pred))"
   ]
  },
  {
   "cell_type": "code",
   "execution_count": 64,
   "metadata": {
    "scrolled": true
   },
   "outputs": [
    {
     "name": "stdout",
     "output_type": "stream",
     "text": [
      "o o o o X o o o o o o o o o o o o X o o o o o o o o o o o o o o o o o o o o o o o o X o o o o o o o o o X o X o o o o X \n",
      "\n",
      "o o o o o o o X o o o o o o o o o o o X o o o o o o o o o X o o o o o o o o o o o o o o o o o o X o o o o o X X o X o o \n",
      "\n",
      "o o o o o o o o o o o o o o o o o o o o o o X o o o o o o o o o o o o o o o o o o o o o o o o o X o o o o o o o o o o X \n",
      "\n",
      "o o o o o o o o X o o o o o o o o o o o o o o o o o o o o o o o o o o o o o X o o o o o o o o o o X o o o o o o o o o o \n",
      "\n",
      "X o o X o o o o o o o o o o o o o o o o X o o o o X X X o o o o o o o o o o o o o o o o o o X o o o o o o o X o o o o o \n",
      "\n",
      "o o o o o o X o o X o o o o o o o o o o o o o o o o o o o o o o o o o X o o o o X o o o o o o o o o X o o o o X o o o o \n",
      "\n",
      "o o o o o o o o o o o o o o o o o X o o o o o o o X o o o o o o o o o o o o o o o X o X o o o o o o o o o o o o o o o o \n",
      "\n",
      "o o o o o o o o o o o o o X X o o o o o o o o o o o o o o o o o o o o X o o o X o o o o o o o o o o o o o o o o o o o o \n",
      "\n",
      "o o o o o o X o o o o o o o o o o o o o o o o o o X o o o o o o o o o o o o o o o o o o o o o o o o o o o o o o o o o o \n",
      "\n",
      "o o o o o o o o o o o o o X o o o o o o o o o o o o o X o X o o o o X o o o o o X o o o o o o o o o o o o o o X o o o o \n",
      "\n",
      "o o o X o o o X o o o o o o o o o o o o o o o o o X o o o o o X o o o o X o o o o o o o X X o o o o o o o o o o o o o o \n",
      "\n",
      "o o o X o o o o o o o o o o o o o o o o o o o o o o o o o o o o o o o o o o o o o o o o o o o X o o o o o o o o o o o o \n",
      "\n",
      "o X X o o o o o X o o o o o o o o o o o o o o o o o o o X o o X o o o o X o o o o o o o o o o o o o o o o X X X o o o o \n",
      "\n",
      "o o o o o o o o o X o o o o o X o o o o o o o o o X o o o o o o o o o o o o o o o o o o o o X o o o o o o o X X o o o o \n",
      "\n",
      "o o o o o o o X o o o o o o o o o o o o X o o o o o X X o o o o o o o o o X o o o X o o o o o o o o o o o o o o o o o o \n",
      "\n",
      "X o X "
     ]
    }
   ],
   "source": [
    "row_num = 60\n",
    "for i in range(len(y_pred)):\n",
    "    y_p, y_t = y_pred[i], y_test[i]\n",
    "    if y_p==y_t:\n",
    "        print(\"o \", end=\"\")\n",
    "    else:\n",
    "        print(\"X \", end=\"\")\n",
    "    if (i+1)%row_num==0:print(\"\\n\")"
   ]
  },
  {
   "cell_type": "code",
   "execution_count": 65,
   "metadata": {},
   "outputs": [
    {
     "data": {
      "text/plain": [
       "array(['LAYING', 'SITTING', 'STANDING', 'WALKING', 'WALKING_DOWNSTAIRS',\n",
       "       'WALKING_UPSTAIRS'], dtype=object)"
      ]
     },
     "execution_count": 65,
     "metadata": {},
     "output_type": "execute_result"
    }
   ],
   "source": [
    "target_names"
   ]
  },
  {
   "cell_type": "markdown",
   "metadata": {},
   "source": [
    "#### (11) 小结\n",
    "\n",
    "\n",
    "- 903 个样本\n",
    "    - 正确 824\n",
    "    - 错误 79\n",
    "\n",
    "\n",
    "- 先利用 `PCA` 降维，再 `SVM` 分类识别\n",
    "    - 成绩不如前面考虑全部特征的 `SVC`\n",
    "\n",
    "\n",
    "- 优点\n",
    "    - \"躺\"和\"下\"的分类识别效果最好 100%\n",
    "    - \"行\"的分类识别效果其次\n",
    "\n",
    "\n",
    "- 缺点\n",
    "    - \"立\"的分类效果不让人满意\n",
    "\n",
    "\n",
    "- 可能的改进路线\n",
    "    - 预处理？\n",
    "    - 其它分类法\n",
    "    - 调参\n",
    "    - 等"
   ]
  },
  {
   "cell_type": "markdown",
   "metadata": {},
   "source": [
    "## 1.6 结论与展望\n",
    "\n",
    "\n",
    "- 本课程讲授\n",
    "    - 机器学习 + 大数据计算\n",
    "        - Pandas 模块使用\n",
    "        - 数据源\n",
    "        - 有监督学习：分类、SVM、NB、DT、RF、等\n",
    "        - 无监督学习：降维、主成分、聚类、等\n",
    "        - 特征提取、特征选择、模型选择（调参）\n",
    "        - 案例介绍\n",
    "    - 本课程侧重实用\n",
    "\n",
    "\n",
    "- 未来学习方向\n",
    "    - 更高级的调参方法、优化调参\n",
    "    - 神经网络、深度学习\n",
    "    - 等"
   ]
  },
  {
   "cell_type": "markdown",
   "metadata": {},
   "source": [
    "### 参考文献\n",
    "\n",
    "\n",
    "1. [Davide Anguita, Alessandro Ghio, Luca Oneto, Xavier Parra, Jorge L. Reyes-Ortiz. Energy Efficient Smartphone-Based Activity Recognition using Fixed-Point Arithmetic. Journal of Universal Computer Science, vol. 19, no. 9 (2013), 1295-1314](https://pdfs.semanticscholar.org/dc70/24840a4ba7ab634517fae53e77695ff5dda9.pdf)\n",
    "2. Davide Anguita, Alessandro Ghio, Luca Oneto, Xavier Parra, and Jorge L. Reyes-Ortiz. Human Activity Recognition on Smartphones using a Multiclass Hardware-Friendly Support Vector Machine.\n",
    "3. Davide Anguita, Alessandro Ghio, Luca Oneto, Xavier Parra and Jorge L. Reyes-Ortiz. A Public Domain Dataset for Human Activity Recognition Using Smartphones. ESANN 2013 proceedings, European Symposium on Artificial Neural Networks, Computational Intelligence and Machine Learning. Bruges (Belgium), 24-26 April 2013.\n",
    "4. 王洪涛，楼板结构在人行走激励下的振动分析及性能评估，兰州理工大学，硕士学位论文"
   ]
  },
  {
   "cell_type": "markdown",
   "metadata": {},
   "source": [
    "### 结束"
   ]
  }
 ],
 "metadata": {
  "kernelspec": {
   "display_name": "Python 3",
   "language": "python",
   "name": "python3"
  },
  "language_info": {
   "codemirror_mode": {
    "name": "ipython",
    "version": 3
   },
   "file_extension": ".py",
   "mimetype": "text/x-python",
   "name": "python",
   "nbconvert_exporter": "python",
   "pygments_lexer": "ipython3",
   "version": "3.7.4"
  }
 },
 "nbformat": 4,
 "nbformat_minor": 2
}
