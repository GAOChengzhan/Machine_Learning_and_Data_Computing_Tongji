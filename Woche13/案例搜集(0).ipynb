{
 "cells": [
  {
   "cell_type": "markdown",
   "metadata": {},
   "source": [
    "# 1 案例搜集"
   ]
  },
  {
   "cell_type": "markdown",
   "metadata": {},
   "source": [
    "## 1.1、数据源 Kaggle"
   ]
  },
  {
   "cell_type": "markdown",
   "metadata": {},
   "source": [
    "### 1.1.1 Simplified Human Activity Recognition w/Smartphone\n",
    "\n",
    "\n",
    "[https://www.kaggle.com/mboaglio/simplifiedhuarus/kernels](https://www.kaggle.com/mboaglio/simplifiedhuarus/kernels)"
   ]
  },
  {
   "cell_type": "markdown",
   "metadata": {},
   "source": [
    "### 1.1.2 Google Job Skills\n",
    "\n",
    "[https://www.kaggle.com/niyamatalmass/google-job-skills](https://www.kaggle.com/niyamatalmass/google-job-skills)"
   ]
  },
  {
   "cell_type": "markdown",
   "metadata": {},
   "source": [
    "### 1.1.3 U.S Education\n",
    "\n",
    "[https://www.kaggle.com/ammon1/u-s-education](https://www.kaggle.com/ammon1/u-s-education)"
   ]
  },
  {
   "cell_type": "markdown",
   "metadata": {},
   "source": [
    "### 1.1.4 Food choices\n",
    "\n",
    "\n",
    "[https://www.kaggle.com/borapajo/food-choices/kernels](https://www.kaggle.com/borapajo/food-choices/kernels)"
   ]
  },
  {
   "cell_type": "markdown",
   "metadata": {},
   "source": [
    "### 1.1.5 Formula 1 Race Data\n",
    "\n",
    "[https://www.kaggle.com/cjgdev/formula-1-race-data-19502017/kernels](https://www.kaggle.com/cjgdev/formula-1-race-data-19502017/kernels)"
   ]
  },
  {
   "cell_type": "markdown",
   "metadata": {},
   "source": [
    "### 1.1.6 Default of Credit Card Clients Dataset\n",
    "\n",
    "\n",
    "[https://www.kaggle.com/uciml/default-of-credit-card-clients-dataset](https://www.kaggle.com/uciml/default-of-credit-card-clients-dataset)"
   ]
  },
  {
   "cell_type": "markdown",
   "metadata": {},
   "source": [
    "### 1.1.7 Women's E-Commerce Clothing Reviews\n",
    "\n",
    "\n",
    "[https://www.kaggle.com/nicapotato/womens-ecommerce-clothing-reviews/kernels](https://www.kaggle.com/nicapotato/womens-ecommerce-clothing-reviews/kernels)"
   ]
  },
  {
   "cell_type": "markdown",
   "metadata": {},
   "source": [
    "### 1.1.8 Twitter US Airline Sentiment\n",
    "\n",
    "\n",
    "[https://www.kaggle.com/crowdflower/twitter-airline-sentiment/kernels](https://www.kaggle.com/crowdflower/twitter-airline-sentiment/kernels)"
   ]
  },
  {
   "cell_type": "markdown",
   "metadata": {},
   "source": [
    "### 1.1.9 FIFA 19 complete player dataset\n",
    "\n",
    "\n",
    "[https://www.kaggle.com/karangadiya/fifa19/kernels](https://www.kaggle.com/karangadiya/fifa19/kernels)"
   ]
  },
  {
   "cell_type": "markdown",
   "metadata": {},
   "source": [
    "### 1.1.10 Cryptocurrency Historical Prices\n",
    "\n",
    "\n",
    "[https://www.kaggle.com/sudalairajkumar/cryptocurrencypricehistory/kernels](https://www.kaggle.com/sudalairajkumar/cryptocurrencypricehistory/kernels)"
   ]
  },
  {
   "cell_type": "markdown",
   "metadata": {},
   "source": [
    "### 结束"
   ]
  }
 ],
 "metadata": {
  "kernelspec": {
   "display_name": "Python 3",
   "language": "python",
   "name": "python3"
  },
  "language_info": {
   "codemirror_mode": {
    "name": "ipython",
    "version": 3
   },
   "file_extension": ".py",
   "mimetype": "text/x-python",
   "name": "python",
   "nbconvert_exporter": "python",
   "pygments_lexer": "ipython3",
   "version": "3.7.0"
  }
 },
 "nbformat": 4,
 "nbformat_minor": 2
}
