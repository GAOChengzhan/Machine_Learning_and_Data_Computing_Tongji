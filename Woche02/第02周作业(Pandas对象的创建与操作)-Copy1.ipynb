{
 "cells": [
  {
   "cell_type": "markdown",
   "metadata": {},
   "source": [
    "# 第2周 作业\n",
    "\n",
    "### 要求\n",
    "\n",
    "- 用 ipython notebook 文件格式完成并提交\n",
    "- 文件名取为 ddddddd_wk.ipynb\n",
    "    - ddddddd 为 7 位学号\n",
    "    - wk 为讲课周次（2 位数）\n",
    "    - 例如学号为1234567，第2周作业，提交文件名取为： <font color=\"red\">1234567_02.ipynb</font>"
   ]
  },
  {
   "cell_type": "markdown",
   "metadata": {},
   "source": [
    "### 练习 1\n",
    "\n",
    "- 创建 Series 序列对象，创建要求是\n",
    "\n",
    "    - 名称和名称属性均取为 \"normal_16\"\n",
    "    - 值为 16 个服从均值为 5，标准差为 1 的正态分布数\n",
    "    - 索引为从 1 到 16 的整数序列\n",
    "\n",
    "\n",
    "- 任务\n",
    "    - 1. 使用下标切片，显示下标为奇数的所有元素，修改元素值为原值的 2 倍，并显示修改后的元素值\n",
    "    - 2. 采用布尔掩码，将下标为 2、4、12 的元素修改为原值的 4 倍，并显示修改后的元素值"
   ]
  },
  {
   "cell_type": "code",
   "execution_count": null,
   "metadata": {},
   "outputs": [],
   "source": [
    "# 练习 1 代码\n"
   ]
  },
  {
   "cell_type": "markdown",
   "metadata": {},
   "source": [
    "### 练习 2\n",
    "\n",
    "- 创建三国游戏中 英雄角色 生命值 序列 对象\n",
    "\n",
    "    - 名称和名称属性均取为 \"three_kingdom_heroes\"\n",
    "    - 游戏人物取三国武将 [关羽、典韦、马超、许诸、张飞、张辽、黄忠、程普、赵云、黄盖、徐晃、韩当] 作为索引\n",
    "    - 生命值取为 50 到 100 之间的随机整数\n",
    "    \n",
    "\n",
    "- 任务\n",
    "    - 1. 假设每一回合，各武将的 生命值 损失一个介于 10 到 30 之间的随机值\n",
    "    - 2. 三回合循环\n",
    "        - 三回合后，输出刘备部下五虎将的剩余生命值\n",
    "        - 假设若干回合后，出现某武将生命值小于或等于零，输出此时曹操部下生命值最大的武将，并跳出循环终止"
   ]
  },
  {
   "cell_type": "code",
   "execution_count": null,
   "metadata": {},
   "outputs": [],
   "source": [
    "# 练习 2 代码\n"
   ]
  },
  {
   "cell_type": "markdown",
   "metadata": {},
   "source": [
    "### 练习 3\n",
    "\n",
    "- 假设：已建好三国西蜀五虎大将数据帧如下\n",
    "- 任务\n",
    "    - 1 修改每人的智慧加 5\n",
    "    - 2 增加一列“射术”，数组依次取为[80, 75, 90, 99, 85]\n",
    "    - 3 删除“武力”列\n",
    "    - 4 显示最后的数据帧"
   ]
  },
  {
   "cell_type": "code",
   "execution_count": 2,
   "metadata": {},
   "outputs": [
    {
     "data": {
      "text/html": [
       "<div>\n",
       "<style scoped>\n",
       "    .dataframe tbody tr th:only-of-type {\n",
       "        vertical-align: middle;\n",
       "    }\n",
       "\n",
       "    .dataframe tbody tr th {\n",
       "        vertical-align: top;\n",
       "    }\n",
       "\n",
       "    .dataframe thead th {\n",
       "        text-align: right;\n",
       "    }\n",
       "</style>\n",
       "<table border=\"1\" class=\"dataframe\">\n",
       "  <thead>\n",
       "    <tr style=\"text-align: right;\">\n",
       "      <th></th>\n",
       "      <th>忠诚</th>\n",
       "      <th>智慧</th>\n",
       "      <th>武力</th>\n",
       "      <th>生命</th>\n",
       "    </tr>\n",
       "  </thead>\n",
       "  <tbody>\n",
       "    <tr>\n",
       "      <td>关羽</td>\n",
       "      <td>97</td>\n",
       "      <td>85</td>\n",
       "      <td>95</td>\n",
       "      <td>90</td>\n",
       "    </tr>\n",
       "    <tr>\n",
       "      <td>张飞</td>\n",
       "      <td>96</td>\n",
       "      <td>75</td>\n",
       "      <td>94</td>\n",
       "      <td>92</td>\n",
       "    </tr>\n",
       "    <tr>\n",
       "      <td>马超</td>\n",
       "      <td>60</td>\n",
       "      <td>80</td>\n",
       "      <td>96</td>\n",
       "      <td>93</td>\n",
       "    </tr>\n",
       "    <tr>\n",
       "      <td>黄忠</td>\n",
       "      <td>90</td>\n",
       "      <td>92</td>\n",
       "      <td>90</td>\n",
       "      <td>80</td>\n",
       "    </tr>\n",
       "    <tr>\n",
       "      <td>赵云</td>\n",
       "      <td>95</td>\n",
       "      <td>90</td>\n",
       "      <td>93</td>\n",
       "      <td>99</td>\n",
       "    </tr>\n",
       "  </tbody>\n",
       "</table>\n",
       "</div>"
      ],
      "text/plain": [
       "    忠诚  智慧  武力  生命\n",
       "关羽  97  85  95  90\n",
       "张飞  96  75  94  92\n",
       "马超  60  80  96  93\n",
       "黄忠  90  92  90  80\n",
       "赵云  95  90  93  99"
      ]
     },
     "execution_count": 2,
     "metadata": {},
     "output_type": "execute_result"
    }
   ],
   "source": [
    "import numpy as np\n",
    "import pandas as pd\n",
    "\n",
    "five_tigers = [\"关羽\",\"张飞\",\"马超\",\"黄忠\",\"赵云\"]\n",
    "features    = [\"忠诚\",\"智慧\",\"武力\",\"生命\"]\n",
    "\n",
    "# five_tigers_df = pd.DataFrame(np.random.randint(90,100,(8,5)), index=names, columns=features)\n",
    "\n",
    "five_tigers_df = pd.DataFrame({\"忠诚\":[97,96,60,90,95],\n",
    "                               \"智慧\":[85,75,80,92,90],\n",
    "                               \"武力\":[95,94,96,90,93],\n",
    "                               \"生命\":[90,92,93,80,99]},\n",
    "                               index=five_tigers)\n",
    "five_tigers_df"
   ]
  },
  {
   "cell_type": "code",
   "execution_count": 4,
   "metadata": {},
   "outputs": [
    {
     "data": {
      "text/plain": [
       "array([94, 90, 93, 91, 97, 96, 97, 94, 96, 99])"
      ]
     },
     "execution_count": 4,
     "metadata": {},
     "output_type": "execute_result"
    }
   ],
   "source": [
    "# 练习 3 代码\n",
    "np.random.randint(90,100,10)"
   ]
  },
  {
   "cell_type": "markdown",
   "metadata": {},
   "source": [
    "### 练习 4\n",
    "\n",
    "\n",
    "- 随机生成一个100行2列的服从标准正态分布数组，分别取列名称为 \"X\"、\"Y\"，创建一数据帧\n",
    "\n",
    "- 任务\n",
    "    - 1 查看前 5 行和后 6 行数据\n",
    "    - 2 向右平移 \"X\" 坐标 3 个单位\n",
    "    - 3 新增一列到原点距离 \"r\"\n",
    "    - 4 查看 \"Y\" 值在 3 倍标准差以内的全部点\n",
    "    - 5 显示最后的数据帧"
   ]
  },
  {
   "cell_type": "code",
   "execution_count": null,
   "metadata": {},
   "outputs": [],
   "source": [
    "# 练习 4 代码\n"
   ]
  },
  {
   "cell_type": "markdown",
   "metadata": {},
   "source": [
    "### 结束"
   ]
  }
 ],
 "metadata": {
  "kernelspec": {
   "display_name": "Python 3",
   "language": "python",
   "name": "python3"
  },
  "language_info": {
   "codemirror_mode": {
    "name": "ipython",
    "version": 3
   },
   "file_extension": ".py",
   "mimetype": "text/x-python",
   "name": "python",
   "nbconvert_exporter": "python",
   "pygments_lexer": "ipython3",
   "version": "3.7.4"
  }
 },
 "nbformat": 4,
 "nbformat_minor": 2
}
