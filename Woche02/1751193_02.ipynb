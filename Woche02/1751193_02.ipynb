{
 "cells": [
  {
   "cell_type": "markdown",
   "metadata": {},
   "source": [
    "# 第2周 作业\n",
    "\n",
    "### 要求\n",
    "\n",
    "- 用 ipython notebook 文件格式完成并提交\n",
    "- 文件名取为 ddddddd_wk.ipynb\n",
    "    - ddddddd 为 7 位学号\n",
    "    - wk 为讲课周次（2 位数）\n",
    "    - 例如学号为1234567，第2周作业，提交文件名取为： <font color=\"red\">1234567_02.ipynb</font>"
   ]
  },
  {
   "cell_type": "markdown",
   "metadata": {},
   "source": [
    "### 练习 1\n",
    "\n",
    "- 创建 Series 序列对象，创建要求是\n",
    "\n",
    "    - 名称和名称属性均取为 \"normal_16\"\n",
    "    - 值为 16 个服从均值为 5，标准差为 1 的正态分布数\n",
    "    - 索引为从 1 到 16 的整数序列\n",
    "\n",
    "\n",
    "- 任务\n",
    "    - 1. 使用下标切片，显示下标为奇数的所有元素，修改元素值为原值的 2 倍，并显示修改后的元素值\n",
    "    - 2. 采用布尔掩码，将下标为 2、4、12 的元素修改为原值的 4 倍，并显示修改后的元素值"
   ]
  },
  {
   "cell_type": "code",
   "execution_count": 1,
   "metadata": {},
   "outputs": [],
   "source": [
    "import pandas as pd\n",
    "import numpy as np"
   ]
  },
  {
   "cell_type": "code",
   "execution_count": 10,
   "metadata": {},
   "outputs": [
    {
     "data": {
      "text/plain": [
       "array([ 0.        ,  1.06666667,  2.13333333,  3.2       ,  4.26666667,\n",
       "        5.33333333,  6.4       ,  7.46666667,  8.53333333,  9.6       ,\n",
       "       10.66666667, 11.73333333, 12.8       , 13.86666667, 14.93333333,\n",
       "       16.        ])"
      ]
     },
     "execution_count": 10,
     "metadata": {},
     "output_type": "execute_result"
    }
   ],
   "source": [
    "a = np.linspace(0,16,16)\n",
    "a"
   ]
  },
  {
   "cell_type": "code",
   "execution_count": 6,
   "metadata": {},
   "outputs": [
    {
     "data": {
      "text/plain": [
       "range(1, 2)"
      ]
     },
     "execution_count": 6,
     "metadata": {},
     "output_type": "execute_result"
    }
   ],
   "source": [
    "b=range(1,2)\n",
    "b"
   ]
  },
  {
   "cell_type": "code",
   "execution_count": null,
   "metadata": {},
   "outputs": [],
   "source": []
  },
  {
   "cell_type": "code",
   "execution_count": null,
   "metadata": {},
   "outputs": [],
   "source": []
  },
  {
   "cell_type": "code",
   "execution_count": 11,
   "metadata": {},
   "outputs": [
    {
     "name": "stdout",
     "output_type": "stream",
     "text": [
      "1     4.104687\n",
      "3     5.455083\n",
      "5     3.625688\n",
      "7     5.802096\n",
      "9     6.835125\n",
      "11    6.875797\n",
      "13    3.967629\n",
      "15    4.542656\n",
      "Name: normal_16, dtype: float64\n",
      "****************************************************************\n",
      "1      8.209374\n",
      "2     12.102418\n",
      "3     10.910166\n",
      "4      7.761173\n",
      "5      7.251376\n",
      "6      7.680017\n",
      "7     11.604192\n",
      "8     10.063402\n",
      "9     13.670250\n",
      "10    13.991188\n",
      "11    13.751593\n",
      "12    10.121604\n",
      "13     7.935259\n",
      "14    12.610242\n",
      "15     9.085312\n",
      "16    13.037774\n",
      "Name: normal_16, dtype: float64\n",
      "****************************************************************\n",
      "2     24.204836\n",
      "4     15.522346\n",
      "12    20.243209\n",
      "Name: normal_16, dtype: float64\n"
     ]
    }
   ],
   "source": [
    "# 练习 1 代码\n",
    "\n",
    "a = np.linspace(1,16,16,dtype = int)\n",
    "normal_16 = pd.Series(data=np.random.normal(5,1,16),index=list(a),name='normal_16')\n",
    "#使用下标切片，显示下标为奇数的所有元素\n",
    "n1=normal_16[0::2]\n",
    "print(n1)\n",
    "print('*'*64)\n",
    "#修改元素值为原值的 2 倍，并显示修改后的元素值\n",
    "n2=2*normal_16\n",
    "print(n2)\n",
    "print('*'*64)\n",
    "#采用布尔掩码，将下标为 2、4、12 的元素修改为原值的 4 倍，并显示修改后的元素值\n",
    "mask = [False, True, False, True,False,False,False,False,False,False,False,True,False,False,False,False] \n",
    "n3=4*normal_16[mask]\n",
    "print(n3)"
   ]
  },
  {
   "cell_type": "markdown",
   "metadata": {},
   "source": [
    "### 练习 2\n",
    "\n",
    "- 创建三国游戏中 英雄角色 生命值 序列 对象\n",
    "\n",
    "    - 名称和名称属性均取为 \"three_kingdom_heroes\"\n",
    "    - 游戏人物取三国武将 [关羽、典韦、马超、许诸、张飞、张辽、黄忠、程普、赵云、黄盖、徐晃、韩当] 作为索引\n",
    "    - 生命值取为 50 到 100 之间的随机整数\n",
    "    \n",
    "\n",
    "- 任务\n",
    "    - 1. 假设每一回合，各武将的 生命值 损失一个介于 10 到 30 之间的随机值\n",
    "    - 2. 三回合循环\n",
    "        - 三回合后，输出刘备部下五虎将的剩余生命值\n",
    "        - 假设若干回合后，出现某武将生命值小于或等于零，输出此时曹操部下生命值最大的武将，并跳出循环终止"
   ]
  },
  {
   "cell_type": "code",
   "execution_count": 18,
   "metadata": {},
   "outputs": [
    {
     "name": "stdout",
     "output_type": "stream",
     "text": [
      "关羽    91\n",
      "典韦    70\n",
      "马超    61\n",
      "许诸    94\n",
      "张飞    88\n",
      "张辽    82\n",
      "黄忠    66\n",
      "程普    67\n",
      "赵云    82\n",
      "黄盖    75\n",
      "徐晃    68\n",
      "韩当    61\n",
      "Name: three_kingdom_heroes , dtype: int32\n",
      "****************************************************************\n",
      "本轮（三回合）结束！五虎将的剩余生命值:\n",
      "关羽    60\n",
      "马超    30\n",
      "张飞    57\n",
      "黄忠    35\n",
      "赵云    51\n",
      "Name: three_kingdom_heroes , dtype: int32\n"
     ]
    }
   ],
   "source": [
    "# 练习 2 代码\n",
    "idx=['关羽','典韦','马超','许诸','张飞','张辽','黄忠','程普','赵云','黄盖','徐晃','韩当']\n",
    "three_kingdom_heroes = pd.Series(data=np.random.randint(50,100,12,dtype=int),index=idx,name='three_kingdom_heroes ')\n",
    "print(three_kingdom_heroes)\n",
    "sig=0\n",
    "for x in range(3):\n",
    "    three_kingdom_heroes-=np.random.randint(10,12)\n",
    "    for i in range(12):\n",
    "        if three_kingdom_heroes.iloc[i]<0:\n",
    "            sig+=1\n",
    "    tkh=three_kingdom_heroes[['典韦','许诸','徐晃']]\n",
    "    if sig!=0:\n",
    "        print('*'*64)\n",
    "        print('武将殒命，游戏结束！')\n",
    "        print('曹操部下生命值最大的武将为：')\n",
    "        print(tkh[tkh.values==tkh.max()])\n",
    "        break\n",
    "if sig==0:\n",
    "    print('*'*64)\n",
    "    print('本轮（三回合）结束！五虎将的剩余生命值:')\n",
    "    print(three_kingdom_heroes[['关羽','马超','张飞','黄忠','赵云']])\n"
   ]
  },
  {
   "cell_type": "markdown",
   "metadata": {},
   "source": [
    "### 练习 3\n",
    "\n",
    "- 假设：已建好三国西蜀五虎大将数据帧如下\n",
    "- 任务\n",
    "    - 1 修改每人的智慧加 5\n",
    "    - 2 增加一列“射术”，数组依次取为[80, 75, 90, 99, 85]\n",
    "    - 3 删除“武力”列\n",
    "    - 4 显示最后的数据帧"
   ]
  },
  {
   "cell_type": "code",
   "execution_count": 106,
   "metadata": {},
   "outputs": [
    {
     "data": {
      "text/html": [
       "<div>\n",
       "<style scoped>\n",
       "    .dataframe tbody tr th:only-of-type {\n",
       "        vertical-align: middle;\n",
       "    }\n",
       "\n",
       "    .dataframe tbody tr th {\n",
       "        vertical-align: top;\n",
       "    }\n",
       "\n",
       "    .dataframe thead th {\n",
       "        text-align: right;\n",
       "    }\n",
       "</style>\n",
       "<table border=\"1\" class=\"dataframe\">\n",
       "  <thead>\n",
       "    <tr style=\"text-align: right;\">\n",
       "      <th></th>\n",
       "      <th>忠诚</th>\n",
       "      <th>智慧</th>\n",
       "      <th>武力</th>\n",
       "      <th>生命</th>\n",
       "    </tr>\n",
       "  </thead>\n",
       "  <tbody>\n",
       "    <tr>\n",
       "      <td>关羽</td>\n",
       "      <td>97</td>\n",
       "      <td>85</td>\n",
       "      <td>95</td>\n",
       "      <td>90</td>\n",
       "    </tr>\n",
       "    <tr>\n",
       "      <td>张飞</td>\n",
       "      <td>96</td>\n",
       "      <td>75</td>\n",
       "      <td>94</td>\n",
       "      <td>92</td>\n",
       "    </tr>\n",
       "    <tr>\n",
       "      <td>马超</td>\n",
       "      <td>60</td>\n",
       "      <td>80</td>\n",
       "      <td>96</td>\n",
       "      <td>93</td>\n",
       "    </tr>\n",
       "    <tr>\n",
       "      <td>黄忠</td>\n",
       "      <td>90</td>\n",
       "      <td>92</td>\n",
       "      <td>90</td>\n",
       "      <td>80</td>\n",
       "    </tr>\n",
       "    <tr>\n",
       "      <td>赵云</td>\n",
       "      <td>95</td>\n",
       "      <td>90</td>\n",
       "      <td>93</td>\n",
       "      <td>99</td>\n",
       "    </tr>\n",
       "  </tbody>\n",
       "</table>\n",
       "</div>"
      ],
      "text/plain": [
       "    忠诚  智慧  武力  生命\n",
       "关羽  97  85  95  90\n",
       "张飞  96  75  94  92\n",
       "马超  60  80  96  93\n",
       "黄忠  90  92  90  80\n",
       "赵云  95  90  93  99"
      ]
     },
     "execution_count": 106,
     "metadata": {},
     "output_type": "execute_result"
    }
   ],
   "source": [
    "import numpy as np\n",
    "import pandas as pd\n",
    "\n",
    "five_tigers = [\"关羽\",\"张飞\",\"马超\",\"黄忠\",\"赵云\"]\n",
    "features    = [\"忠诚\",\"智慧\",\"武力\",\"生命\"]\n",
    "\n",
    "# five_tigers_df = pd.DataFrame(np.random.randint(90,100,(8,5)), index=names, columns=features)\n",
    "\n",
    "five_tigers_df = pd.DataFrame({\"忠诚\":[97,96,60,90,95],\n",
    "                               \"智慧\":[85,75,80,92,90],\n",
    "                               \"武力\":[95,94,96,90,93],\n",
    "                               \"生命\":[90,92,93,80,99]},\n",
    "                               index=five_tigers)\n",
    "five_tigers_df"
   ]
  },
  {
   "cell_type": "code",
   "execution_count": 108,
   "metadata": {},
   "outputs": [
    {
     "data": {
      "text/html": [
       "<div>\n",
       "<style scoped>\n",
       "    .dataframe tbody tr th:only-of-type {\n",
       "        vertical-align: middle;\n",
       "    }\n",
       "\n",
       "    .dataframe tbody tr th {\n",
       "        vertical-align: top;\n",
       "    }\n",
       "\n",
       "    .dataframe thead th {\n",
       "        text-align: right;\n",
       "    }\n",
       "</style>\n",
       "<table border=\"1\" class=\"dataframe\">\n",
       "  <thead>\n",
       "    <tr style=\"text-align: right;\">\n",
       "      <th></th>\n",
       "      <th>忠诚</th>\n",
       "      <th>智慧</th>\n",
       "      <th>生命</th>\n",
       "      <th>射术</th>\n",
       "    </tr>\n",
       "  </thead>\n",
       "  <tbody>\n",
       "    <tr>\n",
       "      <td>关羽</td>\n",
       "      <td>97</td>\n",
       "      <td>90</td>\n",
       "      <td>90</td>\n",
       "      <td>80</td>\n",
       "    </tr>\n",
       "    <tr>\n",
       "      <td>张飞</td>\n",
       "      <td>96</td>\n",
       "      <td>80</td>\n",
       "      <td>92</td>\n",
       "      <td>75</td>\n",
       "    </tr>\n",
       "    <tr>\n",
       "      <td>马超</td>\n",
       "      <td>60</td>\n",
       "      <td>85</td>\n",
       "      <td>93</td>\n",
       "      <td>90</td>\n",
       "    </tr>\n",
       "    <tr>\n",
       "      <td>黄忠</td>\n",
       "      <td>90</td>\n",
       "      <td>97</td>\n",
       "      <td>80</td>\n",
       "      <td>99</td>\n",
       "    </tr>\n",
       "    <tr>\n",
       "      <td>赵云</td>\n",
       "      <td>95</td>\n",
       "      <td>95</td>\n",
       "      <td>99</td>\n",
       "      <td>85</td>\n",
       "    </tr>\n",
       "  </tbody>\n",
       "</table>\n",
       "</div>"
      ],
      "text/plain": [
       "    忠诚  智慧  生命  射术\n",
       "关羽  97  90  90  80\n",
       "张飞  96  80  92  75\n",
       "马超  60  85  93  90\n",
       "黄忠  90  97  80  99\n",
       "赵云  95  95  99  85"
      ]
     },
     "execution_count": 108,
     "metadata": {},
     "output_type": "execute_result"
    }
   ],
   "source": [
    "# 练习 3 代码\n",
    "#1修改每人的智慧加 5\n",
    "df = five_tigers_df.copy()\n",
    "df[['智慧']] += 5\n",
    "#2增加一列“射术”，数组依次取为[80, 75, 90, 99, 85]\n",
    "df['射术'] = [80, 75, 90, 99, 85]\n",
    "#3 删除“武力”列\n",
    "del df['武力']\n",
    "#4 显示最后的数据帧\n",
    "df"
   ]
  },
  {
   "cell_type": "markdown",
   "metadata": {},
   "source": [
    "### 练习 4\n",
    "\n",
    "\n",
    "- 随机生成一个100行2列的服从标准正态分布数组，分别取列名称为 \"X\"、\"Y\"，创建一数据帧\n",
    "\n",
    "- 任务\n",
    "    - 1 查看前 5 行和后 6 行数据\n",
    "    - 2 向右平移 \"X\" 坐标 3 个单位\n",
    "    - 3 新增一列到原点距离 \"r\"\n",
    "    - 4 查看 \"Y\" 值在 3 倍标准差以内的全部点\n",
    "    - 5 显示最后的数据帧"
   ]
  },
  {
   "cell_type": "code",
   "execution_count": 19,
   "metadata": {},
   "outputs": [
    {
     "name": "stdout",
     "output_type": "stream",
     "text": [
      "前 5 行数据:\n",
      "          X         Y\n",
      "0  0.070472  1.001022\n",
      "1 -0.370713  0.826172\n",
      "2 -0.177583 -0.574503\n",
      "3  0.609245 -1.054319\n",
      "4  0.059228  1.031227\n",
      "****************************************************************\n",
      "后 6 行数据:\n",
      "           X         Y\n",
      "94 -2.029947  0.027624\n",
      "95 -0.758813 -1.228429\n",
      "96 -0.583404  0.101517\n",
      "97 -0.416502 -0.315527\n",
      "98  0.753474  1.223027\n",
      "99 -2.011647  0.150550\n",
      "****************************************************************\n",
      "           X         Y         r\n",
      "0   3.070472  1.001022  3.229527\n",
      "1   2.629287  0.826172  2.756031\n",
      "2   2.822417 -0.574503  2.880294\n",
      "3   3.609245 -1.054319  3.760085\n",
      "4   3.059228  1.031227  3.228359\n",
      "..       ...       ...       ...\n",
      "94  2.241187 -1.228429  2.555770\n",
      "95  2.416596  0.101517  2.418727\n",
      "96  2.583498 -0.315527  2.602694\n",
      "97  3.753474  1.223027  3.947703\n",
      "98  0.988353  0.150550  0.999753\n",
      "\n",
      "[99 rows x 3 columns]\n"
     ]
    }
   ],
   "source": [
    "# 练习 4 代码\n",
    "df = pd.DataFrame(np.random.randn(100, 2), columns=[\"X\",\"Y\"])\n",
    "#1 查看前 5 行数据\n",
    "print(\"前 5 行数据:\")\n",
    "print(df.head(n=5))\n",
    "#查看后 6 行数据\n",
    "print('*'*64)\n",
    "print(\"后 6 行数据:\")\n",
    "print(df.tail(n=6))\n",
    "#2 向右平移 \"X\" 坐标 3 个单位\n",
    "df[\"X\"]+=3\n",
    "#3 新增一列到原点距离 \"r\"\n",
    "df[\"r\"] = np.power((df[\"X\"]*df[\"X\"]+df[\"Y\"]*df[\"Y\"]),0.5)\n",
    "#4 查看 \"Y\" 值在 3 倍标准差以内的全部点\n",
    "std=df[\"Y\"].std()\n",
    "STD=3*std\n",
    "df1=df[df[\"Y\"]<STD]\n",
    "df2=df1[df1[\"Y\"]>-STD]\n",
    "L=len(df2.values)\n",
    "df2.index=list(np.linspace(0,L-1,L,dtype = int))\n",
    "#5 显示最后的数据帧\n",
    "print('*'*64)\n",
    "print(df2)\n",
    "#由于是标准正态分布，几乎所有的值都在[-3std,3std)之间"
   ]
  },
  {
   "cell_type": "code",
   "execution_count": 8,
   "metadata": {},
   "outputs": [
    {
     "data": {
      "text/plain": [
       "array([ 1.        ,  1.30612245,  1.6122449 ,  1.91836735,  2.2244898 ,\n",
       "        2.53061224,  2.83673469,  3.14285714,  3.44897959,  3.75510204,\n",
       "        4.06122449,  4.36734694,  4.67346939,  4.97959184,  5.28571429,\n",
       "        5.59183673,  5.89795918,  6.20408163,  6.51020408,  6.81632653,\n",
       "        7.12244898,  7.42857143,  7.73469388,  8.04081633,  8.34693878,\n",
       "        8.65306122,  8.95918367,  9.26530612,  9.57142857,  9.87755102,\n",
       "       10.18367347, 10.48979592, 10.79591837, 11.10204082, 11.40816327,\n",
       "       11.71428571, 12.02040816, 12.32653061, 12.63265306, 12.93877551,\n",
       "       13.24489796, 13.55102041, 13.85714286, 14.16326531, 14.46938776,\n",
       "       14.7755102 , 15.08163265, 15.3877551 , 15.69387755, 16.        ])"
      ]
     },
     "execution_count": 8,
     "metadata": {},
     "output_type": "execute_result"
    }
   ],
   "source": [
    "a = np.linspace(1,16)#,dtype = int)\n",
    "a"
   ]
  },
  {
   "cell_type": "markdown",
   "metadata": {},
   "source": [
    "### 结束"
   ]
  }
 ],
 "metadata": {
  "kernelspec": {
   "display_name": "Python 3 (ipykernel)",
   "language": "python",
   "name": "python3"
  },
  "language_info": {
   "codemirror_mode": {
    "name": "ipython",
    "version": 3
   },
   "file_extension": ".py",
   "mimetype": "text/x-python",
   "name": "python",
   "nbconvert_exporter": "python",
   "pygments_lexer": "ipython3",
   "version": "3.9.7"
  }
 },
 "nbformat": 4,
 "nbformat_minor": 2
}
