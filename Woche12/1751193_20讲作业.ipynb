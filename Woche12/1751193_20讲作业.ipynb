{
 "cells": [
  {
   "cell_type": "markdown",
   "metadata": {},
   "source": [
    "# 第20讲 作业\n",
    "\n",
    "\n",
    "- 提交文件名\n",
    "    - `学号_20讲作业.ipynb`"
   ]
  },
  {
   "cell_type": "markdown",
   "metadata": {},
   "source": [
    "## 关于 `Titanic` 号乘客丢失年龄的考虑\n",
    "\n",
    "\n",
    "- 对于丢失年龄的乘客，课件中采用 `全部未丢失年龄的平均值` 来补充（如下代码格）"
   ]
  },
  {
   "cell_type": "code",
   "execution_count": null,
   "metadata": {},
   "outputs": [],
   "source": [
    "mean = titanic['age'].mean()                 # 平均年龄\n",
    "titanic['age'].fillna(mean, inplace=True)    # 填充"
   ]
  },
  {
   "cell_type": "markdown",
   "metadata": {},
   "source": [
    "## 问题\n",
    "\n",
    "\n",
    "- 想想这种处理方法是否可以改进，说明理由？"
   ]
  },
  {
   "cell_type": "markdown",
   "metadata": {},
   "source": [
    "## 解题思路1——回归\n",
    "* 通过已有的数据构建起年龄和其他特征的关系模型\n",
    "* 通过建立的模型预测缺失的年龄\n",
    "\n",
    "## 解题思路2——聚类\n",
    "* 试图将乘客分成不同类\n",
    "* 每一类的乘客中必定有缺失和不缺失年龄信息的乘客\n",
    "* 在每一类中，缺失的年龄信息按照该类中已知年龄乘客的年龄平均值填充"
   ]
  },
  {
   "cell_type": "code",
   "execution_count": 87,
   "metadata": {},
   "outputs": [],
   "source": [
    "import IPython\n",
    "import sklearn as sk\n",
    "import numpy as np\n",
    "import pandas as pd\n",
    "import matplotlib\n",
    "import matplotlib.pyplot as plt\n",
    "import seaborn as sns\n",
    "from sklearn.model_selection import train_test_split\n",
    "from sklearn import tree, datasets\n",
    "from sklearn import feature_extraction"
   ]
  },
  {
   "cell_type": "markdown",
   "metadata": {},
   "source": [
    "### 导入数据"
   ]
  },
  {
   "cell_type": "code",
   "execution_count": 88,
   "metadata": {},
   "outputs": [
    {
     "name": "stdout",
     "output_type": "stream",
     "text": [
      "['row.names' 'pclass' 'survived' 'name' 'age' 'embarked' 'home.dest'\n",
      " 'room' 'ticket' 'boat' 'sex'] \n",
      "\n"
     ]
    }
   ],
   "source": [
    "titanic = pd.read_csv('data/titanic.csv')\n",
    "titanic_array=np.array(titanic)\n",
    "feature_names =np.array(titanic.columns)\n",
    "print(feature_names,'\\n')"
   ]
  },
  {
   "cell_type": "markdown",
   "metadata": {},
   "source": [
    "### 观察各个属性的缺失数据条目数"
   ]
  },
  {
   "cell_type": "code",
   "execution_count": 89,
   "metadata": {},
   "outputs": [
    {
     "data": {
      "text/html": [
       "<div>\n",
       "<style scoped>\n",
       "    .dataframe tbody tr th:only-of-type {\n",
       "        vertical-align: middle;\n",
       "    }\n",
       "\n",
       "    .dataframe tbody tr th {\n",
       "        vertical-align: top;\n",
       "    }\n",
       "\n",
       "    .dataframe thead th {\n",
       "        text-align: right;\n",
       "    }\n",
       "</style>\n",
       "<table border=\"1\" class=\"dataframe\">\n",
       "  <thead>\n",
       "    <tr style=\"text-align: right;\">\n",
       "      <th></th>\n",
       "      <th>nan(%)</th>\n",
       "      <th>nan_sum</th>\n",
       "    </tr>\n",
       "  </thead>\n",
       "  <tbody>\n",
       "    <tr>\n",
       "      <td>row.names</td>\n",
       "      <td>0.000000</td>\n",
       "      <td>0.0</td>\n",
       "    </tr>\n",
       "    <tr>\n",
       "      <td>pclass</td>\n",
       "      <td>0.000000</td>\n",
       "      <td>0.0</td>\n",
       "    </tr>\n",
       "    <tr>\n",
       "      <td>survived</td>\n",
       "      <td>0.000000</td>\n",
       "      <td>0.0</td>\n",
       "    </tr>\n",
       "    <tr>\n",
       "      <td>name</td>\n",
       "      <td>0.000000</td>\n",
       "      <td>0.0</td>\n",
       "    </tr>\n",
       "    <tr>\n",
       "      <td>age</td>\n",
       "      <td>51.789794</td>\n",
       "      <td>680.0</td>\n",
       "    </tr>\n",
       "    <tr>\n",
       "      <td>embarked</td>\n",
       "      <td>37.471439</td>\n",
       "      <td>492.0</td>\n",
       "    </tr>\n",
       "    <tr>\n",
       "      <td>home.dest</td>\n",
       "      <td>42.574257</td>\n",
       "      <td>559.0</td>\n",
       "    </tr>\n",
       "    <tr>\n",
       "      <td>room</td>\n",
       "      <td>94.135567</td>\n",
       "      <td>1236.0</td>\n",
       "    </tr>\n",
       "    <tr>\n",
       "      <td>ticket</td>\n",
       "      <td>94.744859</td>\n",
       "      <td>1244.0</td>\n",
       "    </tr>\n",
       "    <tr>\n",
       "      <td>boat</td>\n",
       "      <td>73.571973</td>\n",
       "      <td>966.0</td>\n",
       "    </tr>\n",
       "    <tr>\n",
       "      <td>sex</td>\n",
       "      <td>0.000000</td>\n",
       "      <td>0.0</td>\n",
       "    </tr>\n",
       "  </tbody>\n",
       "</table>\n",
       "</div>"
      ],
      "text/plain": [
       "              nan(%)  nan_sum\n",
       "row.names   0.000000      0.0\n",
       "pclass      0.000000      0.0\n",
       "survived    0.000000      0.0\n",
       "name        0.000000      0.0\n",
       "age        51.789794    680.0\n",
       "embarked   37.471439    492.0\n",
       "home.dest  42.574257    559.0\n",
       "room       94.135567   1236.0\n",
       "ticket     94.744859   1244.0\n",
       "boat       73.571973    966.0\n",
       "sex         0.000000      0.0"
      ]
     },
     "execution_count": 89,
     "metadata": {},
     "output_type": "execute_result"
    }
   ],
   "source": [
    "nan_array=np.vstack([(100*titanic.isna().sum()/len(titanic)), (titanic.isna().sum())])\n",
    "nan_df = pd.DataFrame(np.transpose(nan_array),index=feature_names,columns = ['nan(%)','nan_sum'])\n",
    "nan_df"
   ]
  },
  {
   "cell_type": "markdown",
   "metadata": {},
   "source": [
    "- 属性room,ticket,boat的缺失条目数量巨大"
   ]
  },
  {
   "cell_type": "markdown",
   "metadata": {},
   "source": [
    "### 观察每个属性的非重复值"
   ]
  },
  {
   "cell_type": "code",
   "execution_count": 90,
   "metadata": {},
   "outputs": [
    {
     "data": {
      "text/html": [
       "<div>\n",
       "<style scoped>\n",
       "    .dataframe tbody tr th:only-of-type {\n",
       "        vertical-align: middle;\n",
       "    }\n",
       "\n",
       "    .dataframe tbody tr th {\n",
       "        vertical-align: top;\n",
       "    }\n",
       "\n",
       "    .dataframe thead th {\n",
       "        text-align: right;\n",
       "    }\n",
       "</style>\n",
       "<table border=\"1\" class=\"dataframe\">\n",
       "  <thead>\n",
       "    <tr style=\"text-align: right;\">\n",
       "      <th></th>\n",
       "      <th>num of unique</th>\n",
       "    </tr>\n",
       "  </thead>\n",
       "  <tbody>\n",
       "    <tr>\n",
       "      <td>row.names</td>\n",
       "      <td>1313.0</td>\n",
       "    </tr>\n",
       "    <tr>\n",
       "      <td>pclass</td>\n",
       "      <td>3.0</td>\n",
       "    </tr>\n",
       "    <tr>\n",
       "      <td>survived</td>\n",
       "      <td>2.0</td>\n",
       "    </tr>\n",
       "    <tr>\n",
       "      <td>name</td>\n",
       "      <td>1310.0</td>\n",
       "    </tr>\n",
       "    <tr>\n",
       "      <td>age</td>\n",
       "      <td>74.0</td>\n",
       "    </tr>\n",
       "    <tr>\n",
       "      <td>embarked</td>\n",
       "      <td>4.0</td>\n",
       "    </tr>\n",
       "    <tr>\n",
       "      <td>home.dest</td>\n",
       "      <td>372.0</td>\n",
       "    </tr>\n",
       "    <tr>\n",
       "      <td>room</td>\n",
       "      <td>54.0</td>\n",
       "    </tr>\n",
       "    <tr>\n",
       "      <td>ticket</td>\n",
       "      <td>42.0</td>\n",
       "    </tr>\n",
       "    <tr>\n",
       "      <td>boat</td>\n",
       "      <td>100.0</td>\n",
       "    </tr>\n",
       "    <tr>\n",
       "      <td>sex</td>\n",
       "      <td>2.0</td>\n",
       "    </tr>\n",
       "  </tbody>\n",
       "</table>\n",
       "</div>"
      ],
      "text/plain": [
       "           num of unique\n",
       "row.names         1313.0\n",
       "pclass               3.0\n",
       "survived             2.0\n",
       "name              1310.0\n",
       "age                 74.0\n",
       "embarked             4.0\n",
       "home.dest          372.0\n",
       "room                54.0\n",
       "ticket              42.0\n",
       "boat               100.0\n",
       "sex                  2.0"
      ]
     },
     "execution_count": 90,
     "metadata": {},
     "output_type": "execute_result"
    }
   ],
   "source": [
    "unique_data=np.zeros((len(feature_names),1))\n",
    "for i in  range(len(feature_names)):\n",
    "    unique_data[i]=len(titanic[feature_names[i]].unique())\n",
    "df_unique_data=pd.DataFrame(unique_data,index =feature_names,columns=['num of unique'])\n",
    "df_unique_data"
   ]
  },
  {
   "cell_type": "markdown",
   "metadata": {},
   "source": [
    "### 观察上面的表格\n",
    "* 发现特征属性name,home.dest,room,ticket的非重复值众多\n",
    "* 原因也很简单，名字各不相同，每个人的出发地和目的地组合多种多用，船上房间众多，票的种类也众多\n",
    "* 此数据集总量本身不大——1313，如果考虑到待会要训练其他特征来预测空缺的年龄属性，训练集只有500左右\n",
    "* 所以结合实际与年龄有关的因素，并且考虑到每种属性的缺失条目数，放弃对于训练作用不大的属性——name,home.dest,room,ticket,boat"
   ]
  },
  {
   "cell_type": "code",
   "execution_count": 91,
   "metadata": {},
   "outputs": [
    {
     "data": {
      "text/html": [
       "<div>\n",
       "<style scoped>\n",
       "    .dataframe tbody tr th:only-of-type {\n",
       "        vertical-align: middle;\n",
       "    }\n",
       "\n",
       "    .dataframe tbody tr th {\n",
       "        vertical-align: top;\n",
       "    }\n",
       "\n",
       "    .dataframe thead th {\n",
       "        text-align: right;\n",
       "    }\n",
       "</style>\n",
       "<table border=\"1\" class=\"dataframe\">\n",
       "  <thead>\n",
       "    <tr style=\"text-align: right;\">\n",
       "      <th></th>\n",
       "      <th>nanSum</th>\n",
       "    </tr>\n",
       "  </thead>\n",
       "  <tbody>\n",
       "    <tr>\n",
       "      <td>pclass</td>\n",
       "      <td>0</td>\n",
       "    </tr>\n",
       "    <tr>\n",
       "      <td>survived</td>\n",
       "      <td>0</td>\n",
       "    </tr>\n",
       "    <tr>\n",
       "      <td>age</td>\n",
       "      <td>680</td>\n",
       "    </tr>\n",
       "    <tr>\n",
       "      <td>embarked</td>\n",
       "      <td>492</td>\n",
       "    </tr>\n",
       "    <tr>\n",
       "      <td>sex</td>\n",
       "      <td>0</td>\n",
       "    </tr>\n",
       "  </tbody>\n",
       "</table>\n",
       "</div>"
      ],
      "text/plain": [
       "          nanSum\n",
       "pclass         0\n",
       "survived       0\n",
       "age          680\n",
       "embarked     492\n",
       "sex            0"
      ]
     },
     "execution_count": 91,
     "metadata": {},
     "output_type": "execute_result"
    }
   ],
   "source": [
    "titanic_new=titanic.drop(feature_names[[0,3,6,7,8,9]], axis='columns') \n",
    "titanic_data=np.array(titanic_new)\n",
    "nan_df_new = pd.DataFrame(titanic_new.isnull().sum())\n",
    "nan_df_new.columns = ['nanSum']\n",
    "nan_df_new"
   ]
  },
  {
   "cell_type": "markdown",
   "metadata": {},
   "source": [
    "### 删除缺失数据条目"
   ]
  },
  {
   "cell_type": "code",
   "execution_count": 92,
   "metadata": {},
   "outputs": [
    {
     "name": "stdout",
     "output_type": "stream",
     "text": [
      "清理后的数据条目数： 627\n"
     ]
    },
    {
     "data": {
      "text/html": [
       "<div>\n",
       "<style scoped>\n",
       "    .dataframe tbody tr th:only-of-type {\n",
       "        vertical-align: middle;\n",
       "    }\n",
       "\n",
       "    .dataframe tbody tr th {\n",
       "        vertical-align: top;\n",
       "    }\n",
       "\n",
       "    .dataframe thead th {\n",
       "        text-align: right;\n",
       "    }\n",
       "</style>\n",
       "<table border=\"1\" class=\"dataframe\">\n",
       "  <thead>\n",
       "    <tr style=\"text-align: right;\">\n",
       "      <th></th>\n",
       "      <th>pclass</th>\n",
       "      <th>survived</th>\n",
       "      <th>age</th>\n",
       "      <th>embarked</th>\n",
       "      <th>sex</th>\n",
       "    </tr>\n",
       "  </thead>\n",
       "  <tbody>\n",
       "    <tr>\n",
       "      <td>833</td>\n",
       "      <td>3rd</td>\n",
       "      <td>0</td>\n",
       "      <td>32.0</td>\n",
       "      <td>Southampton</td>\n",
       "      <td>male</td>\n",
       "    </tr>\n",
       "    <tr>\n",
       "      <td>835</td>\n",
       "      <td>3rd</td>\n",
       "      <td>0</td>\n",
       "      <td>20.0</td>\n",
       "      <td>Southampton</td>\n",
       "      <td>male</td>\n",
       "    </tr>\n",
       "    <tr>\n",
       "      <td>836</td>\n",
       "      <td>3rd</td>\n",
       "      <td>0</td>\n",
       "      <td>37.0</td>\n",
       "      <td>Southampton</td>\n",
       "      <td>male</td>\n",
       "    </tr>\n",
       "    <tr>\n",
       "      <td>837</td>\n",
       "      <td>3rd</td>\n",
       "      <td>0</td>\n",
       "      <td>28.0</td>\n",
       "      <td>Southampton</td>\n",
       "      <td>male</td>\n",
       "    </tr>\n",
       "    <tr>\n",
       "      <td>838</td>\n",
       "      <td>3rd</td>\n",
       "      <td>0</td>\n",
       "      <td>19.0</td>\n",
       "      <td>Southampton</td>\n",
       "      <td>male</td>\n",
       "    </tr>\n",
       "  </tbody>\n",
       "</table>\n",
       "</div>"
      ],
      "text/plain": [
       "    pclass  survived   age     embarked   sex\n",
       "833    3rd         0  32.0  Southampton  male\n",
       "835    3rd         0  20.0  Southampton  male\n",
       "836    3rd         0  37.0  Southampton  male\n",
       "837    3rd         0  28.0  Southampton  male\n",
       "838    3rd         0  19.0  Southampton  male"
      ]
     },
     "execution_count": 92,
     "metadata": {},
     "output_type": "execute_result"
    }
   ],
   "source": [
    "titanic_clear = titanic_new.copy()\n",
    "titanic_clear=titanic_clear.dropna(how=\"any\")\n",
    "print(\"清理后的数据条目数：\",len(titanic_clear))\n",
    "titanic_clear.tail()"
   ]
  },
  {
   "cell_type": "markdown",
   "metadata": {},
   "source": [
    "### 转换特征工具 one_hot"
   ]
  },
  {
   "cell_type": "code",
   "execution_count": 93,
   "metadata": {},
   "outputs": [],
   "source": [
    "def one_hot_dataframe(data, cols, replace=False):\n",
    "    \"\"\" \n",
    "    取数据帧和有待解码的若干列\n",
    "    返回：数据data、向量化数据，以及拟合的向量化器\n",
    "    \"\"\"\n",
    "    vec = feature_extraction.DictVectorizer()                   # 生成 DictVectorizer 对象\n",
    "    mkdict = lambda row: dict((col, row[col]) for col in cols) # 映射：列标识 -> 行的对应元素\n",
    "    \n",
    "    vecData = pd.DataFrame(vec.fit_transform(data[cols].apply(mkdict, axis=1)).toarray()) # 重构数据帧\n",
    "    vecData.columns = vec.get_feature_names()\n",
    "    vecData.index = data.index\n",
    "    \n",
    "    if replace is True:\n",
    "        data = data.drop(cols, axis=1)\n",
    "        data = data.join(vecData)\n",
    "\n",
    "    return (data, vecData)"
   ]
  },
  {
   "cell_type": "code",
   "execution_count": 94,
   "metadata": {},
   "outputs": [
    {
     "data": {
      "text/html": [
       "<div>\n",
       "<style scoped>\n",
       "    .dataframe tbody tr th:only-of-type {\n",
       "        vertical-align: middle;\n",
       "    }\n",
       "\n",
       "    .dataframe tbody tr th {\n",
       "        vertical-align: top;\n",
       "    }\n",
       "\n",
       "    .dataframe thead th {\n",
       "        text-align: right;\n",
       "    }\n",
       "</style>\n",
       "<table border=\"1\" class=\"dataframe\">\n",
       "  <thead>\n",
       "    <tr style=\"text-align: right;\">\n",
       "      <th></th>\n",
       "      <th>age</th>\n",
       "      <th>embarked=Cherbourg</th>\n",
       "      <th>embarked=Queenstown</th>\n",
       "      <th>embarked=Southampton</th>\n",
       "      <th>pclass=1st</th>\n",
       "      <th>pclass=2nd</th>\n",
       "      <th>pclass=3rd</th>\n",
       "      <th>sex=female</th>\n",
       "      <th>sex=male</th>\n",
       "      <th>survived</th>\n",
       "    </tr>\n",
       "  </thead>\n",
       "  <tbody>\n",
       "    <tr>\n",
       "      <td>833</td>\n",
       "      <td>32.0</td>\n",
       "      <td>0.0</td>\n",
       "      <td>0.0</td>\n",
       "      <td>1.0</td>\n",
       "      <td>0.0</td>\n",
       "      <td>0.0</td>\n",
       "      <td>1.0</td>\n",
       "      <td>0.0</td>\n",
       "      <td>1.0</td>\n",
       "      <td>0.0</td>\n",
       "    </tr>\n",
       "    <tr>\n",
       "      <td>835</td>\n",
       "      <td>20.0</td>\n",
       "      <td>0.0</td>\n",
       "      <td>0.0</td>\n",
       "      <td>1.0</td>\n",
       "      <td>0.0</td>\n",
       "      <td>0.0</td>\n",
       "      <td>1.0</td>\n",
       "      <td>0.0</td>\n",
       "      <td>1.0</td>\n",
       "      <td>0.0</td>\n",
       "    </tr>\n",
       "    <tr>\n",
       "      <td>836</td>\n",
       "      <td>37.0</td>\n",
       "      <td>0.0</td>\n",
       "      <td>0.0</td>\n",
       "      <td>1.0</td>\n",
       "      <td>0.0</td>\n",
       "      <td>0.0</td>\n",
       "      <td>1.0</td>\n",
       "      <td>0.0</td>\n",
       "      <td>1.0</td>\n",
       "      <td>0.0</td>\n",
       "    </tr>\n",
       "    <tr>\n",
       "      <td>837</td>\n",
       "      <td>28.0</td>\n",
       "      <td>0.0</td>\n",
       "      <td>0.0</td>\n",
       "      <td>1.0</td>\n",
       "      <td>0.0</td>\n",
       "      <td>0.0</td>\n",
       "      <td>1.0</td>\n",
       "      <td>0.0</td>\n",
       "      <td>1.0</td>\n",
       "      <td>0.0</td>\n",
       "    </tr>\n",
       "    <tr>\n",
       "      <td>838</td>\n",
       "      <td>19.0</td>\n",
       "      <td>0.0</td>\n",
       "      <td>0.0</td>\n",
       "      <td>1.0</td>\n",
       "      <td>0.0</td>\n",
       "      <td>0.0</td>\n",
       "      <td>1.0</td>\n",
       "      <td>0.0</td>\n",
       "      <td>1.0</td>\n",
       "      <td>0.0</td>\n",
       "    </tr>\n",
       "  </tbody>\n",
       "</table>\n",
       "</div>"
      ],
      "text/plain": [
       "      age  embarked=Cherbourg  embarked=Queenstown  embarked=Southampton  \\\n",
       "833  32.0                 0.0                  0.0                   1.0   \n",
       "835  20.0                 0.0                  0.0                   1.0   \n",
       "836  37.0                 0.0                  0.0                   1.0   \n",
       "837  28.0                 0.0                  0.0                   1.0   \n",
       "838  19.0                 0.0                  0.0                   1.0   \n",
       "\n",
       "     pclass=1st  pclass=2nd  pclass=3rd  sex=female  sex=male  survived  \n",
       "833         0.0         0.0         1.0         0.0       1.0       0.0  \n",
       "835         0.0         0.0         1.0         0.0       1.0       0.0  \n",
       "836         0.0         0.0         1.0         0.0       1.0       0.0  \n",
       "837         0.0         0.0         1.0         0.0       1.0       0.0  \n",
       "838         0.0         0.0         1.0         0.0       1.0       0.0  "
      ]
     },
     "execution_count": 94,
     "metadata": {},
     "output_type": "execute_result"
    }
   ],
   "source": [
    "titanic_onehot, titanic_n = one_hot_dataframe(titanic_clear, ['pclass', 'survived', 'embarked', 'sex'], replace=True)\n",
    "titanic_onehot.tail()"
   ]
  },
  {
   "cell_type": "code",
   "execution_count": 95,
   "metadata": {
    "scrolled": true
   },
   "outputs": [
    {
     "data": {
      "text/html": [
       "<div>\n",
       "<style scoped>\n",
       "    .dataframe tbody tr th:only-of-type {\n",
       "        vertical-align: middle;\n",
       "    }\n",
       "\n",
       "    .dataframe tbody tr th {\n",
       "        vertical-align: top;\n",
       "    }\n",
       "\n",
       "    .dataframe thead th {\n",
       "        text-align: right;\n",
       "    }\n",
       "</style>\n",
       "<table border=\"1\" class=\"dataframe\">\n",
       "  <thead>\n",
       "    <tr style=\"text-align: right;\">\n",
       "      <th></th>\n",
       "      <th>age</th>\n",
       "      <th>embarked=Cherbourg</th>\n",
       "      <th>embarked=Queenstown</th>\n",
       "      <th>embarked=Southampton</th>\n",
       "      <th>pclass=1st</th>\n",
       "      <th>pclass=2nd</th>\n",
       "      <th>pclass=3rd</th>\n",
       "      <th>sex=female</th>\n",
       "      <th>sex=male</th>\n",
       "      <th>survived</th>\n",
       "    </tr>\n",
       "  </thead>\n",
       "  <tbody>\n",
       "    <tr>\n",
       "      <td>count</td>\n",
       "      <td>627.000000</td>\n",
       "      <td>627.000000</td>\n",
       "      <td>627.000000</td>\n",
       "      <td>627.000000</td>\n",
       "      <td>627.000000</td>\n",
       "      <td>627.000000</td>\n",
       "      <td>627.000000</td>\n",
       "      <td>627.000000</td>\n",
       "      <td>627.000000</td>\n",
       "      <td>627.000000</td>\n",
       "    </tr>\n",
       "    <tr>\n",
       "      <td>mean</td>\n",
       "      <td>31.034955</td>\n",
       "      <td>0.212121</td>\n",
       "      <td>0.049442</td>\n",
       "      <td>0.738437</td>\n",
       "      <td>0.350877</td>\n",
       "      <td>0.338118</td>\n",
       "      <td>0.311005</td>\n",
       "      <td>0.382775</td>\n",
       "      <td>0.617225</td>\n",
       "      <td>0.441786</td>\n",
       "    </tr>\n",
       "    <tr>\n",
       "      <td>std</td>\n",
       "      <td>14.686036</td>\n",
       "      <td>0.409137</td>\n",
       "      <td>0.216962</td>\n",
       "      <td>0.439837</td>\n",
       "      <td>0.477626</td>\n",
       "      <td>0.473447</td>\n",
       "      <td>0.463274</td>\n",
       "      <td>0.486452</td>\n",
       "      <td>0.486452</td>\n",
       "      <td>0.496996</td>\n",
       "    </tr>\n",
       "    <tr>\n",
       "      <td>min</td>\n",
       "      <td>0.166700</td>\n",
       "      <td>0.000000</td>\n",
       "      <td>0.000000</td>\n",
       "      <td>0.000000</td>\n",
       "      <td>0.000000</td>\n",
       "      <td>0.000000</td>\n",
       "      <td>0.000000</td>\n",
       "      <td>0.000000</td>\n",
       "      <td>0.000000</td>\n",
       "      <td>0.000000</td>\n",
       "    </tr>\n",
       "    <tr>\n",
       "      <td>25%</td>\n",
       "      <td>21.000000</td>\n",
       "      <td>0.000000</td>\n",
       "      <td>0.000000</td>\n",
       "      <td>0.000000</td>\n",
       "      <td>0.000000</td>\n",
       "      <td>0.000000</td>\n",
       "      <td>0.000000</td>\n",
       "      <td>0.000000</td>\n",
       "      <td>0.000000</td>\n",
       "      <td>0.000000</td>\n",
       "    </tr>\n",
       "    <tr>\n",
       "      <td>50%</td>\n",
       "      <td>30.000000</td>\n",
       "      <td>0.000000</td>\n",
       "      <td>0.000000</td>\n",
       "      <td>1.000000</td>\n",
       "      <td>0.000000</td>\n",
       "      <td>0.000000</td>\n",
       "      <td>0.000000</td>\n",
       "      <td>0.000000</td>\n",
       "      <td>1.000000</td>\n",
       "      <td>0.000000</td>\n",
       "    </tr>\n",
       "    <tr>\n",
       "      <td>75%</td>\n",
       "      <td>40.500000</td>\n",
       "      <td>0.000000</td>\n",
       "      <td>0.000000</td>\n",
       "      <td>1.000000</td>\n",
       "      <td>1.000000</td>\n",
       "      <td>1.000000</td>\n",
       "      <td>1.000000</td>\n",
       "      <td>1.000000</td>\n",
       "      <td>1.000000</td>\n",
       "      <td>1.000000</td>\n",
       "    </tr>\n",
       "    <tr>\n",
       "      <td>max</td>\n",
       "      <td>71.000000</td>\n",
       "      <td>1.000000</td>\n",
       "      <td>1.000000</td>\n",
       "      <td>1.000000</td>\n",
       "      <td>1.000000</td>\n",
       "      <td>1.000000</td>\n",
       "      <td>1.000000</td>\n",
       "      <td>1.000000</td>\n",
       "      <td>1.000000</td>\n",
       "      <td>1.000000</td>\n",
       "    </tr>\n",
       "  </tbody>\n",
       "</table>\n",
       "</div>"
      ],
      "text/plain": [
       "              age  embarked=Cherbourg  embarked=Queenstown  \\\n",
       "count  627.000000          627.000000           627.000000   \n",
       "mean    31.034955            0.212121             0.049442   \n",
       "std     14.686036            0.409137             0.216962   \n",
       "min      0.166700            0.000000             0.000000   \n",
       "25%     21.000000            0.000000             0.000000   \n",
       "50%     30.000000            0.000000             0.000000   \n",
       "75%     40.500000            0.000000             0.000000   \n",
       "max     71.000000            1.000000             1.000000   \n",
       "\n",
       "       embarked=Southampton  pclass=1st  pclass=2nd  pclass=3rd  sex=female  \\\n",
       "count            627.000000  627.000000  627.000000  627.000000  627.000000   \n",
       "mean               0.738437    0.350877    0.338118    0.311005    0.382775   \n",
       "std                0.439837    0.477626    0.473447    0.463274    0.486452   \n",
       "min                0.000000    0.000000    0.000000    0.000000    0.000000   \n",
       "25%                0.000000    0.000000    0.000000    0.000000    0.000000   \n",
       "50%                1.000000    0.000000    0.000000    0.000000    0.000000   \n",
       "75%                1.000000    1.000000    1.000000    1.000000    1.000000   \n",
       "max                1.000000    1.000000    1.000000    1.000000    1.000000   \n",
       "\n",
       "         sex=male    survived  \n",
       "count  627.000000  627.000000  \n",
       "mean     0.617225    0.441786  \n",
       "std      0.486452    0.496996  \n",
       "min      0.000000    0.000000  \n",
       "25%      0.000000    0.000000  \n",
       "50%      1.000000    0.000000  \n",
       "75%      1.000000    1.000000  \n",
       "max      1.000000    1.000000  "
      ]
     },
     "execution_count": 95,
     "metadata": {},
     "output_type": "execute_result"
    }
   ],
   "source": [
    "titanic_onehot.describe()"
   ]
  },
  {
   "cell_type": "markdown",
   "metadata": {},
   "source": [
    "### 相关性分析"
   ]
  },
  {
   "cell_type": "code",
   "execution_count": 96,
   "metadata": {},
   "outputs": [
    {
     "data": {
      "text/plain": [
       "<matplotlib.axes._subplots.AxesSubplot at 0x15a7de90088>"
      ]
     },
     "execution_count": 96,
     "metadata": {},
     "output_type": "execute_result"
    },
    {
     "data": {
      "image/png": "[encoded data removed]",
      "text/plain": [
       "<Figure size 1080x1080 with 2 Axes>"
      ]
     },
     "metadata": {
      "needs_background": "light"
     },
     "output_type": "display_data"
    }
   ],
   "source": [
    "f,ax = plt.subplots(figsize=(15, 15))\n",
    "corelation=titanic_onehot.corr()\n",
    "sns.heatmap(corelation,xticklabels=corelation.columns,yticklabels=corelation.columns, \n",
    "            annot=True, linewidths=.5, fmt= '.1f',ax=ax)"
   ]
  },
  {
   "cell_type": "markdown",
   "metadata": {},
   "source": [
    "#### 分析上图\n",
    "* 总体而言年龄与其他特征关联性均很弱\n",
    "* 年龄和性别几乎没有任何关系\n",
    "* 年龄与幸存之间的关系很弱，本以为幸存下来多为年轻人，应当有较强关系\n",
    "* 年龄与是否为一等舱有较强关系\n",
    "* 年龄与登船地点关系也不大"
   ]
  },
  {
   "cell_type": "code",
   "execution_count": 97,
   "metadata": {},
   "outputs": [],
   "source": [
    "titanic_aftercorelation=titanic_onehot.drop(['sex=female','sex=male','embarked=Cherbourg','embarked=Queenstown','embarked=Southampton'], axis='columns') \n",
    "titanic_aftercorelation_data=np.array(titanic_aftercorelation)"
   ]
  },
  {
   "cell_type": "markdown",
   "metadata": {},
   "source": [
    "## 回归方法\n",
    "### 随机森林回归"
   ]
  },
  {
   "cell_type": "code",
   "execution_count": 98,
   "metadata": {},
   "outputs": [],
   "source": [
    "from sklearn.ensemble import RandomForestRegressor\n",
    "# 设定森林中有6棵树\n",
    "forest = RandomForestRegressor(n_estimators = 15, random_state = 34 )"
   ]
  },
  {
   "cell_type": "code",
   "execution_count": 99,
   "metadata": {},
   "outputs": [
    {
     "data": {
      "text/plain": [
       "Index(['age', 'pclass=1st', 'pclass=2nd', 'pclass=3rd', 'survived'], dtype='object')"
      ]
     },
     "execution_count": 99,
     "metadata": {},
     "output_type": "execute_result"
    }
   ],
   "source": [
    "feature_aftercorelation=titanic_aftercorelation.columns\n",
    "feature_aftercorelation"
   ]
  },
  {
   "cell_type": "code",
   "execution_count": 100,
   "metadata": {},
   "outputs": [],
   "source": [
    "data_y=np.array(titanic_aftercorelation['age'])\n",
    "data_X=np.array(titanic_aftercorelation[feature_aftercorelation[1:]])"
   ]
  },
  {
   "cell_type": "code",
   "execution_count": 101,
   "metadata": {},
   "outputs": [],
   "source": [
    "from sklearn.model_selection import cross_val_score, KFold\n",
    "def train_and_evaluate(regr, X_train, y_train):\n",
    "    regr.fit(X_train, y_train)  # 训练\n",
    "    print (\"在训练集上，决定系数：\", regr.score(X_train, y_train))\n",
    "    # 创建 K-折\n",
    "    cv = KFold(5, shuffle=True, random_state=33)                     # model_selection 模块用\n",
    "    #cv = KFold(X_train.shape[0], 5, shuffle=True, random_state=33)  # cross_validation 模块用\n",
    "    scores = cross_val_score(regr, X_train, y_train, cv=cv)\n",
    "    print (\"使用 K-折交叉验证的 平均决定系数:\",np.mean(scores))"
   ]
  },
  {
   "cell_type": "code",
   "execution_count": 102,
   "metadata": {},
   "outputs": [],
   "source": [
    "def visualization_for_predict_data(data_observed, data_predicted, label_observed, label_predicted,title):\n",
    "    plt.scatter(data_observed, data_predicted)\n",
    "    max_v = np.max([data_predicted] + [data_observed]) * 1.1\n",
    "    min_v = np.min([data_predicted] + [data_observed]) * 1.1\n",
    "    plt.plot([min_v,max_v], [min_v,max_v], \"r-\")\n",
    "    plt.title(title)\n",
    "    plt.xlabel(label_observed)\n",
    "    plt.ylabel(label_predicted)"
   ]
  },
  {
   "cell_type": "code",
   "execution_count": 103,
   "metadata": {},
   "outputs": [
    {
     "name": "stdout",
     "output_type": "stream",
     "text": [
      "在训练集上，决定系数： 0.2408145827937067\n",
      "使用 K-折交叉验证的 平均决定系数: 0.22853234978767983\n"
     ]
    }
   ],
   "source": [
    "train_and_evaluate(forest,data_X,data_y)"
   ]
  },
  {
   "cell_type": "code",
   "execution_count": 104,
   "metadata": {},
   "outputs": [
    {
     "data": {
      "image/png": "[encoded data removed]",
      "text/plain": [
       "<Figure size 432x288 with 1 Axes>"
      ]
     },
     "metadata": {
      "needs_background": "light"
     },
     "output_type": "display_data"
    }
   ],
   "source": [
    "pred_y1 = forest.predict(data_X)\n",
    "visualization_for_predict_data(data_y,pred_y1, \"y_train\", \"y_pred\",\"Performance of  RandomForest algorithm on test set\")"
   ]
  },
  {
   "cell_type": "markdown",
   "metadata": {},
   "source": [
    "### 线性回归"
   ]
  },
  {
   "cell_type": "code",
   "execution_count": 105,
   "metadata": {},
   "outputs": [],
   "source": [
    "from sklearn.linear_model import LinearRegression\n",
    "LR = LinearRegression(copy_X=True, fit_intercept=True, n_jobs=None,normalize=False)"
   ]
  },
  {
   "cell_type": "code",
   "execution_count": 106,
   "metadata": {},
   "outputs": [
    {
     "name": "stdout",
     "output_type": "stream",
     "text": [
      "在训练集上，决定系数： 0.239610631671911\n",
      "使用 K-折交叉验证的 平均决定系数: 0.23339068377956734\n"
     ]
    }
   ],
   "source": [
    "train_and_evaluate(LR,data_X,data_y)"
   ]
  },
  {
   "cell_type": "code",
   "execution_count": 107,
   "metadata": {},
   "outputs": [
    {
     "data": {
      "image/png": "[encoded data removed]",
      "text/plain": [
       "<Figure size 432x288 with 1 Axes>"
      ]
     },
     "metadata": {
      "needs_background": "light"
     },
     "output_type": "display_data"
    }
   ],
   "source": [
    "pred_y2 = LR.predict(data_X)\n",
    "visualization_for_predict_data(data_y,pred_y2, \"y_train\", \"y_pred\",\"Performance of  RandomForest algorithm on test set\")"
   ]
  },
  {
   "cell_type": "markdown",
   "metadata": {},
   "source": [
    "### 结果分析\n",
    "* 以上两种回归方法均不太理想\n",
    "* 因为本身其他特征与年龄的关联性并不大"
   ]
  },
  {
   "cell_type": "markdown",
   "metadata": {},
   "source": [
    "### 采用回归方法对缺失数据进行填充"
   ]
  },
  {
   "cell_type": "code",
   "execution_count": 108,
   "metadata": {},
   "outputs": [
    {
     "data": {
      "text/html": [
       "<div>\n",
       "<style scoped>\n",
       "    .dataframe tbody tr th:only-of-type {\n",
       "        vertical-align: middle;\n",
       "    }\n",
       "\n",
       "    .dataframe tbody tr th {\n",
       "        vertical-align: top;\n",
       "    }\n",
       "\n",
       "    .dataframe thead th {\n",
       "        text-align: right;\n",
       "    }\n",
       "</style>\n",
       "<table border=\"1\" class=\"dataframe\">\n",
       "  <thead>\n",
       "    <tr style=\"text-align: right;\">\n",
       "      <th></th>\n",
       "      <th>age</th>\n",
       "      <th>pclass=1st</th>\n",
       "      <th>pclass=2nd</th>\n",
       "      <th>pclass=3rd</th>\n",
       "      <th>survived</th>\n",
       "    </tr>\n",
       "  </thead>\n",
       "  <tbody>\n",
       "    <tr>\n",
       "      <td>1308</td>\n",
       "      <td>NaN</td>\n",
       "      <td>0.0</td>\n",
       "      <td>0.0</td>\n",
       "      <td>1.0</td>\n",
       "      <td>0.0</td>\n",
       "    </tr>\n",
       "    <tr>\n",
       "      <td>1309</td>\n",
       "      <td>NaN</td>\n",
       "      <td>0.0</td>\n",
       "      <td>0.0</td>\n",
       "      <td>1.0</td>\n",
       "      <td>0.0</td>\n",
       "    </tr>\n",
       "    <tr>\n",
       "      <td>1310</td>\n",
       "      <td>NaN</td>\n",
       "      <td>0.0</td>\n",
       "      <td>0.0</td>\n",
       "      <td>1.0</td>\n",
       "      <td>0.0</td>\n",
       "    </tr>\n",
       "    <tr>\n",
       "      <td>1311</td>\n",
       "      <td>NaN</td>\n",
       "      <td>0.0</td>\n",
       "      <td>0.0</td>\n",
       "      <td>1.0</td>\n",
       "      <td>0.0</td>\n",
       "    </tr>\n",
       "    <tr>\n",
       "      <td>1312</td>\n",
       "      <td>NaN</td>\n",
       "      <td>0.0</td>\n",
       "      <td>0.0</td>\n",
       "      <td>1.0</td>\n",
       "      <td>0.0</td>\n",
       "    </tr>\n",
       "  </tbody>\n",
       "</table>\n",
       "</div>"
      ],
      "text/plain": [
       "      age  pclass=1st  pclass=2nd  pclass=3rd  survived\n",
       "1308  NaN         0.0         0.0         1.0       0.0\n",
       "1309  NaN         0.0         0.0         1.0       0.0\n",
       "1310  NaN         0.0         0.0         1.0       0.0\n",
       "1311  NaN         0.0         0.0         1.0       0.0\n",
       "1312  NaN         0.0         0.0         1.0       0.0"
      ]
     },
     "execution_count": 108,
     "metadata": {},
     "output_type": "execute_result"
    }
   ],
   "source": [
    "titanic_fill=titanic[titanic['age'].isna()].drop(feature_names[[0,3,5,6,7,8,9,10]],axis='columns')\n",
    "titanic_fill_onehot, titanic_n = one_hot_dataframe(titanic_fill, ['pclass', 'survived'], replace=True)\n",
    "titanic_fill_onehot.tail()"
   ]
  },
  {
   "cell_type": "code",
   "execution_count": 109,
   "metadata": {},
   "outputs": [],
   "source": [
    "fill_X=np.array(titanic_fill_onehot[['pclass=1st','pclass=2nd','pclass=3rd','survived']])\n",
    "fill_y_forest=forest.predict(fill_X)\n",
    "fill_y_LR=LR.predict(fill_X)"
   ]
  },
  {
   "cell_type": "code",
   "execution_count": 110,
   "metadata": {},
   "outputs": [
    {
     "data": {
      "text/plain": [
       "Text(0, 0.5, 'num')"
      ]
     },
     "execution_count": 110,
     "metadata": {},
     "output_type": "execute_result"
    },
    {
     "data": {
      "image/png": "[encoded data removed]",
      "text/plain": [
       "<Figure size 432x288 with 1 Axes>"
      ]
     },
     "metadata": {
      "needs_background": "light"
     },
     "output_type": "display_data"
    }
   ],
   "source": [
    "plt.hist(fill_y_forest);plt.xlabel('fill_by_forest');plt.ylabel('num')"
   ]
  },
  {
   "cell_type": "code",
   "execution_count": 111,
   "metadata": {},
   "outputs": [
    {
     "data": {
      "text/plain": [
       "Text(0, 0.5, 'num')"
      ]
     },
     "execution_count": 111,
     "metadata": {},
     "output_type": "execute_result"
    },
    {
     "data": {
      "image/png": "[encoded data removed]",
      "text/plain": [
       "<Figure size 432x288 with 1 Axes>"
      ]
     },
     "metadata": {
      "needs_background": "light"
     },
     "output_type": "display_data"
    }
   ],
   "source": [
    "plt.hist(fill_y_LR);plt.xlabel('fill_by_LR');plt.ylabel('num')"
   ]
  },
  {
   "cell_type": "code",
   "execution_count": 112,
   "metadata": {},
   "outputs": [
    {
     "data": {
      "text/plain": [
       "Text(0, 0.5, 'fill_by_LR')"
      ]
     },
     "execution_count": 112,
     "metadata": {},
     "output_type": "execute_result"
    },
    {
     "data": {
      "image/png": "[encoded data removed]",
      "text/plain": [
       "<Figure size 432x288 with 1 Axes>"
      ]
     },
     "metadata": {
      "needs_background": "light"
     },
     "output_type": "display_data"
    }
   ],
   "source": [
    "plt.scatter(fill_y_forest,fill_y_LR);plt.xlabel('fill_by_forest');plt.ylabel('fill_by_LR')"
   ]
  },
  {
   "cell_type": "markdown",
   "metadata": {},
   "source": [
    "### 结果分析\n",
    "- 填充的值大部分是25岁的\n",
    "- 两种回归方法的预测结果极为相似，几乎就分布在y=x轴上"
   ]
  },
  {
   "cell_type": "markdown",
   "metadata": {},
   "source": [
    "## 聚类方法——K-means聚类"
   ]
  },
  {
   "cell_type": "markdown",
   "metadata": {},
   "source": [
    "### 重新组织数据\n",
    "* 考虑到row.names,names对于聚类分析意义不大，故去除\n",
    "* 特征room,ticket,boat等特征缺失过多，不能用于分析，同时也对填补工作不利，故去除\n",
    "* 考虑到之前分析过性别与年龄之间关联性几乎没有，所以同样去除"
   ]
  },
  {
   "cell_type": "code",
   "execution_count": 113,
   "metadata": {},
   "outputs": [
    {
     "data": {
      "text/html": [
       "<div>\n",
       "<style scoped>\n",
       "    .dataframe tbody tr th:only-of-type {\n",
       "        vertical-align: middle;\n",
       "    }\n",
       "\n",
       "    .dataframe tbody tr th {\n",
       "        vertical-align: top;\n",
       "    }\n",
       "\n",
       "    .dataframe thead th {\n",
       "        text-align: right;\n",
       "    }\n",
       "</style>\n",
       "<table border=\"1\" class=\"dataframe\">\n",
       "  <thead>\n",
       "    <tr style=\"text-align: right;\">\n",
       "      <th></th>\n",
       "      <th>pclass=1st</th>\n",
       "      <th>pclass=2nd</th>\n",
       "      <th>pclass=3rd</th>\n",
       "      <th>survived</th>\n",
       "    </tr>\n",
       "  </thead>\n",
       "  <tbody>\n",
       "    <tr>\n",
       "      <td>1308</td>\n",
       "      <td>0.0</td>\n",
       "      <td>0.0</td>\n",
       "      <td>1.0</td>\n",
       "      <td>0.0</td>\n",
       "    </tr>\n",
       "    <tr>\n",
       "      <td>1309</td>\n",
       "      <td>0.0</td>\n",
       "      <td>0.0</td>\n",
       "      <td>1.0</td>\n",
       "      <td>0.0</td>\n",
       "    </tr>\n",
       "    <tr>\n",
       "      <td>1310</td>\n",
       "      <td>0.0</td>\n",
       "      <td>0.0</td>\n",
       "      <td>1.0</td>\n",
       "      <td>0.0</td>\n",
       "    </tr>\n",
       "    <tr>\n",
       "      <td>1311</td>\n",
       "      <td>0.0</td>\n",
       "      <td>0.0</td>\n",
       "      <td>1.0</td>\n",
       "      <td>0.0</td>\n",
       "    </tr>\n",
       "    <tr>\n",
       "      <td>1312</td>\n",
       "      <td>0.0</td>\n",
       "      <td>0.0</td>\n",
       "      <td>1.0</td>\n",
       "      <td>0.0</td>\n",
       "    </tr>\n",
       "  </tbody>\n",
       "</table>\n",
       "</div>"
      ],
      "text/plain": [
       "      pclass=1st  pclass=2nd  pclass=3rd  survived\n",
       "1308         0.0         0.0         1.0       0.0\n",
       "1309         0.0         0.0         1.0       0.0\n",
       "1310         0.0         0.0         1.0       0.0\n",
       "1311         0.0         0.0         1.0       0.0\n",
       "1312         0.0         0.0         1.0       0.0"
      ]
     },
     "execution_count": 113,
     "metadata": {},
     "output_type": "execute_result"
    }
   ],
   "source": [
    "titanic_new2=titanic.drop(feature_names[[0,3,5,6,7,8,9,10]], axis='columns') \n",
    "titanic_knn=titanic_new2.drop(['age'], axis='columns') \n",
    "titanic_onehot2, titanic_n = one_hot_dataframe(titanic_knn, ['pclass', 'survived'], replace=True)\n",
    "titanic_onehot2.tail()"
   ]
  },
  {
   "cell_type": "markdown",
   "metadata": {},
   "source": [
    "#### 3种舱，2种性别，2种结局（生死）—— 3\\*2=6"
   ]
  },
  {
   "cell_type": "code",
   "execution_count": 114,
   "metadata": {},
   "outputs": [],
   "source": [
    "from sklearn import cluster\n",
    "# 预知聚类数取为 6\n",
    "km = cluster.KMeans(init='k-means++', n_clusters=6, random_state=42)#预知聚类数取为 4"
   ]
  },
  {
   "cell_type": "code",
   "execution_count": 115,
   "metadata": {},
   "outputs": [
    {
     "data": {
      "text/plain": [
       "KMeans(n_clusters=6, random_state=42)"
      ]
     },
     "execution_count": 115,
     "metadata": {},
     "output_type": "execute_result"
    }
   ],
   "source": [
    "titanic_onehot2_data=np.array(titanic_onehot2)\n",
    "km.fit(titanic_onehot2_data)"
   ]
  },
  {
   "cell_type": "code",
   "execution_count": 116,
   "metadata": {},
   "outputs": [
    {
     "data": {
      "text/plain": [
       "array([[ 1.00000000e+00, -4.71844785e-16,  1.11022302e-16,\n",
       "         1.00000000e+00],\n",
       "       [ 4.71844785e-16, -6.10622664e-16,  1.00000000e+00,\n",
       "        -2.77555756e-16],\n",
       "       [ 1.66533454e-16,  1.00000000e+00,  2.22044605e-16,\n",
       "        -2.77555756e-16],\n",
       "       [-1.38777878e-16, -5.55111512e-17,  1.00000000e+00,\n",
       "         1.00000000e+00],\n",
       "       [ 1.00000000e+00, -1.38777878e-16,  1.11022302e-16,\n",
       "        -2.22044605e-16],\n",
       "       [-1.94289029e-16,  1.00000000e+00,  1.11022302e-16,\n",
       "         1.00000000e+00]])"
      ]
     },
     "execution_count": 116,
     "metadata": {},
     "output_type": "execute_result"
    }
   ],
   "source": [
    "km.cluster_centers_"
   ]
  },
  {
   "cell_type": "markdown",
   "metadata": {},
   "source": [
    "### 六种类别的含义：\n",
    "- 一等舱，生存\n",
    "- 三等舱，死亡\n",
    "- 二等舱，死亡\n",
    "- 三等船，生存\n",
    "- 一等舱，死亡\n",
    "- 二等舱，生存"
   ]
  },
  {
   "cell_type": "markdown",
   "metadata": {},
   "source": [
    "### 填充\n",
    "- 对六个类中的已知年龄求平均值mean[i]\n",
    "- 在每一类中对缺失值分别用该类的年龄均值进行填充"
   ]
  },
  {
   "cell_type": "code",
   "execution_count": 117,
   "metadata": {},
   "outputs": [
    {
     "data": {
      "text/html": [
       "<div>\n",
       "<style scoped>\n",
       "    .dataframe tbody tr th:only-of-type {\n",
       "        vertical-align: middle;\n",
       "    }\n",
       "\n",
       "    .dataframe tbody tr th {\n",
       "        vertical-align: top;\n",
       "    }\n",
       "\n",
       "    .dataframe thead th {\n",
       "        text-align: right;\n",
       "    }\n",
       "</style>\n",
       "<table border=\"1\" class=\"dataframe\">\n",
       "  <thead>\n",
       "    <tr style=\"text-align: right;\">\n",
       "      <th></th>\n",
       "      <th>fill_age</th>\n",
       "    </tr>\n",
       "  </thead>\n",
       "  <tbody>\n",
       "    <tr>\n",
       "      <td>1</td>\n",
       "      <td>36.776379</td>\n",
       "    </tr>\n",
       "    <tr>\n",
       "      <td>2</td>\n",
       "      <td>25.666666</td>\n",
       "    </tr>\n",
       "    <tr>\n",
       "      <td>3</td>\n",
       "      <td>31.672414</td>\n",
       "    </tr>\n",
       "    <tr>\n",
       "      <td>4</td>\n",
       "      <td>20.804348</td>\n",
       "    </tr>\n",
       "    <tr>\n",
       "      <td>5</td>\n",
       "      <td>44.287356</td>\n",
       "    </tr>\n",
       "    <tr>\n",
       "      <td>6</td>\n",
       "      <td>24.225694</td>\n",
       "    </tr>\n",
       "  </tbody>\n",
       "</table>\n",
       "</div>"
      ],
      "text/plain": [
       "    fill_age\n",
       "1  36.776379\n",
       "2  25.666666\n",
       "3  31.672414\n",
       "4  20.804348\n",
       "5  44.287356\n",
       "6  24.225694"
      ]
     },
     "execution_count": 117,
     "metadata": {},
     "output_type": "execute_result"
    }
   ],
   "source": [
    "titanic_km=pd.DataFrame(np.hstack([np.array(titanic[['row.names','age']]),km.labels_.reshape(1313,1)]),\n",
    "                        columns=['rows','age','label'])\n",
    "age_fill=[]\n",
    "mean=np.zeros(6)\n",
    "for i in range(6):\n",
    "    mean[i] = titanic_km[titanic_km['label']==i]['age'].mean() \n",
    "    rows_fill=[];rows=[];judge=[]\n",
    "    rows = np.array(titanic_km[titanic_km['label']==i]['rows'])\n",
    "    judge = np.array(titanic_km[titanic_km['label']==i]['age'].isna())\n",
    "    for k in range(len(rows)):\n",
    "        if judge[k]:\n",
    "            rows_fill.append(rows[k])\n",
    "    for j in range(len(rows_fill)):\n",
    "        titanic_km.loc[[rows_fill[j]-1],['age']]=mean[i] \n",
    "        age_fill.append(mean[i])\n",
    "pd.DataFrame(np.transpose(mean),index=['1','2','3','4','5','6'],columns=['fill_age'])"
   ]
  },
  {
   "cell_type": "markdown",
   "metadata": {},
   "source": [
    "### 分析\n",
    "- 船舱\n",
    "    - 一等舱：1,5\n",
    "    - 二等舱：3,6\n",
    "    - 三等舱：2,4\n",
    "- 生存\n",
    "    - 死亡：2,3,5\n",
    "    - 生存：1,4,6\n",
    "\n",
    "\n",
    "* 可见一等舱明显更年长，三等舱明显更年轻\n",
    "* 推测是由于一等舱都是年长的富豪阔太，三等舱是想要前往新兴的美国探索新世界的年轻人打工仔\n",
    "* 非常奇怪的是，死亡的人都是每个船舱等级中更年轻的人，可能是由于绅士的谦让和牺牲精神，把生还的希望都留给了老弱之人\n"
   ]
  },
  {
   "cell_type": "code",
   "execution_count": 118,
   "metadata": {},
   "outputs": [
    {
     "data": {
      "text/plain": [
       "Text(0, 0.5, 'num')"
      ]
     },
     "execution_count": 118,
     "metadata": {},
     "output_type": "execute_result"
    },
    {
     "data": {
      "image/png": "[encoded data removed]",
      "text/plain": [
       "<Figure size 432x288 with 1 Axes>"
      ]
     },
     "metadata": {
      "needs_background": "light"
     },
     "output_type": "display_data"
    }
   ],
   "source": [
    "plt.hist(age_fill);plt.xlabel('fill_by_LR');plt.ylabel('num')"
   ]
  },
  {
   "cell_type": "markdown",
   "metadata": {},
   "source": [
    "- 从分布上看，与回归方法填充类似"
   ]
  },
  {
   "cell_type": "markdown",
   "metadata": {},
   "source": [
    "#### 与回归方法的填充值进行比较\n",
    "- 虽然所填充的数值和分布类似\n",
    "- 但是对于在聚类方法中填“25岁”的乘客在回归方法中所填数值在20-45岁不等\n",
    "- 相反，回归方法中填“20，25岁”的客在聚类方法中所填数值在20-45岁不等"
   ]
  },
  {
   "cell_type": "code",
   "execution_count": 119,
   "metadata": {},
   "outputs": [
    {
     "data": {
      "text/plain": [
       "Text(0, 0.5, 'fill_by_k-means')"
      ]
     },
     "execution_count": 119,
     "metadata": {},
     "output_type": "execute_result"
    },
    {
     "data": {
      "image/png": "[encoded data removed]",
      "text/plain": [
       "<Figure size 432x288 with 1 Axes>"
      ]
     },
     "metadata": {
      "needs_background": "light"
     },
     "output_type": "display_data"
    }
   ],
   "source": [
    "plt.scatter(fill_y_forest,age_fill)\n",
    "plt.xlabel('fill_by_forest')\n",
    "plt.ylabel('fill_by_k-means')"
   ]
  },
  {
   "cell_type": "markdown",
   "metadata": {},
   "source": [
    "## 总结\n",
    "- 总的来说，数据集缺失数据较多，要想用其他已知的特征反过来填补缺失的年龄，可用的数据不多\n",
    "- 其次，在可以用于推测年龄的特征中，与年龄有较大关联的只有船舱等级pclass\n",
    "- 由于数据缺乏，将幸存与否“survived”也加入了推测年龄的特征中，其实他们之间的关联性并不强。\n",
    "- 采用回归方法所预测的结果不同方法之间十分相近，采用聚类方法与回归方法之间有较大的不同\n",
    "- 总体来说，我认为比起简单的用均值填充，这样的回归和聚类方法的填充总体是更优的。"
   ]
  }
 ],
 "metadata": {
  "kernelspec": {
   "display_name": "Python 3",
   "language": "python",
   "name": "python3"
  },
  "language_info": {
   "codemirror_mode": {
    "name": "ipython",
    "version": 3
   },
   "file_extension": ".py",
   "mimetype": "text/x-python",
   "name": "python",
   "nbconvert_exporter": "python",
   "pygments_lexer": "ipython3",
   "version": "3.7.4"
  }
 },
 "nbformat": 4,
 "nbformat_minor": 2
}
