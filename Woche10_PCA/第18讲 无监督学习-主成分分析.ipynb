{
 "cells": [
  {
   "cell_type": "markdown",
   "metadata": {},
   "source": [
    "# 18 无监督学习 - 主成分分析 "
   ]
  },
  {
   "cell_type": "markdown",
   "metadata": {},
   "source": [
    "## 18.1 无监督学习"
   ]
  },
  {
   "cell_type": "markdown",
   "metadata": {},
   "source": [
    "### 18.1.1 有监督学习方法的局限性 及 大数据机器学习现状\n",
    "\n",
    "\n",
    "- 有监督学习方法的局限性\n",
    "    - 目标（与样本数据对应）需要人来标注\n",
    "    - 少量数据还能承受\n",
    "\n",
    "\n",
    "- 一些网络公司的对策\n",
    "    - 谷歌 —— 图象标识\n",
    "    - 期刊、图书内容 —— 扫描、识别\n",
    "\n",
    "\n",
    "- 海量来自网络的数据\n",
    "    - 没有目标数据\n",
    "    - 标注成本过高\n",
    "        - 标注需求过于巨大（且快速增长）\n",
    "        - 普通人类标注质量难以保证（责任、素质、检验）\n",
    "        - 需要专家标注（如鸢尾花数据标注）\n",
    "        - 甚至专家也没有能力标注（如未知领域）"
   ]
  },
  {
   "cell_type": "markdown",
   "metadata": {},
   "source": [
    "### 18.1.2 无监督学习 —— 愿望与可行性\n",
    "\n",
    "\n",
    "- 愿望\n",
    "    - 机器抽取子集：从海量的样本数据集里\n",
    "        - 挑选 —— 具有<font color=\"red\">代表性的</font>分类样本\n",
    "        - 标注 —— 用于分类器的训练\n",
    "    - 机器分类、人类标注 —— 对全部海量数据\n",
    "    - 寻找、发现好的特征 —— 在无类别信息的情况下\n",
    "\n",
    "\n",
    "- 可行性 —— 聚类方法常用于生活中\n",
    "\n",
    "\n",
    "- 例如 —— 聚餐之后，安排车送客人\n",
    "    - 按目的地、方向配置车和客人\n",
    "    - 本质上是聚类方法 —— 根据实际情况找出分类"
   ]
  },
  {
   "cell_type": "markdown",
   "metadata": {},
   "source": [
    "### 18.1.3 无监督学习 —— 知易行难\n",
    "\n",
    "\n",
    "- 易 —— 一、二维数据的聚类\n",
    "- 难 —— 高维问题"
   ]
  },
  {
   "cell_type": "markdown",
   "metadata": {},
   "source": [
    "### 18.1.4 无监督学习方法类别\n",
    "\n",
    "\n",
    "- 降维 —— 适用于高维、大量特征\n",
    "\n",
    "\n",
    "- 聚类\n",
    "    - k-means\n",
    "    - affinity propagation\n",
    "    - mean shift\n",
    "    - Gaussian Mixture Models\n",
    "    - ......"
   ]
  },
  {
   "cell_type": "markdown",
   "metadata": {},
   "source": [
    "## 18.2 聚类分析"
   ]
  },
  {
   "cell_type": "markdown",
   "metadata": {},
   "source": [
    "### 18.2.1 基本概念\n",
    "\n",
    "\n",
    "\n",
    "- 聚类分析(cluster analysis)—— 将研究对象分为相对同质的群组(clusters)的统计分析技术\n",
    "\n",
    "\n",
    "- 与分类识别的比较区别\n",
    "    - 分类识别(classification analysis) 属于有监督学习\n",
    "    - 聚类分析(cluster analysis) 属于无监督学习\n",
    "\n",
    "\n",
    "- 相似程度（样本距离）\n",
    "    - 采用数据集的多个特征指标来度量样本的相似程度\n",
    "    - 把相似程度较大的样本聚合为同类\n",
    "    - 直到把所有的样本类别聚合完毕\n",
    "\n",
    "\n",
    "- 本质\n",
    "    - 将待认识的数据进行分类、分组、分群\n",
    "        - 按共性区分\n",
    "        - 多层次区分\n",
    "\n",
    "\n",
    "- 如\n",
    "    - 历史学 —— 将世界上的事件按时间分类\n",
    "    - 地理学 —— 将世界上的事件按空间分类\n",
    "    - 生物学 —— 将所有生物按特征分类\n",
    "    - ......"
   ]
  },
  {
   "cell_type": "markdown",
   "metadata": {},
   "source": [
    "### 18.2.2 分析类型\n",
    "\n",
    "\n",
    "- `Q` 型聚类 —— 对样本进行分类处理\n",
    "- `R` 型聚类 —— 对变量进行分类处理"
   ]
  },
  {
   "cell_type": "markdown",
   "metadata": {},
   "source": [
    "### 18.2.3 简单案例 —— 在高校\n",
    "\n",
    "\n",
    "- 高校分类 —— 方式之一\n",
    "    - 研究型 —— 强调学术性、综合性、前沿性，如清华、北大、复旦等\n",
    "    - 研究教学型 —— 优势学科科研水平高，学校综合性较强\n",
    "    - 教学研究型 —— 一般设有一定数量的博士/硕士学位点，以本科人才培养为主\n",
    "    - 教学型 —— 以省/市属高校为主，着眼于区域经济发展，培养目标多为复合型应用型人才\n",
    "\n",
    "\n",
    "- 同济 —— 介于研究型、研究教学型之间\n",
    "\n",
    "\n",
    "- 教师也可进行聚类，根据\n",
    "    - 专业\n",
    "    - 业务特点（教学型、研究型、创新型等）\n",
    "    - 研究侧重性（基础前沿、专业应用、综合交叉等）\n",
    "\n",
    "\n",
    "- 学生聚类 —— 思考？"
   ]
  },
  {
   "cell_type": "markdown",
   "metadata": {},
   "source": [
    "### 18.2.4 相似程度 —— 由距离来定（近朱者赤，近墨者黑）\n",
    "\n",
    "\n",
    "- 设有两个样本数据\n",
    "$$\n",
    "\\textbf{x}=(x_1,x_2,\\cdots, x_n),\\quad \\textbf{y}=(y_1,y_2,\\cdots, y_n)\n",
    "$$\n",
    "\n",
    "\n",
    "- 以下是一些常见距离定义\n",
    "    - 欧几里德距离\n",
    "\n",
    "    $$\\|\\textbf{x}-\\textbf{y}\\|_2=\\sqrt{(x_1-y_1)^2+(x_2-y_2)^2+\\cdots+(x_n-y_n)^2}$$\n",
    "    \n",
    "    - 曼哈顿距离（Manhattan distance, 1-范数）\n",
    "\n",
    "    $$\\|\\textbf{x}-\\textbf{y}\\|_1=|x_1-y_1|+|x_2-y_2|+\\cdots+|x_n-y_n|$$\n",
    "\n",
    "    - infinity norm 距离\n",
    "\n",
    "    $$\\|\\textbf{x}-\\textbf{y}\\|_\\infty=\\max_{i}|x_i-y_i|$$"
   ]
  },
  {
   "cell_type": "markdown",
   "metadata": {},
   "source": [
    "## 18.3 降维 —— 主成分分析 (Principal Components Analysis，PCA) "
   ]
  },
  {
   "cell_type": "markdown",
   "metadata": {},
   "source": [
    "### 18.3.1 线性特征变换与降维\n",
    "\n",
    "\n",
    "#### (1) 线性特征变换\n",
    "\n",
    "\n",
    "- 设有 $n$ 个样本构成的数据集，每个样本含有 $p$ 个特征，即每个样本都是 $p$ 维特征空间上的点\n",
    "\n",
    "$$(x^{(1)}_1, x^{(1)}_2, \\cdots, x^{(1)}_p),\\quad (x^{(2)}_1, x^{(2)}_2, \\cdots, x^{(2)}_p),\\quad \\cdots,\\quad (x^{(n)}_1, x^{(n)}_2, \\cdots, x^{(n)}_p) $$\n",
    "\n",
    "\n",
    "- 线性变换 $\\boldsymbol{W}$，将 $p$ 维特征空间，映射到 $q$ 维特征空间，对应的变换矩阵为 $p\\times q$ 维\n",
    "\n",
    "$$\\boldsymbol{z}^{(j)}=(x^{(j)}_1, x^{(j)}_2, \\cdots, x^{(j)}_p)\\boldsymbol{W}_{p\\times q}$$\n",
    "\n",
    "\n",
    "#### (2) 降维 —— 上述变换得到的新特征空间维数小于原特征空间的维数，即\n",
    "$$q\\lt p$$"
   ]
  },
  {
   "cell_type": "markdown",
   "metadata": {},
   "source": [
    "### 18.3.2 `PCA` 简介"
   ]
  },
  {
   "cell_type": "markdown",
   "metadata": {},
   "source": [
    "#### (1) 来历\n",
    "\n",
    "\n",
    "- 多元统计分析方法之一\n",
    "    - 对数据集进行简化\n",
    "    - 常用于减少数据集的维数\n",
    "    - 保持`数据集`中对`方差`贡献最大的`特征`\n",
    "\n",
    "\n",
    "- 发明者\n",
    "    - [卡尔·皮尔逊（Karl Pearson，1857年－1936年）](https://zh.wikipedia.org/wiki/%E5%8D%A1%E5%B0%94%C2%B7%E7%9A%AE%E5%B0%94%E9%80%8A)，英国数学家和自由思想家"
   ]
  },
  {
   "cell_type": "markdown",
   "metadata": {},
   "source": [
    "#### (2) `PCA` 的数学原理\n",
    "\n",
    "\n",
    "- 标准化数据集 —— 逐个特征\n",
    "\n",
    "$$\\boldsymbol{x}_i\\quad\\longleftarrow \\quad\\dfrac{\\boldsymbol{x}_i-\\bar{x}_i}{\\sigma_i}$$\n",
    "\n",
    "$$\\boldsymbol{X}=[\\boldsymbol{x}_1, \\boldsymbol{x}_2,\\cdots, \\boldsymbol{x}_p]_{n\\times p}$$\n",
    "\n",
    "- 构建所有特征的协方差矩阵 —— $p\\times p$ 的对称半正定矩阵\n",
    "\n",
    "$$\\boldsymbol{C}=\\boldsymbol{X}^T\\boldsymbol{X}$$\n",
    "\n",
    "- 求出协方差矩阵的特征值与特征向量\n",
    "    - 特征值  $\\lambda_1\\ge\\lambda_2\\ge\\cdots\\ge\\lambda_p$\n",
    "    - 特征向量   $v_1$、 $v_2$、$\\cdots$、$v_p$\n",
    "    \n",
    "\n",
    "- 取最大的 $q$ 个特征值对应的单位特征向量组成的 $p\\times q$ 矩阵\n",
    "$$\\boldsymbol{W} = [v_1,v_2,\\cdots,v_q]$$\n",
    "\n",
    "\n",
    "- 对于 $p$ 维特征样本数据 $\\boldsymbol{s}=[x_1, x_2, \\cdots, x_p]$，以 $\\boldsymbol{W}$ 进行特征变换，得到新的 $q$ 维特征样本数据集\n",
    "\n",
    "$$\\boldsymbol{z}=\\boldsymbol{s}\\boldsymbol{W}=[\\boldsymbol{s}\\cdot v_1,\\boldsymbol{s}\\cdot v_2,\\cdots,\\boldsymbol{s}\\cdot v_q]$$\n",
    "\n",
    "\n",
    "- 上式，即是将样本投影到新的 $q$ 维空间，以实现降维。"
   ]
  },
  {
   "cell_type": "markdown",
   "metadata": {},
   "source": [
    "#### (3) 理解 `PCA`  —— 是一种变换\n",
    "\n",
    "\n",
    "- 正交线性变换\n",
    "    - 将原样本数据集，变换到新特征坐标系中\n",
    "\n",
    "\n",
    "- 变换前样本数据集 —— 各特征之间可能具有一定程度的相关\n",
    "\n",
    "\n",
    "- 变换后样本数据集 —— 特征尽可能不相关\n",
    "    - 第一主成分 —— 具有最大方差的新特征\n",
    "    - 第二主成分 —— 具有第二大方差的新特征\n",
    "    - 依此类推"
   ]
  },
  {
   "cell_type": "markdown",
   "metadata": {},
   "source": [
    "#### (4) 理解 `PCA` —— 是一种降维\n",
    "\n",
    "\n",
    "- 变换后，新样本数据的特征数/维度\n",
    "    - 不超过原样本数据的特征数/维度\n",
    "\n",
    "\n",
    "- 通常只取少数特征分析\n",
    "    - 保留足够多的方差/变化/影响（可视着贡献）\n",
    "\n",
    "\n",
    "- `PCA`的能力\n",
    "    - 降低数据维度，避免维度魔咒\n",
    "    - 揭示数据结构的内涵\n",
    "    - 便于数据可视化（如二维散点图演示）\n",
    "\n",
    "\n",
    "- 思考\n",
    "    - 为什么要进行协方差矩阵的特征值排序？\n",
    "    - 为什么可以只取少数排在前面的新特征？\n",
    "    - ......"
   ]
  },
  {
   "cell_type": "markdown",
   "metadata": {},
   "source": [
    "#### (5) 理解 `PCA`  —— 是一种无监督学习方法\n",
    "\n",
    "\n",
    "- 无须目标标注\n",
    "- 仅依赖样本的特征本身"
   ]
  },
  {
   "cell_type": "markdown",
   "metadata": {},
   "source": [
    "#### (6)  现状 —— `PCA` 得到广泛的成功应用\n",
    "\n",
    "\n",
    "- 应用于\n",
    "    - 可视化 —— 高维图像投影到二维\n",
    "    - 特征选取 (Feature selection)\n",
    "    - 等"
   ]
  },
  {
   "cell_type": "markdown",
   "metadata": {},
   "source": [
    "## 18.4 考虑手写数字的聚类分析问题\n",
    "\n",
    "\n",
    "- 数据集 —— 1797 张手写数字图片\n",
    "    - 每张图片是一个手写数字\n",
    "    - $8\\times 8$ 像素点阵\n",
    "    - 64 维的特征 (人类没法可视化)\n",
    "\n",
    "\n",
    "- 示例 —— 图片之一\n",
    "<img src=\"images/one_digit.png\" />"
   ]
  },
  {
   "cell_type": "markdown",
   "metadata": {},
   "source": [
    "### 18.4.1 最初的数据集来历\n",
    "\n",
    "\n",
    "- 论文研究需要\n",
    "    - 作者 —— F. Alimoglu\n",
    "    - 标题 —— [Combining Multiple Classifiers for Pen-Based Handwritten Digit Recognition, MSc Thesis (硕士论文)](http://citeseerx.ist.psu.edu/viewdoc/download?doi=10.1.1.25.6299&rep=rep1&type=pdf)\n",
    "    - 机构 —— Institute of Graduate Studies in Science and Engineering, Bogazici University, Istanbul, Turkey\n",
    "    - 时期 —— 1996\n",
    "\n",
    "\n",
    "- 数据集收集\n",
    "    - 聘用 44 个写手\n",
    "    - 250 个数字样本\n",
    "\n",
    "\n",
    "- 数据集拆分\n",
    "    - 30 个写手的样本集\n",
    "        - 用于训练、交叉验证、测试（依赖写手）\n",
    "    - 14 个写手的样本集\n",
    "        - 用于与写手无关的测试\n",
    "\n",
    "\n",
    "- 后来\n",
    "    - 数据集得到扩充、修改、完善"
   ]
  },
  {
   "cell_type": "markdown",
   "metadata": {},
   "source": [
    "### 18.4.2 数据源\n",
    "\n",
    "\n",
    "- 链接\n",
    "    - [http://archive.ics.uci.edu/ml/datasets/Pen-Based+Recognition+of+Handwritten+Digits](http://archive.ics.uci.edu/ml/datasets/Pen-Based+Recognition+of+Handwritten+Digits)\n",
    "\n",
    "    - [http://scikit-learn.org/stable/auto_examples/datasets/plot_digits_last_image.html](http://scikit-learn.org/stable/auto_examples/datasets/plot_digits_last_image.html)"
   ]
  },
  {
   "cell_type": "markdown",
   "metadata": {},
   "source": [
    "### 18.4.3 导入模块并加载数据集"
   ]
  },
  {
   "cell_type": "markdown",
   "metadata": {},
   "source": [
    "#### (1) 导入模块"
   ]
  },
  {
   "cell_type": "code",
   "execution_count": 2,
   "metadata": {},
   "outputs": [
    {
     "name": "stdout",
     "output_type": "stream",
     "text": [
      "Populating the interactive namespace from numpy and matplotlib\n",
      "IPython version: 7.8.0\n",
      "numpy version: 1.19.5\n",
      "scikit-learn version: 0.24.1\n",
      "matplotlib version: 3.1.1\n"
     ]
    }
   ],
   "source": [
    "%pylab inline\n",
    "import IPython\n",
    "\n",
    "import sklearn as sk\n",
    "import numpy as np\n",
    "\n",
    "import matplotlib\n",
    "import matplotlib.pyplot as plt\n",
    "\n",
    "print ('IPython version:', IPython.__version__)\n",
    "print ('numpy version:', np.__version__)\n",
    "\n",
    "print ('scikit-learn version:', sk.__version__)\n",
    "print ('matplotlib version:', matplotlib.__version__)"
   ]
  },
  {
   "cell_type": "markdown",
   "metadata": {},
   "source": [
    "#### (2) 加载数据集"
   ]
  },
  {
   "cell_type": "markdown",
   "metadata": {},
   "source": [
    "- 语法\n",
    "```python\n",
    ">>> digits = sklearn.datasets.load_digits(n_class=10, return_X_y=False)\n",
    "```\n",
    "\n",
    "\n",
    "- 功能 —— 加载并返回数字数据集\n",
    "\n",
    "\n",
    "- 参数\n",
    "    - `n_class` —— 返回的分类数，介于 0 和 10 之间的整数，default=10\n",
    "    - `return_X_y` —— 布尔值，default=False\n",
    "        - True 返回 `(data, target)`\n",
    "        - False 返回成束特征"
   ]
  },
  {
   "cell_type": "code",
   "execution_count": 3,
   "metadata": {},
   "outputs": [],
   "source": [
    "from sklearn.datasets import load_digits\n",
    "digits = load_digits()"
   ]
  },
  {
   "cell_type": "markdown",
   "metadata": {},
   "source": [
    "### 18.4.4 探索性数据分析 `EDA` —— 象征性"
   ]
  },
  {
   "cell_type": "code",
   "execution_count": 4,
   "metadata": {},
   "outputs": [
    {
     "data": {
      "text/plain": [
       "{'data': array([[ 0.,  0.,  5., ...,  0.,  0.,  0.],\n",
       "        [ 0.,  0.,  0., ..., 10.,  0.,  0.],\n",
       "        [ 0.,  0.,  0., ..., 16.,  9.,  0.],\n",
       "        ...,\n",
       "        [ 0.,  0.,  1., ...,  6.,  0.,  0.],\n",
       "        [ 0.,  0.,  2., ..., 12.,  0.,  0.],\n",
       "        [ 0.,  0., 10., ..., 12.,  1.,  0.]]),\n",
       " 'target': array([0, 1, 2, ..., 8, 9, 8]),\n",
       " 'frame': None,\n",
       " 'feature_names': ['pixel_0_0',\n",
       "  'pixel_0_1',\n",
       "  'pixel_0_2',\n",
       "  'pixel_0_3',\n",
       "  'pixel_0_4',\n",
       "  'pixel_0_5',\n",
       "  'pixel_0_6',\n",
       "  'pixel_0_7',\n",
       "  'pixel_1_0',\n",
       "  'pixel_1_1',\n",
       "  'pixel_1_2',\n",
       "  'pixel_1_3',\n",
       "  'pixel_1_4',\n",
       "  'pixel_1_5',\n",
       "  'pixel_1_6',\n",
       "  'pixel_1_7',\n",
       "  'pixel_2_0',\n",
       "  'pixel_2_1',\n",
       "  'pixel_2_2',\n",
       "  'pixel_2_3',\n",
       "  'pixel_2_4',\n",
       "  'pixel_2_5',\n",
       "  'pixel_2_6',\n",
       "  'pixel_2_7',\n",
       "  'pixel_3_0',\n",
       "  'pixel_3_1',\n",
       "  'pixel_3_2',\n",
       "  'pixel_3_3',\n",
       "  'pixel_3_4',\n",
       "  'pixel_3_5',\n",
       "  'pixel_3_6',\n",
       "  'pixel_3_7',\n",
       "  'pixel_4_0',\n",
       "  'pixel_4_1',\n",
       "  'pixel_4_2',\n",
       "  'pixel_4_3',\n",
       "  'pixel_4_4',\n",
       "  'pixel_4_5',\n",
       "  'pixel_4_6',\n",
       "  'pixel_4_7',\n",
       "  'pixel_5_0',\n",
       "  'pixel_5_1',\n",
       "  'pixel_5_2',\n",
       "  'pixel_5_3',\n",
       "  'pixel_5_4',\n",
       "  'pixel_5_5',\n",
       "  'pixel_5_6',\n",
       "  'pixel_5_7',\n",
       "  'pixel_6_0',\n",
       "  'pixel_6_1',\n",
       "  'pixel_6_2',\n",
       "  'pixel_6_3',\n",
       "  'pixel_6_4',\n",
       "  'pixel_6_5',\n",
       "  'pixel_6_6',\n",
       "  'pixel_6_7',\n",
       "  'pixel_7_0',\n",
       "  'pixel_7_1',\n",
       "  'pixel_7_2',\n",
       "  'pixel_7_3',\n",
       "  'pixel_7_4',\n",
       "  'pixel_7_5',\n",
       "  'pixel_7_6',\n",
       "  'pixel_7_7'],\n",
       " 'target_names': array([0, 1, 2, 3, 4, 5, 6, 7, 8, 9]),\n",
       " 'images': array([[[ 0.,  0.,  5., ...,  1.,  0.,  0.],\n",
       "         [ 0.,  0., 13., ..., 15.,  5.,  0.],\n",
       "         [ 0.,  3., 15., ..., 11.,  8.,  0.],\n",
       "         ...,\n",
       "         [ 0.,  4., 11., ..., 12.,  7.,  0.],\n",
       "         [ 0.,  2., 14., ..., 12.,  0.,  0.],\n",
       "         [ 0.,  0.,  6., ...,  0.,  0.,  0.]],\n",
       " \n",
       "        [[ 0.,  0.,  0., ...,  5.,  0.,  0.],\n",
       "         [ 0.,  0.,  0., ...,  9.,  0.,  0.],\n",
       "         [ 0.,  0.,  3., ...,  6.,  0.,  0.],\n",
       "         ...,\n",
       "         [ 0.,  0.,  1., ...,  6.,  0.,  0.],\n",
       "         [ 0.,  0.,  1., ...,  6.,  0.,  0.],\n",
       "         [ 0.,  0.,  0., ..., 10.,  0.,  0.]],\n",
       " \n",
       "        [[ 0.,  0.,  0., ..., 12.,  0.,  0.],\n",
       "         [ 0.,  0.,  3., ..., 14.,  0.,  0.],\n",
       "         [ 0.,  0.,  8., ..., 16.,  0.,  0.],\n",
       "         ...,\n",
       "         [ 0.,  9., 16., ...,  0.,  0.,  0.],\n",
       "         [ 0.,  3., 13., ..., 11.,  5.,  0.],\n",
       "         [ 0.,  0.,  0., ..., 16.,  9.,  0.]],\n",
       " \n",
       "        ...,\n",
       " \n",
       "        [[ 0.,  0.,  1., ...,  1.,  0.,  0.],\n",
       "         [ 0.,  0., 13., ...,  2.,  1.,  0.],\n",
       "         [ 0.,  0., 16., ..., 16.,  5.,  0.],\n",
       "         ...,\n",
       "         [ 0.,  0., 16., ..., 15.,  0.,  0.],\n",
       "         [ 0.,  0., 15., ..., 16.,  0.,  0.],\n",
       "         [ 0.,  0.,  2., ...,  6.,  0.,  0.]],\n",
       " \n",
       "        [[ 0.,  0.,  2., ...,  0.,  0.,  0.],\n",
       "         [ 0.,  0., 14., ..., 15.,  1.,  0.],\n",
       "         [ 0.,  4., 16., ..., 16.,  7.,  0.],\n",
       "         ...,\n",
       "         [ 0.,  0.,  0., ..., 16.,  2.,  0.],\n",
       "         [ 0.,  0.,  4., ..., 16.,  2.,  0.],\n",
       "         [ 0.,  0.,  5., ..., 12.,  0.,  0.]],\n",
       " \n",
       "        [[ 0.,  0., 10., ...,  1.,  0.,  0.],\n",
       "         [ 0.,  2., 16., ...,  1.,  0.,  0.],\n",
       "         [ 0.,  0., 15., ..., 15.,  0.,  0.],\n",
       "         ...,\n",
       "         [ 0.,  4., 16., ..., 16.,  6.,  0.],\n",
       "         [ 0.,  8., 16., ..., 16.,  8.,  0.],\n",
       "         [ 0.,  1.,  8., ..., 12.,  1.,  0.]]]),\n",
       " 'DESCR': \".. _digits_dataset:\\n\\nOptical recognition of handwritten digits dataset\\n--------------------------------------------------\\n\\n**Data Set Characteristics:**\\n\\n    :Number of Instances: 1797\\n    :Number of Attributes: 64\\n    :Attribute Information: 8x8 image of integer pixels in the range 0..16.\\n    :Missing Attribute Values: None\\n    :Creator: E. Alpaydin (alpaydin '@' boun.edu.tr)\\n    :Date: July; 1998\\n\\nThis is a copy of the test set of the UCI ML hand-written digits datasets\\nhttps://archive.ics.uci.edu/ml/datasets/Optical+Recognition+of+Handwritten+Digits\\n\\nThe data set contains images of hand-written digits: 10 classes where\\neach class refers to a digit.\\n\\nPreprocessing programs made available by NIST were used to extract\\nnormalized bitmaps of handwritten digits from a preprinted form. From a\\ntotal of 43 people, 30 contributed to the training set and different 13\\nto the test set. 32x32 bitmaps are divided into nonoverlapping blocks of\\n4x4 and the number of on pixels are counted in each block. This generates\\nan input matrix of 8x8 where each element is an integer in the range\\n0..16. This reduces dimensionality and gives invariance to small\\ndistortions.\\n\\nFor info on NIST preprocessing routines, see M. D. Garris, J. L. Blue, G.\\nT. Candela, D. L. Dimmick, J. Geist, P. J. Grother, S. A. Janet, and C.\\nL. Wilson, NIST Form-Based Handprint Recognition System, NISTIR 5469,\\n1994.\\n\\n.. topic:: References\\n\\n  - C. Kaynak (1995) Methods of Combining Multiple Classifiers and Their\\n    Applications to Handwritten Digit Recognition, MSc Thesis, Institute of\\n    Graduate Studies in Science and Engineering, Bogazici University.\\n  - E. Alpaydin, C. Kaynak (1998) Cascading Classifiers, Kybernetika.\\n  - Ken Tang and Ponnuthurai N. Suganthan and Xi Yao and A. Kai Qin.\\n    Linear dimensionalityreduction using relevance weighted LDA. School of\\n    Electrical and Electronic Engineering Nanyang Technological University.\\n    2005.\\n  - Claudio Gentile. A New Approximate Maximal Margin Classification\\n    Algorithm. NIPS. 2000.\\n\"}"
      ]
     },
     "execution_count": 4,
     "metadata": {},
     "output_type": "execute_result"
    }
   ],
   "source": [
    "# 字典类型\n",
    "digits"
   ]
  },
  {
   "cell_type": "code",
   "execution_count": 5,
   "metadata": {},
   "outputs": [
    {
     "name": "stdout",
     "output_type": "stream",
     "text": [
      ".. _digits_dataset:\n",
      "\n",
      "Optical recognition of handwritten digits dataset\n",
      "--------------------------------------------------\n",
      "\n",
      "**Data Set Characteristics:**\n",
      "\n",
      "    :Number of Instances: 1797\n",
      "    :Number of Attributes: 64\n",
      "    :Attribute Information: 8x8 image of integer pixels in the range 0..16.\n",
      "    :Missing Attribute Values: None\n",
      "    :Creator: E. Alpaydin (alpaydin '@' boun.edu.tr)\n",
      "    :Date: July; 1998\n",
      "\n",
      "This is a copy of the test set of the UCI ML hand-written digits datasets\n",
      "https://archive.ics.uci.edu/ml/datasets/Optical+Recognition+of+Handwritten+Digits\n",
      "\n",
      "The data set contains images of hand-written digits: 10 classes where\n",
      "each class refers to a digit.\n",
      "\n",
      "Preprocessing programs made available by NIST were used to extract\n",
      "normalized bitmaps of handwritten digits from a preprinted form. From a\n",
      "total of 43 people, 30 contributed to the training set and different 13\n",
      "to the test set. 32x32 bitmaps are divided into nonoverlapping blocks of\n",
      "4x4 and the number of on pixels are counted in each block. This generates\n",
      "an input matrix of 8x8 where each element is an integer in the range\n",
      "0..16. This reduces dimensionality and gives invariance to small\n",
      "distortions.\n",
      "\n",
      "For info on NIST preprocessing routines, see M. D. Garris, J. L. Blue, G.\n",
      "T. Candela, D. L. Dimmick, J. Geist, P. J. Grother, S. A. Janet, and C.\n",
      "L. Wilson, NIST Form-Based Handprint Recognition System, NISTIR 5469,\n",
      "1994.\n",
      "\n",
      ".. topic:: References\n",
      "\n",
      "  - C. Kaynak (1995) Methods of Combining Multiple Classifiers and Their\n",
      "    Applications to Handwritten Digit Recognition, MSc Thesis, Institute of\n",
      "    Graduate Studies in Science and Engineering, Bogazici University.\n",
      "  - E. Alpaydin, C. Kaynak (1998) Cascading Classifiers, Kybernetika.\n",
      "  - Ken Tang and Ponnuthurai N. Suganthan and Xi Yao and A. Kai Qin.\n",
      "    Linear dimensionalityreduction using relevance weighted LDA. School of\n",
      "    Electrical and Electronic Engineering Nanyang Technological University.\n",
      "    2005.\n",
      "  - Claudio Gentile. A New Approximate Maximal Margin Classification\n",
      "    Algorithm. NIPS. 2000.\n",
      "\n"
     ]
    }
   ],
   "source": [
    "# 输出描述信息\n",
    "print(digits.DESCR)"
   ]
  },
  {
   "cell_type": "code",
   "execution_count": 6,
   "metadata": {},
   "outputs": [
    {
     "name": "stdout",
     "output_type": "stream",
     "text": [
      "dict_keys(['data', 'target', 'frame', 'feature_names', 'target_names', 'images', 'DESCR'])\n"
     ]
    }
   ],
   "source": [
    "# 字典 keys\n",
    "print (digits.keys())"
   ]
  },
  {
   "cell_type": "code",
   "execution_count": 7,
   "metadata": {},
   "outputs": [
    {
     "data": {
      "text/plain": [
       "((1797, 64), (1797, 8, 8), (1797,))"
      ]
     },
     "execution_count": 7,
     "metadata": {},
     "output_type": "execute_result"
    }
   ],
   "source": [
    "# 维度\n",
    "digits.data.shape, digits.images.shape, digits.target.shape"
   ]
  },
  {
   "cell_type": "code",
   "execution_count": 8,
   "metadata": {},
   "outputs": [
    {
     "data": {
      "text/plain": [
       "array([0, 1, 2, 3, 4, 5, 6, 7, 8, 9])"
      ]
     },
     "execution_count": 8,
     "metadata": {},
     "output_type": "execute_result"
    }
   ],
   "source": [
    "# 目标类别\n",
    "digits.target_names"
   ]
  },
  {
   "cell_type": "code",
   "execution_count": 9,
   "metadata": {},
   "outputs": [],
   "source": [
    "# 数据与目标\n",
    "X_digits, y_digits = digits.data, digits.target"
   ]
  },
  {
   "cell_type": "code",
   "execution_count": 10,
   "metadata": {},
   "outputs": [
    {
     "data": {
      "text/plain": [
       "array([[ 0.,  0.,  5., ...,  0.,  0.,  0.],\n",
       "       [ 0.,  0.,  0., ..., 10.,  0.,  0.],\n",
       "       [ 0.,  0.,  0., ..., 16.,  9.,  0.],\n",
       "       ...,\n",
       "       [ 0.,  0.,  1., ...,  6.,  0.,  0.],\n",
       "       [ 0.,  0.,  2., ..., 12.,  0.,  0.],\n",
       "       [ 0.,  0., 10., ..., 12.,  1.,  0.]])"
      ]
     },
     "execution_count": 10,
     "metadata": {},
     "output_type": "execute_result"
    }
   ],
   "source": [
    "X_digits"
   ]
  },
  {
   "cell_type": "code",
   "execution_count": 12,
   "metadata": {},
   "outputs": [
    {
     "data": {
      "text/plain": [
       "array([[ 0.,  0.,  5., ...,  0.,  0.,  0.],\n",
       "       [ 0.,  0.,  0., ..., 10.,  0.,  0.],\n",
       "       [ 0.,  0.,  0., ..., 16.,  9.,  0.],\n",
       "       ...,\n",
       "       [ 0.,  0.,  1., ...,  6.,  0.,  0.],\n",
       "       [ 0.,  0.,  2., ..., 12.,  0.,  0.],\n",
       "       [ 0.,  0., 10., ..., 12.,  1.,  0.]])"
      ]
     },
     "execution_count": 12,
     "metadata": {},
     "output_type": "execute_result"
    }
   ],
   "source": [
    "digits.data"
   ]
  },
  {
   "cell_type": "code",
   "execution_count": 11,
   "metadata": {},
   "outputs": [
    {
     "data": {
      "text/plain": [
       "array([[[ 0.,  0.,  5., ...,  1.,  0.,  0.],\n",
       "        [ 0.,  0., 13., ..., 15.,  5.,  0.],\n",
       "        [ 0.,  3., 15., ..., 11.,  8.,  0.],\n",
       "        ...,\n",
       "        [ 0.,  4., 11., ..., 12.,  7.,  0.],\n",
       "        [ 0.,  2., 14., ..., 12.,  0.,  0.],\n",
       "        [ 0.,  0.,  6., ...,  0.,  0.,  0.]],\n",
       "\n",
       "       [[ 0.,  0.,  0., ...,  5.,  0.,  0.],\n",
       "        [ 0.,  0.,  0., ...,  9.,  0.,  0.],\n",
       "        [ 0.,  0.,  3., ...,  6.,  0.,  0.],\n",
       "        ...,\n",
       "        [ 0.,  0.,  1., ...,  6.,  0.,  0.],\n",
       "        [ 0.,  0.,  1., ...,  6.,  0.,  0.],\n",
       "        [ 0.,  0.,  0., ..., 10.,  0.,  0.]],\n",
       "\n",
       "       [[ 0.,  0.,  0., ..., 12.,  0.,  0.],\n",
       "        [ 0.,  0.,  3., ..., 14.,  0.,  0.],\n",
       "        [ 0.,  0.,  8., ..., 16.,  0.,  0.],\n",
       "        ...,\n",
       "        [ 0.,  9., 16., ...,  0.,  0.,  0.],\n",
       "        [ 0.,  3., 13., ..., 11.,  5.,  0.],\n",
       "        [ 0.,  0.,  0., ..., 16.,  9.,  0.]],\n",
       "\n",
       "       ...,\n",
       "\n",
       "       [[ 0.,  0.,  1., ...,  1.,  0.,  0.],\n",
       "        [ 0.,  0., 13., ...,  2.,  1.,  0.],\n",
       "        [ 0.,  0., 16., ..., 16.,  5.,  0.],\n",
       "        ...,\n",
       "        [ 0.,  0., 16., ..., 15.,  0.,  0.],\n",
       "        [ 0.,  0., 15., ..., 16.,  0.,  0.],\n",
       "        [ 0.,  0.,  2., ...,  6.,  0.,  0.]],\n",
       "\n",
       "       [[ 0.,  0.,  2., ...,  0.,  0.,  0.],\n",
       "        [ 0.,  0., 14., ..., 15.,  1.,  0.],\n",
       "        [ 0.,  4., 16., ..., 16.,  7.,  0.],\n",
       "        ...,\n",
       "        [ 0.,  0.,  0., ..., 16.,  2.,  0.],\n",
       "        [ 0.,  0.,  4., ..., 16.,  2.,  0.],\n",
       "        [ 0.,  0.,  5., ..., 12.,  0.,  0.]],\n",
       "\n",
       "       [[ 0.,  0., 10., ...,  1.,  0.,  0.],\n",
       "        [ 0.,  2., 16., ...,  1.,  0.,  0.],\n",
       "        [ 0.,  0., 15., ..., 15.,  0.,  0.],\n",
       "        ...,\n",
       "        [ 0.,  4., 16., ..., 16.,  6.,  0.],\n",
       "        [ 0.,  8., 16., ..., 16.,  8.,  0.],\n",
       "        [ 0.,  1.,  8., ..., 12.,  1.,  0.]]])"
      ]
     },
     "execution_count": 11,
     "metadata": {},
     "output_type": "execute_result"
    }
   ],
   "source": [
    "digits.images"
   ]
  },
  {
   "cell_type": "markdown",
   "metadata": {},
   "source": [
    "## 18.5 `PCA` 分析工作"
   ]
  },
  {
   "cell_type": "markdown",
   "metadata": {},
   "source": [
    "### 18.5.1 图片显示\n",
    "\n",
    "\n",
    "- 关心图片长成什么样？\n",
    "\n",
    "\n",
    "- 调用自定义函数\n",
    "```python\n",
    ">>> print_digits(images, targets, max_n=10)\n",
    "```\n",
    "\n",
    "\n",
    "- 功能 —— 显示图片\n",
    "\n",
    "\n",
    "- 参数\n",
    "    - images —— 图片数组\n",
    "    - targets —— 目标数组"
   ]
  },
  {
   "cell_type": "code",
   "execution_count": 8,
   "metadata": {},
   "outputs": [],
   "source": [
    "n_row, n_col = 2, 5\n",
    "\n",
    "# 定义函数显示图片\n",
    "def print_digits(images, targets, max_n=10):\n",
    "    # 设置图片大小\n",
    "    fig = plt.figure(figsize=(2. * n_col, 2.26 * n_row)) # figsize = (width, height) 英寸为单位\n",
    "    i=0\n",
    "    while i < max_n and i < images.shape[0]:\n",
    "        p = fig.add_subplot(n_row, n_col, i + 1, xticks=[], yticks=[])\n",
    "        p.imshow(images[i], cmap=plt.cm.bone, interpolation='nearest')\n",
    "        # 用目标值进行标注\n",
    "        p.text(0, -1, str(targets[i]))\n",
    "        i = i + 1"
   ]
  },
  {
   "cell_type": "code",
   "execution_count": 11,
   "metadata": {
    "scrolled": false
   },
   "outputs": [
    {
     "data": {
      "image/png": "[encoded data removed]",
      "text/plain": [
       "<Figure size 720x325.44 with 10 Axes>"
      ]
     },
     "metadata": {},
     "output_type": "display_data"
    }
   ],
   "source": [
    "# 显示 10 张图片\n",
    "print_digits(digits.images, digits.target, max_n=10)"
   ]
  },
  {
   "cell_type": "markdown",
   "metadata": {},
   "source": [
    "### 18.5.2 绘制主成分的散点图\n",
    "\n",
    "\n",
    "- 函数\n",
    "```python\n",
    ">>> plot_pca_scatter(X_pca)\n",
    "```\n",
    "\n",
    "\n",
    "- 功能 —— 绘制主成分散点图\n",
    "\n",
    "\n",
    "- 参数\n",
    "    - `X_pca` 主成分样本集\n",
    "\n",
    "\n",
    "- 注意\n",
    "    - 若是有目标集，目标集不能参与主成分分析"
   ]
  },
  {
   "cell_type": "code",
   "execution_count": 12,
   "metadata": {},
   "outputs": [],
   "source": [
    "# 定义绘制散点图函数\n",
    "def plot_pca_scatter(X_pca):\n",
    "    # 10 种颜色\n",
    "    colors = ['black', 'blue', 'purple', 'yellow', 'green', 'red', 'lime', 'cyan', 'orange', 'gray']\n",
    "    # for 循环\n",
    "    for i in range(len(colors)):\n",
    "        px = X_pca[:, 0][y_digits == i]\n",
    "        py = X_pca[:, 1][y_digits == i]\n",
    "        plt.scatter(px, py, c=colors[i])\n",
    "\n",
    "    plt.legend(digits.target_names)\n",
    "    plt.xlabel('PC-1')\n",
    "    plt.ylabel('PC-2')"
   ]
  },
  {
   "cell_type": "markdown",
   "metadata": {},
   "source": [
    "### 18.5.3  创建 `PCA` 对象\n",
    "\n",
    "\n",
    "- `PCA` 变换要通过变换器对象来实现\n",
    "\n",
    "\n",
    "- 创建对象\n",
    "```python\n",
    ">>> PCA(n_components=None, copy=True, whiten=False, svd_solver='auto', tol=0.0, iterated_power='auto', random_state=None)\n",
    "```\n",
    "\n",
    "\n",
    "- 功能\n",
    "    - 创建 `PCA` 对象\n",
    "    - 采用奇异值分解将样本点投影到低维空间，实现降维\n",
    "\n",
    "\n",
    "- 参数\n",
    "    - `n_components` —— 保留的主成分数，如果不提供将保留全部成分\n",
    "    - `copy` —— 布尔值，缺省为 `True`，如果取 `False`，传入 `fit` 的数据将被覆盖\n",
    "    - `whiten` —— 布尔值，缺省为 `False`，如果取 `True`，对 `components_` 向量进行标准化处理\n",
    "    - `svd_solver` —— 奇异值分解求解器，若干可取值集合 {'auto', 'full', 'arpack', 'randomized'} \n",
    "    - `tol` —— 奇异值分解允许误差\n",
    "    - `random_state` —— 随机状态"
   ]
  },
  {
   "cell_type": "code",
   "execution_count": 13,
   "metadata": {},
   "outputs": [],
   "source": [
    "from sklearn.decomposition import PCA\n",
    "estimator = PCA(n_components=10) # 10个主成分"
   ]
  },
  {
   "cell_type": "code",
   "execution_count": 14,
   "metadata": {},
   "outputs": [
    {
     "data": {
      "text/plain": [
       "PCA(n_components=10)"
      ]
     },
     "execution_count": 14,
     "metadata": {},
     "output_type": "execute_result"
    }
   ],
   "source": [
    "estimator"
   ]
  },
  {
   "cell_type": "markdown",
   "metadata": {},
   "source": [
    "### 18.5.4 `PCA` 变换与显示\n",
    "\n",
    "\n",
    "- 变换 —— 调用 `fit_transform`\n",
    "- 显示 —— 调用 `plot_pca_scatter`"
   ]
  },
  {
   "cell_type": "code",
   "execution_count": 15,
   "metadata": {},
   "outputs": [],
   "source": [
    "X_pca = estimator.fit_transform(X_digits)"
   ]
  },
  {
   "cell_type": "code",
   "execution_count": 16,
   "metadata": {},
   "outputs": [
    {
     "data": {
      "text/plain": [
       "(1797, 10)"
      ]
     },
     "execution_count": 16,
     "metadata": {},
     "output_type": "execute_result"
    }
   ],
   "source": [
    "X_pca.shape  # 注意 X_digits 每个样本原来都有 64 个特征 （8,8）点阵"
   ]
  },
  {
   "cell_type": "code",
   "execution_count": 17,
   "metadata": {},
   "outputs": [
    {
     "data": {
      "text/plain": [
       "array([13.37562394, 12.79166294, 11.90418146, 10.05206998,  8.33513485,\n",
       "        7.6860658 ,  7.20104097,  6.63238139,  6.34725957,  6.08106361])"
      ]
     },
     "execution_count": 17,
     "metadata": {},
     "output_type": "execute_result"
    }
   ],
   "source": [
    "X_pca.std(axis=0)"
   ]
  },
  {
   "cell_type": "markdown",
   "metadata": {},
   "source": [
    "### 18.5.5 可视化分类 —— 10 种颜色\n",
    "\n",
    "\n",
    "- 关注\n",
    "    - `PCA` 是否揭示了数字分类？\n",
    "    - 是否清晰可分？"
   ]
  },
  {
   "cell_type": "code",
   "execution_count": 18,
   "metadata": {},
   "outputs": [
    {
     "data": {
      "image/png": "[encoded data removed]",
      "text/plain": [
       "<Figure size 432x288 with 1 Axes>"
      ]
     },
     "metadata": {
      "needs_background": "light"
     },
     "output_type": "display_data"
    }
   ],
   "source": [
    "# 先观察 X_digits\n",
    "plot_pca_scatter(X_digits) # 将把点阵数组的前两个当成前两个主成份，所以下图无实质意义"
   ]
  },
  {
   "cell_type": "code",
   "execution_count": 19,
   "metadata": {},
   "outputs": [
    {
     "data": {
      "image/png": "[encoded data removed]",
      "text/plain": [
       "<Figure size 432x288 with 1 Axes>"
      ]
     },
     "metadata": {
      "needs_background": "light"
     },
     "output_type": "display_data"
    }
   ],
   "source": [
    "# 仅观察 X_pca 的前两个主成分\n",
    "plot_pca_scatter(X_pca)"
   ]
  },
  {
   "cell_type": "code",
   "execution_count": 20,
   "metadata": {},
   "outputs": [
    {
     "data": {
      "text/plain": [
       "((1797, 64), (1797, 10))"
      ]
     },
     "execution_count": 20,
     "metadata": {},
     "output_type": "execute_result"
    }
   ],
   "source": [
    "X_digits.shape, X_pca.shape"
   ]
  },
  {
   "cell_type": "markdown",
   "metadata": {},
   "source": [
    "### 18.5.6 有趣的发现\n",
    "\n",
    "\n",
    "- 第一感\n",
    "    - 10 个数字呈现聚类现象\n",
    "    \n",
    "    \n",
    "- 细细看\n",
    "    - 多数情形 —— 按数字有分组，且聚类清晰\n",
    "    - 异常情况 —— 数字 5 在平面上分布比较散乱，与其它数字有重叠\n",
    "\n",
    "\n",
    "- 最好分辨的 —— `0`\n",
    "    - 清楚的与其它类别分开\n",
    "    - 可能是最好分辨的数字\n",
    "\n",
    "\n",
    "- 最难区分的 —— `9` 和 `3`\n",
    "    - 形状太相似\n",
    "\n",
    "\n",
    "- 体会一下区分\n",
    "    - 6 和 4\n",
    "    - 7 和 1\n",
    "\n",
    "\n",
    "- 数字 2 在哪里？"
   ]
  },
  {
   "cell_type": "markdown",
   "metadata": {},
   "source": [
    "### 18.5.7 进一步思考\n",
    "\n",
    "\n",
    "- 认识提高\n",
    "    - `PCA` 图对认识问题有帮助\n",
    "\n",
    "\n",
    "- `PCA` 可在进行分类识别训练前实施\n",
    "    - 有助于理解 可能面临的困难\n",
    "    - 可选择更好的 `特征预处理/特征选取` 方案\n",
    "    - 可选择更合适的学习模型\n",
    "    - 等\n",
    "\n",
    "\n",
    "- 降维的好处\n",
    "    - 避免维度魔咒\n",
    "    - 避免复杂分类算法，使用如线性模型之类的简单算法"
   ]
  },
  {
   "cell_type": "markdown",
   "metadata": {},
   "source": [
    "### 18.5.8 访问 `PCA` 对象\n",
    "\n",
    "\n",
    "#### (1) 获取成分属性\n",
    "\n",
    "- 每一个成分 (component) 都是一个矩阵，用于把原特征空间中的向量 (样本) 变换到新空间\n",
    "- 前面的主成分图中 —— 仅显示了两个主成分"
   ]
  },
  {
   "cell_type": "markdown",
   "metadata": {},
   "source": [
    "#### (2) 绘制所有的主成分\n",
    "\n",
    "\n",
    "- 调用自定义函数\n",
    "```python\n",
    ">>> print_pca_components(images, n_col, n_row)\n",
    "```"
   ]
  },
  {
   "cell_type": "code",
   "execution_count": null,
   "metadata": {},
   "outputs": [],
   "source": [
    "# 输出主成分\n",
    "def print_pca_components(images, n_col, n_row):\n",
    "    plt.figure(figsize=(2. * n_col, 2.26 * n_row))\n",
    "    for i, comp in enumerate(images):\n",
    "        plt.subplot(n_row, n_col, i + 1)\n",
    "        plt.imshow(comp.reshape((8, 8)), interpolation='nearest')\n",
    "        plt.text(0, -1, str(i + 1) + '-component')\n",
    "        plt.xticks(())\n",
    "        plt.yticks(())"
   ]
  },
  {
   "cell_type": "markdown",
   "metadata": {},
   "source": [
    "- 看一下 `PCA` 对象 `estimator` 有些什么内容？"
   ]
  },
  {
   "cell_type": "code",
   "execution_count": null,
   "metadata": {},
   "outputs": [],
   "source": [
    "dir(estimator)"
   ]
  },
  {
   "cell_type": "markdown",
   "metadata": {},
   "source": [
    "- 看一下 components_ 的维度"
   ]
  },
  {
   "cell_type": "code",
   "execution_count": null,
   "metadata": {},
   "outputs": [],
   "source": [
    "estimator.components_.shape"
   ]
  },
  {
   "cell_type": "markdown",
   "metadata": {},
   "source": [
    "- 以图像方式输出 components_ 的 10 个元素 —— 每个元素都呈现一幅 $8\\times 8$ 的图片"
   ]
  },
  {
   "cell_type": "code",
   "execution_count": null,
   "metadata": {},
   "outputs": [],
   "source": [
    "print_pca_components(estimator.components_, n_col, n_row)"
   ]
  },
  {
   "cell_type": "markdown",
   "metadata": {},
   "source": [
    "#### (3)  `components_` 与 `PCA` 的关系\n",
    "\n",
    "\n",
    "- 新图片 —— 由 `components_` 计算其主成分\n",
    "    - 第 $i$ 个 `components_` 与新图片进行点积，就得到该图片的第 $i$ 个主成分坐标\n",
    "\n",
    "\n",
    "- 点积\n",
    "    $64$ 个像素逐个相乘并相加"
   ]
  },
  {
   "cell_type": "markdown",
   "metadata": {},
   "source": [
    "#### (4) 观察前 2 个主成分\n",
    "\n",
    "\n",
    "- 第 1 个主成分\n",
    "    - 应该最方便区分 `3` 和 `4`\n",
    "    - 注意在散点图中， 3 和 4 分别位于最左和最右\n",
    "\n",
    "\n",
    "- 第 2 个主成分中间高亮\n",
    "    - 最大影响应来自 `0`\n",
    "    - 因其中间部分几乎是空的"
   ]
  },
  {
   "cell_type": "markdown",
   "metadata": {},
   "source": [
    "#### (5)  其它主成分\n",
    "\n",
    "\n",
    "- 仅前 2 个主成分，不一定能轻易看出适用于分辨哪个数字！\n",
    "- 要采用更多的主成分\n",
    "    - 获取更多的特征，来分辩数字\n",
    "    \n",
    "    \n",
    "- 例如\n",
    "    - 采用第 3 个主成分\n",
    "    - 试图画出三维散点图"
   ]
  },
  {
   "cell_type": "markdown",
   "metadata": {},
   "source": [
    "### 第18讲 结束"
   ]
  },
  {
   "cell_type": "markdown",
   "metadata": {},
   "source": [
    "### 预告 19 —— 基于 K-means 的手写数字聚类分析\n",
    "\n",
    "\n",
    "- 聚类分析方法\n",
    "    - 类似于降维方法，也是无监督学习方法\n",
    "    - 可用于分组\n",
    "    - 可预先采用 `PCA` 改善可视化效果"
   ]
  }
 ],
 "metadata": {
  "kernelspec": {
   "display_name": "Python 3",
   "language": "python",
   "name": "python3"
  },
  "language_info": {
   "codemirror_mode": {
    "name": "ipython",
    "version": 3
   },
   "file_extension": ".py",
   "mimetype": "text/x-python",
   "name": "python",
   "nbconvert_exporter": "python",
   "pygments_lexer": "ipython3",
   "version": "3.7.4"
  }
 },
 "nbformat": 4,
 "nbformat_minor": 1
}
