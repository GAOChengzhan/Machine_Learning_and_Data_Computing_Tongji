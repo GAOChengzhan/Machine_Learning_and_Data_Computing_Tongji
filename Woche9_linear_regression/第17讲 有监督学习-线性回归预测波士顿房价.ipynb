{
 "cells": [
  {
   "cell_type": "markdown",
   "metadata": {},
   "source": [
    "# 17 有监督学习 - 线性<font color=\"red\">回归</font>预测 `Boston` 房价"
   ]
  },
  {
   "cell_type": "markdown",
   "metadata": {},
   "source": [
    "## 17.1 引言"
   ]
  },
  {
   "cell_type": "markdown",
   "metadata": {},
   "source": [
    "### 17.1.1 分类问题回顾\n",
    "\n",
    "\n",
    "- 回顾分类识别 —— 预测目标属于离散集合，如\n",
    "    - 鸢尾花 3 分类预测\n",
    "    - Titanic 号乘客生还或遇难 2 分类预测\n",
    "    - 人脸识别 40 人分类，戴眼镜判断 2 分类\n",
    "    - 新闻组识别 20 分类\n",
    "\n",
    "\n",
    "- 回归问题 —— 无限连续分类问题，特点是\n",
    "    - 非离散分类\n",
    "    - 目标值在连续区间上分布\n",
    "    - 目标是特征的（非离散）函数\n",
    "\n",
    "\n",
    "- 本讲重点\n",
    "    - 线性回归 —— 简单的回归模型"
   ]
  },
  {
   "cell_type": "markdown",
   "metadata": {},
   "source": [
    "### 17.1.2 导入模块"
   ]
  },
  {
   "cell_type": "code",
   "execution_count": 1,
   "metadata": {},
   "outputs": [
    {
     "name": "stdout",
     "output_type": "stream",
     "text": [
      "Populating the interactive namespace from numpy and matplotlib\n",
      "IPython version: 7.8.0\n",
      "pandas version: 0.25.1\n",
      "numpy version: 1.16.5\n",
      "scikit-learn version: 0.24.1\n",
      "matplotlib version: 3.1.1\n"
     ]
    }
   ],
   "source": [
    "%pylab inline\n",
    "\n",
    "import IPython\n",
    "import sklearn as sk\n",
    "\n",
    "import pandas as pd\n",
    "\n",
    "import numpy as np\n",
    "import matplotlib\n",
    "import matplotlib.pyplot as plt\n",
    "\n",
    "print ('IPython version:', IPython.__version__)\n",
    "print ('pandas version:', pd.__version__)\n",
    "print ('numpy version:', np.__version__)\n",
    "print ('scikit-learn version:', sk.__version__)\n",
    "print ('matplotlib version:', matplotlib.__version__)"
   ]
  },
  {
   "cell_type": "markdown",
   "metadata": {},
   "source": [
    "## 17.2 简介 —— 机器学习中的线性回归\n",
    "\n",
    "\n",
    "- 机器学习中的线性回归 —— 来自于统计分析"
   ]
  },
  {
   "cell_type": "markdown",
   "metadata": {},
   "source": [
    "### 17.2.1 一元线性回归\n",
    "\n",
    "\n",
    "- 给定数据集\n",
    "$$D=\\{(x_1; y_1), (x_2; y_2),\\cdots \\}$$\n",
    "\n",
    "\n",
    "- 试图学习此数据集，得到一个线性模型\n",
    "    $$\\hat{y} = b + wx$$\n",
    "\n",
    "\n",
    "- 使该模型尽可能准确的反映 $x_i$ 和 $y_i$ 的关系\n",
    "\n",
    "\n",
    "- 一元线性回归问题归结为求参数 $b, w$，使\n",
    "$$J=\\sum_\\limits{i=1}^n{\\left[y_i-\\hat{y}_i\\right]^2}=\\sum_\\limits{i=1}^n{\\left[y_i-(b+wx_i)\\right]^2}$$\n",
    "取最小值\n",
    "\n",
    "\n",
    "- 回归后的系数可通过回归器的如下参数属性获得\n",
    "    - `coef_` —— $w$\n",
    "    - `intercept_` —— $b$"
   ]
  },
  {
   "cell_type": "markdown",
   "metadata": {},
   "source": [
    "### 17.2.2 多元线性回归\n",
    "\n",
    "\n",
    "- 给定数据集\n",
    "$$D=\\{(x^{(1)}_1, x^{(1)}_2,\\cdots, x^{(1)}_n; y_1), (x^{(2)}_1, x^{(2)}_2,\\cdots, x^{(2)}_n; y_2),\\cdots,  (x^{(m)}_1, x^{(m)}_2,\\cdots, x^{(m)}_n; y_m) \\}$$\n",
    "\n",
    "\n",
    "- 试图学习此数据集，得到一个线性模型\n",
    "    $$\\hat{y} = b + w_1x_1 + w_2x_2 + \\cdots + w_nx_n$$\n",
    "    或\n",
    "    $$\\hat{y} = b + \\rm{W}^T\\mathbf{x}$$\n",
    "    其中\n",
    "    $$\\rm{W} = (w_1, w_2, \\cdots, w_n)^T$$\n",
    "    $$\\rm{x} = (x_1, x_2, \\cdots, x_n)^T$$\n",
    "\n",
    "\n",
    "- 使该模型尽可能准确的反映 $\\mathbf{x}^{(i)}=(x^{(i)}_1, x^{(i)}_2,\\cdots, x^{(i)}_n)$ 和 $y_i$ 的关系\n",
    "\n",
    "\n",
    "- 多元线性回归问题归结为求参数 $b, w_1, w_2, \\cdots, w_n$，使\n",
    "$$\n",
    "J=\\sum_\\limits{i=1}^m{\\left[y_i-\\hat{y}_i\\right]^2}=\\sum_\\limits{i=1}^m{\\left[y_i-(b+\\rm{W}^T\\mathbf{x}^{(i)})\\right]^2}\n",
    "=\\sum_\\limits{i=1}^m{\\left[y_i-(b + w_1x^{(i)}_1 + w_2x^{(i)}_2 + \\cdots + w_nx^{(i)}_n)\\right]^2}\n",
    "$$\n",
    "取最小值\n",
    "\n",
    "\n",
    "- 回归后的系数（向量）可通过回归器的如下参数属性获得\n",
    "    - `coef_` —— $w_1, w_2, \\cdots, w_n$\n",
    "    - `intercept_` —— $b$"
   ]
  },
  {
   "cell_type": "markdown",
   "metadata": {},
   "source": [
    "### 17.2.3 多项式线性回归"
   ]
  },
  {
   "cell_type": "markdown",
   "metadata": {},
   "source": [
    "#### (1) 一元 $n$ 次多项式回归\n",
    "\n",
    "\n",
    "- 构建模型\n",
    "$$\\hat{y} = w_0 + w_1x + w_2x^2 + \\cdots + w_nx^n$$"
   ]
  },
  {
   "cell_type": "markdown",
   "metadata": {},
   "source": [
    "#### (2) 二元 2 次多项式回归\n",
    "\n",
    "\n",
    "- 构建模型\n",
    "$$\\hat{y} = w_0 + w_1x_1 + w_2x_2 + w_3x_1^2 + w_4x_1x_2 + w_5x_2^2$$"
   ]
  },
  {
   "cell_type": "markdown",
   "metadata": {},
   "source": [
    "#### (3) 多项式回归的优缺点\n",
    "\n",
    "\n",
    "- 优点 —— 可以通过增加 $x$ 的高次项对实测点进行逼近，直至满意为止\n",
    "- 缺点 —— 随着自变量数量的增加，多元多项式回归分析的计算量急剧增加"
   ]
  },
  {
   "cell_type": "markdown",
   "metadata": {},
   "source": [
    "#### (4) 注意\n",
    "\n",
    "\n",
    "- 多元多项式回归<font color=\"red\"> 本质上不是 多元线性回归</font>\n",
    "    - 某特征的不同幂次并不是相互独立的\n",
    "    - 当参数在小区间内变化时，可以近似当成多元线性回归   "
   ]
  },
  {
   "cell_type": "markdown",
   "metadata": {},
   "source": [
    "#### (5) 优化问题\n",
    "\n",
    "\n",
    "- 线性回归问题 —— 本质上都可化为优化问题求解\n",
    "\n",
    "\n",
    "- 常用方法\n",
    "    - 驻值解法\n",
    "    - Lagrange 乘子法\n",
    "    - 最小二乘法\n",
    "    - 动态规划方法\n",
    "    - 梯度下降法，及其变异：批量梯度下降、随机梯度下降、共轭梯度下降"
   ]
  },
  {
   "cell_type": "markdown",
   "metadata": {},
   "source": [
    "### 17.2.4 梯度下降法"
   ]
  },
  {
   "cell_type": "markdown",
   "metadata": {},
   "source": [
    "#### (1) 基本原理\n",
    "\n",
    "\n",
    "- 多元函数 $f(\\mathbf{x}) = f(x_1,x_2,\\cdots,x_n)$ 定义在空间 $\\rm{R}^n$ 中\n",
    "\n",
    "\n",
    "- 梯度定义\n",
    "$$\\nabla f = \\left(\\dfrac{\\partial f}{\\partial x_1}, \\dfrac{\\partial f}{\\partial x_2}, \\cdots, \\dfrac{\\partial f}{\\partial x_n}\\right)$$\n",
    "\n",
    "\n",
    "- 方向导数\n",
    "    $$\n",
    "    \\dfrac{\\partial f}{\\partial\\mathbf{l}}=\n",
    "    \\sum_\\limits{i=1}^n{l_i\\dfrac{\\partial f}{\\partial x_i}}=\\mathbf{l}\\cdot\\nabla f\n",
    "    $$\n",
    "    这里，$\\mathbf{l}=(l_1, l_2, \\cdots, l_n)$ 为单位方向矢量\n",
    "    \n",
    "\n",
    "- 利用柯西不等式\n",
    "    $$\n",
    "    \\left|\\dfrac{\\partial f}{\\partial\\mathbf{l}}\\right|\\le \\|\\mathbf{l}\\|_2\\times\\|\\nabla f\\|_2\n",
    "    = \\|\\nabla f\\|_2\n",
    "    =\\sqrt{\\left(\\dfrac{\\partial f}{\\partial x_1}\\right)^2+\\left(\\dfrac{\\partial f}{\\partial x_2}\\right)^2\n",
    "    +\\cdots+\\left(\\dfrac{\\partial f}{\\partial x_n}\\right)^2}\n",
    "    $$\n",
    "    其中，等式成立等价于 $\\mathbf{l}$ 和 $\\nabla f$ 平行\n",
    "\n",
    "\n",
    "- 梯度定理\n",
    "    - 当方向矢量 $\\mathbf{l}$ 与梯度 $\\nabla f$ 同方向时，即 $\\mathbf{l} = \\dfrac{\\nabla f}{\\|\\nabla f\\|_2}$ 时，方向导数取得最大值 $\\|\\nabla f\\|_2$\n",
    "    \n",
    "    - 而当方向矢量 $\\mathbf{l}$ 与梯度 $\\nabla f$ 反方向时，即 $\\mathbf{l} = -\\dfrac{\\nabla f}{\\|\\nabla f\\|_2}$ 时，方向导数取得最小值 $-\\|\\nabla f\\|_2$ \n",
    "    \n",
    "    \n",
    "- 简言之\n",
    "    - 沿梯度方向，函数值 $f(\\mathbf{x})$ 增加最快\n",
    "    - <font color=\"red\">逆梯度方向，函数值 $f(\\mathbf{x})$ 减少最快</font>"
   ]
  },
  {
   "cell_type": "markdown",
   "metadata": {},
   "source": [
    "#### (2) 梯度下降法的计算步骤\n",
    "\n",
    "<div style=\"width:900px;\">\n",
    "    <div style=\"float:right; clear: both;\" align=\"center\">\n",
    "    <img src=\"images\\800px-Gradient_descent.svg.png\" width=\"360\" alt=\"\" hspace=\"20\">\n",
    "         梯度下降法计算步骤示意图（取自<a href=\"https://en.wikipedia.org/wiki/Gradient_descent\">维基百科</a>）\n",
    "    </div>\n",
    "\n",
    "\n",
    "- 示意图\n",
    "    - 函数 $f(\\mathbf{x})$ 的等高线图\n",
    "    - 中心点是最小值点\n",
    "    - 逼近过程\n",
    "\n",
    "\n",
    "- 优化问题 —— 寻找点坐标 $\\mathbf{x^*}=(x^*_1, x^*_2, \\cdots, x^*_n)$，以使\n",
    "\n",
    "\n",
    "$$f(\\mathbf{x^*})=\\min_{\\mathbf{x}} f(\\mathbf{x})$$\n",
    "\n",
    "\n",
    "- 给出试探解 $\\mathbf{x_{0}}=(x_{01}, x_{02}, \\cdots, x_{0n})$\n",
    "\n",
    "\n",
    "- 由梯度定理，沿着梯度下降方向，逐步逼近\n",
    "\n",
    "\n",
    "$$\n",
    "\\mathbf{x}_{k+1} = \\mathbf{x}_{k}-\\alpha_k\\nabla f(\\mathbf{x}_{k}),\\quad k=0,1,2,\\cdots\n",
    "$$\n",
    "\n",
    "\n",
    "- 其中\n",
    "    - $\\mathbf{x_{0}}=(x_{01}, x_{02}, \\cdots, x_{0n})$ 是起始点\n",
    "    - $\\alpha_k$ 是第 $k$ 步的学习率(learning rate)，控制收敛速度\n",
    "\n",
    "\n",
    "- 参数 $\\alpha_k$ 的注意事项\n",
    "    - 取正值，指向下降的方向\n",
    "    - 取太大，有可能不稳定\n",
    "    - 取太小，有可能收敛慢\n",
    "</div>"
   ]
  },
  {
   "cell_type": "markdown",
   "metadata": {},
   "source": [
    "## 17.3 `Boston` 房价数据集 (Boston House Pricing Dataset)\n",
    "\n",
    "\n",
    "- `Boston`\n",
    "    - 美国 `Massachusetts` 州的首府和最大城市，位于东北部大西洋沿岸\n",
    "    - 上世纪 70～80 年代，曾面临严重污染"
   ]
  },
  {
   "cell_type": "markdown",
   "metadata": {},
   "source": [
    "### 17.3.1 数据集的产生\n",
    "\n",
    "\n",
    "- 美国人口调查局 (United States Census Bureau) 最早于1978年收集\n",
    "    - 包含麻省波士顿市住房价格的有关信息\n",
    "    - 数据集有506个案例"
   ]
  },
  {
   "cell_type": "markdown",
   "metadata": {},
   "source": [
    "### 17.3.2 数据集引起重视 —— 用于环境经济研究\n",
    "\n",
    "\n",
    "- 1978 年的一篇论文，采用了 `Boston` 房价数据集进行分析\n",
    "    - 关注重点\n",
    "        - 空气质量下降对人类健康、农作物生长、材料退变、财富贬值等的影响\n",
    "        - 人们买房愿意为清洁空气付钱吗？\n",
    "    - 资助机构 —— 美国国家经济研究局 (NBER, National Bureau of Economics Research) \n",
    "\n",
    "\n",
    "- 论文信息 ([访问链接](https://www.sciencedirect.com/science/article/abs/pii/0095069678900062))\n",
    "    - 作者 —— David Harrison Jr. 和 Daniel L Rubinfeld\n",
    "    - 标题 —— Hedonic prices and the demand for clean air\n",
    "    - 期刊 —— Journal of Environmental Economics and Management, Volume 5, Issue 1, March 1978, Pages 81-102"
   ]
  },
  {
   "cell_type": "markdown",
   "metadata": {},
   "source": [
    "### 17.3.3 数据集受到持续关注\n",
    "\n",
    "\n",
    "- 成为案例\n",
    "    - 大量研究、分析、算法使用它的数据\n",
    "    \n",
    "    \n",
    "- 成为基准 (benchmark)\n",
    "\n",
    "\n",
    "- 得到修正 —— Gilley, O.W., and R. Kelley Pace\n",
    "    - 更正部分错误\n",
    "    - 引入经度纬度"
   ]
  },
  {
   "cell_type": "markdown",
   "metadata": {},
   "source": [
    "### 17.3.4 数据源\n",
    "\n",
    "\n",
    "- [http://lib.stat.cmu.edu/datasets/](http://lib.stat.cmu.edu/datasets/)\n",
    "- [http://www.cs.toronto.edu/~delve/data/boston/bostonDetail.html](http://www.cs.toronto.edu/~delve/data/boston/bostonDetail.html)\n",
    "- [https://archive.ics.uci.edu/ml/machine-learning-databases/housing/](https://archive.ics.uci.edu/ml/machine-learning-databases/housing/)"
   ]
  },
  {
   "cell_type": "markdown",
   "metadata": {},
   "source": [
    "## 17.4 准备数据"
   ]
  },
  {
   "cell_type": "markdown",
   "metadata": {},
   "source": [
    "### 17.4.1 导入 —— 波士顿房价数据集\n",
    "\n",
    "\n",
    "- 语法\n",
    "```python\n",
    ">>> sklearn.datasets.load_boston(return_X_y=False)\n",
    "```\n",
    "\n",
    "\n",
    "- 功能 —— 加载返回波士顿房价数据集\n",
    "\n",
    "\n",
    "- 参数\n",
    "    - return_X_y 布尔型，缺省='False'\n",
    "        - 如果 `True`，返回 `(data, target)`\n",
    "        - 如果 `False` 返回 `data` 类字典成批数据"
   ]
  },
  {
   "cell_type": "code",
   "execution_count": 2,
   "metadata": {},
   "outputs": [],
   "source": [
    "from sklearn.datasets import load_boston\n",
    "boston = load_boston()"
   ]
  },
  {
   "cell_type": "markdown",
   "metadata": {},
   "source": [
    "### 17.4.2 查看数据"
   ]
  },
  {
   "cell_type": "code",
   "execution_count": 3,
   "metadata": {},
   "outputs": [
    {
     "data": {
      "text/plain": [
       "{'data': array([[6.3200e-03, 1.8000e+01, 2.3100e+00, ..., 1.5300e+01, 3.9690e+02,\n",
       "         4.9800e+00],\n",
       "        [2.7310e-02, 0.0000e+00, 7.0700e+00, ..., 1.7800e+01, 3.9690e+02,\n",
       "         9.1400e+00],\n",
       "        [2.7290e-02, 0.0000e+00, 7.0700e+00, ..., 1.7800e+01, 3.9283e+02,\n",
       "         4.0300e+00],\n",
       "        ...,\n",
       "        [6.0760e-02, 0.0000e+00, 1.1930e+01, ..., 2.1000e+01, 3.9690e+02,\n",
       "         5.6400e+00],\n",
       "        [1.0959e-01, 0.0000e+00, 1.1930e+01, ..., 2.1000e+01, 3.9345e+02,\n",
       "         6.4800e+00],\n",
       "        [4.7410e-02, 0.0000e+00, 1.1930e+01, ..., 2.1000e+01, 3.9690e+02,\n",
       "         7.8800e+00]]),\n",
       " 'target': array([24. , 21.6, 34.7, 33.4, 36.2, 28.7, 22.9, 27.1, 16.5, 18.9, 15. ,\n",
       "        18.9, 21.7, 20.4, 18.2, 19.9, 23.1, 17.5, 20.2, 18.2, 13.6, 19.6,\n",
       "        15.2, 14.5, 15.6, 13.9, 16.6, 14.8, 18.4, 21. , 12.7, 14.5, 13.2,\n",
       "        13.1, 13.5, 18.9, 20. , 21. , 24.7, 30.8, 34.9, 26.6, 25.3, 24.7,\n",
       "        21.2, 19.3, 20. , 16.6, 14.4, 19.4, 19.7, 20.5, 25. , 23.4, 18.9,\n",
       "        35.4, 24.7, 31.6, 23.3, 19.6, 18.7, 16. , 22.2, 25. , 33. , 23.5,\n",
       "        19.4, 22. , 17.4, 20.9, 24.2, 21.7, 22.8, 23.4, 24.1, 21.4, 20. ,\n",
       "        20.8, 21.2, 20.3, 28. , 23.9, 24.8, 22.9, 23.9, 26.6, 22.5, 22.2,\n",
       "        23.6, 28.7, 22.6, 22. , 22.9, 25. , 20.6, 28.4, 21.4, 38.7, 43.8,\n",
       "        33.2, 27.5, 26.5, 18.6, 19.3, 20.1, 19.5, 19.5, 20.4, 19.8, 19.4,\n",
       "        21.7, 22.8, 18.8, 18.7, 18.5, 18.3, 21.2, 19.2, 20.4, 19.3, 22. ,\n",
       "        20.3, 20.5, 17.3, 18.8, 21.4, 15.7, 16.2, 18. , 14.3, 19.2, 19.6,\n",
       "        23. , 18.4, 15.6, 18.1, 17.4, 17.1, 13.3, 17.8, 14. , 14.4, 13.4,\n",
       "        15.6, 11.8, 13.8, 15.6, 14.6, 17.8, 15.4, 21.5, 19.6, 15.3, 19.4,\n",
       "        17. , 15.6, 13.1, 41.3, 24.3, 23.3, 27. , 50. , 50. , 50. , 22.7,\n",
       "        25. , 50. , 23.8, 23.8, 22.3, 17.4, 19.1, 23.1, 23.6, 22.6, 29.4,\n",
       "        23.2, 24.6, 29.9, 37.2, 39.8, 36.2, 37.9, 32.5, 26.4, 29.6, 50. ,\n",
       "        32. , 29.8, 34.9, 37. , 30.5, 36.4, 31.1, 29.1, 50. , 33.3, 30.3,\n",
       "        34.6, 34.9, 32.9, 24.1, 42.3, 48.5, 50. , 22.6, 24.4, 22.5, 24.4,\n",
       "        20. , 21.7, 19.3, 22.4, 28.1, 23.7, 25. , 23.3, 28.7, 21.5, 23. ,\n",
       "        26.7, 21.7, 27.5, 30.1, 44.8, 50. , 37.6, 31.6, 46.7, 31.5, 24.3,\n",
       "        31.7, 41.7, 48.3, 29. , 24. , 25.1, 31.5, 23.7, 23.3, 22. , 20.1,\n",
       "        22.2, 23.7, 17.6, 18.5, 24.3, 20.5, 24.5, 26.2, 24.4, 24.8, 29.6,\n",
       "        42.8, 21.9, 20.9, 44. , 50. , 36. , 30.1, 33.8, 43.1, 48.8, 31. ,\n",
       "        36.5, 22.8, 30.7, 50. , 43.5, 20.7, 21.1, 25.2, 24.4, 35.2, 32.4,\n",
       "        32. , 33.2, 33.1, 29.1, 35.1, 45.4, 35.4, 46. , 50. , 32.2, 22. ,\n",
       "        20.1, 23.2, 22.3, 24.8, 28.5, 37.3, 27.9, 23.9, 21.7, 28.6, 27.1,\n",
       "        20.3, 22.5, 29. , 24.8, 22. , 26.4, 33.1, 36.1, 28.4, 33.4, 28.2,\n",
       "        22.8, 20.3, 16.1, 22.1, 19.4, 21.6, 23.8, 16.2, 17.8, 19.8, 23.1,\n",
       "        21. , 23.8, 23.1, 20.4, 18.5, 25. , 24.6, 23. , 22.2, 19.3, 22.6,\n",
       "        19.8, 17.1, 19.4, 22.2, 20.7, 21.1, 19.5, 18.5, 20.6, 19. , 18.7,\n",
       "        32.7, 16.5, 23.9, 31.2, 17.5, 17.2, 23.1, 24.5, 26.6, 22.9, 24.1,\n",
       "        18.6, 30.1, 18.2, 20.6, 17.8, 21.7, 22.7, 22.6, 25. , 19.9, 20.8,\n",
       "        16.8, 21.9, 27.5, 21.9, 23.1, 50. , 50. , 50. , 50. , 50. , 13.8,\n",
       "        13.8, 15. , 13.9, 13.3, 13.1, 10.2, 10.4, 10.9, 11.3, 12.3,  8.8,\n",
       "         7.2, 10.5,  7.4, 10.2, 11.5, 15.1, 23.2,  9.7, 13.8, 12.7, 13.1,\n",
       "        12.5,  8.5,  5. ,  6.3,  5.6,  7.2, 12.1,  8.3,  8.5,  5. , 11.9,\n",
       "        27.9, 17.2, 27.5, 15. , 17.2, 17.9, 16.3,  7. ,  7.2,  7.5, 10.4,\n",
       "         8.8,  8.4, 16.7, 14.2, 20.8, 13.4, 11.7,  8.3, 10.2, 10.9, 11. ,\n",
       "         9.5, 14.5, 14.1, 16.1, 14.3, 11.7, 13.4,  9.6,  8.7,  8.4, 12.8,\n",
       "        10.5, 17.1, 18.4, 15.4, 10.8, 11.8, 14.9, 12.6, 14.1, 13. , 13.4,\n",
       "        15.2, 16.1, 17.8, 14.9, 14.1, 12.7, 13.5, 14.9, 20. , 16.4, 17.7,\n",
       "        19.5, 20.2, 21.4, 19.9, 19. , 19.1, 19.1, 20.1, 19.9, 19.6, 23.2,\n",
       "        29.8, 13.8, 13.3, 16.7, 12. , 14.6, 21.4, 23. , 23.7, 25. , 21.8,\n",
       "        20.6, 21.2, 19.1, 20.6, 15.2,  7. ,  8.1, 13.6, 20.1, 21.8, 24.5,\n",
       "        23.1, 19.7, 18.3, 21.2, 17.5, 16.8, 22.4, 20.6, 23.9, 22. , 11.9]),\n",
       " 'feature_names': array(['CRIM', 'ZN', 'INDUS', 'CHAS', 'NOX', 'RM', 'AGE', 'DIS', 'RAD',\n",
       "        'TAX', 'PTRATIO', 'B', 'LSTAT'], dtype='<U7'),\n",
       " 'DESCR': \".. _boston_dataset:\\n\\nBoston house prices dataset\\n---------------------------\\n\\n**Data Set Characteristics:**  \\n\\n    :Number of Instances: 506 \\n\\n    :Number of Attributes: 13 numeric/categorical predictive. Median Value (attribute 14) is usually the target.\\n\\n    :Attribute Information (in order):\\n        - CRIM     per capita crime rate by town\\n        - ZN       proportion of residential land zoned for lots over 25,000 sq.ft.\\n        - INDUS    proportion of non-retail business acres per town\\n        - CHAS     Charles River dummy variable (= 1 if tract bounds river; 0 otherwise)\\n        - NOX      nitric oxides concentration (parts per 10 million)\\n        - RM       average number of rooms per dwelling\\n        - AGE      proportion of owner-occupied units built prior to 1940\\n        - DIS      weighted distances to five Boston employment centres\\n        - RAD      index of accessibility to radial highways\\n        - TAX      full-value property-tax rate per $10,000\\n        - PTRATIO  pupil-teacher ratio by town\\n        - B        1000(Bk - 0.63)^2 where Bk is the proportion of blacks by town\\n        - LSTAT    % lower status of the population\\n        - MEDV     Median value of owner-occupied homes in $1000's\\n\\n    :Missing Attribute Values: None\\n\\n    :Creator: Harrison, D. and Rubinfeld, D.L.\\n\\nThis is a copy of UCI ML housing dataset.\\nhttps://archive.ics.uci.edu/ml/machine-learning-databases/housing/\\n\\n\\nThis dataset was taken from the StatLib library which is maintained at Carnegie Mellon University.\\n\\nThe Boston house-price data of Harrison, D. and Rubinfeld, D.L. 'Hedonic\\nprices and the demand for clean air', J. Environ. Economics & Management,\\nvol.5, 81-102, 1978.   Used in Belsley, Kuh & Welsch, 'Regression diagnostics\\n...', Wiley, 1980.   N.B. Various transformations are used in the table on\\npages 244-261 of the latter.\\n\\nThe Boston house-price data has been used in many machine learning papers that address regression\\nproblems.   \\n     \\n.. topic:: References\\n\\n   - Belsley, Kuh & Welsch, 'Regression diagnostics: Identifying Influential Data and Sources of Collinearity', Wiley, 1980. 244-261.\\n   - Quinlan,R. (1993). Combining Instance-Based and Model-Based Learning. In Proceedings on the Tenth International Conference of Machine Learning, 236-243, University of Massachusetts, Amherst. Morgan Kaufmann.\\n\",\n",
       " 'filename': 'C:\\\\Users\\\\solit\\\\Anaconda3\\\\lib\\\\site-packages\\\\sklearn\\\\datasets\\\\data\\\\boston_house_prices.csv'}"
      ]
     },
     "execution_count": 3,
     "metadata": {},
     "output_type": "execute_result"
    }
   ],
   "source": [
    "# 数据总览\n",
    "boston"
   ]
  },
  {
   "cell_type": "code",
   "execution_count": 4,
   "metadata": {},
   "outputs": [
    {
     "name": "stdout",
     "output_type": "stream",
     "text": [
      ".. _boston_dataset:\n",
      "\n",
      "Boston house prices dataset\n",
      "---------------------------\n",
      "\n",
      "**Data Set Characteristics:**  \n",
      "\n",
      "    :Number of Instances: 506 \n",
      "\n",
      "    :Number of Attributes: 13 numeric/categorical predictive. Median Value (attribute 14) is usually the target.\n",
      "\n",
      "    :Attribute Information (in order):\n",
      "        - CRIM     per capita crime rate by town\n",
      "        - ZN       proportion of residential land zoned for lots over 25,000 sq.ft.\n",
      "        - INDUS    proportion of non-retail business acres per town\n",
      "        - CHAS     Charles River dummy variable (= 1 if tract bounds river; 0 otherwise)\n",
      "        - NOX      nitric oxides concentration (parts per 10 million)\n",
      "        - RM       average number of rooms per dwelling\n",
      "        - AGE      proportion of owner-occupied units built prior to 1940\n",
      "        - DIS      weighted distances to five Boston employment centres\n",
      "        - RAD      index of accessibility to radial highways\n",
      "        - TAX      full-value property-tax rate per $10,000\n",
      "        - PTRATIO  pupil-teacher ratio by town\n",
      "        - B        1000(Bk - 0.63)^2 where Bk is the proportion of blacks by town\n",
      "        - LSTAT    % lower status of the population\n",
      "        - MEDV     Median value of owner-occupied homes in $1000's\n",
      "\n",
      "    :Missing Attribute Values: None\n",
      "\n",
      "    :Creator: Harrison, D. and Rubinfeld, D.L.\n",
      "\n",
      "This is a copy of UCI ML housing dataset.\n",
      "https://archive.ics.uci.edu/ml/machine-learning-databases/housing/\n",
      "\n",
      "\n",
      "This dataset was taken from the StatLib library which is maintained at Carnegie Mellon University.\n",
      "\n",
      "The Boston house-price data of Harrison, D. and Rubinfeld, D.L. 'Hedonic\n",
      "prices and the demand for clean air', J. Environ. Economics & Management,\n",
      "vol.5, 81-102, 1978.   Used in Belsley, Kuh & Welsch, 'Regression diagnostics\n",
      "...', Wiley, 1980.   N.B. Various transformations are used in the table on\n",
      "pages 244-261 of the latter.\n",
      "\n",
      "The Boston house-price data has been used in many machine learning papers that address regression\n",
      "problems.   \n",
      "     \n",
      ".. topic:: References\n",
      "\n",
      "   - Belsley, Kuh & Welsch, 'Regression diagnostics: Identifying Influential Data and Sources of Collinearity', Wiley, 1980. 244-261.\n",
      "   - Quinlan,R. (1993). Combining Instance-Based and Model-Based Learning. In Proceedings on the Tenth International Conference of Machine Learning, 236-243, University of Massachusetts, Amherst. Morgan Kaufmann.\n",
      "\n"
     ]
    }
   ],
   "source": [
    "# 数据描述\n",
    "print (boston.DESCR)"
   ]
  },
  {
   "cell_type": "code",
   "execution_count": 5,
   "metadata": {},
   "outputs": [
    {
     "name": "stdout",
     "output_type": "stream",
     "text": [
      "['CRIM' 'ZN' 'INDUS' 'CHAS' 'NOX' 'RM' 'AGE' 'DIS' 'RAD' 'TAX' 'PTRATIO'\n",
      " 'B' 'LSTAT']\n"
     ]
    }
   ],
   "source": [
    "# 特征名称\n",
    "print (boston.feature_names)"
   ]
  },
  {
   "cell_type": "code",
   "execution_count": 6,
   "metadata": {},
   "outputs": [
    {
     "name": "stdout",
     "output_type": "stream",
     "text": [
      "boston.data 的维度 = (506, 13)\n"
     ]
    }
   ],
   "source": [
    "# 数据维度\n",
    "print (\"boston.data 的维度 = {}\".format(boston.data.shape))"
   ]
  },
  {
   "cell_type": "code",
   "execution_count": 7,
   "metadata": {},
   "outputs": [
    {
     "name": "stdout",
     "output_type": "stream",
     "text": [
      "max  = 50.0\n",
      "min  = 5.0\n",
      "mean = 22.5328   \n"
     ]
    }
   ],
   "source": [
    "# 简单统计目标值 最大、最小、平均\n",
    "print (\"max  = {0}\\nmin  = {1}\\nmean = {2:<10.4f}\".format(np.max(boston.target), np.min(boston.target), np.mean(boston.target)))"
   ]
  },
  {
   "cell_type": "markdown",
   "metadata": {},
   "source": [
    "### 17.4.3 抽取首条数据"
   ]
  },
  {
   "cell_type": "code",
   "execution_count": 8,
   "metadata": {},
   "outputs": [
    {
     "name": "stdout",
     "output_type": "stream",
     "text": [
      "boston.data[0] =\n",
      "[6.320e-03 1.800e+01 2.310e+00 0.000e+00 5.380e-01 6.575e+00 6.520e+01\n",
      " 4.090e+00 1.000e+00 2.960e+02 1.530e+01 3.969e+02 4.980e+00]\n",
      "\n"
     ]
    }
   ],
   "source": [
    "print (\"boston.data[0] =\\n{}\\n\".format(boston.data[0]))"
   ]
  },
  {
   "cell_type": "markdown",
   "metadata": {},
   "source": [
    "### 17.4.4 特征数据统计分析"
   ]
  },
  {
   "cell_type": "code",
   "execution_count": 9,
   "metadata": {},
   "outputs": [],
   "source": [
    "boston_df = pd.DataFrame(boston.data, columns=boston.feature_names)"
   ]
  },
  {
   "cell_type": "code",
   "execution_count": 10,
   "metadata": {},
   "outputs": [
    {
     "data": {
      "text/html": [
       "<div>\n",
       "<style scoped>\n",
       "    .dataframe tbody tr th:only-of-type {\n",
       "        vertical-align: middle;\n",
       "    }\n",
       "\n",
       "    .dataframe tbody tr th {\n",
       "        vertical-align: top;\n",
       "    }\n",
       "\n",
       "    .dataframe thead th {\n",
       "        text-align: right;\n",
       "    }\n",
       "</style>\n",
       "<table border=\"1\" class=\"dataframe\">\n",
       "  <thead>\n",
       "    <tr style=\"text-align: right;\">\n",
       "      <th></th>\n",
       "      <th>CRIM</th>\n",
       "      <th>ZN</th>\n",
       "      <th>INDUS</th>\n",
       "      <th>CHAS</th>\n",
       "      <th>NOX</th>\n",
       "      <th>RM</th>\n",
       "      <th>AGE</th>\n",
       "      <th>DIS</th>\n",
       "      <th>RAD</th>\n",
       "      <th>TAX</th>\n",
       "      <th>PTRATIO</th>\n",
       "      <th>B</th>\n",
       "      <th>LSTAT</th>\n",
       "    </tr>\n",
       "  </thead>\n",
       "  <tbody>\n",
       "    <tr>\n",
       "      <td>count</td>\n",
       "      <td>506.000000</td>\n",
       "      <td>506.000000</td>\n",
       "      <td>506.000000</td>\n",
       "      <td>506.000000</td>\n",
       "      <td>506.000000</td>\n",
       "      <td>506.000000</td>\n",
       "      <td>506.000000</td>\n",
       "      <td>506.000000</td>\n",
       "      <td>506.000000</td>\n",
       "      <td>506.000000</td>\n",
       "      <td>506.000000</td>\n",
       "      <td>506.000000</td>\n",
       "      <td>506.000000</td>\n",
       "    </tr>\n",
       "    <tr>\n",
       "      <td>mean</td>\n",
       "      <td>3.613524</td>\n",
       "      <td>11.363636</td>\n",
       "      <td>11.136779</td>\n",
       "      <td>0.069170</td>\n",
       "      <td>0.554695</td>\n",
       "      <td>6.284634</td>\n",
       "      <td>68.574901</td>\n",
       "      <td>3.795043</td>\n",
       "      <td>9.549407</td>\n",
       "      <td>408.237154</td>\n",
       "      <td>18.455534</td>\n",
       "      <td>356.674032</td>\n",
       "      <td>12.653063</td>\n",
       "    </tr>\n",
       "    <tr>\n",
       "      <td>std</td>\n",
       "      <td>8.601545</td>\n",
       "      <td>23.322453</td>\n",
       "      <td>6.860353</td>\n",
       "      <td>0.253994</td>\n",
       "      <td>0.115878</td>\n",
       "      <td>0.702617</td>\n",
       "      <td>28.148861</td>\n",
       "      <td>2.105710</td>\n",
       "      <td>8.707259</td>\n",
       "      <td>168.537116</td>\n",
       "      <td>2.164946</td>\n",
       "      <td>91.294864</td>\n",
       "      <td>7.141062</td>\n",
       "    </tr>\n",
       "    <tr>\n",
       "      <td>min</td>\n",
       "      <td>0.006320</td>\n",
       "      <td>0.000000</td>\n",
       "      <td>0.460000</td>\n",
       "      <td>0.000000</td>\n",
       "      <td>0.385000</td>\n",
       "      <td>3.561000</td>\n",
       "      <td>2.900000</td>\n",
       "      <td>1.129600</td>\n",
       "      <td>1.000000</td>\n",
       "      <td>187.000000</td>\n",
       "      <td>12.600000</td>\n",
       "      <td>0.320000</td>\n",
       "      <td>1.730000</td>\n",
       "    </tr>\n",
       "    <tr>\n",
       "      <td>25%</td>\n",
       "      <td>0.082045</td>\n",
       "      <td>0.000000</td>\n",
       "      <td>5.190000</td>\n",
       "      <td>0.000000</td>\n",
       "      <td>0.449000</td>\n",
       "      <td>5.885500</td>\n",
       "      <td>45.025000</td>\n",
       "      <td>2.100175</td>\n",
       "      <td>4.000000</td>\n",
       "      <td>279.000000</td>\n",
       "      <td>17.400000</td>\n",
       "      <td>375.377500</td>\n",
       "      <td>6.950000</td>\n",
       "    </tr>\n",
       "    <tr>\n",
       "      <td>50%</td>\n",
       "      <td>0.256510</td>\n",
       "      <td>0.000000</td>\n",
       "      <td>9.690000</td>\n",
       "      <td>0.000000</td>\n",
       "      <td>0.538000</td>\n",
       "      <td>6.208500</td>\n",
       "      <td>77.500000</td>\n",
       "      <td>3.207450</td>\n",
       "      <td>5.000000</td>\n",
       "      <td>330.000000</td>\n",
       "      <td>19.050000</td>\n",
       "      <td>391.440000</td>\n",
       "      <td>11.360000</td>\n",
       "    </tr>\n",
       "    <tr>\n",
       "      <td>75%</td>\n",
       "      <td>3.677083</td>\n",
       "      <td>12.500000</td>\n",
       "      <td>18.100000</td>\n",
       "      <td>0.000000</td>\n",
       "      <td>0.624000</td>\n",
       "      <td>6.623500</td>\n",
       "      <td>94.075000</td>\n",
       "      <td>5.188425</td>\n",
       "      <td>24.000000</td>\n",
       "      <td>666.000000</td>\n",
       "      <td>20.200000</td>\n",
       "      <td>396.225000</td>\n",
       "      <td>16.955000</td>\n",
       "    </tr>\n",
       "    <tr>\n",
       "      <td>max</td>\n",
       "      <td>88.976200</td>\n",
       "      <td>100.000000</td>\n",
       "      <td>27.740000</td>\n",
       "      <td>1.000000</td>\n",
       "      <td>0.871000</td>\n",
       "      <td>8.780000</td>\n",
       "      <td>100.000000</td>\n",
       "      <td>12.126500</td>\n",
       "      <td>24.000000</td>\n",
       "      <td>711.000000</td>\n",
       "      <td>22.000000</td>\n",
       "      <td>396.900000</td>\n",
       "      <td>37.970000</td>\n",
       "    </tr>\n",
       "  </tbody>\n",
       "</table>\n",
       "</div>"
      ],
      "text/plain": [
       "             CRIM          ZN       INDUS        CHAS         NOX          RM  \\\n",
       "count  506.000000  506.000000  506.000000  506.000000  506.000000  506.000000   \n",
       "mean     3.613524   11.363636   11.136779    0.069170    0.554695    6.284634   \n",
       "std      8.601545   23.322453    6.860353    0.253994    0.115878    0.702617   \n",
       "min      0.006320    0.000000    0.460000    0.000000    0.385000    3.561000   \n",
       "25%      0.082045    0.000000    5.190000    0.000000    0.449000    5.885500   \n",
       "50%      0.256510    0.000000    9.690000    0.000000    0.538000    6.208500   \n",
       "75%      3.677083   12.500000   18.100000    0.000000    0.624000    6.623500   \n",
       "max     88.976200  100.000000   27.740000    1.000000    0.871000    8.780000   \n",
       "\n",
       "              AGE         DIS         RAD         TAX     PTRATIO           B  \\\n",
       "count  506.000000  506.000000  506.000000  506.000000  506.000000  506.000000   \n",
       "mean    68.574901    3.795043    9.549407  408.237154   18.455534  356.674032   \n",
       "std     28.148861    2.105710    8.707259  168.537116    2.164946   91.294864   \n",
       "min      2.900000    1.129600    1.000000  187.000000   12.600000    0.320000   \n",
       "25%     45.025000    2.100175    4.000000  279.000000   17.400000  375.377500   \n",
       "50%     77.500000    3.207450    5.000000  330.000000   19.050000  391.440000   \n",
       "75%     94.075000    5.188425   24.000000  666.000000   20.200000  396.225000   \n",
       "max    100.000000   12.126500   24.000000  711.000000   22.000000  396.900000   \n",
       "\n",
       "            LSTAT  \n",
       "count  506.000000  \n",
       "mean    12.653063  \n",
       "std      7.141062  \n",
       "min      1.730000  \n",
       "25%      6.950000  \n",
       "50%     11.360000  \n",
       "75%     16.955000  \n",
       "max     37.970000  "
      ]
     },
     "execution_count": 10,
     "metadata": {},
     "output_type": "execute_result"
    }
   ],
   "source": [
    "boston_df.describe()"
   ]
  },
  {
   "cell_type": "code",
   "execution_count": 11,
   "metadata": {},
   "outputs": [
    {
     "name": "stdout",
     "output_type": "stream",
     "text": [
      "target mean: 22.532806324110677\n",
      "target min : 5.0\n",
      "target max : 50.0\n",
      "target std : 9.188011545278203\n",
      "target var : 84.41955615616556\n"
     ]
    }
   ],
   "source": [
    "print(\"target mean: {}\".format(boston.target.mean()))\n",
    "print(\"target min : {}\".format(boston.target.min()))\n",
    "print(\"target max : {}\".format(boston.target.max()))\n",
    "print(\"target std : {}\".format(boston.target.std()))\n",
    "print(\"target var : {}\".format(boston.target.var()))"
   ]
  },
  {
   "cell_type": "markdown",
   "metadata": {},
   "source": [
    "## 17.5 数据分析\n",
    "\n",
    "\n",
    "- 采用若干种回归方法\n",
    "- 比较效果\n",
    "- 预测房价 —— 属性特征的函数"
   ]
  },
  {
   "cell_type": "markdown",
   "metadata": {},
   "source": [
    "### 17.5.1 建立训练和测试集\n",
    "\n",
    "- 使用函数 `train_test_split`"
   ]
  },
  {
   "cell_type": "code",
   "execution_count": 12,
   "metadata": {},
   "outputs": [],
   "source": [
    "#from sklearn.cross_validation import train_test_split # 适用低版本\n",
    "from sklearn.model_selection import train_test_split"
   ]
  },
  {
   "cell_type": "code",
   "execution_count": 13,
   "metadata": {},
   "outputs": [],
   "source": [
    "# 拆分数据集\n",
    "X_train, X_test, y_train, y_test = train_test_split(\n",
    "    boston.data, \n",
    "    boston.target,\n",
    "    test_size=0.25,\n",
    "    random_state=33)"
   ]
  },
  {
   "cell_type": "code",
   "execution_count": 59,
   "metadata": {},
   "outputs": [
    {
     "name": "stdout",
     "output_type": "stream",
     "text": [
      "X_train.shape = (379, 13)    X_test .shape = (127, 13)\n",
      "y_train.shape = (379,)       y_test .shape = (127,)\n"
     ]
    },
    {
     "data": {
      "text/plain": [
       "array([-0.26118403, -1.86681472, -1.02628322, -1.11249158, -0.18575172,\n",
       "       -0.34739239,  1.02116531, -0.87541859,  1.08582158, -0.16419963,\n",
       "        0.77331628,  1.40910292, -1.56508546, -0.14264754, -0.71377792,\n",
       "        0.00821709, -0.86464254, -0.9508509 ,  0.88107672, -1.18792389,\n",
       "       -1.10171553,  0.53624329, -0.2288559 , -0.35816844,  0.97806113,\n",
       "       -0.1103194 ,  0.02976918,  0.09442545, -1.30646038,  1.29056643,\n",
       "       -0.41204866,  0.38537866, -1.33878852, -0.58446538,  0.11597754,\n",
       "        1.41987897,  0.25606612, -0.98317904,  0.49313911,  0.18063381,\n",
       "       -1.10171553, -1.44654897,  1.05349344, -0.98317904,  0.06209731,\n",
       "       -0.56291329, -0.78921023, -0.04566313,  0.35305053, -0.25040799,\n",
       "       -0.9508509 ,  1.11814971, -0.83231441, -0.86464254, -0.14264754,\n",
       "       -0.61679351,  0.01899313, -1.20947598, -0.25040799, -0.07799127,\n",
       "        0.01899313, -0.48748097,  2.24963442, -0.19652776, -0.86464254,\n",
       "        0.62245165,  0.04054522, -0.98317904, -0.34739239,  0.81642045,\n",
       "       -0.42282471, -0.41204866, -0.42282471,  0.3961547 , -0.58446538,\n",
       "       -0.1103194 , -0.98317904, -1.52198128, -0.37972053,  0.55779538,\n",
       "       -0.20730381, -1.19869994, -1.694398  ,  0.12675358, -0.31506426,\n",
       "       -0.43360075,  2.9177492 , -1.03705926,  2.9177492 ,  1.9802333 ,\n",
       "        0.62245165, -0.3258403 , -0.69222583, -1.29568434, -1.02628322,\n",
       "        1.07504553, -0.25040799,  0.22373799, -0.36894448, -0.3258403 ,\n",
       "       -0.81076232, -0.13187149,  0.9241809 ,  0.45003493, -1.57586151,\n",
       "       -1.00473113, -1.52198128, -0.04566313, -1.66206986,  0.6116756 ,\n",
       "        2.9177492 , -1.23102807, -1.01550717,  0.15908172,  1.43065501,\n",
       "       -0.16419963, -0.47670493, -0.03488709,  0.2021859 , -0.39049657,\n",
       "        0.74098814, -0.70300187, -1.56508546,  0.19140985, -0.30428821,\n",
       "       -1.05861135,  1.32289456])"
      ]
     },
     "execution_count": 59,
     "metadata": {},
     "output_type": "execute_result"
    }
   ],
   "source": [
    "# 查看维度\n",
    "print(\"X_train.shape = {0}    X_test .shape = {1}\\ny_train.shape = {2}       y_test .shape = {3}\".format(X_train.shape, X_test.shape, y_train.shape, y_test.shape))\n",
    "y_test"
   ]
  },
  {
   "cell_type": "markdown",
   "metadata": {},
   "source": [
    "### 17.5.2 数据标准化\n",
    "\n",
    "\n",
    "数据标准化即是对数据进行以下线性变换\n",
    "\n",
    "$$\n",
    "\\hat{d_i}=\\dfrac{d_i-\\bar{d}}{\\sigma}\n",
    "$$\n",
    "\n",
    "其中，$\\bar{d}$ 为均值，$\\sigma$ 为标准差"
   ]
  },
  {
   "cell_type": "markdown",
   "metadata": {},
   "source": [
    "#### Numpy 数组维度重构参数取 -1 的说明\n",
    "\n",
    "\n",
    "- 参数中的 -1 由系统自动计算应该是多少维度\n",
    "```python\n",
    ">>> a.reshape(-1,1)\n",
    ">>> a.reshape(1,-1)\n",
    "```\n",
    "\n",
    "- 例\n",
    "```python\n",
    ">>> z = np.array([[1, 2, 3, 4],[5, 6, 7, 8],[9, 10, 11, 12]])\n",
    ">>> print(z.shape) # 将输出 3 行 4 列\n",
    ">>> z = z.reshape(-1,3)\n",
    ">>> print(z.shape) # 将输出 4 列 3 行\n",
    "```"
   ]
  },
  {
   "cell_type": "markdown",
   "metadata": {},
   "source": [
    "#### (1) 维度重构示例\n",
    "\n",
    "\n",
    "- 注意参数 -1 的作用"
   ]
  },
  {
   "cell_type": "code",
   "execution_count": 15,
   "metadata": {},
   "outputs": [
    {
     "name": "stdout",
     "output_type": "stream",
     "text": [
      "(3, 4)\n",
      "[[ 1  2  3  4]\n",
      " [ 5  6  7  8]\n",
      " [ 9 10 11 12]]\n"
     ]
    }
   ],
   "source": [
    "z = np.array([[1, 2, 3, 4],[5, 6, 7, 8],[9, 10, 11, 12]])\n",
    "print(z.shape)\n",
    "print(z)"
   ]
  },
  {
   "cell_type": "code",
   "execution_count": 16,
   "metadata": {},
   "outputs": [
    {
     "name": "stdout",
     "output_type": "stream",
     "text": [
      "(4, 3)\n",
      "[[ 1  2  3]\n",
      " [ 4  5  6]\n",
      " [ 7  8  9]\n",
      " [10 11 12]]\n"
     ]
    }
   ],
   "source": [
    "z = z.reshape(-1,3) # 注意 -1 的作用\n",
    "print(z.shape)\n",
    "print(z)"
   ]
  },
  {
   "cell_type": "markdown",
   "metadata": {},
   "source": [
    "#### (2) 数据集标准化操作"
   ]
  },
  {
   "cell_type": "code",
   "execution_count": 17,
   "metadata": {},
   "outputs": [],
   "source": [
    "# 导入标准化器\n",
    "from sklearn.preprocessing import StandardScaler"
   ]
  },
  {
   "cell_type": "code",
   "execution_count": 61,
   "metadata": {},
   "outputs": [],
   "source": [
    "# 转换为二维数组，冗余，但不得不做\n",
    "y_train = y_train.reshape(-1,1) # 1 列\n",
    "y_test  = y_test.reshape(-1,1)  # 1 列"
   ]
  },
  {
   "cell_type": "code",
   "execution_count": 19,
   "metadata": {},
   "outputs": [],
   "source": [
    "# 拟合\n",
    "scalerX = StandardScaler().fit(X_train)\n",
    "scalery = StandardScaler().fit(y_train)"
   ]
  },
  {
   "cell_type": "code",
   "execution_count": 20,
   "metadata": {},
   "outputs": [],
   "source": [
    "# 对 X_train、y_train 标准化\n",
    "X_train = scalerX.transform(X_train)\n",
    "y_train = scalery.transform(y_train)"
   ]
  },
  {
   "cell_type": "code",
   "execution_count": 21,
   "metadata": {},
   "outputs": [],
   "source": [
    "# 对 X_test、y_test 标准化\n",
    "X_test = scalerX.transform(X_test)\n",
    "y_test = scalery.transform(y_test)"
   ]
  },
  {
   "cell_type": "code",
   "execution_count": 62,
   "metadata": {},
   "outputs": [
    {
     "data": {
      "text/plain": [
       "array([-0.26118403, -1.86681472, -1.02628322, -1.11249158, -0.18575172,\n",
       "       -0.34739239,  1.02116531, -0.87541859,  1.08582158, -0.16419963,\n",
       "        0.77331628,  1.40910292, -1.56508546, -0.14264754, -0.71377792,\n",
       "        0.00821709, -0.86464254, -0.9508509 ,  0.88107672, -1.18792389,\n",
       "       -1.10171553,  0.53624329, -0.2288559 , -0.35816844,  0.97806113,\n",
       "       -0.1103194 ,  0.02976918,  0.09442545, -1.30646038,  1.29056643,\n",
       "       -0.41204866,  0.38537866, -1.33878852, -0.58446538,  0.11597754,\n",
       "        1.41987897,  0.25606612, -0.98317904,  0.49313911,  0.18063381,\n",
       "       -1.10171553, -1.44654897,  1.05349344, -0.98317904,  0.06209731,\n",
       "       -0.56291329, -0.78921023, -0.04566313,  0.35305053, -0.25040799,\n",
       "       -0.9508509 ,  1.11814971, -0.83231441, -0.86464254, -0.14264754,\n",
       "       -0.61679351,  0.01899313, -1.20947598, -0.25040799, -0.07799127,\n",
       "        0.01899313, -0.48748097,  2.24963442, -0.19652776, -0.86464254,\n",
       "        0.62245165,  0.04054522, -0.98317904, -0.34739239,  0.81642045,\n",
       "       -0.42282471, -0.41204866, -0.42282471,  0.3961547 , -0.58446538,\n",
       "       -0.1103194 , -0.98317904, -1.52198128, -0.37972053,  0.55779538,\n",
       "       -0.20730381, -1.19869994, -1.694398  ,  0.12675358, -0.31506426,\n",
       "       -0.43360075,  2.9177492 , -1.03705926,  2.9177492 ,  1.9802333 ,\n",
       "        0.62245165, -0.3258403 , -0.69222583, -1.29568434, -1.02628322,\n",
       "        1.07504553, -0.25040799,  0.22373799, -0.36894448, -0.3258403 ,\n",
       "       -0.81076232, -0.13187149,  0.9241809 ,  0.45003493, -1.57586151,\n",
       "       -1.00473113, -1.52198128, -0.04566313, -1.66206986,  0.6116756 ,\n",
       "        2.9177492 , -1.23102807, -1.01550717,  0.15908172,  1.43065501,\n",
       "       -0.16419963, -0.47670493, -0.03488709,  0.2021859 , -0.39049657,\n",
       "        0.74098814, -0.70300187, -1.56508546,  0.19140985, -0.30428821,\n",
       "       -1.05861135,  1.32289456])"
      ]
     },
     "execution_count": 62,
     "metadata": {},
     "output_type": "execute_result"
    }
   ],
   "source": [
    "# 转为一维数组\n",
    "y_train = y_train.reshape(-1,)\n",
    "y_test  = y_test.reshape(-1,)"
   ]
  },
  {
   "cell_type": "markdown",
   "metadata": {},
   "source": [
    "### 17.5.3 回归问题分析效果的评价"
   ]
  },
  {
   "cell_type": "markdown",
   "metadata": {},
   "source": [
    "#### (1)  经验或预见\n",
    "\n",
    "\n",
    "- 对于回归问题\n",
    "    - `Accuracy` 不是好的评价指标，因为不再是离散分类，而是实数预测\n",
    "    - 几乎不能绝对精确的预测目标值\n",
    "\n",
    "\n",
    "- 例如\n",
    "    - target = 1.23456, predict=1.23457，预测是否准确？\n",
    "        - 对于分类 —— `False`\n",
    "        - 对于回归 —— `True`\n",
    "\n",
    "\n",
    "- 回归分析效果评价要另寻途径\n",
    "    - 拟合优度（最常用的方法） —— `R2` 决定系数"
   ]
  },
  {
   "cell_type": "markdown",
   "metadata": {},
   "source": [
    "#### (2) `R2` 决定系数 (coefficient of determination) —— 缺省的(拟合优度)评分方法\n",
    "\n",
    "\n",
    "\n",
    "- 拟合优度（goodness of fit）是指回归直线对观测值的拟合程度评分方法\n",
    "\n",
    "\n",
    "- 假设一数据集包括 $\\{y_1, y_2, \\cdots, y_n\\}$ 共 $n$ 个观察值，相对应的模型预测值分别为 $\\{\\hat{y}_1, \\hat{y}_2, \\cdots, \\hat{y}_n\\}$\n",
    "\n",
    "\n",
    "- 定义 —— 取自 [维基百科: Coefficient of determination](https://en.wikipedia.org/wiki/Coefficient_of_determination)\n",
    "    - 残差 (the residuals) $$e_i=y_i-\\hat{y}_i, \\quad (i=1,2,\\cdots, n)$$\n",
    "    - 平均观察值 (the mean of the observed data) $$\\bar{y} = \\dfrac{1}{n}\\sum_\\limits{i=1}^n{y_i}$$\n",
    "    - 总离差平方和 (the total sum of squares, 与方差成正比) $$SS_{tot}=\\sum_\\limits{i=1}^n{\\left(y_i-\\bar{y}\\right)^2}$$\n",
    "    - 回归平方和 (the regression sum of squares, also called the explained sum of squares) $$SS_{reg}=\\sum_\\limits{i=1}^n{\\left(\\hat{y}_i-\\bar{y}\\right)^2}$$\n",
    "    - 残差平方和 (the sum of squares of residuals, also called the residual sum of squares) $$SS_{res}=\\sum_\\limits{i=1}^n{\\left(y_i-\\hat{y}_i\\right)^2}=\\sum_\\limits{i=1}^n{e_i^2}$$\n",
    "\n",
    "\n",
    "- 决定系数 $R_2$ 定义为\n",
    "$$\n",
    "R_2(y,\\hat{y})=1-\\dfrac{\\sum_\\limits{i=1}^{n}\\left(y_i-\\hat{y}_i\\right)^2}{\\sum_\\limits{i=1}^{n}\\left(y_i-\\bar{y}\\right)^2}\n",
    "= 1-\\dfrac{SS_{res}}{SS_{tot}}\n",
    "= \\dfrac{SS_{reg}}{SS_{tot}}\n",
    "$$\n",
    "\n",
    "- 注意\n",
    "    - $n$ 是样本数量\n",
    "    - 指标越好，越接近 1\n",
    "    - 指标越差，越远离 1\n",
    "    - 指标为 0，每个预测值都为均值\n",
    "    - 指标为负，纯属瞎猜，还不如每个预测值取均值"
   ]
  },
  {
   "cell_type": "markdown",
   "metadata": {},
   "source": [
    "#### (3) 使用 R2的示例"
   ]
  },
  {
   "cell_type": "code",
   "execution_count": 23,
   "metadata": {},
   "outputs": [],
   "source": [
    "from sklearn.metrics import r2_score"
   ]
  },
  {
   "cell_type": "code",
   "execution_count": 24,
   "metadata": {},
   "outputs": [
    {
     "name": "stdout",
     "output_type": "stream",
     "text": [
      "r2_score(y_true, y_good    ) = 0.99865\n",
      "r2_score(y_true, y_not_good) = 0.03925714285714288\n",
      "r2_score(y_true, y_bad     ) = -1.7042928571428573\n"
     ]
    }
   ],
   "source": [
    "# 例 r2_score 评价方法\n",
    "\n",
    "y_true     = [1,      2,     6]\n",
    "\n",
    "y_good     = [ 1.1,   1.92,  5.95]\n",
    "y_not_good = [ 3.0,   3.02,  3.1]   # 预测接近均值\n",
    "y_bad      = [-0.8,   1.01,  0.2]\n",
    "\n",
    "print(\"r2_score(y_true, y_good    ) = {0}\\nr2_score(y_true, y_not_good) = {1}\\nr2_score(y_true, y_bad     ) = {2}\".\n",
    "      format(r2_score(y_true, y_good), r2_score(y_true, y_not_good), r2_score(y_true, y_bad)))"
   ]
  },
  {
   "cell_type": "markdown",
   "metadata": {},
   "source": [
    "#### (4) 定义 `train_and_evaluate` 函数\n",
    "\n",
    "\n",
    "- 功能 —— 利用 K-折 进行交叉验证\n",
    "\n",
    "\n",
    "- 调用语法\n",
    "```python\n",
    ">>> train_and_evaluate(regr, X_train, y_train)\n",
    "```\n",
    "\n",
    "\n",
    "- 参数\n",
    "    - `regr` 回归器\n",
    "    - `X_train` 训练特征\n",
    "    - `y_train` 训练目标"
   ]
  },
  {
   "cell_type": "code",
   "execution_count": 25,
   "metadata": {},
   "outputs": [],
   "source": [
    "from sklearn.model_selection import cross_val_score, KFold"
   ]
  },
  {
   "cell_type": "code",
   "execution_count": 26,
   "metadata": {},
   "outputs": [],
   "source": [
    "def train_and_evaluate(regr, X_train, y_train):\n",
    "    regr.fit(X_train, y_train)  # 训练\n",
    "\n",
    "    print (\"在训练集上，决定系数：\", regr.score(X_train, y_train))\n",
    "\n",
    "    # 创建 K-折\n",
    "    cv = KFold(5, shuffle=True, random_state=33)                     # model_selection 模块用\n",
    "    #cv = KFold(X_train.shape[0], 5, shuffle=True, random_state=33)  # cross_validation 模块用\n",
    "\n",
    "    scores = cross_val_score(regr, X_train, y_train, cv=cv)\n",
    "    print (\"使用 K-折交叉验证的 平均决定系数:\",np.mean(scores))"
   ]
  },
  {
   "cell_type": "markdown",
   "metadata": {},
   "source": [
    "### 17.5.4 明确任务 —— 建立线性回归模型\n",
    "\n",
    "\n",
    "- 拟合 14 维超空间中的超平面\n",
    "    - 达到所给数据点（14维：特征 + 目标）的最佳逼近效果\n",
    "    - 如何实现最佳逼近？\n",
    "        - 选择最小二乘法\n",
    "\n",
    "\n",
    "- 对于新特征数据\n",
    "    - 利用超平面方程，计算并返回预测目标值"
   ]
  },
  {
   "cell_type": "markdown",
   "metadata": {},
   "source": [
    "#### (1) 随机梯度下降回归器 —— SGDRegressor\n",
    "\n",
    "\n",
    "- 调用语法\n",
    "```python\n",
    ">>> linear_model.SGDRegressor(loss='squared_loss', penalty='l2', alpha=0.0001, l1_ratio=0.15, \n",
    "                              fit_intercept=True, max_iter=None, tol=None, shuffle=True,\n",
    "                              verbose=0, epsilon=0.1, random_state=None, learning_rate='invscaling',\n",
    "                              eta0=0.01, power_t=0.25, warm_start=False, average=False, n_iter=None)\n",
    "```\n",
    "\n",
    "\n",
    "- 功能 —— 创建随机梯度下降回归器 (Stochastic Gradient Descent Regressor)\n",
    "\n",
    "\n",
    "- 参数\n",
    "    - `loss` 使用的损失函数，缺省 `squared_loss`\n",
    "    - `penalty` 惩罚方法，缺省是 `l2`\n",
    "    - `alpha` 正则项系数，缺省值是 `0.0001`，对于优化问题，即是学习率（learning rate）\n",
    "    - `max_iter` 可选整数，最大迭代数\n",
    "    - 余略"
   ]
  },
  {
   "cell_type": "code",
   "execution_count": 27,
   "metadata": {},
   "outputs": [],
   "source": [
    "from sklearn import linear_model"
   ]
  },
  {
   "cell_type": "code",
   "execution_count": 28,
   "metadata": {},
   "outputs": [],
   "source": [
    "regr_sgd = linear_model.SGDRegressor(loss='squared_loss', penalty=None, max_iter=5, tol=None, random_state=42)"
   ]
  },
  {
   "cell_type": "code",
   "execution_count": 29,
   "metadata": {},
   "outputs": [
    {
     "name": "stdout",
     "output_type": "stream",
     "text": [
      "在训练集上，决定系数： 0.743772396920508\n",
      "使用 K-折交叉验证的 平均决定系数: 0.7110851553432516\n"
     ]
    }
   ],
   "source": [
    "train_and_evaluate(regr_sgd, X_train, y_train)"
   ]
  },
  {
   "cell_type": "markdown",
   "metadata": {},
   "source": [
    "#### (2) 训练集预测值可视化\n",
    "\n",
    "\n",
    "- 功能 —— 观察值-预测值 散点图\n",
    "\n",
    "\n",
    "- 语法\n",
    "```python\n",
    ">>> visualization_for_predict_data(data_observed, data_predicted, label_observed, label_predicted)\n",
    "```\n",
    "\n",
    "\n",
    "- 参数\n",
    "    - `data_observed` 观察值\n",
    "    - `data_predicted` 预测值\n",
    "    - `label_observed` 观察值标签\n",
    "    - `label_predicted` 预测值标签"
   ]
  },
  {
   "cell_type": "code",
   "execution_count": 30,
   "metadata": {},
   "outputs": [],
   "source": [
    "def visualization_for_predict_data(data_observed, data_predicted, label_observed, label_predicted):\n",
    "    plt.scatter(data_observed, data_predicted)\n",
    "\n",
    "    max_v = np.max([data_predicted] + [data_observed]) * 1.1\n",
    "    min_v = np.min([data_predicted] + [data_observed]) * 1.1\n",
    "\n",
    "    plt.plot([min_v,max_v], [min_v,max_v], \"r-\")\n",
    "\n",
    "    plt.xlabel(label_observed)\n",
    "    plt.ylabel(label_predicted)"
   ]
  },
  {
   "cell_type": "code",
   "execution_count": 31,
   "metadata": {},
   "outputs": [],
   "source": [
    "y_pred = regr_sgd.predict(X_train)"
   ]
  },
  {
   "cell_type": "code",
   "execution_count": 32,
   "metadata": {},
   "outputs": [
    {
     "data": {
      "image/png": "[encoded data removed]",
      "text/plain": [
       "<Figure size 432x288 with 1 Axes>"
      ]
     },
     "metadata": {
      "needs_background": "light"
     },
     "output_type": "display_data"
    }
   ],
   "source": [
    "visualization_for_predict_data(y_train, y_pred, \"y_train\", \"y_pred\")"
   ]
  },
  {
   "cell_type": "markdown",
   "metadata": {},
   "source": [
    "#### (3) 超平面方程系数\n",
    "\n",
    "\n",
    "- `regr_sgd.coef_`\n",
    "- `regr_sgd.intercept_`"
   ]
  },
  {
   "cell_type": "code",
   "execution_count": 33,
   "metadata": {},
   "outputs": [
    {
     "name": "stdout",
     "output_type": "stream",
     "text": [
      "regr_sgd.coef_ =\n",
      "[-0.0870378   0.06716774 -0.05044662  0.10863786 -0.07723512  0.38993333\n",
      " -0.02487267 -0.20993855  0.08553381 -0.05464621 -0.1983905   0.06011348\n",
      " -0.3776057 ]\n",
      "\n",
      "regr_sgd.intercept_ = [0.00227159]\n"
     ]
    }
   ],
   "source": [
    "print(\"regr_sgd.coef_ =\\n{}\\n\".format(regr_sgd.coef_))\n",
    "print(\"regr_sgd.intercept_ = {}\".format(regr_sgd.intercept_))"
   ]
  },
  {
   "cell_type": "markdown",
   "metadata": {},
   "source": [
    "#### (4) 改进 `penalty` 参数\n",
    "\n",
    "- 注意到\n",
    "    - 参数 `penalty = None`\n",
    "    - 使用 `penalty` 参数有助于避免过拟合\n",
    "\n",
    "\n",
    "- 对上述结果不满意\n",
    "    - 取 `penalty` 参数为 `l2`"
   ]
  },
  {
   "cell_type": "code",
   "execution_count": 34,
   "metadata": {},
   "outputs": [],
   "source": [
    "regr_sgd_l2 = linear_model.SGDRegressor(loss='squared_loss', penalty='l2', max_iter=5, tol=None, random_state=42)"
   ]
  },
  {
   "cell_type": "code",
   "execution_count": 58,
   "metadata": {},
   "outputs": [
    {
     "name": "stdout",
     "output_type": "stream",
     "text": [
      "regr_sgd_l2 = SGDRegressor(max_iter=5, random_state=42, tol=None)\n",
      "\n",
      "regr_sgd = SGDRegressor(max_iter=5, penalty=None, random_state=42, tol=None)\n",
      "\n"
     ]
    }
   ],
   "source": [
    "print(\"regr_sgd_l2 = {}\\n\".format(regr_sgd_l2))\n",
    "\n",
    "print(\"regr_sgd = {}\\n\".format(regr_sgd))"
   ]
  },
  {
   "cell_type": "code",
   "execution_count": 36,
   "metadata": {},
   "outputs": [
    {
     "name": "stdout",
     "output_type": "stream",
     "text": [
      "在训练集上，决定系数： 0.743771399125549\n",
      "使用 K-折交叉验证的 平均决定系数: 0.7110873261957128\n"
     ]
    }
   ],
   "source": [
    "train_and_evaluate(regr_sgd_l2, X_train, y_train)"
   ]
  },
  {
   "cell_type": "markdown",
   "metadata": {},
   "source": [
    "#### (5) 训练集预测值可视化"
   ]
  },
  {
   "cell_type": "code",
   "execution_count": 37,
   "metadata": {},
   "outputs": [],
   "source": [
    "y_pred = regr_sgd_l2.predict(X_train)"
   ]
  },
  {
   "cell_type": "code",
   "execution_count": 38,
   "metadata": {},
   "outputs": [
    {
     "data": {
      "image/png": "[encoded data removed]",
      "text/plain": [
       "<Figure size 432x288 with 1 Axes>"
      ]
     },
     "metadata": {
      "needs_background": "light"
     },
     "output_type": "display_data"
    }
   ],
   "source": [
    "visualization_for_predict_data(y_train, y_pred, \"y_train\", \"y_pred\")"
   ]
  },
  {
   "cell_type": "markdown",
   "metadata": {},
   "source": [
    "#### (6) 比较两次结果得分\n",
    "\n",
    "\n",
    "- 几乎没有变化\n",
    "- 说明对于本例\n",
    "    - <font color=\"red\">线性回归模型效果一般</font>"
   ]
  },
  {
   "cell_type": "markdown",
   "metadata": {},
   "source": [
    "### 17.5.5 将支持向量机 `SVM` 用于回归"
   ]
  },
  {
   "cell_type": "code",
   "execution_count": 39,
   "metadata": {},
   "outputs": [],
   "source": [
    "# 导入模块 svm\n",
    "from sklearn import svm"
   ]
  },
  {
   "cell_type": "markdown",
   "metadata": {},
   "source": [
    "#### (1) 创建支持向量机回归器 `svr`\n",
    "\n",
    "\n",
    "- 语法\n",
    "```python\n",
    ">>> svm.SVR(kernel='rbf', degree=3, gamma='auto', coef0=0.0, tol=0.001, C=1.0,\n",
    "            epsilon=0.1, shrinking=True, cache_size=200, verbose=False, max_iter=-1)\n",
    "```\n",
    "\n",
    "- 功能 —— 创建并返回回归器对象\n",
    "\n",
    "\n",
    "- 参数\n",
    "    - `kernel` 核类型，'linear'、'poly'、'rbf'(缺省)、'sigmoid'、'precomputed'..."
   ]
  },
  {
   "cell_type": "code",
   "execution_count": 40,
   "metadata": {},
   "outputs": [
    {
     "name": "stdout",
     "output_type": "stream",
     "text": [
      "在训练集上，决定系数： 0.7179419427730807\n",
      "使用 K-折交叉验证的 平均决定系数: 0.7089015083945323\n"
     ]
    }
   ],
   "source": [
    "regr_svr = svm.SVR(kernel='linear')\n",
    "\n",
    "train_and_evaluate(regr_svr, X_train, y_train)"
   ]
  },
  {
   "cell_type": "markdown",
   "metadata": {},
   "source": [
    "#### (2) 修改核类型为 `poly`\n",
    "\n",
    "\n",
    "- 上述得分仍然不理想\n",
    "- 尝试采用非线性的核类型\n",
    "    - 多项式 `poly`"
   ]
  },
  {
   "cell_type": "code",
   "execution_count": 41,
   "metadata": {},
   "outputs": [
    {
     "name": "stdout",
     "output_type": "stream",
     "text": [
      "在训练集上，决定系数： 0.9038606078643799\n",
      "使用 K-折交叉验证的 平均决定系数: 0.7762316071541121\n"
     ]
    }
   ],
   "source": [
    "regr_svr_poly = svm.SVR(kernel='poly')\n",
    "\n",
    "train_and_evaluate(regr_svr_poly, X_train, y_train)"
   ]
  },
  {
   "cell_type": "markdown",
   "metadata": {},
   "source": [
    "#### (3) 修改核类型为 `RBF`\n",
    "\n",
    "\n",
    "- 尝试采用非线性的核类型\n",
    "    - Radial Basis Function (RBF)"
   ]
  },
  {
   "cell_type": "code",
   "execution_count": 42,
   "metadata": {},
   "outputs": [
    {
     "name": "stdout",
     "output_type": "stream",
     "text": [
      "在训练集上，决定系数： 0.900198918588965\n",
      "使用 K-折交叉验证的 平均决定系数: 0.8336907691882237\n"
     ]
    }
   ],
   "source": [
    "regr_svr_rbf = svm.SVR(kernel='rbf')\n",
    "\n",
    "train_and_evaluate(regr_svr_rbf, X_train, y_train)"
   ]
  },
  {
   "cell_type": "markdown",
   "metadata": {},
   "source": [
    "#### (4) 训练集预测值可视化"
   ]
  },
  {
   "cell_type": "code",
   "execution_count": 43,
   "metadata": {},
   "outputs": [],
   "source": [
    "y_pred = regr_svr_rbf.predict(X_train)"
   ]
  },
  {
   "cell_type": "code",
   "execution_count": 44,
   "metadata": {},
   "outputs": [
    {
     "data": {
      "image/png": "[encoded data removed]",
      "text/plain": [
       "<Figure size 432x288 with 1 Axes>"
      ]
     },
     "metadata": {
      "needs_background": "light"
     },
     "output_type": "display_data"
    }
   ],
   "source": [
    "visualization_for_predict_data(y_train, y_pred, \"y_train\", \"y_pred\")"
   ]
  },
  {
   "cell_type": "markdown",
   "metadata": {},
   "source": [
    "#### (5) 测试集的预测与可视化"
   ]
  },
  {
   "cell_type": "code",
   "execution_count": 45,
   "metadata": {},
   "outputs": [],
   "source": [
    "y_pred = regr_svr_rbf.predict(X_test)"
   ]
  },
  {
   "cell_type": "code",
   "execution_count": 46,
   "metadata": {},
   "outputs": [
    {
     "data": {
      "image/png": "[encoded data removed]",
      "text/plain": [
       "<Figure size 432x288 with 1 Axes>"
      ]
     },
     "metadata": {
      "needs_background": "light"
     },
     "output_type": "display_data"
    }
   ],
   "source": [
    "visualization_for_predict_data(y_test, y_pred, \"y_test\", \"y_pred\")"
   ]
  },
  {
   "cell_type": "markdown",
   "metadata": {},
   "source": [
    "#### (6) 评价\n",
    "\n",
    "\n",
    "- `rbf` 核类型具有良好的效果"
   ]
  },
  {
   "cell_type": "markdown",
   "metadata": {},
   "source": [
    "### 17.5.6 将`极端随机森林`用于回归\n",
    "\n",
    "\n",
    "- 回顾\n",
    "    - 前面曾介绍过随机森林的分类方法 —— `Random Forest`\n",
    "    - 回归分析也有类似随机森林的方法 —— `Extra-Trees` 或 `Extremely Randomized Trees`\n",
    "    \n",
    "\n",
    "- `Extra-Trees` 与 `Random Forest` 的异同\n",
    "    - 前段过程相同\n",
    "        - 创建对象\n",
    "        - 训练模型\n",
    "    - 预测过程有区别，到达末端树叶时\n",
    "        - `Extra-Trees` —— 返回代表实数值\n",
    "        - `Random Forest` —— 返回主分类"
   ]
  },
  {
   "cell_type": "code",
   "execution_count": 47,
   "metadata": {},
   "outputs": [],
   "source": [
    "# 导入 ensemble\n",
    "from sklearn import ensemble"
   ]
  },
  {
   "cell_type": "markdown",
   "metadata": {},
   "source": [
    "#### (1) 极端树 (`ET, Extra-Trees`) 或 极端随机树 (`ERT, Extremely Randomized Trees`) 简介\n",
    "\n",
    "\n",
    "- 调用语法\n",
    "```python\n",
    ">>> ensemble.ExtraTreesRegressor(n_estimators=10, criterion='mse', max_depth=None,\n",
    "                                 min_samples_split=2, min_samples_leaf=1, min_weight_fraction_leaf=0.0,\n",
    "                                 max_features='auto', max_leaf_nodes=None, min_impurity_decrease=0.0,\n",
    "                                 min_impurity_split=None, bootstrap=False, oob_score=False, n_jobs=1,\n",
    "                                 random_state=None, verbose=0, warm_start=False)\n",
    "```\n",
    "\n",
    "\n",
    "- 功能 —— 创建并返回极端随机树回归器(an extra-trees regressor)对象\n",
    "\n",
    "\n",
    "- 参数\n",
    "    - `n_estimators` —— 森林中树的数量，default=10\n",
    "    - `criterion` —— 用于度量分裂质量的准则，default=\"mse\" (mean squared error)\n",
    "    - `random_state` —— 随机状态"
   ]
  },
  {
   "cell_type": "markdown",
   "metadata": {},
   "source": [
    "#### (2) 创建 `ETR` 对象"
   ]
  },
  {
   "cell_type": "code",
   "execution_count": 48,
   "metadata": {},
   "outputs": [],
   "source": [
    "regr_et = ensemble.ExtraTreesRegressor(n_estimators=10, random_state=33)"
   ]
  },
  {
   "cell_type": "markdown",
   "metadata": {},
   "source": [
    "#### (3) 训练与评价"
   ]
  },
  {
   "cell_type": "code",
   "execution_count": 49,
   "metadata": {},
   "outputs": [
    {
     "name": "stdout",
     "output_type": "stream",
     "text": [
      "在训练集上，决定系数： 1.0\n",
      "使用 K-折交叉验证的 平均决定系数: 0.8325581589856377\n"
     ]
    }
   ],
   "source": [
    "train_and_evaluate(regr_et, X_train, y_train)"
   ]
  },
  {
   "cell_type": "markdown",
   "metadata": {},
   "source": [
    "#### (4) 训练集预测值可视化"
   ]
  },
  {
   "cell_type": "code",
   "execution_count": 50,
   "metadata": {},
   "outputs": [],
   "source": [
    "y_pred = regr_et.predict(X_train)"
   ]
  },
  {
   "cell_type": "code",
   "execution_count": 51,
   "metadata": {},
   "outputs": [
    {
     "data": {
      "image/png": "[encoded data removed]",
      "text/plain": [
       "<Figure size 432x288 with 1 Axes>"
      ]
     },
     "metadata": {
      "needs_background": "light"
     },
     "output_type": "display_data"
    }
   ],
   "source": [
    "visualization_for_predict_data(y_train, y_pred, \"y_train\", \"y_pred\")"
   ]
  },
  {
   "cell_type": "markdown",
   "metadata": {},
   "source": [
    "#### (5) 效果评价\n",
    "\n",
    "\n",
    "- K-折平均分提高了一点\n",
    "- 训练集上，决定系数得到 1，表现不错，仍要小心过拟合"
   ]
  },
  {
   "cell_type": "markdown",
   "metadata": {},
   "source": [
    "#### (6) 随机森林极端树方法的边际效应\n",
    "\n",
    "\n",
    "- 关心 `regr_et` 的属性\n",
    "    - 特征重要性 —— `regr_et.feature_importances_`"
   ]
  },
  {
   "cell_type": "code",
   "execution_count": 52,
   "metadata": {},
   "outputs": [
    {
     "data": {
      "text/plain": [
       "array([0.01450924, 0.00497052, 0.01176786, 0.02613582, 0.02590561,\n",
       "       0.37727303, 0.02065788, 0.03205316, 0.03001222, 0.02867425,\n",
       "       0.06090727, 0.01415604, 0.3529771 ])"
      ]
     },
     "execution_count": 52,
     "metadata": {},
     "output_type": "execute_result"
    }
   ],
   "source": [
    "regr_et.feature_importances_"
   ]
  },
  {
   "cell_type": "code",
   "execution_count": 53,
   "metadata": {},
   "outputs": [
    {
     "name": "stdout",
     "output_type": "stream",
     "text": [
      " 决定系数    特征\n",
      "--------------------\n",
      "  0.3773     RM\n",
      "  0.3530     LSTAT\n",
      "  0.0609     PTRATIO\n",
      "  0.0321     DIS\n",
      "  0.0300     RAD\n",
      "  0.0287     TAX\n",
      "  0.0261     CHAS\n",
      "  0.0259     NOX\n",
      "  0.0207     AGE\n",
      "  0.0145     CRIM\n",
      "  0.0142     B\n",
      "  0.0118     INDUS\n",
      "  0.0050     ZN\n"
     ]
    }
   ],
   "source": [
    "# 特征重要性\n",
    "feature_importance = sorted(zip(regr_et.feature_importances_,  boston.feature_names), key=lambda x: x[0], reverse=True)\n",
    "\n",
    "print(\" 决定系数    特征\\n\" + \"-\"*20)\n",
    "[print(\"{0:8.4f}     {1}\".format(ft, importance)) for (ft, importance) in feature_importance];"
   ]
  },
  {
   "cell_type": "markdown",
   "metadata": {},
   "source": [
    "#### (7) 最重要的两个特征 —— 对房价影响最大\n",
    "\n",
    "\n",
    "- `LSTAT` —— 地区低端人口占比% （% lower status of the population）\n",
    "- `RM`  —— 每处住所的平均房间数（average number of rooms per dwelling）"
   ]
  },
  {
   "cell_type": "markdown",
   "metadata": {},
   "source": [
    "### 17.6 评价测试集"
   ]
  },
  {
   "cell_type": "markdown",
   "metadata": {},
   "source": [
    "### 17.6.1 定义性能测试函数 `measure_performance`\n",
    "\n",
    "- 调用语法\n",
    "```python\n",
    ">>> measure_performance(X, y, regr)\n",
    "```\n",
    "\n",
    "\n",
    "- 参数\n",
    "    - `X` 特征集\n",
    "    - `y` 目标集\n",
    "    - `regr` 回归器\n",
    "\n",
    "\n",
    "- 功能 —— 性能测试，并选择性输出精度、分类报告、混淆矩阵、决定系数等结果"
   ]
  },
  {
   "cell_type": "markdown",
   "metadata": {},
   "source": [
    "#### (1) 评分"
   ]
  },
  {
   "cell_type": "code",
   "execution_count": 54,
   "metadata": {},
   "outputs": [],
   "source": [
    "from sklearn import metrics\n",
    "\n",
    "def measure_performance(X, y, regr):\n",
    "    y_pred=regr.predict(X)   \n",
    "    print (\"R2-决定系数:{0:.3f}\".format(metrics.r2_score(y,y_pred)),\"\\n\")"
   ]
  },
  {
   "cell_type": "code",
   "execution_count": 55,
   "metadata": {},
   "outputs": [
    {
     "name": "stdout",
     "output_type": "stream",
     "text": [
      "R2-决定系数:0.770 \n",
      "\n"
     ]
    }
   ],
   "source": [
    "measure_performance(X_test, y_test, regr_et)"
   ]
  },
  {
   "cell_type": "markdown",
   "metadata": {},
   "source": [
    "#### (2) 可视化"
   ]
  },
  {
   "cell_type": "code",
   "execution_count": 56,
   "metadata": {},
   "outputs": [],
   "source": [
    "y_pred=regr_et.predict(X_test)"
   ]
  },
  {
   "cell_type": "code",
   "execution_count": 57,
   "metadata": {},
   "outputs": [
    {
     "data": {
      "image/png": "[encoded data removed]",
      "text/plain": [
       "<Figure size 432x288 with 1 Axes>"
      ]
     },
     "metadata": {
      "needs_background": "light"
     },
     "output_type": "display_data"
    }
   ],
   "source": [
    "visualization_for_predict_data(y_test, y_pred, \"y_test\", \"y_pred\")"
   ]
  },
  {
   "cell_type": "markdown",
   "metadata": {},
   "source": [
    "### 17.6.2 实测分析\n",
    "\n",
    "\n",
    "- 测试集的决定系数不如 K-折，也不如训练集"
   ]
  },
  {
   "cell_type": "markdown",
   "metadata": {},
   "source": [
    "### 第17讲 结束"
   ]
  },
  {
   "cell_type": "code",
   "execution_count": null,
   "metadata": {},
   "outputs": [],
   "source": []
  }
 ],
 "metadata": {
  "kernelspec": {
   "display_name": "Python 3 (ipykernel)",
   "language": "python",
   "name": "python3"
  },
  "language_info": {
   "codemirror_mode": {
    "name": "ipython",
    "version": 3
   },
   "file_extension": ".py",
   "mimetype": "text/x-python",
   "name": "python",
   "nbconvert_exporter": "python",
   "pygments_lexer": "ipython3",
   "version": "3.9.7"
  }
 },
 "nbformat": 4,
 "nbformat_minor": 1
}
