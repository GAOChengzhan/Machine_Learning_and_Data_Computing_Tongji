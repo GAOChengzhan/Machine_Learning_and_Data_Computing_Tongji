{
 "cells": [
  {
   "cell_type": "markdown",
   "metadata": {},
   "source": [
    "# 12 初识 Scikit-Learn 与机器学习\n",
    "\n",
    "\n",
    "- 官网 [https://scikit-learn.org/stable/](https://scikit-learn.org/stable/)\n",
    "\n",
    "\n",
    "- 最新发布\n",
    "    - 稳定版 scikit-learn 0.22\n",
    "    - 开发版 Scikit-learn 0.23"
   ]
  },
  {
   "cell_type": "markdown",
   "metadata": {},
   "source": [
    "### 机器学习工具\n",
    "#### 1. Shogun\n",
    "\n",
    "- SHOGUN是一个机器学习工具箱，专注于支持向量机（SVM）的学习工具箱。它是用C++编写的，早在1999年就已经创建，是最古老的机器学习工具之一，它提供了广泛的统一机器学习方法，旨在为机器学习提供透明和可访问的算法，并为任何对此领域感兴趣的人提供免费的机器学习工具。\n",
    "\n",
    "- Shogun提供了一个记录完善的Python界面用于统一的大规模学习，并提供高性能速度。不过，Shogun的缺点就是它的API很难使用。（项目地址：https://github.com/shogun-toolbox/shogun )\n",
    "\n",
    "#### 2、Keras\n",
    "\n",
    "- Keras是一个高级神经网络API，提供了一个Python深度学习库。对于任何初学者来说，这是机器学习的最佳选择，因为与其他库相比，它提供了一种更简单的表达神经网络的方法。Keras由纯Python编写而成并基Tensorflow、Theano以及CNTK后端。\n",
    "\n",
    "- 据官方网站称，Keras侧重于4个主要指导原则，即用户友好性，模块化，易扩展性和与Python协作。然而，就速度而言，Keras 相对还是比较弱的。（项目地址：https://github.com/keras-team/keras）\n",
    "\n",
    "#### 3、scikit-learn\n",
    "\n",
    "- scikit-learn 是一个 Python 的机器学习项目。是一个简单高效的数据挖掘和数据分析工具。基于 NumPy、SciPy 和 matplotlib 构建。Scikit-Learn提供了一致且易于使用的API网格以及随机搜索。其主要优势算法简单而且速度快。\n",
    "- Scikit-learn的基本功能主要被分为六大部分：分类，回归，聚类，数据降维，模型选择和数据预处理（项目地址：https://github.com/scikit-learn/scikit-learn）\n",
    "\n",
    "#### 4、Pattern\n",
    "\n",
    "- Pattern是一个Web挖掘模块，为数据挖掘，自然语言处理，机器学习，网络分析和网络分析提供工具。它还附带完善的文档，有50多个示例以及通过350多个单元测试。\n",
    "- 最重要的是，它是免费的！（项目地址：https://github.com/clips/pattern）\n",
    "\n",
    "#### 5、Theano\n",
    "\n",
    "- Theano可以说是最成熟的Python深度学习库之一，Theano是以以为希腊毕达哥拉斯哲学家和数学家毕达哥拉斯的妻子的名字命名\n",
    "- Theano的主要功能：与NumPy紧密集成，用符号式语言定义你想要的结果，该框架会对你的程序进行编译，来高效运行于 GPU 或 CPU。\n",
    "- 它还提供了定义，优化和评估数学表达式的工具，并且可以在Theano上构建大量其他库，以探索其数据结构。\n",
    "- 尽管如此，使用Theano还是有一些缺点的; 比如学习它的API可能需要很长时间，而另一些人则认为Theano大模型的编译时间显的它不够高效（项目地址：https://github.com/Theano/Theano）\n",
    "\n",
    "#### 6、Pytorch \n",
    "- PyTorch是一个开源的Python机器学习库，基于Torch，用于自然语言处理等应用程序。\n",
    "- 2017年1月，由Facebook人工智能研究院（FAIR）基于Torch推出了PyTorch。它是一个基于Python的可续计算包，提供两个高级功能：\n",
    "  - 1、具有强大的GPU加速的张量计算（如NumPy）。\n",
    "  - 2、包含自动求导系统的深度神经网络。\n",
    "\n",
    "#### 7、TensorFlow \n",
    "- 由Google创建的最受欢迎的深度学习框架。\n",
    "- TensorFlow支持多种客户端语言下的安装和运行。"
   ]
  },
  {
   "cell_type": "markdown",
   "metadata": {},
   "source": [
    "## 12.1 初识 Scikit-Learn\n",
    "\n"
   ]
  },
  {
   "cell_type": "markdown",
   "metadata": {},
   "source": [
    "### 12.1.1 Scikit-Learn 项目的由来\n",
    "\n",
    "- 发起人 —— 数据科学家 David Cournapeau\n",
    "    - 维基百科 [https://en.wikipedia.org/wiki/David_Cournapeau](https://en.wikipedia.org/wiki/David_Cournapeau)\n",
    "    - Github  [https://github.com/cournape](https://github.com/cournape) \n",
    "\n",
    "<img src=\"images/ch12/David _Cournapeau.jpg\" width=200>\n",
    "\n",
    "\n",
    "- GSoC 项目（2007年）\n",
    "    - <font color=\"red\">谷歌代码之夏（Google Summer of Code）</font>项目，谷歌组织的每年一次的竞赛活动\n",
    "\n"
   ]
  },
  {
   "cell_type": "markdown",
   "metadata": {},
   "source": [
    "### 12.1.2 Scikit-Learn 的特点\n",
    "\n",
    "参考文献：[Scikit-learn: Machine Learning in Python, Journal of Machine Learning Research 12 (2011) 2825-2830](references/pedregosa11a.pdf)\n",
    "\n",
    "\n",
    "- 程序语言 —— 与 Python 紧密集成\n",
    "- 广泛涵盖 —— 最新的机器学习算法（不断更新）\n",
    "- 适用问题 —— 中等规模的有/无监督问题\n",
    "- 适用人群 —— 具有一般需求的非专业人士，强调\n",
    "    - 易用性\n",
    "    - 高性能\n",
    "    - 良好帮助\n",
    "- 最小依赖 —— NumPy、SciPy、Matplotlib 等，部分功能依赖 Pandas 等\n",
    "- 友好开源 —— 简化版 BSD 协议（非 GNU、GPL 类协议可比）\n",
    "- 方便下载 —— 源码、二进制文件、帮助文档均可自由下载 （[http://scikit-learn.sourceforge.net](http://scikit-learn.sourceforge.net)）\n",
    "- 中文翻译 —— https://sklearn.apachecn.org/docs/0.21.3/51.html"
   ]
  },
  {
   "cell_type": "markdown",
   "metadata": {},
   "source": [
    "### 12.1.3 Scikit-Learn 算法类别\n",
    "\n",
    "- 分类 classification\n",
    "- 回归 regression\n",
    "- 聚类 clustering\n",
    "- 降维 dimensionality reduction"
   ]
  },
  {
   "cell_type": "markdown",
   "metadata": {},
   "source": [
    "<img src='images\\ch12\\ch12-01.png'>"
   ]
  },
  {
   "cell_type": "markdown",
   "metadata": {},
   "source": [
    "### 怎么判断问题归属：\n",
    "- 给定一个样本特征 , 我们希望预测其对应的属性值 , 如果属性是离散的, 那么这就是一个`分类问题`\n",
    "- 反之，如果属性是连续的实数, 这就是一个`回归问题`。\n",
    "- 如果给定一组样本特征 , 我们没有对应的属性值 , 而是想发掘这组样本在n维空间的分布, 比如分析哪些样本靠的更近，哪些样本之间离得很远, 这就是属于`聚类问题`。\n",
    "- 如果我们想用维数更低的子空间来表示原来高维的特征空间, 那么这就是`降维问题`。"
   ]
  },
  {
   "cell_type": "markdown",
   "metadata": {},
   "source": [
    "### 分类vs回归\n",
    "- 不同的只是在分类问题中,属性是离散的; 而在回归问题中属性是连续的。所以总得来说，两种问题的学习算法都很类似。\n",
    "- 所以在这个图谱上，我们看到在分类问题中用到的学习算法，在回归问题中也能使用。\n",
    "- 分类问题最常用的学习算法包括：\n",
    "    - SVM (支持向量机)\n",
    "    - SGD (随机梯度下降算法)\n",
    "    - Bayes (贝叶斯估计)\n",
    "    - Ensemble, KNN（k-NearestNeighbor，K最近邻） 等。\n",
    "- 回归问题也能使用：\n",
    "    - SVR(支持向量回归机), \n",
    "    - SGD\n",
    "    - Ensemble（集成学习） 等算法\n",
    "    - 以及其它线性回归算法。\n"
   ]
  },
  {
   "cell_type": "markdown",
   "metadata": {},
   "source": [
    "### 聚类vs分类\n",
    "-  聚类也是分析样本的属性, 有点类似classification\n",
    "- classification 在预测之前是知道属性的范围，或者说知道到底有几个类别\n",
    "- 聚类是不知道属性的范围的\n",
    "-  classification 也常常被称为 supervised learning\n",
    "- clustering就被称为unsupervised learning\n",
    "- clustering 事先不知道样本的属性范围，只能凭借样本在特征空间的分布来分析样本的属性\n",
    "- 这种问题一般更复杂。而常用的算法包括 k-means (K-均值), GMM (高斯混合模型) 等。\n"
   ]
  },
  {
   "cell_type": "markdown",
   "metadata": {},
   "source": [
    "### 降维\n",
    "- 降维是机器学习另一个重要的领域, 降维有很多重要的应用, 特征的维数过高, 会增加训练的负担与存储空间, 降维就是希望去除特征的冗余, 用更加少的维数来表示特征.\n",
    "- 降维算法最基础的就是PCA（主成分分析(Principal Component Analysis)）了, 后面的很多算法都是以PCA为基础演化而来。\n",
    "\n"
   ]
  },
  {
   "cell_type": "markdown",
   "metadata": {},
   "source": [
    "### 四种算法的案例\n",
    "- 分类\n",
    "    - 一个1000个样本的训练集，是1000张照片，里面有200张是猫，200张是狗，600张是兔子，一共分成三类。我们将每个照片向量化后，加上它的标签\n",
    "        - “猫”——“0”\n",
    "        - “狗”——“1”\n",
    "        - “兔子”——“2”\n",
    "    - 垃圾分类？\n",
    "    <img src='images\\ch12\\ch12-02.jpg' width = 400>\n",
    "    - 垃圾邮件分类：提取高频词表，是由垃圾邮件库中至少出现过100次的词构成\n",
    "    - 样根据风格、流派和艺术家将绘画作品轻松归类\n",
    "    - 根据手机信号判断人的行为模式\n",
    "    - 等等"
   ]
  },
  {
   "cell_type": "markdown",
   "metadata": {},
   "source": [
    "- 聚类\n",
    "    - 某公司发布一批新型手机，根据客户热衷度进行投放。公司市场人员收集其中四个地区用户对手机的满意程度（由两个特征决定的）。分析哪个区域对手机产品比较热衷，对应的进行市场销售工作。这里就用到k-means聚类算法。\n",
    "    - 航空公司怎么样对客户分群，区分高价值客户、无价值客户等，对不同的客户群体实施个性化的营销策略，实现利润最大化？ 对于该类情景题，可使用聚类分析方法。\n",
    "    <img src='images\\ch12\\ch12-03.jpg'>\n"
   ]
  },
  {
   "cell_type": "markdown",
   "metadata": {},
   "source": [
    "- 回归\n",
    "    - 预测股票、房价\n",
    "    - 预测第二天温度\n",
    "    - 自动驾驶，预测方向盘方向\n",
    "    - 预测购买的可能性，比如f(购买者，商品)=购买的可能性\n",
    "    <img src='images\\ch12\\ch12-04.jpg' width =500>"
   ]
  },
  {
   "cell_type": "markdown",
   "metadata": {},
   "source": [
    "## 11.2 Scikit-Learn 的安装配置\n",
    "\n",
    "- 推荐 Anaconda 环境下安装（略）"
   ]
  },
  {
   "cell_type": "markdown",
   "metadata": {},
   "source": [
    "- 检查是否安装成功？\n",
    "    - 以下代码应能正常运行，并显示版本号 0.22.1"
   ]
  },
  {
   "cell_type": "code",
   "execution_count": 1,
   "metadata": {},
   "outputs": [
    {
     "name": "stdout",
     "output_type": "stream",
     "text": [
      "scikit-learn version: 0.24.1\n"
     ]
    }
   ],
   "source": [
    "import sklearn as sk\n",
    "print ('scikit-learn version:', sk.__version__)"
   ]
  },
  {
   "cell_type": "markdown",
   "metadata": {},
   "source": [
    "- 导入配套使用的模块"
   ]
  },
  {
   "cell_type": "code",
   "execution_count": 2,
   "metadata": {},
   "outputs": [
    {
     "name": "stdout",
     "output_type": "stream",
     "text": [
      "Populating the interactive namespace from numpy and matplotlib\n",
      "IPython version: 7.8.0\n",
      "numpy version: 1.16.6\n",
      "matplotlib version: 3.1.1\n"
     ]
    }
   ],
   "source": [
    "%pylab inline\n",
    "\n",
    "import IPython\n",
    "import numpy as np\n",
    "\n",
    "import matplotlib\n",
    "import matplotlib.pyplot as plt\n",
    "\n",
    "print ('IPython version:', IPython.__version__)\n",
    "print ('numpy version:', np.__version__)\n",
    "print ('matplotlib version:', matplotlib.__version__)"
   ]
  },
  {
   "cell_type": "markdown",
   "metadata": {},
   "source": [
    "## 第12讲 结束"
   ]
  }
 ],
 "metadata": {
  "kernelspec": {
   "display_name": "Python 3",
   "language": "python",
   "name": "python3"
  },
  "language_info": {
   "codemirror_mode": {
    "name": "ipython",
    "version": 3
   },
   "file_extension": ".py",
   "mimetype": "text/x-python",
   "name": "python",
   "nbconvert_exporter": "python",
   "pygments_lexer": "ipython3",
   "version": "3.7.4"
  }
 },
 "nbformat": 4,
 "nbformat_minor": 1
}
